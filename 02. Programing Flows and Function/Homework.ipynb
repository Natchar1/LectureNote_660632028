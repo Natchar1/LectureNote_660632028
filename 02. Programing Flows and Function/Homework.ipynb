{
 "cells": [
  {
   "cell_type": "markdown",
   "source": [
    "## Task1\n",
    "In a program, Students have to input their information to check what type of him.\n",
    "\n",
    "The system will ask for student type which can be ‘f’ for full time student and ‘p’ for part-time student.\n",
    "\n",
    "If the gpa is greater than 2.00 and his age is more than 23 then the application will return “you are adult”\n",
    "\n",
    "If the gpa is less than 2 , the application will check that the student is a part time student or the age is more than 23, if it is, the application will return “you need more time to prepare yourselves” otherwise it will return “Good luck in your study”)"
   ],
   "metadata": {
    "collapsed": false
   }
  },
  {
   "cell_type": "code",
   "execution_count": 1,
   "outputs": [
    {
     "ename": "ValueError",
     "evalue": "could not convert string to float: ''",
     "output_type": "error",
     "traceback": [
      "\u001B[0;31m---------------------------------------------------------------------------\u001B[0m",
      "\u001B[0;31mValueError\u001B[0m                                Traceback (most recent call last)",
      "Cell \u001B[0;32mIn[1], line 2\u001B[0m\n\u001B[1;32m      1\u001B[0m studentType \u001B[38;5;241m=\u001B[39m \u001B[38;5;28minput\u001B[39m(\u001B[38;5;124m\"\u001B[39m\u001B[38;5;124mPlease input student type: \u001B[39m\u001B[38;5;124m\"\u001B[39m)\n\u001B[0;32m----> 2\u001B[0m gpa \u001B[38;5;241m=\u001B[39m \u001B[38;5;28;43mfloat\u001B[39;49m\u001B[43m(\u001B[49m\u001B[38;5;28;43minput\u001B[39;49m\u001B[43m(\u001B[49m\u001B[38;5;124;43m\"\u001B[39;49m\u001B[38;5;124;43mPlease input gpa: \u001B[39;49m\u001B[38;5;124;43m\"\u001B[39;49m\u001B[43m)\u001B[49m\u001B[43m)\u001B[49m\n\u001B[1;32m      3\u001B[0m age \u001B[38;5;241m=\u001B[39m \u001B[38;5;28mint\u001B[39m(\u001B[38;5;28minput\u001B[39m(\u001B[38;5;124m\"\u001B[39m\u001B[38;5;124mPlease input age: \u001B[39m\u001B[38;5;124m\"\u001B[39m))\n\u001B[1;32m      4\u001B[0m \u001B[38;5;28;01mif\u001B[39;00m gpa \u001B[38;5;241m>\u001B[39m \u001B[38;5;241m2.0\u001B[39m:\n",
      "\u001B[0;31mValueError\u001B[0m: could not convert string to float: ''"
     ]
    }
   ],
   "source": [
    "\n"
   ],
   "metadata": {
    "collapsed": false,
    "ExecuteTime": {
     "end_time": "2023-07-03T01:01:56.901747Z",
     "start_time": "2023-07-03T01:01:47.453779Z"
    }
   }
  },
  {
   "cell_type": "markdown",
   "source": [
    "## Task2\n",
    "\n",
    "Write a program that performs a plus-one cipher.\n",
    "\n",
    "Example:\n",
    "\n",
    "> <span style=\"color: SkyBlue\">Please enter a string: </span><span style=\"color:Red\"><b>ABC</b></span>\n",
    ">\n",
    "> <span style=\"color:SkyBlue\">The plus one cipher is <b>BCD</b></span>\n",
    "\n",
    "**Hint**\n",
    "\n",
    "The string can be concatenated by \"+\" symbol\n",
    "\n",
    "```python\n",
    "output = 'x' + 'y'\n",
    "print(output)\n",
    "```\n",
    "\n",
    "\n"
   ],
   "metadata": {
    "collapsed": false
   }
  },
  {
   "cell_type": "code",
   "execution_count": null,
   "outputs": [],
   "source": [],
   "metadata": {
    "collapsed": false
   }
  },
  {
   "cell_type": "markdown",
   "source": [],
   "metadata": {
    "collapsed": false
   }
  },
  {
   "cell_type": "code",
   "execution_count": null,
   "outputs": [],
   "source": [
    "## Task 3\n",
    "\n",
    "In a digital circuit, the number is only “0” or “1”. When we add, if we add without carry-on digit. It is the half adder, the half adder receives two digit value and returns the output (s as a sum bit), and c the carry-on (c as carry-on bit) from the adder. the block diagram of the half-adder as given\n",
    "\n",
    "![download (7)](./assets/download(7).png)\n",
    "\n",
    "Making half adder circuit that can find the result of the summation of two digits using logic gates (AND, OR, NOT, NOR, NAND, XOR)\n",
    "\n",
    "**Hint**\n",
    "\n",
    "1. create the function which receives two digit value, and return the output of each logic gate AND, OR, and NOT\n",
    "2. NOR and NAND is the not Or, and Not And. So you can create the functions from AND, OR, NOT function\n",
    "3. using the methods to create a new half-adder functions The half adder is created using this circuit\n",
    "4. as there are two outputs, two functions are required, one for sum bit output, and the other for carry-on bit output\n",
    "\n",
    "![download (8)](./assets/download(8).png)\n",
    "\n"
   ],
   "metadata": {
    "collapsed": false
   }
  },
  {
   "cell_type": "markdown",
   "source": [
    "## Task 4\n",
    "\n",
    "from the half adder function, create the full adder. The full adder is to added to data, wit the carry in input. the block diagram is shown as given\n",
    "\n",
    "![download (9)](./assets/download(9).png)\n",
    "\n"
   ],
   "metadata": {
    "collapsed": false
   }
  },
  {
   "cell_type": "markdown",
   "source": [
    "## Task 5: Duplicate words in a sentence\n",
    "\n",
    "Write a program that accepts a sequence of whitespace-separated words as input and prints them after removing all duplicate words and sorting them alphabetically.\n",
    "\n",
    "Suppose the following input is supplied to the program:\n",
    "\n",
    "> Hello world, and practice make perfect, and hello world again.\n",
    "\n",
    "Then the output should be:\n",
    "\n",
    "> again and hello makes perfect practice world\n",
    "\n",
    "\n",
    "\n"
   ],
   "metadata": {
    "collapsed": false
   }
  },
  {
   "cell_type": "markdown",
   "source": [
    "## Task 6: Find 4-digits-binary that is divisible by 5\n",
    "\n",
    "Write a program that accepts a sequence of comma-separated 4-digit binary numbers as its input and then check whether they are divisible by 5. The numbers divisible by 5 are to be printed in a comma-separated sequence.\n",
    "\n",
    "Example:\n",
    "\n",
    "> 0100,0011,1010,1001\n",
    "\n",
    "Then the output should be\n",
    "\n",
    "> 1010"
   ],
   "metadata": {
    "collapsed": false
   }
  },
  {
   "cell_type": "markdown",
   "source": [
    "## Task 7: Number Value\n",
    "\n",
    "Write a program that computes the value of `a+aa+aaa+aaaa` with a given digit as the value of a\n",
    "\n",
    "Support the following input is supplied to the program, for example\n",
    "\n",
    "> input 9\n",
    "\n",
    "Then the output should be\n",
    "\n",
    "> 11106\n",
    "\n"
   ],
   "metadata": {
    "collapsed": false
   }
  },
  {
   "cell_type": "markdown",
   "source": [
    "## Task 8: Palindrome\n",
    "\n",
    "Write a program to generate the shortest palindrome word (e.g. DAD, AVOVA) in a given word.\n",
    "\n",
    "Example\n",
    "\n",
    "Input: ABCD\n",
    "\n",
    "Output: ABCDCBA\n",
    "\n",
    "Input: CAC\n",
    "\n",
    "Output: CAC\n",
    "\n",
    "Input: HELLO\n",
    "\n",
    "Output: HELLOLLEH\n",
    "\n",
    "Input: ABCDEDC\n",
    "\n",
    "Output: ABCDEDCBA"
   ],
   "metadata": {
    "collapsed": false
   }
  }
 ],
 "metadata": {
  "kernelspec": {
   "display_name": "Python 3",
   "language": "python",
   "name": "python3"
  },
  "language_info": {
   "codemirror_mode": {
    "name": "ipython",
    "version": 2
   },
   "file_extension": ".py",
   "mimetype": "text/x-python",
   "name": "python",
   "nbconvert_exporter": "python",
   "pygments_lexer": "ipython2",
   "version": "2.7.6"
  }
 },
 "nbformat": 4,
 "nbformat_minor": 0
}
