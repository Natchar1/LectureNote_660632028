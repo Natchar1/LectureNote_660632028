{
 "cells": [
  {
   "cell_type": "markdown",
   "source": [
    "## Task1\n",
    "In a program, Students have to input their information to check what type of him.\n",
    "\n",
    "The system will ask for student type which can be ‘f’ for full time student and ‘p’ for part-time student.\n",
    "\n",
    "If the gpa is greater than 2.00 and his age is more than 23 then the application will return “you are adult”\n",
    "\n",
    "If the gpa is less than 2 , the application will check that the student is a part time student or the age is more than 23, if it is, the application will return “you need more time to prepare yourselves” otherwise it will return “Good luck in your study”)"
   ],
   "metadata": {
    "collapsed": false
   }
  },
  {
   "cell_type": "code",
   "execution_count": 1,
   "outputs": [
    {
     "name": "stdout",
     "output_type": "stream",
     "text": [
      "You are adult.\n"
     ]
    }
   ],
   "source": [
    "def check_student_status(student_type, gpa, age):\n",
    "    if gpa > 2.00 and age > 23:\n",
    "        return \"You are adult.\"\n",
    "    elif gpa < 2:\n",
    "        if student_type == 'p' or age > 23:\n",
    "            return \"You need more time to prepare yourselves.\"\n",
    "        else:\n",
    "            return \"Good luck in your study.\"\n",
    "    else:\n",
    "        return \"Keep up the good work!\"\n",
    "\n",
    "def main():\n",
    "    student_type = input(\"Are you a full-time ('f') or part-time ('p') student? \")\n",
    "    try:\n",
    "        gpa = float(input(\"Enter your GPA: \"))\n",
    "        age = int(input(\"Enter your age: \"))\n",
    "        result = check_student_status(student_type, gpa, age)\n",
    "        print(result)\n",
    "    except ValueError:\n",
    "        print(\"Invalid input! Please enter a valid number for GPA and age.\")\n",
    "\n",
    "if __name__ == \"__main__\":\n",
    "    main()\n",
    "\n"
   ],
   "metadata": {
    "collapsed": false,
    "ExecuteTime": {
     "end_time": "2023-10-29T14:08:27.463224500Z",
     "start_time": "2023-10-29T14:08:16.862071800Z"
    }
   }
  },
  {
   "cell_type": "markdown",
   "source": [
    "## Task2\n",
    "\n",
    "Write a program that performs a plus-one cipher.\n",
    "\n",
    "Example:\n",
    "\n",
    "> <span style=\"color: SkyBlue\">Please enter a string: </span><span style=\"color:Red\"><b>ABC</b></span>\n",
    ">\n",
    "> <span style=\"color:SkyBlue\">The plus one cipher is <b>BCD</b></span>\n",
    "\n",
    "**Hint**\n",
    "\n",
    "The string can be concatenated by \"+\" symbol\n",
    "\n",
    "```python\n",
    "output = 'x' + 'y'\n",
    "print(output)\n",
    "```\n",
    "\n",
    "\n"
   ],
   "metadata": {
    "collapsed": false
   }
  },
  {
   "cell_type": "code",
   "execution_count": 2,
   "outputs": [
    {
     "name": "stdout",
     "output_type": "stream",
     "text": [
      "The plus one cipher is tbetbetb\n"
     ]
    }
   ],
   "source": [
    "def plus_one_cipher(input_string):\n",
    "    result = ''\n",
    "    for char in input_string:\n",
    "        if char.isalpha():\n",
    "            if char == 'Z':\n",
    "                result += 'A'\n",
    "            elif char == 'z':\n",
    "                result += 'a'\n",
    "            else:\n",
    "                result += chr(ord(char) + 1)\n",
    "        else:\n",
    "            result += char\n",
    "    return result\n",
    "\n",
    "def main():\n",
    "    user_input = input(\"Please enter a string: \")\n",
    "    encrypted_string = plus_one_cipher(user_input)\n",
    "    print(\"The plus one cipher is\", encrypted_string)\n",
    "\n",
    "if __name__ == \"__main__\":\n",
    "    main()\n"
   ],
   "metadata": {
    "collapsed": false,
    "ExecuteTime": {
     "end_time": "2023-10-29T14:09:16.394672600Z",
     "start_time": "2023-10-29T14:09:12.135021Z"
    }
   }
  },
  {
   "cell_type": "markdown",
   "source": [],
   "metadata": {
    "collapsed": false
   }
  },
  {
   "cell_type": "code",
   "execution_count": 4,
   "outputs": [
    {
     "ename": "SyntaxError",
     "evalue": "invalid character '“' (U+201C) (3813506584.py, line 3)",
     "output_type": "error",
     "traceback": [
      "\u001B[1;36m  Cell \u001B[1;32mIn[4], line 3\u001B[1;36m\u001B[0m\n\u001B[1;33m    In a digital circuit, the number is only “0” or “1”. When we add, if we add without carry-on digit. It is the half adder, the half adder receives two digit value and returns the output (s as a sum bit), and c the carry-on (c as carry-on bit) from the adder. the block diagram of the half-adder as given\u001B[0m\n\u001B[1;37m                                             ^\u001B[0m\n\u001B[1;31mSyntaxError\u001B[0m\u001B[1;31m:\u001B[0m invalid character '“' (U+201C)\n"
     ]
    }
   ],
   "source": [
    "## Task 3\n",
    "\n",
    "In a digital circuit, the number is only “0” or “1”. When we add, if we add without carry-on digit. It is the half adder, the half adder receives two digit value and returns the output (s as a sum bit), and c the carry-on (c as carry-on bit) from the adder. the block diagram of the half-adder as given\n",
    "\n",
    "![download (7)](./assets/download(7).png)\n",
    "\n",
    "Making half adder circuit that can find the result of the summation of two digits using logic gates (AND, OR, NOT, NOR, NAND, XOR)\n",
    "\n",
    "**Hint**\n",
    "\n",
    "1. create the function which receives two digit value, and return the output of each logic gate AND, OR, and NOT\n",
    "2. NOR and NAND is the not Or, and Not And. So you can create the functions from AND, OR, NOT function\n",
    "3. using the methods to create a new half-adder functions The half adder is created using this circuit\n",
    "4. as there are two outputs, two functions are required, one for sum bit output, and the other for carry-on bit output\n",
    "\n",
    "![download (8)](./assets/download(8).png)"
   ],
   "metadata": {
    "collapsed": false,
    "ExecuteTime": {
     "end_time": "2023-10-29T14:09:47.221018800Z",
     "start_time": "2023-10-29T14:09:47.211505500Z"
    }
   }
  },
  {
   "cell_type": "markdown",
   "source": [
    "## Task 4\n",
    "\n",
    "from the half adder function, create the full adder. The full adder is to added to data, wit the carry in input. the block diagram is shown as given\n",
    "\n",
    "![download (9)](./assets/download(9).png)\n",
    "\n"
   ],
   "metadata": {
    "collapsed": false
   }
  },
  {
   "cell_type": "markdown",
   "source": [
    "## Task 5: Duplicate words in a sentence\n",
    "\n",
    "Write a program that accepts a sequence of whitespace-separated words as input and prints them after removing all duplicate words and sorting them alphabetically.\n",
    "\n",
    "Suppose the following input is supplied to the program:\n",
    "\n",
    "> Hello world, and practice make perfect, and hello world again.\n",
    "\n",
    "Then the output should be:\n",
    "\n",
    "> again and hello makes perfect practice world\n",
    "\n",
    "\n",
    "\n"
   ],
   "metadata": {
    "collapsed": false
   }
  },
  {
   "cell_type": "code",
   "execution_count": 5,
   "outputs": [
    {
     "name": "stdout",
     "output_type": "stream",
     "text": [
      "ascas\n"
     ]
    }
   ],
   "source": [
    "import string\n",
    "\n",
    "def process_text(input_text):\n",
    "    # Removing punctuation and converting to lowercase\n",
    "    translator = str.maketrans(\"\", \"\", string.punctuation)\n",
    "    cleaned_text = input_text.translate(translator).lower()\n",
    "\n",
    "    # Splitting the text into words, removing duplicates by converting to a set, and sorting\n",
    "    words = sorted(set(cleaned_text.split()))\n",
    "\n",
    "    # Joining the sorted words into a string and returning\n",
    "    return ' '.join(words)\n",
    "\n",
    "def main():\n",
    "    user_input = input(\"Please enter a sequence of words: \")\n",
    "    result = process_text(user_input)\n",
    "    print(result)\n",
    "\n",
    "if __name__ == \"__main__\":\n",
    "    main()\n"
   ],
   "metadata": {
    "collapsed": false,
    "ExecuteTime": {
     "end_time": "2023-10-29T14:10:25.140052600Z",
     "start_time": "2023-10-29T14:10:21.899209200Z"
    }
   }
  },
  {
   "cell_type": "markdown",
   "source": [
    "## Task 6: Find 4-digits-binary that is divisible by 5\n",
    "\n",
    "Write a program that accepts a sequence of comma-separated 4-digit binary numbers as its input and then check whether they are divisible by 5. The numbers divisible by 5 are to be printed in a comma-separated sequence.\n",
    "\n",
    "Example:\n",
    "\n",
    "> 0100,0011,1010,1001\n",
    "\n",
    "Then the output should be\n",
    "\n",
    "> 1010"
   ],
   "metadata": {
    "collapsed": false
   }
  },
  {
   "cell_type": "code",
   "execution_count": 7,
   "outputs": [
    {
     "name": "stdout",
     "output_type": "stream",
     "text": [
      "0000,1010\n"
     ]
    }
   ],
   "source": [
    "def binary_to_decimal(binary_string):\n",
    "    return int(binary_string, 2)\n",
    "\n",
    "def main():\n",
    "    user_input = input(\"Please enter a sequence of comma-separated 4-digit binary numbers: \")\n",
    "    binary_numbers = user_input.split(',')\n",
    "\n",
    "    divisible_by_5 = [num for num in binary_numbers if binary_to_decimal(num) % 5 == 0]\n",
    "\n",
    "    print(','.join(divisible_by_5))\n",
    "\n",
    "if __name__ == \"__main__\":\n",
    "    main()\n"
   ],
   "metadata": {
    "collapsed": false,
    "ExecuteTime": {
     "end_time": "2023-10-29T14:11:57.213858600Z",
     "start_time": "2023-10-29T14:11:47.348822700Z"
    }
   }
  },
  {
   "cell_type": "markdown",
   "source": [
    "## Task 7: Number Value\n",
    "\n",
    "Write a program that computes the value of `a+aa+aaa+aaaa` with a given digit as the value of a\n",
    "\n",
    "Support the following input is supplied to the program, for example\n",
    "\n",
    "> input 9\n",
    "\n",
    "Then the output should be\n",
    "\n",
    "> 11106\n",
    "\n"
   ],
   "metadata": {
    "collapsed": false
   }
  },
  {
   "cell_type": "code",
   "execution_count": 9,
   "outputs": [
    {
     "name": "stdout",
     "output_type": "stream",
     "text": [
      "9872\n"
     ]
    }
   ],
   "source": [
    "def compute_expression(a):\n",
    "    a1 = int(\"%s\" % a)\n",
    "    a2 = int(\"%s%s\" % (a, a))\n",
    "    a3 = int(\"%s%s%s\" % (a, a, a))\n",
    "    a4 = int(\"%s%s%s%s\" % (a, a, a, a))\n",
    "    return a1 + a2 + a3 + a4\n",
    "\n",
    "def main():\n",
    "    a = input(\"Enter a single digit: \")\n",
    "    if len(a) == 1 and a.isdigit():\n",
    "        result = compute_expression(a)\n",
    "        print(result)\n",
    "    else:\n",
    "        print(\"Invalid input! Please enter a single digit.\")\n",
    "\n",
    "if __name__ == \"__main__\":\n",
    "    main()\n"
   ],
   "metadata": {
    "collapsed": false,
    "ExecuteTime": {
     "end_time": "2023-10-29T14:12:59.896562Z",
     "start_time": "2023-10-29T14:12:57.415783800Z"
    }
   }
  },
  {
   "cell_type": "markdown",
   "source": [
    "## Task 8: Palindrome\n",
    "\n",
    "Write a program to generate the shortest palindrome word (e.g. DAD, AVOVA) in a given word.\n",
    "\n",
    "Example\n",
    "\n",
    "Input: ABCD\n",
    "\n",
    "Output: ABCDCBA\n",
    "\n",
    "Input: CAC\n",
    "\n",
    "Output: CAC\n",
    "\n",
    "Input: HELLO\n",
    "\n",
    "Output: HELLOLLEH\n",
    "\n",
    "Input: ABCDEDC\n",
    "\n",
    "Output: ABCDEDCBA"
   ],
   "metadata": {
    "collapsed": false
   }
  },
  {
   "cell_type": "code",
   "execution_count": 10,
   "outputs": [
    {
     "name": "stdout",
     "output_type": "stream",
     "text": [
      "Shortest Palindrome: abcdcba\n"
     ]
    }
   ],
   "source": [
    "def is_palindrome(s):\n",
    "    return s == s[::-1]\n",
    "\n",
    "def shortest_palindrome(s):\n",
    "    if is_palindrome(s):\n",
    "        return s\n",
    "\n",
    "    for i in range(1, len(s)):\n",
    "        if is_palindrome(s[i:]):\n",
    "            return s + s[:i][::-1]\n",
    "    return s + s[1:][::-1]\n",
    "\n",
    "def main():\n",
    "    word = input(\"Enter a word: \")\n",
    "    result = shortest_palindrome(word)\n",
    "    print(\"Shortest Palindrome:\", result)\n",
    "\n",
    "if __name__ == \"__main__\":\n",
    "    main()\n"
   ],
   "metadata": {
    "collapsed": false,
    "ExecuteTime": {
     "end_time": "2023-10-29T14:13:44.029627700Z",
     "start_time": "2023-10-29T14:13:40.936120400Z"
    }
   }
  },
  {
   "cell_type": "code",
   "execution_count": null,
   "outputs": [],
   "source": [],
   "metadata": {
    "collapsed": false
   }
  }
 ],
 "metadata": {
  "kernelspec": {
   "display_name": "Python 3",
   "language": "python",
   "name": "python3"
  },
  "language_info": {
   "codemirror_mode": {
    "name": "ipython",
    "version": 2
   },
   "file_extension": ".py",
   "mimetype": "text/x-python",
   "name": "python",
   "nbconvert_exporter": "python",
   "pygments_lexer": "ipython2",
   "version": "2.7.6"
  }
 },
 "nbformat": 4,
 "nbformat_minor": 0
}
