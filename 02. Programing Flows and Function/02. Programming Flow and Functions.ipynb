{
 "cells": [
  {
   "cell_type": "markdown",
   "source": [
    "# Programming Flow\n",
    "\n",
    "- The program flows from the beginning to the end\n",
    "\n",
    "- We have to think as a flow chart.\n",
    "\n",
    "  ![download (1)](./assets/download(1).png)"
   ],
   "metadata": {
    "collapsed": false
   }
  },
  {
   "cell_type": "markdown",
   "source": [
    "## Sequential Flow\n",
    "\n",
    "The program is call from one line to the other line\n",
    "\n",
    "Before writing the code\n",
    "\n",
    "What is the output of\n",
    "\n",
    "```python\n",
    "x = 2\n",
    "y = x + 2\n",
    "z = y ** 2\n",
    "\n",
    "print (z)\n",
    "```"
   ],
   "metadata": {
    "collapsed": false
   }
  },
  {
   "cell_type": "markdown",
   "source": [
    "### Task\n",
    "\n",
    "Now write the code to see the output"
   ],
   "metadata": {
    "collapsed": false
   }
  },
  {
   "cell_type": "code",
   "execution_count": 1,
   "outputs": [
    {
     "name": "stdout",
     "output_type": "stream",
     "text": [
      "16\n"
     ]
    }
   ],
   "source": [
    "x = 2\n",
    "y = x + 2\n",
    "z = y ** 2\n",
    "\n",
    "print (z)"
   ],
   "metadata": {
    "collapsed": false,
    "ExecuteTime": {
     "end_time": "2023-10-29T13:43:14.307683600Z",
     "start_time": "2023-10-29T13:43:14.288968700Z"
    }
   }
  },
  {
   "cell_type": "markdown",
   "source": [
    "## Boolean Expression\n",
    "\n",
    "- The flow of the code could be only sequenctial.\n",
    "- The decision is also required"
   ],
   "metadata": {
    "collapsed": false
   }
  },
  {
   "cell_type": "markdown",
   "source": [
    "**To make a decision** We need to make the choice\n",
    "\n",
    "> Boolean data type\n",
    "\n",
    "a data type that has one of two possible values\n",
    "\n",
    "- True\n",
    "- False\n",
    "\n",
    "Try\n",
    "\n",
    "```python\n",
    "True\n",
    "```"
   ],
   "metadata": {
    "collapsed": false
   }
  },
  {
   "cell_type": "code",
   "execution_count": 2,
   "outputs": [
    {
     "data": {
      "text/plain": "True"
     },
     "execution_count": 2,
     "metadata": {},
     "output_type": "execute_result"
    }
   ],
   "source": [
    "True"
   ],
   "metadata": {
    "collapsed": false,
    "ExecuteTime": {
     "end_time": "2023-10-29T13:43:19.781940300Z",
     "start_time": "2023-10-29T13:43:19.703238200Z"
    }
   }
  },
  {
   "cell_type": "markdown",
   "source": [
    "```python\n",
    "False\n",
    "```"
   ],
   "metadata": {
    "collapsed": false
   }
  },
  {
   "cell_type": "code",
   "execution_count": 3,
   "outputs": [
    {
     "data": {
      "text/plain": "False"
     },
     "execution_count": 3,
     "metadata": {},
     "output_type": "execute_result"
    }
   ],
   "source": [
    "False"
   ],
   "metadata": {
    "collapsed": false,
    "ExecuteTime": {
     "end_time": "2023-10-29T13:43:24.414491200Z",
     "start_time": "2023-10-29T13:43:24.351970600Z"
    }
   }
  },
  {
   "cell_type": "markdown",
   "source": [
    "## Boolean Operations\n",
    "\n",
    "The value is calculated by the comparison\n",
    "\n",
    "Using the mathematics\n",
    "\n",
    "What is the result of\n",
    "\n",
    "```python\n",
    "1 > 2\n",
    "```\n",
    "\n",
    "Then try to code"
   ],
   "metadata": {
    "collapsed": false
   }
  },
  {
   "cell_type": "code",
   "execution_count": 4,
   "outputs": [
    {
     "data": {
      "text/plain": "False"
     },
     "execution_count": 4,
     "metadata": {},
     "output_type": "execute_result"
    }
   ],
   "source": [
    "1 > 2"
   ],
   "metadata": {
    "collapsed": false,
    "ExecuteTime": {
     "end_time": "2023-10-29T13:43:29.244933600Z",
     "start_time": "2023-10-29T13:43:29.166611600Z"
    }
   }
  },
  {
   "cell_type": "markdown",
   "source": [
    "With the variable, the value which is kept in the variable is used to calculate\n",
    "\n",
    "What is the result of\n",
    "\n",
    "```\n",
    "x = 1\n",
    "y = 2\n",
    "y < x\n",
    "```\n",
    "\n",
    "Then try to code"
   ],
   "metadata": {
    "collapsed": false
   }
  },
  {
   "cell_type": "code",
   "execution_count": 5,
   "outputs": [
    {
     "data": {
      "text/plain": "False"
     },
     "execution_count": 5,
     "metadata": {},
     "output_type": "execute_result"
    }
   ],
   "source": [
    "x = 1\n",
    "y = 2\n",
    "y < x"
   ],
   "metadata": {
    "collapsed": false,
    "ExecuteTime": {
     "end_time": "2023-10-29T13:43:35.473779600Z",
     "start_time": "2023-10-29T13:43:35.442066200Z"
    }
   }
  },
  {
   "cell_type": "markdown",
   "source": [
    "### Relational Operation\n",
    "\n",
    "The mathematic operation\n",
    "\n",
    "compare the values\n",
    "\n",
    "What are these result data types?\n",
    "\n",
    "<table>\n",
    "<thead>\n",
    "<tr>\n",
    "<th style=\"text-align:center\">Operator</th>\n",
    "<th style=\"text-align:center\">Meaning</th>\n",
    "<th style=\"text-align:center\">Example</th>\n",
    "<th style=\"text-align:center\">Result</th>\n",
    "</tr>\n",
    "</thead>\n",
    "<tbody>\n",
    "<tr>\n",
    "<td style=\"text-align:center\">==</td>\n",
    "<td style=\"text-align:left\">equals</td>\n",
    "<td style=\"text-align:left\">1 + 1 == 2</td>\n",
    "<td style=\"text-align:center\"><input type=\"text\"></td>\n",
    "</tr>\n",
    "<tr>\n",
    "<td style=\"text-align:center\">!=</td>\n",
    "<td style=\"text-align:left\">does not equal</td>\n",
    "<td style=\"text-align:left\">3.2 != 2.5</td>\n",
    "<td style=\"text-align:center\"><input type=\"text\"></td>\n",
    "</tr>\n",
    "<tr>\n",
    "<td style=\"text-align:center\">&lt;</td>\n",
    "<td style=\"text-align:left\">less than</td>\n",
    "<td style=\"text-align:left\">10 &lt; 5</td>\n",
    "<td style=\"text-align:center\"><input type=\"text\"></td>\n",
    "</tr>\n",
    "<tr>\n",
    "<td style=\"text-align:center\">&gt;</td>\n",
    "<td style=\"text-align:left\">greater than</td>\n",
    "<td style=\"text-align:left\">10 &gt; 5</td>\n",
    "<td style=\"text-align:center\"><input type=\"text\"></td>\n",
    "</tr>\n",
    "<tr>\n",
    "<td style=\"text-align:center\">&lt;=</td>\n",
    "<td style=\"text-align:left\">less than or equal to</td>\n",
    "<td style=\"text-align:left\">126 &lt;= 100</td>\n",
    "<td style=\"text-align:center\"><input type=\"text\"></td>\n",
    "</tr>\n",
    "<tr>\n",
    "<td style=\"text-align:center\">&gt;=</td>\n",
    "<td style=\"text-align:left\">Greater than or equal to</td>\n",
    "<td style=\"text-align:left\">5.0 &gt;= 5.0</td>\n",
    "<td style=\"text-align:center\"><input type=\"text\"></td>\n",
    "</tr>\n",
    "</tbody>\n",
    "</table>\n",
    "\n",
    "**Then** try to write the code to see the result!!"
   ],
   "metadata": {
    "collapsed": false
   }
  },
  {
   "cell_type": "code",
   "execution_count": 7,
   "outputs": [
    {
     "data": {
      "text/plain": "True"
     },
     "execution_count": 7,
     "metadata": {},
     "output_type": "execute_result"
    }
   ],
   "source": [
    "1+1==2"
   ],
   "metadata": {
    "collapsed": false,
    "ExecuteTime": {
     "end_time": "2023-10-29T13:44:29.052530400Z",
     "start_time": "2023-10-29T13:44:28.958446900Z"
    }
   }
  },
  {
   "cell_type": "code",
   "execution_count": 8,
   "outputs": [
    {
     "data": {
      "text/plain": "True"
     },
     "execution_count": 8,
     "metadata": {},
     "output_type": "execute_result"
    }
   ],
   "source": [
    "3.2!=2.5"
   ],
   "metadata": {
    "collapsed": false,
    "ExecuteTime": {
     "end_time": "2023-10-29T13:44:39.992733100Z",
     "start_time": "2023-10-29T13:44:39.961426900Z"
    }
   }
  },
  {
   "cell_type": "code",
   "execution_count": 9,
   "outputs": [
    {
     "data": {
      "text/plain": "False"
     },
     "execution_count": 9,
     "metadata": {},
     "output_type": "execute_result"
    }
   ],
   "source": [
    "10<5"
   ],
   "metadata": {
    "collapsed": false,
    "ExecuteTime": {
     "end_time": "2023-10-29T13:44:49.172257200Z",
     "start_time": "2023-10-29T13:44:49.112860500Z"
    }
   }
  },
  {
   "cell_type": "code",
   "execution_count": 10,
   "outputs": [
    {
     "data": {
      "text/plain": "True"
     },
     "execution_count": 10,
     "metadata": {},
     "output_type": "execute_result"
    }
   ],
   "source": [
    "10>5"
   ],
   "metadata": {
    "collapsed": false,
    "ExecuteTime": {
     "end_time": "2023-10-29T13:44:58.050500500Z",
     "start_time": "2023-10-29T13:44:58.018299600Z"
    }
   }
  },
  {
   "cell_type": "code",
   "execution_count": 11,
   "outputs": [
    {
     "data": {
      "text/plain": "False"
     },
     "execution_count": 11,
     "metadata": {},
     "output_type": "execute_result"
    }
   ],
   "source": [
    "126<=100"
   ],
   "metadata": {
    "collapsed": false,
    "ExecuteTime": {
     "end_time": "2023-10-29T13:45:23.611162400Z",
     "start_time": "2023-10-29T13:45:23.576676400Z"
    }
   }
  },
  {
   "cell_type": "code",
   "execution_count": 12,
   "outputs": [
    {
     "data": {
      "text/plain": "True"
     },
     "execution_count": 12,
     "metadata": {},
     "output_type": "execute_result"
    }
   ],
   "source": [
    "5>=5.0"
   ],
   "metadata": {
    "collapsed": false,
    "ExecuteTime": {
     "end_time": "2023-10-29T13:45:33.596609800Z",
     "start_time": "2023-10-29T13:45:33.534099500Z"
    }
   }
  },
  {
   "cell_type": "markdown",
   "source": [
    "## Selective Flows\n",
    "\n",
    "Selective flow is to select which code will be executed\n",
    "\n",
    "- The boolean expression is required.\n",
    "- Help to select the **block** of code\n",
    "\n",
    "### if\n",
    "\n",
    "If will check that if the expression is true, then the code will be selected\n",
    "\n",
    "![download (3)](./assets/download(3).png)"
   ],
   "metadata": {
    "collapsed": false
   }
  },
  {
   "cell_type": "markdown",
   "source": [
    "Try to write this code and run.\n",
    "\n",
    "```python\n",
    "gpa = 3.4\n",
    "if gpa > 2.0:\n",
    "  print ('Your application is accepted.')\n",
    "```\n",
    "\n",
    "then try to change your GPA  to 1.5 and see the result"
   ],
   "metadata": {
    "collapsed": false
   }
  },
  {
   "cell_type": "code",
   "execution_count": 13,
   "outputs": [
    {
     "name": "stdout",
     "output_type": "stream",
     "text": [
      "Your application is accepted.\n"
     ]
    }
   ],
   "source": [
    "gpa = 3.4\n",
    "if gpa > 2.0:\n",
    "  print ('Your application is accepted.')"
   ],
   "metadata": {
    "collapsed": false,
    "ExecuteTime": {
     "end_time": "2023-10-29T13:45:52.891786800Z",
     "start_time": "2023-10-29T13:45:52.859890Z"
    }
   }
  },
  {
   "cell_type": "markdown",
   "source": [
    "### If-Else\n",
    "\n",
    "if/else: Execute one block of states if a certain condition is `True`\n",
    "\n",
    "and the second block statements if it is `False`\n",
    "\n",
    "Syntax:\n",
    "\n",
    "> if **condition**:\n",
    ">\n",
    "> ​\t**statements**\n",
    ">\n",
    "> else:\n",
    ">\n",
    "> ​\t**statements**\n",
    "\n",
    "Flow example as follows:\n",
    "\n",
    "![download (4)](./assets/download(4).png)\n",
    "\n",
    "Try to type the code\n",
    "\n",
    "```python\n",
    "gpa = 1.4\n",
    "if gpa > 2.0:\n",
    "  print ('Welcome to CMU University')\n",
    "else:\n",
    "  print ('Your application is denied')\n",
    "```"
   ],
   "metadata": {
    "collapsed": false
   }
  },
  {
   "cell_type": "code",
   "execution_count": 14,
   "outputs": [
    {
     "name": "stdout",
     "output_type": "stream",
     "text": [
      "Your application is denied\n"
     ]
    }
   ],
   "source": [
    "gpa = 1.4\n",
    "if gpa > 2.0:\n",
    "  print ('Welcome to CMU University')\n",
    "else:\n",
    "  print ('Your application is denied')"
   ],
   "metadata": {
    "collapsed": false,
    "ExecuteTime": {
     "end_time": "2023-10-29T13:46:05.606000900Z",
     "start_time": "2023-10-29T13:46:05.542294800Z"
    }
   }
  },
  {
   "cell_type": "markdown",
   "source": [
    "### Indentation\n",
    "\n",
    "- Group of statements\n",
    "  - Define by putting in the same indentation\n",
    "  - A set of blocks of statements that will execute under the same condition\n",
    "- With indentation\n",
    "  - The same scope executed under the previous indentation\n",
    "\n",
    "```python\n",
    "x = int(input(\"enter x:\"))\n",
    "if x > 1.5:\n",
    "  x = x *x\n",
    "  print(x)\n",
    "else:\n",
    "  x = x-x\n",
    "  print (x)\n",
    "```"
   ],
   "metadata": {
    "collapsed": false
   }
  },
  {
   "cell_type": "code",
   "execution_count": 15,
   "outputs": [
    {
     "name": "stdout",
     "output_type": "stream",
     "text": [
      "25\n"
     ]
    }
   ],
   "source": [
    "x = int(input(\"enter x:\"))\n",
    "if x > 1.5:\n",
    "  x = x *x\n",
    "  print(x)\n",
    "else:\n",
    "  x = x-x\n",
    "  print (x)"
   ],
   "metadata": {
    "collapsed": false,
    "ExecuteTime": {
     "end_time": "2023-10-29T13:46:14.541009400Z",
     "start_time": "2023-10-29T13:46:10.975703200Z"
    }
   }
  },
  {
   "cell_type": "markdown",
   "source": [
    "### If-Else-If\n",
    "\n",
    "Multiple conditions can be chained with elif (\"else if\")\n",
    "\n",
    "> if **condition**:\n",
    ">\n",
    "> ​\t**statements**\n",
    ">\n",
    "> elif **condition**:\n",
    ">\n",
    "> ​\t**statements**\n",
    ">\n",
    "> else:\n",
    ">\n",
    "> ​\t**statements**\n",
    "\n",
    "![download (5)](./assets/download(5).png)\n",
    "\n",
    "####"
   ],
   "metadata": {
    "collapsed": false
   }
  },
  {
   "cell_type": "code",
   "execution_count": null,
   "outputs": [],
   "source": [],
   "metadata": {
    "collapsed": false
   }
  },
  {
   "cell_type": "markdown",
   "source": [
    "#### Task\n",
    "\n",
    "Write a Python program that asks for the gpa and show the output regarding to the input gpa\n",
    "\n",
    "if gpa >= 3 , \"Accepted\"\n",
    "\n",
    "if 2.5 <=gpa < 3 , \"Condition Accepted\"\n",
    "\n",
    "if gpa<2.5, \"Rejected\""
   ],
   "metadata": {
    "collapsed": false
   }
  },
  {
   "cell_type": "code",
   "execution_count": 16,
   "outputs": [
    {
     "name": "stdout",
     "output_type": "stream",
     "text": [
      "Status: Accepted\n"
     ]
    }
   ],
   "source": [
    "def determine_status(gpa):\n",
    "    if gpa >= 3:\n",
    "        return \"Accepted\"\n",
    "    elif 2.5 <= gpa < 3:\n",
    "        return \"Conditionally Accepted\"\n",
    "    else:\n",
    "        return \"Rejected\"\n",
    "\n",
    "def main():\n",
    "    try:\n",
    "        gpa = float(input(\"Please enter your GPA: \"))\n",
    "        status = determine_status(gpa)\n",
    "        print(\"Status:\", status)\n",
    "    except ValueError:\n",
    "        print(\"Invalid input! Please enter a valid GPA.\")\n",
    "\n",
    "if __name__ == \"__main__\":\n",
    "    main()"
   ],
   "metadata": {
    "collapsed": false,
    "ExecuteTime": {
     "end_time": "2023-10-29T13:46:58.921419200Z",
     "start_time": "2023-10-29T13:46:54.474541Z"
    }
   }
  },
  {
   "cell_type": "markdown",
   "source": [
    "## Repetition\n",
    "\n",
    "Sometimes we need to do the same behavior until we get our expected result.\n",
    "\n",
    "That is the repetition\n",
    "\n",
    "The repetition can be done regarding the **times** or to **achieve** something"
   ],
   "metadata": {
    "collapsed": false
   }
  },
  {
   "cell_type": "markdown",
   "source": [
    "### Counting Loop\n",
    "\n",
    "for loop: Repeats a set of statements over a group of values.\n",
    "\n",
    "Syntax:\n",
    "\n",
    "for **variableName** in **groupOfValues**:\n",
    "\n",
    "​\t**statements**\n",
    "\n",
    "- We indent the statements to be repeated with tabs or spaces.\n",
    "- **variableName** gives a name to each value so that you can refer to it\n",
    "\n",
    "You can try this given code\n",
    "\n",
    "```python\n",
    "for x in range(1, 6):\n",
    "    print (x, \"squared is\", x * x)\n",
    "```"
   ],
   "metadata": {
    "collapsed": false
   }
  },
  {
   "cell_type": "code",
   "execution_count": 17,
   "outputs": [
    {
     "name": "stdout",
     "output_type": "stream",
     "text": [
      "1 squared is 1\n",
      "2 squared is 4\n",
      "3 squared is 9\n",
      "4 squared is 16\n",
      "5 squared is 25\n"
     ]
    }
   ],
   "source": [
    "for x in range(1, 6):\n",
    "    print (x, \"squared is\", x * x)"
   ],
   "metadata": {
    "collapsed": false,
    "ExecuteTime": {
     "end_time": "2023-10-29T13:47:20.372066200Z",
     "start_time": "2023-10-29T13:47:20.367187300Z"
    }
   }
  },
  {
   "cell_type": "markdown",
   "source": [
    "**What is range??**\n",
    "\n",
    "It is a function specifies a range of integers\n",
    "\n",
    "`range(start, stop)` - the integers between `start` (inclusive) and stop (exclusive)\n",
    "\n",
    "try\n",
    "\n",
    "```python\n",
    "x = range(1,6)\n",
    "print(*x)\n",
    "```"
   ],
   "metadata": {
    "collapsed": false
   }
  },
  {
   "cell_type": "code",
   "execution_count": 18,
   "outputs": [
    {
     "name": "stdout",
     "output_type": "stream",
     "text": [
      "1 2 3 4 5\n"
     ]
    }
   ],
   "source": [
    "x = range(1,6)\n",
    "print(*x)"
   ],
   "metadata": {
    "collapsed": false,
    "ExecuteTime": {
     "end_time": "2023-10-29T13:47:25.879623800Z",
     "start_time": "2023-10-29T13:47:25.863377400Z"
    }
   }
  },
  {
   "cell_type": "markdown",
   "source": [
    "It can also accept a third value specifying the change between the value\n",
    "\n",
    "```\n",
    "range(start, stop, step)` - the integers between `start` (inclusive) and `stop` (exclusive) by `step\n",
    "```"
   ],
   "metadata": {
    "collapsed": false
   }
  },
  {
   "cell_type": "markdown",
   "source": [
    "Try\n",
    "\n",
    "```python\n",
    "y = range(5,0,1)\n",
    "print (*y)\n",
    "```"
   ],
   "metadata": {
    "collapsed": false
   }
  },
  {
   "cell_type": "code",
   "execution_count": 19,
   "outputs": [
    {
     "name": "stdout",
     "output_type": "stream",
     "text": [
      "\n"
     ]
    }
   ],
   "source": [
    "y = range(5,0,1)\n",
    "print (*y)"
   ],
   "metadata": {
    "collapsed": false,
    "ExecuteTime": {
     "end_time": "2023-10-29T13:47:30.714261700Z",
     "start_time": "2023-10-29T13:47:30.698620200Z"
    }
   }
  },
  {
   "cell_type": "markdown",
   "source": [
    "### Cumulative loop\n",
    "\n",
    "Some loops incrementally compute a value that is initialized outside the loop. This is sometimes called a *cumulative sum*.\n",
    "\n",
    "What will be the output of this code\n",
    "\n",
    "```python\n",
    "sum = 0\n",
    "for i in range(1, 5):\n",
    "    sum = sum + (i * i)\n",
    "print (\"sum of first 5 squares is\", sum)\n",
    "```\n",
    "\n",
    "Then try the code"
   ],
   "metadata": {
    "collapsed": false
   }
  },
  {
   "cell_type": "code",
   "execution_count": 20,
   "outputs": [
    {
     "name": "stdout",
     "output_type": "stream",
     "text": [
      "sum of first 5 squares is 30\n"
     ]
    }
   ],
   "source": [
    "sum = 0\n",
    "for i in range(1, 5):\n",
    "    sum = sum + (i * i)\n",
    "print (\"sum of first 5 squares is\", sum)"
   ],
   "metadata": {
    "collapsed": false,
    "ExecuteTime": {
     "end_time": "2023-10-29T13:47:35.905586600Z",
     "start_time": "2023-10-29T13:47:35.889440700Z"
    }
   }
  },
  {
   "cell_type": "markdown",
   "source": [
    "### Condition Loop\n",
    "\n",
    "The loop runs until the condition is false\n",
    "\n",
    "**while** loop:\n",
    "\n",
    "- Executes a group of statements as long as a condition is True.\n",
    "  - good for *indefinite* loops (repeat an **unknown** number of times)\n",
    "\n",
    "Syntax:\n",
    "\n",
    "> while  **condition**:\n",
    ">\n",
    "> ​\t**statements**\n",
    "\n",
    "Try to calculate this by hand\n",
    "\n",
    "```python\n",
    "number = 1\n",
    "while number < 2:\n",
    "  print(number)\n",
    "  number = number *2\n",
    "```\n",
    "\n",
    "Then code"
   ],
   "metadata": {
    "collapsed": false
   }
  },
  {
   "cell_type": "code",
   "execution_count": 21,
   "outputs": [
    {
     "name": "stdout",
     "output_type": "stream",
     "text": [
      "1\n"
     ]
    }
   ],
   "source": [
    "number = 1\n",
    "while number < 2:\n",
    "  print(number)\n",
    "  number = number *2"
   ],
   "metadata": {
    "collapsed": false,
    "ExecuteTime": {
     "end_time": "2023-10-29T13:47:42.244862700Z",
     "start_time": "2023-10-29T13:47:42.229044300Z"
    }
   }
  },
  {
   "cell_type": "markdown",
   "source": [
    "### Task\n",
    "\n",
    "create an application which receive the number, and it will print the number the user input.\n",
    "\n",
    "The process will run again and again until -1 is put."
   ],
   "metadata": {
    "collapsed": false
   }
  },
  {
   "cell_type": "code",
   "execution_count": 22,
   "outputs": [
    {
     "name": "stdout",
     "output_type": "stream",
     "text": [
      "You entered: 5\n",
      "You entered: 6\n",
      "You entered: 4\n",
      "Exiting the application.\n"
     ]
    }
   ],
   "source": [
    "def main():\n",
    "    while True:\n",
    "        try:\n",
    "            number = int(input(\"Please enter a number (-1 to exit): \"))\n",
    "            if number == -1:\n",
    "                print(\"Exiting the application.\")\n",
    "                break\n",
    "            print(\"You entered:\", number)\n",
    "        except ValueError:\n",
    "            print(\"Invalid input! Please enter a valid number.\")\n",
    "\n",
    "if __name__ == \"__main__\":\n",
    "    main()\n"
   ],
   "metadata": {
    "collapsed": false,
    "ExecuteTime": {
     "end_time": "2023-10-29T13:48:28.791330100Z",
     "start_time": "2023-10-29T13:48:19.800883300Z"
    }
   }
  },
  {
   "cell_type": "markdown",
   "source": [
    "# String Data Type\n",
    "\n",
    "A sequence of text characters in a program\n",
    "\n",
    "Strings start and end with quotation mark \" or apostrophe ' characters.\n",
    "\n",
    "> \"hello\"\n",
    ">\n",
    "> \"This is a string\"\n",
    ">\n",
    "> \"This, too, is a string. It can be very long\"\n",
    "\n",
    "Then try to create strings\n",
    "\n",
    "```python\n",
    "x = \"hello\"\n",
    "x\n",
    "```"
   ],
   "metadata": {
    "collapsed": false
   }
  },
  {
   "cell_type": "code",
   "execution_count": 23,
   "outputs": [
    {
     "data": {
      "text/plain": "'hello'"
     },
     "execution_count": 23,
     "metadata": {},
     "output_type": "execute_result"
    }
   ],
   "source": [
    "x = \"hello\"\n",
    "x"
   ],
   "metadata": {
    "collapsed": false,
    "ExecuteTime": {
     "end_time": "2023-10-29T13:48:57.001321200Z",
     "start_time": "2023-10-29T13:48:56.981995100Z"
    }
   }
  },
  {
   "cell_type": "markdown",
   "source": [
    "```python\n",
    "print(x)\n",
    "```"
   ],
   "metadata": {
    "collapsed": false
   }
  },
  {
   "cell_type": "code",
   "execution_count": 24,
   "outputs": [
    {
     "name": "stdout",
     "output_type": "stream",
     "text": [
      "hello\n"
     ]
    }
   ],
   "source": [
    "print(x)"
   ],
   "metadata": {
    "collapsed": false,
    "ExecuteTime": {
     "end_time": "2023-10-29T13:49:04.884831800Z",
     "start_time": "2023-10-29T13:49:04.869744200Z"
    }
   }
  },
  {
   "cell_type": "markdown",
   "source": [
    "Try to create string\n",
    "\n",
    "```python\n",
    "\"hello 'world'\"\n",
    "```"
   ],
   "metadata": {
    "collapsed": false
   }
  },
  {
   "cell_type": "code",
   "execution_count": 25,
   "outputs": [
    {
     "data": {
      "text/plain": "\"hello 'world'\""
     },
     "execution_count": 25,
     "metadata": {},
     "output_type": "execute_result"
    }
   ],
   "source": [
    "\"hello 'world'\""
   ],
   "metadata": {
    "collapsed": false,
    "ExecuteTime": {
     "end_time": "2023-10-29T13:49:09.858163600Z",
     "start_time": "2023-10-29T13:49:09.810855100Z"
    }
   }
  },
  {
   "cell_type": "markdown",
   "source": [
    "> A string may not span across multiple lines or contain the same quote character\n",
    "\n",
    "\"This is not\n",
    "\n",
    "a legal String.\"\n",
    "\n",
    "\"This is not a \"legal\" String either.\""
   ],
   "metadata": {
    "collapsed": false
   }
  },
  {
   "cell_type": "markdown",
   "source": [
    "## Escape character\n",
    "\n",
    "Some escape characters\n",
    "\n",
    "- the character which we could see directly\n",
    "\n",
    "- `\\t` tab character\n",
    "- `\\n` newline character\n",
    "- `\\\"` quotation mark character\n",
    "- `\\\\` backslash character\n",
    "\n",
    "What do you think it will be?\n",
    "\n",
    "```\n",
    "Hello\\tthere\\nHow are you?\n",
    "```\n",
    "\n",
    "then try\n",
    "\n"
   ],
   "metadata": {
    "collapsed": false
   }
  },
  {
   "cell_type": "code",
   "execution_count": 27,
   "outputs": [
    {
     "name": "stdout",
     "output_type": "stream",
     "text": [
      "Object `you` not found.\n"
     ]
    }
   ],
   "source": [
    "Hello\\tthere\\nHow are you?"
   ],
   "metadata": {
    "collapsed": false,
    "ExecuteTime": {
     "end_time": "2023-10-29T13:49:46.645160Z",
     "start_time": "2023-10-29T13:49:46.582977700Z"
    }
   }
  },
  {
   "cell_type": "markdown",
   "source": [
    "How about creating a character which will show\n",
    "\n",
    "' This is the\n",
    "\n",
    "test of the escape character, which will show '\"\n",
    "\n",
    "and the \\t '"
   ],
   "metadata": {
    "collapsed": false
   }
  },
  {
   "cell_type": "code",
   "execution_count": null,
   "outputs": [],
   "source": [],
   "metadata": {
    "collapsed": false
   }
  },
  {
   "cell_type": "markdown",
   "source": [
    "However, we can use `'''` to wrap around the text which contain an escape character. try\n",
    "\n",
    "```python\n",
    "ex = '''\n",
    "This is\n",
    "a book\n",
    "name y\n",
    "'''\n",
    "print(ex)\n",
    "```\n",
    "\n",
    "check the content in side\n",
    "\n",
    "```python\n",
    "ex\n",
    "```"
   ],
   "metadata": {
    "collapsed": false
   }
  },
  {
   "cell_type": "code",
   "execution_count": 28,
   "outputs": [
    {
     "name": "stdout",
     "output_type": "stream",
     "text": [
      "\n",
      "This is\n",
      "a book\n",
      "name y\n",
      "\n"
     ]
    }
   ],
   "source": [
    "ex = '''\n",
    "This is\n",
    "a book\n",
    "name y\n",
    "'''\n",
    "print(ex)"
   ],
   "metadata": {
    "collapsed": false,
    "ExecuteTime": {
     "end_time": "2023-10-29T13:50:08.451168Z",
     "start_time": "2023-10-29T13:50:08.435429700Z"
    }
   }
  },
  {
   "cell_type": "markdown",
   "source": [
    "The string is the sequence of character\n",
    "\n",
    "aka **Array** of character\n",
    "\n",
    "for example:\n",
    "\n",
    "```python\n",
    "name = \"P. Diddy\"\n",
    "```"
   ],
   "metadata": {
    "collapsed": false
   }
  },
  {
   "cell_type": "code",
   "execution_count": 29,
   "outputs": [],
   "source": [
    "name = \"P. Diddy\""
   ],
   "metadata": {
    "collapsed": false,
    "ExecuteTime": {
     "end_time": "2023-10-29T13:50:17.971774700Z",
     "start_time": "2023-10-29T13:50:17.955949900Z"
    }
   }
  },
  {
   "cell_type": "markdown",
   "source": [],
   "metadata": {
    "collapsed": false
   }
  },
  {
   "cell_type": "markdown",
   "source": [
    "| index     | 0 | 1 | 2 | 3 | 4 | 5 | 6 | 7 |\n",
    "|-----------|---|---|---|---|---|---|---|---|\n",
    "| character | P | . |   | D | i | d | d | y |\n",
    "\n",
    "> To access the individual character of a string\n",
    ">\n",
    "> ​\t\t**variableName** [**index**]\n",
    "\n",
    "try\n",
    "\n",
    "```python\n",
    "print(name, \"starts with\", name[0])\n",
    "```"
   ],
   "metadata": {
    "collapsed": false
   }
  },
  {
   "cell_type": "code",
   "execution_count": 30,
   "outputs": [
    {
     "name": "stdout",
     "output_type": "stream",
     "text": [
      "P. Diddy starts with P\n"
     ]
    }
   ],
   "source": [
    "print(name, \"starts with\", name[0])"
   ],
   "metadata": {
    "collapsed": false,
    "ExecuteTime": {
     "end_time": "2023-10-29T13:50:27.039954800Z",
     "start_time": "2023-10-29T13:50:27.024308600Z"
    }
   }
  },
  {
   "cell_type": "markdown",
   "source": [
    "What if I want to show `i`,\n",
    "\n",
    "write the code to show i in the name"
   ],
   "metadata": {
    "collapsed": false
   }
  },
  {
   "cell_type": "code",
   "execution_count": 31,
   "outputs": [
    {
     "name": "stdout",
     "output_type": "stream",
     "text": [
      "P. Diddy starts with i\n"
     ]
    }
   ],
   "source": [
    "print(name, \"starts with\", name[4])"
   ],
   "metadata": {
    "collapsed": false,
    "ExecuteTime": {
     "end_time": "2023-10-29T13:51:30.508793100Z",
     "start_time": "2023-10-29T13:51:30.446239300Z"
    }
   }
  },
  {
   "cell_type": "markdown",
   "source": [
    "## String properties\n",
    "\n",
    "There are functions and string functions that can get some data or manipulate the string"
   ],
   "metadata": {
    "collapsed": false
   }
  },
  {
   "cell_type": "markdown",
   "source": [
    "### General function\n",
    "\n",
    "The function which has been created (mainly by the Python creator, or other programmers) which returns something\n",
    "\n",
    "`len` function\n",
    "\n",
    "search for the description?"
   ],
   "metadata": {
    "collapsed": false
   }
  },
  {
   "cell_type": "code",
   "execution_count": null,
   "outputs": [],
   "source": [],
   "metadata": {
    "collapsed": false
   }
  },
  {
   "cell_type": "markdown",
   "source": [
    "### Object functions\n",
    "\n",
    "Some python variables are objects.\n",
    "\n",
    "The object contains it's group of data\n",
    "\n",
    "and also its own function (in this case, mostly call as methods)\n",
    "\n",
    "> the format of usage is\n",
    "\n",
    "\n",
    "> variable_name.function_name(input variable if any)\n",
    "\n",
    "check\n",
    "\n",
    "String function\n",
    "\n",
    "- `lower()`\n",
    "- `upper()`\n",
    "\n",
    "Try the code\n",
    "\n",
    "```python\n",
    "name = \"Pita KK\"\n",
    "length = len(name)\n",
    "big_name = name.upper()\n",
    "print(big_name,\"has\",length,\"characters\")\n",
    "```"
   ],
   "metadata": {
    "collapsed": false
   }
  },
  {
   "cell_type": "code",
   "execution_count": 32,
   "outputs": [
    {
     "name": "stdout",
     "output_type": "stream",
     "text": [
      "PITA KK has 7 characters\n"
     ]
    }
   ],
   "source": [
    "name = \"Pita KK\"\n",
    "length = len(name)\n",
    "big_name = name.upper()\n",
    "print(big_name,\"has\",length,\"characters\")"
   ],
   "metadata": {
    "collapsed": false,
    "ExecuteTime": {
     "end_time": "2023-10-29T13:51:57.608036500Z",
     "start_time": "2023-10-29T13:51:57.545174800Z"
    }
   }
  },
  {
   "cell_type": "markdown",
   "source": [
    "## Text Processing\n",
    "\n",
    "- Examining, editing, and formatting text.\n",
    "- Often uses loops that examine the characters of a string one by one\n",
    "\n",
    "> A for loop can examine each character in a string in sequence.\n",
    "\n",
    "```python\n",
    "for c in \"booyah\":\n",
    "  print (c)\n",
    "```"
   ],
   "metadata": {
    "collapsed": false
   }
  },
  {
   "cell_type": "code",
   "execution_count": 33,
   "outputs": [
    {
     "name": "stdout",
     "output_type": "stream",
     "text": [
      "b\n",
      "o\n",
      "o\n",
      "y\n",
      "a\n",
      "h\n"
     ]
    }
   ],
   "source": [
    "for c in \"booyah\":\n",
    "  print (c)"
   ],
   "metadata": {
    "collapsed": false,
    "ExecuteTime": {
     "end_time": "2023-10-29T13:52:04.508498400Z",
     "start_time": "2023-10-29T13:52:04.477212100Z"
    }
   }
  },
  {
   "cell_type": "markdown",
   "source": [
    "## ASCII Table\n",
    "\n",
    "all data is mapped to a number\n",
    "\n",
    "- The computer does not save the character as the character\n",
    "- It saves as a number\n",
    "- Encode the data\n",
    "\n",
    "Then decode the number to the value"
   ],
   "metadata": {
    "collapsed": false
   }
  },
  {
   "cell_type": "markdown",
   "source": [
    "One of the most famous character encoders is ASCII\n",
    "\n",
    "> American Standard Code for Information Interchange\n",
    "\n",
    "- first published on 1963\n",
    "- the latest version is 1986"
   ],
   "metadata": {
    "collapsed": false
   }
  },
  {
   "cell_type": "markdown",
   "source": [
    "![File:ASCII-Table-wide.svg](./assets/800px-ASCII-Table-wide.svg.png)"
   ],
   "metadata": {
    "collapsed": false
   }
  },
  {
   "cell_type": "markdown",
   "source": [
    "## String and number\n",
    "\n",
    "Search for\n",
    "\n",
    "> function `ord(text)`\n",
    ">\n",
    "> Example: `ord(\"a\") is 97, ord(\"b\") is 98, ...`\n",
    "\n",
    "- Characters map to numbers using standardized mappings such as ASCII and Unicode\n",
    "\n",
    "Search for\n",
    "\n",
    "> function `chr(number)`\n",
    "\n",
    "```python\n",
    "chr(99) is \"c\"\n",
    "```\n",
    "###"
   ],
   "metadata": {
    "collapsed": false
   }
  },
  {
   "cell_type": "markdown",
   "source": [
    "### Task\n",
    "\n",
    "Write a program to print A to Z\n",
    "\n",
    "try to minimize your code as much as possible"
   ],
   "metadata": {
    "collapsed": false
   }
  },
  {
   "cell_type": "code",
   "execution_count": 34,
   "outputs": [
    {
     "name": "stdout",
     "output_type": "stream",
     "text": [
      "A B C D E F G H I J K L M N O P Q R S T U V W X Y Z\n"
     ]
    }
   ],
   "source": [
    "print(' '.join(chr(i) for i in range(65, 91)))"
   ],
   "metadata": {
    "collapsed": false,
    "ExecuteTime": {
     "end_time": "2023-10-29T13:52:48.965134700Z",
     "start_time": "2023-10-29T13:52:48.953330900Z"
    }
   }
  },
  {
   "cell_type": "markdown",
   "source": [
    "# Function\n",
    "\n",
    "Putting a code into a set of call\n",
    "\n",
    "- may required parameter\n",
    "- return only one values\n",
    "  - can be a single value\n",
    "  - object values\n",
    "\n",
    "```python\n",
    "print(\"h\",\"y\",\"z\")\n",
    "```"
   ],
   "metadata": {
    "collapsed": false
   }
  },
  {
   "cell_type": "code",
   "execution_count": 35,
   "outputs": [
    {
     "name": "stdout",
     "output_type": "stream",
     "text": [
      "h y z\n"
     ]
    }
   ],
   "source": [
    "print(\"h\",\"y\",\"z\")"
   ],
   "metadata": {
    "collapsed": false,
    "ExecuteTime": {
     "end_time": "2023-10-29T13:52:59.672253700Z",
     "start_time": "2023-10-29T13:52:59.610360700Z"
    }
   }
  },
  {
   "cell_type": "markdown",
   "source": [
    "## Encapsulating code with functions\n",
    "\n",
    "Functions are useful for gathering similar pieces of code in one place. Consider the following mathematical function.\n",
    "$$\n",
    "x \\rightarrow f(x):= 2x + 1\n",
    "$$\n",
    "The Python equivalent is as follows:\n",
    "\n",
    "```python\n",
    "def f(x):\n",
    "  return 2*x + 1\n",
    "```"
   ],
   "metadata": {
    "collapsed": false
   }
  },
  {
   "cell_type": "code",
   "execution_count": 36,
   "outputs": [],
   "source": [
    "def f(x):\n",
    "  return 2*x + 1"
   ],
   "metadata": {
    "collapsed": false,
    "ExecuteTime": {
     "end_time": "2023-10-29T13:53:06.277965200Z",
     "start_time": "2023-10-29T13:53:06.246708300Z"
    }
   }
  },
  {
   "cell_type": "markdown",
   "source": [
    "```python\n",
    "f(2)\n",
    "f(1)\n",
    "```"
   ],
   "metadata": {
    "collapsed": false
   }
  },
  {
   "cell_type": "code",
   "execution_count": 37,
   "outputs": [
    {
     "data": {
      "text/plain": "3"
     },
     "execution_count": 37,
     "metadata": {},
     "output_type": "execute_result"
    }
   ],
   "source": [
    "f(2)\n",
    "f(1)"
   ],
   "metadata": {
    "collapsed": false,
    "ExecuteTime": {
     "end_time": "2023-10-29T13:53:10.711100800Z",
     "start_time": "2023-10-29T13:53:10.684887700Z"
    }
   }
  },
  {
   "cell_type": "markdown",
   "source": [
    "```python\n",
    "x = f(11)\n",
    "```"
   ],
   "metadata": {
    "collapsed": false
   }
  },
  {
   "cell_type": "code",
   "execution_count": 38,
   "outputs": [],
   "source": [
    "x = f(11)"
   ],
   "metadata": {
    "collapsed": false,
    "ExecuteTime": {
     "end_time": "2023-10-29T13:53:15.542929500Z",
     "start_time": "2023-10-29T13:53:15.527049400Z"
    }
   }
  },
  {
   "cell_type": "markdown",
   "source": [
    "```python\n",
    "f = 5\n",
    "f(5)\n",
    "```"
   ],
   "metadata": {
    "collapsed": false
   }
  },
  {
   "cell_type": "code",
   "execution_count": 39,
   "outputs": [
    {
     "ename": "TypeError",
     "evalue": "'int' object is not callable",
     "output_type": "error",
     "traceback": [
      "\u001B[1;31m---------------------------------------------------------------------------\u001B[0m",
      "\u001B[1;31mTypeError\u001B[0m                                 Traceback (most recent call last)",
      "Cell \u001B[1;32mIn[39], line 2\u001B[0m\n\u001B[0;32m      1\u001B[0m f \u001B[38;5;241m=\u001B[39m \u001B[38;5;241m5\u001B[39m\n\u001B[1;32m----> 2\u001B[0m \u001B[43mf\u001B[49m\u001B[43m(\u001B[49m\u001B[38;5;241;43m5\u001B[39;49m\u001B[43m)\u001B[49m\n",
      "\u001B[1;31mTypeError\u001B[0m: 'int' object is not callable"
     ]
    }
   ],
   "source": [
    "f = 5\n",
    "f(5)"
   ],
   "metadata": {
    "collapsed": false,
    "ExecuteTime": {
     "end_time": "2023-10-29T13:53:21.291877600Z",
     "start_time": "2023-10-29T13:53:20.822141500Z"
    }
   }
  },
  {
   "cell_type": "markdown",
   "source": [
    "```python\n",
    "input = input('text')\n",
    "print(input)\n",
    "```\n"
   ],
   "metadata": {
    "collapsed": false
   }
  },
  {
   "cell_type": "code",
   "execution_count": 40,
   "outputs": [
    {
     "name": "stdout",
     "output_type": "stream",
     "text": [
      "asdfd\n"
     ]
    }
   ],
   "source": [
    "input = input('text')\n",
    "print(input)"
   ],
   "metadata": {
    "collapsed": false,
    "ExecuteTime": {
     "end_time": "2023-10-29T13:53:35.445969600Z",
     "start_time": "2023-10-29T13:53:32.263245500Z"
    }
   }
  },
  {
   "cell_type": "markdown",
   "source": [
    "- The keyword `def` tells Python we are defining a function.\n",
    "- `f` is the name of the function.\n",
    "- `x` is the argument, or input of the function.\n",
    "- What is after `return` is called the output to the function.\n",
    "\n",
    "![download (6)](./assets/download(6).png)"
   ],
   "metadata": {
    "collapsed": false
   }
  },
  {
   "cell_type": "markdown",
   "source": [
    "### Task\n",
    "\n",
    "Write the function for\n",
    "$$\n",
    "f(x) = x^2 + 0.25x -5\n",
    "$$\n",
    "Then write the code to receive 2.3 as an input parameter and show the result"
   ],
   "metadata": {
    "collapsed": false
   }
  },
  {
   "cell_type": "code",
   "execution_count": 41,
   "outputs": [
    {
     "name": "stdout",
     "output_type": "stream",
     "text": [
      "f(2.3) = 0.8649999999999993\n"
     ]
    }
   ],
   "source": [
    "def f(x):\n",
    "    return x**2 + 0.25*x - 5\n",
    "\n",
    "def main():\n",
    "    x = 2.3\n",
    "    result = f(x)\n",
    "    print(\"f(2.3) =\", result)\n",
    "\n",
    "main()"
   ],
   "metadata": {
    "collapsed": false,
    "ExecuteTime": {
     "end_time": "2023-10-29T13:54:29.737450600Z",
     "start_time": "2023-10-29T13:54:29.731216800Z"
    }
   }
  },
  {
   "cell_type": "markdown",
   "source": [
    "### Task 2\n",
    "\n",
    "define the price with Vat function.\n",
    "\n",
    "The function recieve the price of the item. Then return the price which has add the Vat with in.\n",
    "\n",
    "then after creating the function, write the code snippet to receive the name, and price of the item. then print out the name of the item and the price with vat"
   ],
   "metadata": {
    "collapsed": false
   }
  },
  {
   "cell_type": "code",
   "execution_count": 55,
   "outputs": [
    {
     "ename": "TypeError",
     "evalue": "'str' object is not callable",
     "output_type": "error",
     "traceback": [
      "\u001B[1;31m---------------------------------------------------------------------------\u001B[0m",
      "\u001B[1;31mTypeError\u001B[0m                                 Traceback (most recent call last)",
      "Cell \u001B[1;32mIn[55], line 15\u001B[0m\n\u001B[0;32m     12\u001B[0m         \u001B[38;5;28mprint\u001B[39m(\u001B[38;5;124m\"\u001B[39m\u001B[38;5;124mInvalid input! Please enter a valid number for the price.\u001B[39m\u001B[38;5;124m\"\u001B[39m)\n\u001B[0;32m     14\u001B[0m \u001B[38;5;28;01mif\u001B[39;00m \u001B[38;5;18m__name__\u001B[39m \u001B[38;5;241m==\u001B[39m \u001B[38;5;124m\"\u001B[39m\u001B[38;5;124m__main__\u001B[39m\u001B[38;5;124m\"\u001B[39m:\n\u001B[1;32m---> 15\u001B[0m     \u001B[43mmain\u001B[49m\u001B[43m(\u001B[49m\u001B[43m)\u001B[49m\n",
      "Cell \u001B[1;32mIn[55], line 6\u001B[0m, in \u001B[0;36mmain\u001B[1;34m()\u001B[0m\n\u001B[0;32m      5\u001B[0m \u001B[38;5;28;01mdef\u001B[39;00m \u001B[38;5;21mmain\u001B[39m():\n\u001B[1;32m----> 6\u001B[0m     item_name \u001B[38;5;241m=\u001B[39m \u001B[38;5;28;43minput\u001B[39;49m\u001B[43m(\u001B[49m\u001B[38;5;124;43m\"\u001B[39;49m\u001B[38;5;124;43mEnter the name of the item: \u001B[39;49m\u001B[38;5;124;43m\"\u001B[39;49m\u001B[43m)\u001B[49m\n\u001B[0;32m      7\u001B[0m     \u001B[38;5;28;01mtry\u001B[39;00m:\n\u001B[0;32m      8\u001B[0m         item_price \u001B[38;5;241m=\u001B[39m \u001B[38;5;28mfloat\u001B[39m(\u001B[38;5;28minput\u001B[39m(\u001B[38;5;124m\"\u001B[39m\u001B[38;5;124mEnter the price of the item: \u001B[39m\u001B[38;5;124m\"\u001B[39m))\n",
      "\u001B[1;31mTypeError\u001B[0m: 'str' object is not callable"
     ]
    }
   ],
   "source": [
    "def price_with_vat(price):\n",
    "    vat_rate = 0.20  # Assuming a VAT rate of 20%\n",
    "    return price * (1 + vat_rate)\n",
    "\n",
    "def main():\n",
    "    item_name = input(\"Enter the name of the item: \")\n",
    "    try:\n",
    "        item_price = float(input(\"Enter the price of the item: \"))\n",
    "        total_price = price_with_vat(item_price)\n",
    "        print(f\"The price of {item_name} with VAT included is: {total_price:.2f}\")\n",
    "    except ValueError:\n",
    "        print(\"Invalid input! Please enter a valid number for the price.\")\n",
    "\n",
    "if __name__ == \"__main__\":\n",
    "    main()"
   ],
   "metadata": {
    "collapsed": false,
    "ExecuteTime": {
     "end_time": "2023-10-29T14:07:45.456334600Z",
     "start_time": "2023-10-29T14:07:45.425215300Z"
    }
   }
  },
  {
   "cell_type": "code",
   "execution_count": null,
   "outputs": [],
   "source": [],
   "metadata": {
    "collapsed": false
   }
  }
 ],
 "metadata": {
  "kernelspec": {
   "display_name": "Python 3",
   "language": "python",
   "name": "python3"
  },
  "language_info": {
   "codemirror_mode": {
    "name": "ipython",
    "version": 2
   },
   "file_extension": ".py",
   "mimetype": "text/x-python",
   "name": "python",
   "nbconvert_exporter": "python",
   "pygments_lexer": "ipython2",
   "version": "2.7.6"
  }
 },
 "nbformat": 4,
 "nbformat_minor": 0
}
