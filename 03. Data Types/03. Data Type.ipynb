{
 "cells": [
  {
   "cell_type": "markdown",
   "source": [
    "# Data types\n",
    "\n",
    "## Basic Data Types\n",
    "\n",
    "### Integer\n",
    "\n",
    "The simple counting number\n",
    "\n",
    "we can use the integer values which based other than 10\n",
    "\n",
    "![image-20230719055605284](./assets/image-20230719055605284.png)"
   ],
   "metadata": {
    "collapsed": false
   }
  },
  {
   "cell_type": "markdown",
   "source": [
    "### Floating point Number\n",
    "\n",
    "> designates a floating-point number\n",
    "\n",
    "- float values are specified with a decimal point\n",
    "- the character `e` or `E` followed by a positive or negative integer may be appended to specify scientific notation\n",
    "- Python float values is 64-bit \"double-prceision\"\n",
    "- the maximum value is 1.8 ⨉ 10308\n",
    "\n",
    "```python\n",
    "6.123456789123456789123456789e10\n",
    "```\n",
    "\n",
    "try"
   ],
   "metadata": {
    "collapsed": false
   }
  },
  {
   "cell_type": "code",
   "execution_count": null,
   "outputs": [],
   "source": [],
   "metadata": {
    "collapsed": false
   }
  },
  {
   "cell_type": "markdown",
   "source": [
    "### boolean\n",
    "\n",
    "The boolean values indicate `True` or `False`\n",
    "\n",
    "```python\n",
    "a  < b  < c \t\t# same as: a < b and b < c\n",
    "a == b == c\t\t\t# same as: a = b and b = c\n",
    "```\n",
    "\n",
    "#### Rule of Conversion to Booleans:\n",
    "\n",
    "![image-20230719055637023](./assets/image-20230719055637023.png)\n",
    "\n",
    "```python\n",
    "x = 0\n",
    "if x:\n",
    "  print('true')\n",
    "else:\n",
    "  print('false')\n",
    "```"
   ],
   "metadata": {
    "collapsed": false
   }
  },
  {
   "cell_type": "code",
   "execution_count": null,
   "outputs": [],
   "source": [],
   "metadata": {
    "collapsed": false
   }
  },
  {
   "cell_type": "markdown",
   "source": [
    "## Container Data Types\n",
    "\n",
    "When we refer to data, they may be a bunch of data\n",
    "\n",
    "> container type\n",
    ">\n",
    "> - group objects together\n",
    "> - the differences are\n",
    ">   - how to access individual elements\n",
    ">   - how operations are defined"
   ],
   "metadata": {
    "collapsed": false
   }
  },
  {
   "cell_type": "markdown",
   "source": [
    "### List\n",
    "\n",
    "a list of object of any kind\n",
    "\n",
    "Try to create this object, and show the value\n",
    "\n",
    "```python\n",
    "L = ['a', 20.0, 5]\n",
    "M = [3,['a',-3.0,5]]\n",
    "```"
   ],
   "metadata": {
    "collapsed": false
   }
  },
  {
   "cell_type": "code",
   "execution_count": null,
   "outputs": [],
   "source": [],
   "metadata": {
    "collapsed": false
   }
  },
  {
   "cell_type": "markdown",
   "source": [
    "To access any individual value,\n",
    "\n",
    "Try to access the given data\n",
    "\n",
    "```python\n",
    "L[1]\n",
    "L[0]\n",
    "M[1]\n",
    "M[1][2]\n",
    "```\n",
    "\n"
   ],
   "metadata": {
    "collapsed": false
   }
  },
  {
   "cell_type": "code",
   "execution_count": null,
   "outputs": [],
   "source": [],
   "metadata": {
    "collapsed": false
   }
  },
  {
   "cell_type": "markdown",
   "source": [
    "> The range can also generate the values, and put in to the list The `list` function define how to create list from the range\n",
    "\n",
    "Try to write the code as given and see the L value\n",
    "\n",
    "```python\n",
    "L = list(range(4))\n",
    "```"
   ],
   "metadata": {
    "collapsed": false
   }
  },
  {
   "cell_type": "code",
   "execution_count": null,
   "outputs": [],
   "source": [],
   "metadata": {
    "collapsed": false
   }
  },
  {
   "cell_type": "markdown",
   "source": [
    "```python\n",
    "L = list(range(17,29,4))\n",
    "```"
   ],
   "metadata": {
    "collapsed": false
   }
  },
  {
   "cell_type": "code",
   "execution_count": null,
   "outputs": [],
   "source": [],
   "metadata": {
    "collapsed": false
   }
  },
  {
   "cell_type": "markdown",
   "source": [
    "> `len` function returns the length of the list\n",
    " Try\n",
    "\n",
    "```\n",
    "len(L)\n",
    "```"
   ],
   "metadata": {
    "collapsed": false
   }
  },
  {
   "cell_type": "markdown",
   "source": [
    "#### List Slicing\n",
    "\n",
    "\n",
    "\n",
    "Slicing is to get only the list we want\n",
    "\n",
    "it will create a new list\n",
    "\n",
    "- `L[i:j]` means create a list by taking all element at `L[i]` until `L[j-1]`\n",
    "\n",
    "`L[2:5]`\n",
    "\n",
    "![image-20230719055731424](./assets/image-20230719055731424.png)\n",
    "\n",
    "\n",
    "\n",
    "\n",
    "- `L[i:]` all elements except the `1` first ones\n",
    "\n",
    "`L[2:]`\n",
    "\n",
    "![image-20230719055753762](./assets/image-20230719055753762.png)\n",
    "\n",
    "\n",
    "\n",
    "\n",
    "- `L[:i]` taking the first `i` elements\n",
    "\n",
    "`L[:2]`\n",
    "\n",
    "![image-20230719055812702](./assets/image-20230719055812702.png)\n",
    "\n",
    "\n",
    "\n",
    "\n",
    "- `L[-i:]` taking the last `i` elements\n",
    "\n",
    "`L[-2:]`\n",
    "\n",
    "![image-20230719055825194](./assets/image-20230719055825194.png)\n",
    "\n",
    "\n",
    "\n",
    "\n",
    "- `L[:-i]` means create a list by taking all element at `L[i]` until `L[j-1]`\n",
    "\n",
    "`L[:-2]`\n",
    "\n",
    "![image-20230719055841629](./assets/image-20230719055841629.png)\n",
    "\n",
    "\n",
    "\n",
    "\n",
    "Or we can mix them together\n",
    "\n",
    "`L[2:-1]`\n",
    "\n",
    "![image-20230719055856406](./assets/image-20230719055856406.png)\n",
    "\n",
    "`L[-4,-1]`\n",
    "\n",
    "![image-20230719055914019](./assets/image-20230719055914019.png)\n",
    "\n"
   ],
   "metadata": {
    "collapsed": false
   }
  },
  {
   "cell_type": "markdown",
   "source": [
    "#### Task\n",
    "\n",
    "Execute the following statements:\n",
    "\n",
    "```python\n",
    "L = [1,5]\n",
    "L3 = 3*L\n",
    "```"
   ],
   "metadata": {
    "collapsed": false
   }
  },
  {
   "cell_type": "code",
   "execution_count": null,
   "outputs": [],
   "source": [],
   "metadata": {
    "collapsed": false
   }
  },
  {
   "cell_type": "markdown",
   "source": [
    "1. What is the content of `L3`?\n",
    "\n",
    "2. Try to predict the outcome of the following command\n",
    "\n",
    "```python\n",
    "L3[0]\n",
    "L3[-1]\n",
    "L3[10]\n",
    "```"
   ],
   "metadata": {
    "collapsed": false
   }
  },
  {
   "cell_type": "code",
   "execution_count": null,
   "outputs": [],
   "source": [],
   "metadata": {
    "collapsed": false
   }
  },
  {
   "cell_type": "markdown",
   "source": [
    "3. What does the following command do?\n",
    "\n",
    "```python\n",
    "L4 = [k**2 for k in L3]\n",
    "```"
   ],
   "metadata": {
    "collapsed": false
   }
  },
  {
   "cell_type": "code",
   "execution_count": null,
   "outputs": [],
   "source": [],
   "metadata": {
    "collapsed": false
   }
  },
  {
   "cell_type": "markdown",
   "source": [
    "4. Concatenate `L3` and `L4` to a new list `L5`"
   ],
   "metadata": {
    "collapsed": false
   }
  },
  {
   "cell_type": "code",
   "execution_count": null,
   "outputs": [],
   "source": [],
   "metadata": {
    "collapsed": false
   }
  },
  {
   "cell_type": "markdown",
   "source": [
    "### Altering List\n",
    "\n",
    "List can be deleted using the empty list `[]`\n",
    "\n",
    "```python\n",
    "L = ['a','b','c','d','e']\n",
    "L[2:3] = []\n",
    "L\n",
    "```"
   ],
   "metadata": {
    "collapsed": false
   }
  },
  {
   "cell_type": "code",
   "execution_count": null,
   "outputs": [],
   "source": [],
   "metadata": {
    "collapsed": false
   }
  },
  {
   "cell_type": "markdown",
   "source": [
    "In addition Two list can be concatenated by plus operator +\n",
    "\n",
    "```python\n",
    "L = [1, -17]\n",
    "M = [-23.5, 18.3, 5.0]\n",
    "L+M\n",
    "```"
   ],
   "metadata": {
    "collapsed": false
   }
  },
  {
   "cell_type": "code",
   "execution_count": null,
   "outputs": [],
   "source": [],
   "metadata": {
    "collapsed": false
   }
  },
  {
   "cell_type": "markdown",
   "source": [
    "### Belonging to a List\n",
    "\n",
    "in and not in to determine whetehr an element belongs to a list or not\n",
    "\n",
    "```python\n",
    "L = ['a', 1,'b',2]\n",
    "'a' in L\n",
    "```"
   ],
   "metadata": {
    "collapsed": false
   }
  },
  {
   "cell_type": "code",
   "execution_count": null,
   "outputs": [],
   "source": [],
   "metadata": {
    "collapsed": false
   }
  },
  {
   "cell_type": "markdown",
   "source": [
    "\n",
    "\n",
    "```python\n",
    "1 in L\n",
    "```"
   ],
   "metadata": {
    "collapsed": false
   }
  },
  {
   "cell_type": "code",
   "execution_count": null,
   "outputs": [],
   "source": [],
   "metadata": {
    "collapsed": false
   }
  },
  {
   "cell_type": "markdown",
   "source": [
    "```python\n",
    "4 not in L\n",
    "```"
   ],
   "metadata": {
    "collapsed": false
   }
  },
  {
   "cell_type": "code",
   "execution_count": null,
   "outputs": [],
   "source": [],
   "metadata": {
    "collapsed": false
   }
  },
  {
   "cell_type": "markdown",
   "source": [
    "#### List Methods\n",
    "\n",
    "many useful Methods\n",
    "\n",
    "![image-20230719060506595](./assets/image-20230719060506595.png)\n",
    "\n",
    "Try\n",
    "\n",
    "```python\n",
    "L.reverse()\n",
    "L\n",
    "```"
   ],
   "metadata": {
    "collapsed": false
   }
  },
  {
   "cell_type": "code",
   "execution_count": null,
   "outputs": [],
   "source": [],
   "metadata": {
    "collapsed": false
   }
  },
  {
   "cell_type": "markdown",
   "source": [
    "```python\n",
    "L.append('y')\n",
    "```"
   ],
   "metadata": {
    "collapsed": false
   }
  },
  {
   "cell_type": "code",
   "execution_count": null,
   "outputs": [],
   "source": [],
   "metadata": {
    "collapsed": false
   }
  },
  {
   "cell_type": "markdown",
   "source": [
    "### Tuple\n",
    "- immutable list\n",
    "- cannot be modified\n",
    "- can be just a comma separated sequence of objects\n",
    "- or encloses the tuple in a pair of parentheses\n",
    "\n",
    "```\n",
    "my_tuple = 1, 2, 3\n",
    "my_tuple = (1, 2, 3)\n",
    "my_tuple = 1, 2, 3,\n",
    "```\n"
   ],
   "metadata": {
    "collapsed": false
   }
  },
  {
   "cell_type": "code",
   "execution_count": null,
   "outputs": [],
   "source": [],
   "metadata": {
    "collapsed": false
   }
  },
  {
   "cell_type": "markdown",
   "source": [
    "try\n",
    "\n",
    "```\n",
    "len(my_tuple)\n",
    "\n",
    "my_tuple[0] = 'a'\n",
    "```"
   ],
   "metadata": {
    "collapsed": false
   }
  },
  {
   "cell_type": "code",
   "execution_count": null,
   "outputs": [],
   "source": [],
   "metadata": {
    "collapsed": false
   }
  },
  {
   "cell_type": "markdown",
   "source": [
    "### Dictionaries\n",
    "\n",
    "\n",
    "\n",
    "- Lists, tuple are ordered set of object\n",
    "- object are inserted, accessed, and processed according to the **index** position\n",
    "- dictionary is an unordered set of pairs\n",
    "- access dictionary data by keys\n",
    "\n",
    "> The data can be created as followed\n",
    "\n",
    "```python\n",
    "truck_wheel = {\n",
    "              'name':'wheel',\n",
    "              'mass':5.7,\n",
    "              'Ix': 20.0,\n",
    "              'Iy': 1.,\n",
    "              'Iz' : 17.,\n",
    "              'center of mass': [0.,0.,0.]\n",
    "              }\n",
    "```"
   ],
   "metadata": {
    "collapsed": false
   }
  },
  {
   "cell_type": "code",
   "execution_count": null,
   "outputs": [],
   "source": [],
   "metadata": {
    "collapsed": false
   }
  },
  {
   "cell_type": "markdown",
   "source": [
    "The element can be accessed by their keys\n",
    "\n",
    "```python\n",
    "truck_wheel['name']\n",
    "truck_wheel['mass']\n",
    "```"
   ],
   "metadata": {
    "collapsed": false
   }
  },
  {
   "cell_type": "code",
   "execution_count": null,
   "outputs": [],
   "source": [],
   "metadata": {
    "collapsed": false
   }
  },
  {
   "cell_type": "markdown",
   "source": [
    "New objects are added to the dictionary by creating a new *key*\n",
    "\n",
    "```python\n",
    "truck_wheel['Ixy'] = 0.0\n",
    "truck_wheel\n",
    "```"
   ],
   "metadata": {
    "collapsed": false
   }
  },
  {
   "cell_type": "code",
   "execution_count": null,
   "outputs": [],
   "source": [],
   "metadata": {
    "collapsed": false
   }
  },
  {
   "cell_type": "markdown",
   "source": [
    "#### Looping over dictionaries\n",
    "\n",
    "\n",
    "\n",
    "It can be done using the keys\n",
    "\n",
    "```python\n",
    "for key in truck_wheel.keys():\n",
    "  print(key)\n",
    "```\n",
    "\n",
    "or equivalently:\n",
    "\n",
    "```python\n",
    "for key in truck_wheel:\n",
    "  print(key)\n",
    "```"
   ],
   "metadata": {
    "collapsed": false
   }
  },
  {
   "cell_type": "code",
   "execution_count": null,
   "outputs": [],
   "source": [],
   "metadata": {
    "collapsed": false
   }
  },
  {
   "cell_type": "markdown",
   "source": [
    "ฺOr by values\n",
    "\n",
    "```python\n",
    "for value in truck_wheel.values():\n",
    "  print (value)\n",
    "```"
   ],
   "metadata": {
    "collapsed": false
   }
  },
  {
   "cell_type": "code",
   "execution_count": null,
   "outputs": [],
   "source": [],
   "metadata": {
    "collapsed": false
   }
  },
  {
   "cell_type": "markdown",
   "source": [
    "To get by item (both, key and value pairs)\n",
    "\n",
    "```python\n",
    "for item in truck_wheel.items():\n",
    "  print(item)\n",
    "```"
   ],
   "metadata": {
    "collapsed": false
   }
  },
  {
   "cell_type": "code",
   "execution_count": null,
   "outputs": [],
   "source": [],
   "metadata": {
    "collapsed": false
   }
  },
  {
   "cell_type": "markdown",
   "source": [
    "### Sets\n",
    "\n",
    "\n",
    "\n",
    "- Sets is the same properties, and operation as set in methametics\n",
    "- collection of distint objects\n",
    "\n",
    "Some mathematic set expression are\n",
    "$$\n",
    "A = {1,2,3,4}, B = 5\\\\\n",
    "C = A \\cup B\\\\\n",
    "D = A \\cap B\\\\\n",
    "E = C \\backslash A\\\\\n",
    "$$\n",
    "Will equivaent to the code\n",
    "\n",
    "```python\n",
    "A = {1,2,3,4}\n",
    "B = {5}\n",
    "C = A.union(B)\n",
    "D = A.intersection(C)\n",
    "E = C.difference(A)\n",
    "5 in c\n",
    "```\n",
    "\n"
   ],
   "metadata": {
    "collapsed": false
   }
  },
  {
   "cell_type": "code",
   "execution_count": null,
   "outputs": [],
   "source": [],
   "metadata": {
    "collapsed": false
   }
  },
  {
   "cell_type": "markdown",
   "source": [
    "> Set contain element only once, see this\n",
    "\n",
    "```python\n",
    "A = {1,2,3,3,3}\n",
    "B = {1,2,3}\n",
    "A == B\n",
    "```"
   ],
   "metadata": {
    "collapsed": false
   }
  },
  {
   "cell_type": "code",
   "execution_count": null,
   "outputs": [],
   "source": [],
   "metadata": {
    "collapsed": false
   }
  },
  {
   "cell_type": "markdown",
   "source": [
    "> and a set is unordered\n",
    "\n",
    "the order of set is not definded\n",
    "\n",
    "```python\n",
    "A = {1,2,3}\n",
    "B = {1,3,2}\n",
    "A == B\n",
    "```"
   ],
   "metadata": {
    "collapsed": false
   }
  },
  {
   "cell_type": "code",
   "execution_count": null,
   "outputs": [],
   "source": [],
   "metadata": {
    "collapsed": false
   }
  },
  {
   "cell_type": "markdown",
   "source": [
    "## Type checking\n",
    "\n",
    "The direct way to see the type of a varialbe is to use the `type` command\n",
    "\n",
    "```python\n",
    "label = 'local error'\n",
    "type(label)\n",
    "```"
   ],
   "metadata": {
    "collapsed": false
   }
  },
  {
   "cell_type": "code",
   "execution_count": null,
   "outputs": [],
   "source": [],
   "metadata": {
    "collapsed": false
   }
  },
  {
   "cell_type": "markdown",
   "source": [
    "```python\n",
    "x = [1,2]\n",
    "type(x)\n",
    "```"
   ],
   "metadata": {
    "collapsed": false
   }
  },
  {
   "cell_type": "code",
   "execution_count": null,
   "outputs": [],
   "source": [],
   "metadata": {
    "collapsed": false
   }
  },
  {
   "cell_type": "markdown",
   "source": [
    "> To check that the data is this type or ot use `isinstance` Comparing with the type\n",
    "\n",
    "```python\n",
    "isinstance(x,list)\n",
    "```"
   ],
   "metadata": {
    "collapsed": false
   }
  },
  {
   "cell_type": "code",
   "execution_count": null,
   "outputs": [],
   "source": [],
   "metadata": {
    "collapsed": false
   }
  },
  {
   "cell_type": "markdown",
   "source": [
    "## Task\n",
    "\n",
    "### Task 1 Fibonacci\n",
    "\n",
    "Write a function that computes the list of the first 100 Fibonacci numbers. By definition, the first two numbers in Fibonacci sequence are 0 and 1, and each subsequent number is the sum of the previous two. As an example, here are the first 10 Fibonacci numbers: 0,1,1,2,3,5,8,13,21, and 34\n",
    "\n",
    "![image-20230719061113056](./assets/image-20230719061113056.png)"
   ],
   "metadata": {
    "collapsed": false
   }
  },
  {
   "cell_type": "code",
   "execution_count": null,
   "outputs": [],
   "source": [],
   "metadata": {
    "collapsed": false
   }
  },
  {
   "cell_type": "markdown",
   "source": [
    "### Task 2 Morse code\n",
    "\n",
    "- Write a program that can generate the morse code from any text string\n",
    "- Each character is separate by space\n",
    "- Using `.` and `-` for the code\n",
    "\n",
    "<img src=\"./assets/800px-International_Morse_Code.svg.png\" style=\"zoom:33%;\" />\n",
    "\n",
    "**Hint**\n",
    "\n",
    "- where to find the character\n",
    "- [https://home.unicode.org/](https://colab.research.google.com/corgiredirector?site=https%3A%2F%2Fhome.unicode.org%2F&link_redirector=1)\n",
    "- [http://www.unicode.org/charts/](https://colab.research.google.com/corgiredirector?site=http%3A%2F%2Fwww.unicode.org%2Fcharts%2F&link_redirector=1)\n",
    "\n",
    "after getting the Unicode -> use the chr(0x2558) to convert to character"
   ],
   "metadata": {
    "collapsed": false
   }
  },
  {
   "cell_type": "code",
   "execution_count": null,
   "outputs": [],
   "source": [],
   "metadata": {
    "collapsed": false
   }
  },
  {
   "cell_type": "markdown",
   "source": [
    "### Task 3 Largest Formed Number - just for fun\n",
    "\n",
    "Write a program that accepts a list of four non negative integers, arranges them such that they form a largest possible number.\n",
    "\n",
    "For example [50,2,1,9], the largest formed number is 95021\n",
    "\n",
    "Be carefull if [10,1] the answer is not 101 but 110"
   ],
   "metadata": {
    "collapsed": false
   }
  },
  {
   "cell_type": "code",
   "execution_count": null,
   "outputs": [],
   "source": [],
   "metadata": {
    "collapsed": false
   }
  }
 ],
 "metadata": {
  "kernelspec": {
   "display_name": "Python 3",
   "language": "python",
   "name": "python3"
  },
  "language_info": {
   "codemirror_mode": {
    "name": "ipython",
    "version": 2
   },
   "file_extension": ".py",
   "mimetype": "text/x-python",
   "name": "python",
   "nbconvert_exporter": "python",
   "pygments_lexer": "ipython2",
   "version": "2.7.6"
  }
 },
 "nbformat": 4,
 "nbformat_minor": 0
}
