{
 "cells": [
  {
   "cell_type": "markdown",
   "source": [
    "# Data types\n",
    "\n",
    "## Basic Data Types\n",
    "\n",
    "### Integer\n",
    "\n",
    "The simple counting number\n",
    "\n",
    "we can use the integer values which based other than 10\n",
    "\n",
    "![image-20230719055605284](./assets/image-20230719055605284.png)"
   ],
   "metadata": {
    "collapsed": false
   }
  },
  {
   "cell_type": "markdown",
   "source": [
    "### Floating point Number\n",
    "\n",
    "> designates a floating-point number\n",
    "\n",
    "- float values are specified with a decimal point\n",
    "- the character `e` or `E` followed by a positive or negative integer may be appended to specify scientific notation\n",
    "- Python float values is 64-bit \"double-prceision\"\n",
    "- the maximum value is 1.8 ⨉ 10308\n",
    "\n",
    "```python\n",
    "6.123456789123456789123456789e10\n",
    "```\n",
    "\n",
    "try"
   ],
   "metadata": {
    "collapsed": false
   }
  },
  {
   "cell_type": "code",
   "execution_count": 1,
   "outputs": [
    {
     "data": {
      "text/plain": "61234567891.234566"
     },
     "execution_count": 1,
     "metadata": {},
     "output_type": "execute_result"
    }
   ],
   "source": [
    "6.123456789123456789123456789e10"
   ],
   "metadata": {
    "collapsed": false,
    "ExecuteTime": {
     "end_time": "2023-10-30T03:30:25.407143100Z",
     "start_time": "2023-10-30T03:30:25.375892300Z"
    }
   }
  },
  {
   "cell_type": "markdown",
   "source": [
    "### boolean\n",
    "\n",
    "The boolean values indicate `True` or `False`\n",
    "\n",
    "```python\n",
    "a  < b  < c \t\t# same as: a < b and b < c\n",
    "a == b == c\t\t\t# same as: a = b and b = c\n",
    "```\n",
    "\n",
    "#### Rule of Conversion to Booleans:\n",
    "\n",
    "![image-20230719055637023](./assets/image-20230719055637023.png)\n",
    "\n",
    "```python\n",
    "x = 0\n",
    "if x:\n",
    "  print('true')\n",
    "else:\n",
    "  print('false')\n",
    "```"
   ],
   "metadata": {
    "collapsed": false
   }
  },
  {
   "cell_type": "code",
   "execution_count": 2,
   "outputs": [
    {
     "name": "stdout",
     "output_type": "stream",
     "text": [
      "false\n"
     ]
    }
   ],
   "source": [
    "x = 0\n",
    "if x:\n",
    "  print('true')\n",
    "else:\n",
    "  print('false')"
   ],
   "metadata": {
    "collapsed": false,
    "ExecuteTime": {
     "end_time": "2023-10-30T05:00:59.895655200Z",
     "start_time": "2023-10-30T05:00:59.880058100Z"
    }
   }
  },
  {
   "cell_type": "markdown",
   "source": [
    "## Container Data Types\n",
    "\n",
    "When we refer to data, they may be a bunch of data\n",
    "\n",
    "> container type\n",
    ">\n",
    "> - group objects together\n",
    "> - the differences are\n",
    ">   - how to access individual elements\n",
    ">   - how operations are defined"
   ],
   "metadata": {
    "collapsed": false
   }
  },
  {
   "cell_type": "markdown",
   "source": [
    "### List\n",
    "\n",
    "a list of object of any kind\n",
    "\n",
    "Try to create this object, and show the value\n",
    "\n",
    "```python\n",
    "L = ['a', 20.0, 5]\n",
    "M = [3,['a',-3.0,5]]\n",
    "```"
   ],
   "metadata": {
    "collapsed": false
   }
  },
  {
   "cell_type": "code",
   "execution_count": 3,
   "outputs": [],
   "source": [
    "L = ['a', 20.0, 5]\n",
    "M = [3,['a',-3.0,5]]"
   ],
   "metadata": {
    "collapsed": false,
    "ExecuteTime": {
     "end_time": "2023-10-30T05:01:07.312127300Z",
     "start_time": "2023-10-30T05:01:07.279612200Z"
    }
   }
  },
  {
   "cell_type": "markdown",
   "source": [
    "To access any individual value,\n",
    "\n",
    "Try to access the given data\n",
    "\n",
    "```python\n",
    "L[1]\n",
    "L[0]\n",
    "M[1]\n",
    "M[1][2]\n",
    "```\n",
    "\n"
   ],
   "metadata": {
    "collapsed": false
   }
  },
  {
   "cell_type": "code",
   "execution_count": 4,
   "outputs": [
    {
     "data": {
      "text/plain": "5"
     },
     "execution_count": 4,
     "metadata": {},
     "output_type": "execute_result"
    }
   ],
   "source": [
    "L[1]\n",
    "L[0]\n",
    "M[1]\n",
    "M[1][2]"
   ],
   "metadata": {
    "collapsed": false,
    "ExecuteTime": {
     "end_time": "2023-10-30T05:01:14.043866700Z",
     "start_time": "2023-10-30T05:01:13.996796400Z"
    }
   }
  },
  {
   "cell_type": "markdown",
   "source": [
    "> The range can also generate the values, and put in to the list The `list` function define how to create list from the range\n",
    "\n",
    "Try to write the code as given and see the L value\n",
    "\n",
    "```python\n",
    "L = list(range(4))\n",
    "```"
   ],
   "metadata": {
    "collapsed": false
   }
  },
  {
   "cell_type": "code",
   "execution_count": 5,
   "outputs": [],
   "source": [
    "L = list(range(4))"
   ],
   "metadata": {
    "collapsed": false,
    "ExecuteTime": {
     "end_time": "2023-10-30T05:01:18.413687700Z",
     "start_time": "2023-10-30T05:01:18.382042900Z"
    }
   }
  },
  {
   "cell_type": "markdown",
   "source": [
    "```python\n",
    "L = list(range(17,29,4))\n",
    "```"
   ],
   "metadata": {
    "collapsed": false
   }
  },
  {
   "cell_type": "code",
   "execution_count": 6,
   "outputs": [],
   "source": [
    "L = list(range(17,29,4))"
   ],
   "metadata": {
    "collapsed": false,
    "ExecuteTime": {
     "end_time": "2023-10-30T05:01:29.395824600Z",
     "start_time": "2023-10-30T05:01:29.349437300Z"
    }
   }
  },
  {
   "cell_type": "markdown",
   "source": [
    "> `len` function returns the length of the list\n",
    " Try\n",
    "\n",
    "```\n",
    "len(L)\n",
    "```"
   ],
   "metadata": {
    "collapsed": false
   }
  },
  {
   "cell_type": "markdown",
   "source": [
    "#### List Slicing\n",
    "\n",
    "\n",
    "\n",
    "Slicing is to get only the list we want\n",
    "\n",
    "it will create a new list\n",
    "\n",
    "- `L[i:j]` means create a list by taking all element at `L[i]` until `L[j-1]`\n",
    "\n",
    "`L[2:5]`\n",
    "\n",
    "![image-20230719055731424](./assets/image-20230719055731424.png)\n",
    "\n",
    "\n",
    "\n",
    "\n",
    "- `L[i:]` all elements except the `1` first ones\n",
    "\n",
    "`L[2:]`\n",
    "\n",
    "![image-20230719055753762](./assets/image-20230719055753762.png)\n",
    "\n",
    "\n",
    "\n",
    "\n",
    "- `L[:i]` taking the first `i` elements\n",
    "\n",
    "`L[:2]`\n",
    "\n",
    "![image-20230719055812702](./assets/image-20230719055812702.png)\n",
    "\n",
    "\n",
    "\n",
    "\n",
    "- `L[-i:]` taking the last `i` elements\n",
    "\n",
    "`L[-2:]`\n",
    "\n",
    "![image-20230719055825194](./assets/image-20230719055825194.png)\n",
    "\n",
    "\n",
    "\n",
    "\n",
    "- `L[:-i]` means create a list by taking all element at `L[i]` until `L[j-1]`\n",
    "\n",
    "`L[:-2]`\n",
    "\n",
    "![image-20230719055841629](./assets/image-20230719055841629.png)\n",
    "\n",
    "\n",
    "\n",
    "\n",
    "Or we can mix them together\n",
    "\n",
    "`L[2:-1]`\n",
    "\n",
    "![image-20230719055856406](./assets/image-20230719055856406.png)\n",
    "\n",
    "`L[-4,-1]`\n",
    "\n",
    "![image-20230719055914019](./assets/image-20230719055914019.png)\n",
    "\n"
   ],
   "metadata": {
    "collapsed": false
   }
  },
  {
   "cell_type": "markdown",
   "source": [
    "#### Task\n",
    "\n",
    "Execute the following statements:\n",
    "\n",
    "```python\n",
    "L = [1,5]\n",
    "L3 = 3*L\n",
    "```"
   ],
   "metadata": {
    "collapsed": false
   }
  },
  {
   "cell_type": "code",
   "execution_count": 7,
   "outputs": [],
   "source": [
    "L = [1,5]\n",
    "L3 = 3*L"
   ],
   "metadata": {
    "collapsed": false,
    "ExecuteTime": {
     "end_time": "2023-10-30T05:01:39.083032600Z",
     "start_time": "2023-10-30T05:01:39.035748700Z"
    }
   }
  },
  {
   "cell_type": "markdown",
   "source": [
    "1. What is the content of `L3`?\n",
    "\n",
    "2. Try to predict the outcome of the following command\n",
    "\n",
    "```python\n",
    "L3[0]\n",
    "L3[-1]\n",
    "L3[10]\n",
    "```"
   ],
   "metadata": {
    "collapsed": false
   }
  },
  {
   "cell_type": "code",
   "execution_count": 9,
   "outputs": [
    {
     "data": {
      "text/plain": "1"
     },
     "execution_count": 9,
     "metadata": {},
     "output_type": "execute_result"
    }
   ],
   "source": [
    "L3[0]"
   ],
   "metadata": {
    "collapsed": false,
    "ExecuteTime": {
     "end_time": "2023-10-30T05:01:58.766161400Z",
     "start_time": "2023-10-30T05:01:58.739245800Z"
    }
   }
  },
  {
   "cell_type": "markdown",
   "source": [
    "3. What does the following command do?\n",
    "\n",
    "```python\n",
    "L4 = [k**2 for k in L3]\n",
    "```"
   ],
   "metadata": {
    "collapsed": false
   }
  },
  {
   "cell_type": "code",
   "execution_count": 10,
   "outputs": [],
   "source": [
    "L4 = [k**2 for k in L3]"
   ],
   "metadata": {
    "collapsed": false,
    "ExecuteTime": {
     "end_time": "2023-10-30T05:02:06.587276600Z",
     "start_time": "2023-10-30T05:02:06.551750300Z"
    }
   }
  },
  {
   "cell_type": "markdown",
   "source": [
    "4. Concatenate `L3` and `L4` to a new list `L5`"
   ],
   "metadata": {
    "collapsed": false
   }
  },
  {
   "cell_type": "code",
   "execution_count": 13,
   "outputs": [
    {
     "data": {
      "text/plain": "[1, 5, 1, 5, 1, 5, 1, 25, 1, 25, 1, 25]"
     },
     "execution_count": 13,
     "metadata": {},
     "output_type": "execute_result"
    }
   ],
   "source": [
    "L5=L3+L4\n",
    "L5"
   ],
   "metadata": {
    "collapsed": false,
    "ExecuteTime": {
     "end_time": "2023-10-30T05:03:38.723448200Z",
     "start_time": "2023-10-30T05:03:38.675309100Z"
    }
   }
  },
  {
   "cell_type": "markdown",
   "source": [
    "### Altering List\n",
    "\n",
    "List can be deleted using the empty list `[]`\n",
    "\n",
    "```python\n",
    "L = ['a','b','c','d','e']\n",
    "L[2:3] = []\n",
    "L\n",
    "```"
   ],
   "metadata": {
    "collapsed": false
   }
  },
  {
   "cell_type": "code",
   "execution_count": 14,
   "outputs": [
    {
     "data": {
      "text/plain": "['a', 'b', 'd', 'e']"
     },
     "execution_count": 14,
     "metadata": {},
     "output_type": "execute_result"
    }
   ],
   "source": [
    "L = ['a','b','c','d','e']\n",
    "L[2:3] = []\n",
    "L"
   ],
   "metadata": {
    "collapsed": false,
    "ExecuteTime": {
     "end_time": "2023-10-30T05:03:50.781014400Z",
     "start_time": "2023-10-30T05:03:50.749231500Z"
    }
   }
  },
  {
   "cell_type": "markdown",
   "source": [
    "In addition Two list can be concatenated by plus operator +\n",
    "\n",
    "```python\n",
    "L = [1, -17]\n",
    "M = [-23.5, 18.3, 5.0]\n",
    "L+M\n",
    "```"
   ],
   "metadata": {
    "collapsed": false
   }
  },
  {
   "cell_type": "code",
   "execution_count": 15,
   "outputs": [
    {
     "data": {
      "text/plain": "[1, -17, -23.5, 18.3, 5.0]"
     },
     "execution_count": 15,
     "metadata": {},
     "output_type": "execute_result"
    }
   ],
   "source": [
    "L = [1, -17]\n",
    "M = [-23.5, 18.3, 5.0]\n",
    "L+M"
   ],
   "metadata": {
    "collapsed": false,
    "ExecuteTime": {
     "end_time": "2023-10-30T05:03:56.763969500Z",
     "start_time": "2023-10-30T05:03:56.717093100Z"
    }
   }
  },
  {
   "cell_type": "markdown",
   "source": [
    "### Belonging to a List\n",
    "\n",
    "in and not in to determine whetehr an element belongs to a list or not\n",
    "\n",
    "```python\n",
    "L = ['a', 1,'b',2]\n",
    "'a' in L\n",
    "```"
   ],
   "metadata": {
    "collapsed": false
   }
  },
  {
   "cell_type": "code",
   "execution_count": 16,
   "outputs": [
    {
     "data": {
      "text/plain": "True"
     },
     "execution_count": 16,
     "metadata": {},
     "output_type": "execute_result"
    }
   ],
   "source": [
    "L = ['a', 1,'b',2]\n",
    "'a' in L"
   ],
   "metadata": {
    "collapsed": false,
    "ExecuteTime": {
     "end_time": "2023-10-30T05:04:04.580300500Z",
     "start_time": "2023-10-30T05:04:04.548974Z"
    }
   }
  },
  {
   "cell_type": "markdown",
   "source": [
    "\n",
    "\n",
    "```python\n",
    "1 in L\n",
    "```"
   ],
   "metadata": {
    "collapsed": false
   }
  },
  {
   "cell_type": "code",
   "execution_count": 17,
   "outputs": [
    {
     "data": {
      "text/plain": "True"
     },
     "execution_count": 17,
     "metadata": {},
     "output_type": "execute_result"
    }
   ],
   "source": [
    "1 in L"
   ],
   "metadata": {
    "collapsed": false,
    "ExecuteTime": {
     "end_time": "2023-10-30T05:04:11.144171400Z",
     "start_time": "2023-10-30T05:04:11.112846600Z"
    }
   }
  },
  {
   "cell_type": "markdown",
   "source": [
    "```python\n",
    "4 not in L\n",
    "```"
   ],
   "metadata": {
    "collapsed": false
   }
  },
  {
   "cell_type": "code",
   "execution_count": 18,
   "outputs": [
    {
     "data": {
      "text/plain": "True"
     },
     "execution_count": 18,
     "metadata": {},
     "output_type": "execute_result"
    }
   ],
   "source": [
    "4 not in L"
   ],
   "metadata": {
    "collapsed": false,
    "ExecuteTime": {
     "end_time": "2023-10-30T05:04:18.553906700Z",
     "start_time": "2023-10-30T05:04:18.521852400Z"
    }
   }
  },
  {
   "cell_type": "markdown",
   "source": [
    "#### List Methods\n",
    "\n",
    "many useful Methods\n",
    "\n",
    "![image-20230719060506595](./assets/image-20230719060506595.png)\n",
    "\n",
    "Try\n",
    "\n",
    "```python\n",
    "L.reverse()\n",
    "L\n",
    "```"
   ],
   "metadata": {
    "collapsed": false
   }
  },
  {
   "cell_type": "code",
   "execution_count": 19,
   "outputs": [
    {
     "data": {
      "text/plain": "[2, 'b', 1, 'a']"
     },
     "execution_count": 19,
     "metadata": {},
     "output_type": "execute_result"
    }
   ],
   "source": [
    "L.reverse()\n",
    "L"
   ],
   "metadata": {
    "collapsed": false,
    "ExecuteTime": {
     "end_time": "2023-10-30T05:04:23.244405100Z",
     "start_time": "2023-10-30T05:04:23.213134700Z"
    }
   }
  },
  {
   "cell_type": "markdown",
   "source": [
    "```python\n",
    "L.append('y')\n",
    "```"
   ],
   "metadata": {
    "collapsed": false
   }
  },
  {
   "cell_type": "code",
   "execution_count": 20,
   "outputs": [],
   "source": [
    "L.append('y')"
   ],
   "metadata": {
    "collapsed": false,
    "ExecuteTime": {
     "end_time": "2023-10-30T05:04:30.397207900Z",
     "start_time": "2023-10-30T05:04:30.365878800Z"
    }
   }
  },
  {
   "cell_type": "markdown",
   "source": [
    "### Tuple\n",
    "- immutable list\n",
    "- cannot be modified\n",
    "- can be just a comma separated sequence of objects\n",
    "- or encloses the tuple in a pair of parentheses\n",
    "\n",
    "```\n",
    "my_tuple = 1, 2, 3\n",
    "my_tuple = (1, 2, 3)\n",
    "my_tuple = 1, 2, 3,\n",
    "```\n"
   ],
   "metadata": {
    "collapsed": false
   }
  },
  {
   "cell_type": "code",
   "execution_count": 22,
   "outputs": [
    {
     "data": {
      "text/plain": "(1, 2, 3)"
     },
     "execution_count": 22,
     "metadata": {},
     "output_type": "execute_result"
    }
   ],
   "source": [
    "my_tuple = 1, 2, 3\n",
    "my_tuple"
   ],
   "metadata": {
    "collapsed": false,
    "ExecuteTime": {
     "end_time": "2023-10-30T05:04:54.236628400Z",
     "start_time": "2023-10-30T05:04:54.204774800Z"
    }
   }
  },
  {
   "cell_type": "code",
   "execution_count": 23,
   "outputs": [
    {
     "data": {
      "text/plain": "(1, 2, 3)"
     },
     "execution_count": 23,
     "metadata": {},
     "output_type": "execute_result"
    }
   ],
   "source": [
    "my_tuple = (1, 2, 3)\n",
    "my_tuple"
   ],
   "metadata": {
    "collapsed": false,
    "ExecuteTime": {
     "end_time": "2023-10-30T05:05:03.858772600Z",
     "start_time": "2023-10-30T05:05:03.780014Z"
    }
   }
  },
  {
   "cell_type": "code",
   "execution_count": 24,
   "outputs": [
    {
     "data": {
      "text/plain": "(1, 2, 3)"
     },
     "execution_count": 24,
     "metadata": {},
     "output_type": "execute_result"
    }
   ],
   "source": [
    "my_tuple = 1, 2, 3,\n",
    "my_tuple"
   ],
   "metadata": {
    "collapsed": false,
    "ExecuteTime": {
     "end_time": "2023-10-30T05:05:25.913353400Z",
     "start_time": "2023-10-30T05:05:25.818662100Z"
    }
   }
  },
  {
   "cell_type": "markdown",
   "source": [
    "try\n",
    "\n",
    "```\n",
    "len(my_tuple)\n",
    "\n",
    "my_tuple[0] = 'a'\n",
    "```"
   ],
   "metadata": {
    "collapsed": false
   }
  },
  {
   "cell_type": "code",
   "execution_count": 25,
   "outputs": [
    {
     "ename": "TypeError",
     "evalue": "'tuple' object does not support item assignment",
     "output_type": "error",
     "traceback": [
      "\u001B[1;31m---------------------------------------------------------------------------\u001B[0m",
      "\u001B[1;31mTypeError\u001B[0m                                 Traceback (most recent call last)",
      "Cell \u001B[1;32mIn[25], line 3\u001B[0m\n\u001B[0;32m      1\u001B[0m \u001B[38;5;28mlen\u001B[39m(my_tuple)\n\u001B[1;32m----> 3\u001B[0m my_tuple[\u001B[38;5;241m0\u001B[39m] \u001B[38;5;241m=\u001B[39m \u001B[38;5;124m'\u001B[39m\u001B[38;5;124ma\u001B[39m\u001B[38;5;124m'\u001B[39m\n",
      "\u001B[1;31mTypeError\u001B[0m: 'tuple' object does not support item assignment"
     ]
    }
   ],
   "source": [
    "len(my_tuple)\n",
    "my_tuple[0] = 'a'"
   ],
   "metadata": {
    "collapsed": false,
    "ExecuteTime": {
     "end_time": "2023-10-30T05:05:35.143578700Z",
     "start_time": "2023-10-30T05:05:34.938690500Z"
    }
   }
  },
  {
   "cell_type": "markdown",
   "source": [
    "### Dictionaries\n",
    "\n",
    "\n",
    "\n",
    "- Lists, tuple are ordered set of object\n",
    "- object are inserted, accessed, and processed according to the **index** position\n",
    "- dictionary is an unordered set of pairs\n",
    "- access dictionary data by keys\n",
    "\n",
    "> The data can be created as followed\n",
    "\n",
    "```python\n",
    "truck_wheel = {\n",
    "              'name':'wheel',\n",
    "              'mass':5.7,\n",
    "              'Ix': 20.0,\n",
    "              'Iy': 1.,\n",
    "              'Iz' : 17.,\n",
    "              'center of mass': [0.,0.,0.]\n",
    "              }\n",
    "```"
   ],
   "metadata": {
    "collapsed": false
   }
  },
  {
   "cell_type": "code",
   "execution_count": 26,
   "outputs": [],
   "source": [
    "truck_wheel = {\n",
    "              'name':'wheel',\n",
    "              'mass':5.7,\n",
    "              'Ix': 20.0,\n",
    "              'Iy': 1.,\n",
    "              'Iz' : 17.,\n",
    "              'center of mass': [0.,0.,0.]\n",
    "              }"
   ],
   "metadata": {
    "collapsed": false,
    "ExecuteTime": {
     "end_time": "2023-10-30T05:05:53.573926200Z",
     "start_time": "2023-10-30T05:05:53.542391100Z"
    }
   }
  },
  {
   "cell_type": "markdown",
   "source": [
    "The element can be accessed by their keys\n",
    "\n",
    "```python\n",
    "truck_wheel['name']\n",
    "truck_wheel['mass']\n",
    "```"
   ],
   "metadata": {
    "collapsed": false
   }
  },
  {
   "cell_type": "code",
   "execution_count": 27,
   "outputs": [
    {
     "data": {
      "text/plain": "5.7"
     },
     "execution_count": 27,
     "metadata": {},
     "output_type": "execute_result"
    }
   ],
   "source": [
    "truck_wheel['name']\n",
    "truck_wheel['mass']"
   ],
   "metadata": {
    "collapsed": false,
    "ExecuteTime": {
     "end_time": "2023-10-30T05:07:19.625084400Z",
     "start_time": "2023-10-30T05:07:19.460142200Z"
    }
   }
  },
  {
   "cell_type": "markdown",
   "source": [
    "New objects are added to the dictionary by creating a new *key*\n",
    "\n",
    "```python\n",
    "truck_wheel['Ixy'] = 0.0\n",
    "truck_wheel\n",
    "```"
   ],
   "metadata": {
    "collapsed": false
   }
  },
  {
   "cell_type": "code",
   "execution_count": 28,
   "outputs": [
    {
     "data": {
      "text/plain": "{'name': 'wheel',\n 'mass': 5.7,\n 'Ix': 20.0,\n 'Iy': 1.0,\n 'Iz': 17.0,\n 'center of mass': [0.0, 0.0, 0.0],\n 'Ixy': 0.0}"
     },
     "execution_count": 28,
     "metadata": {},
     "output_type": "execute_result"
    }
   ],
   "source": [
    "truck_wheel['Ixy'] = 0.0\n",
    "truck_wheel"
   ],
   "metadata": {
    "collapsed": false,
    "ExecuteTime": {
     "end_time": "2023-10-30T05:07:27.314929200Z",
     "start_time": "2023-10-30T05:07:27.283602Z"
    }
   }
  },
  {
   "cell_type": "markdown",
   "source": [
    "#### Looping over dictionaries\n",
    "\n",
    "\n",
    "\n",
    "It can be done using the keys\n",
    "\n",
    "```python\n",
    "for key in truck_wheel.keys():\n",
    "  print(key)\n",
    "```\n",
    "\n",
    "or equivalently:\n",
    "\n",
    "```python\n",
    "for key in truck_wheel:\n",
    "  print(key)\n",
    "```"
   ],
   "metadata": {
    "collapsed": false
   }
  },
  {
   "cell_type": "code",
   "execution_count": 29,
   "outputs": [
    {
     "name": "stdout",
     "output_type": "stream",
     "text": [
      "name\n",
      "mass\n",
      "Ix\n",
      "Iy\n",
      "Iz\n",
      "center of mass\n",
      "Ixy\n"
     ]
    }
   ],
   "source": [
    "for key in truck_wheel.keys():\n",
    "  print(key)"
   ],
   "metadata": {
    "collapsed": false,
    "ExecuteTime": {
     "end_time": "2023-10-30T05:07:59.970534500Z",
     "start_time": "2023-10-30T05:07:59.892162900Z"
    }
   }
  },
  {
   "cell_type": "code",
   "execution_count": 30,
   "outputs": [
    {
     "name": "stdout",
     "output_type": "stream",
     "text": [
      "name\n",
      "mass\n",
      "Ix\n",
      "Iy\n",
      "Iz\n",
      "center of mass\n",
      "Ixy\n"
     ]
    }
   ],
   "source": [
    "for key in truck_wheel:\n",
    "  print(key)"
   ],
   "metadata": {
    "collapsed": false,
    "ExecuteTime": {
     "end_time": "2023-10-30T05:08:06.443595500Z",
     "start_time": "2023-10-30T05:08:06.343300500Z"
    }
   }
  },
  {
   "cell_type": "markdown",
   "source": [
    "ฺOr by values\n",
    "\n",
    "```python\n",
    "for value in truck_wheel.values():\n",
    "  print (value)\n",
    "```"
   ],
   "metadata": {
    "collapsed": false
   }
  },
  {
   "cell_type": "code",
   "execution_count": 31,
   "outputs": [
    {
     "name": "stdout",
     "output_type": "stream",
     "text": [
      "wheel\n",
      "5.7\n",
      "20.0\n",
      "1.0\n",
      "17.0\n",
      "[0.0, 0.0, 0.0]\n",
      "0.0\n"
     ]
    }
   ],
   "source": [
    "for value in truck_wheel.values():\n",
    "  print (value)"
   ],
   "metadata": {
    "collapsed": false,
    "ExecuteTime": {
     "end_time": "2023-10-30T05:08:15.903137300Z",
     "start_time": "2023-10-30T05:08:15.763432300Z"
    }
   }
  },
  {
   "cell_type": "markdown",
   "source": [
    "To get by item (both, key and value pairs)\n",
    "\n",
    "```python\n",
    "for item in truck_wheel.items():\n",
    "  print(item)\n",
    "```"
   ],
   "metadata": {
    "collapsed": false
   }
  },
  {
   "cell_type": "code",
   "execution_count": 32,
   "outputs": [
    {
     "name": "stdout",
     "output_type": "stream",
     "text": [
      "('name', 'wheel')\n",
      "('mass', 5.7)\n",
      "('Ix', 20.0)\n",
      "('Iy', 1.0)\n",
      "('Iz', 17.0)\n",
      "('center of mass', [0.0, 0.0, 0.0])\n",
      "('Ixy', 0.0)\n"
     ]
    }
   ],
   "source": [
    "for item in truck_wheel.items():\n",
    "  print(item)"
   ],
   "metadata": {
    "collapsed": false,
    "ExecuteTime": {
     "end_time": "2023-10-30T05:08:21.659723200Z",
     "start_time": "2023-10-30T05:08:21.580714400Z"
    }
   }
  },
  {
   "cell_type": "markdown",
   "source": [
    "### Sets\n",
    "\n",
    "\n",
    "\n",
    "- Sets is the same properties, and operation as set in methametics\n",
    "- collection of distint objects\n",
    "\n",
    "Some mathematic set expression are\n",
    "$$\n",
    "A = {1,2,3,4}, B = 5\\\\\n",
    "C = A \\cup B\\\\\n",
    "D = A \\cap B\\\\\n",
    "E = C \\backslash A\\\\\n",
    "$$\n",
    "Will equivaent to the code\n",
    "\n",
    "```python\n",
    "A = {1,2,3,4}\n",
    "B = {5}\n",
    "C = A.union(B)\n",
    "D = A.intersection(C)\n",
    "E = C.difference(A)\n",
    "5 in c\n",
    "```\n",
    "\n"
   ],
   "metadata": {
    "collapsed": false
   }
  },
  {
   "cell_type": "code",
   "execution_count": 39,
   "outputs": [],
   "source": [
    "A = {1,2,3,4}\n",
    "B = {5}\n",
    "C = A.union(B)\n",
    "D = A.intersection(C)\n",
    "E = C.difference(A)"
   ],
   "metadata": {
    "collapsed": false,
    "ExecuteTime": {
     "end_time": "2023-10-30T05:10:24.718839500Z",
     "start_time": "2023-10-30T05:10:24.703226700Z"
    }
   }
  },
  {
   "cell_type": "markdown",
   "source": [
    "> Set contain element only once, see this\n",
    "\n",
    "```python\n",
    "A = {1,2,3,3,3}\n",
    "B = {1,2,3}\n",
    "A == B\n",
    "```"
   ],
   "metadata": {
    "collapsed": false
   }
  },
  {
   "cell_type": "code",
   "execution_count": 34,
   "outputs": [
    {
     "data": {
      "text/plain": "True"
     },
     "execution_count": 34,
     "metadata": {},
     "output_type": "execute_result"
    }
   ],
   "source": [
    "A = {1,2,3,3,3}\n",
    "B = {1,2,3}\n",
    "A == B"
   ],
   "metadata": {
    "collapsed": false,
    "ExecuteTime": {
     "end_time": "2023-10-30T05:08:47.254997800Z",
     "start_time": "2023-10-30T05:08:47.233127600Z"
    }
   }
  },
  {
   "cell_type": "markdown",
   "source": [
    "> and a set is unordered\n",
    "\n",
    "the order of set is not definded\n",
    "\n",
    "```python\n",
    "A = {1,2,3}\n",
    "B = {1,3,2}\n",
    "A == B\n",
    "```"
   ],
   "metadata": {
    "collapsed": false
   }
  },
  {
   "cell_type": "code",
   "execution_count": 35,
   "outputs": [
    {
     "data": {
      "text/plain": "True"
     },
     "execution_count": 35,
     "metadata": {},
     "output_type": "execute_result"
    }
   ],
   "source": [
    "A = {1,2,3}\n",
    "B = {1,3,2}\n",
    "A == B"
   ],
   "metadata": {
    "collapsed": false,
    "ExecuteTime": {
     "end_time": "2023-10-30T05:08:52.677630900Z",
     "start_time": "2023-10-30T05:08:52.646319900Z"
    }
   }
  },
  {
   "cell_type": "markdown",
   "source": [
    "## Type checking\n",
    "\n",
    "The direct way to see the type of a varialbe is to use the `type` command\n",
    "\n",
    "```python\n",
    "label = 'local error'\n",
    "type(label)\n",
    "```"
   ],
   "metadata": {
    "collapsed": false
   }
  },
  {
   "cell_type": "code",
   "execution_count": 36,
   "outputs": [
    {
     "data": {
      "text/plain": "str"
     },
     "execution_count": 36,
     "metadata": {},
     "output_type": "execute_result"
    }
   ],
   "source": [
    "label = 'local error'\n",
    "type(label)"
   ],
   "metadata": {
    "collapsed": false,
    "ExecuteTime": {
     "end_time": "2023-10-30T05:08:57.129353400Z",
     "start_time": "2023-10-30T05:08:57.066362700Z"
    }
   }
  },
  {
   "cell_type": "markdown",
   "source": [
    "```python\n",
    "x = [1,2]\n",
    "type(x)\n",
    "```"
   ],
   "metadata": {
    "collapsed": false
   }
  },
  {
   "cell_type": "code",
   "execution_count": 37,
   "outputs": [
    {
     "data": {
      "text/plain": "list"
     },
     "execution_count": 37,
     "metadata": {},
     "output_type": "execute_result"
    }
   ],
   "source": [
    "x = [1,2]\n",
    "type(x)"
   ],
   "metadata": {
    "collapsed": false,
    "ExecuteTime": {
     "end_time": "2023-10-30T05:09:01.236492Z",
     "start_time": "2023-10-30T05:09:01.157653800Z"
    }
   }
  },
  {
   "cell_type": "markdown",
   "source": [
    "> To check that the data is this type or ot use `isinstance` Comparing with the type\n",
    "\n",
    "```python\n",
    "isinstance(x,list)\n",
    "```"
   ],
   "metadata": {
    "collapsed": false
   }
  },
  {
   "cell_type": "code",
   "execution_count": 38,
   "outputs": [
    {
     "data": {
      "text/plain": "True"
     },
     "execution_count": 38,
     "metadata": {},
     "output_type": "execute_result"
    }
   ],
   "source": [
    "isinstance(x,list)"
   ],
   "metadata": {
    "collapsed": false,
    "ExecuteTime": {
     "end_time": "2023-10-30T05:09:05.703473700Z",
     "start_time": "2023-10-30T05:09:05.673015300Z"
    }
   }
  },
  {
   "cell_type": "markdown",
   "source": [
    "## Task\n",
    "\n",
    "### Task 1 Fibonacci\n",
    "\n",
    "Write a function that computes the list of the first 100 Fibonacci numbers. By definition, the first two numbers in Fibonacci sequence are 0 and 1, and each subsequent number is the sum of the previous two. As an example, here are the first 10 Fibonacci numbers: 0,1,1,2,3,5,8,13,21, and 34\n",
    "\n",
    "![image-20230719061113056](./assets/image-20230719061113056.png)"
   ],
   "metadata": {
    "collapsed": false
   }
  },
  {
   "cell_type": "code",
   "execution_count": 41,
   "outputs": [
    {
     "name": "stdout",
     "output_type": "stream",
     "text": [
      "[0, 1, 1, 2, 3, 5, 8, 13, 21, 34, 55, 89, 144, 233, 377, 610, 987, 1597, 2584, 4181, 6765, 10946, 17711, 28657, 46368, 75025, 121393, 196418, 317811, 514229, 832040, 1346269, 2178309, 3524578, 5702887, 9227465, 14930352, 24157817, 39088169, 63245986, 102334155, 165580141, 267914296, 433494437, 701408733, 1134903170, 1836311903, 2971215073, 4807526976, 7778742049, 12586269025, 20365011074, 32951280099, 53316291173, 86267571272, 139583862445, 225851433717, 365435296162, 591286729879, 956722026041, 1548008755920, 2504730781961, 4052739537881, 6557470319842, 10610209857723, 17167680177565, 27777890035288, 44945570212853, 72723460248141, 117669030460994, 190392490709135, 308061521170129, 498454011879264, 806515533049393, 1304969544928657, 2111485077978050, 3416454622906707, 5527939700884757, 8944394323791464, 14472334024676221, 23416728348467685, 37889062373143906, 61305790721611591, 99194853094755497, 160500643816367088, 259695496911122585, 420196140727489673, 679891637638612258, 1100087778366101931, 1779979416004714189, 2880067194370816120, 4660046610375530309, 7540113804746346429, 12200160415121876738, 19740274219868223167, 31940434634990099905, 51680708854858323072, 83621143489848422977, 135301852344706746049, 218922995834555169026]\n"
     ]
    }
   ],
   "source": [
    "def fibonacci(n):\n",
    "    fib_sequence = [0, 1]\n",
    "    while len(fib_sequence) < n:\n",
    "        fib_sequence.append(fib_sequence[-1] + fib_sequence[-2])\n",
    "    return fib_sequence\n",
    "\n",
    "first_100_fibonacci = fibonacci(100)\n",
    "print(first_100_fibonacci)"
   ],
   "metadata": {
    "collapsed": false,
    "ExecuteTime": {
     "end_time": "2023-10-30T05:11:57.836943800Z",
     "start_time": "2023-10-30T05:11:57.664091100Z"
    }
   }
  },
  {
   "cell_type": "markdown",
   "source": [
    "### Task 2 Morse code\n",
    "\n",
    "- Write a program that can generate the morse code from any text string\n",
    "- Each character is separate by space\n",
    "- Using `.` and `-` for the code\n",
    "\n",
    "<img src=\"./assets/800px-International_Morse_Code.svg.png\" style=\"zoom:33%;\" />\n",
    "\n",
    "**Hint**\n",
    "\n",
    "- where to find the character\n",
    "- [https://home.unicode.org/](https://colab.research.google.com/corgiredirector?site=https%3A%2F%2Fhome.unicode.org%2F&link_redirector=1)\n",
    "- [http://www.unicode.org/charts/](https://colab.research.google.com/corgiredirector?site=http%3A%2F%2Fwww.unicode.org%2Fcharts%2F&link_redirector=1)\n",
    "\n",
    "after getting the Unicode -> use the chr(0x2558) to convert to character"
   ],
   "metadata": {
    "collapsed": false
   }
  },
  {
   "cell_type": "code",
   "execution_count": 42,
   "outputs": [
    {
     "name": "stdout",
     "output_type": "stream",
     "text": [
      "Morse Code: .---- ..--- ..... \n"
     ]
    }
   ],
   "source": [
    "MORSE_CODE_DICT = {\n",
    "    'A': '.-', 'B': '-...', 'C': '-.-.', 'D': '-..', 'E': '.',\n",
    "    'F': '..-.', 'G': '--.', 'H': '....', 'I': '..', 'J': '.---',\n",
    "    'K': '-.-', 'L': '.-..', 'M': '--', 'N': '-.', 'O': '---',\n",
    "    'P': '.--.', 'Q': '--.-', 'R': '.-.', 'S': '...', 'T': '-',\n",
    "    'U': '..-', 'V': '...-', 'W': '.--', 'X': '-..-', 'Y': '-.--',\n",
    "    'Z': '--..', '1': '.----', '2': '..---', '3': '...--',\n",
    "    '4': '....-', '5': '.....', '6': '-....', '7': '--...',\n",
    "    '8': '---..', '9': '----.', '0': '-----', ', ': '--..--',\n",
    "    '.': '.-.-.-', '?': '..--..', '/': '-..-.', '-': '-....-',\n",
    "    '(': '-.--.', ')': '-.--.-'\n",
    "}\n",
    "\n",
    "def text_to_morse(text):\n",
    "    morse_code = ''\n",
    "    for char in text:\n",
    "        if char.upper() in MORSE_CODE_DICT:\n",
    "            morse_code += MORSE_CODE_DICT[char.upper()] + ' '\n",
    "        elif char == ' ':\n",
    "            morse_code += ' '\n",
    "    return morse_code\n",
    "\n",
    "def main():\n",
    "    user_input = input(\"Enter a text string: \")\n",
    "    morse_code = text_to_morse(user_input)\n",
    "    print(\"Morse Code:\", morse_code)\n",
    "\n",
    "if __name__ == \"__main__\":\n",
    "    main()\n"
   ],
   "metadata": {
    "collapsed": false,
    "ExecuteTime": {
     "end_time": "2023-10-30T05:13:53.578295Z",
     "start_time": "2023-10-30T05:13:49.773746Z"
    }
   }
  },
  {
   "cell_type": "markdown",
   "source": [
    "### Task 3 Largest Formed Number - just for fun\n",
    "\n",
    "Write a program that accepts a list of four non negative integers, arranges them such that they form a largest possible number.\n",
    "\n",
    "For example [50,2,1,9], the largest formed number is 95021\n",
    "\n",
    "Be carefull if [10,1] the answer is not 101 but 110"
   ],
   "metadata": {
    "collapsed": false
   }
  },
  {
   "cell_type": "code",
   "execution_count": 45,
   "outputs": [
    {
     "name": "stdout",
     "output_type": "stream",
     "text": [
      "The largest possible number is: 110\n"
     ]
    }
   ],
   "source": [
    "from functools import cmp_to_key\n",
    "\n",
    "def compare(x, y):\n",
    "    \"\"\"Compare two numbers to determine their order in the largest possible number.\"\"\"\n",
    "    return (int(y + x) - int(x + y))\n",
    "\n",
    "def largest_possible_number(numbers):\n",
    "    \"\"\"Arrange numbers to form the largest possible number.\"\"\"\n",
    "    # Convert the numbers to strings\n",
    "    numbers = map(str, numbers)\n",
    "    # Sort numbers based on their order in the largest possible number\n",
    "    numbers = sorted(numbers, key=cmp_to_key(compare))\n",
    "    # Concatenate the numbers and convert to integer to remove leading zeros\n",
    "    largest_number = int(''.join(numbers))\n",
    "    return largest_number\n",
    "\n",
    "def main():\n",
    "    user_input = input(\"Enter a list of four non-negative integers, separated by commas: \")\n",
    "    numbers = [int(num) for num in user_input.split(\",\")]\n",
    "    result = largest_possible_number(numbers)\n",
    "    print(\"The largest possible number is:\", result)\n",
    "\n",
    "if __name__ == \"__main__\":\n",
    "    main()\n"
   ],
   "metadata": {
    "collapsed": false,
    "ExecuteTime": {
     "end_time": "2023-10-30T05:15:21.425312100Z",
     "start_time": "2023-10-30T05:15:18.216042500Z"
    }
   }
  },
  {
   "cell_type": "code",
   "execution_count": null,
   "outputs": [],
   "source": [],
   "metadata": {
    "collapsed": false
   }
  }
 ],
 "metadata": {
  "kernelspec": {
   "display_name": "Python 3",
   "language": "python",
   "name": "python3"
  },
  "language_info": {
   "codemirror_mode": {
    "name": "ipython",
    "version": 2
   },
   "file_extension": ".py",
   "mimetype": "text/x-python",
   "name": "python",
   "nbconvert_exporter": "python",
   "pygments_lexer": "ipython2",
   "version": "2.7.6"
  }
 },
 "nbformat": 4,
 "nbformat_minor": 0
}
