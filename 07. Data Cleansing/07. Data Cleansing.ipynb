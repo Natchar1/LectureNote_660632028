{
 "nbformat": 4,
 "nbformat_minor": 0,
 "metadata": {
  "colab": {
   "provenance": [],
   "toc_visible": true
  },
  "kernelspec": {
   "name": "python3",
   "language": "python",
   "display_name": "Python 3 (ipykernel)"
  }
 },
 "cells": [
  {
   "cell_type": "markdown",
   "metadata": {
    "id": "3unlrbW0yna1"
   },
   "source": [
    "# Data cleansing"
   ]
  },
  {
   "cell_type": "markdown",
   "metadata": {
    "id": "vb65ne0Yyt-J"
   },
   "source": [
    "During the course of doing data analysis and modeling, a significant amount of time is spent on data preparation:\n",
    "\n",
    "*   loading\n",
    "*   cleaning\n",
    "*   transforming\n",
    "*   rearraging\n",
    "\n",
    "Such tasks are often reported to take up 80% or more of an analyst’s time.\n"
   ]
  },
  {
   "cell_type": "markdown",
   "metadata": {
    "id": "v833DabazP_C"
   },
   "source": [
    "What can happen with the loading data are\n",
    "* missing data\n",
    "* duplicate data\n",
    "* string manipulation\n",
    "* other analytical data transformation\n"
   ]
  },
  {
   "cell_type": "markdown",
   "metadata": {
    "id": "_0vA7ybSzf8p"
   },
   "source": [
    "## Missing data\n",
    "---\n",
    "\n",
    "Some data are imperfect, but it is functional for lot of users\n",
    "\n",
    "For numeric data,\n",
    "  Pandas use Nan ``` Nan``` (Not a Number) to represent the number\n",
    "\n",
    "So call a *sentinel value*\n",
    "\n"
   ]
  },
  {
   "cell_type": "markdown",
   "metadata": {
    "id": "BWIBL6Gn0fxi"
   },
   "source": [
    "**To detect the missing data**\n",
    "\n",
    "---\n",
    "\n",
    "\n",
    "Check by `isNull` value\n",
    "\n",
    "```python\n",
    "import pandas as pd\n",
    "import numpy as np\n",
    "```\n",
    "\n",
    "\n",
    "\n",
    "```python\n",
    "string_data = pd.Series(['aardvark', 'artichoke', np.nan, 'avocado'])\n",
    "string_data\n",
    "```"
   ]
  },
  {
   "cell_type": "code",
   "metadata": {
    "id": "0bHTFKpH004n"
   },
   "source": [
    "\n",
    "\n"
   ],
   "execution_count": null,
   "outputs": []
  },
  {
   "cell_type": "code",
   "execution_count": null,
   "outputs": [],
   "source": [],
   "metadata": {
    "collapsed": false
   }
  },
  {
   "cell_type": "markdown",
   "metadata": {
    "id": "K6jIx9Eq0_BD"
   },
   "source": [
    "check for null value\n",
    "\n",
    "```python\n",
    "string_data.isnull()\n",
    "```"
   ]
  },
  {
   "cell_type": "code",
   "metadata": {
    "id": "eJHHG0rp0-Hb",
    "colab": {
     "base_uri": "https://localhost:8080/"
    },
    "outputId": "3818fbe9-663b-41e7-d1da-5af3eb86fcea"
   },
   "source": [],
   "execution_count": null,
   "outputs": []
  },
  {
   "cell_type": "markdown",
   "metadata": {
    "id": "rEkp5apnn1j8"
   },
   "source": [
    "The N/A handling method are provided in the data frame as given\n",
    "\n",
    "![image-20230906053837943](./assets/image-20230906053837943.png)\n"
   ]
  },
  {
   "cell_type": "markdown",
   "metadata": {
    "id": "oKUzjEkXn-X8"
   },
   "source": [
    "### Filtering the data\n",
    "---\n",
    "\n",
    "\n",
    "The *NA* data can filtering out as shown\n",
    "\n",
    "```python\n",
    "from numpy import nan as NA\n",
    "data = pd.Series([1, NA, 3.5, NA, 7])\n",
    "data\n",
    "```"
   ]
  },
  {
   "cell_type": "code",
   "metadata": {
    "id": "Qf7S8CV4oNYA",
    "colab": {
     "base_uri": "https://localhost:8080/"
    },
    "outputId": "4e299cd2-a56e-49b4-b9d1-7193a94f50db"
   },
   "source": [],
   "execution_count": null,
   "outputs": []
  },
  {
   "cell_type": "markdown",
   "source": [
    "The `dropna` method will filter out the NA value\n",
    "\n",
    "```python\n",
    "data.dropna()\n",
    "```"
   ],
   "metadata": {
    "collapsed": false
   }
  },
  {
   "cell_type": "code",
   "metadata": {
    "id": "OYtMwrAEoTlu",
    "colab": {
     "base_uri": "https://localhost:8080/"
    },
    "outputId": "dbcc03a1-9ca8-4451-eb57-e5747e286eab"
   },
   "source": [],
   "execution_count": null,
   "outputs": []
  },
  {
   "cell_type": "markdown",
   "metadata": {
    "id": "5VjogjPToVnH"
   },
   "source": [
    "the data frame can be also filter\n",
    "\n",
    "```python\n",
    "data = pd.DataFrame([[1., 6.5, 3.], [1., NA, NA],\n",
    "                     [NA, NA, NA], [NA, 6.5, 3.]])\n",
    "data\n",
    "```"
   ]
  },
  {
   "cell_type": "code",
   "metadata": {
    "id": "wIrVY1VXocKR",
    "colab": {
     "base_uri": "https://localhost:8080/",
     "height": 175
    },
    "outputId": "75136092-34e4-456e-f430-7e69edf4955c"
   },
   "source": [],
   "execution_count": null,
   "outputs": []
  },
  {
   "cell_type": "markdown",
   "source": [
    "The `dropna` method will drop all the rows which contains NA value\n",
    "\n",
    "\n",
    "```python\n",
    "cleaned = data.dropna()\n",
    "cleaned\n",
    "```"
   ],
   "metadata": {
    "collapsed": false
   }
  },
  {
   "cell_type": "code",
   "metadata": {
    "id": "eyubfD1NohAc",
    "colab": {
     "base_uri": "https://localhost:8080/",
     "height": 81
    },
    "outputId": "2681cdba-a99f-4577-8482-99933aa500d5"
   },
   "source": [],
   "execution_count": null,
   "outputs": []
  },
  {
   "cell_type": "markdown",
   "metadata": {
    "id": "O-SGEM7Vommi"
   },
   "source": [
    "**We** can drop only the line which contains **NA** all the rows usign `how='all'`\n",
    "\n",
    "```python\n",
    "data.dropna(how='all')\n",
    "```"
   ]
  },
  {
   "cell_type": "code",
   "metadata": {
    "id": "ybrBfA_8ouD5",
    "colab": {
     "base_uri": "https://localhost:8080/",
     "height": 143
    },
    "outputId": "143fd3cd-ac98-4645-8ca1-18e3d93bb1cd"
   },
   "source": [],
   "execution_count": null,
   "outputs": []
  },
  {
   "cell_type": "markdown",
   "metadata": {
    "id": "XLnESLSSo70l"
   },
   "source": [
    "**To** drop only columns which contains  all NA, you can use the `axis=1 `parameter"
   ]
  },
  {
   "cell_type": "code",
   "source": [],
   "metadata": {
    "colab": {
     "base_uri": "https://localhost:8080/",
     "height": 175
    },
    "id": "RdceaLWBDanO",
    "outputId": "70caff5f-a385-462a-f18c-c28591c11311"
   },
   "execution_count": null,
   "outputs": []
  },
  {
   "cell_type": "markdown",
   "source": [
    "```python\n",
    "data.dropna(how='all',axis=1)\n",
    "```"
   ],
   "metadata": {
    "collapsed": false
   }
  },
  {
   "cell_type": "code",
   "source": [],
   "metadata": {
    "colab": {
     "base_uri": "https://localhost:8080/",
     "height": 175
    },
    "id": "mjRYuYpLDMsD",
    "outputId": "b9ae71ed-8861-4767-f6f1-485d6241b310"
   },
   "execution_count": null,
   "outputs": []
  },
  {
   "cell_type": "markdown",
   "source": [
    "Try to add a new column with NA value\n",
    "```python\n",
    "data[4] = NA\n",
    "data\n",
    "```"
   ],
   "metadata": {
    "collapsed": false
   }
  },
  {
   "cell_type": "code",
   "metadata": {
    "id": "YvbFAUlDpFzr",
    "colab": {
     "base_uri": "https://localhost:8080/",
     "height": 175
    },
    "outputId": "1bd8170f-3e74-4684-efa6-0e4d091bdba8"
   },
   "source": [
    "\n"
   ],
   "execution_count": null,
   "outputs": []
  },
  {
   "cell_type": "markdown",
   "source": [
    "drop na regarding to the axis\n",
    "```python\n",
    "data.dropna(axis=1, how='all')\n",
    "```"
   ],
   "metadata": {
    "collapsed": false
   }
  },
  {
   "cell_type": "code",
   "metadata": {
    "id": "kwKtGfoTpMaJ",
    "colab": {
     "base_uri": "https://localhost:8080/",
     "height": 175
    },
    "outputId": "35b74924-919d-45d8-d797-4bdc84acfe23"
   },
   "source": [],
   "execution_count": null,
   "outputs": []
  },
  {
   "cell_type": "markdown",
   "source": [
    "Comparing to\n",
    "```python\n",
    "data.dropna(axis=1)\n",
    "```"
   ],
   "metadata": {
    "collapsed": false
   }
  },
  {
   "cell_type": "code",
   "metadata": {
    "id": "sWJcEXNZPhMH",
    "colab": {
     "base_uri": "https://localhost:8080/",
     "height": 157
    },
    "outputId": "fba3d08c-17f1-48ff-f67d-01de4638244b"
   },
   "source": [],
   "execution_count": null,
   "outputs": []
  },
  {
   "cell_type": "markdown",
   "source": [
    "What are differents of `how='all'` and no `how` parameter"
   ],
   "metadata": {
    "collapsed": false
   }
  },
  {
   "cell_type": "markdown",
   "metadata": {
    "id": "F1GEkAZnpa1s"
   },
   "source": [
    "We can drop the rows which may have more data than the given value as we can tolerate for some data missing. `tresh` parameter is required here\n",
    "```python\n",
    "df = pd.DataFrame(np.random.randn(7, 3))\n",
    "df.iloc[:4, 1] = NA\n",
    "df.iloc[:2, 2] = NA\n",
    "df\n",
    "```\n"
   ]
  },
  {
   "cell_type": "code",
   "metadata": {
    "id": "RVlj8PtdpuxU",
    "colab": {
     "base_uri": "https://localhost:8080/",
     "height": 269
    },
    "outputId": "9347e4f4-ead7-472b-e894-8730b48f1d0b"
   },
   "source": [],
   "execution_count": null,
   "outputs": []
  },
  {
   "cell_type": "markdown",
   "metadata": {
    "id": "gfFHfLQFpymt"
   },
   "source": [
    "drop all NA\n",
    "```python\n",
    "df.dropna()\n",
    "```"
   ]
  },
  {
   "cell_type": "code",
   "metadata": {
    "id": "S19qRsavp1qN",
    "colab": {
     "base_uri": "https://localhost:8080/",
     "height": 143
    },
    "outputId": "33de3f7e-e2f1-4619-8b30-69adaad4c5fc"
   },
   "source": [],
   "execution_count": null,
   "outputs": []
  },
  {
   "cell_type": "markdown",
   "metadata": {
    "id": "2t9b2Yz8p0Sw"
   },
   "source": [
    "drop only a line which contains non-NA value more than or equal than the treshold\n",
    "```python\n",
    "df.dropna(thresh=2)\n",
    "```"
   ]
  },
  {
   "cell_type": "code",
   "metadata": {
    "id": "E_BYgkb-qNqR",
    "colab": {
     "base_uri": "https://localhost:8080/",
     "height": 206
    },
    "outputId": "7a563ce0-9d80-4d25-d277-bcc9dc011d3f"
   },
   "source": [],
   "execution_count": null,
   "outputs": []
  },
  {
   "cell_type": "markdown",
   "metadata": {
    "id": "Qhde1U6Bus3Y"
   },
   "source": [
    "#### Work\n",
    "\n",
    "\n",
    "\n",
    "Form the file given in `file/property_data.csv`\n"
   ]
  },
  {
   "cell_type": "markdown",
   "metadata": {
    "id": "pLVmcYYiu8mt"
   },
   "source": [
    "Provide the given output"
   ]
  },
  {
   "cell_type": "code",
   "metadata": {
    "id": "nA8Or5KIGHSd"
   },
   "source": [],
   "execution_count": null,
   "outputs": []
  },
  {
   "cell_type": "code",
   "metadata": {
    "id": "62uv2eaWu_sI",
    "colab": {
     "base_uri": "https://localhost:8080/",
     "height": 331
    },
    "outputId": "f9df2590-6c4c-4044-9b2e-5129398f4af6"
   },
   "source": [],
   "execution_count": null,
   "outputs": []
  },
  {
   "cell_type": "markdown",
   "metadata": {
    "id": "yKDCMPz4WZmO"
   },
   "source": [
    "output 1\n",
    "![image-20230906061553156](./assets/image-20230906061553156.png)"
   ]
  },
  {
   "cell_type": "code",
   "metadata": {
    "id": "26z-c65pxii_",
    "colab": {
     "base_uri": "https://localhost:8080/",
     "height": 81
    },
    "outputId": "1c176f2e-03af-43fe-965a-caa57b6970fa"
   },
   "source": [],
   "execution_count": null,
   "outputs": []
  },
  {
   "cell_type": "markdown",
   "metadata": {
    "id": "wwdrKqlCWpbJ"
   },
   "source": [
    "Output 2\n",
    "\n",
    "![image-20230906061619935](./assets/image-20230906061619935.png)"
   ]
  },
  {
   "cell_type": "code",
   "metadata": {
    "id": "q6R39NQXyCsf",
    "colab": {
     "base_uri": "https://localhost:8080/",
     "height": 269
    },
    "outputId": "e32ced2b-e68f-416f-e9a6-a2e0b58439a1"
   },
   "source": [],
   "execution_count": null,
   "outputs": []
  },
  {
   "cell_type": "markdown",
   "metadata": {
    "id": "3bZKvn_vYsl-"
   },
   "source": [
    "Output 3\n",
    "\n",
    "![image-20230906061652010](./assets/image-20230906061652010.png)"
   ]
  },
  {
   "cell_type": "code",
   "metadata": {
    "id": "1o6fSbTu0PSW",
    "colab": {
     "base_uri": "https://localhost:8080/",
     "height": 331
    },
    "outputId": "bab0d6e4-5a63-4e54-ace7-628fcdc71474"
   },
   "source": [],
   "execution_count": null,
   "outputs": []
  },
  {
   "cell_type": "markdown",
   "metadata": {
    "id": "zxgLC3q_qXQ8"
   },
   "source": [
    "### Filling in missing data\n",
    "---\n",
    "Instead of filtering data. Default data may be used.\n",
    "we can fil the default data for all `NA` values.\n",
    "\n",
    "```python\n",
    "df\n",
    "```"
   ]
  },
  {
   "cell_type": "code",
   "metadata": {
    "id": "yVyhi0f4K3UB",
    "colab": {
     "base_uri": "https://localhost:8080/",
     "height": 331
    },
    "outputId": "9c5e7f3f-eafb-4e65-e086-120f33df4e6e"
   },
   "source": [],
   "execution_count": null,
   "outputs": []
  },
  {
   "cell_type": "markdown",
   "source": [
    "```python\n",
    "df.fillna(0)\n",
    "```\n"
   ],
   "metadata": {
    "collapsed": false
   }
  },
  {
   "cell_type": "code",
   "metadata": {
    "id": "BR8zSMuhrAuI",
    "colab": {
     "base_uri": "https://localhost:8080/",
     "height": 331
    },
    "outputId": "be0a0fd9-fa10-4443-f791-f245429da8b8"
   },
   "source": [],
   "execution_count": null,
   "outputs": []
  },
  {
   "cell_type": "markdown",
   "metadata": {
    "id": "_LhPQVt8rDbL"
   },
   "source": [
    "Or we can define the value for each column\n",
    "```python\n",
    "df.fillna({\"PID\":0.5,\"ST_NUM\":1.2})\n",
    "```"
   ]
  },
  {
   "cell_type": "code",
   "metadata": {
    "id": "MpIZGq28WYGQ",
    "colab": {
     "base_uri": "https://localhost:8080/",
     "height": 331
    },
    "outputId": "daec5760-f661-4b60-d529-e23aecc735bd"
   },
   "source": [],
   "execution_count": null,
   "outputs": []
  },
  {
   "cell_type": "code",
   "metadata": {
    "id": "Wy1VB50MrHWn"
   },
   "source": [],
   "execution_count": null,
   "outputs": []
  },
  {
   "cell_type": "code",
   "metadata": {
    "id": "JWaUDVkbLkf0",
    "colab": {
     "base_uri": "https://localhost:8080/",
     "height": 331
    },
    "outputId": "e0318a97-a892-4c6a-c60a-3b2584a358fd"
   },
   "source": [
    "\n"
   ],
   "execution_count": null,
   "outputs": []
  },
  {
   "cell_type": "markdown",
   "metadata": {
    "id": "EkI6rRBxrMzJ"
   },
   "source": [
    "`fillna` returns a new object, but we can modify the existing object in-place\n",
    "```python\n",
    "df.fillna(0,inplace=True)\n",
    "df\n",
    "```\n"
   ]
  },
  {
   "cell_type": "code",
   "metadata": {
    "id": "Egd-6Ub1rSNg",
    "colab": {
     "base_uri": "https://localhost:8080/",
     "height": 331
    },
    "outputId": "5c4853cf-1b2c-45ff-871c-ae3524215ab0"
   },
   "source": [],
   "execution_count": null,
   "outputs": []
  },
  {
   "cell_type": "markdown",
   "metadata": {
    "id": "0ZtYymEOrumI"
   },
   "source": [
    "We can use the interpolation method to file the value.\n",
    "\n",
    "Now we create a new data frame with some `NA`\n",
    "```python\n",
    "df = pd.DataFrame(np.random.randn(6, 3))\n",
    "df.iloc[2:, 1] = NA\n",
    "df.iloc[4:, 2] = NA\n",
    "df\n",
    "```"
   ]
  },
  {
   "cell_type": "code",
   "metadata": {
    "id": "lQaZvanKM8xh"
   },
   "source": [],
   "execution_count": null,
   "outputs": []
  },
  {
   "cell_type": "code",
   "metadata": {
    "id": "4J_Xde2rsA9H",
    "colab": {
     "base_uri": "https://localhost:8080/",
     "height": 237
    },
    "outputId": "7a8776af-5c33-45e8-d1b2-1004eee8453e"
   },
   "source": [],
   "execution_count": null,
   "outputs": []
  },
  {
   "cell_type": "markdown",
   "metadata": {
    "id": "OIY3mYO0sC3p"
   },
   "source": [
    "Add the interpolation methods for more details google `dataframe fillna`\n",
    "```python\n",
    "df.fill()\n",
    "```\n"
   ]
  },
  {
   "cell_type": "code",
   "metadata": {
    "id": "Dve0KFUysGzb",
    "colab": {
     "base_uri": "https://localhost:8080/",
     "height": 237
    },
    "outputId": "ef64bd86-1cdf-42f8-e878-de50c23110fe"
   },
   "source": [],
   "execution_count": null,
   "outputs": []
  },
  {
   "cell_type": "markdown",
   "metadata": {
    "id": "JSgjZmbusI_r"
   },
   "source": [
    "we can set limit of filling data that it should not be filled more than limit value.\n",
    "```python\n",
    "df.ffill(limit=2)\n",
    "```\n"
   ]
  },
  {
   "cell_type": "code",
   "metadata": {
    "id": "hYI8ikJjsTw0",
    "colab": {
     "base_uri": "https://localhost:8080/",
     "height": 237
    },
    "outputId": "c91f454a-df16-4c3b-b391-657df8dd99a2"
   },
   "source": [],
   "execution_count": null,
   "outputs": []
  },
  {
   "cell_type": "markdown",
   "metadata": {
    "id": "KhyzCYtZrzDB"
   },
   "source": [
    "Another fill method can be found in the api\n",
    "such as `bfill` which is backward fill\n",
    "```python\n",
    "df.bfill()\n",
    "```\n",
    "\n"
   ]
  },
  {
   "cell_type": "code",
   "execution_count": null,
   "outputs": [],
   "source": [],
   "metadata": {
    "collapsed": false
   }
  },
  {
   "cell_type": "markdown",
   "source": [
    "Try\n",
    "\n",
    "```python\n",
    "df[6] = [1,2,3]\n",
    "df\n",
    "```"
   ],
   "metadata": {
    "collapsed": false
   }
  },
  {
   "cell_type": "code",
   "execution_count": null,
   "outputs": [],
   "source": [],
   "metadata": {
    "collapsed": false
   }
  },
  {
   "cell_type": "code",
   "execution_count": null,
   "outputs": [],
   "source": [],
   "metadata": {
    "collapsed": false
   }
  },
  {
   "cell_type": "markdown",
   "metadata": {
    "id": "n0xkAyGt0sOP"
   },
   "source": [
    "#### Work\n",
    "\n",
    "---\n",
    "From the propery_data you have done from the last work\n",
    "Provide this dataframe"
   ]
  },
  {
   "cell_type": "code",
   "metadata": {
    "id": "fZp7rWiT2TQ7",
    "colab": {
     "base_uri": "https://localhost:8080/",
     "height": 331
    },
    "outputId": "2216c392-e3ce-4d48-8e1c-1c9c981a895f"
   },
   "source": [],
   "execution_count": null,
   "outputs": []
  },
  {
   "cell_type": "markdown",
   "metadata": {
    "id": "Cv8DzRg0Zhdp"
   },
   "source": [
    "Output 1\n",
    "![image-20230906063035319](./assets/image-20230906063035319.png)\n"
   ]
  },
  {
   "cell_type": "code",
   "metadata": {
    "id": "atTt2I582fOi",
    "colab": {
     "base_uri": "https://localhost:8080/",
     "height": 331
    },
    "outputId": "96edb1d4-3897-4517-8a3b-808ac9dfd979"
   },
   "source": [],
   "execution_count": null,
   "outputs": []
  },
  {
   "cell_type": "markdown",
   "metadata": {
    "id": "v91y3obtZoSm"
   },
   "source": [
    "Output 2\n",
    "![image-20230906063122466](./assets/image-20230906063122466.png)"
   ]
  },
  {
   "cell_type": "code",
   "metadata": {
    "id": "uGLIsuE72m1-",
    "colab": {
     "base_uri": "https://localhost:8080/",
     "height": 331
    },
    "outputId": "2f8242c0-b719-4cbb-f251-6fd6b3c0722b"
   },
   "source": [],
   "execution_count": null,
   "outputs": []
  },
  {
   "cell_type": "markdown",
   "metadata": {
    "id": "5MUSdIB2Zs_H"
   },
   "source": [
    "Output 3\n",
    "![image-20230906063412850](./assets/image-20230906063412850.png)\n"
   ]
  },
  {
   "cell_type": "code",
   "execution_count": null,
   "outputs": [],
   "source": [],
   "metadata": {
    "collapsed": false
   }
  },
  {
   "cell_type": "code",
   "execution_count": null,
   "outputs": [],
   "source": [],
   "metadata": {
    "collapsed": false
   }
  },
  {
   "cell_type": "markdown",
   "metadata": {
    "id": "nuY4JK10bdLt"
   },
   "source": []
  },
  {
   "cell_type": "markdown",
   "metadata": {
    "id": "u9hDfUFrtvEr"
   },
   "source": [
    "## Data Transformation\n",
    "\n"
   ]
  },
  {
   "cell_type": "markdown",
   "metadata": {
    "id": "kaaqn6qDt9NF"
   },
   "source": [
    "We need to transform the data in the format which can manipulate it later."
   ]
  },
  {
   "cell_type": "markdown",
   "metadata": {
    "id": "_eqmcsHauGtU"
   },
   "source": [
    "### Removing Duplicates\n",
    "\n",
    "\n",
    "Some data duplication must be removed to reduce the unusual behaviour of data\n",
    "from the provided data"
   ]
  },
  {
   "cell_type": "code",
   "source": [],
   "metadata": {
    "id": "D_GiW_Ax1DMf"
   },
   "execution_count": null,
   "outputs": []
  },
  {
   "cell_type": "markdown",
   "source": [
    "setting up a new dataframe\n",
    "```python\n",
    "data = pd.DataFrame({'k1': ['one', 'two'] * 3 + ['two'],\n",
    "                     'k2': [1, 1, 2, 3, 3, 4, 4]})\n",
    "data\n",
    "```"
   ],
   "metadata": {
    "collapsed": false
   }
  },
  {
   "cell_type": "code",
   "metadata": {
    "id": "Cz6EcFqIuRSg",
    "colab": {
     "base_uri": "https://localhost:8080/",
     "height": 269
    },
    "outputId": "2c3a7d9d-1918-4b1d-bc4e-41632f41b376"
   },
   "source": [],
   "execution_count": null,
   "outputs": []
  },
  {
   "cell_type": "markdown",
   "metadata": {
    "id": "uzXfoO5zukOf"
   },
   "source": [
    "The duplicated data is found by\n",
    "\n",
    "```python\n",
    "data.duplicated()\n",
    "```"
   ]
  },
  {
   "cell_type": "code",
   "metadata": {
    "id": "GTGRSRD_unqt",
    "colab": {
     "base_uri": "https://localhost:8080/"
    },
    "outputId": "acb7d07d-fc6d-4bbf-f7c0-f99c43779f04"
   },
   "source": [],
   "execution_count": null,
   "outputs": []
  },
  {
   "cell_type": "markdown",
   "metadata": {
    "id": "uKpyz3OMunEG"
   },
   "source": [
    "So we can drop the duplicate code\n",
    "```python\n",
    "data.drop_duplicates()\n",
    "```"
   ]
  },
  {
   "cell_type": "code",
   "metadata": {
    "id": "SpcQNVnpus-5",
    "colab": {
     "base_uri": "https://localhost:8080/",
     "height": 237
    },
    "outputId": "cd04d021-037a-4c28-b780-2153d94b1f32"
   },
   "source": [],
   "execution_count": null,
   "outputs": []
  },
  {
   "cell_type": "markdown",
   "metadata": {
    "id": "P1IbfYGBuxau"
   },
   "source": [
    "we can select key to check the duplicate data, adding a new column to the data frame to see which data is stored\n",
    "```python\n",
    "data['v1'] = range(7)\n",
    "data\n",
    "```\n"
   ]
  },
  {
   "cell_type": "code",
   "metadata": {
    "id": "b5NqNAmBxf_u",
    "colab": {
     "base_uri": "https://localhost:8080/",
     "height": 269
    },
    "outputId": "d32193c5-3782-42e8-b4cc-4a11ce140da1"
   },
   "source": [],
   "execution_count": null,
   "outputs": []
  },
  {
   "cell_type": "markdown",
   "source": [
    "now check for duplicatoin\n",
    "```python\n",
    "data.duplicated()\n",
    "```"
   ],
   "metadata": {
    "collapsed": false
   }
  },
  {
   "cell_type": "code",
   "metadata": {
    "id": "5NhXvsAUUS7N",
    "colab": {
     "base_uri": "https://localhost:8080/"
    },
    "outputId": "18206bf8-f845-48c1-99f4-da8adf86327a"
   },
   "source": [],
   "execution_count": null,
   "outputs": []
  },
  {
   "cell_type": "markdown",
   "metadata": {
    "id": "nD2v-n7Txkae"
   },
   "source": [
    "check the dupplicate key only the key in column k1\n",
    "```python\n",
    "data.duplicated(['k1'])\n",
    "```"
   ]
  },
  {
   "cell_type": "code",
   "metadata": {
    "id": "n_Wzn6XxxqUT",
    "colab": {
     "base_uri": "https://localhost:8080/",
     "height": 112
    },
    "outputId": "37204db0-f432-4b2d-8c3f-1eb40394612f"
   },
   "source": [],
   "execution_count": null,
   "outputs": []
  },
  {
   "cell_type": "markdown",
   "metadata": {
    "id": "n7iv6i20xt8a"
   },
   "source": [
    "The previous work keep the first data in the result data frame. We can keep the last entry of the duplicate data using the `keep` parameter\n",
    "comparing these code?\n",
    "```python\n",
    "data.drop_duplicates(['k1','k2'])\n",
    "```"
   ]
  },
  {
   "cell_type": "code",
   "metadata": {
    "id": "tD9pkIWqgKnJ",
    "colab": {
     "base_uri": "https://localhost:8080/",
     "height": 237
    },
    "outputId": "cba0cd70-1b6a-4782-b440-e551d6ed88bf"
   },
   "source": [],
   "execution_count": null,
   "outputs": []
  },
  {
   "cell_type": "markdown",
   "source": [
    "with\n",
    "```python\n",
    "data.drop_duplicates(['k1','k2'],keep='last')\n",
    "```"
   ],
   "metadata": {
    "collapsed": false
   }
  },
  {
   "cell_type": "code",
   "metadata": {
    "id": "Gq907ME6x9_B",
    "colab": {
     "base_uri": "https://localhost:8080/",
     "height": 237
    },
    "outputId": "144cd917-5fb6-41bc-8d1d-5cb42b06fd4f"
   },
   "source": [],
   "execution_count": null,
   "outputs": []
  },
  {
   "cell_type": "markdown",
   "metadata": {
    "id": "yKdIMw8iyIDu"
   },
   "source": [
    "### Transforming Data Using a Function or mapping\n",
    "\n",
    "Data can be mapped to a better representation\n",
    "\n",
    "with the provided data frame\n",
    "```python\n",
    "data = pd.DataFrame({'food': ['bacon', 'pulled pork', 'bacon',\n",
    "                              'Pastrami', 'corned beef', 'Bacon',\n",
    "                              'pastrami', 'honey ham', 'nova lox'],\n",
    "                     'ounces': [4, 3, 12, 6, 7.5, 8, 3, 5, 6]})\n",
    "data\n",
    "```"
   ]
  },
  {
   "cell_type": "code",
   "metadata": {
    "id": "D7kdpUSYyT9E",
    "colab": {
     "base_uri": "https://localhost:8080/",
     "height": 331
    },
    "outputId": "1f0fa8c4-feec-4cf1-a3bc-37ec13537b44"
   },
   "source": [],
   "execution_count": null,
   "outputs": []
  },
  {
   "cell_type": "markdown",
   "metadata": {
    "id": "PeruaoJIyXbT"
   },
   "source": [
    "The mapping dictionary is provided\n",
    "```python\n",
    "meat_to_animal = {\n",
    "  'bacon': 'pig',\n",
    "  'pulled pork': 'pig',\n",
    "  'pastrami': 'cow',\n",
    "  'corned beef': 'cow',\n",
    "  'honey ham': 'pig',\n",
    "  'nova lox': 'salmon'\n",
    "}\n",
    "```"
   ]
  },
  {
   "cell_type": "code",
   "metadata": {
    "id": "4jMwQefQyZxA"
   },
   "source": [],
   "execution_count": null,
   "outputs": []
  },
  {
   "cell_type": "markdown",
   "metadata": {
    "id": "V_xngC8sydE9"
   },
   "source": [
    "Then we can provide the map as given\n",
    "```python\n",
    "lowercased = data['food'].str.lower()\n",
    "lowercased\n",
    "```"
   ]
  },
  {
   "cell_type": "code",
   "metadata": {
    "id": "4FD1gvWzyhoU",
    "colab": {
     "base_uri": "https://localhost:8080/"
    },
    "outputId": "32b7f60d-f582-4961-e1c1-96c9e7b8916c"
   },
   "source": [],
   "execution_count": null,
   "outputs": []
  },
  {
   "cell_type": "markdown",
   "source": [
    "then mapping the data\n",
    "```python\n",
    "data['animal'] = lowercased.map(meat_to_animal)\n",
    "data\n",
    "```"
   ],
   "metadata": {
    "collapsed": false
   }
  },
  {
   "cell_type": "code",
   "metadata": {
    "id": "A1ciCCcCykRE",
    "colab": {
     "base_uri": "https://localhost:8080/",
     "height": 331
    },
    "outputId": "dea022ea-77a8-418b-99a9-df7a863614a4"
   },
   "source": [],
   "execution_count": null,
   "outputs": []
  },
  {
   "cell_type": "markdown",
   "metadata": {
    "id": "flbAR5LoysHb"
   },
   "source": [
    "### Replacing value\n",
    "---\n",
    "\n",
    "Some value can be replaced, in order to manage the code easier.\n",
    "For example with the given data frame\n",
    "```python\n",
    "data = pd.Series([1., -999., 2., -999., -1000., 3.])\n",
    "data\n",
    "```\n"
   ]
  },
  {
   "cell_type": "code",
   "metadata": {
    "id": "ykZrH7yby7BC",
    "colab": {
     "base_uri": "https://localhost:8080/"
    },
    "outputId": "10e85123-e436-4665-f0cd-048cd8f439ea"
   },
   "source": [],
   "execution_count": null,
   "outputs": []
  },
  {
   "cell_type": "markdown",
   "metadata": {
    "id": "D82X9jnUy_LX"
   },
   "source": [
    "The value -999 may be the **sentinel** values\n",
    "\n",
    "The sentinel value is the value which define the state of data but not the real data. For example, the exit point or the `NA` of the value.\n",
    "```python\n",
    "data.replace(-999, np.nan)\n",
    "```\n"
   ]
  },
  {
   "cell_type": "code",
   "source": [
    "import numpy as np"
   ],
   "metadata": {
    "id": "CKwy3bvW6fdu"
   },
   "execution_count": null,
   "outputs": []
  },
  {
   "cell_type": "code",
   "metadata": {
    "id": "XcU2RAcS-lm6",
    "colab": {
     "base_uri": "https://localhost:8080/"
    },
    "outputId": "720038a5-7783-4e11-f319-a02239c4d8a5"
   },
   "source": [],
   "execution_count": null,
   "outputs": []
  },
  {
   "cell_type": "markdown",
   "metadata": {
    "id": "ScYPcr2H-08f"
   },
   "source": [
    "we can replace multiple data with only one value\n",
    "\n",
    "```python\n",
    "data.replace([-999,-1000],np.nan)\n",
    "```"
   ]
  },
  {
   "cell_type": "code",
   "metadata": {
    "id": "C46N9w9z-6OU",
    "colab": {
     "base_uri": "https://localhost:8080/"
    },
    "outputId": "b5786216-b8b9-483c-8c21-edcaea1967ec"
   },
   "source": [],
   "execution_count": null,
   "outputs": []
  },
  {
   "cell_type": "markdown",
   "metadata": {
    "id": "P9vapFDY_A_d"
   },
   "source": [
    "Or replace different value with different data\n",
    "```python\n",
    "data.replace([-999,-1000],[np.nan,0])\n",
    "```"
   ]
  },
  {
   "cell_type": "code",
   "metadata": {
    "id": "HiY6ZwIA_E7L",
    "colab": {
     "base_uri": "https://localhost:8080/"
    },
    "outputId": "661c4495-30b5-4ef6-9ee2-4e96abee32fc"
   },
   "source": [],
   "execution_count": null,
   "outputs": []
  },
  {
   "cell_type": "markdown",
   "source": [
    "or using the dictionary to map the request data\n",
    "```python\n",
    "data.replace({-999: np.nan, -1000: 0})\n",
    "```"
   ],
   "metadata": {
    "collapsed": false
   }
  },
  {
   "cell_type": "code",
   "metadata": {
    "id": "oGN9Hv0p_JtF",
    "colab": {
     "base_uri": "https://localhost:8080/"
    },
    "outputId": "3aca2513-6989-4cca-e9f3-928336a4f988"
   },
   "source": [],
   "execution_count": null,
   "outputs": []
  },
  {
   "cell_type": "markdown",
   "metadata": {
    "id": "JDe_CGCG_POI"
   },
   "source": [
    "### Renaming Axis Index\n",
    "\n",
    "The axis index which we loaded from the different sources may be hard to understand.\n",
    "So we rename the index name for the better understanding\n",
    "```python\n",
    "data = pd.DataFrame(np.arange(12).reshape((3, 4)),\n",
    "                    index=['Ohio', 'Colorado', 'New York'],\n",
    "                    columns=['one', 'two', 'three', 'four'])\n",
    "data\n",
    "```\n"
   ]
  },
  {
   "cell_type": "code",
   "metadata": {
    "id": "H_5sfkzA_9E6",
    "colab": {
     "base_uri": "https://localhost:8080/",
     "height": 143
    },
    "outputId": "d80a016f-51b9-47a3-ca42-3e8be396780a"
   },
   "source": [],
   "execution_count": null,
   "outputs": []
  },
  {
   "cell_type": "markdown",
   "metadata": {
    "id": "EyYObG_qObai"
   },
   "source": [
    "We can use the function to change the name of each index\n",
    "```python\n",
    "transform = lambda x: x[:4].upper()\n",
    "new_data_index = data.index.map(transform)\n",
    "```"
   ]
  },
  {
   "cell_type": "code",
   "metadata": {
    "id": "MlvcWkQQ_VmQ"
   },
   "source": [],
   "execution_count": null,
   "outputs": []
  },
  {
   "cell_type": "code",
   "execution_count": null,
   "outputs": [],
   "source": [],
   "metadata": {
    "collapsed": false
   }
  },
  {
   "cell_type": "markdown",
   "metadata": {
    "id": "DAUqPV8XOtfl"
   },
   "source": [
    "To change the index name we have to set the index values\n",
    "```python\n",
    "data.index = new_data_index\n",
    "data\n",
    "```"
   ]
  },
  {
   "cell_type": "code",
   "metadata": {
    "id": "cDNHqjOSOxSl",
    "colab": {
     "base_uri": "https://localhost:8080/",
     "height": 143
    },
    "outputId": "9e4ddce0-109c-4974-f1bf-123c1fea303a"
   },
   "source": [],
   "execution_count": null,
   "outputs": []
  },
  {
   "cell_type": "markdown",
   "metadata": {
    "id": "b0L9MvIfO4Bk"
   },
   "source": [
    "Or if we want to rename it instancely (without seeing the new solution first)  we can use the `rename` method\n",
    "```python\n",
    "data.rename(index=str.title, columns=str.upper)\n",
    "```\n",
    "\n"
   ]
  },
  {
   "cell_type": "code",
   "metadata": {
    "id": "xKJ8KQ1EO_yY",
    "colab": {
     "base_uri": "https://localhost:8080/",
     "height": 143
    },
    "outputId": "210aea2e-0665-4960-a3e5-25b1a313e88d"
   },
   "source": [],
   "execution_count": null,
   "outputs": []
  },
  {
   "cell_type": "markdown",
   "metadata": {
    "id": "lyGKiFs8PPzi"
   },
   "source": [
    "if we want to change the specific name, using the map for change the index name\n",
    "```python\n",
    "data.rename(index={'OHIO': 'INDIANA'},\n",
    "            columns={'three': 'peekaboo'})\n",
    "```"
   ]
  },
  {
   "cell_type": "code",
   "metadata": {
    "id": "PNg3waYIPWOl",
    "colab": {
     "base_uri": "https://localhost:8080/",
     "height": 143
    },
    "outputId": "9265ab15-114a-46e6-fa6a-7b1cce8929ee"
   },
   "source": [],
   "execution_count": null,
   "outputs": []
  },
  {
   "cell_type": "markdown",
   "metadata": {
    "id": "7wBsYuHKPo1T"
   },
   "source": [
    "To save the new name directly using `inplace` method\n",
    "```python\n",
    "data.rename(index={'OHIO': 'INDIANA'}, inplace=True)\n",
    "data\n",
    "```\n"
   ]
  },
  {
   "cell_type": "code",
   "metadata": {
    "id": "WCuWLgvWPwM-",
    "colab": {
     "base_uri": "https://localhost:8080/",
     "height": 143
    },
    "outputId": "6df05cd7-4dc0-4445-cf70-ce5730eb92a3"
   },
   "source": [],
   "execution_count": null,
   "outputs": []
  },
  {
   "cell_type": "markdown",
   "metadata": {
    "id": "nHIqWByk5wc-"
   },
   "source": [
    "#### Work\n",
    "---\n",
    "\n",
    "From the previous work provide this output"
   ]
  },
  {
   "cell_type": "markdown",
   "metadata": {
    "id": "bEoGyEMOaXO-"
   },
   "source": [
    "Output1\n",
    "\n",
    "fill PID, and PID as an index\n",
    "![image-20230906065515528](./assets/image-20230906065515528.png)"
   ]
  },
  {
   "cell_type": "code",
   "metadata": {
    "id": "qumwSQYp6KtW",
    "colab": {
     "base_uri": "https://localhost:8080/",
     "height": 331
    },
    "outputId": "f1c76e2e-5663-4316-a3d1-e565b745ee40"
   },
   "source": [],
   "execution_count": null,
   "outputs": []
  },
  {
   "cell_type": "code",
   "metadata": {
    "id": "GhTL1wfO6PMs",
    "colab": {
     "base_uri": "https://localhost:8080/",
     "height": 363
    },
    "outputId": "8b031b49-79c9-42f4-81aa-e86e28a4199f"
   },
   "source": [],
   "execution_count": null,
   "outputs": []
  },
  {
   "cell_type": "code",
   "metadata": {
    "id": "CYDKs5VQ6nDQ",
    "colab": {
     "base_uri": "https://localhost:8080/",
     "height": 36
    },
    "outputId": "e4f45755-a049-4d78-85be-59e8bfc39161"
   },
   "source": [],
   "execution_count": null,
   "outputs": []
  },
  {
   "cell_type": "markdown",
   "source": [
    "Output2\n",
    "Change the column name to your language\n",
    "![image-20230906065658172](./assets/image-20230906065658172.png)"
   ],
   "metadata": {
    "collapsed": false
   }
  },
  {
   "cell_type": "code",
   "execution_count": null,
   "outputs": [],
   "source": [],
   "metadata": {
    "collapsed": false
   }
  },
  {
   "cell_type": "markdown",
   "metadata": {
    "id": "YLu3HU22QgwP"
   },
   "source": [
    "### Discretization and Bining\n",
    "---\n",
    "\n",
    "Extract data and put it in the bins for analysis\n",
    "\n",
    "The bin is the range of the data that we want to analyze\n",
    "create a list as\n",
    "```python\n",
    "ages = [20, 22, 25, 27, 21, 23, 37, 31, 61, 45, 41, 32]\n",
    "```\n"
   ]
  },
  {
   "cell_type": "code",
   "metadata": {
    "id": "0zPSBKGCQtmD"
   },
   "source": [],
   "execution_count": null,
   "outputs": []
  },
  {
   "cell_type": "markdown",
   "metadata": {
    "id": "JWACEIpnQxRn"
   },
   "source": [
    "Then we create a bin\n",
    "```python\n",
    "bins = [18, 25, 35, 60, 100]\n",
    "```"
   ]
  },
  {
   "cell_type": "code",
   "metadata": {
    "id": "9E4hHyuNQ_TB"
   },
   "source": [],
   "execution_count": null,
   "outputs": []
  },
  {
   "cell_type": "markdown",
   "metadata": {
    "id": "L25loyixRBA2"
   },
   "source": [
    "Then we cut the data in to a bin, the cuts represent the bins for each data\n",
    "```python\n",
    "cuts = pd.cut(ages, bins)\n",
    "cuts\n",
    "```"
   ]
  },
  {
   "cell_type": "code",
   "metadata": {
    "id": "he6drI0bREWC",
    "colab": {
     "base_uri": "https://localhost:8080/"
    },
    "outputId": "9063fd36-1f8a-4475-ee33-20568852aedf"
   },
   "source": [],
   "execution_count": null,
   "outputs": []
  },
  {
   "cell_type": "markdown",
   "metadata": {
    "id": "PkSZPLHARXA9"
   },
   "source": [
    "Instead of using the texts we can see the code (index) of each bins\n",
    "```python\n",
    "cuts.codes\n",
    "```"
   ]
  },
  {
   "cell_type": "code",
   "metadata": {
    "id": "zu1ZNRQERbHg",
    "colab": {
     "base_uri": "https://localhost:8080/"
    },
    "outputId": "4e31117c-a0aa-45b9-a5ba-78afb8ab9860"
   },
   "source": [],
   "execution_count": null,
   "outputs": []
  },
  {
   "cell_type": "markdown",
   "metadata": {
    "id": "-SyIx8RrRhyI"
   },
   "source": [
    "and the catagories, and the amount of value in each cuts can be shown\n",
    "```python\n",
    "cuts.categories\n",
    "```"
   ]
  },
  {
   "cell_type": "code",
   "metadata": {
    "id": "q92uCdiyRtMa",
    "colab": {
     "base_uri": "https://localhost:8080/"
    },
    "outputId": "dee17cd7-d125-47fb-dd91-a683450db765"
   },
   "source": [],
   "execution_count": null,
   "outputs": []
  },
  {
   "cell_type": "markdown",
   "source": [
    "We can count the amount of value in each cuts by using `value_counts` method\n",
    "```python\n",
    "pd.value_counts(cuts)\n",
    "```"
   ],
   "metadata": {
    "collapsed": false
   }
  },
  {
   "cell_type": "code",
   "metadata": {
    "id": "A-FIuO6mRwyQ",
    "colab": {
     "base_uri": "https://localhost:8080/"
    },
    "outputId": "f43595d9-decd-4bdc-e761-509233d46e32"
   },
   "source": [],
   "execution_count": null,
   "outputs": []
  },
  {
   "cell_type": "markdown",
   "metadata": {
    "id": "nlotwTUOR9Nj"
   },
   "source": [
    "We can set the name of each cuts by passing the arrays of labels\n",
    "```python\n",
    "group_names = ['Youth', 'YoungAdult','MiddleAged','Senior']\n",
    "pd.cut(ages,bins,labels=group_names)\n",
    "```"
   ]
  },
  {
   "cell_type": "code",
   "metadata": {
    "id": "MyG8Kk0CSC-K",
    "colab": {
     "base_uri": "https://localhost:8080/"
    },
    "outputId": "7909b4d2-6506-45e3-a242-23869b90d5b1"
   },
   "source": [],
   "execution_count": null,
   "outputs": []
  },
  {
   "cell_type": "markdown",
   "metadata": {
    "id": "0nY8GiaVSUc-"
   },
   "source": [
    "If we pass the integer number instead of the bin edge, it will compute the equal-length bins based on the minimum and maximum values.\n",
    "```python\n",
    "data = np.random.rand(20)\n",
    "pd.cut(data,4,precision=2)\n",
    "```"
   ]
  },
  {
   "cell_type": "code",
   "metadata": {
    "id": "IjqntK6ISj1B",
    "colab": {
     "base_uri": "https://localhost:8080/"
    },
    "outputId": "93bbdf60-e05c-4fb9-b671-87000ef47713"
   },
   "source": [],
   "execution_count": null,
   "outputs": []
  },
  {
   "cell_type": "markdown",
   "source": [
    "Try counting the value of data\n",
    "```python\n",
    "pd.value_counts(pd.cut(data,4,precision=2))\n",
    "```"
   ],
   "metadata": {
    "collapsed": false
   }
  },
  {
   "cell_type": "markdown",
   "metadata": {
    "id": "qfX3cZB7QEK8"
   },
   "source": [
    "### Detecting and Filtering Outliers\n",
    "---\n",
    "\n",
    "\n",
    "finding the outlining data and filter it out as it may be the error while gathering the data.\n",
    "Let's start by having the given data\n",
    "```python\n",
    "data = pd.DataFrame(np.random.randn(1000,4))\n",
    "data.describe()\n",
    "```"
   ]
  },
  {
   "cell_type": "code",
   "metadata": {
    "id": "c2s445CMQV-8",
    "colab": {
     "base_uri": "https://localhost:8080/",
     "height": 300
    },
    "outputId": "73db96e9-ea7b-40ec-ed6c-12af8323ff81"
   },
   "source": [],
   "execution_count": null,
   "outputs": []
  },
  {
   "cell_type": "markdown",
   "metadata": {
    "id": "ZT_qGII3S7gF"
   },
   "source": [
    "if we want to find the values in column 2 which the absolute value is exceeded 3\n",
    "```python\n",
    "col = data[2]\n",
    "col[np.abs(col) >3]\n",
    "```"
   ]
  },
  {
   "cell_type": "code",
   "metadata": {
    "id": "Kz6MMG4McN6B",
    "colab": {
     "base_uri": "https://localhost:8080/",
     "height": 423
    },
    "outputId": "b3a1d0dc-dbde-4449-a986-99381208dcc4"
   },
   "source": [],
   "execution_count": null,
   "outputs": []
  },
  {
   "cell_type": "code",
   "metadata": {
    "id": "LFEaDdvwTFN6",
    "colab": {
     "base_uri": "https://localhost:8080/"
    },
    "outputId": "5a514ce0-3394-44c6-a620-f0e1ef4eca4b"
   },
   "source": [],
   "execution_count": null,
   "outputs": []
  },
  {
   "cell_type": "markdown",
   "metadata": {
    "id": "jlJRo28sTQ7v"
   },
   "source": [
    "If we want to get rows which value is exceeding  3, we can use `any` methods\n",
    "```python\n",
    "data[(np.abs(data)>3).any(1)]\n",
    "```"
   ]
  },
  {
   "cell_type": "code",
   "execution_count": null,
   "outputs": [],
   "source": [],
   "metadata": {
    "collapsed": false
   }
  },
  {
   "cell_type": "markdown",
   "metadata": {
    "id": "TVRAShje7As8"
   },
   "source": [
    "#### Work\n",
    "---\n",
    "\n",
    "From the given property file.\n",
    "Categorize the size of the hourse as the small house (size is less than 800 sq,ft.),  the medium house (size is between 801-1200 sq.ft) and the large house ( size is more than 1200 sq.ft)\n",
    "\n",
    "Show the number of each house size\n",
    "\n",
    "You should ignore the value which is not the number value"
   ]
  },
  {
   "cell_type": "code",
   "metadata": {
    "id": "H1toDVEp7tb2",
    "colab": {
     "base_uri": "https://localhost:8080/",
     "height": 331
    },
    "outputId": "6265d27b-4fab-46d5-a0da-1c8453ff8d87"
   },
   "source": [],
   "execution_count": null,
   "outputs": []
  },
  {
   "cell_type": "code",
   "source": [],
   "metadata": {
    "colab": {
     "base_uri": "https://localhost:8080/",
     "height": 373
    },
    "id": "9Y15k0KtFKgJ",
    "outputId": "63ec7824-19c6-4b10-cbad-ce8df09241b4"
   },
   "execution_count": null,
   "outputs": []
  },
  {
   "cell_type": "markdown",
   "metadata": {
    "id": "lKJEca4oUfnN"
   },
   "source": [
    "# Data Wrangling: Join, Combine, Reshape"
   ]
  },
  {
   "cell_type": "markdown",
   "metadata": {
    "id": "YM-BXN6PUyia"
   },
   "source": [
    "## Hierachical Indexing\n",
    "---\n",
    "\n",
    "\n",
    "Allow index to have multiple index levels on an axis\n",
    "\n",
    "Use when working with higher dimensional data ina lower dimensional form\n",
    "\n",
    "\n",
    "๊Use this setup configuration"
   ]
  },
  {
   "cell_type": "code",
   "metadata": {
    "id": "nEPiZoGRXzje"
   },
   "source": [
    "import numpy as np\n",
    "import pandas as pd\n",
    "pd.options.display.max_rows = 20\n",
    "np.random.seed(12345)\n",
    "import matplotlib.pyplot as plt\n",
    "plt.rc('figure', figsize=(10, 6))\n",
    "np.set_printoptions(precision=4, suppress=True)"
   ],
   "execution_count": null,
   "outputs": []
  },
  {
   "cell_type": "markdown",
   "source": [
    "create multiple index as given\n",
    "```python\n",
    "data = pd.Series(np.random.randn(9),\n",
    "                 index=[['a', 'a', 'a', 'b', 'b', 'c', 'c', 'd', 'd'],\n",
    "                        [1, 2, 3, 1, 3, 1, 2, 2, 3]])\n",
    "data\n",
    "```"
   ],
   "metadata": {
    "collapsed": false
   }
  },
  {
   "cell_type": "code",
   "metadata": {
    "id": "AeB3OPzuYDKA",
    "colab": {
     "base_uri": "https://localhost:8080/"
    },
    "outputId": "dbac9d9e-bc00-4d91-8165-5e7bf8c0e345"
   },
   "source": [],
   "execution_count": null,
   "outputs": []
  },
  {
   "cell_type": "markdown",
   "source": [
    "We can see the index of the data\n",
    "```python\n",
    "data.index\n",
    "```"
   ],
   "metadata": {
    "collapsed": false
   }
  },
  {
   "cell_type": "code",
   "metadata": {
    "id": "N4MiFIUqYDAl",
    "colab": {
     "base_uri": "https://localhost:8080/"
    },
    "outputId": "a3177748-08c6-4cdd-f46a-2c8fb0187b2e"
   },
   "source": [],
   "execution_count": null,
   "outputs": []
  },
  {
   "cell_type": "markdown",
   "metadata": {
    "id": "zW600u2sYVk9"
   },
   "source": [
    "we can see data in the multi level index to see only some index\n",
    "```python\n",
    "data['b']\n",
    "```"
   ]
  },
  {
   "cell_type": "code",
   "metadata": {
    "id": "eV1mQGxOYeqz",
    "colab": {
     "base_uri": "https://localhost:8080/"
    },
    "outputId": "9514d6a3-6857-4d7b-cc6b-c9583b61fdc6"
   },
   "source": [],
   "execution_count": null,
   "outputs": []
  },
  {
   "cell_type": "markdown",
   "source": [
    "We can see data from the inner level\n",
    "```python\n",
    "data['b':'c']\n",
    "```"
   ],
   "metadata": {
    "collapsed": false
   }
  },
  {
   "cell_type": "code",
   "metadata": {
    "id": "m5dUDOFPYhS1",
    "colab": {
     "base_uri": "https://localhost:8080/"
    },
    "outputId": "14158f7a-ecb8-481a-809f-3a11fd1f0564"
   },
   "source": [],
   "execution_count": null,
   "outputs": []
  },
  {
   "cell_type": "markdown",
   "source": [
    "The `loc` method can be used to select data from a particular group of rows and columns in the hierachical index\n",
    "```python\n",
    "data.loc[['b','d']]\n",
    "```"
   ],
   "metadata": {
    "collapsed": false
   }
  },
  {
   "cell_type": "code",
   "metadata": {
    "id": "ugSzYiRjYru4",
    "colab": {
     "base_uri": "https://localhost:8080/"
    },
    "outputId": "71356ccc-72f0-4928-87ac-272617d16d18"
   },
   "source": [],
   "execution_count": null,
   "outputs": []
  },
  {
   "cell_type": "markdown",
   "metadata": {
    "id": "K9SgB8l1YzJa"
   },
   "source": [
    "We can see data from the inner level\n",
    "```python\n",
    "data.loc[:,2]\n",
    "```"
   ]
  },
  {
   "cell_type": "code",
   "source": [],
   "metadata": {
    "colab": {
     "base_uri": "https://localhost:8080/"
    },
    "id": "PZlCcu-OOKxe",
    "outputId": "40965e1e-4b1e-4af8-ce0c-0622b9013ddf"
   },
   "execution_count": null,
   "outputs": []
  },
  {
   "cell_type": "markdown",
   "source": [
    "The slide can be also used\n",
    "```python\n",
    "data.loc[:,2]\n",
    "```"
   ],
   "metadata": {
    "collapsed": false
   }
  },
  {
   "cell_type": "code",
   "metadata": {
    "id": "zbrKcyVfYC-o",
    "colab": {
     "base_uri": "https://localhost:8080/"
    },
    "outputId": "31ce694a-cd16-4a4f-95f8-8b2a04c5f18b"
   },
   "source": [],
   "execution_count": null,
   "outputs": []
  },
  {
   "cell_type": "markdown",
   "metadata": {
    "id": "ayDSEMaTZB-Y"
   },
   "source": [
    "Hierachical indexing play important role in reshaping data and group-based oepration.\n",
    "\n",
    "The Hierachical index can be rearragen as the DataFrame using `unstack` methods\n",
    "```python\n",
    "data.unstack()\n",
    "```"
   ]
  },
  {
   "cell_type": "code",
   "metadata": {
    "id": "dp7vyBXdEtZm"
   },
   "source": [],
   "execution_count": null,
   "outputs": []
  },
  {
   "cell_type": "code",
   "metadata": {
    "id": "_94wukogEnQk",
    "colab": {
     "base_uri": "https://localhost:8080/"
    },
    "outputId": "dee0811a-ab57-40d8-9e1c-c5006d92fe81"
   },
   "source": [],
   "execution_count": null,
   "outputs": []
  },
  {
   "cell_type": "markdown",
   "metadata": {
    "id": "bQCYXcSIZjmR"
   },
   "source": [
    "and the inverse version is `stack`\n",
    "```python\n",
    "data.unstack().stack()\n",
    "```"
   ]
  },
  {
   "cell_type": "code",
   "metadata": {
    "id": "wGuO8MfbZnhy",
    "colab": {
     "base_uri": "https://localhost:8080/"
    },
    "outputId": "5a865ee4-fea1-4442-fb16-2c610750f4b3"
   },
   "source": [],
   "execution_count": null,
   "outputs": []
  },
  {
   "cell_type": "markdown",
   "metadata": {
    "id": "GXsOL913Zm2k"
   },
   "source": [
    "As the data frame,  axis can have hierachical index\n",
    "```python\n",
    "frame = pd.DataFrame(np.arange(12).reshape((4, 3)),\n",
    "                     index=[['a', 'a', 'b', 'b'], [1, 2, 1, 2]],\n",
    "                     columns=[['Ohio', 'Ohio', 'Colorado'],\n",
    "                              ['Green', 'Red', 'Green']])\n",
    "frame\n",
    "```"
   ]
  },
  {
   "cell_type": "code",
   "metadata": {
    "id": "Ve8ZRh7sZ6Xo",
    "colab": {
     "base_uri": "https://localhost:8080/",
     "height": 206
    },
    "outputId": "f46bea7e-77c6-4cf3-cd91-dd2a7b31be20"
   },
   "source": [],
   "execution_count": null,
   "outputs": []
  },
  {
   "cell_type": "markdown",
   "metadata": {
    "id": "CZ9jXyGVZ-fm"
   },
   "source": [
    "The Hierachy level can have names.\n",
    "```python\n",
    "frame.index.names = ['key1', 'key2']\n",
    "frame.columns.names = ['state', 'color']\n",
    "frame\n",
    "```"
   ]
  },
  {
   "cell_type": "code",
   "metadata": {
    "id": "gqIodxW9aLkH",
    "colab": {
     "base_uri": "https://localhost:8080/",
     "height": 237
    },
    "outputId": "37e62487-1340-4377-eaec-ec15e479c7d9"
   },
   "source": [],
   "execution_count": null,
   "outputs": []
  },
  {
   "cell_type": "markdown",
   "metadata": {
    "id": "emySw1xbbGsB"
   },
   "source": [
    "### Work create this data frame\n",
    "\n",
    "![image-20230907050812483](./assets/image-20230907050812483.png)\n",
    "\n"
   ]
  },
  {
   "cell_type": "code",
   "metadata": {
    "id": "A-obRPglGHH3",
    "colab": {
     "base_uri": "https://localhost:8080/",
     "height": 112
    },
    "outputId": "5ea28a3d-5568-495c-ea18-f1293735259c"
   },
   "source": [],
   "execution_count": null,
   "outputs": []
  },
  {
   "cell_type": "markdown",
   "metadata": {
    "id": "nQzWwA2dcSH7"
   },
   "source": [
    "## Reordering and Sorting Levels\n",
    "---\n",
    "\n",
    "To transform data, we may have to swap the level of the data frame"
   ]
  },
  {
   "cell_type": "code",
   "metadata": {
    "id": "xdHnzvYAPVtv",
    "colab": {
     "base_uri": "https://localhost:8080/",
     "height": 237
    },
    "outputId": "a6771e07-ab5c-47cf-a7d8-563b835800ca"
   },
   "source": [],
   "execution_count": null,
   "outputs": []
  },
  {
   "cell_type": "markdown",
   "source": [
    "The `swaplevel` method can be used to swap the level\n",
    "```python\n",
    "frame.swaplevel('key1','key2')\n",
    "```"
   ],
   "metadata": {
    "collapsed": false
   }
  },
  {
   "cell_type": "code",
   "metadata": {
    "id": "V_Y2NEYNPVTO"
   },
   "source": [],
   "execution_count": null,
   "outputs": []
  },
  {
   "cell_type": "markdown",
   "metadata": {
    "id": "5arWxbUBcqyt"
   },
   "source": [
    "The index is not sort, so the multi hierachy is not set. we can sort the index at any level to set the better visualization\n",
    "```python\n",
    "frame.sort_index(level=1)\n",
    "```"
   ]
  },
  {
   "cell_type": "code",
   "metadata": {
    "id": "X2Ny0uohc4Nl",
    "colab": {
     "base_uri": "https://localhost:8080/",
     "height": 237
    },
    "outputId": "52cbab8c-2daa-45a7-e8ed-3b053894f8ff"
   },
   "source": [],
   "execution_count": null,
   "outputs": []
  },
  {
   "cell_type": "markdown",
   "metadata": {
    "id": "19Wv8aXtc3YS"
   },
   "source": [
    "So swap the key and sort will make the hierarchy better\n",
    "```python\n",
    "frame.swaplevel(0,1).sort_index(level=0)\n",
    "```"
   ]
  },
  {
   "cell_type": "code",
   "source": [],
   "metadata": {
    "colab": {
     "base_uri": "https://localhost:8080/",
     "height": 237
    },
    "id": "VlSJH0ReV-tl",
    "outputId": "8be04c1f-20d2-40a1-cdda-4b58790a0f85"
   },
   "execution_count": null,
   "outputs": []
  },
  {
   "cell_type": "markdown",
   "source": [
    "The `sort_index` method can be used to sort the index\n",
    "```python\n",
    "frame.swaplevel(0,1).sort_index(level=0)\n",
    "```"
   ],
   "metadata": {
    "collapsed": false
   }
  },
  {
   "cell_type": "code",
   "metadata": {
    "id": "Og3_js0NdJgB",
    "colab": {
     "base_uri": "https://localhost:8080/",
     "height": 237
    },
    "outputId": "f090d52b-0418-42f9-9a60-0ab7851748ea"
   },
   "source": [],
   "execution_count": null,
   "outputs": []
  },
  {
   "cell_type": "markdown",
   "metadata": {
    "id": "pMDjpHuydQZQ"
   },
   "source": [
    "## Summary Statistics by Level\n",
    "---\n",
    "\n",
    "The statistic data can be calculated with the specific level\n",
    "For example, if we want to calculate on the rows data"
   ]
  },
  {
   "cell_type": "code",
   "metadata": {
    "id": "wL-htNIfQhZj",
    "colab": {
     "base_uri": "https://localhost:8080/",
     "height": 237
    },
    "outputId": "964a9396-e128-4a61-b1d4-306fc7eaa135"
   },
   "source": [],
   "execution_count": null,
   "outputs": []
  },
  {
   "cell_type": "markdown",
   "source": [
    "We can calculate the sum of the data by the level\n",
    "```python\n",
    "frame.sum()\n",
    "```"
   ],
   "metadata": {
    "collapsed": false
   }
  },
  {
   "cell_type": "code",
   "metadata": {
    "id": "5B3Ck9a10j4J",
    "colab": {
     "base_uri": "https://localhost:8080/"
    },
    "outputId": "f64de1c1-e307-4083-ee5b-6be3c8082f7f"
   },
   "source": [],
   "execution_count": null,
   "outputs": []
  },
  {
   "cell_type": "markdown",
   "source": [
    "then try\n",
    "```python\n",
    "frame.groupby(['key2']).sum()\n",
    "```"
   ],
   "metadata": {
    "collapsed": false
   }
  },
  {
   "cell_type": "code",
   "metadata": {
    "id": "w5aakRcoddFi",
    "colab": {
     "base_uri": "https://localhost:8080/",
     "height": 229
    },
    "outputId": "dc2de841-3a96-4623-9df0-d4f1d8453fc1"
   },
   "source": [],
   "execution_count": null,
   "outputs": []
  },
  {
   "cell_type": "markdown",
   "metadata": {
    "id": "9_lxit_HdmgE"
   },
   "source": [
    "Or calculate on the column-wise\n",
    "```python\n",
    "frame.sum(axis=1)\n",
    "```"
   ]
  },
  {
   "cell_type": "code",
   "execution_count": null,
   "outputs": [],
   "source": [],
   "metadata": {
    "collapsed": false
   }
  },
  {
   "cell_type": "markdown",
   "source": [
    "then try\n",
    "```python\n",
    "frame.groupby(['color'],axis=1).sum()\n",
    "```"
   ],
   "metadata": {
    "collapsed": false
   }
  },
  {
   "cell_type": "code",
   "metadata": {
    "id": "qrTdICO1do4Q",
    "colab": {
     "base_uri": "https://localhost:8080/",
     "height": 261
    },
    "outputId": "201c3a6f-633b-4f56-9523-bc6b76cd6259"
   },
   "source": [],
   "execution_count": null,
   "outputs": []
  },
  {
   "cell_type": "markdown",
   "metadata": {
    "id": "MBeUAN24d1fO"
   },
   "source": [
    "## Indexing with DataFrame's Column\n",
    "\n",
    "\n",
    "some time we want to use the row index as the columns\n",
    "```python\n",
    "frame = pd.DataFrame({'a': range(7), 'b': range(7, 0, -1),\n",
    "                      'c': ['one', 'one', 'one', 'two', 'two',\n",
    "                            'two', 'two'],\n",
    "                      'd': [0, 1, 2, 0, 1, 2, 3]})\n",
    "frame\n",
    "```"
   ]
  },
  {
   "cell_type": "code",
   "metadata": {
    "id": "9FCdXwSxeDZf",
    "colab": {
     "base_uri": "https://localhost:8080/",
     "height": 269
    },
    "outputId": "12046538-030f-4849-c13e-448a37dc61db"
   },
   "source": [
    "frame = pd.DataFrame({'a': range(7), 'b': range(7, 0, -1),\n",
    "                      'c': ['one', 'one', 'one', 'two', 'two',\n",
    "                            'two', 'two'],\n",
    "                      'd': [0, 1, 2, 0, 1, 2, 3]})\n",
    "frame"
   ],
   "execution_count": null,
   "outputs": []
  },
  {
   "cell_type": "markdown",
   "metadata": {
    "id": "e5pn53joeN9I"
   },
   "source": [
    "We can create a new data frame using some columns as index\n",
    "\n",
    "```python\n",
    "frame2 = frame.set_index(['c','d'])\n",
    "frame2\n",
    "```\n"
   ]
  },
  {
   "cell_type": "code",
   "metadata": {
    "id": "j4VZfURdeUUR",
    "colab": {
     "base_uri": "https://localhost:8080/",
     "height": 300
    },
    "outputId": "128d0357-42e8-4b51-fd44-d04bcd5954c6"
   },
   "source": [],
   "execution_count": null,
   "outputs": []
  },
  {
   "cell_type": "markdown",
   "metadata": {
    "id": "tcuHhjzdelgo"
   },
   "source": [
    "By default, the column is removed from the source data frame. However, if we do not want to remove the column, the `drop` parameter is passed\n",
    "```python\n",
    "frame.set_index(['c','d'],drop = False)\n",
    "```"
   ]
  },
  {
   "cell_type": "code",
   "metadata": {
    "id": "T0u7NOAzewY3",
    "colab": {
     "base_uri": "https://localhost:8080/",
     "height": 300
    },
    "outputId": "4df8e136-cf47-4423-bc5e-9932d4676340"
   },
   "source": [],
   "execution_count": null,
   "outputs": []
  },
  {
   "cell_type": "markdown",
   "metadata": {
    "id": "tmjSFr8NHAgG"
   },
   "source": [
    "### Work\n",
    "\n",
    "\n",
    "\n",
    "From the given [./file/car_details.xlsx](./file/car_details.xlsx)\n",
    "\n",
    "provided the hierarchy data frame which carbrand, carmodel, and the model_name TH is a key indexes\n"
   ]
  },
  {
   "cell_type": "code",
   "execution_count": null,
   "outputs": [],
   "source": [],
   "metadata": {
    "collapsed": false
   }
  },
  {
   "cell_type": "markdown",
   "metadata": {
    "id": "UYP5XkAjKuDe"
   },
   "source": [
    "Then try to find the average standard price for  each car brand, ignore the `NA` value"
   ]
  },
  {
   "cell_type": "code",
   "metadata": {
    "id": "Vdg-7jkhK1vG",
    "colab": {
     "base_uri": "https://localhost:8080/",
     "height": 535
    },
    "outputId": "f86812ac-6856-48ed-d5cc-fada58fcc262"
   },
   "source": [],
   "execution_count": null,
   "outputs": []
  }
 ]
}
