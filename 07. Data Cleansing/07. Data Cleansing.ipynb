{
 "nbformat": 4,
 "nbformat_minor": 0,
 "metadata": {
  "colab": {
   "provenance": [],
   "toc_visible": true
  },
  "kernelspec": {
   "name": "python3",
   "language": "python",
   "display_name": "Python 3 (ipykernel)"
  }
 },
 "cells": [
  {
   "cell_type": "markdown",
   "metadata": {
    "id": "3unlrbW0yna1"
   },
   "source": [
    "# Data cleansing"
   ]
  },
  {
   "cell_type": "markdown",
   "metadata": {
    "id": "vb65ne0Yyt-J"
   },
   "source": [
    "During the course of doing data analysis and modeling, a significant amount of time is spent on data preparation:\n",
    "\n",
    "*   loading\n",
    "*   cleaning\n",
    "*   transforming\n",
    "*   rearraging\n",
    "\n",
    "Such tasks are often reported to take up 80% or more of an analyst’s time.\n"
   ]
  },
  {
   "cell_type": "markdown",
   "metadata": {
    "id": "v833DabazP_C"
   },
   "source": [
    "What can happen with the loading data are\n",
    "* missing data\n",
    "* duplicate data\n",
    "* string manipulation\n",
    "* other analytical data transformation\n"
   ]
  },
  {
   "cell_type": "markdown",
   "metadata": {
    "id": "_0vA7ybSzf8p"
   },
   "source": [
    "## Missing data\n",
    "---\n",
    "\n",
    "Some data are imperfect, but it is functional for lot of users\n",
    "\n",
    "For numeric data,\n",
    "  Pandas use Nan ``` Nan``` (Not a Number) to represent the number\n",
    "\n",
    "So call a *sentinel value*\n",
    "\n"
   ]
  },
  {
   "cell_type": "markdown",
   "metadata": {
    "id": "BWIBL6Gn0fxi"
   },
   "source": [
    "**To detect the missing data**\n",
    "\n",
    "---\n",
    "\n",
    "\n",
    "Check by `isNull` value\n",
    "\n",
    "```python\n",
    "import pandas as pd\n",
    "import numpy as np\n",
    "```\n",
    "\n",
    "\n",
    "\n",
    "```python\n",
    "string_data = pd.Series(['aardvark', 'artichoke', np.nan, 'avocado'])\n",
    "string_data\n",
    "```"
   ]
  },
  {
   "cell_type": "code",
   "metadata": {
    "id": "0bHTFKpH004n",
    "ExecuteTime": {
     "end_time": "2023-10-29T13:29:04.889771900Z",
     "start_time": "2023-10-29T13:29:04.874099200Z"
    }
   },
   "source": [
    "import pandas as pd\n",
    "import numpy as np"
   ],
   "execution_count": 1,
   "outputs": []
  },
  {
   "cell_type": "code",
   "execution_count": 2,
   "outputs": [
    {
     "data": {
      "text/plain": "0     aardvark\n1    artichoke\n2          NaN\n3      avocado\ndtype: object"
     },
     "execution_count": 2,
     "metadata": {},
     "output_type": "execute_result"
    }
   ],
   "source": [
    "string_data = pd.Series(['aardvark', 'artichoke', np.nan, 'avocado'])\n",
    "string_data"
   ],
   "metadata": {
    "collapsed": false,
    "ExecuteTime": {
     "end_time": "2023-10-29T13:29:06.987841900Z",
     "start_time": "2023-10-29T13:29:06.975724800Z"
    }
   }
  },
  {
   "cell_type": "markdown",
   "metadata": {
    "id": "K6jIx9Eq0_BD"
   },
   "source": [
    "check for null value\n",
    "\n",
    "```python\n",
    "string_data.isnull()\n",
    "```"
   ]
  },
  {
   "cell_type": "code",
   "metadata": {
    "id": "eJHHG0rp0-Hb",
    "colab": {
     "base_uri": "https://localhost:8080/"
    },
    "outputId": "3818fbe9-663b-41e7-d1da-5af3eb86fcea",
    "ExecuteTime": {
     "end_time": "2023-10-29T13:29:13.821436600Z",
     "start_time": "2023-10-29T13:29:13.790035500Z"
    }
   },
   "source": [
    "string_data.isnull()"
   ],
   "execution_count": 3,
   "outputs": [
    {
     "data": {
      "text/plain": "0    False\n1    False\n2     True\n3    False\ndtype: bool"
     },
     "execution_count": 3,
     "metadata": {},
     "output_type": "execute_result"
    }
   ]
  },
  {
   "cell_type": "markdown",
   "metadata": {
    "id": "rEkp5apnn1j8"
   },
   "source": [
    "The N/A handling method are provided in the data frame as given\n",
    "\n",
    "![image-20230906053837943](./assets/image-20230906053837943.png)\n"
   ]
  },
  {
   "cell_type": "markdown",
   "metadata": {
    "id": "oKUzjEkXn-X8"
   },
   "source": [
    "### Filtering the data\n",
    "---\n",
    "\n",
    "\n",
    "The *NA* data can filtering out as shown\n",
    "\n",
    "```python\n",
    "from numpy import nan as NA\n",
    "data = pd.Series([1, NA, 3.5, NA, 7])\n",
    "data\n",
    "```"
   ]
  },
  {
   "cell_type": "code",
   "metadata": {
    "id": "Qf7S8CV4oNYA",
    "colab": {
     "base_uri": "https://localhost:8080/"
    },
    "outputId": "4e299cd2-a56e-49b4-b9d1-7193a94f50db",
    "ExecuteTime": {
     "end_time": "2023-10-29T13:29:24.181308500Z",
     "start_time": "2023-10-29T13:29:24.149852600Z"
    }
   },
   "source": [
    "from numpy import nan as NA\n",
    "data = pd.Series([1, NA, 3.5, NA, 7])\n",
    "data"
   ],
   "execution_count": 4,
   "outputs": [
    {
     "data": {
      "text/plain": "0    1.0\n1    NaN\n2    3.5\n3    NaN\n4    7.0\ndtype: float64"
     },
     "execution_count": 4,
     "metadata": {},
     "output_type": "execute_result"
    }
   ]
  },
  {
   "cell_type": "markdown",
   "source": [
    "The `dropna` method will filter out the NA value\n",
    "\n",
    "```python\n",
    "data.dropna()\n",
    "```"
   ],
   "metadata": {
    "collapsed": false
   }
  },
  {
   "cell_type": "code",
   "metadata": {
    "id": "OYtMwrAEoTlu",
    "colab": {
     "base_uri": "https://localhost:8080/"
    },
    "outputId": "dbcc03a1-9ca8-4451-eb57-e5747e286eab",
    "ExecuteTime": {
     "end_time": "2023-10-29T13:29:29.883161200Z",
     "start_time": "2023-10-29T13:29:29.821159400Z"
    }
   },
   "source": [
    "data.dropna()"
   ],
   "execution_count": 5,
   "outputs": [
    {
     "data": {
      "text/plain": "0    1.0\n2    3.5\n4    7.0\ndtype: float64"
     },
     "execution_count": 5,
     "metadata": {},
     "output_type": "execute_result"
    }
   ]
  },
  {
   "cell_type": "markdown",
   "metadata": {
    "id": "5VjogjPToVnH"
   },
   "source": [
    "the data frame can be also filter\n",
    "\n",
    "```python\n",
    "data = pd.DataFrame([[1., 6.5, 3.], [1., NA, NA],\n",
    "                     [NA, NA, NA], [NA, 6.5, 3.]])\n",
    "data\n",
    "```"
   ]
  },
  {
   "cell_type": "code",
   "metadata": {
    "id": "wIrVY1VXocKR",
    "colab": {
     "base_uri": "https://localhost:8080/",
     "height": 175
    },
    "outputId": "75136092-34e4-456e-f430-7e69edf4955c",
    "ExecuteTime": {
     "end_time": "2023-10-29T13:29:34.953447700Z",
     "start_time": "2023-10-29T13:29:34.937780Z"
    }
   },
   "source": [
    "data = pd.DataFrame([[1., 6.5, 3.], [1., NA, NA],\n",
    "                     [NA, NA, NA], [NA, 6.5, 3.]])\n",
    "data"
   ],
   "execution_count": 6,
   "outputs": [
    {
     "data": {
      "text/plain": "     0    1    2\n0  1.0  6.5  3.0\n1  1.0  NaN  NaN\n2  NaN  NaN  NaN\n3  NaN  6.5  3.0",
      "text/html": "<div>\n<style scoped>\n    .dataframe tbody tr th:only-of-type {\n        vertical-align: middle;\n    }\n\n    .dataframe tbody tr th {\n        vertical-align: top;\n    }\n\n    .dataframe thead th {\n        text-align: right;\n    }\n</style>\n<table border=\"1\" class=\"dataframe\">\n  <thead>\n    <tr style=\"text-align: right;\">\n      <th></th>\n      <th>0</th>\n      <th>1</th>\n      <th>2</th>\n    </tr>\n  </thead>\n  <tbody>\n    <tr>\n      <th>0</th>\n      <td>1.0</td>\n      <td>6.5</td>\n      <td>3.0</td>\n    </tr>\n    <tr>\n      <th>1</th>\n      <td>1.0</td>\n      <td>NaN</td>\n      <td>NaN</td>\n    </tr>\n    <tr>\n      <th>2</th>\n      <td>NaN</td>\n      <td>NaN</td>\n      <td>NaN</td>\n    </tr>\n    <tr>\n      <th>3</th>\n      <td>NaN</td>\n      <td>6.5</td>\n      <td>3.0</td>\n    </tr>\n  </tbody>\n</table>\n</div>"
     },
     "execution_count": 6,
     "metadata": {},
     "output_type": "execute_result"
    }
   ]
  },
  {
   "cell_type": "markdown",
   "source": [
    "The `dropna` method will drop all the rows which contains NA value\n",
    "\n",
    "\n",
    "```python\n",
    "cleaned = data.dropna()\n",
    "cleaned\n",
    "```"
   ],
   "metadata": {
    "collapsed": false
   }
  },
  {
   "cell_type": "code",
   "metadata": {
    "id": "eyubfD1NohAc",
    "colab": {
     "base_uri": "https://localhost:8080/",
     "height": 81
    },
    "outputId": "2681cdba-a99f-4577-8482-99933aa500d5",
    "ExecuteTime": {
     "end_time": "2023-10-29T13:29:41.888273800Z",
     "start_time": "2023-10-29T13:29:41.794058700Z"
    }
   },
   "source": [
    "cleaned = data.dropna()\n",
    "cleaned"
   ],
   "execution_count": 7,
   "outputs": [
    {
     "data": {
      "text/plain": "     0    1    2\n0  1.0  6.5  3.0",
      "text/html": "<div>\n<style scoped>\n    .dataframe tbody tr th:only-of-type {\n        vertical-align: middle;\n    }\n\n    .dataframe tbody tr th {\n        vertical-align: top;\n    }\n\n    .dataframe thead th {\n        text-align: right;\n    }\n</style>\n<table border=\"1\" class=\"dataframe\">\n  <thead>\n    <tr style=\"text-align: right;\">\n      <th></th>\n      <th>0</th>\n      <th>1</th>\n      <th>2</th>\n    </tr>\n  </thead>\n  <tbody>\n    <tr>\n      <th>0</th>\n      <td>1.0</td>\n      <td>6.5</td>\n      <td>3.0</td>\n    </tr>\n  </tbody>\n</table>\n</div>"
     },
     "execution_count": 7,
     "metadata": {},
     "output_type": "execute_result"
    }
   ]
  },
  {
   "cell_type": "markdown",
   "metadata": {
    "id": "O-SGEM7Vommi"
   },
   "source": [
    "**We** can drop only the line which contains **NA** all the rows usign `how='all'`\n",
    "\n",
    "```python\n",
    "data.dropna(how='all')\n",
    "```"
   ]
  },
  {
   "cell_type": "code",
   "metadata": {
    "id": "ybrBfA_8ouD5",
    "colab": {
     "base_uri": "https://localhost:8080/",
     "height": 143
    },
    "outputId": "143fd3cd-ac98-4645-8ca1-18e3d93bb1cd",
    "ExecuteTime": {
     "end_time": "2023-10-29T13:29:47.535446800Z",
     "start_time": "2023-10-29T13:29:47.441300800Z"
    }
   },
   "source": [
    "data.dropna(how='all')"
   ],
   "execution_count": 8,
   "outputs": [
    {
     "data": {
      "text/plain": "     0    1    2\n0  1.0  6.5  3.0\n1  1.0  NaN  NaN\n3  NaN  6.5  3.0",
      "text/html": "<div>\n<style scoped>\n    .dataframe tbody tr th:only-of-type {\n        vertical-align: middle;\n    }\n\n    .dataframe tbody tr th {\n        vertical-align: top;\n    }\n\n    .dataframe thead th {\n        text-align: right;\n    }\n</style>\n<table border=\"1\" class=\"dataframe\">\n  <thead>\n    <tr style=\"text-align: right;\">\n      <th></th>\n      <th>0</th>\n      <th>1</th>\n      <th>2</th>\n    </tr>\n  </thead>\n  <tbody>\n    <tr>\n      <th>0</th>\n      <td>1.0</td>\n      <td>6.5</td>\n      <td>3.0</td>\n    </tr>\n    <tr>\n      <th>1</th>\n      <td>1.0</td>\n      <td>NaN</td>\n      <td>NaN</td>\n    </tr>\n    <tr>\n      <th>3</th>\n      <td>NaN</td>\n      <td>6.5</td>\n      <td>3.0</td>\n    </tr>\n  </tbody>\n</table>\n</div>"
     },
     "execution_count": 8,
     "metadata": {},
     "output_type": "execute_result"
    }
   ]
  },
  {
   "cell_type": "markdown",
   "metadata": {
    "id": "XLnESLSSo70l"
   },
   "source": [
    "**To** drop only columns which contains  all NA, you can use the `axis=1 `parameter"
   ]
  },
  {
   "cell_type": "code",
   "source": [
    "data.dropna(axis=1)"
   ],
   "metadata": {
    "colab": {
     "base_uri": "https://localhost:8080/",
     "height": 175
    },
    "id": "RdceaLWBDanO",
    "outputId": "70caff5f-a385-462a-f18c-c28591c11311",
    "ExecuteTime": {
     "end_time": "2023-10-29T13:30:06.014889600Z",
     "start_time": "2023-10-29T13:30:05.921031Z"
    }
   },
   "execution_count": 9,
   "outputs": [
    {
     "data": {
      "text/plain": "Empty DataFrame\nColumns: []\nIndex: [0, 1, 2, 3]",
      "text/html": "<div>\n<style scoped>\n    .dataframe tbody tr th:only-of-type {\n        vertical-align: middle;\n    }\n\n    .dataframe tbody tr th {\n        vertical-align: top;\n    }\n\n    .dataframe thead th {\n        text-align: right;\n    }\n</style>\n<table border=\"1\" class=\"dataframe\">\n  <thead>\n    <tr style=\"text-align: right;\">\n      <th></th>\n    </tr>\n  </thead>\n  <tbody>\n    <tr>\n      <th>0</th>\n    </tr>\n    <tr>\n      <th>1</th>\n    </tr>\n    <tr>\n      <th>2</th>\n    </tr>\n    <tr>\n      <th>3</th>\n    </tr>\n  </tbody>\n</table>\n</div>"
     },
     "execution_count": 9,
     "metadata": {},
     "output_type": "execute_result"
    }
   ]
  },
  {
   "cell_type": "markdown",
   "source": [
    "```python\n",
    "data.dropna(how='all',axis=1)\n",
    "```"
   ],
   "metadata": {
    "collapsed": false
   }
  },
  {
   "cell_type": "code",
   "source": [
    "data.dropna(how='all',axis=1)"
   ],
   "metadata": {
    "colab": {
     "base_uri": "https://localhost:8080/",
     "height": 175
    },
    "id": "mjRYuYpLDMsD",
    "outputId": "b9ae71ed-8861-4767-f6f1-485d6241b310",
    "ExecuteTime": {
     "end_time": "2023-10-29T13:30:14.662878100Z",
     "start_time": "2023-10-29T13:30:14.584403200Z"
    }
   },
   "execution_count": 10,
   "outputs": [
    {
     "data": {
      "text/plain": "     0    1    2\n0  1.0  6.5  3.0\n1  1.0  NaN  NaN\n2  NaN  NaN  NaN\n3  NaN  6.5  3.0",
      "text/html": "<div>\n<style scoped>\n    .dataframe tbody tr th:only-of-type {\n        vertical-align: middle;\n    }\n\n    .dataframe tbody tr th {\n        vertical-align: top;\n    }\n\n    .dataframe thead th {\n        text-align: right;\n    }\n</style>\n<table border=\"1\" class=\"dataframe\">\n  <thead>\n    <tr style=\"text-align: right;\">\n      <th></th>\n      <th>0</th>\n      <th>1</th>\n      <th>2</th>\n    </tr>\n  </thead>\n  <tbody>\n    <tr>\n      <th>0</th>\n      <td>1.0</td>\n      <td>6.5</td>\n      <td>3.0</td>\n    </tr>\n    <tr>\n      <th>1</th>\n      <td>1.0</td>\n      <td>NaN</td>\n      <td>NaN</td>\n    </tr>\n    <tr>\n      <th>2</th>\n      <td>NaN</td>\n      <td>NaN</td>\n      <td>NaN</td>\n    </tr>\n    <tr>\n      <th>3</th>\n      <td>NaN</td>\n      <td>6.5</td>\n      <td>3.0</td>\n    </tr>\n  </tbody>\n</table>\n</div>"
     },
     "execution_count": 10,
     "metadata": {},
     "output_type": "execute_result"
    }
   ]
  },
  {
   "cell_type": "markdown",
   "source": [
    "Try to add a new column with NA value\n",
    "```python\n",
    "data[4] = NA\n",
    "data\n",
    "```"
   ],
   "metadata": {
    "collapsed": false
   }
  },
  {
   "cell_type": "code",
   "metadata": {
    "id": "YvbFAUlDpFzr",
    "colab": {
     "base_uri": "https://localhost:8080/",
     "height": 175
    },
    "outputId": "1bd8170f-3e74-4684-efa6-0e4d091bdba8",
    "ExecuteTime": {
     "end_time": "2023-10-29T13:30:25.125471400Z",
     "start_time": "2023-10-29T13:30:25.094221800Z"
    }
   },
   "source": [
    "data[4] = NA\n",
    "data"
   ],
   "execution_count": 11,
   "outputs": [
    {
     "data": {
      "text/plain": "     0    1    2   4\n0  1.0  6.5  3.0 NaN\n1  1.0  NaN  NaN NaN\n2  NaN  NaN  NaN NaN\n3  NaN  6.5  3.0 NaN",
      "text/html": "<div>\n<style scoped>\n    .dataframe tbody tr th:only-of-type {\n        vertical-align: middle;\n    }\n\n    .dataframe tbody tr th {\n        vertical-align: top;\n    }\n\n    .dataframe thead th {\n        text-align: right;\n    }\n</style>\n<table border=\"1\" class=\"dataframe\">\n  <thead>\n    <tr style=\"text-align: right;\">\n      <th></th>\n      <th>0</th>\n      <th>1</th>\n      <th>2</th>\n      <th>4</th>\n    </tr>\n  </thead>\n  <tbody>\n    <tr>\n      <th>0</th>\n      <td>1.0</td>\n      <td>6.5</td>\n      <td>3.0</td>\n      <td>NaN</td>\n    </tr>\n    <tr>\n      <th>1</th>\n      <td>1.0</td>\n      <td>NaN</td>\n      <td>NaN</td>\n      <td>NaN</td>\n    </tr>\n    <tr>\n      <th>2</th>\n      <td>NaN</td>\n      <td>NaN</td>\n      <td>NaN</td>\n      <td>NaN</td>\n    </tr>\n    <tr>\n      <th>3</th>\n      <td>NaN</td>\n      <td>6.5</td>\n      <td>3.0</td>\n      <td>NaN</td>\n    </tr>\n  </tbody>\n</table>\n</div>"
     },
     "execution_count": 11,
     "metadata": {},
     "output_type": "execute_result"
    }
   ]
  },
  {
   "cell_type": "markdown",
   "source": [
    "drop na regarding to the axis\n",
    "```python\n",
    "data.dropna(axis=1, how='all')\n",
    "```"
   ],
   "metadata": {
    "collapsed": false
   }
  },
  {
   "cell_type": "code",
   "metadata": {
    "id": "kwKtGfoTpMaJ",
    "colab": {
     "base_uri": "https://localhost:8080/",
     "height": 175
    },
    "outputId": "35b74924-919d-45d8-d797-4bdc84acfe23",
    "ExecuteTime": {
     "end_time": "2023-10-29T13:30:32.718226200Z",
     "start_time": "2023-10-29T13:30:32.686853700Z"
    }
   },
   "source": [
    "data.dropna(axis=1, how='all')"
   ],
   "execution_count": 12,
   "outputs": [
    {
     "data": {
      "text/plain": "     0    1    2\n0  1.0  6.5  3.0\n1  1.0  NaN  NaN\n2  NaN  NaN  NaN\n3  NaN  6.5  3.0",
      "text/html": "<div>\n<style scoped>\n    .dataframe tbody tr th:only-of-type {\n        vertical-align: middle;\n    }\n\n    .dataframe tbody tr th {\n        vertical-align: top;\n    }\n\n    .dataframe thead th {\n        text-align: right;\n    }\n</style>\n<table border=\"1\" class=\"dataframe\">\n  <thead>\n    <tr style=\"text-align: right;\">\n      <th></th>\n      <th>0</th>\n      <th>1</th>\n      <th>2</th>\n    </tr>\n  </thead>\n  <tbody>\n    <tr>\n      <th>0</th>\n      <td>1.0</td>\n      <td>6.5</td>\n      <td>3.0</td>\n    </tr>\n    <tr>\n      <th>1</th>\n      <td>1.0</td>\n      <td>NaN</td>\n      <td>NaN</td>\n    </tr>\n    <tr>\n      <th>2</th>\n      <td>NaN</td>\n      <td>NaN</td>\n      <td>NaN</td>\n    </tr>\n    <tr>\n      <th>3</th>\n      <td>NaN</td>\n      <td>6.5</td>\n      <td>3.0</td>\n    </tr>\n  </tbody>\n</table>\n</div>"
     },
     "execution_count": 12,
     "metadata": {},
     "output_type": "execute_result"
    }
   ]
  },
  {
   "cell_type": "markdown",
   "source": [
    "Comparing to\n",
    "```python\n",
    "data.dropna(axis=1)\n",
    "```"
   ],
   "metadata": {
    "collapsed": false
   }
  },
  {
   "cell_type": "code",
   "metadata": {
    "id": "sWJcEXNZPhMH",
    "colab": {
     "base_uri": "https://localhost:8080/",
     "height": 157
    },
    "outputId": "fba3d08c-17f1-48ff-f67d-01de4638244b",
    "ExecuteTime": {
     "end_time": "2023-10-29T13:30:38.581515300Z",
     "start_time": "2023-10-29T13:30:38.549714200Z"
    }
   },
   "source": [
    "data.dropna(axis=1)"
   ],
   "execution_count": 13,
   "outputs": [
    {
     "data": {
      "text/plain": "Empty DataFrame\nColumns: []\nIndex: [0, 1, 2, 3]",
      "text/html": "<div>\n<style scoped>\n    .dataframe tbody tr th:only-of-type {\n        vertical-align: middle;\n    }\n\n    .dataframe tbody tr th {\n        vertical-align: top;\n    }\n\n    .dataframe thead th {\n        text-align: right;\n    }\n</style>\n<table border=\"1\" class=\"dataframe\">\n  <thead>\n    <tr style=\"text-align: right;\">\n      <th></th>\n    </tr>\n  </thead>\n  <tbody>\n    <tr>\n      <th>0</th>\n    </tr>\n    <tr>\n      <th>1</th>\n    </tr>\n    <tr>\n      <th>2</th>\n    </tr>\n    <tr>\n      <th>3</th>\n    </tr>\n  </tbody>\n</table>\n</div>"
     },
     "execution_count": 13,
     "metadata": {},
     "output_type": "execute_result"
    }
   ]
  },
  {
   "cell_type": "markdown",
   "source": [
    "What are differents of `how='all'` and no `how` parameter"
   ],
   "metadata": {
    "collapsed": false
   }
  },
  {
   "cell_type": "markdown",
   "metadata": {
    "id": "F1GEkAZnpa1s"
   },
   "source": [
    "We can drop the rows which may have more data than the given value as we can tolerate for some data missing. `tresh` parameter is required here\n",
    "```python\n",
    "df = pd.DataFrame(np.random.randn(7, 3))\n",
    "df.iloc[:4, 1] = NA\n",
    "df.iloc[:2, 2] = NA\n",
    "df\n",
    "```\n"
   ]
  },
  {
   "cell_type": "code",
   "metadata": {
    "id": "RVlj8PtdpuxU",
    "colab": {
     "base_uri": "https://localhost:8080/",
     "height": 269
    },
    "outputId": "9347e4f4-ead7-472b-e894-8730b48f1d0b",
    "ExecuteTime": {
     "end_time": "2023-10-29T13:30:50.522552400Z",
     "start_time": "2023-10-29T13:30:50.490709800Z"
    }
   },
   "source": [
    "df = pd.DataFrame(np.random.randn(7, 3))\n",
    "df.iloc[:4, 1] = NA\n",
    "df.iloc[:2, 2] = NA\n",
    "df"
   ],
   "execution_count": 14,
   "outputs": [
    {
     "data": {
      "text/plain": "          0         1         2\n0  0.448454       NaN       NaN\n1  0.725350       NaN       NaN\n2 -2.421874       NaN -0.571457\n3  0.162696       NaN -1.851579\n4  0.847228 -0.909386 -1.671433\n5  0.119214 -0.788088  0.351853\n6  1.289231  0.207073 -0.225924",
      "text/html": "<div>\n<style scoped>\n    .dataframe tbody tr th:only-of-type {\n        vertical-align: middle;\n    }\n\n    .dataframe tbody tr th {\n        vertical-align: top;\n    }\n\n    .dataframe thead th {\n        text-align: right;\n    }\n</style>\n<table border=\"1\" class=\"dataframe\">\n  <thead>\n    <tr style=\"text-align: right;\">\n      <th></th>\n      <th>0</th>\n      <th>1</th>\n      <th>2</th>\n    </tr>\n  </thead>\n  <tbody>\n    <tr>\n      <th>0</th>\n      <td>0.448454</td>\n      <td>NaN</td>\n      <td>NaN</td>\n    </tr>\n    <tr>\n      <th>1</th>\n      <td>0.725350</td>\n      <td>NaN</td>\n      <td>NaN</td>\n    </tr>\n    <tr>\n      <th>2</th>\n      <td>-2.421874</td>\n      <td>NaN</td>\n      <td>-0.571457</td>\n    </tr>\n    <tr>\n      <th>3</th>\n      <td>0.162696</td>\n      <td>NaN</td>\n      <td>-1.851579</td>\n    </tr>\n    <tr>\n      <th>4</th>\n      <td>0.847228</td>\n      <td>-0.909386</td>\n      <td>-1.671433</td>\n    </tr>\n    <tr>\n      <th>5</th>\n      <td>0.119214</td>\n      <td>-0.788088</td>\n      <td>0.351853</td>\n    </tr>\n    <tr>\n      <th>6</th>\n      <td>1.289231</td>\n      <td>0.207073</td>\n      <td>-0.225924</td>\n    </tr>\n  </tbody>\n</table>\n</div>"
     },
     "execution_count": 14,
     "metadata": {},
     "output_type": "execute_result"
    }
   ]
  },
  {
   "cell_type": "markdown",
   "metadata": {
    "id": "gfFHfLQFpymt"
   },
   "source": [
    "drop all NA\n",
    "```python\n",
    "df.dropna()\n",
    "```"
   ]
  },
  {
   "cell_type": "code",
   "metadata": {
    "id": "S19qRsavp1qN",
    "colab": {
     "base_uri": "https://localhost:8080/",
     "height": 143
    },
    "outputId": "33de3f7e-e2f1-4619-8b30-69adaad4c5fc",
    "ExecuteTime": {
     "end_time": "2023-10-29T13:30:55.783020700Z",
     "start_time": "2023-10-29T13:30:55.657513100Z"
    }
   },
   "source": [
    "df.dropna()"
   ],
   "execution_count": 15,
   "outputs": [
    {
     "data": {
      "text/plain": "          0         1         2\n4  0.847228 -0.909386 -1.671433\n5  0.119214 -0.788088  0.351853\n6  1.289231  0.207073 -0.225924",
      "text/html": "<div>\n<style scoped>\n    .dataframe tbody tr th:only-of-type {\n        vertical-align: middle;\n    }\n\n    .dataframe tbody tr th {\n        vertical-align: top;\n    }\n\n    .dataframe thead th {\n        text-align: right;\n    }\n</style>\n<table border=\"1\" class=\"dataframe\">\n  <thead>\n    <tr style=\"text-align: right;\">\n      <th></th>\n      <th>0</th>\n      <th>1</th>\n      <th>2</th>\n    </tr>\n  </thead>\n  <tbody>\n    <tr>\n      <th>4</th>\n      <td>0.847228</td>\n      <td>-0.909386</td>\n      <td>-1.671433</td>\n    </tr>\n    <tr>\n      <th>5</th>\n      <td>0.119214</td>\n      <td>-0.788088</td>\n      <td>0.351853</td>\n    </tr>\n    <tr>\n      <th>6</th>\n      <td>1.289231</td>\n      <td>0.207073</td>\n      <td>-0.225924</td>\n    </tr>\n  </tbody>\n</table>\n</div>"
     },
     "execution_count": 15,
     "metadata": {},
     "output_type": "execute_result"
    }
   ]
  },
  {
   "cell_type": "markdown",
   "metadata": {
    "id": "2t9b2Yz8p0Sw"
   },
   "source": [
    "drop only a line which contains non-NA value more than or equal than the treshold\n",
    "```python\n",
    "df.dropna(thresh=2)\n",
    "```"
   ]
  },
  {
   "cell_type": "code",
   "metadata": {
    "id": "E_BYgkb-qNqR",
    "colab": {
     "base_uri": "https://localhost:8080/",
     "height": 206
    },
    "outputId": "7a563ce0-9d80-4d25-d277-bcc9dc011d3f",
    "ExecuteTime": {
     "end_time": "2023-10-29T13:31:00.106767300Z",
     "start_time": "2023-10-29T13:31:00.075379500Z"
    }
   },
   "source": [
    "df.dropna(thresh=2)"
   ],
   "execution_count": 16,
   "outputs": [
    {
     "data": {
      "text/plain": "          0         1         2\n2 -2.421874       NaN -0.571457\n3  0.162696       NaN -1.851579\n4  0.847228 -0.909386 -1.671433\n5  0.119214 -0.788088  0.351853\n6  1.289231  0.207073 -0.225924",
      "text/html": "<div>\n<style scoped>\n    .dataframe tbody tr th:only-of-type {\n        vertical-align: middle;\n    }\n\n    .dataframe tbody tr th {\n        vertical-align: top;\n    }\n\n    .dataframe thead th {\n        text-align: right;\n    }\n</style>\n<table border=\"1\" class=\"dataframe\">\n  <thead>\n    <tr style=\"text-align: right;\">\n      <th></th>\n      <th>0</th>\n      <th>1</th>\n      <th>2</th>\n    </tr>\n  </thead>\n  <tbody>\n    <tr>\n      <th>2</th>\n      <td>-2.421874</td>\n      <td>NaN</td>\n      <td>-0.571457</td>\n    </tr>\n    <tr>\n      <th>3</th>\n      <td>0.162696</td>\n      <td>NaN</td>\n      <td>-1.851579</td>\n    </tr>\n    <tr>\n      <th>4</th>\n      <td>0.847228</td>\n      <td>-0.909386</td>\n      <td>-1.671433</td>\n    </tr>\n    <tr>\n      <th>5</th>\n      <td>0.119214</td>\n      <td>-0.788088</td>\n      <td>0.351853</td>\n    </tr>\n    <tr>\n      <th>6</th>\n      <td>1.289231</td>\n      <td>0.207073</td>\n      <td>-0.225924</td>\n    </tr>\n  </tbody>\n</table>\n</div>"
     },
     "execution_count": 16,
     "metadata": {},
     "output_type": "execute_result"
    }
   ]
  },
  {
   "cell_type": "markdown",
   "metadata": {
    "id": "Qhde1U6Bus3Y"
   },
   "source": [
    "#### Work\n",
    "\n",
    "\n",
    "\n",
    "Form the file given in `file/property_data.csv`\n"
   ]
  },
  {
   "cell_type": "markdown",
   "metadata": {
    "id": "pLVmcYYiu8mt"
   },
   "source": [
    "Provide the given output"
   ]
  },
  {
   "cell_type": "code",
   "metadata": {
    "id": "nA8Or5KIGHSd",
    "ExecuteTime": {
     "end_time": "2023-10-31T09:25:16.266532Z",
     "start_time": "2023-10-31T09:25:16.172371600Z"
    }
   },
   "source": [
    "df=pd.read_csv('C:/Users/Dell/Desktop/LectureNote/LectureNote_660632028/07. Data Cleansing/file/property_data.csv')"
   ],
   "execution_count": 102,
   "outputs": []
  },
  {
   "cell_type": "code",
   "metadata": {
    "id": "62uv2eaWu_sI",
    "colab": {
     "base_uri": "https://localhost:8080/",
     "height": 331
    },
    "outputId": "f9df2590-6c4c-4044-9b2e-5129398f4af6",
    "ExecuteTime": {
     "end_time": "2023-10-31T09:25:18.320761100Z",
     "start_time": "2023-10-31T09:25:18.179300700Z"
    }
   },
   "source": [
    "df.head()"
   ],
   "execution_count": 103,
   "outputs": [
    {
     "data": {
      "text/plain": "           PID  ST_NUM    ST_NAME OWN_OCCUPIED NUM_BEDROOMS NUM_BATH SQ_FT  \\\n0  100001000.0   104.0     PUTNAM            Y            3        1  1000   \n1  100002000.0   197.0  LEXINGTON            N            3      1.5    --   \n2  100003000.0     NaN  LEXINGTON            N          NaN        1   850   \n3  100004000.0   201.0   BERKELEY           12            1      NaN   700   \n4          NaN   203.0   BERKELEY            Y            3        2  1600   \n\n     PRICE  \n0  20000.0  \n1      NaN  \n2      NaN  \n3      NaN  \n4      NaN  ",
      "text/html": "<div>\n<style scoped>\n    .dataframe tbody tr th:only-of-type {\n        vertical-align: middle;\n    }\n\n    .dataframe tbody tr th {\n        vertical-align: top;\n    }\n\n    .dataframe thead th {\n        text-align: right;\n    }\n</style>\n<table border=\"1\" class=\"dataframe\">\n  <thead>\n    <tr style=\"text-align: right;\">\n      <th></th>\n      <th>PID</th>\n      <th>ST_NUM</th>\n      <th>ST_NAME</th>\n      <th>OWN_OCCUPIED</th>\n      <th>NUM_BEDROOMS</th>\n      <th>NUM_BATH</th>\n      <th>SQ_FT</th>\n      <th>PRICE</th>\n    </tr>\n  </thead>\n  <tbody>\n    <tr>\n      <th>0</th>\n      <td>100001000.0</td>\n      <td>104.0</td>\n      <td>PUTNAM</td>\n      <td>Y</td>\n      <td>3</td>\n      <td>1</td>\n      <td>1000</td>\n      <td>20000.0</td>\n    </tr>\n    <tr>\n      <th>1</th>\n      <td>100002000.0</td>\n      <td>197.0</td>\n      <td>LEXINGTON</td>\n      <td>N</td>\n      <td>3</td>\n      <td>1.5</td>\n      <td>--</td>\n      <td>NaN</td>\n    </tr>\n    <tr>\n      <th>2</th>\n      <td>100003000.0</td>\n      <td>NaN</td>\n      <td>LEXINGTON</td>\n      <td>N</td>\n      <td>NaN</td>\n      <td>1</td>\n      <td>850</td>\n      <td>NaN</td>\n    </tr>\n    <tr>\n      <th>3</th>\n      <td>100004000.0</td>\n      <td>201.0</td>\n      <td>BERKELEY</td>\n      <td>12</td>\n      <td>1</td>\n      <td>NaN</td>\n      <td>700</td>\n      <td>NaN</td>\n    </tr>\n    <tr>\n      <th>4</th>\n      <td>NaN</td>\n      <td>203.0</td>\n      <td>BERKELEY</td>\n      <td>Y</td>\n      <td>3</td>\n      <td>2</td>\n      <td>1600</td>\n      <td>NaN</td>\n    </tr>\n  </tbody>\n</table>\n</div>"
     },
     "execution_count": 103,
     "metadata": {},
     "output_type": "execute_result"
    }
   ]
  },
  {
   "cell_type": "markdown",
   "metadata": {
    "id": "yKDCMPz4WZmO"
   },
   "source": [
    "output 1\n",
    "![image-20230906061553156](./assets/image-20230906061553156.png)"
   ]
  },
  {
   "cell_type": "code",
   "execution_count": null,
   "outputs": [],
   "source": [],
   "metadata": {
    "collapsed": false
   }
  },
  {
   "cell_type": "code",
   "metadata": {
    "id": "26z-c65pxii_",
    "colab": {
     "base_uri": "https://localhost:8080/",
     "height": 81
    },
    "outputId": "1c176f2e-03af-43fe-965a-caa57b6970fa",
    "ExecuteTime": {
     "end_time": "2023-10-31T09:25:22.596009600Z",
     "start_time": "2023-10-31T09:25:22.454917200Z"
    }
   },
   "source": [
    "df.columns"
   ],
   "execution_count": 104,
   "outputs": [
    {
     "data": {
      "text/plain": "Index(['PID', 'ST_NUM', 'ST_NAME', 'OWN_OCCUPIED', 'NUM_BEDROOMS', 'NUM_BATH',\n       'SQ_FT', 'PRICE'],\n      dtype='object')"
     },
     "execution_count": 104,
     "metadata": {},
     "output_type": "execute_result"
    }
   ]
  },
  {
   "cell_type": "code",
   "execution_count": 105,
   "outputs": [
    {
     "data": {
      "text/plain": "           PID  ST_NUM     ST_NAME OWN_OCCUPIED NUM_BEDROOMS NUM_BATH   SQ_FT  \\\n0  100001000.0   104.0      PUTNAM            Y            3        1  1000.0   \n1  100002000.0   197.0   LEXINGTON            N            3      1.5     NaN   \n2  100003000.0     NaN   LEXINGTON            N          NaN        1   850.0   \n3  100004000.0   201.0    BERKELEY           12            1      NaN   700.0   \n4          NaN   203.0    BERKELEY            Y            3        2  1600.0   \n5  100006000.0   207.0    BERKELEY            Y          NaN        1   800.0   \n6  100007000.0     NaN  WASHINGTON          NaN            2   HURLEY   950.0   \n7  100008000.0   213.0     TREMONT            Y            1        1     NaN   \n8  100009000.0   215.0     TREMONT            Y           na        2  1800.0   \n\n     PRICE  \n0  20000.0  \n1      NaN  \n2      NaN  \n3      NaN  \n4      NaN  \n5      NaN  \n6      NaN  \n7      NaN  \n8      NaN  ",
      "text/html": "<div>\n<style scoped>\n    .dataframe tbody tr th:only-of-type {\n        vertical-align: middle;\n    }\n\n    .dataframe tbody tr th {\n        vertical-align: top;\n    }\n\n    .dataframe thead th {\n        text-align: right;\n    }\n</style>\n<table border=\"1\" class=\"dataframe\">\n  <thead>\n    <tr style=\"text-align: right;\">\n      <th></th>\n      <th>PID</th>\n      <th>ST_NUM</th>\n      <th>ST_NAME</th>\n      <th>OWN_OCCUPIED</th>\n      <th>NUM_BEDROOMS</th>\n      <th>NUM_BATH</th>\n      <th>SQ_FT</th>\n      <th>PRICE</th>\n    </tr>\n  </thead>\n  <tbody>\n    <tr>\n      <th>0</th>\n      <td>100001000.0</td>\n      <td>104.0</td>\n      <td>PUTNAM</td>\n      <td>Y</td>\n      <td>3</td>\n      <td>1</td>\n      <td>1000.0</td>\n      <td>20000.0</td>\n    </tr>\n    <tr>\n      <th>1</th>\n      <td>100002000.0</td>\n      <td>197.0</td>\n      <td>LEXINGTON</td>\n      <td>N</td>\n      <td>3</td>\n      <td>1.5</td>\n      <td>NaN</td>\n      <td>NaN</td>\n    </tr>\n    <tr>\n      <th>2</th>\n      <td>100003000.0</td>\n      <td>NaN</td>\n      <td>LEXINGTON</td>\n      <td>N</td>\n      <td>NaN</td>\n      <td>1</td>\n      <td>850.0</td>\n      <td>NaN</td>\n    </tr>\n    <tr>\n      <th>3</th>\n      <td>100004000.0</td>\n      <td>201.0</td>\n      <td>BERKELEY</td>\n      <td>12</td>\n      <td>1</td>\n      <td>NaN</td>\n      <td>700.0</td>\n      <td>NaN</td>\n    </tr>\n    <tr>\n      <th>4</th>\n      <td>NaN</td>\n      <td>203.0</td>\n      <td>BERKELEY</td>\n      <td>Y</td>\n      <td>3</td>\n      <td>2</td>\n      <td>1600.0</td>\n      <td>NaN</td>\n    </tr>\n    <tr>\n      <th>5</th>\n      <td>100006000.0</td>\n      <td>207.0</td>\n      <td>BERKELEY</td>\n      <td>Y</td>\n      <td>NaN</td>\n      <td>1</td>\n      <td>800.0</td>\n      <td>NaN</td>\n    </tr>\n    <tr>\n      <th>6</th>\n      <td>100007000.0</td>\n      <td>NaN</td>\n      <td>WASHINGTON</td>\n      <td>NaN</td>\n      <td>2</td>\n      <td>HURLEY</td>\n      <td>950.0</td>\n      <td>NaN</td>\n    </tr>\n    <tr>\n      <th>7</th>\n      <td>100008000.0</td>\n      <td>213.0</td>\n      <td>TREMONT</td>\n      <td>Y</td>\n      <td>1</td>\n      <td>1</td>\n      <td>NaN</td>\n      <td>NaN</td>\n    </tr>\n    <tr>\n      <th>8</th>\n      <td>100009000.0</td>\n      <td>215.0</td>\n      <td>TREMONT</td>\n      <td>Y</td>\n      <td>na</td>\n      <td>2</td>\n      <td>1800.0</td>\n      <td>NaN</td>\n    </tr>\n  </tbody>\n</table>\n</div>"
     },
     "execution_count": 105,
     "metadata": {},
     "output_type": "execute_result"
    }
   ],
   "source": [
    "df['SQ_FT'] = pd.to_numeric(df['SQ_FT'], errors='coerce')\n",
    "df"
   ],
   "metadata": {
    "collapsed": false,
    "ExecuteTime": {
     "end_time": "2023-10-31T09:25:29.839888200Z",
     "start_time": "2023-10-31T09:25:29.730541200Z"
    }
   }
  },
  {
   "cell_type": "markdown",
   "metadata": {
    "id": "wwdrKqlCWpbJ"
   },
   "source": [
    "Output 2\n",
    "\n",
    "![image-20230906061619935](./assets/image-20230906061619935.png)"
   ]
  },
  {
   "cell_type": "code",
   "metadata": {
    "id": "q6R39NQXyCsf",
    "colab": {
     "base_uri": "https://localhost:8080/",
     "height": 269
    },
    "outputId": "e32ced2b-e68f-416f-e9a6-a2e0b58439a1",
    "ExecuteTime": {
     "end_time": "2023-10-31T09:27:39.011125100Z",
     "start_time": "2023-10-31T09:27:38.853684700Z"
    }
   },
   "source": [
    "df['NUM_BATH'] = pd.to_numeric(df['NUM_BATH'], errors='coerce')\n",
    "\n",
    "df['SQ_FT'] = df['SQ_FT'].astype(str)\n",
    "\n",
    "df.head()"
   ],
   "execution_count": 108,
   "outputs": [
    {
     "data": {
      "text/plain": "           PID  ST_NUM    ST_NAME OWN_OCCUPIED NUM_BEDROOMS  NUM_BATH   SQ_FT  \\\n0  100001000.0   104.0     PUTNAM            Y            3       1.0  1000.0   \n1  100002000.0   197.0  LEXINGTON            N            3       1.5     nan   \n2  100003000.0     NaN  LEXINGTON            N          nan       1.0   850.0   \n3  100004000.0   201.0   BERKELEY           12            1       NaN   700.0   \n4          NaN   203.0   BERKELEY            Y            3       2.0  1600.0   \n\n     PRICE  \n0  20000.0  \n1      NaN  \n2      NaN  \n3      NaN  \n4      NaN  ",
      "text/html": "<div>\n<style scoped>\n    .dataframe tbody tr th:only-of-type {\n        vertical-align: middle;\n    }\n\n    .dataframe tbody tr th {\n        vertical-align: top;\n    }\n\n    .dataframe thead th {\n        text-align: right;\n    }\n</style>\n<table border=\"1\" class=\"dataframe\">\n  <thead>\n    <tr style=\"text-align: right;\">\n      <th></th>\n      <th>PID</th>\n      <th>ST_NUM</th>\n      <th>ST_NAME</th>\n      <th>OWN_OCCUPIED</th>\n      <th>NUM_BEDROOMS</th>\n      <th>NUM_BATH</th>\n      <th>SQ_FT</th>\n      <th>PRICE</th>\n    </tr>\n  </thead>\n  <tbody>\n    <tr>\n      <th>0</th>\n      <td>100001000.0</td>\n      <td>104.0</td>\n      <td>PUTNAM</td>\n      <td>Y</td>\n      <td>3</td>\n      <td>1.0</td>\n      <td>1000.0</td>\n      <td>20000.0</td>\n    </tr>\n    <tr>\n      <th>1</th>\n      <td>100002000.0</td>\n      <td>197.0</td>\n      <td>LEXINGTON</td>\n      <td>N</td>\n      <td>3</td>\n      <td>1.5</td>\n      <td>nan</td>\n      <td>NaN</td>\n    </tr>\n    <tr>\n      <th>2</th>\n      <td>100003000.0</td>\n      <td>NaN</td>\n      <td>LEXINGTON</td>\n      <td>N</td>\n      <td>nan</td>\n      <td>1.0</td>\n      <td>850.0</td>\n      <td>NaN</td>\n    </tr>\n    <tr>\n      <th>3</th>\n      <td>100004000.0</td>\n      <td>201.0</td>\n      <td>BERKELEY</td>\n      <td>12</td>\n      <td>1</td>\n      <td>NaN</td>\n      <td>700.0</td>\n      <td>NaN</td>\n    </tr>\n    <tr>\n      <th>4</th>\n      <td>NaN</td>\n      <td>203.0</td>\n      <td>BERKELEY</td>\n      <td>Y</td>\n      <td>3</td>\n      <td>2.0</td>\n      <td>1600.0</td>\n      <td>NaN</td>\n    </tr>\n  </tbody>\n</table>\n</div>"
     },
     "execution_count": 108,
     "metadata": {},
     "output_type": "execute_result"
    }
   ]
  },
  {
   "cell_type": "code",
   "execution_count": 109,
   "outputs": [
    {
     "data": {
      "text/plain": "           PID  ST_NUM     ST_NAME OWN_OCCUPIED NUM_BEDROOMS  NUM_BATH  \\\n0  100001000.0   104.0      PUTNAM            Y            3       1.0   \n1  100002000.0   197.0   LEXINGTON            N            3       1.5   \n2  100003000.0     NaN   LEXINGTON            N          nan       1.0   \n3  100004000.0   201.0    BERKELEY           12            1       NaN   \n4          NaN   203.0    BERKELEY            Y            3       2.0   \n5  100006000.0   207.0    BERKELEY            Y          nan       1.0   \n6  100007000.0     NaN  WASHINGTON          NaN            2       NaN   \n7  100008000.0   213.0     TREMONT            Y            1       1.0   \n8  100009000.0   215.0     TREMONT            Y           na       2.0   \n\n    SQ_FT    PRICE  \n0  1000.0  20000.0  \n1     nan      NaN  \n2   850.0      NaN  \n3   700.0      NaN  \n4  1600.0      NaN  \n5   800.0      NaN  \n6   950.0      NaN  \n7     nan      NaN  \n8  1800.0      NaN  ",
      "text/html": "<div>\n<style scoped>\n    .dataframe tbody tr th:only-of-type {\n        vertical-align: middle;\n    }\n\n    .dataframe tbody tr th {\n        vertical-align: top;\n    }\n\n    .dataframe thead th {\n        text-align: right;\n    }\n</style>\n<table border=\"1\" class=\"dataframe\">\n  <thead>\n    <tr style=\"text-align: right;\">\n      <th></th>\n      <th>PID</th>\n      <th>ST_NUM</th>\n      <th>ST_NAME</th>\n      <th>OWN_OCCUPIED</th>\n      <th>NUM_BEDROOMS</th>\n      <th>NUM_BATH</th>\n      <th>SQ_FT</th>\n      <th>PRICE</th>\n    </tr>\n  </thead>\n  <tbody>\n    <tr>\n      <th>0</th>\n      <td>100001000.0</td>\n      <td>104.0</td>\n      <td>PUTNAM</td>\n      <td>Y</td>\n      <td>3</td>\n      <td>1.0</td>\n      <td>1000.0</td>\n      <td>20000.0</td>\n    </tr>\n    <tr>\n      <th>1</th>\n      <td>100002000.0</td>\n      <td>197.0</td>\n      <td>LEXINGTON</td>\n      <td>N</td>\n      <td>3</td>\n      <td>1.5</td>\n      <td>nan</td>\n      <td>NaN</td>\n    </tr>\n    <tr>\n      <th>2</th>\n      <td>100003000.0</td>\n      <td>NaN</td>\n      <td>LEXINGTON</td>\n      <td>N</td>\n      <td>nan</td>\n      <td>1.0</td>\n      <td>850.0</td>\n      <td>NaN</td>\n    </tr>\n    <tr>\n      <th>3</th>\n      <td>100004000.0</td>\n      <td>201.0</td>\n      <td>BERKELEY</td>\n      <td>12</td>\n      <td>1</td>\n      <td>NaN</td>\n      <td>700.0</td>\n      <td>NaN</td>\n    </tr>\n    <tr>\n      <th>4</th>\n      <td>NaN</td>\n      <td>203.0</td>\n      <td>BERKELEY</td>\n      <td>Y</td>\n      <td>3</td>\n      <td>2.0</td>\n      <td>1600.0</td>\n      <td>NaN</td>\n    </tr>\n    <tr>\n      <th>5</th>\n      <td>100006000.0</td>\n      <td>207.0</td>\n      <td>BERKELEY</td>\n      <td>Y</td>\n      <td>nan</td>\n      <td>1.0</td>\n      <td>800.0</td>\n      <td>NaN</td>\n    </tr>\n    <tr>\n      <th>6</th>\n      <td>100007000.0</td>\n      <td>NaN</td>\n      <td>WASHINGTON</td>\n      <td>NaN</td>\n      <td>2</td>\n      <td>NaN</td>\n      <td>950.0</td>\n      <td>NaN</td>\n    </tr>\n    <tr>\n      <th>7</th>\n      <td>100008000.0</td>\n      <td>213.0</td>\n      <td>TREMONT</td>\n      <td>Y</td>\n      <td>1</td>\n      <td>1.0</td>\n      <td>nan</td>\n      <td>NaN</td>\n    </tr>\n    <tr>\n      <th>8</th>\n      <td>100009000.0</td>\n      <td>215.0</td>\n      <td>TREMONT</td>\n      <td>Y</td>\n      <td>na</td>\n      <td>2.0</td>\n      <td>1800.0</td>\n      <td>NaN</td>\n    </tr>\n  </tbody>\n</table>\n</div>"
     },
     "execution_count": 109,
     "metadata": {},
     "output_type": "execute_result"
    }
   ],
   "source": [
    "df['NUM_BEDROOMS'] = df['NUM_BEDROOMS'].astype(str)\n",
    "df"
   ],
   "metadata": {
    "collapsed": false,
    "ExecuteTime": {
     "end_time": "2023-10-31T09:27:50.140521100Z",
     "start_time": "2023-10-31T09:27:50.015273200Z"
    }
   }
  },
  {
   "cell_type": "markdown",
   "metadata": {
    "id": "3bZKvn_vYsl-"
   },
   "source": [
    "Output 3\n",
    "\n",
    "![image-20230906061652010](./assets/image-20230906061652010.png)"
   ]
  },
  {
   "cell_type": "code",
   "metadata": {
    "id": "1o6fSbTu0PSW",
    "colab": {
     "base_uri": "https://localhost:8080/",
     "height": 331
    },
    "outputId": "bab0d6e4-5a63-4e54-ace7-628fcdc71474",
    "ExecuteTime": {
     "end_time": "2023-10-31T09:28:03.363299600Z",
     "start_time": "2023-10-31T09:28:03.189945500Z"
    }
   },
   "source": [
    "df.drop(columns=['ST_NUM','NUM_BEDROOMS','PRICE'],inplace= True)\n",
    "df"
   ],
   "execution_count": 110,
   "outputs": [
    {
     "data": {
      "text/plain": "           PID     ST_NAME OWN_OCCUPIED  NUM_BATH   SQ_FT\n0  100001000.0      PUTNAM            Y       1.0  1000.0\n1  100002000.0   LEXINGTON            N       1.5     nan\n2  100003000.0   LEXINGTON            N       1.0   850.0\n3  100004000.0    BERKELEY           12       NaN   700.0\n4          NaN    BERKELEY            Y       2.0  1600.0\n5  100006000.0    BERKELEY            Y       1.0   800.0\n6  100007000.0  WASHINGTON          NaN       NaN   950.0\n7  100008000.0     TREMONT            Y       1.0     nan\n8  100009000.0     TREMONT            Y       2.0  1800.0",
      "text/html": "<div>\n<style scoped>\n    .dataframe tbody tr th:only-of-type {\n        vertical-align: middle;\n    }\n\n    .dataframe tbody tr th {\n        vertical-align: top;\n    }\n\n    .dataframe thead th {\n        text-align: right;\n    }\n</style>\n<table border=\"1\" class=\"dataframe\">\n  <thead>\n    <tr style=\"text-align: right;\">\n      <th></th>\n      <th>PID</th>\n      <th>ST_NAME</th>\n      <th>OWN_OCCUPIED</th>\n      <th>NUM_BATH</th>\n      <th>SQ_FT</th>\n    </tr>\n  </thead>\n  <tbody>\n    <tr>\n      <th>0</th>\n      <td>100001000.0</td>\n      <td>PUTNAM</td>\n      <td>Y</td>\n      <td>1.0</td>\n      <td>1000.0</td>\n    </tr>\n    <tr>\n      <th>1</th>\n      <td>100002000.0</td>\n      <td>LEXINGTON</td>\n      <td>N</td>\n      <td>1.5</td>\n      <td>nan</td>\n    </tr>\n    <tr>\n      <th>2</th>\n      <td>100003000.0</td>\n      <td>LEXINGTON</td>\n      <td>N</td>\n      <td>1.0</td>\n      <td>850.0</td>\n    </tr>\n    <tr>\n      <th>3</th>\n      <td>100004000.0</td>\n      <td>BERKELEY</td>\n      <td>12</td>\n      <td>NaN</td>\n      <td>700.0</td>\n    </tr>\n    <tr>\n      <th>4</th>\n      <td>NaN</td>\n      <td>BERKELEY</td>\n      <td>Y</td>\n      <td>2.0</td>\n      <td>1600.0</td>\n    </tr>\n    <tr>\n      <th>5</th>\n      <td>100006000.0</td>\n      <td>BERKELEY</td>\n      <td>Y</td>\n      <td>1.0</td>\n      <td>800.0</td>\n    </tr>\n    <tr>\n      <th>6</th>\n      <td>100007000.0</td>\n      <td>WASHINGTON</td>\n      <td>NaN</td>\n      <td>NaN</td>\n      <td>950.0</td>\n    </tr>\n    <tr>\n      <th>7</th>\n      <td>100008000.0</td>\n      <td>TREMONT</td>\n      <td>Y</td>\n      <td>1.0</td>\n      <td>nan</td>\n    </tr>\n    <tr>\n      <th>8</th>\n      <td>100009000.0</td>\n      <td>TREMONT</td>\n      <td>Y</td>\n      <td>2.0</td>\n      <td>1800.0</td>\n    </tr>\n  </tbody>\n</table>\n</div>"
     },
     "execution_count": 110,
     "metadata": {},
     "output_type": "execute_result"
    }
   ]
  },
  {
   "cell_type": "code",
   "execution_count": 111,
   "outputs": [
    {
     "data": {
      "text/plain": "           PID     ST_NAME OWN_OCCUPIED NUM_BATH   SQ_FT\n0  100001000.0      PUTNAM            Y      1.0  1000.0\n1  100002000.0   LEXINGTON            N      1.5     nan\n2  100003000.0   LEXINGTON            N      1.0   850.0\n3  100004000.0    BERKELEY           12      nan   700.0\n4          NaN    BERKELEY            Y      2.0  1600.0\n5  100006000.0    BERKELEY            Y      1.0   800.0\n6  100007000.0  WASHINGTON          NaN      nan   950.0\n7  100008000.0     TREMONT            Y      1.0     nan\n8  100009000.0     TREMONT            Y      2.0  1800.0",
      "text/html": "<div>\n<style scoped>\n    .dataframe tbody tr th:only-of-type {\n        vertical-align: middle;\n    }\n\n    .dataframe tbody tr th {\n        vertical-align: top;\n    }\n\n    .dataframe thead th {\n        text-align: right;\n    }\n</style>\n<table border=\"1\" class=\"dataframe\">\n  <thead>\n    <tr style=\"text-align: right;\">\n      <th></th>\n      <th>PID</th>\n      <th>ST_NAME</th>\n      <th>OWN_OCCUPIED</th>\n      <th>NUM_BATH</th>\n      <th>SQ_FT</th>\n    </tr>\n  </thead>\n  <tbody>\n    <tr>\n      <th>0</th>\n      <td>100001000.0</td>\n      <td>PUTNAM</td>\n      <td>Y</td>\n      <td>1.0</td>\n      <td>1000.0</td>\n    </tr>\n    <tr>\n      <th>1</th>\n      <td>100002000.0</td>\n      <td>LEXINGTON</td>\n      <td>N</td>\n      <td>1.5</td>\n      <td>nan</td>\n    </tr>\n    <tr>\n      <th>2</th>\n      <td>100003000.0</td>\n      <td>LEXINGTON</td>\n      <td>N</td>\n      <td>1.0</td>\n      <td>850.0</td>\n    </tr>\n    <tr>\n      <th>3</th>\n      <td>100004000.0</td>\n      <td>BERKELEY</td>\n      <td>12</td>\n      <td>nan</td>\n      <td>700.0</td>\n    </tr>\n    <tr>\n      <th>4</th>\n      <td>NaN</td>\n      <td>BERKELEY</td>\n      <td>Y</td>\n      <td>2.0</td>\n      <td>1600.0</td>\n    </tr>\n    <tr>\n      <th>5</th>\n      <td>100006000.0</td>\n      <td>BERKELEY</td>\n      <td>Y</td>\n      <td>1.0</td>\n      <td>800.0</td>\n    </tr>\n    <tr>\n      <th>6</th>\n      <td>100007000.0</td>\n      <td>WASHINGTON</td>\n      <td>NaN</td>\n      <td>nan</td>\n      <td>950.0</td>\n    </tr>\n    <tr>\n      <th>7</th>\n      <td>100008000.0</td>\n      <td>TREMONT</td>\n      <td>Y</td>\n      <td>1.0</td>\n      <td>nan</td>\n    </tr>\n    <tr>\n      <th>8</th>\n      <td>100009000.0</td>\n      <td>TREMONT</td>\n      <td>Y</td>\n      <td>2.0</td>\n      <td>1800.0</td>\n    </tr>\n  </tbody>\n</table>\n</div>"
     },
     "execution_count": 111,
     "metadata": {},
     "output_type": "execute_result"
    }
   ],
   "source": [
    "df['NUM_BATH'] = df['NUM_BATH'].astype(str)\n",
    "df"
   ],
   "metadata": {
    "collapsed": false,
    "ExecuteTime": {
     "end_time": "2023-10-31T09:28:50.230709300Z",
     "start_time": "2023-10-31T09:28:50.136242500Z"
    }
   }
  },
  {
   "cell_type": "markdown",
   "metadata": {
    "id": "zxgLC3q_qXQ8"
   },
   "source": [
    "### Filling in missing data\n",
    "\n",
    "---\n",
    "Instead of filtering data. Default data may be used.\n",
    "we can fil the default data for all `NA` values.\n",
    "\n",
    "```python\n",
    "df\n",
    "```"
   ]
  },
  {
   "cell_type": "code",
   "metadata": {
    "id": "yVyhi0f4K3UB",
    "colab": {
     "base_uri": "https://localhost:8080/",
     "height": 331
    },
    "outputId": "9c5e7f3f-eafb-4e65-e086-120f33df4e6e",
    "ExecuteTime": {
     "end_time": "2023-10-29T13:31:24.975744Z",
     "start_time": "2023-10-29T13:31:24.936913300Z"
    }
   },
   "source": [
    "df"
   ],
   "execution_count": 17,
   "outputs": [
    {
     "data": {
      "text/plain": "          0         1         2\n0  0.448454       NaN       NaN\n1  0.725350       NaN       NaN\n2 -2.421874       NaN -0.571457\n3  0.162696       NaN -1.851579\n4  0.847228 -0.909386 -1.671433\n5  0.119214 -0.788088  0.351853\n6  1.289231  0.207073 -0.225924",
      "text/html": "<div>\n<style scoped>\n    .dataframe tbody tr th:only-of-type {\n        vertical-align: middle;\n    }\n\n    .dataframe tbody tr th {\n        vertical-align: top;\n    }\n\n    .dataframe thead th {\n        text-align: right;\n    }\n</style>\n<table border=\"1\" class=\"dataframe\">\n  <thead>\n    <tr style=\"text-align: right;\">\n      <th></th>\n      <th>0</th>\n      <th>1</th>\n      <th>2</th>\n    </tr>\n  </thead>\n  <tbody>\n    <tr>\n      <th>0</th>\n      <td>0.448454</td>\n      <td>NaN</td>\n      <td>NaN</td>\n    </tr>\n    <tr>\n      <th>1</th>\n      <td>0.725350</td>\n      <td>NaN</td>\n      <td>NaN</td>\n    </tr>\n    <tr>\n      <th>2</th>\n      <td>-2.421874</td>\n      <td>NaN</td>\n      <td>-0.571457</td>\n    </tr>\n    <tr>\n      <th>3</th>\n      <td>0.162696</td>\n      <td>NaN</td>\n      <td>-1.851579</td>\n    </tr>\n    <tr>\n      <th>4</th>\n      <td>0.847228</td>\n      <td>-0.909386</td>\n      <td>-1.671433</td>\n    </tr>\n    <tr>\n      <th>5</th>\n      <td>0.119214</td>\n      <td>-0.788088</td>\n      <td>0.351853</td>\n    </tr>\n    <tr>\n      <th>6</th>\n      <td>1.289231</td>\n      <td>0.207073</td>\n      <td>-0.225924</td>\n    </tr>\n  </tbody>\n</table>\n</div>"
     },
     "execution_count": 17,
     "metadata": {},
     "output_type": "execute_result"
    }
   ]
  },
  {
   "cell_type": "markdown",
   "source": [
    "```python\n",
    "df.fillna(0)\n",
    "```\n"
   ],
   "metadata": {
    "collapsed": false
   }
  },
  {
   "cell_type": "code",
   "metadata": {
    "id": "BR8zSMuhrAuI",
    "colab": {
     "base_uri": "https://localhost:8080/",
     "height": 331
    },
    "outputId": "be0a0fd9-fa10-4443-f791-f245429da8b8",
    "ExecuteTime": {
     "end_time": "2023-10-29T13:31:29.331797900Z",
     "start_time": "2023-10-29T13:31:29.300528200Z"
    }
   },
   "source": [
    "df.fillna(0)"
   ],
   "execution_count": 18,
   "outputs": [
    {
     "data": {
      "text/plain": "          0         1         2\n0  0.448454  0.000000  0.000000\n1  0.725350  0.000000  0.000000\n2 -2.421874  0.000000 -0.571457\n3  0.162696  0.000000 -1.851579\n4  0.847228 -0.909386 -1.671433\n5  0.119214 -0.788088  0.351853\n6  1.289231  0.207073 -0.225924",
      "text/html": "<div>\n<style scoped>\n    .dataframe tbody tr th:only-of-type {\n        vertical-align: middle;\n    }\n\n    .dataframe tbody tr th {\n        vertical-align: top;\n    }\n\n    .dataframe thead th {\n        text-align: right;\n    }\n</style>\n<table border=\"1\" class=\"dataframe\">\n  <thead>\n    <tr style=\"text-align: right;\">\n      <th></th>\n      <th>0</th>\n      <th>1</th>\n      <th>2</th>\n    </tr>\n  </thead>\n  <tbody>\n    <tr>\n      <th>0</th>\n      <td>0.448454</td>\n      <td>0.000000</td>\n      <td>0.000000</td>\n    </tr>\n    <tr>\n      <th>1</th>\n      <td>0.725350</td>\n      <td>0.000000</td>\n      <td>0.000000</td>\n    </tr>\n    <tr>\n      <th>2</th>\n      <td>-2.421874</td>\n      <td>0.000000</td>\n      <td>-0.571457</td>\n    </tr>\n    <tr>\n      <th>3</th>\n      <td>0.162696</td>\n      <td>0.000000</td>\n      <td>-1.851579</td>\n    </tr>\n    <tr>\n      <th>4</th>\n      <td>0.847228</td>\n      <td>-0.909386</td>\n      <td>-1.671433</td>\n    </tr>\n    <tr>\n      <th>5</th>\n      <td>0.119214</td>\n      <td>-0.788088</td>\n      <td>0.351853</td>\n    </tr>\n    <tr>\n      <th>6</th>\n      <td>1.289231</td>\n      <td>0.207073</td>\n      <td>-0.225924</td>\n    </tr>\n  </tbody>\n</table>\n</div>"
     },
     "execution_count": 18,
     "metadata": {},
     "output_type": "execute_result"
    }
   ]
  },
  {
   "cell_type": "markdown",
   "metadata": {
    "id": "_LhPQVt8rDbL"
   },
   "source": [
    "Or we can define the value for each column\n",
    "```python\n",
    "df.fillna({\"PID\":0.5,\"ST_NUM\":1.2})\n",
    "```"
   ]
  },
  {
   "cell_type": "code",
   "metadata": {
    "id": "MpIZGq28WYGQ",
    "colab": {
     "base_uri": "https://localhost:8080/",
     "height": 331
    },
    "outputId": "daec5760-f661-4b60-d529-e23aecc735bd",
    "ExecuteTime": {
     "end_time": "2023-10-29T13:31:34.445873400Z",
     "start_time": "2023-10-29T13:31:34.393277400Z"
    }
   },
   "source": [
    "df.fillna({\"PID\":0.5,\"ST_NUM\":1.2})"
   ],
   "execution_count": 19,
   "outputs": [
    {
     "data": {
      "text/plain": "          0         1         2\n0  0.448454       NaN       NaN\n1  0.725350       NaN       NaN\n2 -2.421874       NaN -0.571457\n3  0.162696       NaN -1.851579\n4  0.847228 -0.909386 -1.671433\n5  0.119214 -0.788088  0.351853\n6  1.289231  0.207073 -0.225924",
      "text/html": "<div>\n<style scoped>\n    .dataframe tbody tr th:only-of-type {\n        vertical-align: middle;\n    }\n\n    .dataframe tbody tr th {\n        vertical-align: top;\n    }\n\n    .dataframe thead th {\n        text-align: right;\n    }\n</style>\n<table border=\"1\" class=\"dataframe\">\n  <thead>\n    <tr style=\"text-align: right;\">\n      <th></th>\n      <th>0</th>\n      <th>1</th>\n      <th>2</th>\n    </tr>\n  </thead>\n  <tbody>\n    <tr>\n      <th>0</th>\n      <td>0.448454</td>\n      <td>NaN</td>\n      <td>NaN</td>\n    </tr>\n    <tr>\n      <th>1</th>\n      <td>0.725350</td>\n      <td>NaN</td>\n      <td>NaN</td>\n    </tr>\n    <tr>\n      <th>2</th>\n      <td>-2.421874</td>\n      <td>NaN</td>\n      <td>-0.571457</td>\n    </tr>\n    <tr>\n      <th>3</th>\n      <td>0.162696</td>\n      <td>NaN</td>\n      <td>-1.851579</td>\n    </tr>\n    <tr>\n      <th>4</th>\n      <td>0.847228</td>\n      <td>-0.909386</td>\n      <td>-1.671433</td>\n    </tr>\n    <tr>\n      <th>5</th>\n      <td>0.119214</td>\n      <td>-0.788088</td>\n      <td>0.351853</td>\n    </tr>\n    <tr>\n      <th>6</th>\n      <td>1.289231</td>\n      <td>0.207073</td>\n      <td>-0.225924</td>\n    </tr>\n  </tbody>\n</table>\n</div>"
     },
     "execution_count": 19,
     "metadata": {},
     "output_type": "execute_result"
    }
   ]
  },
  {
   "cell_type": "code",
   "metadata": {
    "id": "Wy1VB50MrHWn"
   },
   "source": [],
   "execution_count": null,
   "outputs": []
  },
  {
   "cell_type": "code",
   "metadata": {
    "id": "JWaUDVkbLkf0",
    "colab": {
     "base_uri": "https://localhost:8080/",
     "height": 331
    },
    "outputId": "e0318a97-a892-4c6a-c60a-3b2584a358fd"
   },
   "source": [
    "\n"
   ],
   "execution_count": null,
   "outputs": []
  },
  {
   "cell_type": "markdown",
   "metadata": {
    "id": "EkI6rRBxrMzJ"
   },
   "source": [
    "`fillna` returns a new object, but we can modify the existing object in-place\n",
    "```python\n",
    "df.fillna(0,inplace=True)\n",
    "df\n",
    "```\n"
   ]
  },
  {
   "cell_type": "code",
   "metadata": {
    "id": "Egd-6Ub1rSNg",
    "colab": {
     "base_uri": "https://localhost:8080/",
     "height": 331
    },
    "outputId": "5c4853cf-1b2c-45ff-871c-ae3524215ab0",
    "ExecuteTime": {
     "end_time": "2023-10-29T13:31:40.578481300Z",
     "start_time": "2023-10-29T13:31:40.546714600Z"
    }
   },
   "source": [
    "df.fillna(0,inplace=True)\n",
    "df"
   ],
   "execution_count": 20,
   "outputs": [
    {
     "data": {
      "text/plain": "          0         1         2\n0  0.448454  0.000000  0.000000\n1  0.725350  0.000000  0.000000\n2 -2.421874  0.000000 -0.571457\n3  0.162696  0.000000 -1.851579\n4  0.847228 -0.909386 -1.671433\n5  0.119214 -0.788088  0.351853\n6  1.289231  0.207073 -0.225924",
      "text/html": "<div>\n<style scoped>\n    .dataframe tbody tr th:only-of-type {\n        vertical-align: middle;\n    }\n\n    .dataframe tbody tr th {\n        vertical-align: top;\n    }\n\n    .dataframe thead th {\n        text-align: right;\n    }\n</style>\n<table border=\"1\" class=\"dataframe\">\n  <thead>\n    <tr style=\"text-align: right;\">\n      <th></th>\n      <th>0</th>\n      <th>1</th>\n      <th>2</th>\n    </tr>\n  </thead>\n  <tbody>\n    <tr>\n      <th>0</th>\n      <td>0.448454</td>\n      <td>0.000000</td>\n      <td>0.000000</td>\n    </tr>\n    <tr>\n      <th>1</th>\n      <td>0.725350</td>\n      <td>0.000000</td>\n      <td>0.000000</td>\n    </tr>\n    <tr>\n      <th>2</th>\n      <td>-2.421874</td>\n      <td>0.000000</td>\n      <td>-0.571457</td>\n    </tr>\n    <tr>\n      <th>3</th>\n      <td>0.162696</td>\n      <td>0.000000</td>\n      <td>-1.851579</td>\n    </tr>\n    <tr>\n      <th>4</th>\n      <td>0.847228</td>\n      <td>-0.909386</td>\n      <td>-1.671433</td>\n    </tr>\n    <tr>\n      <th>5</th>\n      <td>0.119214</td>\n      <td>-0.788088</td>\n      <td>0.351853</td>\n    </tr>\n    <tr>\n      <th>6</th>\n      <td>1.289231</td>\n      <td>0.207073</td>\n      <td>-0.225924</td>\n    </tr>\n  </tbody>\n</table>\n</div>"
     },
     "execution_count": 20,
     "metadata": {},
     "output_type": "execute_result"
    }
   ]
  },
  {
   "cell_type": "markdown",
   "metadata": {
    "id": "0ZtYymEOrumI"
   },
   "source": [
    "We can use the interpolation method to file the value.\n",
    "\n",
    "Now we create a new data frame with some `NA`\n",
    "```python\n",
    "df = pd.DataFrame(np.random.randn(6, 3))\n",
    "df.iloc[2:, 1] = NA\n",
    "df.iloc[4:, 2] = NA\n",
    "df\n",
    "```"
   ]
  },
  {
   "cell_type": "code",
   "metadata": {
    "id": "lQaZvanKM8xh",
    "ExecuteTime": {
     "end_time": "2023-10-29T13:31:46.783332800Z",
     "start_time": "2023-10-29T13:31:46.720426100Z"
    }
   },
   "source": [
    "df = pd.DataFrame(np.random.randn(6, 3))\n",
    "df.iloc[2:, 1] = NA\n",
    "df.iloc[4:, 2] = NA\n",
    "df"
   ],
   "execution_count": 21,
   "outputs": [
    {
     "data": {
      "text/plain": "          0         1         2\n0 -0.598993  0.846618  1.034281\n1  0.024704  0.353443  0.996690\n2  1.253821       NaN -1.554039\n3  0.338998       NaN -0.863195\n4  1.782292       NaN       NaN\n5 -0.811732       NaN       NaN",
      "text/html": "<div>\n<style scoped>\n    .dataframe tbody tr th:only-of-type {\n        vertical-align: middle;\n    }\n\n    .dataframe tbody tr th {\n        vertical-align: top;\n    }\n\n    .dataframe thead th {\n        text-align: right;\n    }\n</style>\n<table border=\"1\" class=\"dataframe\">\n  <thead>\n    <tr style=\"text-align: right;\">\n      <th></th>\n      <th>0</th>\n      <th>1</th>\n      <th>2</th>\n    </tr>\n  </thead>\n  <tbody>\n    <tr>\n      <th>0</th>\n      <td>-0.598993</td>\n      <td>0.846618</td>\n      <td>1.034281</td>\n    </tr>\n    <tr>\n      <th>1</th>\n      <td>0.024704</td>\n      <td>0.353443</td>\n      <td>0.996690</td>\n    </tr>\n    <tr>\n      <th>2</th>\n      <td>1.253821</td>\n      <td>NaN</td>\n      <td>-1.554039</td>\n    </tr>\n    <tr>\n      <th>3</th>\n      <td>0.338998</td>\n      <td>NaN</td>\n      <td>-0.863195</td>\n    </tr>\n    <tr>\n      <th>4</th>\n      <td>1.782292</td>\n      <td>NaN</td>\n      <td>NaN</td>\n    </tr>\n    <tr>\n      <th>5</th>\n      <td>-0.811732</td>\n      <td>NaN</td>\n      <td>NaN</td>\n    </tr>\n  </tbody>\n</table>\n</div>"
     },
     "execution_count": 21,
     "metadata": {},
     "output_type": "execute_result"
    }
   ]
  },
  {
   "cell_type": "code",
   "metadata": {
    "id": "4J_Xde2rsA9H",
    "colab": {
     "base_uri": "https://localhost:8080/",
     "height": 237
    },
    "outputId": "7a8776af-5c33-45e8-d1b2-1004eee8453e",
    "ExecuteTime": {
     "end_time": "2023-10-29T13:32:28.295655100Z",
     "start_time": "2023-10-29T13:32:28.248765Z"
    }
   },
   "source": [
    "import numpy as np"
   ],
   "execution_count": 24,
   "outputs": []
  },
  {
   "cell_type": "markdown",
   "metadata": {
    "id": "OIY3mYO0sC3p"
   },
   "source": [
    "Add the interpolation methods for more details google `dataframe fillna`\n",
    "```python\n",
    "df.fill()\n",
    "```\n"
   ]
  },
  {
   "cell_type": "code",
   "metadata": {
    "id": "Dve0KFUysGzb",
    "colab": {
     "base_uri": "https://localhost:8080/",
     "height": 237
    },
    "outputId": "ef64bd86-1cdf-42f8-e878-de50c23110fe",
    "ExecuteTime": {
     "end_time": "2023-10-29T13:32:54.134442500Z",
     "start_time": "2023-10-29T13:32:54.071507500Z"
    }
   },
   "source": [
    "df.fill()"
   ],
   "execution_count": 27,
   "outputs": [
    {
     "ename": "AttributeError",
     "evalue": "'DataFrame' object has no attribute 'fill'",
     "output_type": "error",
     "traceback": [
      "\u001B[1;31m---------------------------------------------------------------------------\u001B[0m",
      "\u001B[1;31mAttributeError\u001B[0m                            Traceback (most recent call last)",
      "Cell \u001B[1;32mIn[27], line 1\u001B[0m\n\u001B[1;32m----> 1\u001B[0m \u001B[43mdf\u001B[49m\u001B[38;5;241;43m.\u001B[39;49m\u001B[43mfill\u001B[49m()\n",
      "File \u001B[1;32m~\\anaconda3\\lib\\site-packages\\pandas\\core\\generic.py:5902\u001B[0m, in \u001B[0;36mNDFrame.__getattr__\u001B[1;34m(self, name)\u001B[0m\n\u001B[0;32m   5895\u001B[0m \u001B[38;5;28;01mif\u001B[39;00m (\n\u001B[0;32m   5896\u001B[0m     name \u001B[38;5;129;01mnot\u001B[39;00m \u001B[38;5;129;01min\u001B[39;00m \u001B[38;5;28mself\u001B[39m\u001B[38;5;241m.\u001B[39m_internal_names_set\n\u001B[0;32m   5897\u001B[0m     \u001B[38;5;129;01mand\u001B[39;00m name \u001B[38;5;129;01mnot\u001B[39;00m \u001B[38;5;129;01min\u001B[39;00m \u001B[38;5;28mself\u001B[39m\u001B[38;5;241m.\u001B[39m_metadata\n\u001B[0;32m   5898\u001B[0m     \u001B[38;5;129;01mand\u001B[39;00m name \u001B[38;5;129;01mnot\u001B[39;00m \u001B[38;5;129;01min\u001B[39;00m \u001B[38;5;28mself\u001B[39m\u001B[38;5;241m.\u001B[39m_accessors\n\u001B[0;32m   5899\u001B[0m     \u001B[38;5;129;01mand\u001B[39;00m \u001B[38;5;28mself\u001B[39m\u001B[38;5;241m.\u001B[39m_info_axis\u001B[38;5;241m.\u001B[39m_can_hold_identifiers_and_holds_name(name)\n\u001B[0;32m   5900\u001B[0m ):\n\u001B[0;32m   5901\u001B[0m     \u001B[38;5;28;01mreturn\u001B[39;00m \u001B[38;5;28mself\u001B[39m[name]\n\u001B[1;32m-> 5902\u001B[0m \u001B[38;5;28;01mreturn\u001B[39;00m \u001B[38;5;28;43mobject\u001B[39;49m\u001B[38;5;241;43m.\u001B[39;49m\u001B[38;5;21;43m__getattribute__\u001B[39;49m\u001B[43m(\u001B[49m\u001B[38;5;28;43mself\u001B[39;49m\u001B[43m,\u001B[49m\u001B[43m \u001B[49m\u001B[43mname\u001B[49m\u001B[43m)\u001B[49m\n",
      "\u001B[1;31mAttributeError\u001B[0m: 'DataFrame' object has no attribute 'fill'"
     ]
    }
   ]
  },
  {
   "cell_type": "markdown",
   "metadata": {
    "id": "JSgjZmbusI_r"
   },
   "source": [
    "we can set limit of filling data that it should not be filled more than limit value.\n",
    "```python\n",
    "df.ffill(limit=2)\n",
    "```\n"
   ]
  },
  {
   "cell_type": "code",
   "metadata": {
    "id": "hYI8ikJjsTw0",
    "colab": {
     "base_uri": "https://localhost:8080/",
     "height": 237
    },
    "outputId": "c91f454a-df16-4c3b-b391-657df8dd99a2",
    "ExecuteTime": {
     "end_time": "2023-10-29T13:32:02.959797600Z",
     "start_time": "2023-10-29T13:32:02.865617900Z"
    }
   },
   "source": [
    "df.ffill(limit=2)"
   ],
   "execution_count": 23,
   "outputs": [
    {
     "data": {
      "text/plain": "          0         1         2\n0 -0.598993  0.846618  1.034281\n1  0.024704  0.353443  0.996690\n2  1.253821  0.353443 -1.554039\n3  0.338998  0.353443 -0.863195\n4  1.782292       NaN -0.863195\n5 -0.811732       NaN -0.863195",
      "text/html": "<div>\n<style scoped>\n    .dataframe tbody tr th:only-of-type {\n        vertical-align: middle;\n    }\n\n    .dataframe tbody tr th {\n        vertical-align: top;\n    }\n\n    .dataframe thead th {\n        text-align: right;\n    }\n</style>\n<table border=\"1\" class=\"dataframe\">\n  <thead>\n    <tr style=\"text-align: right;\">\n      <th></th>\n      <th>0</th>\n      <th>1</th>\n      <th>2</th>\n    </tr>\n  </thead>\n  <tbody>\n    <tr>\n      <th>0</th>\n      <td>-0.598993</td>\n      <td>0.846618</td>\n      <td>1.034281</td>\n    </tr>\n    <tr>\n      <th>1</th>\n      <td>0.024704</td>\n      <td>0.353443</td>\n      <td>0.996690</td>\n    </tr>\n    <tr>\n      <th>2</th>\n      <td>1.253821</td>\n      <td>0.353443</td>\n      <td>-1.554039</td>\n    </tr>\n    <tr>\n      <th>3</th>\n      <td>0.338998</td>\n      <td>0.353443</td>\n      <td>-0.863195</td>\n    </tr>\n    <tr>\n      <th>4</th>\n      <td>1.782292</td>\n      <td>NaN</td>\n      <td>-0.863195</td>\n    </tr>\n    <tr>\n      <th>5</th>\n      <td>-0.811732</td>\n      <td>NaN</td>\n      <td>-0.863195</td>\n    </tr>\n  </tbody>\n</table>\n</div>"
     },
     "execution_count": 23,
     "metadata": {},
     "output_type": "execute_result"
    }
   ]
  },
  {
   "cell_type": "markdown",
   "metadata": {
    "id": "KhyzCYtZrzDB"
   },
   "source": [
    "Another fill method can be found in the api\n",
    "such as `bfill` which is backward fill\n",
    "```python\n",
    "df.bfill()\n",
    "```\n",
    "\n"
   ]
  },
  {
   "cell_type": "code",
   "execution_count": 28,
   "outputs": [
    {
     "data": {
      "text/plain": "          0         1         2\n0 -0.598993  0.846618  1.034281\n1  0.024704  0.353443  0.996690\n2  1.253821       NaN -1.554039\n3  0.338998       NaN -0.863195\n4  1.782292       NaN       NaN\n5 -0.811732       NaN       NaN",
      "text/html": "<div>\n<style scoped>\n    .dataframe tbody tr th:only-of-type {\n        vertical-align: middle;\n    }\n\n    .dataframe tbody tr th {\n        vertical-align: top;\n    }\n\n    .dataframe thead th {\n        text-align: right;\n    }\n</style>\n<table border=\"1\" class=\"dataframe\">\n  <thead>\n    <tr style=\"text-align: right;\">\n      <th></th>\n      <th>0</th>\n      <th>1</th>\n      <th>2</th>\n    </tr>\n  </thead>\n  <tbody>\n    <tr>\n      <th>0</th>\n      <td>-0.598993</td>\n      <td>0.846618</td>\n      <td>1.034281</td>\n    </tr>\n    <tr>\n      <th>1</th>\n      <td>0.024704</td>\n      <td>0.353443</td>\n      <td>0.996690</td>\n    </tr>\n    <tr>\n      <th>2</th>\n      <td>1.253821</td>\n      <td>NaN</td>\n      <td>-1.554039</td>\n    </tr>\n    <tr>\n      <th>3</th>\n      <td>0.338998</td>\n      <td>NaN</td>\n      <td>-0.863195</td>\n    </tr>\n    <tr>\n      <th>4</th>\n      <td>1.782292</td>\n      <td>NaN</td>\n      <td>NaN</td>\n    </tr>\n    <tr>\n      <th>5</th>\n      <td>-0.811732</td>\n      <td>NaN</td>\n      <td>NaN</td>\n    </tr>\n  </tbody>\n</table>\n</div>"
     },
     "execution_count": 28,
     "metadata": {},
     "output_type": "execute_result"
    }
   ],
   "source": [
    "df.bfill()"
   ],
   "metadata": {
    "collapsed": false,
    "ExecuteTime": {
     "end_time": "2023-10-29T13:33:01.154985500Z",
     "start_time": "2023-10-29T13:33:01.092342300Z"
    }
   }
  },
  {
   "cell_type": "markdown",
   "source": [
    "Try\n",
    "\n",
    "```python\n",
    "df[6] = [1,2,3]\n",
    "df\n",
    "```"
   ],
   "metadata": {
    "collapsed": false
   }
  },
  {
   "cell_type": "code",
   "execution_count": 29,
   "outputs": [
    {
     "ename": "ValueError",
     "evalue": "Length of values (3) does not match length of index (6)",
     "output_type": "error",
     "traceback": [
      "\u001B[1;31m---------------------------------------------------------------------------\u001B[0m",
      "\u001B[1;31mValueError\u001B[0m                                Traceback (most recent call last)",
      "Cell \u001B[1;32mIn[29], line 1\u001B[0m\n\u001B[1;32m----> 1\u001B[0m df[\u001B[38;5;241m6\u001B[39m] \u001B[38;5;241m=\u001B[39m [\u001B[38;5;241m1\u001B[39m,\u001B[38;5;241m2\u001B[39m,\u001B[38;5;241m3\u001B[39m]\n\u001B[0;32m      2\u001B[0m df\n",
      "File \u001B[1;32m~\\anaconda3\\lib\\site-packages\\pandas\\core\\frame.py:3980\u001B[0m, in \u001B[0;36mDataFrame.__setitem__\u001B[1;34m(self, key, value)\u001B[0m\n\u001B[0;32m   3977\u001B[0m     \u001B[38;5;28mself\u001B[39m\u001B[38;5;241m.\u001B[39m_setitem_array([key], value)\n\u001B[0;32m   3978\u001B[0m \u001B[38;5;28;01melse\u001B[39;00m:\n\u001B[0;32m   3979\u001B[0m     \u001B[38;5;66;03m# set column\u001B[39;00m\n\u001B[1;32m-> 3980\u001B[0m     \u001B[38;5;28;43mself\u001B[39;49m\u001B[38;5;241;43m.\u001B[39;49m\u001B[43m_set_item\u001B[49m\u001B[43m(\u001B[49m\u001B[43mkey\u001B[49m\u001B[43m,\u001B[49m\u001B[43m \u001B[49m\u001B[43mvalue\u001B[49m\u001B[43m)\u001B[49m\n",
      "File \u001B[1;32m~\\anaconda3\\lib\\site-packages\\pandas\\core\\frame.py:4174\u001B[0m, in \u001B[0;36mDataFrame._set_item\u001B[1;34m(self, key, value)\u001B[0m\n\u001B[0;32m   4164\u001B[0m \u001B[38;5;28;01mdef\u001B[39;00m \u001B[38;5;21m_set_item\u001B[39m(\u001B[38;5;28mself\u001B[39m, key, value) \u001B[38;5;241m-\u001B[39m\u001B[38;5;241m>\u001B[39m \u001B[38;5;28;01mNone\u001B[39;00m:\n\u001B[0;32m   4165\u001B[0m     \u001B[38;5;124;03m\"\"\"\u001B[39;00m\n\u001B[0;32m   4166\u001B[0m \u001B[38;5;124;03m    Add series to DataFrame in specified column.\u001B[39;00m\n\u001B[0;32m   4167\u001B[0m \n\u001B[1;32m   (...)\u001B[0m\n\u001B[0;32m   4172\u001B[0m \u001B[38;5;124;03m    ensure homogeneity.\u001B[39;00m\n\u001B[0;32m   4173\u001B[0m \u001B[38;5;124;03m    \"\"\"\u001B[39;00m\n\u001B[1;32m-> 4174\u001B[0m     value \u001B[38;5;241m=\u001B[39m \u001B[38;5;28;43mself\u001B[39;49m\u001B[38;5;241;43m.\u001B[39;49m\u001B[43m_sanitize_column\u001B[49m\u001B[43m(\u001B[49m\u001B[43mvalue\u001B[49m\u001B[43m)\u001B[49m\n\u001B[0;32m   4176\u001B[0m     \u001B[38;5;28;01mif\u001B[39;00m (\n\u001B[0;32m   4177\u001B[0m         key \u001B[38;5;129;01min\u001B[39;00m \u001B[38;5;28mself\u001B[39m\u001B[38;5;241m.\u001B[39mcolumns\n\u001B[0;32m   4178\u001B[0m         \u001B[38;5;129;01mand\u001B[39;00m value\u001B[38;5;241m.\u001B[39mndim \u001B[38;5;241m==\u001B[39m \u001B[38;5;241m1\u001B[39m\n\u001B[0;32m   4179\u001B[0m         \u001B[38;5;129;01mand\u001B[39;00m \u001B[38;5;129;01mnot\u001B[39;00m is_extension_array_dtype(value)\n\u001B[0;32m   4180\u001B[0m     ):\n\u001B[0;32m   4181\u001B[0m         \u001B[38;5;66;03m# broadcast across multiple columns if necessary\u001B[39;00m\n\u001B[0;32m   4182\u001B[0m         \u001B[38;5;28;01mif\u001B[39;00m \u001B[38;5;129;01mnot\u001B[39;00m \u001B[38;5;28mself\u001B[39m\u001B[38;5;241m.\u001B[39mcolumns\u001B[38;5;241m.\u001B[39mis_unique \u001B[38;5;129;01mor\u001B[39;00m \u001B[38;5;28misinstance\u001B[39m(\u001B[38;5;28mself\u001B[39m\u001B[38;5;241m.\u001B[39mcolumns, MultiIndex):\n",
      "File \u001B[1;32m~\\anaconda3\\lib\\site-packages\\pandas\\core\\frame.py:4915\u001B[0m, in \u001B[0;36mDataFrame._sanitize_column\u001B[1;34m(self, value)\u001B[0m\n\u001B[0;32m   4912\u001B[0m     \u001B[38;5;28;01mreturn\u001B[39;00m _reindex_for_setitem(Series(value), \u001B[38;5;28mself\u001B[39m\u001B[38;5;241m.\u001B[39mindex)\n\u001B[0;32m   4914\u001B[0m \u001B[38;5;28;01mif\u001B[39;00m is_list_like(value):\n\u001B[1;32m-> 4915\u001B[0m     \u001B[43mcom\u001B[49m\u001B[38;5;241;43m.\u001B[39;49m\u001B[43mrequire_length_match\u001B[49m\u001B[43m(\u001B[49m\u001B[43mvalue\u001B[49m\u001B[43m,\u001B[49m\u001B[43m \u001B[49m\u001B[38;5;28;43mself\u001B[39;49m\u001B[38;5;241;43m.\u001B[39;49m\u001B[43mindex\u001B[49m\u001B[43m)\u001B[49m\n\u001B[0;32m   4916\u001B[0m \u001B[38;5;28;01mreturn\u001B[39;00m sanitize_array(value, \u001B[38;5;28mself\u001B[39m\u001B[38;5;241m.\u001B[39mindex, copy\u001B[38;5;241m=\u001B[39m\u001B[38;5;28;01mTrue\u001B[39;00m, allow_2d\u001B[38;5;241m=\u001B[39m\u001B[38;5;28;01mTrue\u001B[39;00m)\n",
      "File \u001B[1;32m~\\anaconda3\\lib\\site-packages\\pandas\\core\\common.py:571\u001B[0m, in \u001B[0;36mrequire_length_match\u001B[1;34m(data, index)\u001B[0m\n\u001B[0;32m    567\u001B[0m \u001B[38;5;124;03m\"\"\"\u001B[39;00m\n\u001B[0;32m    568\u001B[0m \u001B[38;5;124;03mCheck the length of data matches the length of the index.\u001B[39;00m\n\u001B[0;32m    569\u001B[0m \u001B[38;5;124;03m\"\"\"\u001B[39;00m\n\u001B[0;32m    570\u001B[0m \u001B[38;5;28;01mif\u001B[39;00m \u001B[38;5;28mlen\u001B[39m(data) \u001B[38;5;241m!=\u001B[39m \u001B[38;5;28mlen\u001B[39m(index):\n\u001B[1;32m--> 571\u001B[0m     \u001B[38;5;28;01mraise\u001B[39;00m \u001B[38;5;167;01mValueError\u001B[39;00m(\n\u001B[0;32m    572\u001B[0m         \u001B[38;5;124m\"\u001B[39m\u001B[38;5;124mLength of values \u001B[39m\u001B[38;5;124m\"\u001B[39m\n\u001B[0;32m    573\u001B[0m         \u001B[38;5;124mf\u001B[39m\u001B[38;5;124m\"\u001B[39m\u001B[38;5;124m(\u001B[39m\u001B[38;5;132;01m{\u001B[39;00m\u001B[38;5;28mlen\u001B[39m(data)\u001B[38;5;132;01m}\u001B[39;00m\u001B[38;5;124m) \u001B[39m\u001B[38;5;124m\"\u001B[39m\n\u001B[0;32m    574\u001B[0m         \u001B[38;5;124m\"\u001B[39m\u001B[38;5;124mdoes not match length of index \u001B[39m\u001B[38;5;124m\"\u001B[39m\n\u001B[0;32m    575\u001B[0m         \u001B[38;5;124mf\u001B[39m\u001B[38;5;124m\"\u001B[39m\u001B[38;5;124m(\u001B[39m\u001B[38;5;132;01m{\u001B[39;00m\u001B[38;5;28mlen\u001B[39m(index)\u001B[38;5;132;01m}\u001B[39;00m\u001B[38;5;124m)\u001B[39m\u001B[38;5;124m\"\u001B[39m\n\u001B[0;32m    576\u001B[0m     )\n",
      "\u001B[1;31mValueError\u001B[0m: Length of values (3) does not match length of index (6)"
     ]
    }
   ],
   "source": [
    "df[6] = [1,2,3]"
   ],
   "metadata": {
    "collapsed": false,
    "ExecuteTime": {
     "end_time": "2023-10-29T13:33:07.225955Z",
     "start_time": "2023-10-29T13:33:07.033587800Z"
    }
   }
  },
  {
   "cell_type": "code",
   "execution_count": 30,
   "outputs": [
    {
     "data": {
      "text/plain": "          0         1         2\n0 -0.598993  0.846618  1.034281\n1  0.024704  0.353443  0.996690\n2  1.253821       NaN -1.554039\n3  0.338998       NaN -0.863195\n4  1.782292       NaN       NaN\n5 -0.811732       NaN       NaN",
      "text/html": "<div>\n<style scoped>\n    .dataframe tbody tr th:only-of-type {\n        vertical-align: middle;\n    }\n\n    .dataframe tbody tr th {\n        vertical-align: top;\n    }\n\n    .dataframe thead th {\n        text-align: right;\n    }\n</style>\n<table border=\"1\" class=\"dataframe\">\n  <thead>\n    <tr style=\"text-align: right;\">\n      <th></th>\n      <th>0</th>\n      <th>1</th>\n      <th>2</th>\n    </tr>\n  </thead>\n  <tbody>\n    <tr>\n      <th>0</th>\n      <td>-0.598993</td>\n      <td>0.846618</td>\n      <td>1.034281</td>\n    </tr>\n    <tr>\n      <th>1</th>\n      <td>0.024704</td>\n      <td>0.353443</td>\n      <td>0.996690</td>\n    </tr>\n    <tr>\n      <th>2</th>\n      <td>1.253821</td>\n      <td>NaN</td>\n      <td>-1.554039</td>\n    </tr>\n    <tr>\n      <th>3</th>\n      <td>0.338998</td>\n      <td>NaN</td>\n      <td>-0.863195</td>\n    </tr>\n    <tr>\n      <th>4</th>\n      <td>1.782292</td>\n      <td>NaN</td>\n      <td>NaN</td>\n    </tr>\n    <tr>\n      <th>5</th>\n      <td>-0.811732</td>\n      <td>NaN</td>\n      <td>NaN</td>\n    </tr>\n  </tbody>\n</table>\n</div>"
     },
     "execution_count": 30,
     "metadata": {},
     "output_type": "execute_result"
    }
   ],
   "source": [
    "df"
   ],
   "metadata": {
    "collapsed": false,
    "ExecuteTime": {
     "end_time": "2023-10-29T13:33:16.979878100Z",
     "start_time": "2023-10-29T13:33:16.923296100Z"
    }
   }
  },
  {
   "cell_type": "markdown",
   "metadata": {
    "id": "n0xkAyGt0sOP"
   },
   "source": [
    "#### Work\n",
    "\n",
    "---\n",
    "From the propery_data you have done from the last work\n",
    "Provide this dataframe"
   ]
  },
  {
   "cell_type": "code",
   "metadata": {
    "id": "fZp7rWiT2TQ7",
    "colab": {
     "base_uri": "https://localhost:8080/",
     "height": 331
    },
    "outputId": "2216c392-e3ce-4d48-8e1c-1c9c981a895f"
   },
   "source": [],
   "execution_count": null,
   "outputs": []
  },
  {
   "cell_type": "markdown",
   "metadata": {
    "id": "Cv8DzRg0Zhdp"
   },
   "source": [
    "Output 1\n",
    "![image-20230906063035319](./assets/image-20230906063035319.png)\n"
   ]
  },
  {
   "cell_type": "code",
   "metadata": {
    "id": "atTt2I582fOi",
    "colab": {
     "base_uri": "https://localhost:8080/",
     "height": 331
    },
    "outputId": "96edb1d4-3897-4517-8a3b-808ac9dfd979"
   },
   "source": [],
   "execution_count": null,
   "outputs": []
  },
  {
   "cell_type": "markdown",
   "metadata": {
    "id": "v91y3obtZoSm"
   },
   "source": [
    "Output 2\n",
    "![image-20230906063122466](./assets/image-20230906063122466.png)"
   ]
  },
  {
   "cell_type": "code",
   "metadata": {
    "id": "uGLIsuE72m1-",
    "colab": {
     "base_uri": "https://localhost:8080/",
     "height": 331
    },
    "outputId": "2f8242c0-b719-4cbb-f251-6fd6b3c0722b"
   },
   "source": [],
   "execution_count": null,
   "outputs": []
  },
  {
   "cell_type": "markdown",
   "metadata": {
    "id": "5MUSdIB2Zs_H"
   },
   "source": [
    "Output 3\n",
    "![image-20230906063412850](./assets/image-20230906063412850.png)\n"
   ]
  },
  {
   "cell_type": "code",
   "execution_count": null,
   "outputs": [],
   "source": [],
   "metadata": {
    "collapsed": false
   }
  },
  {
   "cell_type": "code",
   "execution_count": null,
   "outputs": [],
   "source": [],
   "metadata": {
    "collapsed": false
   }
  },
  {
   "cell_type": "markdown",
   "metadata": {
    "id": "nuY4JK10bdLt"
   },
   "source": []
  },
  {
   "cell_type": "markdown",
   "metadata": {
    "id": "u9hDfUFrtvEr"
   },
   "source": [
    "## Data Transformation\n",
    "\n"
   ]
  },
  {
   "cell_type": "markdown",
   "metadata": {
    "id": "kaaqn6qDt9NF"
   },
   "source": [
    "We need to transform the data in the format which can manipulate it later."
   ]
  },
  {
   "cell_type": "markdown",
   "metadata": {
    "id": "_eqmcsHauGtU"
   },
   "source": [
    "### Removing Duplicates\n",
    "\n",
    "\n",
    "Some data duplication must be removed to reduce the unusual behaviour of data\n",
    "from the provided data"
   ]
  },
  {
   "cell_type": "code",
   "source": [],
   "metadata": {
    "id": "D_GiW_Ax1DMf"
   },
   "execution_count": null,
   "outputs": []
  },
  {
   "cell_type": "markdown",
   "source": [
    "setting up a new dataframe\n",
    "```python\n",
    "data = pd.DataFrame({'k1': ['one', 'two'] * 3 + ['two'],\n",
    "                     'k2': [1, 1, 2, 3, 3, 4, 4]})\n",
    "data\n",
    "```"
   ],
   "metadata": {
    "collapsed": false
   }
  },
  {
   "cell_type": "code",
   "metadata": {
    "id": "Cz6EcFqIuRSg",
    "colab": {
     "base_uri": "https://localhost:8080/",
     "height": 269
    },
    "outputId": "2c3a7d9d-1918-4b1d-bc4e-41632f41b376",
    "ExecuteTime": {
     "end_time": "2023-10-29T13:33:45.879809100Z",
     "start_time": "2023-10-29T13:33:45.798000500Z"
    }
   },
   "source": [
    "data = pd.DataFrame({'k1': ['one', 'two'] * 3 + ['two'],\n",
    "                     'k2': [1, 1, 2, 3, 3, 4, 4]})\n",
    "data"
   ],
   "execution_count": 31,
   "outputs": [
    {
     "data": {
      "text/plain": "    k1  k2\n0  one   1\n1  two   1\n2  one   2\n3  two   3\n4  one   3\n5  two   4\n6  two   4",
      "text/html": "<div>\n<style scoped>\n    .dataframe tbody tr th:only-of-type {\n        vertical-align: middle;\n    }\n\n    .dataframe tbody tr th {\n        vertical-align: top;\n    }\n\n    .dataframe thead th {\n        text-align: right;\n    }\n</style>\n<table border=\"1\" class=\"dataframe\">\n  <thead>\n    <tr style=\"text-align: right;\">\n      <th></th>\n      <th>k1</th>\n      <th>k2</th>\n    </tr>\n  </thead>\n  <tbody>\n    <tr>\n      <th>0</th>\n      <td>one</td>\n      <td>1</td>\n    </tr>\n    <tr>\n      <th>1</th>\n      <td>two</td>\n      <td>1</td>\n    </tr>\n    <tr>\n      <th>2</th>\n      <td>one</td>\n      <td>2</td>\n    </tr>\n    <tr>\n      <th>3</th>\n      <td>two</td>\n      <td>3</td>\n    </tr>\n    <tr>\n      <th>4</th>\n      <td>one</td>\n      <td>3</td>\n    </tr>\n    <tr>\n      <th>5</th>\n      <td>two</td>\n      <td>4</td>\n    </tr>\n    <tr>\n      <th>6</th>\n      <td>two</td>\n      <td>4</td>\n    </tr>\n  </tbody>\n</table>\n</div>"
     },
     "execution_count": 31,
     "metadata": {},
     "output_type": "execute_result"
    }
   ]
  },
  {
   "cell_type": "markdown",
   "metadata": {
    "id": "uzXfoO5zukOf"
   },
   "source": [
    "The duplicated data is found by\n",
    "\n",
    "```python\n",
    "data.duplicated()\n",
    "```"
   ]
  },
  {
   "cell_type": "code",
   "metadata": {
    "id": "GTGRSRD_unqt",
    "colab": {
     "base_uri": "https://localhost:8080/"
    },
    "outputId": "acb7d07d-fc6d-4bbf-f7c0-f99c43779f04",
    "ExecuteTime": {
     "end_time": "2023-10-29T13:33:50.829954600Z",
     "start_time": "2023-10-29T13:33:50.782676200Z"
    }
   },
   "source": [
    "data.duplicated()"
   ],
   "execution_count": 32,
   "outputs": [
    {
     "data": {
      "text/plain": "0    False\n1    False\n2    False\n3    False\n4    False\n5    False\n6     True\ndtype: bool"
     },
     "execution_count": 32,
     "metadata": {},
     "output_type": "execute_result"
    }
   ]
  },
  {
   "cell_type": "markdown",
   "metadata": {
    "id": "uKpyz3OMunEG"
   },
   "source": [
    "So we can drop the duplicate code\n",
    "```python\n",
    "data.drop_duplicates()\n",
    "```"
   ]
  },
  {
   "cell_type": "code",
   "metadata": {
    "id": "SpcQNVnpus-5",
    "colab": {
     "base_uri": "https://localhost:8080/",
     "height": 237
    },
    "outputId": "cd04d021-037a-4c28-b780-2153d94b1f32",
    "ExecuteTime": {
     "end_time": "2023-10-29T13:33:55.824137300Z",
     "start_time": "2023-10-29T13:33:55.745751Z"
    }
   },
   "source": [
    "data.drop_duplicates()"
   ],
   "execution_count": 33,
   "outputs": [
    {
     "data": {
      "text/plain": "    k1  k2\n0  one   1\n1  two   1\n2  one   2\n3  two   3\n4  one   3\n5  two   4",
      "text/html": "<div>\n<style scoped>\n    .dataframe tbody tr th:only-of-type {\n        vertical-align: middle;\n    }\n\n    .dataframe tbody tr th {\n        vertical-align: top;\n    }\n\n    .dataframe thead th {\n        text-align: right;\n    }\n</style>\n<table border=\"1\" class=\"dataframe\">\n  <thead>\n    <tr style=\"text-align: right;\">\n      <th></th>\n      <th>k1</th>\n      <th>k2</th>\n    </tr>\n  </thead>\n  <tbody>\n    <tr>\n      <th>0</th>\n      <td>one</td>\n      <td>1</td>\n    </tr>\n    <tr>\n      <th>1</th>\n      <td>two</td>\n      <td>1</td>\n    </tr>\n    <tr>\n      <th>2</th>\n      <td>one</td>\n      <td>2</td>\n    </tr>\n    <tr>\n      <th>3</th>\n      <td>two</td>\n      <td>3</td>\n    </tr>\n    <tr>\n      <th>4</th>\n      <td>one</td>\n      <td>3</td>\n    </tr>\n    <tr>\n      <th>5</th>\n      <td>two</td>\n      <td>4</td>\n    </tr>\n  </tbody>\n</table>\n</div>"
     },
     "execution_count": 33,
     "metadata": {},
     "output_type": "execute_result"
    }
   ]
  },
  {
   "cell_type": "markdown",
   "metadata": {
    "id": "P1IbfYGBuxau"
   },
   "source": [
    "we can select key to check the duplicate data, adding a new column to the data frame to see which data is stored\n",
    "```python\n",
    "data['v1'] = range(7)\n",
    "data\n",
    "```\n"
   ]
  },
  {
   "cell_type": "code",
   "metadata": {
    "id": "b5NqNAmBxf_u",
    "colab": {
     "base_uri": "https://localhost:8080/",
     "height": 269
    },
    "outputId": "d32193c5-3782-42e8-b4cc-4a11ce140da1",
    "ExecuteTime": {
     "end_time": "2023-10-29T13:34:00.604344700Z",
     "start_time": "2023-10-29T13:34:00.509991Z"
    }
   },
   "source": [
    "data['v1'] = range(7)\n",
    "data"
   ],
   "execution_count": 34,
   "outputs": [
    {
     "data": {
      "text/plain": "    k1  k2  v1\n0  one   1   0\n1  two   1   1\n2  one   2   2\n3  two   3   3\n4  one   3   4\n5  two   4   5\n6  two   4   6",
      "text/html": "<div>\n<style scoped>\n    .dataframe tbody tr th:only-of-type {\n        vertical-align: middle;\n    }\n\n    .dataframe tbody tr th {\n        vertical-align: top;\n    }\n\n    .dataframe thead th {\n        text-align: right;\n    }\n</style>\n<table border=\"1\" class=\"dataframe\">\n  <thead>\n    <tr style=\"text-align: right;\">\n      <th></th>\n      <th>k1</th>\n      <th>k2</th>\n      <th>v1</th>\n    </tr>\n  </thead>\n  <tbody>\n    <tr>\n      <th>0</th>\n      <td>one</td>\n      <td>1</td>\n      <td>0</td>\n    </tr>\n    <tr>\n      <th>1</th>\n      <td>two</td>\n      <td>1</td>\n      <td>1</td>\n    </tr>\n    <tr>\n      <th>2</th>\n      <td>one</td>\n      <td>2</td>\n      <td>2</td>\n    </tr>\n    <tr>\n      <th>3</th>\n      <td>two</td>\n      <td>3</td>\n      <td>3</td>\n    </tr>\n    <tr>\n      <th>4</th>\n      <td>one</td>\n      <td>3</td>\n      <td>4</td>\n    </tr>\n    <tr>\n      <th>5</th>\n      <td>two</td>\n      <td>4</td>\n      <td>5</td>\n    </tr>\n    <tr>\n      <th>6</th>\n      <td>two</td>\n      <td>4</td>\n      <td>6</td>\n    </tr>\n  </tbody>\n</table>\n</div>"
     },
     "execution_count": 34,
     "metadata": {},
     "output_type": "execute_result"
    }
   ]
  },
  {
   "cell_type": "markdown",
   "source": [
    "now check for duplicatoin\n",
    "```python\n",
    "data.duplicated()\n",
    "```"
   ],
   "metadata": {
    "collapsed": false
   }
  },
  {
   "cell_type": "code",
   "metadata": {
    "id": "5NhXvsAUUS7N",
    "colab": {
     "base_uri": "https://localhost:8080/"
    },
    "outputId": "18206bf8-f845-48c1-99f4-da8adf86327a",
    "ExecuteTime": {
     "end_time": "2023-10-29T13:34:06.541757100Z",
     "start_time": "2023-10-29T13:34:06.510297500Z"
    }
   },
   "source": [
    "data.duplicated()"
   ],
   "execution_count": 35,
   "outputs": [
    {
     "data": {
      "text/plain": "0    False\n1    False\n2    False\n3    False\n4    False\n5    False\n6    False\ndtype: bool"
     },
     "execution_count": 35,
     "metadata": {},
     "output_type": "execute_result"
    }
   ]
  },
  {
   "cell_type": "markdown",
   "metadata": {
    "id": "nD2v-n7Txkae"
   },
   "source": [
    "check the dupplicate key only the key in column k1\n",
    "```python\n",
    "data.duplicated(['k1'])\n",
    "```"
   ]
  },
  {
   "cell_type": "code",
   "metadata": {
    "id": "n_Wzn6XxxqUT",
    "colab": {
     "base_uri": "https://localhost:8080/",
     "height": 112
    },
    "outputId": "37204db0-f432-4b2d-8c3f-1eb40394612f",
    "ExecuteTime": {
     "end_time": "2023-10-29T13:34:10.886764900Z",
     "start_time": "2023-10-29T13:34:10.855393500Z"
    }
   },
   "source": [
    "data.duplicated(['k1'])"
   ],
   "execution_count": 36,
   "outputs": [
    {
     "data": {
      "text/plain": "0    False\n1    False\n2     True\n3     True\n4     True\n5     True\n6     True\ndtype: bool"
     },
     "execution_count": 36,
     "metadata": {},
     "output_type": "execute_result"
    }
   ]
  },
  {
   "cell_type": "markdown",
   "metadata": {
    "id": "n7iv6i20xt8a"
   },
   "source": [
    "The previous work keep the first data in the result data frame. We can keep the last entry of the duplicate data using the `keep` parameter\n",
    "comparing these code?\n",
    "```python\n",
    "data.drop_duplicates(['k1','k2'])\n",
    "```"
   ]
  },
  {
   "cell_type": "code",
   "metadata": {
    "id": "tD9pkIWqgKnJ",
    "colab": {
     "base_uri": "https://localhost:8080/",
     "height": 237
    },
    "outputId": "cba0cd70-1b6a-4782-b440-e551d6ed88bf",
    "ExecuteTime": {
     "end_time": "2023-10-29T13:34:15.857720100Z",
     "start_time": "2023-10-29T13:34:15.731402Z"
    }
   },
   "source": [
    "data.drop_duplicates(['k1','k2'])"
   ],
   "execution_count": 37,
   "outputs": [
    {
     "data": {
      "text/plain": "    k1  k2  v1\n0  one   1   0\n1  two   1   1\n2  one   2   2\n3  two   3   3\n4  one   3   4\n5  two   4   5",
      "text/html": "<div>\n<style scoped>\n    .dataframe tbody tr th:only-of-type {\n        vertical-align: middle;\n    }\n\n    .dataframe tbody tr th {\n        vertical-align: top;\n    }\n\n    .dataframe thead th {\n        text-align: right;\n    }\n</style>\n<table border=\"1\" class=\"dataframe\">\n  <thead>\n    <tr style=\"text-align: right;\">\n      <th></th>\n      <th>k1</th>\n      <th>k2</th>\n      <th>v1</th>\n    </tr>\n  </thead>\n  <tbody>\n    <tr>\n      <th>0</th>\n      <td>one</td>\n      <td>1</td>\n      <td>0</td>\n    </tr>\n    <tr>\n      <th>1</th>\n      <td>two</td>\n      <td>1</td>\n      <td>1</td>\n    </tr>\n    <tr>\n      <th>2</th>\n      <td>one</td>\n      <td>2</td>\n      <td>2</td>\n    </tr>\n    <tr>\n      <th>3</th>\n      <td>two</td>\n      <td>3</td>\n      <td>3</td>\n    </tr>\n    <tr>\n      <th>4</th>\n      <td>one</td>\n      <td>3</td>\n      <td>4</td>\n    </tr>\n    <tr>\n      <th>5</th>\n      <td>two</td>\n      <td>4</td>\n      <td>5</td>\n    </tr>\n  </tbody>\n</table>\n</div>"
     },
     "execution_count": 37,
     "metadata": {},
     "output_type": "execute_result"
    }
   ]
  },
  {
   "cell_type": "markdown",
   "source": [
    "with\n",
    "```python\n",
    "data.drop_duplicates(['k1','k2'],keep='last')\n",
    "```"
   ],
   "metadata": {
    "collapsed": false
   }
  },
  {
   "cell_type": "code",
   "metadata": {
    "id": "Gq907ME6x9_B",
    "colab": {
     "base_uri": "https://localhost:8080/",
     "height": 237
    },
    "outputId": "144cd917-5fb6-41bc-8d1d-5cb42b06fd4f",
    "ExecuteTime": {
     "end_time": "2023-10-29T13:34:20.931506600Z",
     "start_time": "2023-10-29T13:34:20.900124400Z"
    }
   },
   "source": [
    "data.drop_duplicates(['k1','k2'],keep='last')"
   ],
   "execution_count": 38,
   "outputs": [
    {
     "data": {
      "text/plain": "    k1  k2  v1\n0  one   1   0\n1  two   1   1\n2  one   2   2\n3  two   3   3\n4  one   3   4\n6  two   4   6",
      "text/html": "<div>\n<style scoped>\n    .dataframe tbody tr th:only-of-type {\n        vertical-align: middle;\n    }\n\n    .dataframe tbody tr th {\n        vertical-align: top;\n    }\n\n    .dataframe thead th {\n        text-align: right;\n    }\n</style>\n<table border=\"1\" class=\"dataframe\">\n  <thead>\n    <tr style=\"text-align: right;\">\n      <th></th>\n      <th>k1</th>\n      <th>k2</th>\n      <th>v1</th>\n    </tr>\n  </thead>\n  <tbody>\n    <tr>\n      <th>0</th>\n      <td>one</td>\n      <td>1</td>\n      <td>0</td>\n    </tr>\n    <tr>\n      <th>1</th>\n      <td>two</td>\n      <td>1</td>\n      <td>1</td>\n    </tr>\n    <tr>\n      <th>2</th>\n      <td>one</td>\n      <td>2</td>\n      <td>2</td>\n    </tr>\n    <tr>\n      <th>3</th>\n      <td>two</td>\n      <td>3</td>\n      <td>3</td>\n    </tr>\n    <tr>\n      <th>4</th>\n      <td>one</td>\n      <td>3</td>\n      <td>4</td>\n    </tr>\n    <tr>\n      <th>6</th>\n      <td>two</td>\n      <td>4</td>\n      <td>6</td>\n    </tr>\n  </tbody>\n</table>\n</div>"
     },
     "execution_count": 38,
     "metadata": {},
     "output_type": "execute_result"
    }
   ]
  },
  {
   "cell_type": "markdown",
   "metadata": {
    "id": "yKdIMw8iyIDu"
   },
   "source": [
    "### Transforming Data Using a Function or mapping\n",
    "\n",
    "Data can be mapped to a better representation\n",
    "\n",
    "with the provided data frame\n",
    "```python\n",
    "data = pd.DataFrame({'food': ['bacon', 'pulled pork', 'bacon',\n",
    "                              'Pastrami', 'corned beef', 'Bacon',\n",
    "                              'pastrami', 'honey ham', 'nova lox'],\n",
    "                     'ounces': [4, 3, 12, 6, 7.5, 8, 3, 5, 6]})\n",
    "data\n",
    "```"
   ]
  },
  {
   "cell_type": "code",
   "metadata": {
    "id": "D7kdpUSYyT9E",
    "colab": {
     "base_uri": "https://localhost:8080/",
     "height": 331
    },
    "outputId": "1f0fa8c4-feec-4cf1-a3bc-37ec13537b44",
    "ExecuteTime": {
     "end_time": "2023-10-29T13:34:28.879422300Z",
     "start_time": "2023-10-29T13:34:28.832627200Z"
    }
   },
   "source": [
    "data = pd.DataFrame({'food': ['bacon', 'pulled pork', 'bacon',\n",
    "                              'Pastrami', 'corned beef', 'Bacon',\n",
    "                              'pastrami', 'honey ham', 'nova lox'],\n",
    "                     'ounces': [4, 3, 12, 6, 7.5, 8, 3, 5, 6]})\n",
    "data"
   ],
   "execution_count": 39,
   "outputs": [
    {
     "data": {
      "text/plain": "          food  ounces\n0        bacon     4.0\n1  pulled pork     3.0\n2        bacon    12.0\n3     Pastrami     6.0\n4  corned beef     7.5\n5        Bacon     8.0\n6     pastrami     3.0\n7    honey ham     5.0\n8     nova lox     6.0",
      "text/html": "<div>\n<style scoped>\n    .dataframe tbody tr th:only-of-type {\n        vertical-align: middle;\n    }\n\n    .dataframe tbody tr th {\n        vertical-align: top;\n    }\n\n    .dataframe thead th {\n        text-align: right;\n    }\n</style>\n<table border=\"1\" class=\"dataframe\">\n  <thead>\n    <tr style=\"text-align: right;\">\n      <th></th>\n      <th>food</th>\n      <th>ounces</th>\n    </tr>\n  </thead>\n  <tbody>\n    <tr>\n      <th>0</th>\n      <td>bacon</td>\n      <td>4.0</td>\n    </tr>\n    <tr>\n      <th>1</th>\n      <td>pulled pork</td>\n      <td>3.0</td>\n    </tr>\n    <tr>\n      <th>2</th>\n      <td>bacon</td>\n      <td>12.0</td>\n    </tr>\n    <tr>\n      <th>3</th>\n      <td>Pastrami</td>\n      <td>6.0</td>\n    </tr>\n    <tr>\n      <th>4</th>\n      <td>corned beef</td>\n      <td>7.5</td>\n    </tr>\n    <tr>\n      <th>5</th>\n      <td>Bacon</td>\n      <td>8.0</td>\n    </tr>\n    <tr>\n      <th>6</th>\n      <td>pastrami</td>\n      <td>3.0</td>\n    </tr>\n    <tr>\n      <th>7</th>\n      <td>honey ham</td>\n      <td>5.0</td>\n    </tr>\n    <tr>\n      <th>8</th>\n      <td>nova lox</td>\n      <td>6.0</td>\n    </tr>\n  </tbody>\n</table>\n</div>"
     },
     "execution_count": 39,
     "metadata": {},
     "output_type": "execute_result"
    }
   ]
  },
  {
   "cell_type": "markdown",
   "metadata": {
    "id": "PeruaoJIyXbT"
   },
   "source": [
    "The mapping dictionary is provided\n",
    "```python\n",
    "meat_to_animal = {\n",
    "  'bacon': 'pig',\n",
    "  'pulled pork': 'pig',\n",
    "  'pastrami': 'cow',\n",
    "  'corned beef': 'cow',\n",
    "  'honey ham': 'pig',\n",
    "  'nova lox': 'salmon'\n",
    "}\n",
    "```"
   ]
  },
  {
   "cell_type": "code",
   "metadata": {
    "id": "4jMwQefQyZxA",
    "ExecuteTime": {
     "end_time": "2023-10-29T13:34:35.548963700Z",
     "start_time": "2023-10-29T13:34:35.517457700Z"
    }
   },
   "source": [
    "meat_to_animal = {\n",
    "  'bacon': 'pig',\n",
    "  'pulled pork': 'pig',\n",
    "  'pastrami': 'cow',\n",
    "  'corned beef': 'cow',\n",
    "  'honey ham': 'pig',\n",
    "  'nova lox': 'salmon'\n",
    "}"
   ],
   "execution_count": 40,
   "outputs": []
  },
  {
   "cell_type": "markdown",
   "metadata": {
    "id": "V_xngC8sydE9"
   },
   "source": [
    "Then we can provide the map as given\n",
    "```python\n",
    "lowercased = data['food'].str.lower()\n",
    "lowercased\n",
    "```"
   ]
  },
  {
   "cell_type": "code",
   "metadata": {
    "id": "4FD1gvWzyhoU",
    "colab": {
     "base_uri": "https://localhost:8080/"
    },
    "outputId": "32b7f60d-f582-4961-e1c1-96c9e7b8916c",
    "ExecuteTime": {
     "end_time": "2023-10-29T13:34:40.528268400Z",
     "start_time": "2023-10-29T13:34:40.462720300Z"
    }
   },
   "source": [
    "lowercased = data['food'].str.lower()\n",
    "lowercased"
   ],
   "execution_count": 41,
   "outputs": [
    {
     "data": {
      "text/plain": "0          bacon\n1    pulled pork\n2          bacon\n3       pastrami\n4    corned beef\n5          bacon\n6       pastrami\n7      honey ham\n8       nova lox\nName: food, dtype: object"
     },
     "execution_count": 41,
     "metadata": {},
     "output_type": "execute_result"
    }
   ]
  },
  {
   "cell_type": "markdown",
   "source": [
    "then mapping the data\n",
    "```python\n",
    "data['animal'] = lowercased.map(meat_to_animal)\n",
    "data\n",
    "```"
   ],
   "metadata": {
    "collapsed": false
   }
  },
  {
   "cell_type": "code",
   "metadata": {
    "id": "A1ciCCcCykRE",
    "colab": {
     "base_uri": "https://localhost:8080/",
     "height": 331
    },
    "outputId": "dea022ea-77a8-418b-99a9-df7a863614a4",
    "ExecuteTime": {
     "end_time": "2023-10-29T13:34:45.072847500Z",
     "start_time": "2023-10-29T13:34:44.978598Z"
    }
   },
   "source": [
    "data['animal'] = lowercased.map(meat_to_animal)\n",
    "data"
   ],
   "execution_count": 42,
   "outputs": [
    {
     "data": {
      "text/plain": "          food  ounces  animal\n0        bacon     4.0     pig\n1  pulled pork     3.0     pig\n2        bacon    12.0     pig\n3     Pastrami     6.0     cow\n4  corned beef     7.5     cow\n5        Bacon     8.0     pig\n6     pastrami     3.0     cow\n7    honey ham     5.0     pig\n8     nova lox     6.0  salmon",
      "text/html": "<div>\n<style scoped>\n    .dataframe tbody tr th:only-of-type {\n        vertical-align: middle;\n    }\n\n    .dataframe tbody tr th {\n        vertical-align: top;\n    }\n\n    .dataframe thead th {\n        text-align: right;\n    }\n</style>\n<table border=\"1\" class=\"dataframe\">\n  <thead>\n    <tr style=\"text-align: right;\">\n      <th></th>\n      <th>food</th>\n      <th>ounces</th>\n      <th>animal</th>\n    </tr>\n  </thead>\n  <tbody>\n    <tr>\n      <th>0</th>\n      <td>bacon</td>\n      <td>4.0</td>\n      <td>pig</td>\n    </tr>\n    <tr>\n      <th>1</th>\n      <td>pulled pork</td>\n      <td>3.0</td>\n      <td>pig</td>\n    </tr>\n    <tr>\n      <th>2</th>\n      <td>bacon</td>\n      <td>12.0</td>\n      <td>pig</td>\n    </tr>\n    <tr>\n      <th>3</th>\n      <td>Pastrami</td>\n      <td>6.0</td>\n      <td>cow</td>\n    </tr>\n    <tr>\n      <th>4</th>\n      <td>corned beef</td>\n      <td>7.5</td>\n      <td>cow</td>\n    </tr>\n    <tr>\n      <th>5</th>\n      <td>Bacon</td>\n      <td>8.0</td>\n      <td>pig</td>\n    </tr>\n    <tr>\n      <th>6</th>\n      <td>pastrami</td>\n      <td>3.0</td>\n      <td>cow</td>\n    </tr>\n    <tr>\n      <th>7</th>\n      <td>honey ham</td>\n      <td>5.0</td>\n      <td>pig</td>\n    </tr>\n    <tr>\n      <th>8</th>\n      <td>nova lox</td>\n      <td>6.0</td>\n      <td>salmon</td>\n    </tr>\n  </tbody>\n</table>\n</div>"
     },
     "execution_count": 42,
     "metadata": {},
     "output_type": "execute_result"
    }
   ]
  },
  {
   "cell_type": "markdown",
   "metadata": {
    "id": "flbAR5LoysHb"
   },
   "source": [
    "### Replacing value\n",
    "---\n",
    "\n",
    "Some value can be replaced, in order to manage the code easier.\n",
    "For example with the given data frame\n",
    "```python\n",
    "data = pd.Series([1., -999., 2., -999., -1000., 3.])\n",
    "data\n",
    "```\n"
   ]
  },
  {
   "cell_type": "code",
   "metadata": {
    "id": "ykZrH7yby7BC",
    "colab": {
     "base_uri": "https://localhost:8080/"
    },
    "outputId": "10e85123-e436-4665-f0cd-048cd8f439ea",
    "ExecuteTime": {
     "end_time": "2023-10-29T13:34:50.685464100Z",
     "start_time": "2023-10-29T13:34:50.653986800Z"
    }
   },
   "source": [
    "data = pd.Series([1., -999., 2., -999., -1000., 3.])\n",
    "data"
   ],
   "execution_count": 43,
   "outputs": [
    {
     "data": {
      "text/plain": "0       1.0\n1    -999.0\n2       2.0\n3    -999.0\n4   -1000.0\n5       3.0\ndtype: float64"
     },
     "execution_count": 43,
     "metadata": {},
     "output_type": "execute_result"
    }
   ]
  },
  {
   "cell_type": "markdown",
   "metadata": {
    "id": "D82X9jnUy_LX"
   },
   "source": [
    "The value -999 may be the **sentinel** values\n",
    "\n",
    "The sentinel value is the value which define the state of data but not the real data. For example, the exit point or the `NA` of the value.\n",
    "```python\n",
    "data.replace(-999, np.nan)\n",
    "```\n"
   ]
  },
  {
   "cell_type": "code",
   "source": [
    "import numpy as np"
   ],
   "metadata": {
    "id": "CKwy3bvW6fdu",
    "ExecuteTime": {
     "end_time": "2023-10-29T13:34:57.095482500Z",
     "start_time": "2023-10-29T13:34:57.048179700Z"
    }
   },
   "execution_count": 44,
   "outputs": []
  },
  {
   "cell_type": "code",
   "metadata": {
    "id": "XcU2RAcS-lm6",
    "colab": {
     "base_uri": "https://localhost:8080/"
    },
    "outputId": "720038a5-7783-4e11-f319-a02239c4d8a5",
    "ExecuteTime": {
     "end_time": "2023-10-29T13:34:59.242556700Z",
     "start_time": "2023-10-29T13:34:59.166584100Z"
    }
   },
   "source": [
    "data.replace(-999, np.nan)"
   ],
   "execution_count": 45,
   "outputs": [
    {
     "data": {
      "text/plain": "0       1.0\n1       NaN\n2       2.0\n3       NaN\n4   -1000.0\n5       3.0\ndtype: float64"
     },
     "execution_count": 45,
     "metadata": {},
     "output_type": "execute_result"
    }
   ]
  },
  {
   "cell_type": "markdown",
   "metadata": {
    "id": "ScYPcr2H-08f"
   },
   "source": [
    "we can replace multiple data with only one value\n",
    "\n",
    "```python\n",
    "data.replace([-999,-1000],np.nan)\n",
    "```"
   ]
  },
  {
   "cell_type": "code",
   "metadata": {
    "id": "C46N9w9z-6OU",
    "colab": {
     "base_uri": "https://localhost:8080/"
    },
    "outputId": "b5786216-b8b9-483c-8c21-edcaea1967ec",
    "ExecuteTime": {
     "end_time": "2023-10-29T13:35:04.768626Z",
     "start_time": "2023-10-29T13:35:04.706232800Z"
    }
   },
   "source": [
    "data.replace([-999,-1000],np.nan)"
   ],
   "execution_count": 46,
   "outputs": [
    {
     "data": {
      "text/plain": "0    1.0\n1    NaN\n2    2.0\n3    NaN\n4    NaN\n5    3.0\ndtype: float64"
     },
     "execution_count": 46,
     "metadata": {},
     "output_type": "execute_result"
    }
   ]
  },
  {
   "cell_type": "markdown",
   "metadata": {
    "id": "P9vapFDY_A_d"
   },
   "source": [
    "Or replace different value with different data\n",
    "```python\n",
    "data.replace([-999,-1000],[np.nan,0])\n",
    "```"
   ]
  },
  {
   "cell_type": "code",
   "metadata": {
    "id": "HiY6ZwIA_E7L",
    "colab": {
     "base_uri": "https://localhost:8080/"
    },
    "outputId": "661c4495-30b5-4ef6-9ee2-4e96abee32fc",
    "ExecuteTime": {
     "end_time": "2023-10-29T13:35:09.869108Z",
     "start_time": "2023-10-29T13:35:09.682711400Z"
    }
   },
   "source": [
    "data.replace([-999,-1000],[np.nan,0])"
   ],
   "execution_count": 47,
   "outputs": [
    {
     "data": {
      "text/plain": "0    1.0\n1    NaN\n2    2.0\n3    NaN\n4    0.0\n5    3.0\ndtype: float64"
     },
     "execution_count": 47,
     "metadata": {},
     "output_type": "execute_result"
    }
   ]
  },
  {
   "cell_type": "markdown",
   "source": [
    "or using the dictionary to map the request data\n",
    "```python\n",
    "data.replace({-999: np.nan, -1000: 0})\n",
    "```"
   ],
   "metadata": {
    "collapsed": false
   }
  },
  {
   "cell_type": "code",
   "metadata": {
    "id": "oGN9Hv0p_JtF",
    "colab": {
     "base_uri": "https://localhost:8080/"
    },
    "outputId": "3aca2513-6989-4cca-e9f3-928336a4f988",
    "ExecuteTime": {
     "end_time": "2023-10-29T13:35:14.627253500Z",
     "start_time": "2023-10-29T13:35:14.539094200Z"
    }
   },
   "source": [
    "data.replace({-999: np.nan, -1000: 0})"
   ],
   "execution_count": 48,
   "outputs": [
    {
     "data": {
      "text/plain": "0    1.0\n1    NaN\n2    2.0\n3    NaN\n4    0.0\n5    3.0\ndtype: float64"
     },
     "execution_count": 48,
     "metadata": {},
     "output_type": "execute_result"
    }
   ]
  },
  {
   "cell_type": "markdown",
   "metadata": {
    "id": "JDe_CGCG_POI"
   },
   "source": [
    "### Renaming Axis Index\n",
    "\n",
    "The axis index which we loaded from the different sources may be hard to understand.\n",
    "So we rename the index name for the better understanding\n",
    "```python\n",
    "data = pd.DataFrame(np.arange(12).reshape((3, 4)),\n",
    "                    index=['Ohio', 'Colorado', 'New York'],\n",
    "                    columns=['one', 'two', 'three', 'four'])\n",
    "data\n",
    "```\n"
   ]
  },
  {
   "cell_type": "code",
   "metadata": {
    "id": "H_5sfkzA_9E6",
    "colab": {
     "base_uri": "https://localhost:8080/",
     "height": 143
    },
    "outputId": "d80a016f-51b9-47a3-ca42-3e8be396780a",
    "ExecuteTime": {
     "end_time": "2023-10-29T13:35:19.932352300Z",
     "start_time": "2023-10-29T13:35:19.901060700Z"
    }
   },
   "source": [
    "data = pd.DataFrame(np.arange(12).reshape((3, 4)),\n",
    "                    index=['Ohio', 'Colorado', 'New York'],\n",
    "                    columns=['one', 'two', 'three', 'four'])\n",
    "data"
   ],
   "execution_count": 49,
   "outputs": [
    {
     "data": {
      "text/plain": "          one  two  three  four\nOhio        0    1      2     3\nColorado    4    5      6     7\nNew York    8    9     10    11",
      "text/html": "<div>\n<style scoped>\n    .dataframe tbody tr th:only-of-type {\n        vertical-align: middle;\n    }\n\n    .dataframe tbody tr th {\n        vertical-align: top;\n    }\n\n    .dataframe thead th {\n        text-align: right;\n    }\n</style>\n<table border=\"1\" class=\"dataframe\">\n  <thead>\n    <tr style=\"text-align: right;\">\n      <th></th>\n      <th>one</th>\n      <th>two</th>\n      <th>three</th>\n      <th>four</th>\n    </tr>\n  </thead>\n  <tbody>\n    <tr>\n      <th>Ohio</th>\n      <td>0</td>\n      <td>1</td>\n      <td>2</td>\n      <td>3</td>\n    </tr>\n    <tr>\n      <th>Colorado</th>\n      <td>4</td>\n      <td>5</td>\n      <td>6</td>\n      <td>7</td>\n    </tr>\n    <tr>\n      <th>New York</th>\n      <td>8</td>\n      <td>9</td>\n      <td>10</td>\n      <td>11</td>\n    </tr>\n  </tbody>\n</table>\n</div>"
     },
     "execution_count": 49,
     "metadata": {},
     "output_type": "execute_result"
    }
   ]
  },
  {
   "cell_type": "markdown",
   "metadata": {
    "id": "EyYObG_qObai"
   },
   "source": [
    "We can use the function to change the name of each index\n",
    "```python\n",
    "transform = lambda x: x[:4].upper()\n",
    "new_data_index = data.index.map(transform)\n",
    "```"
   ]
  },
  {
   "cell_type": "code",
   "metadata": {
    "id": "MlvcWkQQ_VmQ",
    "ExecuteTime": {
     "end_time": "2023-10-29T13:35:33.397271400Z",
     "start_time": "2023-10-29T13:35:33.258727100Z"
    }
   },
   "source": [
    "transform = lambda x: x[:4].upper()"
   ],
   "execution_count": 50,
   "outputs": []
  },
  {
   "cell_type": "code",
   "execution_count": 51,
   "outputs": [],
   "source": [
    "new_data_index = data.index.map(transform)"
   ],
   "metadata": {
    "collapsed": false,
    "ExecuteTime": {
     "end_time": "2023-10-29T13:35:34.994743900Z",
     "start_time": "2023-10-29T13:35:34.963374300Z"
    }
   }
  },
  {
   "cell_type": "markdown",
   "metadata": {
    "id": "DAUqPV8XOtfl"
   },
   "source": [
    "To change the index name we have to set the index values\n",
    "```python\n",
    "data.index = new_data_index\n",
    "data\n",
    "```"
   ]
  },
  {
   "cell_type": "code",
   "metadata": {
    "id": "cDNHqjOSOxSl",
    "colab": {
     "base_uri": "https://localhost:8080/",
     "height": 143
    },
    "outputId": "9e4ddce0-109c-4974-f1bf-123c1fea303a",
    "ExecuteTime": {
     "end_time": "2023-10-29T13:35:40.383480700Z",
     "start_time": "2023-10-29T13:35:40.288829800Z"
    }
   },
   "source": [
    "data.index = new_data_index\n",
    "data"
   ],
   "execution_count": 52,
   "outputs": [
    {
     "data": {
      "text/plain": "      one  two  three  four\nOHIO    0    1      2     3\nCOLO    4    5      6     7\nNEW     8    9     10    11",
      "text/html": "<div>\n<style scoped>\n    .dataframe tbody tr th:only-of-type {\n        vertical-align: middle;\n    }\n\n    .dataframe tbody tr th {\n        vertical-align: top;\n    }\n\n    .dataframe thead th {\n        text-align: right;\n    }\n</style>\n<table border=\"1\" class=\"dataframe\">\n  <thead>\n    <tr style=\"text-align: right;\">\n      <th></th>\n      <th>one</th>\n      <th>two</th>\n      <th>three</th>\n      <th>four</th>\n    </tr>\n  </thead>\n  <tbody>\n    <tr>\n      <th>OHIO</th>\n      <td>0</td>\n      <td>1</td>\n      <td>2</td>\n      <td>3</td>\n    </tr>\n    <tr>\n      <th>COLO</th>\n      <td>4</td>\n      <td>5</td>\n      <td>6</td>\n      <td>7</td>\n    </tr>\n    <tr>\n      <th>NEW</th>\n      <td>8</td>\n      <td>9</td>\n      <td>10</td>\n      <td>11</td>\n    </tr>\n  </tbody>\n</table>\n</div>"
     },
     "execution_count": 52,
     "metadata": {},
     "output_type": "execute_result"
    }
   ]
  },
  {
   "cell_type": "markdown",
   "metadata": {
    "id": "b0L9MvIfO4Bk"
   },
   "source": [
    "Or if we want to rename it instancely (without seeing the new solution first)  we can use the `rename` method\n",
    "```python\n",
    "data.rename(index=str.title, columns=str.upper)\n",
    "```\n",
    "\n"
   ]
  },
  {
   "cell_type": "code",
   "metadata": {
    "id": "xKJ8KQ1EO_yY",
    "colab": {
     "base_uri": "https://localhost:8080/",
     "height": 143
    },
    "outputId": "210aea2e-0665-4960-a3e5-25b1a313e88d",
    "ExecuteTime": {
     "end_time": "2023-10-29T13:35:45.985263200Z",
     "start_time": "2023-10-29T13:35:45.938330100Z"
    }
   },
   "source": [
    "data.rename(index=str.title, columns=str.upper)"
   ],
   "execution_count": 53,
   "outputs": [
    {
     "data": {
      "text/plain": "      ONE  TWO  THREE  FOUR\nOhio    0    1      2     3\nColo    4    5      6     7\nNew     8    9     10    11",
      "text/html": "<div>\n<style scoped>\n    .dataframe tbody tr th:only-of-type {\n        vertical-align: middle;\n    }\n\n    .dataframe tbody tr th {\n        vertical-align: top;\n    }\n\n    .dataframe thead th {\n        text-align: right;\n    }\n</style>\n<table border=\"1\" class=\"dataframe\">\n  <thead>\n    <tr style=\"text-align: right;\">\n      <th></th>\n      <th>ONE</th>\n      <th>TWO</th>\n      <th>THREE</th>\n      <th>FOUR</th>\n    </tr>\n  </thead>\n  <tbody>\n    <tr>\n      <th>Ohio</th>\n      <td>0</td>\n      <td>1</td>\n      <td>2</td>\n      <td>3</td>\n    </tr>\n    <tr>\n      <th>Colo</th>\n      <td>4</td>\n      <td>5</td>\n      <td>6</td>\n      <td>7</td>\n    </tr>\n    <tr>\n      <th>New</th>\n      <td>8</td>\n      <td>9</td>\n      <td>10</td>\n      <td>11</td>\n    </tr>\n  </tbody>\n</table>\n</div>"
     },
     "execution_count": 53,
     "metadata": {},
     "output_type": "execute_result"
    }
   ]
  },
  {
   "cell_type": "markdown",
   "metadata": {
    "id": "lyGKiFs8PPzi"
   },
   "source": [
    "if we want to change the specific name, using the map for change the index name\n",
    "```python\n",
    "data.rename(index={'OHIO': 'INDIANA'},\n",
    "            columns={'three': 'peekaboo'})\n",
    "```"
   ]
  },
  {
   "cell_type": "code",
   "metadata": {
    "id": "PNg3waYIPWOl",
    "colab": {
     "base_uri": "https://localhost:8080/",
     "height": 143
    },
    "outputId": "9265ab15-114a-46e6-fa6a-7b1cce8929ee",
    "ExecuteTime": {
     "end_time": "2023-10-29T13:35:51.940005600Z",
     "start_time": "2023-10-29T13:35:51.877200400Z"
    }
   },
   "source": [
    "data.rename(index={'OHIO': 'INDIANA'},\n",
    "            columns={'three': 'peekaboo'})"
   ],
   "execution_count": 54,
   "outputs": [
    {
     "data": {
      "text/plain": "         one  two  peekaboo  four\nINDIANA    0    1         2     3\nCOLO       4    5         6     7\nNEW        8    9        10    11",
      "text/html": "<div>\n<style scoped>\n    .dataframe tbody tr th:only-of-type {\n        vertical-align: middle;\n    }\n\n    .dataframe tbody tr th {\n        vertical-align: top;\n    }\n\n    .dataframe thead th {\n        text-align: right;\n    }\n</style>\n<table border=\"1\" class=\"dataframe\">\n  <thead>\n    <tr style=\"text-align: right;\">\n      <th></th>\n      <th>one</th>\n      <th>two</th>\n      <th>peekaboo</th>\n      <th>four</th>\n    </tr>\n  </thead>\n  <tbody>\n    <tr>\n      <th>INDIANA</th>\n      <td>0</td>\n      <td>1</td>\n      <td>2</td>\n      <td>3</td>\n    </tr>\n    <tr>\n      <th>COLO</th>\n      <td>4</td>\n      <td>5</td>\n      <td>6</td>\n      <td>7</td>\n    </tr>\n    <tr>\n      <th>NEW</th>\n      <td>8</td>\n      <td>9</td>\n      <td>10</td>\n      <td>11</td>\n    </tr>\n  </tbody>\n</table>\n</div>"
     },
     "execution_count": 54,
     "metadata": {},
     "output_type": "execute_result"
    }
   ]
  },
  {
   "cell_type": "markdown",
   "metadata": {
    "id": "7wBsYuHKPo1T"
   },
   "source": [
    "To save the new name directly using `inplace` method\n",
    "```python\n",
    "data.rename(index={'OHIO': 'INDIANA'}, inplace=True)\n",
    "data\n",
    "```\n"
   ]
  },
  {
   "cell_type": "code",
   "metadata": {
    "id": "WCuWLgvWPwM-",
    "colab": {
     "base_uri": "https://localhost:8080/",
     "height": 143
    },
    "outputId": "6df05cd7-4dc0-4445-cf70-ce5730eb92a3",
    "ExecuteTime": {
     "end_time": "2023-10-29T13:35:56.804088700Z",
     "start_time": "2023-10-29T13:35:56.756651300Z"
    }
   },
   "source": [
    "data.rename(index={'OHIO': 'INDIANA'}, inplace=True)\n",
    "data"
   ],
   "execution_count": 55,
   "outputs": [
    {
     "data": {
      "text/plain": "         one  two  three  four\nINDIANA    0    1      2     3\nCOLO       4    5      6     7\nNEW        8    9     10    11",
      "text/html": "<div>\n<style scoped>\n    .dataframe tbody tr th:only-of-type {\n        vertical-align: middle;\n    }\n\n    .dataframe tbody tr th {\n        vertical-align: top;\n    }\n\n    .dataframe thead th {\n        text-align: right;\n    }\n</style>\n<table border=\"1\" class=\"dataframe\">\n  <thead>\n    <tr style=\"text-align: right;\">\n      <th></th>\n      <th>one</th>\n      <th>two</th>\n      <th>three</th>\n      <th>four</th>\n    </tr>\n  </thead>\n  <tbody>\n    <tr>\n      <th>INDIANA</th>\n      <td>0</td>\n      <td>1</td>\n      <td>2</td>\n      <td>3</td>\n    </tr>\n    <tr>\n      <th>COLO</th>\n      <td>4</td>\n      <td>5</td>\n      <td>6</td>\n      <td>7</td>\n    </tr>\n    <tr>\n      <th>NEW</th>\n      <td>8</td>\n      <td>9</td>\n      <td>10</td>\n      <td>11</td>\n    </tr>\n  </tbody>\n</table>\n</div>"
     },
     "execution_count": 55,
     "metadata": {},
     "output_type": "execute_result"
    }
   ]
  },
  {
   "cell_type": "markdown",
   "metadata": {
    "id": "nHIqWByk5wc-"
   },
   "source": [
    "#### Work\n",
    "---\n",
    "\n",
    "From the previous work provide this output"
   ]
  },
  {
   "cell_type": "markdown",
   "metadata": {
    "id": "bEoGyEMOaXO-"
   },
   "source": [
    "Output1\n",
    "\n",
    "fill PID, and PID as an index\n",
    "![image-20230906065515528](./assets/image-20230906065515528.png)"
   ]
  },
  {
   "cell_type": "code",
   "metadata": {
    "id": "qumwSQYp6KtW",
    "colab": {
     "base_uri": "https://localhost:8080/",
     "height": 331
    },
    "outputId": "f1c76e2e-5663-4316-a3d1-e565b745ee40"
   },
   "source": [],
   "execution_count": null,
   "outputs": []
  },
  {
   "cell_type": "code",
   "metadata": {
    "id": "GhTL1wfO6PMs",
    "colab": {
     "base_uri": "https://localhost:8080/",
     "height": 363
    },
    "outputId": "8b031b49-79c9-42f4-81aa-e86e28a4199f"
   },
   "source": [],
   "execution_count": null,
   "outputs": []
  },
  {
   "cell_type": "code",
   "metadata": {
    "id": "CYDKs5VQ6nDQ",
    "colab": {
     "base_uri": "https://localhost:8080/",
     "height": 36
    },
    "outputId": "e4f45755-a049-4d78-85be-59e8bfc39161"
   },
   "source": [],
   "execution_count": null,
   "outputs": []
  },
  {
   "cell_type": "markdown",
   "source": [
    "Output2\n",
    "Change the column name to your language\n",
    "![image-20230906065658172](./assets/image-20230906065658172.png)"
   ],
   "metadata": {
    "collapsed": false
   }
  },
  {
   "cell_type": "code",
   "execution_count": null,
   "outputs": [],
   "source": [],
   "metadata": {
    "collapsed": false
   }
  },
  {
   "cell_type": "markdown",
   "metadata": {
    "id": "YLu3HU22QgwP"
   },
   "source": [
    "### Discretization and Bining\n",
    "---\n",
    "\n",
    "Extract data and put it in the bins for analysis\n",
    "\n",
    "The bin is the range of the data that we want to analyze\n",
    "create a list as\n",
    "```python\n",
    "ages = [20, 22, 25, 27, 21, 23, 37, 31, 61, 45, 41, 32]\n",
    "```\n"
   ]
  },
  {
   "cell_type": "code",
   "metadata": {
    "id": "0zPSBKGCQtmD",
    "ExecuteTime": {
     "end_time": "2023-10-29T13:36:04.180377500Z",
     "start_time": "2023-10-29T13:36:04.149675700Z"
    }
   },
   "source": [
    "ages = [20, 22, 25, 27, 21, 23, 37, 31, 61, 45, 41, 32]"
   ],
   "execution_count": 56,
   "outputs": []
  },
  {
   "cell_type": "markdown",
   "metadata": {
    "id": "JWACEIpnQxRn"
   },
   "source": [
    "Then we create a bin\n",
    "```python\n",
    "bins = [18, 25, 35, 60, 100]\n",
    "```"
   ]
  },
  {
   "cell_type": "code",
   "metadata": {
    "id": "9E4hHyuNQ_TB",
    "ExecuteTime": {
     "end_time": "2023-10-29T13:36:09.477122900Z",
     "start_time": "2023-10-29T13:36:09.430128600Z"
    }
   },
   "source": [
    "bins = [18, 25, 35, 60, 100]"
   ],
   "execution_count": 57,
   "outputs": []
  },
  {
   "cell_type": "markdown",
   "metadata": {
    "id": "L25loyixRBA2"
   },
   "source": [
    "Then we cut the data in to a bin, the cuts represent the bins for each data\n",
    "```python\n",
    "cuts = pd.cut(ages, bins)\n",
    "cuts\n",
    "```"
   ]
  },
  {
   "cell_type": "code",
   "metadata": {
    "id": "he6drI0bREWC",
    "colab": {
     "base_uri": "https://localhost:8080/"
    },
    "outputId": "9063fd36-1f8a-4475-ee33-20568852aedf",
    "ExecuteTime": {
     "end_time": "2023-10-29T13:36:15.167730Z",
     "start_time": "2023-10-29T13:36:15.073038600Z"
    }
   },
   "source": [
    "cuts = pd.cut(ages, bins)\n",
    "cuts"
   ],
   "execution_count": 58,
   "outputs": [
    {
     "data": {
      "text/plain": "[(18, 25], (18, 25], (18, 25], (25, 35], (18, 25], ..., (25, 35], (60, 100], (35, 60], (35, 60], (25, 35]]\nLength: 12\nCategories (4, interval[int64, right]): [(18, 25] < (25, 35] < (35, 60] < (60, 100]]"
     },
     "execution_count": 58,
     "metadata": {},
     "output_type": "execute_result"
    }
   ]
  },
  {
   "cell_type": "markdown",
   "metadata": {
    "id": "PkSZPLHARXA9"
   },
   "source": [
    "Instead of using the texts we can see the code (index) of each bins\n",
    "```python\n",
    "cuts.codes\n",
    "```"
   ]
  },
  {
   "cell_type": "code",
   "metadata": {
    "id": "zu1ZNRQERbHg",
    "colab": {
     "base_uri": "https://localhost:8080/"
    },
    "outputId": "4e31117c-a0aa-45b9-a5ba-78afb8ab9860",
    "ExecuteTime": {
     "end_time": "2023-10-29T13:36:20.486447300Z",
     "start_time": "2023-10-29T13:36:20.393059900Z"
    }
   },
   "source": [
    "cuts.codes"
   ],
   "execution_count": 59,
   "outputs": [
    {
     "data": {
      "text/plain": "array([0, 0, 0, 1, 0, 0, 2, 1, 3, 2, 2, 1], dtype=int8)"
     },
     "execution_count": 59,
     "metadata": {},
     "output_type": "execute_result"
    }
   ]
  },
  {
   "cell_type": "markdown",
   "metadata": {
    "id": "-SyIx8RrRhyI"
   },
   "source": [
    "and the catagories, and the amount of value in each cuts can be shown\n",
    "```python\n",
    "cuts.categories\n",
    "```"
   ]
  },
  {
   "cell_type": "code",
   "metadata": {
    "id": "q92uCdiyRtMa",
    "colab": {
     "base_uri": "https://localhost:8080/"
    },
    "outputId": "dee17cd7-d125-47fb-dd91-a683450db765",
    "ExecuteTime": {
     "end_time": "2023-10-29T13:36:25.472665800Z",
     "start_time": "2023-10-29T13:36:25.378457600Z"
    }
   },
   "source": [
    "cuts.categories"
   ],
   "execution_count": 60,
   "outputs": [
    {
     "data": {
      "text/plain": "IntervalIndex([(18, 25], (25, 35], (35, 60], (60, 100]], dtype='interval[int64, right]')"
     },
     "execution_count": 60,
     "metadata": {},
     "output_type": "execute_result"
    }
   ]
  },
  {
   "cell_type": "markdown",
   "source": [
    "We can count the amount of value in each cuts by using `value_counts` method\n",
    "```python\n",
    "pd.value_counts(cuts)\n",
    "```"
   ],
   "metadata": {
    "collapsed": false
   }
  },
  {
   "cell_type": "code",
   "metadata": {
    "id": "A-FIuO6mRwyQ",
    "colab": {
     "base_uri": "https://localhost:8080/"
    },
    "outputId": "f43595d9-decd-4bdc-e761-509233d46e32",
    "ExecuteTime": {
     "end_time": "2023-10-29T13:36:30.454961400Z",
     "start_time": "2023-10-29T13:36:30.423071600Z"
    }
   },
   "source": [
    "pd.value_counts(cuts)"
   ],
   "execution_count": 61,
   "outputs": [
    {
     "data": {
      "text/plain": "(18, 25]     5\n(25, 35]     3\n(35, 60]     3\n(60, 100]    1\ndtype: int64"
     },
     "execution_count": 61,
     "metadata": {},
     "output_type": "execute_result"
    }
   ]
  },
  {
   "cell_type": "markdown",
   "metadata": {
    "id": "nlotwTUOR9Nj"
   },
   "source": [
    "We can set the name of each cuts by passing the arrays of labels\n",
    "```python\n",
    "group_names = ['Youth', 'YoungAdult','MiddleAged','Senior']\n",
    "pd.cut(ages,bins,labels=group_names)\n",
    "```"
   ]
  },
  {
   "cell_type": "code",
   "metadata": {
    "id": "MyG8Kk0CSC-K",
    "colab": {
     "base_uri": "https://localhost:8080/"
    },
    "outputId": "7909b4d2-6506-45e3-a242-23869b90d5b1",
    "ExecuteTime": {
     "end_time": "2023-10-29T13:36:36.373613800Z",
     "start_time": "2023-10-29T13:36:36.279232300Z"
    }
   },
   "source": [
    "group_names = ['Youth', 'YoungAdult','MiddleAged','Senior']\n",
    "pd.cut(ages,bins,labels=group_names)"
   ],
   "execution_count": 62,
   "outputs": [
    {
     "data": {
      "text/plain": "['Youth', 'Youth', 'Youth', 'YoungAdult', 'Youth', ..., 'YoungAdult', 'Senior', 'MiddleAged', 'MiddleAged', 'YoungAdult']\nLength: 12\nCategories (4, object): ['Youth' < 'YoungAdult' < 'MiddleAged' < 'Senior']"
     },
     "execution_count": 62,
     "metadata": {},
     "output_type": "execute_result"
    }
   ]
  },
  {
   "cell_type": "markdown",
   "metadata": {
    "id": "0nY8GiaVSUc-"
   },
   "source": [
    "If we pass the integer number instead of the bin edge, it will compute the equal-length bins based on the minimum and maximum values.\n",
    "```python\n",
    "data = np.random.rand(20)\n",
    "pd.cut(data,4,precision=2)\n",
    "```"
   ]
  },
  {
   "cell_type": "code",
   "metadata": {
    "id": "IjqntK6ISj1B",
    "colab": {
     "base_uri": "https://localhost:8080/"
    },
    "outputId": "93bbdf60-e05c-4fb9-b671-87000ef47713",
    "ExecuteTime": {
     "end_time": "2023-10-29T13:36:41.933491100Z",
     "start_time": "2023-10-29T13:36:41.791132500Z"
    }
   },
   "source": [
    "data = np.random.rand(20)\n",
    "pd.cut(data,4,precision=2)"
   ],
   "execution_count": 63,
   "outputs": [
    {
     "data": {
      "text/plain": "[(0.72, 0.96], (0.25, 0.49], (0.01, 0.25], (0.01, 0.25], (0.49, 0.72], ..., (0.72, 0.96], (0.01, 0.25], (0.72, 0.96], (0.49, 0.72], (0.25, 0.49]]\nLength: 20\nCategories (4, interval[float64, right]): [(0.01, 0.25] < (0.25, 0.49] < (0.49, 0.72] < (0.72, 0.96]]"
     },
     "execution_count": 63,
     "metadata": {},
     "output_type": "execute_result"
    }
   ]
  },
  {
   "cell_type": "markdown",
   "source": [
    "Try counting the value of data\n",
    "```python\n",
    "pd.value_counts(pd.cut(data,4,precision=2))\n",
    "```"
   ],
   "metadata": {
    "collapsed": false
   }
  },
  {
   "cell_type": "code",
   "execution_count": 64,
   "outputs": [
    {
     "data": {
      "text/plain": "(0.01, 0.25]    6\n(0.25, 0.49]    5\n(0.49, 0.72]    5\n(0.72, 0.96]    4\ndtype: int64"
     },
     "execution_count": 64,
     "metadata": {},
     "output_type": "execute_result"
    }
   ],
   "source": [
    "pd.value_counts(pd.cut(data,4,precision=2))"
   ],
   "metadata": {
    "collapsed": false,
    "ExecuteTime": {
     "end_time": "2023-10-29T13:36:56.336230Z",
     "start_time": "2023-10-29T13:36:56.255362800Z"
    }
   }
  },
  {
   "cell_type": "markdown",
   "metadata": {
    "id": "qfX3cZB7QEK8"
   },
   "source": [
    "### Detecting and Filtering Outliers\n",
    "---\n",
    "\n",
    "\n",
    "finding the outlining data and filter it out as it may be the error while gathering the data.\n",
    "Let's start by having the given data\n",
    "```python\n",
    "data = pd.DataFrame(np.random.randn(1000,4))\n",
    "data.describe()\n",
    "```"
   ]
  },
  {
   "cell_type": "code",
   "metadata": {
    "id": "c2s445CMQV-8",
    "colab": {
     "base_uri": "https://localhost:8080/",
     "height": 300
    },
    "outputId": "73db96e9-ea7b-40ec-ed6c-12af8323ff81",
    "ExecuteTime": {
     "end_time": "2023-10-29T13:37:06.300297300Z",
     "start_time": "2023-10-29T13:37:06.237791100Z"
    }
   },
   "source": [
    "data = pd.DataFrame(np.random.randn(1000,4))\n",
    "data.describe()"
   ],
   "execution_count": 65,
   "outputs": [
    {
     "data": {
      "text/plain": "                 0            1            2            3\ncount  1000.000000  1000.000000  1000.000000  1000.000000\nmean     -0.047326    -0.016811     0.048925     0.006219\nstd       1.016533     1.015498     0.982349     1.003610\nmin      -2.802831    -4.051653    -3.455616    -3.381642\n25%      -0.760809    -0.690588    -0.594634    -0.719492\n50%      -0.036134     0.013362     0.076505    -0.017250\n75%       0.652951     0.676952     0.722345     0.675681\nmax       3.728721     3.751379     3.476785     3.276876",
      "text/html": "<div>\n<style scoped>\n    .dataframe tbody tr th:only-of-type {\n        vertical-align: middle;\n    }\n\n    .dataframe tbody tr th {\n        vertical-align: top;\n    }\n\n    .dataframe thead th {\n        text-align: right;\n    }\n</style>\n<table border=\"1\" class=\"dataframe\">\n  <thead>\n    <tr style=\"text-align: right;\">\n      <th></th>\n      <th>0</th>\n      <th>1</th>\n      <th>2</th>\n      <th>3</th>\n    </tr>\n  </thead>\n  <tbody>\n    <tr>\n      <th>count</th>\n      <td>1000.000000</td>\n      <td>1000.000000</td>\n      <td>1000.000000</td>\n      <td>1000.000000</td>\n    </tr>\n    <tr>\n      <th>mean</th>\n      <td>-0.047326</td>\n      <td>-0.016811</td>\n      <td>0.048925</td>\n      <td>0.006219</td>\n    </tr>\n    <tr>\n      <th>std</th>\n      <td>1.016533</td>\n      <td>1.015498</td>\n      <td>0.982349</td>\n      <td>1.003610</td>\n    </tr>\n    <tr>\n      <th>min</th>\n      <td>-2.802831</td>\n      <td>-4.051653</td>\n      <td>-3.455616</td>\n      <td>-3.381642</td>\n    </tr>\n    <tr>\n      <th>25%</th>\n      <td>-0.760809</td>\n      <td>-0.690588</td>\n      <td>-0.594634</td>\n      <td>-0.719492</td>\n    </tr>\n    <tr>\n      <th>50%</th>\n      <td>-0.036134</td>\n      <td>0.013362</td>\n      <td>0.076505</td>\n      <td>-0.017250</td>\n    </tr>\n    <tr>\n      <th>75%</th>\n      <td>0.652951</td>\n      <td>0.676952</td>\n      <td>0.722345</td>\n      <td>0.675681</td>\n    </tr>\n    <tr>\n      <th>max</th>\n      <td>3.728721</td>\n      <td>3.751379</td>\n      <td>3.476785</td>\n      <td>3.276876</td>\n    </tr>\n  </tbody>\n</table>\n</div>"
     },
     "execution_count": 65,
     "metadata": {},
     "output_type": "execute_result"
    }
   ]
  },
  {
   "cell_type": "markdown",
   "metadata": {
    "id": "ZT_qGII3S7gF"
   },
   "source": [
    "if we want to find the values in column 2 which the absolute value is exceeded 3\n",
    "```python\n",
    "col = data[2]\n",
    "col[np.abs(col) >3]\n",
    "```"
   ]
  },
  {
   "cell_type": "code",
   "metadata": {
    "id": "Kz6MMG4McN6B",
    "colab": {
     "base_uri": "https://localhost:8080/",
     "height": 423
    },
    "outputId": "b3a1d0dc-dbde-4449-a986-99381208dcc4",
    "ExecuteTime": {
     "end_time": "2023-10-29T13:37:12.617931800Z",
     "start_time": "2023-10-29T13:37:12.586516300Z"
    }
   },
   "source": [
    "col = data[2]"
   ],
   "execution_count": 66,
   "outputs": []
  },
  {
   "cell_type": "code",
   "metadata": {
    "id": "LFEaDdvwTFN6",
    "colab": {
     "base_uri": "https://localhost:8080/"
    },
    "outputId": "5a514ce0-3394-44c6-a620-f0e1ef4eca4b",
    "ExecuteTime": {
     "end_time": "2023-10-29T13:37:17.146711500Z",
     "start_time": "2023-10-29T13:37:17.057955300Z"
    }
   },
   "source": [
    "col[np.abs(col) >3]"
   ],
   "execution_count": 67,
   "outputs": [
    {
     "data": {
      "text/plain": "302    3.476785\n308   -3.455616\nName: 2, dtype: float64"
     },
     "execution_count": 67,
     "metadata": {},
     "output_type": "execute_result"
    }
   ]
  },
  {
   "cell_type": "markdown",
   "metadata": {
    "id": "jlJRo28sTQ7v"
   },
   "source": [
    "If we want to get rows which value is exceeding  3, we can use `any` methods\n",
    "```python\n",
    "data[(np.abs(data)>3).any(1)]\n",
    "```"
   ]
  },
  {
   "cell_type": "code",
   "execution_count": 68,
   "outputs": [
    {
     "name": "stderr",
     "output_type": "stream",
     "text": [
      "C:\\Users\\Dell\\AppData\\Local\\Temp\\ipykernel_9500\\560825772.py:1: FutureWarning: In a future version of pandas all arguments of DataFrame.any and Series.any will be keyword-only.\n",
      "  data[(np.abs(data)>3).any(1)]\n"
     ]
    },
    {
     "data": {
      "text/plain": "            0         1         2         3\n197  0.306241 -3.352559  0.824168 -1.117512\n302  0.467867 -1.489781  3.476785 -0.357138\n308  0.406872  0.432618 -3.455616 -0.051945\n313  3.728721  0.693299  0.352627  1.700262\n481 -1.314589 -2.256452 -0.594610 -3.381642\n507  2.158185  3.396617  0.135994  2.015646\n548 -1.087346 -0.751149  1.306062 -3.106105\n800 -0.316599 -4.051653 -0.274424  0.287472\n803 -1.026568  3.751379 -0.744120 -0.731952\n972  0.243124  1.631949  0.474594  3.276876",
      "text/html": "<div>\n<style scoped>\n    .dataframe tbody tr th:only-of-type {\n        vertical-align: middle;\n    }\n\n    .dataframe tbody tr th {\n        vertical-align: top;\n    }\n\n    .dataframe thead th {\n        text-align: right;\n    }\n</style>\n<table border=\"1\" class=\"dataframe\">\n  <thead>\n    <tr style=\"text-align: right;\">\n      <th></th>\n      <th>0</th>\n      <th>1</th>\n      <th>2</th>\n      <th>3</th>\n    </tr>\n  </thead>\n  <tbody>\n    <tr>\n      <th>197</th>\n      <td>0.306241</td>\n      <td>-3.352559</td>\n      <td>0.824168</td>\n      <td>-1.117512</td>\n    </tr>\n    <tr>\n      <th>302</th>\n      <td>0.467867</td>\n      <td>-1.489781</td>\n      <td>3.476785</td>\n      <td>-0.357138</td>\n    </tr>\n    <tr>\n      <th>308</th>\n      <td>0.406872</td>\n      <td>0.432618</td>\n      <td>-3.455616</td>\n      <td>-0.051945</td>\n    </tr>\n    <tr>\n      <th>313</th>\n      <td>3.728721</td>\n      <td>0.693299</td>\n      <td>0.352627</td>\n      <td>1.700262</td>\n    </tr>\n    <tr>\n      <th>481</th>\n      <td>-1.314589</td>\n      <td>-2.256452</td>\n      <td>-0.594610</td>\n      <td>-3.381642</td>\n    </tr>\n    <tr>\n      <th>507</th>\n      <td>2.158185</td>\n      <td>3.396617</td>\n      <td>0.135994</td>\n      <td>2.015646</td>\n    </tr>\n    <tr>\n      <th>548</th>\n      <td>-1.087346</td>\n      <td>-0.751149</td>\n      <td>1.306062</td>\n      <td>-3.106105</td>\n    </tr>\n    <tr>\n      <th>800</th>\n      <td>-0.316599</td>\n      <td>-4.051653</td>\n      <td>-0.274424</td>\n      <td>0.287472</td>\n    </tr>\n    <tr>\n      <th>803</th>\n      <td>-1.026568</td>\n      <td>3.751379</td>\n      <td>-0.744120</td>\n      <td>-0.731952</td>\n    </tr>\n    <tr>\n      <th>972</th>\n      <td>0.243124</td>\n      <td>1.631949</td>\n      <td>0.474594</td>\n      <td>3.276876</td>\n    </tr>\n  </tbody>\n</table>\n</div>"
     },
     "execution_count": 68,
     "metadata": {},
     "output_type": "execute_result"
    }
   ],
   "source": [
    "data[(np.abs(data)>3).any(1)]"
   ],
   "metadata": {
    "collapsed": false,
    "ExecuteTime": {
     "end_time": "2023-10-29T13:37:21.838880600Z",
     "start_time": "2023-10-29T13:37:21.759002900Z"
    }
   }
  },
  {
   "cell_type": "markdown",
   "metadata": {
    "id": "TVRAShje7As8"
   },
   "source": [
    "#### Work\n",
    "---\n",
    "\n",
    "From the given property file.\n",
    "Categorize the size of the hourse as the small house (size is less than 800 sq,ft.),  the medium house (size is between 801-1200 sq.ft) and the large house ( size is more than 1200 sq.ft)\n",
    "\n",
    "Show the number of each house size\n",
    "\n",
    "You should ignore the value which is not the number value"
   ]
  },
  {
   "cell_type": "code",
   "metadata": {
    "id": "H1toDVEp7tb2",
    "colab": {
     "base_uri": "https://localhost:8080/",
     "height": 331
    },
    "outputId": "6265d27b-4fab-46d5-a0da-1c8453ff8d87"
   },
   "source": [],
   "execution_count": null,
   "outputs": []
  },
  {
   "cell_type": "code",
   "source": [],
   "metadata": {
    "colab": {
     "base_uri": "https://localhost:8080/",
     "height": 373
    },
    "id": "9Y15k0KtFKgJ",
    "outputId": "63ec7824-19c6-4b10-cbad-ce8df09241b4"
   },
   "execution_count": null,
   "outputs": []
  },
  {
   "cell_type": "markdown",
   "metadata": {
    "id": "lKJEca4oUfnN"
   },
   "source": [
    "# Data Wrangling: Join, Combine, Reshape"
   ]
  },
  {
   "cell_type": "markdown",
   "metadata": {
    "id": "YM-BXN6PUyia"
   },
   "source": [
    "## Hierachical Indexing\n",
    "---\n",
    "\n",
    "\n",
    "Allow index to have multiple index levels on an axis\n",
    "\n",
    "Use when working with higher dimensional data ina lower dimensional form\n",
    "\n",
    "\n",
    "๊Use this setup configuration"
   ]
  },
  {
   "cell_type": "code",
   "metadata": {
    "id": "nEPiZoGRXzje",
    "ExecuteTime": {
     "end_time": "2023-10-29T13:37:28.974119600Z",
     "start_time": "2023-10-29T13:37:28.894275800Z"
    }
   },
   "source": [
    "import numpy as np\n",
    "import pandas as pd\n",
    "pd.options.display.max_rows = 20\n",
    "np.random.seed(12345)\n",
    "import matplotlib.pyplot as plt\n",
    "plt.rc('figure', figsize=(10, 6))\n",
    "np.set_printoptions(precision=4, suppress=True)"
   ],
   "execution_count": 69,
   "outputs": []
  },
  {
   "cell_type": "markdown",
   "source": [
    "create multiple index as given\n",
    "```python\n",
    "data = pd.Series(np.random.randn(9),\n",
    "                 index=[['a', 'a', 'a', 'b', 'b', 'c', 'c', 'd', 'd'],\n",
    "                        [1, 2, 3, 1, 3, 1, 2, 2, 3]])\n",
    "data\n",
    "```"
   ],
   "metadata": {
    "collapsed": false
   }
  },
  {
   "cell_type": "code",
   "metadata": {
    "id": "AeB3OPzuYDKA",
    "colab": {
     "base_uri": "https://localhost:8080/"
    },
    "outputId": "dbac9d9e-bc00-4d91-8165-5e7bf8c0e345",
    "ExecuteTime": {
     "end_time": "2023-10-29T13:37:35.721637900Z",
     "start_time": "2023-10-29T13:37:35.636499200Z"
    }
   },
   "source": [
    "data = pd.Series(np.random.randn(9),\n",
    "                 index=[['a', 'a', 'a', 'b', 'b', 'c', 'c', 'd', 'd'],\n",
    "                        [1, 2, 3, 1, 3, 1, 2, 2, 3]])\n",
    "data"
   ],
   "execution_count": 70,
   "outputs": [
    {
     "data": {
      "text/plain": "a  1   -0.204708\n   2    0.478943\n   3   -0.519439\nb  1   -0.555730\n   3    1.965781\nc  1    1.393406\n   2    0.092908\nd  2    0.281746\n   3    0.769023\ndtype: float64"
     },
     "execution_count": 70,
     "metadata": {},
     "output_type": "execute_result"
    }
   ]
  },
  {
   "cell_type": "markdown",
   "source": [
    "We can see the index of the data\n",
    "```python\n",
    "data.index\n",
    "```"
   ],
   "metadata": {
    "collapsed": false
   }
  },
  {
   "cell_type": "code",
   "metadata": {
    "id": "N4MiFIUqYDAl",
    "colab": {
     "base_uri": "https://localhost:8080/"
    },
    "outputId": "a3177748-08c6-4cdd-f46a-2c8fb0187b2e",
    "ExecuteTime": {
     "end_time": "2023-10-29T13:37:41.583078400Z",
     "start_time": "2023-10-29T13:37:41.536098200Z"
    }
   },
   "source": [
    "data.index"
   ],
   "execution_count": 71,
   "outputs": [
    {
     "data": {
      "text/plain": "MultiIndex([('a', 1),\n            ('a', 2),\n            ('a', 3),\n            ('b', 1),\n            ('b', 3),\n            ('c', 1),\n            ('c', 2),\n            ('d', 2),\n            ('d', 3)],\n           )"
     },
     "execution_count": 71,
     "metadata": {},
     "output_type": "execute_result"
    }
   ]
  },
  {
   "cell_type": "markdown",
   "metadata": {
    "id": "zW600u2sYVk9"
   },
   "source": [
    "we can see data in the multi level index to see only some index\n",
    "```python\n",
    "data['b']\n",
    "```"
   ]
  },
  {
   "cell_type": "code",
   "metadata": {
    "id": "eV1mQGxOYeqz",
    "colab": {
     "base_uri": "https://localhost:8080/"
    },
    "outputId": "9514d6a3-6857-4d7b-cc6b-c9583b61fdc6",
    "ExecuteTime": {
     "end_time": "2023-10-29T13:37:46.634787900Z",
     "start_time": "2023-10-29T13:37:46.567450900Z"
    }
   },
   "source": [
    "data['b']"
   ],
   "execution_count": 72,
   "outputs": [
    {
     "data": {
      "text/plain": "1   -0.555730\n3    1.965781\ndtype: float64"
     },
     "execution_count": 72,
     "metadata": {},
     "output_type": "execute_result"
    }
   ]
  },
  {
   "cell_type": "markdown",
   "source": [
    "We can see data from the inner level\n",
    "```python\n",
    "data['b':'c']\n",
    "```"
   ],
   "metadata": {
    "collapsed": false
   }
  },
  {
   "cell_type": "code",
   "metadata": {
    "id": "m5dUDOFPYhS1",
    "colab": {
     "base_uri": "https://localhost:8080/"
    },
    "outputId": "14158f7a-ecb8-481a-809f-3a11fd1f0564",
    "ExecuteTime": {
     "end_time": "2023-10-29T13:37:52.556819600Z",
     "start_time": "2023-10-29T13:37:52.500880300Z"
    }
   },
   "source": [
    "data['b':'c']"
   ],
   "execution_count": 73,
   "outputs": [
    {
     "data": {
      "text/plain": "b  1   -0.555730\n   3    1.965781\nc  1    1.393406\n   2    0.092908\ndtype: float64"
     },
     "execution_count": 73,
     "metadata": {},
     "output_type": "execute_result"
    }
   ]
  },
  {
   "cell_type": "markdown",
   "source": [
    "The `loc` method can be used to select data from a particular group of rows and columns in the hierachical index\n",
    "```python\n",
    "data.loc[['b','d']]\n",
    "```"
   ],
   "metadata": {
    "collapsed": false
   }
  },
  {
   "cell_type": "code",
   "metadata": {
    "id": "ugSzYiRjYru4",
    "colab": {
     "base_uri": "https://localhost:8080/"
    },
    "outputId": "71356ccc-72f0-4928-87ac-272617d16d18",
    "ExecuteTime": {
     "end_time": "2023-10-29T13:37:57.144297300Z",
     "start_time": "2023-10-29T13:37:57.096646500Z"
    }
   },
   "source": [
    "data.loc[['b','d']]"
   ],
   "execution_count": 74,
   "outputs": [
    {
     "data": {
      "text/plain": "b  1   -0.555730\n   3    1.965781\nd  2    0.281746\n   3    0.769023\ndtype: float64"
     },
     "execution_count": 74,
     "metadata": {},
     "output_type": "execute_result"
    }
   ]
  },
  {
   "cell_type": "markdown",
   "metadata": {
    "id": "K9SgB8l1YzJa"
   },
   "source": [
    "We can see data from the inner level\n",
    "```python\n",
    "data.loc[:,2]\n",
    "```"
   ]
  },
  {
   "cell_type": "code",
   "source": [
    "data.loc[:,2]"
   ],
   "metadata": {
    "colab": {
     "base_uri": "https://localhost:8080/"
    },
    "id": "PZlCcu-OOKxe",
    "outputId": "40965e1e-4b1e-4af8-ce0c-0622b9013ddf",
    "ExecuteTime": {
     "end_time": "2023-10-29T13:38:01.677928400Z",
     "start_time": "2023-10-29T13:38:01.612874700Z"
    }
   },
   "execution_count": 75,
   "outputs": [
    {
     "data": {
      "text/plain": "a    0.478943\nc    0.092908\nd    0.281746\ndtype: float64"
     },
     "execution_count": 75,
     "metadata": {},
     "output_type": "execute_result"
    }
   ]
  },
  {
   "cell_type": "markdown",
   "source": [
    "The slide can be also used\n",
    "```python\n",
    "data.loc[:,2]\n",
    "```"
   ],
   "metadata": {
    "collapsed": false
   }
  },
  {
   "cell_type": "code",
   "metadata": {
    "id": "zbrKcyVfYC-o",
    "colab": {
     "base_uri": "https://localhost:8080/"
    },
    "outputId": "31ce694a-cd16-4a4f-95f8-8b2a04c5f18b",
    "ExecuteTime": {
     "end_time": "2023-10-29T13:38:05.948646500Z",
     "start_time": "2023-10-29T13:38:05.866497900Z"
    }
   },
   "source": [
    "data.loc[:,2]"
   ],
   "execution_count": 76,
   "outputs": [
    {
     "data": {
      "text/plain": "a    0.478943\nc    0.092908\nd    0.281746\ndtype: float64"
     },
     "execution_count": 76,
     "metadata": {},
     "output_type": "execute_result"
    }
   ]
  },
  {
   "cell_type": "markdown",
   "metadata": {
    "id": "ayDSEMaTZB-Y"
   },
   "source": [
    "Hierachical indexing play important role in reshaping data and group-based oepration.\n",
    "\n",
    "The Hierachical index can be rearragen as the DataFrame using `unstack` methods\n",
    "```python\n",
    "data.unstack()\n",
    "```"
   ]
  },
  {
   "cell_type": "code",
   "metadata": {
    "id": "dp7vyBXdEtZm",
    "ExecuteTime": {
     "end_time": "2023-10-29T13:38:11.492228300Z",
     "start_time": "2023-10-29T13:38:11.398408600Z"
    }
   },
   "source": [
    "data.unstack()"
   ],
   "execution_count": 77,
   "outputs": [
    {
     "data": {
      "text/plain": "          1         2         3\na -0.204708  0.478943 -0.519439\nb -0.555730       NaN  1.965781\nc  1.393406  0.092908       NaN\nd       NaN  0.281746  0.769023",
      "text/html": "<div>\n<style scoped>\n    .dataframe tbody tr th:only-of-type {\n        vertical-align: middle;\n    }\n\n    .dataframe tbody tr th {\n        vertical-align: top;\n    }\n\n    .dataframe thead th {\n        text-align: right;\n    }\n</style>\n<table border=\"1\" class=\"dataframe\">\n  <thead>\n    <tr style=\"text-align: right;\">\n      <th></th>\n      <th>1</th>\n      <th>2</th>\n      <th>3</th>\n    </tr>\n  </thead>\n  <tbody>\n    <tr>\n      <th>a</th>\n      <td>-0.204708</td>\n      <td>0.478943</td>\n      <td>-0.519439</td>\n    </tr>\n    <tr>\n      <th>b</th>\n      <td>-0.555730</td>\n      <td>NaN</td>\n      <td>1.965781</td>\n    </tr>\n    <tr>\n      <th>c</th>\n      <td>1.393406</td>\n      <td>0.092908</td>\n      <td>NaN</td>\n    </tr>\n    <tr>\n      <th>d</th>\n      <td>NaN</td>\n      <td>0.281746</td>\n      <td>0.769023</td>\n    </tr>\n  </tbody>\n</table>\n</div>"
     },
     "execution_count": 77,
     "metadata": {},
     "output_type": "execute_result"
    }
   ]
  },
  {
   "cell_type": "code",
   "metadata": {
    "id": "_94wukogEnQk",
    "colab": {
     "base_uri": "https://localhost:8080/"
    },
    "outputId": "dee0811a-ab57-40d8-9e1c-c5006d92fe81"
   },
   "source": [],
   "execution_count": null,
   "outputs": []
  },
  {
   "cell_type": "markdown",
   "metadata": {
    "id": "bQCYXcSIZjmR"
   },
   "source": [
    "and the inverse version is `stack`\n",
    "```python\n",
    "data.unstack().stack()\n",
    "```"
   ]
  },
  {
   "cell_type": "code",
   "metadata": {
    "id": "wGuO8MfbZnhy",
    "colab": {
     "base_uri": "https://localhost:8080/"
    },
    "outputId": "5a865ee4-fea1-4442-fb16-2c610750f4b3",
    "ExecuteTime": {
     "end_time": "2023-10-29T13:38:19.000186400Z",
     "start_time": "2023-10-29T13:38:18.841278200Z"
    }
   },
   "source": [
    "data.unstack().stack()"
   ],
   "execution_count": 78,
   "outputs": [
    {
     "data": {
      "text/plain": "a  1   -0.204708\n   2    0.478943\n   3   -0.519439\nb  1   -0.555730\n   3    1.965781\nc  1    1.393406\n   2    0.092908\nd  2    0.281746\n   3    0.769023\ndtype: float64"
     },
     "execution_count": 78,
     "metadata": {},
     "output_type": "execute_result"
    }
   ]
  },
  {
   "cell_type": "markdown",
   "metadata": {
    "id": "GXsOL913Zm2k"
   },
   "source": [
    "As the data frame,  axis can have hierachical index\n",
    "```python\n",
    "frame = pd.DataFrame(np.arange(12).reshape((4, 3)),\n",
    "                     index=[['a', 'a', 'b', 'b'], [1, 2, 1, 2]],\n",
    "                     columns=[['Ohio', 'Ohio', 'Colorado'],\n",
    "                              ['Green', 'Red', 'Green']])\n",
    "frame\n",
    "```"
   ]
  },
  {
   "cell_type": "code",
   "metadata": {
    "id": "Ve8ZRh7sZ6Xo",
    "colab": {
     "base_uri": "https://localhost:8080/",
     "height": 206
    },
    "outputId": "f46bea7e-77c6-4cf3-cd91-dd2a7b31be20",
    "ExecuteTime": {
     "end_time": "2023-10-29T13:38:26.424456200Z",
     "start_time": "2023-10-29T13:38:26.251476200Z"
    }
   },
   "source": [
    "frame = pd.DataFrame(np.arange(12).reshape((4, 3)),\n",
    "                     index=[['a', 'a', 'b', 'b'], [1, 2, 1, 2]],\n",
    "                     columns=[['Ohio', 'Ohio', 'Colorado'],\n",
    "                              ['Green', 'Red', 'Green']])\n",
    "frame"
   ],
   "execution_count": 79,
   "outputs": [
    {
     "data": {
      "text/plain": "     Ohio     Colorado\n    Green Red    Green\na 1     0   1        2\n  2     3   4        5\nb 1     6   7        8\n  2     9  10       11",
      "text/html": "<div>\n<style scoped>\n    .dataframe tbody tr th:only-of-type {\n        vertical-align: middle;\n    }\n\n    .dataframe tbody tr th {\n        vertical-align: top;\n    }\n\n    .dataframe thead tr th {\n        text-align: left;\n    }\n</style>\n<table border=\"1\" class=\"dataframe\">\n  <thead>\n    <tr>\n      <th></th>\n      <th></th>\n      <th colspan=\"2\" halign=\"left\">Ohio</th>\n      <th>Colorado</th>\n    </tr>\n    <tr>\n      <th></th>\n      <th></th>\n      <th>Green</th>\n      <th>Red</th>\n      <th>Green</th>\n    </tr>\n  </thead>\n  <tbody>\n    <tr>\n      <th rowspan=\"2\" valign=\"top\">a</th>\n      <th>1</th>\n      <td>0</td>\n      <td>1</td>\n      <td>2</td>\n    </tr>\n    <tr>\n      <th>2</th>\n      <td>3</td>\n      <td>4</td>\n      <td>5</td>\n    </tr>\n    <tr>\n      <th rowspan=\"2\" valign=\"top\">b</th>\n      <th>1</th>\n      <td>6</td>\n      <td>7</td>\n      <td>8</td>\n    </tr>\n    <tr>\n      <th>2</th>\n      <td>9</td>\n      <td>10</td>\n      <td>11</td>\n    </tr>\n  </tbody>\n</table>\n</div>"
     },
     "execution_count": 79,
     "metadata": {},
     "output_type": "execute_result"
    }
   ]
  },
  {
   "cell_type": "markdown",
   "metadata": {
    "id": "CZ9jXyGVZ-fm"
   },
   "source": [
    "The Hierachy level can have names.\n",
    "```python\n",
    "frame.index.names = ['key1', 'key2']\n",
    "frame.columns.names = ['state', 'color']\n",
    "frame\n",
    "```"
   ]
  },
  {
   "cell_type": "code",
   "metadata": {
    "id": "gqIodxW9aLkH",
    "colab": {
     "base_uri": "https://localhost:8080/",
     "height": 237
    },
    "outputId": "37e62487-1340-4377-eaec-ec15e479c7d9",
    "ExecuteTime": {
     "end_time": "2023-10-29T13:38:32.197745300Z",
     "start_time": "2023-10-29T13:38:32.150152600Z"
    }
   },
   "source": [
    "frame.index.names = ['key1', 'key2']\n",
    "frame.columns.names = ['state', 'color']\n",
    "frame"
   ],
   "execution_count": 80,
   "outputs": [
    {
     "data": {
      "text/plain": "state      Ohio     Colorado\ncolor     Green Red    Green\nkey1 key2                   \na    1        0   1        2\n     2        3   4        5\nb    1        6   7        8\n     2        9  10       11",
      "text/html": "<div>\n<style scoped>\n    .dataframe tbody tr th:only-of-type {\n        vertical-align: middle;\n    }\n\n    .dataframe tbody tr th {\n        vertical-align: top;\n    }\n\n    .dataframe thead tr th {\n        text-align: left;\n    }\n\n    .dataframe thead tr:last-of-type th {\n        text-align: right;\n    }\n</style>\n<table border=\"1\" class=\"dataframe\">\n  <thead>\n    <tr>\n      <th></th>\n      <th>state</th>\n      <th colspan=\"2\" halign=\"left\">Ohio</th>\n      <th>Colorado</th>\n    </tr>\n    <tr>\n      <th></th>\n      <th>color</th>\n      <th>Green</th>\n      <th>Red</th>\n      <th>Green</th>\n    </tr>\n    <tr>\n      <th>key1</th>\n      <th>key2</th>\n      <th></th>\n      <th></th>\n      <th></th>\n    </tr>\n  </thead>\n  <tbody>\n    <tr>\n      <th rowspan=\"2\" valign=\"top\">a</th>\n      <th>1</th>\n      <td>0</td>\n      <td>1</td>\n      <td>2</td>\n    </tr>\n    <tr>\n      <th>2</th>\n      <td>3</td>\n      <td>4</td>\n      <td>5</td>\n    </tr>\n    <tr>\n      <th rowspan=\"2\" valign=\"top\">b</th>\n      <th>1</th>\n      <td>6</td>\n      <td>7</td>\n      <td>8</td>\n    </tr>\n    <tr>\n      <th>2</th>\n      <td>9</td>\n      <td>10</td>\n      <td>11</td>\n    </tr>\n  </tbody>\n</table>\n</div>"
     },
     "execution_count": 80,
     "metadata": {},
     "output_type": "execute_result"
    }
   ]
  },
  {
   "cell_type": "markdown",
   "metadata": {
    "id": "emySw1xbbGsB"
   },
   "source": [
    "### Work create this data frame\n",
    "\n",
    "![image-20230907050812483](./assets/image-20230907050812483.png)\n",
    "\n"
   ]
  },
  {
   "cell_type": "code",
   "metadata": {
    "id": "A-obRPglGHH3",
    "colab": {
     "base_uri": "https://localhost:8080/",
     "height": 112
    },
    "outputId": "5ea28a3d-5568-495c-ea18-f1293735259c"
   },
   "source": [],
   "execution_count": null,
   "outputs": []
  },
  {
   "cell_type": "markdown",
   "metadata": {
    "id": "nQzWwA2dcSH7"
   },
   "source": [
    "## Reordering and Sorting Levels\n",
    "---\n",
    "\n",
    "To transform data, we may have to swap the level of the data frame"
   ]
  },
  {
   "cell_type": "code",
   "metadata": {
    "id": "xdHnzvYAPVtv",
    "colab": {
     "base_uri": "https://localhost:8080/",
     "height": 237
    },
    "outputId": "a6771e07-ab5c-47cf-a7d8-563b835800ca"
   },
   "source": [],
   "execution_count": null,
   "outputs": []
  },
  {
   "cell_type": "markdown",
   "source": [
    "The `swaplevel` method can be used to swap the level\n",
    "```python\n",
    "frame.swaplevel('key1','key2')\n",
    "```"
   ],
   "metadata": {
    "collapsed": false
   }
  },
  {
   "cell_type": "code",
   "metadata": {
    "id": "V_Y2NEYNPVTO",
    "ExecuteTime": {
     "end_time": "2023-10-29T13:38:42.003317700Z",
     "start_time": "2023-10-29T13:38:41.829390600Z"
    }
   },
   "source": [
    "frame.swaplevel('key1','key2')"
   ],
   "execution_count": 81,
   "outputs": [
    {
     "data": {
      "text/plain": "state      Ohio     Colorado\ncolor     Green Red    Green\nkey2 key1                   \n1    a        0   1        2\n2    a        3   4        5\n1    b        6   7        8\n2    b        9  10       11",
      "text/html": "<div>\n<style scoped>\n    .dataframe tbody tr th:only-of-type {\n        vertical-align: middle;\n    }\n\n    .dataframe tbody tr th {\n        vertical-align: top;\n    }\n\n    .dataframe thead tr th {\n        text-align: left;\n    }\n\n    .dataframe thead tr:last-of-type th {\n        text-align: right;\n    }\n</style>\n<table border=\"1\" class=\"dataframe\">\n  <thead>\n    <tr>\n      <th></th>\n      <th>state</th>\n      <th colspan=\"2\" halign=\"left\">Ohio</th>\n      <th>Colorado</th>\n    </tr>\n    <tr>\n      <th></th>\n      <th>color</th>\n      <th>Green</th>\n      <th>Red</th>\n      <th>Green</th>\n    </tr>\n    <tr>\n      <th>key2</th>\n      <th>key1</th>\n      <th></th>\n      <th></th>\n      <th></th>\n    </tr>\n  </thead>\n  <tbody>\n    <tr>\n      <th>1</th>\n      <th>a</th>\n      <td>0</td>\n      <td>1</td>\n      <td>2</td>\n    </tr>\n    <tr>\n      <th>2</th>\n      <th>a</th>\n      <td>3</td>\n      <td>4</td>\n      <td>5</td>\n    </tr>\n    <tr>\n      <th>1</th>\n      <th>b</th>\n      <td>6</td>\n      <td>7</td>\n      <td>8</td>\n    </tr>\n    <tr>\n      <th>2</th>\n      <th>b</th>\n      <td>9</td>\n      <td>10</td>\n      <td>11</td>\n    </tr>\n  </tbody>\n</table>\n</div>"
     },
     "execution_count": 81,
     "metadata": {},
     "output_type": "execute_result"
    }
   ]
  },
  {
   "cell_type": "markdown",
   "metadata": {
    "id": "5arWxbUBcqyt"
   },
   "source": [
    "The index is not sort, so the multi hierachy is not set. we can sort the index at any level to set the better visualization\n",
    "```python\n",
    "frame.sort_index(level=1)\n",
    "```"
   ]
  },
  {
   "cell_type": "code",
   "metadata": {
    "id": "X2Ny0uohc4Nl",
    "colab": {
     "base_uri": "https://localhost:8080/",
     "height": 237
    },
    "outputId": "52cbab8c-2daa-45a7-e8ed-3b053894f8ff",
    "ExecuteTime": {
     "end_time": "2023-10-29T13:38:46.992327700Z",
     "start_time": "2023-10-29T13:38:46.851226500Z"
    }
   },
   "source": [
    "frame.sort_index(level=1)"
   ],
   "execution_count": 82,
   "outputs": [
    {
     "data": {
      "text/plain": "state      Ohio     Colorado\ncolor     Green Red    Green\nkey1 key2                   \na    1        0   1        2\nb    1        6   7        8\na    2        3   4        5\nb    2        9  10       11",
      "text/html": "<div>\n<style scoped>\n    .dataframe tbody tr th:only-of-type {\n        vertical-align: middle;\n    }\n\n    .dataframe tbody tr th {\n        vertical-align: top;\n    }\n\n    .dataframe thead tr th {\n        text-align: left;\n    }\n\n    .dataframe thead tr:last-of-type th {\n        text-align: right;\n    }\n</style>\n<table border=\"1\" class=\"dataframe\">\n  <thead>\n    <tr>\n      <th></th>\n      <th>state</th>\n      <th colspan=\"2\" halign=\"left\">Ohio</th>\n      <th>Colorado</th>\n    </tr>\n    <tr>\n      <th></th>\n      <th>color</th>\n      <th>Green</th>\n      <th>Red</th>\n      <th>Green</th>\n    </tr>\n    <tr>\n      <th>key1</th>\n      <th>key2</th>\n      <th></th>\n      <th></th>\n      <th></th>\n    </tr>\n  </thead>\n  <tbody>\n    <tr>\n      <th>a</th>\n      <th>1</th>\n      <td>0</td>\n      <td>1</td>\n      <td>2</td>\n    </tr>\n    <tr>\n      <th>b</th>\n      <th>1</th>\n      <td>6</td>\n      <td>7</td>\n      <td>8</td>\n    </tr>\n    <tr>\n      <th>a</th>\n      <th>2</th>\n      <td>3</td>\n      <td>4</td>\n      <td>5</td>\n    </tr>\n    <tr>\n      <th>b</th>\n      <th>2</th>\n      <td>9</td>\n      <td>10</td>\n      <td>11</td>\n    </tr>\n  </tbody>\n</table>\n</div>"
     },
     "execution_count": 82,
     "metadata": {},
     "output_type": "execute_result"
    }
   ]
  },
  {
   "cell_type": "markdown",
   "metadata": {
    "id": "19Wv8aXtc3YS"
   },
   "source": [
    "So swap the key and sort will make the hierarchy better\n",
    "```python\n",
    "frame.swaplevel(0,1).sort_index(level=0)\n",
    "```"
   ]
  },
  {
   "cell_type": "code",
   "source": [
    "frame.swaplevel(0,1).sort_index(level=0)"
   ],
   "metadata": {
    "colab": {
     "base_uri": "https://localhost:8080/",
     "height": 237
    },
    "id": "VlSJH0ReV-tl",
    "outputId": "8be04c1f-20d2-40a1-cdda-4b58790a0f85",
    "ExecuteTime": {
     "end_time": "2023-10-29T13:38:52.985546200Z",
     "start_time": "2023-10-29T13:38:52.828863100Z"
    }
   },
   "execution_count": 83,
   "outputs": [
    {
     "data": {
      "text/plain": "state      Ohio     Colorado\ncolor     Green Red    Green\nkey2 key1                   \n1    a        0   1        2\n     b        6   7        8\n2    a        3   4        5\n     b        9  10       11",
      "text/html": "<div>\n<style scoped>\n    .dataframe tbody tr th:only-of-type {\n        vertical-align: middle;\n    }\n\n    .dataframe tbody tr th {\n        vertical-align: top;\n    }\n\n    .dataframe thead tr th {\n        text-align: left;\n    }\n\n    .dataframe thead tr:last-of-type th {\n        text-align: right;\n    }\n</style>\n<table border=\"1\" class=\"dataframe\">\n  <thead>\n    <tr>\n      <th></th>\n      <th>state</th>\n      <th colspan=\"2\" halign=\"left\">Ohio</th>\n      <th>Colorado</th>\n    </tr>\n    <tr>\n      <th></th>\n      <th>color</th>\n      <th>Green</th>\n      <th>Red</th>\n      <th>Green</th>\n    </tr>\n    <tr>\n      <th>key2</th>\n      <th>key1</th>\n      <th></th>\n      <th></th>\n      <th></th>\n    </tr>\n  </thead>\n  <tbody>\n    <tr>\n      <th rowspan=\"2\" valign=\"top\">1</th>\n      <th>a</th>\n      <td>0</td>\n      <td>1</td>\n      <td>2</td>\n    </tr>\n    <tr>\n      <th>b</th>\n      <td>6</td>\n      <td>7</td>\n      <td>8</td>\n    </tr>\n    <tr>\n      <th rowspan=\"2\" valign=\"top\">2</th>\n      <th>a</th>\n      <td>3</td>\n      <td>4</td>\n      <td>5</td>\n    </tr>\n    <tr>\n      <th>b</th>\n      <td>9</td>\n      <td>10</td>\n      <td>11</td>\n    </tr>\n  </tbody>\n</table>\n</div>"
     },
     "execution_count": 83,
     "metadata": {},
     "output_type": "execute_result"
    }
   ]
  },
  {
   "cell_type": "markdown",
   "source": [
    "The `sort_index` method can be used to sort the index\n",
    "```python\n",
    "frame.swaplevel(0,1).sort_index(level=0)\n",
    "```"
   ],
   "metadata": {
    "collapsed": false
   }
  },
  {
   "cell_type": "code",
   "metadata": {
    "id": "Og3_js0NdJgB",
    "colab": {
     "base_uri": "https://localhost:8080/",
     "height": 237
    },
    "outputId": "f090d52b-0418-42f9-9a60-0ab7851748ea",
    "ExecuteTime": {
     "end_time": "2023-10-29T13:38:58.495332600Z",
     "start_time": "2023-10-29T13:38:58.401180300Z"
    }
   },
   "source": [
    "frame.swaplevel(0,1).sort_index(level=0)"
   ],
   "execution_count": 84,
   "outputs": [
    {
     "data": {
      "text/plain": "state      Ohio     Colorado\ncolor     Green Red    Green\nkey2 key1                   \n1    a        0   1        2\n     b        6   7        8\n2    a        3   4        5\n     b        9  10       11",
      "text/html": "<div>\n<style scoped>\n    .dataframe tbody tr th:only-of-type {\n        vertical-align: middle;\n    }\n\n    .dataframe tbody tr th {\n        vertical-align: top;\n    }\n\n    .dataframe thead tr th {\n        text-align: left;\n    }\n\n    .dataframe thead tr:last-of-type th {\n        text-align: right;\n    }\n</style>\n<table border=\"1\" class=\"dataframe\">\n  <thead>\n    <tr>\n      <th></th>\n      <th>state</th>\n      <th colspan=\"2\" halign=\"left\">Ohio</th>\n      <th>Colorado</th>\n    </tr>\n    <tr>\n      <th></th>\n      <th>color</th>\n      <th>Green</th>\n      <th>Red</th>\n      <th>Green</th>\n    </tr>\n    <tr>\n      <th>key2</th>\n      <th>key1</th>\n      <th></th>\n      <th></th>\n      <th></th>\n    </tr>\n  </thead>\n  <tbody>\n    <tr>\n      <th rowspan=\"2\" valign=\"top\">1</th>\n      <th>a</th>\n      <td>0</td>\n      <td>1</td>\n      <td>2</td>\n    </tr>\n    <tr>\n      <th>b</th>\n      <td>6</td>\n      <td>7</td>\n      <td>8</td>\n    </tr>\n    <tr>\n      <th rowspan=\"2\" valign=\"top\">2</th>\n      <th>a</th>\n      <td>3</td>\n      <td>4</td>\n      <td>5</td>\n    </tr>\n    <tr>\n      <th>b</th>\n      <td>9</td>\n      <td>10</td>\n      <td>11</td>\n    </tr>\n  </tbody>\n</table>\n</div>"
     },
     "execution_count": 84,
     "metadata": {},
     "output_type": "execute_result"
    }
   ]
  },
  {
   "cell_type": "markdown",
   "metadata": {
    "id": "pMDjpHuydQZQ"
   },
   "source": [
    "## Summary Statistics by Level\n",
    "---\n",
    "\n",
    "The statistic data can be calculated with the specific level\n",
    "For example, if we want to calculate on the rows data"
   ]
  },
  {
   "cell_type": "code",
   "metadata": {
    "id": "wL-htNIfQhZj",
    "colab": {
     "base_uri": "https://localhost:8080/",
     "height": 237
    },
    "outputId": "964a9396-e128-4a61-b1d4-306fc7eaa135"
   },
   "source": [],
   "execution_count": null,
   "outputs": []
  },
  {
   "cell_type": "markdown",
   "source": [
    "We can calculate the sum of the data by the level\n",
    "```python\n",
    "frame.sum()\n",
    "```"
   ],
   "metadata": {
    "collapsed": false
   }
  },
  {
   "cell_type": "code",
   "metadata": {
    "id": "5B3Ck9a10j4J",
    "colab": {
     "base_uri": "https://localhost:8080/"
    },
    "outputId": "f64de1c1-e307-4083-ee5b-6be3c8082f7f",
    "ExecuteTime": {
     "end_time": "2023-10-29T13:39:14.587273200Z",
     "start_time": "2023-10-29T13:39:14.472400500Z"
    }
   },
   "source": [
    "frame.sum()"
   ],
   "execution_count": 85,
   "outputs": [
    {
     "data": {
      "text/plain": "state     color\nOhio      Green    18\n          Red      22\nColorado  Green    26\ndtype: int64"
     },
     "execution_count": 85,
     "metadata": {},
     "output_type": "execute_result"
    }
   ]
  },
  {
   "cell_type": "markdown",
   "source": [
    "then try\n",
    "```python\n",
    "frame.groupby(['key2']).sum()\n",
    "```"
   ],
   "metadata": {
    "collapsed": false
   }
  },
  {
   "cell_type": "code",
   "metadata": {
    "id": "w5aakRcoddFi",
    "colab": {
     "base_uri": "https://localhost:8080/",
     "height": 229
    },
    "outputId": "dc2de841-3a96-4623-9df0-d4f1d8453fc1",
    "ExecuteTime": {
     "end_time": "2023-10-29T13:39:20.854014500Z",
     "start_time": "2023-10-29T13:39:20.778359200Z"
    }
   },
   "source": [
    "frame.groupby(['key2']).sum()"
   ],
   "execution_count": 86,
   "outputs": [
    {
     "data": {
      "text/plain": "state  Ohio     Colorado\ncolor Green Red    Green\nkey2                    \n1         6   8       10\n2        12  14       16",
      "text/html": "<div>\n<style scoped>\n    .dataframe tbody tr th:only-of-type {\n        vertical-align: middle;\n    }\n\n    .dataframe tbody tr th {\n        vertical-align: top;\n    }\n\n    .dataframe thead tr th {\n        text-align: left;\n    }\n\n    .dataframe thead tr:last-of-type th {\n        text-align: right;\n    }\n</style>\n<table border=\"1\" class=\"dataframe\">\n  <thead>\n    <tr>\n      <th>state</th>\n      <th colspan=\"2\" halign=\"left\">Ohio</th>\n      <th>Colorado</th>\n    </tr>\n    <tr>\n      <th>color</th>\n      <th>Green</th>\n      <th>Red</th>\n      <th>Green</th>\n    </tr>\n    <tr>\n      <th>key2</th>\n      <th></th>\n      <th></th>\n      <th></th>\n    </tr>\n  </thead>\n  <tbody>\n    <tr>\n      <th>1</th>\n      <td>6</td>\n      <td>8</td>\n      <td>10</td>\n    </tr>\n    <tr>\n      <th>2</th>\n      <td>12</td>\n      <td>14</td>\n      <td>16</td>\n    </tr>\n  </tbody>\n</table>\n</div>"
     },
     "execution_count": 86,
     "metadata": {},
     "output_type": "execute_result"
    }
   ]
  },
  {
   "cell_type": "markdown",
   "metadata": {
    "id": "9_lxit_HdmgE"
   },
   "source": [
    "Or calculate on the column-wise\n",
    "```python\n",
    "frame.sum(axis=1)\n",
    "```"
   ]
  },
  {
   "cell_type": "code",
   "execution_count": 87,
   "outputs": [
    {
     "data": {
      "text/plain": "key1  key2\na     1        3\n      2       12\nb     1       21\n      2       30\ndtype: int64"
     },
     "execution_count": 87,
     "metadata": {},
     "output_type": "execute_result"
    }
   ],
   "source": [
    "frame.sum(axis=1)"
   ],
   "metadata": {
    "collapsed": false,
    "ExecuteTime": {
     "end_time": "2023-10-29T13:39:25.452003400Z",
     "start_time": "2023-10-29T13:39:25.378413100Z"
    }
   }
  },
  {
   "cell_type": "markdown",
   "source": [
    "then try\n",
    "```python\n",
    "frame.groupby(['color'],axis=1).sum()\n",
    "```"
   ],
   "metadata": {
    "collapsed": false
   }
  },
  {
   "cell_type": "code",
   "metadata": {
    "id": "qrTdICO1do4Q",
    "colab": {
     "base_uri": "https://localhost:8080/",
     "height": 261
    },
    "outputId": "201c3a6f-633b-4f56-9523-bc6b76cd6259",
    "ExecuteTime": {
     "end_time": "2023-10-29T13:39:30.514479800Z",
     "start_time": "2023-10-29T13:39:30.435546500Z"
    }
   },
   "source": [
    "frame.groupby(['color'],axis=1).sum()"
   ],
   "execution_count": 88,
   "outputs": [
    {
     "data": {
      "text/plain": "color      Green  Red\nkey1 key2            \na    1         2    1\n     2         8    4\nb    1        14    7\n     2        20   10",
      "text/html": "<div>\n<style scoped>\n    .dataframe tbody tr th:only-of-type {\n        vertical-align: middle;\n    }\n\n    .dataframe tbody tr th {\n        vertical-align: top;\n    }\n\n    .dataframe thead th {\n        text-align: right;\n    }\n</style>\n<table border=\"1\" class=\"dataframe\">\n  <thead>\n    <tr style=\"text-align: right;\">\n      <th></th>\n      <th>color</th>\n      <th>Green</th>\n      <th>Red</th>\n    </tr>\n    <tr>\n      <th>key1</th>\n      <th>key2</th>\n      <th></th>\n      <th></th>\n    </tr>\n  </thead>\n  <tbody>\n    <tr>\n      <th rowspan=\"2\" valign=\"top\">a</th>\n      <th>1</th>\n      <td>2</td>\n      <td>1</td>\n    </tr>\n    <tr>\n      <th>2</th>\n      <td>8</td>\n      <td>4</td>\n    </tr>\n    <tr>\n      <th rowspan=\"2\" valign=\"top\">b</th>\n      <th>1</th>\n      <td>14</td>\n      <td>7</td>\n    </tr>\n    <tr>\n      <th>2</th>\n      <td>20</td>\n      <td>10</td>\n    </tr>\n  </tbody>\n</table>\n</div>"
     },
     "execution_count": 88,
     "metadata": {},
     "output_type": "execute_result"
    }
   ]
  },
  {
   "cell_type": "markdown",
   "metadata": {
    "id": "MBeUAN24d1fO"
   },
   "source": [
    "## Indexing with DataFrame's Column\n",
    "\n",
    "\n",
    "some time we want to use the row index as the columns\n",
    "```python\n",
    "frame = pd.DataFrame({'a': range(7), 'b': range(7, 0, -1),\n",
    "                      'c': ['one', 'one', 'one', 'two', 'two',\n",
    "                            'two', 'two'],\n",
    "                      'd': [0, 1, 2, 0, 1, 2, 3]})\n",
    "frame\n",
    "```"
   ]
  },
  {
   "cell_type": "code",
   "metadata": {
    "id": "9FCdXwSxeDZf",
    "colab": {
     "base_uri": "https://localhost:8080/",
     "height": 269
    },
    "outputId": "12046538-030f-4849-c13e-448a37dc61db",
    "ExecuteTime": {
     "end_time": "2023-10-29T13:39:38.836422700Z",
     "start_time": "2023-10-29T13:39:38.729999400Z"
    }
   },
   "source": [
    "frame = pd.DataFrame({'a': range(7), 'b': range(7, 0, -1),\n",
    "                      'c': ['one', 'one', 'one', 'two', 'two',\n",
    "                            'two', 'two'],\n",
    "                      'd': [0, 1, 2, 0, 1, 2, 3]})\n",
    "frame"
   ],
   "execution_count": 89,
   "outputs": [
    {
     "data": {
      "text/plain": "   a  b    c  d\n0  0  7  one  0\n1  1  6  one  1\n2  2  5  one  2\n3  3  4  two  0\n4  4  3  two  1\n5  5  2  two  2\n6  6  1  two  3",
      "text/html": "<div>\n<style scoped>\n    .dataframe tbody tr th:only-of-type {\n        vertical-align: middle;\n    }\n\n    .dataframe tbody tr th {\n        vertical-align: top;\n    }\n\n    .dataframe thead th {\n        text-align: right;\n    }\n</style>\n<table border=\"1\" class=\"dataframe\">\n  <thead>\n    <tr style=\"text-align: right;\">\n      <th></th>\n      <th>a</th>\n      <th>b</th>\n      <th>c</th>\n      <th>d</th>\n    </tr>\n  </thead>\n  <tbody>\n    <tr>\n      <th>0</th>\n      <td>0</td>\n      <td>7</td>\n      <td>one</td>\n      <td>0</td>\n    </tr>\n    <tr>\n      <th>1</th>\n      <td>1</td>\n      <td>6</td>\n      <td>one</td>\n      <td>1</td>\n    </tr>\n    <tr>\n      <th>2</th>\n      <td>2</td>\n      <td>5</td>\n      <td>one</td>\n      <td>2</td>\n    </tr>\n    <tr>\n      <th>3</th>\n      <td>3</td>\n      <td>4</td>\n      <td>two</td>\n      <td>0</td>\n    </tr>\n    <tr>\n      <th>4</th>\n      <td>4</td>\n      <td>3</td>\n      <td>two</td>\n      <td>1</td>\n    </tr>\n    <tr>\n      <th>5</th>\n      <td>5</td>\n      <td>2</td>\n      <td>two</td>\n      <td>2</td>\n    </tr>\n    <tr>\n      <th>6</th>\n      <td>6</td>\n      <td>1</td>\n      <td>two</td>\n      <td>3</td>\n    </tr>\n  </tbody>\n</table>\n</div>"
     },
     "execution_count": 89,
     "metadata": {},
     "output_type": "execute_result"
    }
   ]
  },
  {
   "cell_type": "markdown",
   "metadata": {
    "id": "e5pn53joeN9I"
   },
   "source": [
    "We can create a new data frame using some columns as index\n",
    "\n",
    "```python\n",
    "frame2 = frame.set_index(['c','d'])\n",
    "frame2\n",
    "```\n"
   ]
  },
  {
   "cell_type": "code",
   "metadata": {
    "id": "j4VZfURdeUUR",
    "colab": {
     "base_uri": "https://localhost:8080/",
     "height": 300
    },
    "outputId": "128d0357-42e8-4b51-fd44-d04bcd5954c6",
    "ExecuteTime": {
     "end_time": "2023-10-29T13:39:46.393352100Z",
     "start_time": "2023-10-29T13:39:46.314514200Z"
    }
   },
   "source": [
    "frame2 = frame.set_index(['c','d'])\n",
    "frame2"
   ],
   "execution_count": 90,
   "outputs": [
    {
     "data": {
      "text/plain": "       a  b\nc   d      \none 0  0  7\n    1  1  6\n    2  2  5\ntwo 0  3  4\n    1  4  3\n    2  5  2\n    3  6  1",
      "text/html": "<div>\n<style scoped>\n    .dataframe tbody tr th:only-of-type {\n        vertical-align: middle;\n    }\n\n    .dataframe tbody tr th {\n        vertical-align: top;\n    }\n\n    .dataframe thead th {\n        text-align: right;\n    }\n</style>\n<table border=\"1\" class=\"dataframe\">\n  <thead>\n    <tr style=\"text-align: right;\">\n      <th></th>\n      <th></th>\n      <th>a</th>\n      <th>b</th>\n    </tr>\n    <tr>\n      <th>c</th>\n      <th>d</th>\n      <th></th>\n      <th></th>\n    </tr>\n  </thead>\n  <tbody>\n    <tr>\n      <th rowspan=\"3\" valign=\"top\">one</th>\n      <th>0</th>\n      <td>0</td>\n      <td>7</td>\n    </tr>\n    <tr>\n      <th>1</th>\n      <td>1</td>\n      <td>6</td>\n    </tr>\n    <tr>\n      <th>2</th>\n      <td>2</td>\n      <td>5</td>\n    </tr>\n    <tr>\n      <th rowspan=\"4\" valign=\"top\">two</th>\n      <th>0</th>\n      <td>3</td>\n      <td>4</td>\n    </tr>\n    <tr>\n      <th>1</th>\n      <td>4</td>\n      <td>3</td>\n    </tr>\n    <tr>\n      <th>2</th>\n      <td>5</td>\n      <td>2</td>\n    </tr>\n    <tr>\n      <th>3</th>\n      <td>6</td>\n      <td>1</td>\n    </tr>\n  </tbody>\n</table>\n</div>"
     },
     "execution_count": 90,
     "metadata": {},
     "output_type": "execute_result"
    }
   ]
  },
  {
   "cell_type": "markdown",
   "metadata": {
    "id": "tcuHhjzdelgo"
   },
   "source": [
    "By default, the column is removed from the source data frame. However, if we do not want to remove the column, the `drop` parameter is passed\n",
    "```python\n",
    "frame.set_index(['c','d'],drop = False)\n",
    "```"
   ]
  },
  {
   "cell_type": "code",
   "metadata": {
    "id": "T0u7NOAzewY3",
    "colab": {
     "base_uri": "https://localhost:8080/",
     "height": 300
    },
    "outputId": "4df8e136-cf47-4423-bc5e-9932d4676340",
    "ExecuteTime": {
     "end_time": "2023-10-29T13:39:54.290446300Z",
     "start_time": "2023-10-29T13:39:54.211772900Z"
    }
   },
   "source": [
    "frame.set_index(['c','d'],drop = False)"
   ],
   "execution_count": 91,
   "outputs": [
    {
     "data": {
      "text/plain": "       a  b    c  d\nc   d              \none 0  0  7  one  0\n    1  1  6  one  1\n    2  2  5  one  2\ntwo 0  3  4  two  0\n    1  4  3  two  1\n    2  5  2  two  2\n    3  6  1  two  3",
      "text/html": "<div>\n<style scoped>\n    .dataframe tbody tr th:only-of-type {\n        vertical-align: middle;\n    }\n\n    .dataframe tbody tr th {\n        vertical-align: top;\n    }\n\n    .dataframe thead th {\n        text-align: right;\n    }\n</style>\n<table border=\"1\" class=\"dataframe\">\n  <thead>\n    <tr style=\"text-align: right;\">\n      <th></th>\n      <th></th>\n      <th>a</th>\n      <th>b</th>\n      <th>c</th>\n      <th>d</th>\n    </tr>\n    <tr>\n      <th>c</th>\n      <th>d</th>\n      <th></th>\n      <th></th>\n      <th></th>\n      <th></th>\n    </tr>\n  </thead>\n  <tbody>\n    <tr>\n      <th rowspan=\"3\" valign=\"top\">one</th>\n      <th>0</th>\n      <td>0</td>\n      <td>7</td>\n      <td>one</td>\n      <td>0</td>\n    </tr>\n    <tr>\n      <th>1</th>\n      <td>1</td>\n      <td>6</td>\n      <td>one</td>\n      <td>1</td>\n    </tr>\n    <tr>\n      <th>2</th>\n      <td>2</td>\n      <td>5</td>\n      <td>one</td>\n      <td>2</td>\n    </tr>\n    <tr>\n      <th rowspan=\"4\" valign=\"top\">two</th>\n      <th>0</th>\n      <td>3</td>\n      <td>4</td>\n      <td>two</td>\n      <td>0</td>\n    </tr>\n    <tr>\n      <th>1</th>\n      <td>4</td>\n      <td>3</td>\n      <td>two</td>\n      <td>1</td>\n    </tr>\n    <tr>\n      <th>2</th>\n      <td>5</td>\n      <td>2</td>\n      <td>two</td>\n      <td>2</td>\n    </tr>\n    <tr>\n      <th>3</th>\n      <td>6</td>\n      <td>1</td>\n      <td>two</td>\n      <td>3</td>\n    </tr>\n  </tbody>\n</table>\n</div>"
     },
     "execution_count": 91,
     "metadata": {},
     "output_type": "execute_result"
    }
   ]
  },
  {
   "cell_type": "markdown",
   "metadata": {
    "id": "tmjSFr8NHAgG"
   },
   "source": [
    "### Work\n",
    "\n",
    "\n",
    "\n",
    "From the given [./file/car_details.xlsx](./file/car_details.xlsx)\n",
    "\n",
    "provided the hierarchy data frame which carbrand, carmodel, and the model_name TH is a key indexes\n"
   ]
  },
  {
   "cell_type": "code",
   "execution_count": 112,
   "outputs": [
    {
     "data": {
      "text/plain": "      Table 1 Unnamed: 1 Unnamed: 2     Unnamed: 3             Unnamed: 4  \\\n0    serialNo  car_brand  car_model  model_name_th               nickname   \n1  IC-0000001       AUDI         Q5           คิว5        โฉมปี 2008-2016   \n2  IC-0000002        BMW   SERIES 5       ซีรี่ย์5  โฉมปี 2003-2010 (E60)   \n3  IC-0000003        BMW   SERIES 5       ซีรี่ย์5  โฉมปี 2010-2017 (F10)   \n4  JA-0000001        BMW   SERIES 5       ซีรี่ย์5  โฉมปี 2010-2017 (F10)   \n\n             Unnamed: 5      Unnamed: 6      Unnamed: 7  \n0             item_name  fitment_detail  standard_price  \n1  ไส้กรองน้ำมันเครื่อง               -             NaN  \n2  ไส้กรองน้ำมันเครื่อง               -             NaN  \n3  ไส้กรองน้ำมันเครื่อง               -             NaN  \n4            ใบปัดน้ำฝน               -             NaN  ",
      "text/html": "<div>\n<style scoped>\n    .dataframe tbody tr th:only-of-type {\n        vertical-align: middle;\n    }\n\n    .dataframe tbody tr th {\n        vertical-align: top;\n    }\n\n    .dataframe thead th {\n        text-align: right;\n    }\n</style>\n<table border=\"1\" class=\"dataframe\">\n  <thead>\n    <tr style=\"text-align: right;\">\n      <th></th>\n      <th>Table 1</th>\n      <th>Unnamed: 1</th>\n      <th>Unnamed: 2</th>\n      <th>Unnamed: 3</th>\n      <th>Unnamed: 4</th>\n      <th>Unnamed: 5</th>\n      <th>Unnamed: 6</th>\n      <th>Unnamed: 7</th>\n    </tr>\n  </thead>\n  <tbody>\n    <tr>\n      <th>0</th>\n      <td>serialNo</td>\n      <td>car_brand</td>\n      <td>car_model</td>\n      <td>model_name_th</td>\n      <td>nickname</td>\n      <td>item_name</td>\n      <td>fitment_detail</td>\n      <td>standard_price</td>\n    </tr>\n    <tr>\n      <th>1</th>\n      <td>IC-0000001</td>\n      <td>AUDI</td>\n      <td>Q5</td>\n      <td>คิว5</td>\n      <td>โฉมปี 2008-2016</td>\n      <td>ไส้กรองน้ำมันเครื่อง</td>\n      <td>-</td>\n      <td>NaN</td>\n    </tr>\n    <tr>\n      <th>2</th>\n      <td>IC-0000002</td>\n      <td>BMW</td>\n      <td>SERIES 5</td>\n      <td>ซีรี่ย์5</td>\n      <td>โฉมปี 2003-2010 (E60)</td>\n      <td>ไส้กรองน้ำมันเครื่อง</td>\n      <td>-</td>\n      <td>NaN</td>\n    </tr>\n    <tr>\n      <th>3</th>\n      <td>IC-0000003</td>\n      <td>BMW</td>\n      <td>SERIES 5</td>\n      <td>ซีรี่ย์5</td>\n      <td>โฉมปี 2010-2017 (F10)</td>\n      <td>ไส้กรองน้ำมันเครื่อง</td>\n      <td>-</td>\n      <td>NaN</td>\n    </tr>\n    <tr>\n      <th>4</th>\n      <td>JA-0000001</td>\n      <td>BMW</td>\n      <td>SERIES 5</td>\n      <td>ซีรี่ย์5</td>\n      <td>โฉมปี 2010-2017 (F10)</td>\n      <td>ใบปัดน้ำฝน</td>\n      <td>-</td>\n      <td>NaN</td>\n    </tr>\n  </tbody>\n</table>\n</div>"
     },
     "execution_count": 112,
     "metadata": {},
     "output_type": "execute_result"
    }
   ],
   "source": [
    "import pandas as pd\n",
    "\n",
    "excel_path = 'C:/Users/Dell/Desktop/LectureNote/LectureNote_660632028/07. Data Cleansing/file/cardetails.xlsx'\n",
    "df = pd.read_excel(excel_path)\n",
    "\n",
    "df.head()"
   ],
   "metadata": {
    "collapsed": false,
    "ExecuteTime": {
     "end_time": "2023-10-31T09:35:06.775184900Z",
     "start_time": "2023-10-31T09:35:02.799663100Z"
    }
   }
  },
  {
   "cell_type": "code",
   "execution_count": 113,
   "outputs": [
    {
     "data": {
      "text/plain": "                                     serialNo               nickname  \\\ncar_brand car_model model_name_th                                      \nAUDI      Q5        คิว5           IC-0000001        โฉมปี 2008-2016   \nBMW       SERIES 5  ซีรี่ย์5       IC-0000002  โฉมปี 2003-2010 (E60)   \n                    ซีรี่ย์5       IC-0000003  โฉมปี 2010-2017 (F10)   \n                    ซีรี่ย์5       JA-0000001  โฉมปี 2010-2017 (F10)   \n          X1        เอ็กซ์1        IC-0000006  โฉมปี 2009-2015 (E84)   \n\n                                              item_name fitment_detail  \\\ncar_brand car_model model_name_th                                        \nAUDI      Q5        คิว5           ไส้กรองน้ำมันเครื่อง              -   \nBMW       SERIES 5  ซีรี่ย์5       ไส้กรองน้ำมันเครื่อง              -   \n                    ซีรี่ย์5       ไส้กรองน้ำมันเครื่อง              -   \n                    ซีรี่ย์5                 ใบปัดน้ำฝน              -   \n          X1        เอ็กซ์1        ไส้กรองน้ำมันเครื่อง              -   \n\n                                  standard_price  \ncar_brand car_model model_name_th                 \nAUDI      Q5        คิว5                     NaN  \nBMW       SERIES 5  ซีรี่ย์5                 NaN  \n                    ซีรี่ย์5                 NaN  \n                    ซีรี่ย์5                 NaN  \n          X1        เอ็กซ์1                  NaN  ",
      "text/html": "<div>\n<style scoped>\n    .dataframe tbody tr th:only-of-type {\n        vertical-align: middle;\n    }\n\n    .dataframe tbody tr th {\n        vertical-align: top;\n    }\n\n    .dataframe thead th {\n        text-align: right;\n    }\n</style>\n<table border=\"1\" class=\"dataframe\">\n  <thead>\n    <tr style=\"text-align: right;\">\n      <th></th>\n      <th></th>\n      <th></th>\n      <th>serialNo</th>\n      <th>nickname</th>\n      <th>item_name</th>\n      <th>fitment_detail</th>\n      <th>standard_price</th>\n    </tr>\n    <tr>\n      <th>car_brand</th>\n      <th>car_model</th>\n      <th>model_name_th</th>\n      <th></th>\n      <th></th>\n      <th></th>\n      <th></th>\n      <th></th>\n    </tr>\n  </thead>\n  <tbody>\n    <tr>\n      <th>AUDI</th>\n      <th>Q5</th>\n      <th>คิว5</th>\n      <td>IC-0000001</td>\n      <td>โฉมปี 2008-2016</td>\n      <td>ไส้กรองน้ำมันเครื่อง</td>\n      <td>-</td>\n      <td>NaN</td>\n    </tr>\n    <tr>\n      <th rowspan=\"4\" valign=\"top\">BMW</th>\n      <th rowspan=\"3\" valign=\"top\">SERIES 5</th>\n      <th>ซีรี่ย์5</th>\n      <td>IC-0000002</td>\n      <td>โฉมปี 2003-2010 (E60)</td>\n      <td>ไส้กรองน้ำมันเครื่อง</td>\n      <td>-</td>\n      <td>NaN</td>\n    </tr>\n    <tr>\n      <th>ซีรี่ย์5</th>\n      <td>IC-0000003</td>\n      <td>โฉมปี 2010-2017 (F10)</td>\n      <td>ไส้กรองน้ำมันเครื่อง</td>\n      <td>-</td>\n      <td>NaN</td>\n    </tr>\n    <tr>\n      <th>ซีรี่ย์5</th>\n      <td>JA-0000001</td>\n      <td>โฉมปี 2010-2017 (F10)</td>\n      <td>ใบปัดน้ำฝน</td>\n      <td>-</td>\n      <td>NaN</td>\n    </tr>\n    <tr>\n      <th>X1</th>\n      <th>เอ็กซ์1</th>\n      <td>IC-0000006</td>\n      <td>โฉมปี 2009-2015 (E84)</td>\n      <td>ไส้กรองน้ำมันเครื่อง</td>\n      <td>-</td>\n      <td>NaN</td>\n    </tr>\n  </tbody>\n</table>\n</div>"
     },
     "execution_count": 113,
     "metadata": {},
     "output_type": "execute_result"
    }
   ],
   "source": [
    "df = pd.read_excel(excel_path, header=1)\n",
    "\n",
    "df.set_index(['car_brand', 'car_model', 'model_name_th'], inplace=True)\n",
    "\n",
    "df.head()"
   ],
   "metadata": {
    "collapsed": false,
    "ExecuteTime": {
     "end_time": "2023-10-31T09:35:52.623470100Z",
     "start_time": "2023-10-31T09:35:50.769007200Z"
    }
   }
  },
  {
   "cell_type": "markdown",
   "metadata": {
    "id": "UYP5XkAjKuDe"
   },
   "source": [
    "Then try to find the average standard price for  each car brand, ignore the `NA` value"
   ]
  },
  {
   "cell_type": "code",
   "metadata": {
    "id": "Vdg-7jkhK1vG",
    "colab": {
     "base_uri": "https://localhost:8080/",
     "height": 535
    },
    "outputId": "f86812ac-6856-48ed-d5cc-fada58fcc262",
    "ExecuteTime": {
     "end_time": "2023-10-31T09:37:17.523852500Z",
     "start_time": "2023-10-31T09:37:17.380771300Z"
    }
   },
   "source": [
    "df['standard_price'] = pd.to_numeric(df['standard_price'], errors='coerce')\n",
    "\n",
    "average_standard_price = df['standard_price'].groupby('car_brand').mean()\n",
    "\n",
    "average_standard_price"
   ],
   "execution_count": 114,
   "outputs": [
    {
     "data": {
      "text/plain": "car_brand\nAUDI                  NaN\nBMW           1400.000000\nCHEVROLET      912.181208\nFORD           829.821429\nHONDA          852.875000\n                 ...     \nSUBARU        1525.000000\nSUZUKI         684.418605\nTOYOTA         827.225443\nVOLKSWAGEN    1436.666667\nVOLVO                 NaN\nName: standard_price, Length: 21, dtype: float64"
     },
     "execution_count": 114,
     "metadata": {},
     "output_type": "execute_result"
    }
   ]
  },
  {
   "cell_type": "code",
   "execution_count": null,
   "outputs": [],
   "source": [],
   "metadata": {
    "collapsed": false
   }
  }
 ]
}
