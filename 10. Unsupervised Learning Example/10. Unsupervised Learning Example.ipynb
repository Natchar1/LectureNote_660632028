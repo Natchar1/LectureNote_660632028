{
 "nbformat": 4,
 "nbformat_minor": 0,
 "metadata": {
  "colab": {
   "provenance": []
  },
  "kernelspec": {
   "name": "python3",
   "language": "python",
   "display_name": "Python 3 (ipykernel)"
  }
 },
 "cells": [
  {
   "cell_type": "markdown",
   "source": [
    "# The example of unsupervise learning\n",
    "# K-Means Clustering"
   ],
   "metadata": {
    "collapsed": false
   }
  },
  {
   "cell_type": "markdown",
   "metadata": {
    "id": "z6daDgIVO519"
   },
   "source": [
    "search for a predetermined number of clusters within an unlabeled multidimensional dataset\n",
    "\n",
    "The concept is to create\n",
    "\n",
    "\n",
    "*   **Cluster center** - the aristhmetic mean of all the points belonging to the cluster\n",
    "*   Each point is closer to its own cluster center than other cluster center\n",
    "\n",
    "let generate a two-dimensional dataset containg 4 distinct blobs\n",
    "\n"
   ]
  },
  {
   "cell_type": "code",
   "metadata": {
    "id": "m9AzAfkZTYR9",
    "colab": {
     "base_uri": "https://localhost:8080/",
     "height": 265
    },
    "outputId": "81f5ee33-5a5e-4bce-e568-3d052c1e3e43"
   },
   "source": [
    "from sklearn.datasets import make_blobs\n",
    "import matplotlib.pyplot as plt\n",
    "\n",
    "X, y_true = make_blobs(n_samples=300, centers=4,\n",
    "cluster_std=0.60, random_state=0)\n",
    "plt.scatter(X[:, 0], X[:, 1], s=50);"
   ],
   "execution_count": null,
   "outputs": []
  },
  {
   "cell_type": "markdown",
   "metadata": {
    "id": "CKGijRvTToFW"
   },
   "source": [
    "By eye, we can see four clusters easily. Using the Scikit-Learn to use the `k-mean` algorithm as given"
   ]
  },
  {
   "cell_type": "code",
   "metadata": {
    "id": "lLR3naeeTsxk"
   },
   "source": [
    "from sklearn.cluster import KMeans\n",
    "kmeans = KMeans(n_clusters=4,n_init=10)\n",
    "kmeans.fit(X)\n",
    "y_kmeans = kmeans.predict(X)"
   ],
   "execution_count": null,
   "outputs": []
  },
  {
   "cell_type": "markdown",
   "metadata": {
    "id": "TuIjp5GcTy-M"
   },
   "source": [
    "Then we plot the output using the `c=y_means` to show the group that has been test\n"
   ]
  },
  {
   "cell_type": "code",
   "metadata": {
    "id": "1IV69lgkUCZ3",
    "colab": {
     "base_uri": "https://localhost:8080/",
     "height": 265
    },
    "outputId": "ef496bb9-8278-4b28-a7a6-c5326a734fcf"
   },
   "source": [
    "plt.scatter(X[:, 0], X[:, 1], c=y_kmeans, s=50, cmap='viridis')\n",
    "centers = kmeans.cluster_centers_\n",
    "plt.scatter(centers[:, 0], centers[:, 1], c='black', s=200, alpha=0.5);"
   ],
   "execution_count": null,
   "outputs": []
  },
  {
   "cell_type": "markdown",
   "metadata": {
    "id": "xoGoWraxUOIo"
   },
   "source": [
    "`centers` holds the *cluster center* of each cluster"
   ]
  },
  {
   "cell_type": "markdown",
   "metadata": {
    "id": "fbvGT6xaUssi"
   },
   "source": [
    "There are some issues using the K-means such as\n",
    "\n",
    "\n",
    "*   The number of clusters must be selected before hand\n",
    "    \n",
    "    the programmer need to specified the number of cluster before hand\n",
    "*   K-mean is limited to linear cluster boundaries\n",
    "\n",
    "try this ploting\n",
    "\n",
    "\n"
   ]
  },
  {
   "cell_type": "code",
   "metadata": {
    "id": "eZ52__pVTh9G",
    "colab": {
     "base_uri": "https://localhost:8080/",
     "height": 265
    },
    "outputId": "89a66b72-d95b-482f-f036-3a9d960822a7"
   },
   "source": [
    "from sklearn.datasets import make_moons\n",
    "X, y = make_moons(200, noise=.05, random_state=0)\n",
    "labels = KMeans(2, random_state=0,n_init=10).fit_predict(X)\n",
    "plt.scatter(X[:, 0], X[:, 1], c=labels,\n",
    "s=50, cmap='viridis');"
   ],
   "execution_count": null,
   "outputs": []
  },
  {
   "cell_type": "code",
   "source": [
    "labels"
   ],
   "metadata": {
    "colab": {
     "base_uri": "https://localhost:8080/"
    },
    "id": "z2hy0dx4AXVt",
    "outputId": "2f2a6456-1769-4349-9504-03be4ef09a31"
   },
   "execution_count": null,
   "outputs": []
  },
  {
   "cell_type": "markdown",
   "metadata": {
    "id": "nn28S6OnVvzT"
   },
   "source": [
    "The linear graph is used to finding the separation\n",
    "\n",
    "we can used the other techniques to classified the output as given"
   ]
  },
  {
   "cell_type": "code",
   "metadata": {
    "id": "L-0245C7WAVn",
    "colab": {
     "base_uri": "https://localhost:8080/",
     "height": 320
    },
    "outputId": "69dc1f36-e323-44ae-954c-cf3b0a377d0f"
   },
   "source": [
    "from sklearn.cluster import SpectralClustering\n",
    "model = SpectralClustering(n_clusters=2,affinity='nearest_neighbors',\n",
    "        assign_labels='kmeans')\n",
    "labels = model.fit_predict(X)\n",
    "plt.scatter(X[:, 0], X[:, 1], c=labels,s=50, cmap='viridis');"
   ],
   "execution_count": null,
   "outputs": []
  }
 ]
}
