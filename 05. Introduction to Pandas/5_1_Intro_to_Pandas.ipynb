{
 "cells": [
  {
   "cell_type": "markdown",
   "metadata": {
    "id": "T-wH8n0N5w4U"
   },
   "source": [
    "# Python Library for Data Science\n",
    "\n",
    "There are many popular Python toolboxes/libraries:\n",
    "* Numpy\n",
    "* Scipy\n",
    "* Pandas\n",
    "* SciKit-Learn\n",
    "\n",
    "Visualization library\n",
    "* Matplotlib\n",
    "* Seabord"
   ]
  },
  {
   "cell_type": "markdown",
   "metadata": {
    "id": "aYtc6d_F6CqH"
   },
   "source": [
    "## Numpy\n",
    "\n",
    "\n",
    "* introduces objects for multidimensional arrays and matrices, as well as functions that allow to easily perform advanced mathematical and statistical operations on those objects\n",
    "* provides vectorization of mathematical operations on arrays and matrices which significantly improves the performance\n",
    "* many other python libraries are built on NumPy\n"
   ]
  },
  {
   "cell_type": "markdown",
   "metadata": {
    "id": "sy2bIGxq6i_J"
   },
   "source": [
    "## SciPy\n",
    "\n",
    "* collection of algorithms for linear algebra, differential equations, numerical integration, optimization, statistics and more\n",
    "* built on NumPy\n"
   ]
  },
  {
   "cell_type": "markdown",
   "metadata": {
    "id": "McPwyfU46qt2"
   },
   "source": [
    "## Pandas\n",
    "\n",
    "* adds data structures and tools designed to work with table-like data (similar to Series and Data Frames in R)\n",
    "* provides tools for data manipulation: reshaping, merging, sorting, slicing, aggregation etc.\n",
    "* allows handling missing data"
   ]
  },
  {
   "cell_type": "markdown",
   "metadata": {
    "id": "iq9W6mNT6zMe"
   },
   "source": [
    "## SciKit-Learn\n",
    "* provides machine learning algorithms: classification, regression, clustering, model validation etc.\n",
    "* built on NumPy, SciPy and matplotlib"
   ]
  },
  {
   "cell_type": "markdown",
   "metadata": {
    "id": "77eU6pgl7D9c"
   },
   "source": [
    "## matplotlib\n",
    "\n",
    "* python 2D plotting library which produces publication quality figures in a variety of hardcopy formats\n",
    "* a set of functionalities similar to those of MATLAB\n",
    "* line plots, scatter plots, barcharts, histograms, pie charts etc.\n",
    "* relatively low-level; some effort needed to create advanced visualization\n",
    "\n",
    "\n"
   ]
  },
  {
   "cell_type": "markdown",
   "metadata": {
    "id": "7H1kH2rr7OSL"
   },
   "source": [
    "## Seaborn"
   ]
  },
  {
   "cell_type": "markdown",
   "metadata": {
    "id": "n0pxIrbH7Pxa"
   },
   "source": [
    "* based on matplotlib\n",
    "* provides high level interface for drawing attractive statistical graphics\n",
    "* Similar (in style) to the popular ggplot2 library in R\n"
   ]
  },
  {
   "cell_type": "markdown",
   "metadata": {
    "id": "QMfaHYYm7WRJ"
   },
   "source": [
    "# Pandas\n",
    "\n",
    "* Open-source\n",
    "* High-performance\n",
    "* Easy to use data structure\n",
    "* Data analysis tools\n",
    "* The Data like Excel\n"
   ]
  },
  {
   "cell_type": "markdown",
   "metadata": {
    "id": "Jv9sb2dG7f70"
   },
   "source": [
    "## What Pandas can do\n",
    "\n",
    "* Modeling the data\n",
    "* Create the data frame\n",
    "* Series\n",
    " - One-dimension array\n",
    " - Similar to the Numpy arrays\n"
   ]
  },
  {
   "cell_type": "markdown",
   "metadata": {
    "id": "1XcqFXk978h9"
   },
   "source": [
    "## Pandas - Data Frame\n",
    "\n",
    "* Data frame\n",
    "  * The spreadsheet like\n",
    "* Using to prepare data\n",
    "  * For data manipulation"
   ]
  },
  {
   "cell_type": "markdown",
   "metadata": {
    "id": "dXNCiarO8FBc"
   },
   "source": [
    "## Data Frame data types\n",
    "![image-20230806153235679](./assets/image-20230806153235679.png)"
   ]
  },
  {
   "cell_type": "markdown",
   "metadata": {
    "id": "L0X4ol7V8N8g"
   },
   "source": [
    "## Data Frame attribute\n",
    "Python objects have *attributes* and *methods*\n",
    "![image-20230806153331618](./assets/image-20230806153331618.png)\n"
   ]
  },
  {
   "cell_type": "markdown",
   "metadata": {
    "id": "3winqquQlMmf"
   },
   "source": [
    "# Importing the module\n",
    "\n",
    "import the Pandas package\n",
    "```python\n",
    "import pandas as pd\n",
    "import numpy as np\n",
    "```"
   ]
  },
  {
   "cell_type": "code",
   "execution_count": null,
   "metadata": {},
   "outputs": [],
   "source": []
  },
  {
   "cell_type": "code",
   "execution_count": null,
   "metadata": {
    "id": "gsyVItfpmWXx"
   },
   "outputs": [],
   "source": [
    "#Import Python Libraries"
   ]
  },
  {
   "cell_type": "markdown",
   "metadata": {
    "id": "IQburQsPmsCu"
   },
   "source": [
    "# Data Structure - Series\n",
    "\n",
    "**Series** (1d homogeneous array)\n",
    "\n",
    "Similar to the NumPy data type"
   ]
  },
  {
   "cell_type": "markdown",
   "metadata": {
    "id": "0lF42ePbnv7R"
   },
   "source": [
    "The simple array can be created as given\n"
   ]
  },
  {
   "cell_type": "markdown",
   "metadata": {
    "id": "PCrl6V00-mjM"
   },
   "source": [
    "```python\n",
    "obj = ([4,7,-5,3])\n",
    "obj\n",
    "```"
   ]
  },
  {
   "cell_type": "code",
   "execution_count": null,
   "metadata": {
    "colab": {
     "base_uri": "https://localhost:8080/"
    },
    "id": "L3vEcXSMnSax",
    "outputId": "9ce90a85-6c3e-4a93-92ec-0cdf981d9b34"
   },
   "outputs": [],
   "source": []
  },
  {
   "cell_type": "markdown",
   "metadata": {
    "id": "kXHtHAaGn0bW"
   },
   "source": [
    "The Series in Pandas can created"
   ]
  },
  {
   "cell_type": "markdown",
   "metadata": {
    "id": "8PXw5tcR-sRr"
   },
   "source": [
    "```python\n",
    "obj = pd.Series([4,7,-5,3])\n",
    "obj\n",
    "```"
   ]
  },
  {
   "cell_type": "code",
   "execution_count": null,
   "metadata": {
    "colab": {
     "base_uri": "https://localhost:8080/"
    },
    "id": "KeB29bBhnbnD",
    "outputId": "5e7a7b03-b125-4edc-c34b-5b1f5264fe93"
   },
   "outputs": [],
   "source": []
  },
  {
   "cell_type": "markdown",
   "metadata": {
    "id": "DmFGxn_Vn8IB"
   },
   "source": [
    "Normally the index is added automatically (The index 0-3 is shown in the previous sesion)\n",
    "The index, and value can be shown as given"
   ]
  },
  {
   "cell_type": "markdown",
   "metadata": {
    "id": "H9A_ljht-wHT"
   },
   "source": [
    "```python\n",
    "obj.values\n",
    "```\n"
   ]
  },
  {
   "cell_type": "code",
   "execution_count": null,
   "metadata": {
    "colab": {
     "base_uri": "https://localhost:8080/"
    },
    "id": "lNXFocVKn7iz",
    "outputId": "d458866a-9982-432a-b94f-750a6080d3de"
   },
   "outputs": [],
   "source": []
  },
  {
   "cell_type": "markdown",
   "metadata": {
    "id": "gO96l-31-zGt"
   },
   "source": [
    "```python\n",
    "obj.index\n",
    "```"
   ]
  },
  {
   "cell_type": "code",
   "execution_count": null,
   "metadata": {
    "colab": {
     "base_uri": "https://localhost:8080/"
    },
    "id": "C0sB5UlgoPG5",
    "outputId": "96c36d14-106e-4bc4-9a01-7b450a7a9e4c"
   },
   "outputs": [],
   "source": []
  },
  {
   "cell_type": "markdown",
   "metadata": {
    "id": "-39b39YxsJ5N"
   },
   "source": [
    "The index can be created to refer to each data"
   ]
  },
  {
   "cell_type": "markdown",
   "metadata": {
    "id": "NbflEtiE-4l8"
   },
   "source": [
    "```python\n",
    "obj2 = pd.Series([4,7,-5,3],index=['d','b','a','c'])\n",
    "obj2\n",
    "```"
   ]
  },
  {
   "cell_type": "code",
   "execution_count": null,
   "metadata": {
    "colab": {
     "base_uri": "https://localhost:8080/"
    },
    "id": "X1hP2Mi5sJhY",
    "outputId": "506e75cf-8886-425e-ffda-8bdae37ed716"
   },
   "outputs": [],
   "source": []
  },
  {
   "cell_type": "markdown",
   "metadata": {
    "id": "D24pxQPRsgD2"
   },
   "source": [
    "Then we can check all indexs and value using the values, and indexs data\n",
    "```python\n",
    "obj2.values\n",
    "```"
   ]
  },
  {
   "cell_type": "markdown",
   "metadata": {
    "id": "0hQTtwuB-7sR"
   },
   "source": []
  },
  {
   "cell_type": "code",
   "execution_count": null,
   "metadata": {
    "colab": {
     "base_uri": "https://localhost:8080/"
    },
    "id": "QqbnR6hKsl64",
    "outputId": "c07ddd10-0b31-45c8-d774-294c3d1e83d6"
   },
   "outputs": [],
   "source": []
  },
  {
   "cell_type": "markdown",
   "metadata": {
    "id": "g2MQZo4e-_cq"
   },
   "source": [
    "```python\n",
    "obj2.index\n",
    "```"
   ]
  },
  {
   "cell_type": "code",
   "execution_count": null,
   "metadata": {
    "colab": {
     "base_uri": "https://localhost:8080/"
    },
    "id": "mxPPVByGsojC",
    "outputId": "f49b5d8a-819e-4579-a2fb-9b8fa3e7e0df"
   },
   "outputs": [],
   "source": []
  },
  {
   "cell_type": "markdown",
   "metadata": {
    "id": "g2iy5V_bstT9"
   },
   "source": [
    "To get some data, we can slice the data from the series using index, or index"
   ]
  },
  {
   "cell_type": "markdown",
   "metadata": {
    "id": "Mqvwf-qp_CSv"
   },
   "source": [
    "```python\n",
    "obj2['a']\n",
    "```"
   ]
  },
  {
   "cell_type": "code",
   "execution_count": null,
   "metadata": {
    "colab": {
     "base_uri": "https://localhost:8080/"
    },
    "id": "aNxAXqcIsw8m",
    "outputId": "aa37197c-e485-4fd4-9161-4e0bef8e3e58"
   },
   "outputs": [],
   "source": []
  },
  {
   "cell_type": "markdown",
   "metadata": {
    "id": "pT5yeLKW_Cun"
   },
   "source": [
    "```python\n",
    "obj2[['b','c']]\n",
    "```"
   ]
  },
  {
   "cell_type": "code",
   "execution_count": null,
   "metadata": {
    "colab": {
     "base_uri": "https://localhost:8080/"
    },
    "id": "kydI-K0ks46I",
    "outputId": "d7491ddc-c0fe-40b6-9164-2273b389c809"
   },
   "outputs": [],
   "source": []
  },
  {
   "cell_type": "markdown",
   "metadata": {
    "id": "2GHiX4FJtAmL"
   },
   "source": [
    "We can also use the dict data structure to a series"
   ]
  },
  {
   "cell_type": "markdown",
   "metadata": {
    "id": "gnSoCI8J_LUg"
   },
   "source": [
    "```python\n",
    "sdata = {'Ohio':3500, 'Texas':71000,'Oregon':16000, 'Utah':5000}\n",
    "obj3 = pd.Series(sdata)\n",
    "obj3\n",
    "```"
   ]
  },
  {
   "cell_type": "code",
   "execution_count": null,
   "metadata": {
    "colab": {
     "base_uri": "https://localhost:8080/"
    },
    "id": "zT3ZD3NDtAW0",
    "outputId": "a22e651f-5e3e-4b49-9652-ee4849c244fb"
   },
   "outputs": [],
   "source": []
  },
  {
   "cell_type": "markdown",
   "metadata": {
    "id": "D1Q6AMS3t2Es"
   },
   "source": [
    "When input the index parameter, only the value that match the index will be shown"
   ]
  },
  {
   "cell_type": "markdown",
   "metadata": {
    "id": "rZrsEUWg_OV6"
   },
   "source": [
    "```python\n",
    "states = ['California','Ohio','Oregon','Texas']\n",
    "obj4 = pd.Series(sdata,index = states)\n",
    "obj4\n",
    "```"
   ]
  },
  {
   "cell_type": "code",
   "execution_count": null,
   "metadata": {
    "colab": {
     "base_uri": "https://localhost:8080/"
    },
    "id": "gjgrB6Byt1v6",
    "outputId": "fe0e32e9-ef7a-403d-9c07-10f9dc34ebad"
   },
   "outputs": [],
   "source": []
  },
  {
   "cell_type": "markdown",
   "metadata": {
    "id": "lyQa7RAO0T8M"
   },
   "source": [
    "`Nan` is the data that does not provide the data for the index"
   ]
  },
  {
   "cell_type": "markdown",
   "metadata": {},
   "source": [
    "We can filter the data by adding the boolean in the index\n",
    "```python\n",
    "obj4[obj4<20000]\n",
    "```"
   ]
  },
  {
   "cell_type": "code",
   "execution_count": null,
   "metadata": {
    "colab": {
     "base_uri": "https://localhost:8080/"
    },
    "id": "emvMDSz_L280",
    "outputId": "a41cca80-9e7e-4862-f3b1-586ec6f65123"
   },
   "outputs": [],
   "source": []
  },
  {
   "cell_type": "markdown",
   "metadata": {},
   "source": [
    "To get the name of index use index data\n",
    "```python\n",
    "obj4[obj4 <20000].index\n",
    "```"
   ]
  },
  {
   "cell_type": "code",
   "execution_count": null,
   "metadata": {
    "colab": {
     "base_uri": "https://localhost:8080/"
    },
    "id": "lSbfb6y6QHww",
    "outputId": "09cd08d6-7a17-46cf-992e-4fe813cd3b36"
   },
   "outputs": [],
   "source": []
  },
  {
   "cell_type": "markdown",
   "metadata": {
    "id": "ap6Ah3H00ZW-"
   },
   "source": [
    "## Task Data Structure - Series Hand-ons\n",
    "create a series of students using the student id as an index, and the name as the first values. The name and student id is given\n"
   ]
  },
  {
   "cell_type": "markdown",
   "metadata": {
    "id": "Yt2SxJYp_Sx0"
   },
   "source": [
    "![image-20230806154629050](./assets/image-20230806154629050.png)"
   ]
  },
  {
   "cell_type": "code",
   "execution_count": null,
   "metadata": {
    "id": "QgFSQpah07nt"
   },
   "outputs": [],
   "source": []
  },
  {
   "cell_type": "markdown",
   "metadata": {
    "id": "r3pZbGLt1GDw"
   },
   "source": [
    "# Data Structure - Dataframe\n",
    "\n",
    "The tubular, spreedsheet-like data structure.\n",
    "\n",
    "contains and ordered collection of columns\n",
    "\n",
    "Can be though as a Dict of series\n",
    "\n",
    "The data frame is used to manipulate the data, and we can extract the output of the data science modules by extracting the value in the Daaframe\n",
    "we can try to create the data frame as given"
   ]
  },
  {
   "cell_type": "markdown",
   "metadata": {
    "id": "OElDcW8YARD7"
   },
   "source": [
    "```python\n",
    "data = {'state':['Ohio','Ohio','Ohio','Nevada','Nevada'],\n",
    "        'year' :[2000  ,2001  ,2002  ,2001    ,2002],\n",
    "        'pop'  :[1.5   ,1.7   ,3.6   ,2.4     ,2.9]}\n",
    "frame = pd.DataFrame(data)\n",
    "frame\n",
    "```"
   ]
  },
  {
   "cell_type": "code",
   "execution_count": null,
   "metadata": {
    "colab": {
     "base_uri": "https://localhost:8080/",
     "height": 206
    },
    "id": "Aef9u1Ii2Tmb",
    "outputId": "1d106cd2-f3b8-4222-aeec-0b1777a7feae"
   },
   "outputs": [],
   "source": []
  },
  {
   "cell_type": "markdown",
   "metadata": {
    "id": "G3H5CU8a2ubv"
   },
   "source": [
    "We can also arrange the column using the columns parameter"
   ]
  },
  {
   "cell_type": "markdown",
   "metadata": {
    "id": "bY3KUAySAUHK"
   },
   "source": [
    "```python\n",
    "frame2 = pd.DataFrame(data, columns=['year','state','pop'])\n",
    "frame2\n",
    "```"
   ]
  },
  {
   "cell_type": "code",
   "execution_count": null,
   "metadata": {
    "colab": {
     "base_uri": "https://localhost:8080/",
     "height": 206
    },
    "id": "gyfHsAcg29fw",
    "outputId": "921cd956-5f2c-4f92-ab34-dd1427db2882"
   },
   "outputs": [],
   "source": []
  },
  {
   "cell_type": "markdown",
   "metadata": {
    "id": "95GerYi43Noq"
   },
   "source": [
    "The index can be set, and the column which is not in the data is also shown as Nan"
   ]
  },
  {
   "cell_type": "markdown",
   "metadata": {
    "id": "LP4i11ohAXiP"
   },
   "source": [
    "```python\n",
    "frame2 = pd.DataFrame(data, columns=['year','state','pop','debt'],\n",
    "                      index=['one','two','three','four','five'])\n",
    "frame2\n",
    "```\n"
   ]
  },
  {
   "cell_type": "code",
   "execution_count": null,
   "metadata": {
    "colab": {
     "base_uri": "https://localhost:8080/",
     "height": 206
    },
    "id": "EVsr_-_O3NRz",
    "outputId": "04f00311-fd72-46ec-ea34-a801b3a02616"
   },
   "outputs": [],
   "source": [
    "\n"
   ]
  },
  {
   "cell_type": "markdown",
   "metadata": {
    "id": "dYAce0st3lSl"
   },
   "source": [
    "We can extract data regarding to the columns as given"
   ]
  },
  {
   "cell_type": "markdown",
   "metadata": {
    "id": "jOsoj8ZbAdmn"
   },
   "source": [
    "```python\n",
    "frame2['state']\n",
    "```"
   ]
  },
  {
   "cell_type": "code",
   "execution_count": null,
   "metadata": {
    "colab": {
     "base_uri": "https://localhost:8080/"
    },
    "id": "cgRrQZe23svw",
    "outputId": "79857d71-0a36-4242-f481-ea3c72fb8210"
   },
   "outputs": [],
   "source": []
  },
  {
   "cell_type": "markdown",
   "metadata": {
    "id": "6oVe1t1-AgP7"
   },
   "source": [
    "```python\n",
    "frame2.year\n",
    "```"
   ]
  },
  {
   "cell_type": "code",
   "execution_count": null,
   "metadata": {
    "colab": {
     "base_uri": "https://localhost:8080/"
    },
    "id": "3YuLz1eG3wNS",
    "outputId": "dec6e335-d637-4181-c68a-6187c5ce3b74"
   },
   "outputs": [],
   "source": []
  },
  {
   "cell_type": "markdown",
   "metadata": {
    "id": "pkQauySJ33AF"
   },
   "source": [
    "we can get the data from each index using `loc` methods"
   ]
  },
  {
   "cell_type": "markdown",
   "metadata": {
    "id": "KYqyHL6TAiwB"
   },
   "source": [
    "```python\n",
    "frame2.loc['three']\n",
    "```"
   ]
  },
  {
   "cell_type": "code",
   "execution_count": null,
   "metadata": {
    "colab": {
     "base_uri": "https://localhost:8080/",
     "height": 105
    },
    "id": "4lNEtyOl32pt",
    "outputId": "f95108f5-3dff-4672-9deb-7d2c5d68a0c1"
   },
   "outputs": [],
   "source": []
  },
  {
   "cell_type": "markdown",
   "metadata": {
    "id": "rq4X3mqY4zoI"
   },
   "source": [
    "We can assign the data to each column using the scalar data, or list"
   ]
  },
  {
   "cell_type": "markdown",
   "metadata": {
    "id": "XzqoSSdTAlG_"
   },
   "source": [
    "```python\n",
    "frame2['debt'] = 16.5\n",
    "frame2\n",
    "```"
   ]
  },
  {
   "cell_type": "code",
   "execution_count": null,
   "metadata": {
    "colab": {
     "base_uri": "https://localhost:8080/",
     "height": 206
    },
    "id": "0vKWSIam5C5e",
    "outputId": "c6a75edd-3c7b-481f-87ff-00e7f625c333"
   },
   "outputs": [],
   "source": []
  },
  {
   "cell_type": "markdown",
   "metadata": {
    "id": "J4nWdsVNApOw"
   },
   "source": [
    "```python\n",
    "frame2['debt'] = np.arange(5)\n",
    "frame2\n",
    "```"
   ]
  },
  {
   "cell_type": "code",
   "execution_count": null,
   "metadata": {
    "colab": {
     "base_uri": "https://localhost:8080/"
    },
    "id": "37lQtMXLYBnv",
    "outputId": "16ee90e8-5120-470a-a0a4-c8f2e17082e5"
   },
   "outputs": [],
   "source": []
  },
  {
   "cell_type": "code",
   "execution_count": null,
   "metadata": {
    "colab": {
     "base_uri": "https://localhost:8080/",
     "height": 206
    },
    "id": "3e8vT65b5HAX",
    "outputId": "b947b41c-6383-420d-d493-9890a314feca"
   },
   "outputs": [],
   "source": []
  },
  {
   "cell_type": "markdown",
   "metadata": {
    "id": "XX3z-6vj5ZZ3"
   },
   "source": [
    "Or we can add the series as the missing column"
   ]
  },
  {
   "cell_type": "markdown",
   "metadata": {
    "id": "phsQQEPAAwuH"
   },
   "source": [
    "```python\n",
    "val = pd.Series([-1.2,-1.5,-1.7],index=['two','four','five'])\n",
    "frame2['debt'] = val\n",
    "frame2\n",
    "```"
   ]
  },
  {
   "cell_type": "code",
   "execution_count": null,
   "outputs": [],
   "source": [],
   "metadata": {
    "collapsed": false
   }
  },
  {
   "cell_type": "markdown",
   "source": [
    "```python\n",
    "frame.describe()\n",
    "```"
   ],
   "metadata": {
    "collapsed": false
   }
  },
  {
   "cell_type": "code",
   "execution_count": null,
   "metadata": {
    "colab": {
     "base_uri": "https://localhost:8080/"
    },
    "id": "-Z0S5V3fYW4p",
    "outputId": "7bd634ed-bcd0-4aaa-bc91-e540cfd6c8e8"
   },
   "outputs": [],
   "source": []
  },
  {
   "cell_type": "code",
   "execution_count": null,
   "metadata": {
    "colab": {
     "base_uri": "https://localhost:8080/",
     "height": 206
    },
    "id": "tBLOuzKY5ZL4",
    "outputId": "0c67c6a5-ab7a-4b79-c91e-5c66671ee2aa"
   },
   "outputs": [],
   "source": []
  },
  {
   "cell_type": "markdown",
   "metadata": {
    "id": "2ugcNZhT6XkK"
   },
   "source": [
    "Other form of creating the the data frame is a nested dict of dicts format"
   ]
  },
  {
   "cell_type": "markdown",
   "metadata": {
    "id": "Z9eWxcu5Az7h"
   },
   "source": [
    "```python\n",
    "pop = {'Nevada': {2001:2.4,2002:2.9},\n",
    "       'Ohio'  : {2000:1.5,2001:1.7, 2002: 3.6}}\n",
    "frame3 = pd.DataFrame(pop)\n",
    "frame3\n",
    "```"
   ]
  },
  {
   "cell_type": "code",
   "execution_count": null,
   "metadata": {
    "colab": {
     "base_uri": "https://localhost:8080/",
     "height": 143
    },
    "id": "TPzkoKol5WV-",
    "outputId": "58b40025-c122-4c91-c0a0-763797d44d30"
   },
   "outputs": [],
   "source": []
  },
  {
   "cell_type": "markdown",
   "metadata": {
    "id": "_C4-jDaK67fJ"
   },
   "source": [
    "`Nan`, means the data is not provided.\n",
    "The Pandas Dataframe is the symetrix tuple, it should provides as a table.\n",
    "\n",
    "We can transpose the result\n"
   ]
  },
  {
   "cell_type": "markdown",
   "metadata": {
    "id": "XqpD6qoHA3xm"
   },
   "source": [
    "```python\n",
    "frame3.T\n",
    "```"
   ]
  },
  {
   "cell_type": "code",
   "execution_count": null,
   "metadata": {
    "colab": {
     "base_uri": "https://localhost:8080/",
     "height": 143
    },
    "id": "_v-68r4y7Sf8",
    "outputId": "a4ffa99b-9199-4a35-bc9c-d8542deb85cb"
   },
   "outputs": [],
   "source": []
  },
  {
   "cell_type": "markdown",
   "metadata": {
    "id": "i0rLFWIUJ9WH"
   },
   "source": []
  },
  {
   "cell_type": "markdown",
   "metadata": {
    "id": "8K11zg_E7Vvz"
   },
   "source": [
    "## Task Data Structure - Data frame\n",
    "\n",
    "From your previous work,\n",
    "Add the column midterm score, and attendance score to all the students"
   ]
  },
  {
   "cell_type": "code",
   "execution_count": null,
   "metadata": {
    "colab": {
     "base_uri": "https://localhost:8080/"
    },
    "id": "4v1Yqepe7Vb8",
    "outputId": "22e7f19f-694f-4dfc-e638-ca30e87e12fc"
   },
   "outputs": [],
   "source": []
  }
 ],
 "metadata": {
  "colab": {
   "provenance": []
  },
  "kernelspec": {
   "display_name": "Python 3 (ipykernel)",
   "language": "python",
   "name": "python3"
  },
  "language_info": {
   "codemirror_mode": {
    "name": "ipython",
    "version": 3
   },
   "file_extension": ".py",
   "mimetype": "text/x-python",
   "name": "python",
   "nbconvert_exporter": "python",
   "pygments_lexer": "ipython3",
   "version": "3.11.1"
  }
 },
 "nbformat": 4,
 "nbformat_minor": 1
}
