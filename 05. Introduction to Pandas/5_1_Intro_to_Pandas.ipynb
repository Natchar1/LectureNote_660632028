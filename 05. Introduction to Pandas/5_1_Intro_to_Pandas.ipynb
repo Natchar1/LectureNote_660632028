{
 "cells": [
  {
   "cell_type": "markdown",
   "metadata": {
    "id": "T-wH8n0N5w4U"
   },
   "source": [
    "# Python Library for Data Science\n",
    "\n",
    "There are many popular Python toolboxes/libraries:\n",
    "* Numpy\n",
    "* Scipy\n",
    "* Pandas\n",
    "* SciKit-Learn\n",
    "\n",
    "Visualization library\n",
    "* Matplotlib\n",
    "* Seabord"
   ]
  },
  {
   "cell_type": "markdown",
   "metadata": {
    "id": "aYtc6d_F6CqH"
   },
   "source": [
    "## Numpy\n",
    "\n",
    "\n",
    "* introduces objects for multidimensional arrays and matrices, as well as functions that allow to easily perform advanced mathematical and statistical operations on those objects\n",
    "* provides vectorization of mathematical operations on arrays and matrices which significantly improves the performance\n",
    "* many other python libraries are built on NumPy\n"
   ]
  },
  {
   "cell_type": "markdown",
   "metadata": {
    "id": "sy2bIGxq6i_J"
   },
   "source": [
    "## SciPy\n",
    "\n",
    "* collection of algorithms for linear algebra, differential equations, numerical integration, optimization, statistics and more\n",
    "* built on NumPy\n"
   ]
  },
  {
   "cell_type": "markdown",
   "metadata": {
    "id": "McPwyfU46qt2"
   },
   "source": [
    "## Pandas\n",
    "\n",
    "* adds data structures and tools designed to work with table-like data (similar to Series and Data Frames in R)\n",
    "* provides tools for data manipulation: reshaping, merging, sorting, slicing, aggregation etc.\n",
    "* allows handling missing data"
   ]
  },
  {
   "cell_type": "markdown",
   "metadata": {
    "id": "iq9W6mNT6zMe"
   },
   "source": [
    "## SciKit-Learn\n",
    "* provides machine learning algorithms: classification, regression, clustering, model validation etc.\n",
    "* built on NumPy, SciPy and matplotlib"
   ]
  },
  {
   "cell_type": "markdown",
   "metadata": {
    "id": "77eU6pgl7D9c"
   },
   "source": [
    "## matplotlib\n",
    "\n",
    "* python 2D plotting library which produces publication quality figures in a variety of hardcopy formats\n",
    "* a set of functionalities similar to those of MATLAB\n",
    "* line plots, scatter plots, barcharts, histograms, pie charts etc.\n",
    "* relatively low-level; some effort needed to create advanced visualization\n",
    "\n",
    "\n"
   ]
  },
  {
   "cell_type": "markdown",
   "metadata": {
    "id": "7H1kH2rr7OSL"
   },
   "source": [
    "## Seaborn"
   ]
  },
  {
   "cell_type": "markdown",
   "metadata": {
    "id": "n0pxIrbH7Pxa"
   },
   "source": [
    "* based on matplotlib\n",
    "* provides high level interface for drawing attractive statistical graphics\n",
    "* Similar (in style) to the popular ggplot2 library in R\n"
   ]
  },
  {
   "cell_type": "markdown",
   "metadata": {
    "id": "QMfaHYYm7WRJ"
   },
   "source": [
    "# Pandas\n",
    "\n",
    "* Open-source\n",
    "* High-performance\n",
    "* Easy to use data structure\n",
    "* Data analysis tools\n",
    "* The Data like Excel\n"
   ]
  },
  {
   "cell_type": "markdown",
   "metadata": {
    "id": "Jv9sb2dG7f70"
   },
   "source": [
    "## What Pandas can do\n",
    "\n",
    "* Modeling the data\n",
    "* Create the data frame\n",
    "* Series\n",
    " - One-dimension array\n",
    " - Similar to the Numpy arrays\n"
   ]
  },
  {
   "cell_type": "markdown",
   "metadata": {
    "id": "1XcqFXk978h9"
   },
   "source": [
    "## Pandas - Data Frame\n",
    "\n",
    "* Data frame\n",
    "  * The spreadsheet like\n",
    "* Using to prepare data\n",
    "  * For data manipulation"
   ]
  },
  {
   "cell_type": "markdown",
   "metadata": {
    "id": "dXNCiarO8FBc"
   },
   "source": [
    "## Data Frame data types\n",
    "![image-20230806153235679](./assets/image-20230806153235679.png)"
   ]
  },
  {
   "cell_type": "markdown",
   "metadata": {
    "id": "L0X4ol7V8N8g"
   },
   "source": [
    "## Data Frame attribute\n",
    "Python objects have *attributes* and *methods*\n",
    "![image-20230806153331618](./assets/image-20230806153331618.png)\n"
   ]
  },
  {
   "cell_type": "markdown",
   "metadata": {
    "id": "3winqquQlMmf"
   },
   "source": [
    "# Importing the module\n",
    "\n",
    "import the Pandas package\n",
    "```python\n",
    "import pandas as pd\n",
    "import numpy as np\n",
    "```"
   ]
  },
  {
   "cell_type": "code",
   "execution_count": 1,
   "outputs": [],
   "source": [
    "import pandas as pd\n",
    "import numpy as np"
   ],
   "metadata": {
    "collapsed": false,
    "ExecuteTime": {
     "end_time": "2023-10-30T10:14:40.853158700Z",
     "start_time": "2023-10-30T10:14:40.054725300Z"
    }
   }
  },
  {
   "cell_type": "code",
   "execution_count": null,
   "metadata": {
    "id": "gsyVItfpmWXx"
   },
   "outputs": [],
   "source": [
    "#Import Python Libraries"
   ]
  },
  {
   "cell_type": "markdown",
   "metadata": {
    "id": "IQburQsPmsCu"
   },
   "source": [
    "# Data Structure - Series\n",
    "\n",
    "**Series** (1d homogeneous array)\n",
    "\n",
    "Similar to the NumPy data type"
   ]
  },
  {
   "cell_type": "markdown",
   "metadata": {
    "id": "0lF42ePbnv7R"
   },
   "source": [
    "The simple array can be created as given\n"
   ]
  },
  {
   "cell_type": "markdown",
   "metadata": {
    "id": "PCrl6V00-mjM"
   },
   "source": [
    "```python\n",
    "obj = ([4,7,-5,3])\n",
    "obj\n",
    "```"
   ]
  },
  {
   "cell_type": "code",
   "execution_count": 2,
   "metadata": {
    "colab": {
     "base_uri": "https://localhost:8080/"
    },
    "id": "L3vEcXSMnSax",
    "outputId": "9ce90a85-6c3e-4a93-92ec-0cdf981d9b34",
    "ExecuteTime": {
     "end_time": "2023-10-30T10:14:53.755329100Z",
     "start_time": "2023-10-30T10:14:53.683683600Z"
    }
   },
   "outputs": [
    {
     "data": {
      "text/plain": "[4, 7, -5, 3]"
     },
     "execution_count": 2,
     "metadata": {},
     "output_type": "execute_result"
    }
   ],
   "source": [
    "obj = ([4,7,-5,3])\n",
    "obj"
   ]
  },
  {
   "cell_type": "markdown",
   "metadata": {
    "id": "kXHtHAaGn0bW"
   },
   "source": [
    "The Series in Pandas can created"
   ]
  },
  {
   "cell_type": "markdown",
   "metadata": {
    "id": "8PXw5tcR-sRr"
   },
   "source": [
    "```python\n",
    "obj = pd.Series([4,7,-5,3])\n",
    "obj\n",
    "```"
   ]
  },
  {
   "cell_type": "code",
   "execution_count": 3,
   "metadata": {
    "colab": {
     "base_uri": "https://localhost:8080/"
    },
    "id": "KeB29bBhnbnD",
    "outputId": "5e7a7b03-b125-4edc-c34b-5b1f5264fe93",
    "ExecuteTime": {
     "end_time": "2023-10-30T10:14:58.657980600Z",
     "start_time": "2023-10-30T10:14:58.540483900Z"
    }
   },
   "outputs": [
    {
     "data": {
      "text/plain": "0    4\n1    7\n2   -5\n3    3\ndtype: int64"
     },
     "execution_count": 3,
     "metadata": {},
     "output_type": "execute_result"
    }
   ],
   "source": [
    "obj = pd.Series([4,7,-5,3])\n",
    "obj"
   ]
  },
  {
   "cell_type": "markdown",
   "metadata": {
    "id": "DmFGxn_Vn8IB"
   },
   "source": [
    "Normally the index is added automatically (The index 0-3 is shown in the previous sesion)\n",
    "The index, and value can be shown as given"
   ]
  },
  {
   "cell_type": "markdown",
   "metadata": {
    "id": "H9A_ljht-wHT"
   },
   "source": [
    "```python\n",
    "obj.values\n",
    "```\n"
   ]
  },
  {
   "cell_type": "code",
   "execution_count": 4,
   "metadata": {
    "colab": {
     "base_uri": "https://localhost:8080/"
    },
    "id": "lNXFocVKn7iz",
    "outputId": "d458866a-9982-432a-b94f-750a6080d3de",
    "ExecuteTime": {
     "end_time": "2023-10-30T10:15:04.591147100Z",
     "start_time": "2023-10-30T10:15:04.505926700Z"
    }
   },
   "outputs": [
    {
     "data": {
      "text/plain": "array([ 4,  7, -5,  3], dtype=int64)"
     },
     "execution_count": 4,
     "metadata": {},
     "output_type": "execute_result"
    }
   ],
   "source": [
    "obj.values"
   ]
  },
  {
   "cell_type": "markdown",
   "metadata": {
    "id": "gO96l-31-zGt"
   },
   "source": [
    "```python\n",
    "obj.index\n",
    "```"
   ]
  },
  {
   "cell_type": "code",
   "execution_count": 5,
   "metadata": {
    "colab": {
     "base_uri": "https://localhost:8080/"
    },
    "id": "C0sB5UlgoPG5",
    "outputId": "96c36d14-106e-4bc4-9a01-7b450a7a9e4c",
    "ExecuteTime": {
     "end_time": "2023-10-30T10:15:09.960840600Z",
     "start_time": "2023-10-30T10:15:09.834741300Z"
    }
   },
   "outputs": [
    {
     "data": {
      "text/plain": "RangeIndex(start=0, stop=4, step=1)"
     },
     "execution_count": 5,
     "metadata": {},
     "output_type": "execute_result"
    }
   ],
   "source": [
    "obj.index"
   ]
  },
  {
   "cell_type": "markdown",
   "metadata": {
    "id": "-39b39YxsJ5N"
   },
   "source": [
    "The index can be created to refer to each data"
   ]
  },
  {
   "cell_type": "markdown",
   "metadata": {
    "id": "NbflEtiE-4l8"
   },
   "source": [
    "```python\n",
    "obj2 = pd.Series([4,7,-5,3],index=['d','b','a','c'])\n",
    "obj2\n",
    "```"
   ]
  },
  {
   "cell_type": "code",
   "execution_count": 6,
   "metadata": {
    "colab": {
     "base_uri": "https://localhost:8080/"
    },
    "id": "X1hP2Mi5sJhY",
    "outputId": "506e75cf-8886-425e-ffda-8bdae37ed716",
    "ExecuteTime": {
     "end_time": "2023-10-30T10:15:15.634526700Z",
     "start_time": "2023-10-30T10:15:15.549015300Z"
    }
   },
   "outputs": [
    {
     "data": {
      "text/plain": "d    4\nb    7\na   -5\nc    3\ndtype: int64"
     },
     "execution_count": 6,
     "metadata": {},
     "output_type": "execute_result"
    }
   ],
   "source": [
    "obj2 = pd.Series([4,7,-5,3],index=['d','b','a','c'])\n",
    "obj2"
   ]
  },
  {
   "cell_type": "markdown",
   "metadata": {
    "id": "D24pxQPRsgD2"
   },
   "source": [
    "Then we can check all indexs and value using the values, and indexs data\n",
    "```python\n",
    "obj2.values\n",
    "```"
   ]
  },
  {
   "cell_type": "markdown",
   "metadata": {
    "id": "0hQTtwuB-7sR"
   },
   "source": []
  },
  {
   "cell_type": "code",
   "execution_count": 7,
   "metadata": {
    "colab": {
     "base_uri": "https://localhost:8080/"
    },
    "id": "QqbnR6hKsl64",
    "outputId": "c07ddd10-0b31-45c8-d774-294c3d1e83d6",
    "ExecuteTime": {
     "end_time": "2023-10-30T10:15:21.850836Z",
     "start_time": "2023-10-30T10:15:21.765151500Z"
    }
   },
   "outputs": [
    {
     "data": {
      "text/plain": "array([ 4,  7, -5,  3], dtype=int64)"
     },
     "execution_count": 7,
     "metadata": {},
     "output_type": "execute_result"
    }
   ],
   "source": [
    "obj2.values"
   ]
  },
  {
   "cell_type": "markdown",
   "metadata": {
    "id": "g2MQZo4e-_cq"
   },
   "source": [
    "```python\n",
    "obj2.index\n",
    "```"
   ]
  },
  {
   "cell_type": "code",
   "execution_count": 8,
   "metadata": {
    "colab": {
     "base_uri": "https://localhost:8080/"
    },
    "id": "mxPPVByGsojC",
    "outputId": "f49b5d8a-819e-4579-a2fb-9b8fa3e7e0df",
    "ExecuteTime": {
     "end_time": "2023-10-30T10:15:26.192051400Z",
     "start_time": "2023-10-30T10:15:26.083197700Z"
    }
   },
   "outputs": [
    {
     "data": {
      "text/plain": "Index(['d', 'b', 'a', 'c'], dtype='object')"
     },
     "execution_count": 8,
     "metadata": {},
     "output_type": "execute_result"
    }
   ],
   "source": [
    "obj2.index"
   ]
  },
  {
   "cell_type": "markdown",
   "metadata": {
    "id": "g2iy5V_bstT9"
   },
   "source": [
    "To get some data, we can slice the data from the series using index, or index"
   ]
  },
  {
   "cell_type": "markdown",
   "metadata": {
    "id": "Mqvwf-qp_CSv"
   },
   "source": [
    "```python\n",
    "obj2['a']\n",
    "```"
   ]
  },
  {
   "cell_type": "code",
   "execution_count": 9,
   "metadata": {
    "colab": {
     "base_uri": "https://localhost:8080/"
    },
    "id": "aNxAXqcIsw8m",
    "outputId": "aa37197c-e485-4fd4-9161-4e0bef8e3e58",
    "ExecuteTime": {
     "end_time": "2023-10-30T10:15:42.530667200Z",
     "start_time": "2023-10-30T10:15:42.436257700Z"
    }
   },
   "outputs": [
    {
     "data": {
      "text/plain": "-5"
     },
     "execution_count": 9,
     "metadata": {},
     "output_type": "execute_result"
    }
   ],
   "source": [
    "obj2['a']"
   ]
  },
  {
   "cell_type": "markdown",
   "metadata": {
    "id": "pT5yeLKW_Cun"
   },
   "source": [
    "```python\n",
    "obj2[['b','c']]\n",
    "```"
   ]
  },
  {
   "cell_type": "code",
   "execution_count": 10,
   "metadata": {
    "colab": {
     "base_uri": "https://localhost:8080/"
    },
    "id": "kydI-K0ks46I",
    "outputId": "d7491ddc-c0fe-40b6-9164-2273b389c809",
    "ExecuteTime": {
     "end_time": "2023-10-30T10:15:57.913850400Z",
     "start_time": "2023-10-30T10:15:57.845073700Z"
    }
   },
   "outputs": [
    {
     "data": {
      "text/plain": "b    7\nc    3\ndtype: int64"
     },
     "execution_count": 10,
     "metadata": {},
     "output_type": "execute_result"
    }
   ],
   "source": [
    "obj2[['b','c']]"
   ]
  },
  {
   "cell_type": "markdown",
   "metadata": {
    "id": "2GHiX4FJtAmL"
   },
   "source": [
    "We can also use the dict data structure to a series"
   ]
  },
  {
   "cell_type": "markdown",
   "metadata": {
    "id": "gnSoCI8J_LUg"
   },
   "source": [
    "```python\n",
    "sdata = {'Ohio':3500, 'Texas':71000,'Oregon':16000, 'Utah':5000}\n",
    "obj3 = pd.Series(sdata)\n",
    "obj3\n",
    "```"
   ]
  },
  {
   "cell_type": "code",
   "execution_count": 11,
   "metadata": {
    "colab": {
     "base_uri": "https://localhost:8080/"
    },
    "id": "zT3ZD3NDtAW0",
    "outputId": "a22e651f-5e3e-4b49-9652-ee4849c244fb",
    "ExecuteTime": {
     "end_time": "2023-10-30T10:16:04.745784800Z",
     "start_time": "2023-10-30T10:16:04.667647200Z"
    }
   },
   "outputs": [
    {
     "data": {
      "text/plain": "Ohio       3500\nTexas     71000\nOregon    16000\nUtah       5000\ndtype: int64"
     },
     "execution_count": 11,
     "metadata": {},
     "output_type": "execute_result"
    }
   ],
   "source": [
    "sdata = {'Ohio':3500, 'Texas':71000,'Oregon':16000, 'Utah':5000}\n",
    "obj3 = pd.Series(sdata)\n",
    "obj3"
   ]
  },
  {
   "cell_type": "markdown",
   "metadata": {
    "id": "D1Q6AMS3t2Es"
   },
   "source": [
    "When input the index parameter, only the value that match the index will be shown"
   ]
  },
  {
   "cell_type": "markdown",
   "metadata": {
    "id": "rZrsEUWg_OV6"
   },
   "source": [
    "```python\n",
    "states = ['California','Ohio','Oregon','Texas']\n",
    "obj4 = pd.Series(sdata,index = states)\n",
    "obj4\n",
    "```"
   ]
  },
  {
   "cell_type": "code",
   "execution_count": 12,
   "metadata": {
    "colab": {
     "base_uri": "https://localhost:8080/"
    },
    "id": "gjgrB6Byt1v6",
    "outputId": "fe0e32e9-ef7a-403d-9c07-10f9dc34ebad",
    "ExecuteTime": {
     "end_time": "2023-10-30T10:16:13.539323600Z",
     "start_time": "2023-10-30T10:16:13.458483200Z"
    }
   },
   "outputs": [
    {
     "data": {
      "text/plain": "California        NaN\nOhio           3500.0\nOregon        16000.0\nTexas         71000.0\ndtype: float64"
     },
     "execution_count": 12,
     "metadata": {},
     "output_type": "execute_result"
    }
   ],
   "source": [
    "states = ['California','Ohio','Oregon','Texas']\n",
    "obj4 = pd.Series(sdata,index = states)\n",
    "obj4"
   ]
  },
  {
   "cell_type": "markdown",
   "metadata": {
    "id": "lyQa7RAO0T8M"
   },
   "source": [
    "`Nan` is the data that does not provide the data for the index"
   ]
  },
  {
   "cell_type": "markdown",
   "metadata": {},
   "source": [
    "We can filter the data by adding the boolean in the index\n",
    "```python\n",
    "obj4[obj4<20000]\n",
    "```"
   ]
  },
  {
   "cell_type": "code",
   "execution_count": 13,
   "metadata": {
    "colab": {
     "base_uri": "https://localhost:8080/"
    },
    "id": "emvMDSz_L280",
    "outputId": "a41cca80-9e7e-4862-f3b1-586ec6f65123",
    "ExecuteTime": {
     "end_time": "2023-10-30T10:16:22.092807800Z",
     "start_time": "2023-10-30T10:16:21.932977700Z"
    }
   },
   "outputs": [
    {
     "data": {
      "text/plain": "Ohio       3500.0\nOregon    16000.0\ndtype: float64"
     },
     "execution_count": 13,
     "metadata": {},
     "output_type": "execute_result"
    }
   ],
   "source": [
    "obj4[obj4<20000]"
   ]
  },
  {
   "cell_type": "markdown",
   "metadata": {},
   "source": [
    "To get the name of index use index data\n",
    "```python\n",
    "obj4[obj4 <20000].index\n",
    "```"
   ]
  },
  {
   "cell_type": "code",
   "execution_count": 14,
   "metadata": {
    "colab": {
     "base_uri": "https://localhost:8080/"
    },
    "id": "lSbfb6y6QHww",
    "outputId": "09cd08d6-7a17-46cf-992e-4fe813cd3b36",
    "ExecuteTime": {
     "end_time": "2023-10-30T10:16:31.193724800Z",
     "start_time": "2023-10-30T10:16:31.134733800Z"
    }
   },
   "outputs": [
    {
     "data": {
      "text/plain": "Index(['Ohio', 'Oregon'], dtype='object')"
     },
     "execution_count": 14,
     "metadata": {},
     "output_type": "execute_result"
    }
   ],
   "source": [
    "obj4[obj4 <20000].index"
   ]
  },
  {
   "cell_type": "markdown",
   "metadata": {
    "id": "ap6Ah3H00ZW-"
   },
   "source": [
    "## Task Data Structure - Series Hand-ons\n",
    "create a series of students using the student id as an index, and the name as the first values. The name and student id is given\n"
   ]
  },
  {
   "cell_type": "markdown",
   "metadata": {
    "id": "Yt2SxJYp_Sx0"
   },
   "source": [
    "![image-20230806154629050](./assets/image-20230806154629050.png)"
   ]
  },
  {
   "cell_type": "code",
   "execution_count": 15,
   "metadata": {
    "id": "QgFSQpah07nt",
    "ExecuteTime": {
     "end_time": "2023-10-30T10:24:35.429140600Z",
     "start_time": "2023-10-30T10:24:35.388143Z"
    }
   },
   "outputs": [
    {
     "name": "stdout",
     "output_type": "stream",
     "text": [
      "660632025     Tide\n",
      "660632027       Up\n",
      "660632028      Art\n",
      "660632030     Temp\n",
      "660632031     Tung\n",
      "660632032    Kheng\n",
      "660632033       Pu\n",
      "660632034      Big\n",
      "660632035     Toey\n",
      "660632036       Sa\n",
      "dtype: object\n"
     ]
    }
   ],
   "source": [
    "import pandas as pd\n",
    "\n",
    "# Given student IDs and nicknames\n",
    "student_ids = [660632025, 660632027, 660632028, 660632030, 660632031, 660632032, 660632033, 660632034, 660632035, 660632036]\n",
    "nicknames = ['Tide', 'Up', 'Art', 'Temp', 'Tung', 'Kheng', 'Pu', 'Big', 'Toey', 'Sa']\n",
    "\n",
    "# Create a series\n",
    "students = pd.Series(nicknames, index=student_ids)\n",
    "\n",
    "# Print the series\n",
    "print(students)\n"
   ]
  },
  {
   "cell_type": "markdown",
   "metadata": {
    "id": "r3pZbGLt1GDw"
   },
   "source": [
    "# Data Structure - Dataframe\n",
    "\n",
    "The tubular, spreedsheet-like data structure.\n",
    "\n",
    "contains and ordered collection of columns\n",
    "\n",
    "Can be though as a Dict of series\n",
    "\n",
    "The data frame is used to manipulate the data, and we can extract the output of the data science modules by extracting the value in the Daaframe\n",
    "we can try to create the data frame as given"
   ]
  },
  {
   "cell_type": "markdown",
   "metadata": {
    "id": "OElDcW8YARD7"
   },
   "source": [
    "```python\n",
    "data = {'state':['Ohio','Ohio','Ohio','Nevada','Nevada'],\n",
    "        'year' :[2000  ,2001  ,2002  ,2001    ,2002],\n",
    "        'pop'  :[1.5   ,1.7   ,3.6   ,2.4     ,2.9]}\n",
    "frame = pd.DataFrame(data)\n",
    "frame\n",
    "```"
   ]
  },
  {
   "cell_type": "code",
   "execution_count": 16,
   "metadata": {
    "colab": {
     "base_uri": "https://localhost:8080/",
     "height": 206
    },
    "id": "Aef9u1Ii2Tmb",
    "outputId": "1d106cd2-f3b8-4222-aeec-0b1777a7feae",
    "ExecuteTime": {
     "end_time": "2023-10-30T10:28:45.928387100Z",
     "start_time": "2023-10-30T10:28:45.881501400Z"
    }
   },
   "outputs": [
    {
     "data": {
      "text/plain": "    state  year  pop\n0    Ohio  2000  1.5\n1    Ohio  2001  1.7\n2    Ohio  2002  3.6\n3  Nevada  2001  2.4\n4  Nevada  2002  2.9",
      "text/html": "<div>\n<style scoped>\n    .dataframe tbody tr th:only-of-type {\n        vertical-align: middle;\n    }\n\n    .dataframe tbody tr th {\n        vertical-align: top;\n    }\n\n    .dataframe thead th {\n        text-align: right;\n    }\n</style>\n<table border=\"1\" class=\"dataframe\">\n  <thead>\n    <tr style=\"text-align: right;\">\n      <th></th>\n      <th>state</th>\n      <th>year</th>\n      <th>pop</th>\n    </tr>\n  </thead>\n  <tbody>\n    <tr>\n      <th>0</th>\n      <td>Ohio</td>\n      <td>2000</td>\n      <td>1.5</td>\n    </tr>\n    <tr>\n      <th>1</th>\n      <td>Ohio</td>\n      <td>2001</td>\n      <td>1.7</td>\n    </tr>\n    <tr>\n      <th>2</th>\n      <td>Ohio</td>\n      <td>2002</td>\n      <td>3.6</td>\n    </tr>\n    <tr>\n      <th>3</th>\n      <td>Nevada</td>\n      <td>2001</td>\n      <td>2.4</td>\n    </tr>\n    <tr>\n      <th>4</th>\n      <td>Nevada</td>\n      <td>2002</td>\n      <td>2.9</td>\n    </tr>\n  </tbody>\n</table>\n</div>"
     },
     "execution_count": 16,
     "metadata": {},
     "output_type": "execute_result"
    }
   ],
   "source": [
    "data = {'state':['Ohio','Ohio','Ohio','Nevada','Nevada'],\n",
    "        'year' :[2000  ,2001  ,2002  ,2001    ,2002],\n",
    "        'pop'  :[1.5   ,1.7   ,3.6   ,2.4     ,2.9]}\n",
    "frame = pd.DataFrame(data)\n",
    "frame"
   ]
  },
  {
   "cell_type": "markdown",
   "metadata": {
    "id": "G3H5CU8a2ubv"
   },
   "source": [
    "We can also arrange the column using the columns parameter"
   ]
  },
  {
   "cell_type": "markdown",
   "metadata": {
    "id": "bY3KUAySAUHK"
   },
   "source": [
    "```python\n",
    "frame2 = pd.DataFrame(data, columns=['year','state','pop'])\n",
    "frame2\n",
    "```"
   ]
  },
  {
   "cell_type": "code",
   "execution_count": 17,
   "metadata": {
    "colab": {
     "base_uri": "https://localhost:8080/",
     "height": 206
    },
    "id": "gyfHsAcg29fw",
    "outputId": "921cd956-5f2c-4f92-ab34-dd1427db2882",
    "ExecuteTime": {
     "end_time": "2023-10-30T10:28:50.477442400Z",
     "start_time": "2023-10-30T10:28:50.383304600Z"
    }
   },
   "outputs": [
    {
     "data": {
      "text/plain": "   year   state  pop\n0  2000    Ohio  1.5\n1  2001    Ohio  1.7\n2  2002    Ohio  3.6\n3  2001  Nevada  2.4\n4  2002  Nevada  2.9",
      "text/html": "<div>\n<style scoped>\n    .dataframe tbody tr th:only-of-type {\n        vertical-align: middle;\n    }\n\n    .dataframe tbody tr th {\n        vertical-align: top;\n    }\n\n    .dataframe thead th {\n        text-align: right;\n    }\n</style>\n<table border=\"1\" class=\"dataframe\">\n  <thead>\n    <tr style=\"text-align: right;\">\n      <th></th>\n      <th>year</th>\n      <th>state</th>\n      <th>pop</th>\n    </tr>\n  </thead>\n  <tbody>\n    <tr>\n      <th>0</th>\n      <td>2000</td>\n      <td>Ohio</td>\n      <td>1.5</td>\n    </tr>\n    <tr>\n      <th>1</th>\n      <td>2001</td>\n      <td>Ohio</td>\n      <td>1.7</td>\n    </tr>\n    <tr>\n      <th>2</th>\n      <td>2002</td>\n      <td>Ohio</td>\n      <td>3.6</td>\n    </tr>\n    <tr>\n      <th>3</th>\n      <td>2001</td>\n      <td>Nevada</td>\n      <td>2.4</td>\n    </tr>\n    <tr>\n      <th>4</th>\n      <td>2002</td>\n      <td>Nevada</td>\n      <td>2.9</td>\n    </tr>\n  </tbody>\n</table>\n</div>"
     },
     "execution_count": 17,
     "metadata": {},
     "output_type": "execute_result"
    }
   ],
   "source": [
    "frame2 = pd.DataFrame(data, columns=['year','state','pop'])\n",
    "frame2"
   ]
  },
  {
   "cell_type": "markdown",
   "metadata": {
    "id": "95GerYi43Noq"
   },
   "source": [
    "The index can be set, and the column which is not in the data is also shown as Nan"
   ]
  },
  {
   "cell_type": "markdown",
   "metadata": {
    "id": "LP4i11ohAXiP"
   },
   "source": [
    "```python\n",
    "frame2 = pd.DataFrame(data, columns=['year','state','pop','debt'],\n",
    "                      index=['one','two','three','four','five'])\n",
    "frame2\n",
    "```\n"
   ]
  },
  {
   "cell_type": "code",
   "execution_count": 18,
   "metadata": {
    "colab": {
     "base_uri": "https://localhost:8080/",
     "height": 206
    },
    "id": "EVsr_-_O3NRz",
    "outputId": "04f00311-fd72-46ec-ea34-a801b3a02616",
    "ExecuteTime": {
     "end_time": "2023-10-30T10:28:57.591164700Z",
     "start_time": "2023-10-30T10:28:57.528232Z"
    }
   },
   "outputs": [
    {
     "data": {
      "text/plain": "       year   state  pop debt\none    2000    Ohio  1.5  NaN\ntwo    2001    Ohio  1.7  NaN\nthree  2002    Ohio  3.6  NaN\nfour   2001  Nevada  2.4  NaN\nfive   2002  Nevada  2.9  NaN",
      "text/html": "<div>\n<style scoped>\n    .dataframe tbody tr th:only-of-type {\n        vertical-align: middle;\n    }\n\n    .dataframe tbody tr th {\n        vertical-align: top;\n    }\n\n    .dataframe thead th {\n        text-align: right;\n    }\n</style>\n<table border=\"1\" class=\"dataframe\">\n  <thead>\n    <tr style=\"text-align: right;\">\n      <th></th>\n      <th>year</th>\n      <th>state</th>\n      <th>pop</th>\n      <th>debt</th>\n    </tr>\n  </thead>\n  <tbody>\n    <tr>\n      <th>one</th>\n      <td>2000</td>\n      <td>Ohio</td>\n      <td>1.5</td>\n      <td>NaN</td>\n    </tr>\n    <tr>\n      <th>two</th>\n      <td>2001</td>\n      <td>Ohio</td>\n      <td>1.7</td>\n      <td>NaN</td>\n    </tr>\n    <tr>\n      <th>three</th>\n      <td>2002</td>\n      <td>Ohio</td>\n      <td>3.6</td>\n      <td>NaN</td>\n    </tr>\n    <tr>\n      <th>four</th>\n      <td>2001</td>\n      <td>Nevada</td>\n      <td>2.4</td>\n      <td>NaN</td>\n    </tr>\n    <tr>\n      <th>five</th>\n      <td>2002</td>\n      <td>Nevada</td>\n      <td>2.9</td>\n      <td>NaN</td>\n    </tr>\n  </tbody>\n</table>\n</div>"
     },
     "execution_count": 18,
     "metadata": {},
     "output_type": "execute_result"
    }
   ],
   "source": [
    "frame2 = pd.DataFrame(data, columns=['year','state','pop','debt'],\n",
    "                      index=['one','two','three','four','five'])\n",
    "frame2\n"
   ]
  },
  {
   "cell_type": "markdown",
   "metadata": {
    "id": "dYAce0st3lSl"
   },
   "source": [
    "We can extract data regarding to the columns as given"
   ]
  },
  {
   "cell_type": "markdown",
   "metadata": {
    "id": "jOsoj8ZbAdmn"
   },
   "source": [
    "```python\n",
    "frame2['state']\n",
    "```"
   ]
  },
  {
   "cell_type": "code",
   "execution_count": 19,
   "metadata": {
    "colab": {
     "base_uri": "https://localhost:8080/"
    },
    "id": "cgRrQZe23svw",
    "outputId": "79857d71-0a36-4242-f481-ea3c72fb8210",
    "ExecuteTime": {
     "end_time": "2023-10-30T10:29:06.429918600Z",
     "start_time": "2023-10-30T10:29:06.304491700Z"
    }
   },
   "outputs": [
    {
     "data": {
      "text/plain": "one        Ohio\ntwo        Ohio\nthree      Ohio\nfour     Nevada\nfive     Nevada\nName: state, dtype: object"
     },
     "execution_count": 19,
     "metadata": {},
     "output_type": "execute_result"
    }
   ],
   "source": [
    "frame2['state']"
   ]
  },
  {
   "cell_type": "markdown",
   "metadata": {
    "id": "6oVe1t1-AgP7"
   },
   "source": [
    "```python\n",
    "frame2.year\n",
    "```"
   ]
  },
  {
   "cell_type": "code",
   "execution_count": 20,
   "metadata": {
    "colab": {
     "base_uri": "https://localhost:8080/"
    },
    "id": "3YuLz1eG3wNS",
    "outputId": "dec6e335-d637-4181-c68a-6187c5ce3b74",
    "ExecuteTime": {
     "end_time": "2023-10-30T10:29:13.014915Z",
     "start_time": "2023-10-30T10:29:12.907798900Z"
    }
   },
   "outputs": [
    {
     "data": {
      "text/plain": "one      2000\ntwo      2001\nthree    2002\nfour     2001\nfive     2002\nName: year, dtype: int64"
     },
     "execution_count": 20,
     "metadata": {},
     "output_type": "execute_result"
    }
   ],
   "source": [
    "frame2.year"
   ]
  },
  {
   "cell_type": "markdown",
   "metadata": {
    "id": "pkQauySJ33AF"
   },
   "source": [
    "we can get the data from each index using `loc` methods"
   ]
  },
  {
   "cell_type": "markdown",
   "metadata": {
    "id": "KYqyHL6TAiwB"
   },
   "source": [
    "```python\n",
    "frame2.loc['three']\n",
    "```"
   ]
  },
  {
   "cell_type": "code",
   "execution_count": 21,
   "metadata": {
    "colab": {
     "base_uri": "https://localhost:8080/",
     "height": 105
    },
    "id": "4lNEtyOl32pt",
    "outputId": "f95108f5-3dff-4672-9deb-7d2c5d68a0c1",
    "ExecuteTime": {
     "end_time": "2023-10-30T10:29:18.296465300Z",
     "start_time": "2023-10-30T10:29:18.209892200Z"
    }
   },
   "outputs": [
    {
     "data": {
      "text/plain": "year     2002\nstate    Ohio\npop       3.6\ndebt      NaN\nName: three, dtype: object"
     },
     "execution_count": 21,
     "metadata": {},
     "output_type": "execute_result"
    }
   ],
   "source": [
    "frame2.loc['three']"
   ]
  },
  {
   "cell_type": "markdown",
   "metadata": {
    "id": "rq4X3mqY4zoI"
   },
   "source": [
    "We can assign the data to each column using the scalar data, or list"
   ]
  },
  {
   "cell_type": "markdown",
   "metadata": {
    "id": "XzqoSSdTAlG_"
   },
   "source": [
    "```python\n",
    "frame2['debt'] = 16.5\n",
    "frame2\n",
    "```"
   ]
  },
  {
   "cell_type": "code",
   "execution_count": 22,
   "metadata": {
    "colab": {
     "base_uri": "https://localhost:8080/",
     "height": 206
    },
    "id": "0vKWSIam5C5e",
    "outputId": "c6a75edd-3c7b-481f-87ff-00e7f625c333",
    "ExecuteTime": {
     "end_time": "2023-10-30T10:30:04.820258900Z",
     "start_time": "2023-10-30T10:30:04.774273Z"
    }
   },
   "outputs": [
    {
     "data": {
      "text/plain": "       year   state  pop  debt\none    2000    Ohio  1.5  16.5\ntwo    2001    Ohio  1.7  16.5\nthree  2002    Ohio  3.6  16.5\nfour   2001  Nevada  2.4  16.5\nfive   2002  Nevada  2.9  16.5",
      "text/html": "<div>\n<style scoped>\n    .dataframe tbody tr th:only-of-type {\n        vertical-align: middle;\n    }\n\n    .dataframe tbody tr th {\n        vertical-align: top;\n    }\n\n    .dataframe thead th {\n        text-align: right;\n    }\n</style>\n<table border=\"1\" class=\"dataframe\">\n  <thead>\n    <tr style=\"text-align: right;\">\n      <th></th>\n      <th>year</th>\n      <th>state</th>\n      <th>pop</th>\n      <th>debt</th>\n    </tr>\n  </thead>\n  <tbody>\n    <tr>\n      <th>one</th>\n      <td>2000</td>\n      <td>Ohio</td>\n      <td>1.5</td>\n      <td>16.5</td>\n    </tr>\n    <tr>\n      <th>two</th>\n      <td>2001</td>\n      <td>Ohio</td>\n      <td>1.7</td>\n      <td>16.5</td>\n    </tr>\n    <tr>\n      <th>three</th>\n      <td>2002</td>\n      <td>Ohio</td>\n      <td>3.6</td>\n      <td>16.5</td>\n    </tr>\n    <tr>\n      <th>four</th>\n      <td>2001</td>\n      <td>Nevada</td>\n      <td>2.4</td>\n      <td>16.5</td>\n    </tr>\n    <tr>\n      <th>five</th>\n      <td>2002</td>\n      <td>Nevada</td>\n      <td>2.9</td>\n      <td>16.5</td>\n    </tr>\n  </tbody>\n</table>\n</div>"
     },
     "execution_count": 22,
     "metadata": {},
     "output_type": "execute_result"
    }
   ],
   "source": [
    "frame2['debt'] = 16.5\n",
    "frame2"
   ]
  },
  {
   "cell_type": "markdown",
   "metadata": {
    "id": "J4nWdsVNApOw"
   },
   "source": [
    "```python\n",
    "frame2['debt'] = np.arange(5)\n",
    "frame2\n",
    "```"
   ]
  },
  {
   "cell_type": "code",
   "execution_count": 23,
   "metadata": {
    "colab": {
     "base_uri": "https://localhost:8080/"
    },
    "id": "37lQtMXLYBnv",
    "outputId": "16ee90e8-5120-470a-a0a4-c8f2e17082e5",
    "ExecuteTime": {
     "end_time": "2023-10-30T10:30:09.999274600Z",
     "start_time": "2023-10-30T10:30:09.920723400Z"
    }
   },
   "outputs": [
    {
     "data": {
      "text/plain": "       year   state  pop  debt\none    2000    Ohio  1.5     0\ntwo    2001    Ohio  1.7     1\nthree  2002    Ohio  3.6     2\nfour   2001  Nevada  2.4     3\nfive   2002  Nevada  2.9     4",
      "text/html": "<div>\n<style scoped>\n    .dataframe tbody tr th:only-of-type {\n        vertical-align: middle;\n    }\n\n    .dataframe tbody tr th {\n        vertical-align: top;\n    }\n\n    .dataframe thead th {\n        text-align: right;\n    }\n</style>\n<table border=\"1\" class=\"dataframe\">\n  <thead>\n    <tr style=\"text-align: right;\">\n      <th></th>\n      <th>year</th>\n      <th>state</th>\n      <th>pop</th>\n      <th>debt</th>\n    </tr>\n  </thead>\n  <tbody>\n    <tr>\n      <th>one</th>\n      <td>2000</td>\n      <td>Ohio</td>\n      <td>1.5</td>\n      <td>0</td>\n    </tr>\n    <tr>\n      <th>two</th>\n      <td>2001</td>\n      <td>Ohio</td>\n      <td>1.7</td>\n      <td>1</td>\n    </tr>\n    <tr>\n      <th>three</th>\n      <td>2002</td>\n      <td>Ohio</td>\n      <td>3.6</td>\n      <td>2</td>\n    </tr>\n    <tr>\n      <th>four</th>\n      <td>2001</td>\n      <td>Nevada</td>\n      <td>2.4</td>\n      <td>3</td>\n    </tr>\n    <tr>\n      <th>five</th>\n      <td>2002</td>\n      <td>Nevada</td>\n      <td>2.9</td>\n      <td>4</td>\n    </tr>\n  </tbody>\n</table>\n</div>"
     },
     "execution_count": 23,
     "metadata": {},
     "output_type": "execute_result"
    }
   ],
   "source": [
    "frame2['debt'] = np.arange(5)\n",
    "frame2"
   ]
  },
  {
   "cell_type": "code",
   "execution_count": null,
   "metadata": {
    "colab": {
     "base_uri": "https://localhost:8080/",
     "height": 206
    },
    "id": "3e8vT65b5HAX",
    "outputId": "b947b41c-6383-420d-d493-9890a314feca"
   },
   "outputs": [],
   "source": []
  },
  {
   "cell_type": "markdown",
   "metadata": {
    "id": "XX3z-6vj5ZZ3"
   },
   "source": [
    "Or we can add the series as the missing column"
   ]
  },
  {
   "cell_type": "markdown",
   "metadata": {
    "id": "phsQQEPAAwuH"
   },
   "source": [
    "```python\n",
    "val = pd.Series([-1.2,-1.5,-1.7],index=['two','four','five'])\n",
    "frame2['debt'] = val\n",
    "frame2\n",
    "```"
   ]
  },
  {
   "cell_type": "code",
   "execution_count": 24,
   "outputs": [
    {
     "data": {
      "text/plain": "       year   state  pop  debt\none    2000    Ohio  1.5   NaN\ntwo    2001    Ohio  1.7  -1.2\nthree  2002    Ohio  3.6   NaN\nfour   2001  Nevada  2.4  -1.5\nfive   2002  Nevada  2.9  -1.7",
      "text/html": "<div>\n<style scoped>\n    .dataframe tbody tr th:only-of-type {\n        vertical-align: middle;\n    }\n\n    .dataframe tbody tr th {\n        vertical-align: top;\n    }\n\n    .dataframe thead th {\n        text-align: right;\n    }\n</style>\n<table border=\"1\" class=\"dataframe\">\n  <thead>\n    <tr style=\"text-align: right;\">\n      <th></th>\n      <th>year</th>\n      <th>state</th>\n      <th>pop</th>\n      <th>debt</th>\n    </tr>\n  </thead>\n  <tbody>\n    <tr>\n      <th>one</th>\n      <td>2000</td>\n      <td>Ohio</td>\n      <td>1.5</td>\n      <td>NaN</td>\n    </tr>\n    <tr>\n      <th>two</th>\n      <td>2001</td>\n      <td>Ohio</td>\n      <td>1.7</td>\n      <td>-1.2</td>\n    </tr>\n    <tr>\n      <th>three</th>\n      <td>2002</td>\n      <td>Ohio</td>\n      <td>3.6</td>\n      <td>NaN</td>\n    </tr>\n    <tr>\n      <th>four</th>\n      <td>2001</td>\n      <td>Nevada</td>\n      <td>2.4</td>\n      <td>-1.5</td>\n    </tr>\n    <tr>\n      <th>five</th>\n      <td>2002</td>\n      <td>Nevada</td>\n      <td>2.9</td>\n      <td>-1.7</td>\n    </tr>\n  </tbody>\n</table>\n</div>"
     },
     "execution_count": 24,
     "metadata": {},
     "output_type": "execute_result"
    }
   ],
   "source": [
    "val = pd.Series([-1.2,-1.5,-1.7],index=['two','four','five'])\n",
    "frame2['debt'] = val\n",
    "frame2"
   ],
   "metadata": {
    "collapsed": false,
    "ExecuteTime": {
     "end_time": "2023-10-30T10:30:17.154057600Z",
     "start_time": "2023-10-30T10:30:17.107187100Z"
    }
   }
  },
  {
   "cell_type": "markdown",
   "source": [
    "```python\n",
    "frame.describe()\n",
    "```"
   ],
   "metadata": {
    "collapsed": false
   }
  },
  {
   "cell_type": "code",
   "execution_count": 25,
   "metadata": {
    "colab": {
     "base_uri": "https://localhost:8080/"
    },
    "id": "-Z0S5V3fYW4p",
    "outputId": "7bd634ed-bcd0-4aaa-bc91-e540cfd6c8e8",
    "ExecuteTime": {
     "end_time": "2023-10-30T10:30:22.045403200Z",
     "start_time": "2023-10-30T10:30:21.983440Z"
    }
   },
   "outputs": [
    {
     "data": {
      "text/plain": "             year       pop\ncount     5.00000  5.000000\nmean   2001.20000  2.420000\nstd       0.83666  0.864292\nmin    2000.00000  1.500000\n25%    2001.00000  1.700000\n50%    2001.00000  2.400000\n75%    2002.00000  2.900000\nmax    2002.00000  3.600000",
      "text/html": "<div>\n<style scoped>\n    .dataframe tbody tr th:only-of-type {\n        vertical-align: middle;\n    }\n\n    .dataframe tbody tr th {\n        vertical-align: top;\n    }\n\n    .dataframe thead th {\n        text-align: right;\n    }\n</style>\n<table border=\"1\" class=\"dataframe\">\n  <thead>\n    <tr style=\"text-align: right;\">\n      <th></th>\n      <th>year</th>\n      <th>pop</th>\n    </tr>\n  </thead>\n  <tbody>\n    <tr>\n      <th>count</th>\n      <td>5.00000</td>\n      <td>5.000000</td>\n    </tr>\n    <tr>\n      <th>mean</th>\n      <td>2001.20000</td>\n      <td>2.420000</td>\n    </tr>\n    <tr>\n      <th>std</th>\n      <td>0.83666</td>\n      <td>0.864292</td>\n    </tr>\n    <tr>\n      <th>min</th>\n      <td>2000.00000</td>\n      <td>1.500000</td>\n    </tr>\n    <tr>\n      <th>25%</th>\n      <td>2001.00000</td>\n      <td>1.700000</td>\n    </tr>\n    <tr>\n      <th>50%</th>\n      <td>2001.00000</td>\n      <td>2.400000</td>\n    </tr>\n    <tr>\n      <th>75%</th>\n      <td>2002.00000</td>\n      <td>2.900000</td>\n    </tr>\n    <tr>\n      <th>max</th>\n      <td>2002.00000</td>\n      <td>3.600000</td>\n    </tr>\n  </tbody>\n</table>\n</div>"
     },
     "execution_count": 25,
     "metadata": {},
     "output_type": "execute_result"
    }
   ],
   "source": [
    "frame.describe()"
   ]
  },
  {
   "cell_type": "code",
   "execution_count": null,
   "metadata": {
    "colab": {
     "base_uri": "https://localhost:8080/",
     "height": 206
    },
    "id": "tBLOuzKY5ZL4",
    "outputId": "0c67c6a5-ab7a-4b79-c91e-5c66671ee2aa"
   },
   "outputs": [],
   "source": []
  },
  {
   "cell_type": "markdown",
   "metadata": {
    "id": "2ugcNZhT6XkK"
   },
   "source": [
    "Other form of creating the the data frame is a nested dict of dicts format"
   ]
  },
  {
   "cell_type": "markdown",
   "metadata": {
    "id": "Z9eWxcu5Az7h"
   },
   "source": [
    "```python\n",
    "pop = {'Nevada': {2001:2.4,2002:2.9},\n",
    "       'Ohio'  : {2000:1.5,2001:1.7, 2002: 3.6}}\n",
    "frame3 = pd.DataFrame(pop)\n",
    "frame3\n",
    "```"
   ]
  },
  {
   "cell_type": "code",
   "execution_count": 26,
   "metadata": {
    "colab": {
     "base_uri": "https://localhost:8080/",
     "height": 143
    },
    "id": "TPzkoKol5WV-",
    "outputId": "58b40025-c122-4c91-c0a0-763797d44d30",
    "ExecuteTime": {
     "end_time": "2023-10-30T10:30:36.491052800Z",
     "start_time": "2023-10-30T10:30:36.396402900Z"
    }
   },
   "outputs": [
    {
     "data": {
      "text/plain": "      Nevada  Ohio\n2001     2.4   1.7\n2002     2.9   3.6\n2000     NaN   1.5",
      "text/html": "<div>\n<style scoped>\n    .dataframe tbody tr th:only-of-type {\n        vertical-align: middle;\n    }\n\n    .dataframe tbody tr th {\n        vertical-align: top;\n    }\n\n    .dataframe thead th {\n        text-align: right;\n    }\n</style>\n<table border=\"1\" class=\"dataframe\">\n  <thead>\n    <tr style=\"text-align: right;\">\n      <th></th>\n      <th>Nevada</th>\n      <th>Ohio</th>\n    </tr>\n  </thead>\n  <tbody>\n    <tr>\n      <th>2001</th>\n      <td>2.4</td>\n      <td>1.7</td>\n    </tr>\n    <tr>\n      <th>2002</th>\n      <td>2.9</td>\n      <td>3.6</td>\n    </tr>\n    <tr>\n      <th>2000</th>\n      <td>NaN</td>\n      <td>1.5</td>\n    </tr>\n  </tbody>\n</table>\n</div>"
     },
     "execution_count": 26,
     "metadata": {},
     "output_type": "execute_result"
    }
   ],
   "source": [
    "pop = {'Nevada': {2001:2.4,2002:2.9},\n",
    "       'Ohio'  : {2000:1.5,2001:1.7, 2002: 3.6}}\n",
    "frame3 = pd.DataFrame(pop)\n",
    "frame3"
   ]
  },
  {
   "cell_type": "markdown",
   "metadata": {
    "id": "_C4-jDaK67fJ"
   },
   "source": [
    "`Nan`, means the data is not provided.\n",
    "The Pandas Dataframe is the symetrix tuple, it should provides as a table.\n",
    "\n",
    "We can transpose the result\n"
   ]
  },
  {
   "cell_type": "markdown",
   "metadata": {
    "id": "XqpD6qoHA3xm"
   },
   "source": [
    "```python\n",
    "frame3.T\n",
    "```"
   ]
  },
  {
   "cell_type": "code",
   "execution_count": 27,
   "metadata": {
    "colab": {
     "base_uri": "https://localhost:8080/",
     "height": 143
    },
    "id": "_v-68r4y7Sf8",
    "outputId": "a4ffa99b-9199-4a35-bc9c-d8542deb85cb",
    "ExecuteTime": {
     "end_time": "2023-10-30T10:30:41.381543700Z",
     "start_time": "2023-10-30T10:30:41.319147500Z"
    }
   },
   "outputs": [
    {
     "data": {
      "text/plain": "        2001  2002  2000\nNevada   2.4   2.9   NaN\nOhio     1.7   3.6   1.5",
      "text/html": "<div>\n<style scoped>\n    .dataframe tbody tr th:only-of-type {\n        vertical-align: middle;\n    }\n\n    .dataframe tbody tr th {\n        vertical-align: top;\n    }\n\n    .dataframe thead th {\n        text-align: right;\n    }\n</style>\n<table border=\"1\" class=\"dataframe\">\n  <thead>\n    <tr style=\"text-align: right;\">\n      <th></th>\n      <th>2001</th>\n      <th>2002</th>\n      <th>2000</th>\n    </tr>\n  </thead>\n  <tbody>\n    <tr>\n      <th>Nevada</th>\n      <td>2.4</td>\n      <td>2.9</td>\n      <td>NaN</td>\n    </tr>\n    <tr>\n      <th>Ohio</th>\n      <td>1.7</td>\n      <td>3.6</td>\n      <td>1.5</td>\n    </tr>\n  </tbody>\n</table>\n</div>"
     },
     "execution_count": 27,
     "metadata": {},
     "output_type": "execute_result"
    }
   ],
   "source": [
    "frame3.T"
   ]
  },
  {
   "cell_type": "markdown",
   "metadata": {
    "id": "i0rLFWIUJ9WH"
   },
   "source": []
  },
  {
   "cell_type": "markdown",
   "metadata": {
    "id": "8K11zg_E7Vvz"
   },
   "source": [
    "## Task Data Structure - Data frame\n",
    "\n",
    "From your previous work,\n",
    "Add the column midterm score, and attendance score to all the students"
   ]
  },
  {
   "cell_type": "code",
   "execution_count": 28,
   "metadata": {
    "colab": {
     "base_uri": "https://localhost:8080/"
    },
    "id": "4v1Yqepe7Vb8",
    "outputId": "22e7f19f-694f-4dfc-e638-ca30e87e12fc",
    "ExecuteTime": {
     "end_time": "2023-10-30T10:31:25.599401Z",
     "start_time": "2023-10-30T10:31:25.549373600Z"
    }
   },
   "outputs": [
    {
     "name": "stdout",
     "output_type": "stream",
     "text": [
      "          Nickname  Midterm Score  Attendance Score\n",
      "660632025     Tide              0                 0\n",
      "660632027       Up              0                 0\n",
      "660632028      Art              0                 0\n",
      "660632030     Temp              0                 0\n",
      "660632031     Tung              0                 0\n",
      "660632032    Kheng              0                 0\n",
      "660632033       Pu              0                 0\n",
      "660632034      Big              0                 0\n",
      "660632035     Toey              0                 0\n",
      "660632036       Sa              0                 0\n"
     ]
    }
   ],
   "source": [
    "import pandas as pd\n",
    "\n",
    "# Given student IDs and nicknames\n",
    "student_ids = [660632025, 660632027, 660632028, 660632030, 660632031, 660632032, 660632033, 660632034, 660632035, 660632036]\n",
    "nicknames = ['Tide', 'Up', 'Art', 'Temp', 'Tung', 'Kheng', 'Pu', 'Big', 'Toey', 'Sa']\n",
    "\n",
    "# Create a DataFrame\n",
    "students = pd.DataFrame({\n",
    "    'Nickname': nicknames,\n",
    "    'Midterm Score': [0] * len(student_ids),  # initialize with zeros\n",
    "    'Attendance Score': [0] * len(student_ids)  # initialize with zeros\n",
    "}, index=student_ids)\n",
    "\n",
    "# Print the DataFrame\n",
    "print(students)\n"
   ]
  },
  {
   "cell_type": "code",
   "execution_count": null,
   "outputs": [],
   "source": [],
   "metadata": {
    "collapsed": false
   }
  }
 ],
 "metadata": {
  "colab": {
   "provenance": []
  },
  "kernelspec": {
   "display_name": "Python 3 (ipykernel)",
   "language": "python",
   "name": "python3"
  },
  "language_info": {
   "codemirror_mode": {
    "name": "ipython",
    "version": 3
   },
   "file_extension": ".py",
   "mimetype": "text/x-python",
   "name": "python",
   "nbconvert_exporter": "python",
   "pygments_lexer": "ipython3",
   "version": "3.11.1"
  }
 },
 "nbformat": 4,
 "nbformat_minor": 1
}
