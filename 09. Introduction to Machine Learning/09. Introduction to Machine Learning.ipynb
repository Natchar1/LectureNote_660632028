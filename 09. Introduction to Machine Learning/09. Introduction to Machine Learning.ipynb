{
 "nbformat": 4,
 "nbformat_minor": 0,
 "metadata": {
  "colab": {
   "provenance": []
  },
  "kernelspec": {
   "name": "python3",
   "language": "python",
   "display_name": "Python 3 (ipykernel)"
  }
 },
 "cells": [
  {
   "cell_type": "markdown",
   "metadata": {
    "id": "mEAK99pkRf4c"
   },
   "source": [
    "# Machine Learning Landscape"
   ]
  },
  {
   "cell_type": "markdown",
   "metadata": {
    "id": "AKLuNnZnRCNS"
   },
   "source": [
    "## The Machine learning\n",
    "Previously when the data scientist provide the application.\n",
    "<img alt=\"mls2 0101\" src=\"./assets/mls2_0101.png\" width=\"800px\"/>\n"
   ]
  },
  {
   "cell_type": "markdown",
   "metadata": {
    "id": "O4xDNc5dRdYi"
   },
   "source": [
    "Now the ML technique can learn and evaluation.\n",
    "\n",
    "<img alt=\"mls2 0102\" src=\"./assets/mls2_0102.png\" width=\"800\"/>\n"
   ]
  },
  {
   "cell_type": "markdown",
   "metadata": {
    "id": "F80cs1ucS3vy"
   },
   "source": [
    "The automatic approach\n",
    "\n",
    "<img alt=\"mls2 0103\" src=\"./assets/mls2_0103.png\" width=\"800\"/>\n"
   ]
  },
  {
   "cell_type": "markdown",
   "source": [
    "Machine Learning Algorithm can be inspected to see what they have learned.\n",
    "* It can return  what it can predict based on the old data.\n",
    "* It can reveals unsuspected corelations or patterns.tred\n",
    "\n",
    "Applying Machine Learning to dig into large amount of data can help discover patterns that were not immediately apparent.\n",
    "This is call *data mining*\n",
    "\n",
    "<img alt=\"mls2 0104\" src=\"./assets/mls2_0104.png\" width=\"800\"/>"
   ],
   "metadata": {
    "collapsed": false
   }
  },
  {
   "cell_type": "markdown",
   "source": [
    "To summarize, Machine Learning is great for:\n",
    "\n",
    "Problems for which existing solutions require a lot of fine-tuning or long lists of rules: one Machine Learning algorithm can often simplify code and perform better than the traditional approach.\n",
    "\n",
    "Complex problems for which using a traditional approach yields no good solution: the best Machine Learning techniques can perhaps find a solution.\n",
    "\n",
    "Fluctuating environments: a Machine Learning system can adapt to new data.\n",
    "\n",
    "Getting insights about complex problems and large amounts of data."
   ],
   "metadata": {
    "collapsed": false
   }
  },
  {
   "cell_type": "markdown",
   "source": [
    "## Example Applicaton\n",
    "\n",
    "- Analyzing images of products on a production line to automatically classify them\n",
    "This is image classification, typically performed using convolutional neural networks (CNNs)\n",
    "\n",
    "- Detecting tumors in brain scans\n",
    "This is semantic segmentation, where each pixel in the image is classified (as we want to determine the exact location and shape of tumors), typically using CNNs as well.\n",
    "\n",
    "- Automatically classifying news articles\n",
    "        This is natural language processing (NLP), and more specifically text classification, which can be tackled using recurrent neural networks (RNNs), CNNs, or Transformers\n",
    "\n",
    "- Automatically flagging offensive comments on discussion forums\n",
    "        This is also text classification, using the same NLP tools.\n",
    "\n",
    "- Summarizing long documents automatically\n",
    "        This is a branch of NLP called text summarization, again using the same tools.\n",
    "\n",
    "- Creating a chatbot or a personal assistant\n",
    "        This involves many NLP components, including natural language understanding (NLU) and question-answering modules.\n",
    "\n",
    "- Forecasting your company’s revenue next year, based on many performance metrics\n",
    "        This regression task (i.e., predicting values) may be tackled using any regression model, such as a Linear Regression or Polynomial Regression model , a regression SVM , a regression Random Forest , or an artificial neural network (see ). If you want to take into account sequences of past performance metrics, you may want to use RNNs, CNNs, or Transformers \n",
    "\n",
    "- Making your app react to voice commands\n",
    "        This is speech recognition, which requires processing audio samples: since they are long and complex sequences, they are typically processed using RNNs, CNNs, or Transformers \n",
    "\n",
    "- Detecting credit card fraud\n",
    "    This is anomaly detection.\n",
    "\n",
    "- Segmenting clients based on their purchases so that you can design a different marketing strategy for each segment\n",
    "This is clustering.\n",
    "\n",
    "- Representing a complex, high-dimensional dataset in a clear and insightful diagram\n",
    "This is data visualization, often involving dimensionality reduction techniques .\n",
    "\n",
    "- Recommending a product that a client may be interested in, based on past purchases\n",
    "This is a recommender system. One approach is to feed past purchases (and other information about the client) to an artificial neural network, and get it to output the most likely next purchase. This neural net would typically be trained on past sequences of purchases across all clients.\n",
    "\n",
    "- Building an intelligent bot for a game\n",
    "This is often tackled using Reinforcement Learning , which is a branch of Machine Learning that trains agents (such as bots) to pick the actions that will maximize their rewards over time (e.g., a bot may get a reward every time the player loses some life points), within a given environment (such as the game). The famous AlphaGo program that beat the world champion at the game of Go was built using RL."
   ],
   "metadata": {
    "collapsed": false
   }
  },
  {
   "cell_type": "markdown",
   "metadata": {
    "id": "-I1P9pT4TAx9"
   },
   "source": [
    "## Type of machine learning"
   ]
  },
  {
   "cell_type": "markdown",
   "metadata": {
    "id": "vTCJHq0lTEFy"
   },
   "source": [
    "**Supervised Learning**\n",
    "\n",
    " the training set you feed to the algorithm includes the desired solutions, called *labels*\n",
    " \n",
    "<img alt=\"mls2 0105\" src=\"./assets/mls2_0105.png\" width=\"800\"/>\n"
   ]
  },
  {
   "cell_type": "markdown",
   "source": [
    "Supervised learning tasks normally a classification.\n",
    "\n",
    "**Note**\n",
    "that some regression algorithms can be used for classification as well, and vice versa. For example, Logistic Regression is commonly used for classification, as it can output a value that corresponds to the probability of belonging to a given class.\n",
    "<img alt=\"mls2 0106\" src=\"./assets/mls2_0106.png\" width=\"800\"/>\n"
   ],
   "metadata": {
    "collapsed": false
   }
  },
  {
   "cell_type": "markdown",
   "metadata": {
    "id": "yTboZaj5TP5m"
   },
   "source": [
    "\n",
    "the important supervised learning algorithms are\n",
    "* k-Nearest Neighbors\n",
    "* Linear Regression\n",
    "* Logistic Regression\n",
    "* Support Vector Machines (SVMs)\n",
    "* Decision Trees and Random Forests\n",
    "* Neural networks"
   ]
  },
  {
   "cell_type": "markdown",
   "metadata": {
    "id": "CrLWRpfQT2ww"
   },
   "source": [
    "**Unsupervised Learning**\n",
    "\n",
    "<img alt=\"mls2 0107\" src=\"./assets/mls2_0107.png\" width=\"800\"/>\n"
   ]
  },
  {
   "cell_type": "markdown",
   "metadata": {
    "id": "dtmVTc1tT_gb"
   },
   "source": [
    "Guest or label the unlabel data set.\n",
    "\n",
    "The system tried to learn without a teacher\n",
    "\n",
    "The important unsupervised learning algorithms are\n",
    "\n",
    "Clustering\n",
    "\n",
    "- K-Means\n",
    "- DBSCAN\n",
    "- Hierarchical Cluster Analysis (HCA)\n",
    "\n",
    "Anomaly detection and novelty detection\n",
    "\n",
    "- One-class SVM\n",
    "- Isolation Forest\n",
    "\n",
    "Visualization and dimensionality reduction\n",
    "\n",
    "- Principal Component Analysis (PCA)\n",
    "- Kernel PCA\n",
    "- Locally Linear Embedding (LLE)\n",
    "- t-Distributed Stochastic Neighbor Embedding (t-SNE)\n",
    "\n",
    "Association rule learning\n",
    "\n",
    "- Apriori\n",
    "- Eclat"
   ]
  },
  {
   "cell_type": "markdown",
   "source": [],
   "metadata": {
    "collapsed": false
   }
  },
  {
   "cell_type": "markdown",
   "source": [
    "For example, say you have a lot of data about your blog’s visitors. You may want to run a clustering algorithm to try to detect groups of similar visitors. \n",
    "The algorithm will find the connection amoung all the features, and group similar visitors together.\n",
    "\n",
    " For example, it might notice that 40% of your visitors are males who love comic books and generally read your blog in the evening, while 20% are young sci-fi lovers who visit during the weekends. If you use a *hierarchical clustering* algorithm, it may also subdivide each group into smaller groups. This may help you target your posts for each group.\n",
    " \n",
    " <img alt=\"mls2 0108\" src=\"./assets/mls2_0108.png\" width=\"800\"/>"
   ],
   "metadata": {
    "collapsed": false
   }
  },
  {
   "cell_type": "markdown",
   "source": [
    "The Visualization algorim is other example of unsupervised algorithm. you feed them a lot of complex and unlabeled data, and they output a 2D or 3D representation of your data that can easily be plotted. These algorithms try to preserve as much structure as they can (e.g., trying to keep separate clusters in the input space from overlapping in the visualization) so that you can understand how the data is organized and perhaps identify unsuspected patterns\n",
    "\n",
    "<img alt=\"mls2 0109\" src=\"./assets/mls2_0109.png\" width=\"800\"/>"
   ],
   "metadata": {
    "collapsed": false
   }
  },
  {
   "cell_type": "markdown",
   "source": [
    "Anomaly detection is another important unsupervised task.\n",
    "\n",
    "For example, detecting unusual credit card transactions to prevent fraud, catching manufacturing defects, or automatically removing outliers from a dataset before feeding it to another learning algorithm\n",
    "\n",
    "<img alt=\"mls2 0110\" src=\"./assets/mls2_0110.png\" width=\"800\"/>"
   ],
   "metadata": {
    "collapsed": false
   }
  },
  {
   "cell_type": "markdown",
   "source": [
    "Semisupervised Learning\n",
    "\n",
    "Manual Labelling is time-consuming and expensive.\n",
    "We will often have plenty of unlabeled instances, and few labeled instances.\n",
    "Some algorithms can deal with data that’s partially labeled. This is called *semisupervised learning*\n",
    "\n",
    "<img alt=\"mls2 0111\" src=\"./assets/mls2_0111.png\" width=\"800\"/>\n",
    "\n",
    "The example is photo-hosting service which try to finding out all our family photo. Finding the people A or B in the photo is the unsupervised learning. Then when we label one person, the system can define who is the people A in the photo.\n",
    "\n",
    "The example of the semisupervised learning algorithms, for example, *deep belief networks* (DBNs) are based on unsupervised components called *restricted Boltzmann machines* (RBMs) stacked on top of one another. RBMs are trained sequentially in an unsupervised manner, and then the whole system is fine-tuned using supervised learning techniques."
   ],
   "metadata": {
    "collapsed": false
   }
  },
  {
   "cell_type": "markdown",
   "source": [
    "**Reinforcement Learning**\n",
    "\n",
    "The learning system, called an *agent* in this context, can observe the environment, select and perform actions, and get *rewards* in return (or *penalties* in the form of negative rewards)\n",
    "\n",
    " It must then learn by itself what is the best strategy, called a *policy*, to get the most reward over time. A policy defines what action the agent should choose when it is in a given situation.\n",
    " \n",
    "<img alt=\"mls2 0112\" src=\"./assets/mls2_0112.png\" width=\"800\"/>\n",
    "\n",
    "The example is the DeepMind's AlphaGo program."
   ],
   "metadata": {
    "collapsed": false
   }
  },
  {
   "cell_type": "markdown",
   "metadata": {
    "id": "9ZVukFsVUqpV"
   },
   "source": [
    "## Batch and Online Learning"
   ]
  },
  {
   "cell_type": "markdown",
   "metadata": {
    "id": "Lb3P6FY7Uu_i"
   },
   "source": [
    "**Batch Learning**\n",
    "\n",
    "so call offline learning, the new data to learn is required each time. The system need to stop and replace with a new model\n",
    "\n"
   ]
  },
  {
   "cell_type": "markdown",
   "metadata": {
    "id": "RZZZyZ3cU8Kg"
   },
   "source": [
    "**Online learning**\n",
    "\n",
    "the system learns by feeding the data instance sequentially. each learning step is fast and cheap.\n",
    "\n",
    "The new data must be provided on the fly\n",
    "\n",
    "<img alt=\"mls2 0113\" src=\"./assets/mls2_0113.png\" width=\"800\"/>\n"
   ]
  },
  {
   "cell_type": "markdown",
   "source": [
    "Online leraning  can be used to train system on huge dataset that cannot fit in one machine's main memory.\n",
    "\n",
    "<img alt=\"mls2 0114\" src=\"./assets/mls2_0114.png\" width=\"800\"/>"
   ],
   "metadata": {
    "collapsed": false
   }
  },
  {
   "cell_type": "markdown",
   "source": [
    "One important parameter of online learning systems is how fast they should adapt to changing data: \n",
    "this is called the **the learning rate**.\n",
    " \n",
    "If you set a high learning rate, then your system will rapidly adapt to new data, but it will also tend to quickly forget the old data (you don’t want a spam filter to flag only the latest kinds of spam it was shown)\n",
    "\n",
    "Conversely, if you set a low learning rate, the system will have more inertia; that is, it will learn more slowly, but it will also be less sensitive to noise in the new data or to sequences of nonrepresentative data points (outliers)."
   ],
   "metadata": {
    "collapsed": false
   }
  },
  {
   "cell_type": "markdown",
   "source": [
    "**Instance-Based Versus Model-Based Learning**\n",
    "The other way to categorize MachieLearning sytem is by how they generalize. \n",
    "\n",
    "To generalize is how they can find the solution\n",
    "\n",
    "* Instance-based learning\n",
    "\n",
    "The system learns the examples by heart, then generalizes to new cases using a similarity measure.\n",
    "\n",
    "<img alt=\"mls2 0115\" src=\"./assets/mls2_0115.png\" width=\"800\"/>\n",
    "\n",
    "* Model-based learning\n",
    "\n",
    "The Model is used to make *prediction*. The system can learn the model parameters.\n",
    "\n",
    "<img alt=\"mls2 0116\" src=\"./assets/mls2_0116.png\" width=\"800\"/>\n"
   ],
   "metadata": {
    "collapsed": false
   }
  },
  {
   "cell_type": "markdown",
   "source": [
    "## Main Challenges of Machine Learning\n",
    "The main task is to select a learning algorithm and train it on some data.\n",
    "\n",
    "The things that can go wrong are *bad algorithm*, *bad data* "
   ],
   "metadata": {
    "collapsed": false
   }
  },
  {
   "cell_type": "markdown",
   "source": [
    "### Insufficient Quantity of Training Data\n",
    "\n",
    "The more data we need, the better the system will perform.\n",
    "\n",
    "<img alt=\"mls2 0120\" src=\"./assets/mls2_0120.png\" width=\"800\"/>"
   ],
   "metadata": {
    "collapsed": false
   }
  },
  {
   "cell_type": "markdown",
   "source": [
    "### Nonrepresentative Training Data\n",
    "If the data is too small, the sampling noise may occur\n",
    "For the large data, the sampling bias can occur if the sampling methods is not correct.    "
   ],
   "metadata": {
    "collapsed": false
   }
  },
  {
   "cell_type": "markdown",
   "source": [
    "### Poor-Quality Data\n",
    "training data is full of errors, outliers, and noise (e.g., due to poor-quality measurements)\n",
    "\n",
    "the system will detect the patterns more difficult\n",
    "\n",
    "- If some instances are clearly outliers, it may help to simply discard them or try to fix the errors manually.\n",
    "- If some instances are missing a few features (e.g., 5% of your customers did not specify their age), you must decide whether you want to ignore this attribute altogether, ignore these instances, fill in the missing values (e.g., with the median age), or train one model with the feature and one model without it.\n"
   ],
   "metadata": {
    "collapsed": false
   }
  },
  {
   "cell_type": "markdown",
   "source": [
    "### Irrelevant Features\n",
    "\n",
    "garbage in, garbage out\n",
    "\n",
    "The good features are required to get good result. The *feature engineering* is the process of selecting good features.\n",
    "\n",
    "The feature engineering involves the following steps:\n",
    " \n",
    "- *Feature selection* (selecting the most useful features to train on among existing features)\n",
    "- *Feature extraction* (combining existing features to produce a more useful one⁠—as we saw earlier, dimensionality reduction algorithms can help)\n",
    "- Creating new features by gathering new data"
   ],
   "metadata": {
    "collapsed": false
   }
  },
  {
   "cell_type": "markdown",
   "source": [
    "### Overfitting the Training Data\n",
    "The model perform well on the training data, but it does not generalize well.\n",
    "or returning too good answer than we can believe.\n",
    "- Say you are visiting a foreign country and the taxi driver rips you off. You might be tempted to say that all taxi drivers in that country are thieves.\n",
    "- Overgeneralizing is something that we humans do all too often, and unfortunately machines can fall into the same trap if we are not careful\n",
    "\n",
    "<img alt=\"mls2 0122\" height=\"300\" src=\"./assets/mls2_0122.png\"/>"
   ],
   "metadata": {
    "collapsed": false
   }
  },
  {
   "cell_type": "markdown",
   "source": [
    "### Underfitting the Training Data\n",
    "\n",
    " It occurs when your model is too simple to learn the underlying structure of the data\n",
    " \n",
    "A linear model of life satisfaction is prone to underfit; reality is just more complex than the model, so its predictions are bound to be inaccurate, even on the training examples\n",
    "\n",
    "Here are the main options for fixing this problem:\n",
    "\n",
    "- Select a more powerful model, with more parameters.\n",
    "- Feed better features to the learning algorithm (feature engineering).\n",
    "- Reduce the constraints on the model (e.g., reduce the regularization hyperparameter)."
   ],
   "metadata": {
    "collapsed": false
   }
  },
  {
   "cell_type": "markdown",
   "source": [
    "## Stepping Back\n",
    "\n",
    "- Machine Learning is about making machines get better at some task by learning from data, instead of having to explicitly code rules.\n",
    "- There are many different types of ML systems: supervised or not, batch or online, instance-based or model-based.\n",
    "- In an ML project you gather data in a training set, and you feed the training set to a learning algorithm. If the algorithm is model-based, it tunes some parameters to fit the model to the training set (i.e., to make good predictions on the training set itself), and then hopefully it will be able to make good predictions on new cases as well. If the algorithm is instance-based, it just learns the examples by heart and generalizes to new instances by using a similarity measure to compare them to the learned instances.\n",
    "- The system will not perform well if your training set is too small, or if the data is not representative, is noisy, or is polluted with irrelevant features (garbage in, garbage out). Lastly, your model needs to be neither too simple (in which case it will underfit) nor too complex (in which case it will overfit)."
   ],
   "metadata": {
    "collapsed": false
   }
  },
  {
   "cell_type": "markdown",
   "source": [],
   "metadata": {
    "collapsed": false
   }
  },
  {
   "cell_type": "markdown",
   "source": [
    "## Classification Example\n",
    "Given the Wisconsin Cancer Data set.\n",
    "The dataset and the name of the data set are provided in the files folder.\n",
    "Look too see the data.\n",
    "\n",
    "Now we will create the classification model to predict that the people will be malignant or benign.\n",
    "\n",
    "Now we will start loading the data and try to clean the data.\n"
   ],
   "metadata": {
    "collapsed": false
   }
  },
  {
   "cell_type": "code",
   "execution_count": null,
   "outputs": [],
   "source": [
    "!pip install pandas numpy"
   ],
   "metadata": {
    "collapsed": false
   }
  },
  {
   "cell_type": "code",
   "execution_count": null,
   "outputs": [],
   "source": [
    "import pandas as pd\n",
    "\n",
    "\n",
    "frame = pd.read_csv('files/breast-cancer-wisconsin.data',header=None)\n",
    "frame"
   ],
   "metadata": {
    "collapsed": false
   }
  },
  {
   "cell_type": "markdown",
   "source": [
    "Then try to cleaning data by removing the missing data\n"
   ],
   "metadata": {
    "collapsed": false
   }
  },
  {
   "cell_type": "code",
   "execution_count": null,
   "outputs": [],
   "source": [
    "import numpy as np\n",
    "frame_replaceNA = frame.replace('?',np.nan)\n",
    "frame_replaceNA"
   ],
   "metadata": {
    "collapsed": false
   }
  },
  {
   "cell_type": "code",
   "execution_count": null,
   "outputs": [],
   "source": [
    "frame_non_na = frame_replaceNA.dropna()"
   ],
   "metadata": {
    "collapsed": false
   }
  },
  {
   "cell_type": "markdown",
   "source": [
    "Then we try to separate the features, and the labeling data\n",
    "The labeling data is the last column in the dataframe (from the names we can read)"
   ],
   "metadata": {
    "collapsed": false
   }
  },
  {
   "cell_type": "code",
   "execution_count": null,
   "outputs": [],
   "source": [
    "X, y = frame_non_na.iloc[:,1:10], frame_non_na[10]\n",
    "X.shape"
   ],
   "metadata": {
    "collapsed": false
   }
  },
  {
   "cell_type": "markdown",
   "source": [
    "Check that there is no data with then missing value"
   ],
   "metadata": {
    "collapsed": false
   }
  },
  {
   "cell_type": "code",
   "execution_count": null,
   "outputs": [],
   "source": [
    "X[X.isnull().any(axis=1)]\n"
   ],
   "metadata": {
    "collapsed": false
   }
  },
  {
   "cell_type": "markdown",
   "source": [
    "Check the label values"
   ],
   "metadata": {
    "collapsed": false
   }
  },
  {
   "cell_type": "code",
   "execution_count": null,
   "outputs": [],
   "source": [
    "y"
   ],
   "metadata": {
    "collapsed": false
   }
  },
  {
   "cell_type": "code",
   "execution_count": null,
   "outputs": [],
   "source": [
    "y[y.isnull()]"
   ],
   "metadata": {
    "collapsed": false
   }
  },
  {
   "cell_type": "markdown",
   "source": [
    "Split the data to train, and data to test. The ratio is around 70:30"
   ],
   "metadata": {
    "collapsed": false
   }
  },
  {
   "cell_type": "code",
   "execution_count": null,
   "outputs": [],
   "source": [
    "X_train, X_test, y_train, y_test = X[:550], X[550:], y[:550], y[550:]"
   ],
   "metadata": {
    "collapsed": false
   }
  },
  {
   "cell_type": "markdown",
   "source": [
    "Shuffle the location of the data to prevent the bias of sequence of input data"
   ],
   "metadata": {
    "collapsed": false
   }
  },
  {
   "cell_type": "code",
   "execution_count": null,
   "outputs": [],
   "source": [
    "import numpy as np\n",
    "shuffle_index = np.random.permutation(550)\n",
    "shuffle_index"
   ],
   "metadata": {
    "collapsed": false
   }
  },
  {
   "cell_type": "markdown",
   "source": [
    "Then we will shuffle the data by the input data and the label data"
   ],
   "metadata": {
    "collapsed": false
   }
  },
  {
   "cell_type": "code",
   "execution_count": null,
   "outputs": [],
   "source": [
    "X_train_shuffle, y_train_shuffle = X_train.iloc[shuffle_index], y_train.iloc[shuffle_index]"
   ],
   "metadata": {
    "collapsed": false
   }
  },
  {
   "cell_type": "markdown",
   "source": [
    "Then we will create the label data to be the binary data"
   ],
   "metadata": {
    "collapsed": false
   }
  },
  {
   "cell_type": "code",
   "execution_count": null,
   "outputs": [],
   "source": [
    "y_train_benign = (y_train_shuffle == 2)\n",
    "y_test_benign = (y_test == 2)"
   ],
   "metadata": {
    "collapsed": false
   }
  },
  {
   "cell_type": "markdown",
   "source": [
    "Then we will create the model using the SGDClassifier\n",
    "note that you may have to install sklearn"
   ],
   "metadata": {
    "collapsed": false
   }
  },
  {
   "cell_type": "code",
   "execution_count": null,
   "outputs": [],
   "source": [
    "!pip install scikit-learn"
   ],
   "metadata": {
    "collapsed": false
   }
  },
  {
   "cell_type": "code",
   "execution_count": null,
   "outputs": [],
   "source": [
    "from sklearn.linear_model import SGDClassifier\n",
    "sgd_clf = SGDClassifier(random_state=42)\n",
    "sgd_clf.fit(X_train_shuffle, y_train_benign)"
   ],
   "metadata": {
    "collapsed": false
   }
  },
  {
   "cell_type": "markdown",
   "source": [
    "Try to make the prediction\n"
   ],
   "metadata": {
    "collapsed": false
   }
  },
  {
   "cell_type": "code",
   "execution_count": null,
   "outputs": [],
   "source": [
    "sgd_clf.predict([[5,6,7,8,8,10,3,10,3],[1,1,1,3,2,1,1,1,1]])"
   ],
   "metadata": {
    "collapsed": false
   }
  },
  {
   "cell_type": "markdown",
   "source": [
    "Try to model the others Bigh Data"
   ],
   "metadata": {
    "collapsed": false
   }
  },
  {
   "cell_type": "code",
   "metadata": {
    "id": "VlBD1wB4TLX1"
   },
   "source": [
    "#Setup code\n",
    "# Python ≥3.5 is required\n",
    "import sys\n",
    "assert sys.version_info >= (3, 5)\n",
    "\n",
    "# Scikit-Learn ≥0.20 is required\n",
    "import sklearn\n",
    "assert sklearn.__version__ >= \"0.20\"\n",
    "\n",
    "# Common imports\n",
    "import numpy as np\n",
    "import os\n",
    "\n",
    "# to make this notebook's output stable across runs\n",
    "np.random.seed(42)\n",
    "\n",
    "# To plot pretty figures\n",
    "%matplotlib inline\n",
    "import matplotlib as mpl\n",
    "import matplotlib.pyplot as plt\n",
    "mpl.rc('axes', labelsize=14)\n",
    "mpl.rc('xtick', labelsize=12)\n",
    "mpl.rc('ytick', labelsize=12)\n",
    "\n",
    "# Where to save the figures\n",
    "PROJECT_ROOT_DIR = \".\"\n",
    "CHAPTER_ID = \"classification\"\n",
    "IMAGES_PATH = os.path.join(PROJECT_ROOT_DIR, \"images\", CHAPTER_ID)\n",
    "os.makedirs(IMAGES_PATH, exist_ok=True)\n",
    "\n",
    "def save_fig(fig_id, tight_layout=True, fig_extension=\"png\", resolution=300):\n",
    "    path = os.path.join(IMAGES_PATH, fig_id + \".\" + fig_extension)\n",
    "    print(\"Saving figure\", fig_id)\n",
    "    if tight_layout:\n",
    "        plt.tight_layout()\n",
    "    plt.savefig(path, format=fig_extension, dpi=resolution)"
   ],
   "execution_count": null,
   "outputs": []
  },
  {
   "cell_type": "markdown",
   "metadata": {
    "id": "567pgPN2Ssaq"
   },
   "source": [
    "## MNIST\n",
    "---\n",
    "\n",
    "The data set of 70,000 small image of digits handwritten in hight school students and empless of the US Cencus Bureau"
   ]
  },
  {
   "cell_type": "code",
   "metadata": {
    "id": "dt-6XFypRSWZ",
    "colab": {
     "base_uri": "https://localhost:8080/"
    },
    "outputId": "cfa46576-96ca-4259-8186-3bfed3060e30"
   },
   "source": [
    "from sklearn.datasets import fetch_openml\n",
    "mnist = fetch_openml('mnist_784', version=1)\n",
    "mnist.keys()"
   ],
   "execution_count": null,
   "outputs": []
  },
  {
   "cell_type": "code",
   "metadata": {
    "id": "3Kcls3qWTy24",
    "colab": {
     "base_uri": "https://localhost:8080/"
    },
    "outputId": "1c4d5a38-5c30-42fb-8251-caf184bfa578"
   },
   "source": [
    "mnist"
   ],
   "execution_count": null,
   "outputs": []
  },
  {
   "cell_type": "markdown",
   "metadata": {
    "id": "kczSjDaJT-xe"
   },
   "source": [
    "From the key, we can see that\n",
    "\n",
    "\n",
    "*   `DESCR` key describe the data set\n",
    "*   `data` key contain and array with one row per instance and one column per feature\n",
    "*   `target` key containg and array with label\n",
    "\n",
    "now we can see the size of these arrays:\n"
   ]
  },
  {
   "cell_type": "code",
   "metadata": {
    "id": "ip2sLm1RUeZ6",
    "colab": {
     "base_uri": "https://localhost:8080/"
    },
    "outputId": "d5800772-9035-42d7-ce26-e9b734f18b2a"
   },
   "source": [
    "X, y = mnist[\"data\"], mnist[\"target\"]\n",
    "X.shape"
   ],
   "execution_count": null,
   "outputs": []
  },
  {
   "cell_type": "code",
   "metadata": {
    "id": "lOERb2OzUgXf",
    "colab": {
     "base_uri": "https://localhost:8080/"
    },
    "outputId": "1dfb4395-76f5-4c78-9cab-a0551c1d5f13"
   },
   "source": [
    "y.shape"
   ],
   "execution_count": null,
   "outputs": []
  },
  {
   "cell_type": "code",
   "source": [
    "X.loc[999].values"
   ],
   "metadata": {
    "colab": {
     "base_uri": "https://localhost:8080/"
    },
    "id": "m5-jrsNCBmg0",
    "outputId": "8adfb843-589a-4ba5-feaf-2d0c2fbc17eb"
   },
   "execution_count": null,
   "outputs": []
  },
  {
   "cell_type": "code",
   "source": [
    "y[999]"
   ],
   "metadata": {
    "colab": {
     "base_uri": "https://localhost:8080/",
     "height": 35
    },
    "id": "-kxFXeOXWZWm",
    "outputId": "6f9033a5-e002-4eea-bdc7-afa48ca803a7"
   },
   "execution_count": null,
   "outputs": []
  },
  {
   "cell_type": "markdown",
   "metadata": {
    "id": "O7CQKwj-U_mP"
   },
   "source": [
    "There are 70,000 images, and each image has 784 features.\n",
    "\n",
    "This is because each image\n",
    "is 28×28 pixels, and each feature simply represents one pixel’s intensity, from 0\n",
    "(white) to 255 (black).\n",
    "\n",
    "Let’s take a peek at one digit from the dataset"
   ]
  },
  {
   "cell_type": "code",
   "metadata": {
    "id": "5fVXNtsSVGzJ",
    "colab": {
     "base_uri": "https://localhost:8080/",
     "height": 314
    },
    "outputId": "f0b91f96-1e41-40c8-8890-0fb55b9b119c"
   },
   "source": [
    "%matplotlib inline\n",
    "import matplotlib as mpl\n",
    "import matplotlib.pyplot as plt\n",
    "\n",
    "some_digit = X.loc[999].values\n",
    "some_digit_image = some_digit.reshape(28, 28)\n",
    "plt.imshow(some_digit_image, cmap=mpl.cm.binary)\n",
    "plt.axis(\"off\")\n",
    "\n",
    "save_fig(\"some_digit_plot\")\n",
    "plt.show()"
   ],
   "execution_count": null,
   "outputs": []
  },
  {
   "cell_type": "code",
   "metadata": {
    "id": "VjgjL-wYIsnJ",
    "colab": {
     "base_uri": "https://localhost:8080/",
     "height": 35
    },
    "outputId": "88854655-ee26-4f6c-c75b-7aa02c2e0e86"
   },
   "source": [
    "y[999]"
   ],
   "execution_count": null,
   "outputs": []
  },
  {
   "cell_type": "markdown",
   "metadata": {
    "id": "C02Lz2mbVSmy"
   },
   "source": [
    "ัyou can see your digit in the images folder, try to see other images?"
   ]
  },
  {
   "cell_type": "code",
   "metadata": {
    "id": "uGHuQc7IVaCi",
    "colab": {
     "base_uri": "https://localhost:8080/",
     "height": 314
    },
    "outputId": "86b56365-0017-4034-bcb1-c2172fe8169a"
   },
   "source": [
    "%matplotlib inline\n",
    "import matplotlib as mpl\n",
    "import matplotlib.pyplot as plt\n",
    "\n",
    "some_digit = X.loc[2].values\n",
    "some_digit_image = some_digit.reshape(28, 28)\n",
    "plt.imshow(some_digit_image, cmap=mpl.cm.binary)\n",
    "plt.axis(\"off\")\n",
    "\n",
    "save_fig(\"some_digit_plot\")\n",
    "plt.show()"
   ],
   "execution_count": null,
   "outputs": []
  },
  {
   "cell_type": "code",
   "source": [
    "y[2]"
   ],
   "metadata": {
    "colab": {
     "base_uri": "https://localhost:8080/",
     "height": 35
    },
    "id": "J99I1lA5W9w0",
    "outputId": "8d96cddb-f146-4495-fff8-d57a1539e1c3"
   },
   "execution_count": null,
   "outputs": []
  },
  {
   "cell_type": "markdown",
   "metadata": {
    "id": "82dClFkaVomx"
   },
   "source": [
    "We can check the label of the given image using the label"
   ]
  },
  {
   "cell_type": "code",
   "metadata": {
    "id": "SuYhM9_WVw5T",
    "colab": {
     "base_uri": "https://localhost:8080/",
     "height": 35
    },
    "outputId": "6a63bcd3-1e72-4d2e-b9e2-4e4953e616e3"
   },
   "source": [
    "y[0]"
   ],
   "execution_count": null,
   "outputs": []
  },
  {
   "cell_type": "code",
   "metadata": {
    "id": "V_2zwFvmVyq-",
    "colab": {
     "base_uri": "https://localhost:8080/",
     "height": 35
    },
    "outputId": "78a50457-f15a-4951-d86f-2719a411bed7"
   },
   "source": [
    "y[2]"
   ],
   "execution_count": null,
   "outputs": []
  },
  {
   "cell_type": "markdown",
   "metadata": {
    "id": "hlMMdc3DV30Y"
   },
   "source": [
    "You can see more data at a time using the plot function."
   ]
  },
  {
   "cell_type": "code",
   "source": [
    "X.loc[:100].values"
   ],
   "metadata": {
    "colab": {
     "base_uri": "https://localhost:8080/"
    },
    "id": "-ePTBXwkEX1a",
    "outputId": "b11842aa-6a97-439d-defe-a153df9fd76b"
   },
   "execution_count": null,
   "outputs": []
  },
  {
   "cell_type": "code",
   "metadata": {
    "id": "1hppmB-PWAf9",
    "colab": {
     "base_uri": "https://localhost:8080/",
     "height": 674
    },
    "outputId": "a71e93b0-de78-46f7-f973-07f328799a2c"
   },
   "source": [
    "y = y.astype(np.uint8)\n",
    "def plot_digit(data):\n",
    "    image = data.reshape(28, 28)\n",
    "    plt.imshow(image, cmap = mpl.cm.binary,\n",
    "               interpolation=\"nearest\")\n",
    "    plt.axis(\"off\")\n",
    "\n",
    "# EXTRA\n",
    "def plot_digits(instances, images_per_row=10, **options):\n",
    "    size = 28\n",
    "    images_per_row = min(len(instances), images_per_row)\n",
    "    images = [instance.reshape(size,size) for instance in instances]\n",
    "    n_rows = (len(instances) - 1) // images_per_row + 1\n",
    "    row_images = []\n",
    "    n_empty = n_rows * images_per_row - len(instances)\n",
    "    images.append(np.zeros((size, size * n_empty)))\n",
    "    for row in range(n_rows):\n",
    "        rimages = images[row * images_per_row : (row + 1) * images_per_row]\n",
    "        row_images.append(np.concatenate(rimages, axis=1))\n",
    "    image = np.concatenate(row_images, axis=0)\n",
    "    plt.imshow(image, cmap = mpl.cm.binary, **options)\n",
    "    plt.axis(\"off\")\n",
    "\n",
    "plt.figure(figsize=(9,9))\n",
    "example_images = X.loc[:100].values\n",
    "plot_digits(example_images, images_per_row=10)\n",
    "save_fig(\"more_digits_plot\")\n",
    "plt.show()"
   ],
   "execution_count": null,
   "outputs": []
  },
  {
   "cell_type": "markdown",
   "metadata": {
    "id": "KeXPWtB7WbmX"
   },
   "source": [
    "Now we have to split the data into a training set (the first 60,000 images) , and a test set (last 10,000)."
   ]
  },
  {
   "cell_type": "code",
   "source": [
    "X"
   ],
   "metadata": {
    "colab": {
     "base_uri": "https://localhost:8080/",
     "height": 488
    },
    "id": "hQio54l7YN3Y",
    "outputId": "dd708bab-f057-432a-f9a3-0b8a357bb311"
   },
   "execution_count": null,
   "outputs": []
  },
  {
   "cell_type": "code",
   "metadata": {
    "id": "XQJc8pElXVTQ"
   },
   "source": [
    "X_train, X_test, y_train, y_test = X[:60000], X[60000:], y[:60000], y[60000:]"
   ],
   "execution_count": null,
   "outputs": []
  },
  {
   "cell_type": "code",
   "metadata": {
    "id": "_YeyIvFFXWzY",
    "colab": {
     "base_uri": "https://localhost:8080/",
     "height": 488
    },
    "outputId": "163928be-ca11-4cf8-9ccc-d8ef35c4483c"
   },
   "source": [
    "X_train"
   ],
   "execution_count": null,
   "outputs": []
  },
  {
   "cell_type": "markdown",
   "metadata": {
    "id": "FQjn9drEXipH"
   },
   "source": [
    "Let's shuffle the trainign set.\n",
    "\n",
    "This guarantee that all cross-validatoin folds will be similar\n",
    "\n",
    "Some learning algorithm are sensitve to the order of the training instances.\n",
    "\n"
   ]
  },
  {
   "cell_type": "code",
   "metadata": {
    "id": "dG4y2_esX1_U",
    "colab": {
     "base_uri": "https://localhost:8080/"
    },
    "outputId": "119951a2-fd33-45df-f822-87c57912805d"
   },
   "source": [
    "import numpy as np\n",
    "shuffle_index = np.random.permutation(60000)\n",
    "shuffle_index\n"
   ],
   "execution_count": null,
   "outputs": []
  },
  {
   "cell_type": "code",
   "source": [
    "shuffle_index"
   ],
   "metadata": {
    "colab": {
     "base_uri": "https://localhost:8080/"
    },
    "id": "r2_jZ3LqGOge",
    "outputId": "20214ec4-cd58-4687-c6f7-3b45b4270eec"
   },
   "execution_count": null,
   "outputs": []
  },
  {
   "cell_type": "code",
   "metadata": {
    "id": "9hriRYXcX7om"
   },
   "source": [
    "X_train, y_train = X_train.loc[shuffle_index], y_train.loc[shuffle_index]"
   ],
   "execution_count": null,
   "outputs": []
  },
  {
   "cell_type": "code",
   "source": [
    "X_train\n"
   ],
   "metadata": {
    "colab": {
     "base_uri": "https://localhost:8080/",
     "height": 488
    },
    "id": "AGoHljx5HX0W",
    "outputId": "d8adccd2-0c56-4036-f312-220eddd04e7f"
   },
   "execution_count": null,
   "outputs": []
  },
  {
   "cell_type": "markdown",
   "metadata": {
    "id": "nfa-I6xUYrrZ"
   },
   "source": [
    "## Training Binary Classifier\n",
    "\n",
    "The binary classification is to check whether it is true or false (yes, no)\n",
    "\n",
    "So we need to set the `y` value (the output of the classification) to be two classes -> this number is 5 or not"
   ]
  },
  {
   "cell_type": "markdown",
   "source": [
    "**Note** that please check the type of y_train. If it is unit, you may use == 5, but if the type is Category, object you should compare by '5'"
   ],
   "metadata": {
    "id": "0faGx7pihyyA"
   }
  },
  {
   "cell_type": "code",
   "source": [
    "y_train"
   ],
   "metadata": {
    "colab": {
     "base_uri": "https://localhost:8080/"
    },
    "id": "EUdod2Mbba3q",
    "outputId": "cae70bc6-c241-4f9c-af3d-5982e4dc8005"
   },
   "execution_count": null,
   "outputs": []
  },
  {
   "cell_type": "code",
   "metadata": {
    "id": "r_flzjC7aPjl"
   },
   "source": [
    "y_train_5 = (y_train == 5)\n",
    "y_test_5 = (y_test == 5)"
   ],
   "execution_count": null,
   "outputs": []
  },
  {
   "cell_type": "code",
   "source": [
    "y_test[y_test==5]"
   ],
   "metadata": {
    "colab": {
     "base_uri": "https://localhost:8080/"
    },
    "id": "t7zO8edZarQ0",
    "outputId": "e00d0496-55f5-4f3c-fd3a-25309d1c73de"
   },
   "execution_count": null,
   "outputs": []
  },
  {
   "cell_type": "code",
   "metadata": {
    "id": "CnMSSTaqmyIm",
    "colab": {
     "base_uri": "https://localhost:8080/"
    },
    "outputId": "e5cfa716-8bb6-4565-83bd-0f00216cc91f"
   },
   "source": [
    "y_train"
   ],
   "execution_count": null,
   "outputs": []
  },
  {
   "cell_type": "code",
   "metadata": {
    "id": "RqLPv0tUmwJy",
    "colab": {
     "base_uri": "https://localhost:8080/"
    },
    "outputId": "ec78904f-6a9c-410b-ac1d-4ea73e5547a9"
   },
   "source": [
    "y_train_5"
   ],
   "execution_count": null,
   "outputs": []
  },
  {
   "cell_type": "code",
   "source": [
    "y_train_5[y_train_5 == True]"
   ],
   "metadata": {
    "colab": {
     "base_uri": "https://localhost:8080/"
    },
    "id": "6AdfrAuxc4gi",
    "outputId": "ec12adaa-0caa-4fe7-ddca-14666db6c2ab"
   },
   "execution_count": null,
   "outputs": []
  },
  {
   "cell_type": "markdown",
   "metadata": {
    "id": "jxb3HrjOaby4"
   },
   "source": [
    "Now we make a learning process"
   ]
  },
  {
   "cell_type": "code",
   "metadata": {
    "id": "yKWHVfJHLySV",
    "colab": {
     "base_uri": "https://localhost:8080/",
     "height": 488
    },
    "outputId": "a05e09df-3347-423e-a553-be3cca3f3665"
   },
   "source": [
    "X_train"
   ],
   "execution_count": null,
   "outputs": []
  },
  {
   "cell_type": "code",
   "source": [
    "y_train_5"
   ],
   "metadata": {
    "colab": {
     "base_uri": "https://localhost:8080/"
    },
    "id": "D3C9CqyiIGVL",
    "outputId": "5e2752ae-a8dc-42d8-f5ea-52d0b11649b3"
   },
   "execution_count": null,
   "outputs": []
  },
  {
   "cell_type": "code",
   "metadata": {
    "id": "rK8G1WFvL0oC",
    "colab": {
     "base_uri": "https://localhost:8080/"
    },
    "outputId": "585a19ec-3eb7-486b-ca86-42d2b66678c3"
   },
   "source": [
    "y_train_5[y_train_5 == True]"
   ],
   "execution_count": null,
   "outputs": []
  },
  {
   "cell_type": "code",
   "metadata": {
    "id": "Brf7uWUcaVm3",
    "colab": {
     "base_uri": "https://localhost:8080/"
    },
    "outputId": "1b805228-8f28-41dc-e5dd-f164484cd76d"
   },
   "source": [
    "from sklearn.linear_model import SGDClassifier\n",
    "sgd_clf = SGDClassifier(random_state=42)\n",
    "sgd_clf.fit(X_train, y_train_5)"
   ],
   "execution_count": null,
   "outputs": []
  },
  {
   "cell_type": "markdown",
   "metadata": {
    "id": "Jr-iBhQaaeF7"
   },
   "source": [
    "**SGDCClassifier** relies on randomness during training(Stochastic)\n",
    "\n",
    "every time it run the result will be difference\n",
    "\n",
    "to fix the result you need to set the `random_state` parameter\n",
    "\n"
   ]
  },
  {
   "cell_type": "markdown",
   "metadata": {
    "id": "Obp55tSna99f"
   },
   "source": [
    "Then you can use it to detect that this number is 5 or not."
   ]
  },
  {
   "cell_type": "code",
   "metadata": {
    "id": "nykF4JVSbD85",
    "colab": {
     "base_uri": "https://localhost:8080/",
     "height": 198
    },
    "outputId": "c5d8d963-ef01-4982-b63d-7d97a4de1191"
   },
   "source": [
    "plot_digits([X.loc[9366].values,X.loc[202].values])"
   ],
   "execution_count": null,
   "outputs": []
  },
  {
   "cell_type": "code",
   "metadata": {
    "id": "VUcKt6vCbP0G",
    "colab": {
     "base_uri": "https://localhost:8080/"
    },
    "outputId": "232961bb-d0cf-4b62-d87b-b613c9088aac"
   },
   "source": [
    "sgd_clf.predict([X.loc[9366].values,X.loc[202].values])"
   ],
   "execution_count": null,
   "outputs": []
  },
  {
   "cell_type": "markdown",
   "metadata": {
    "id": "oUihEsxGbXl5"
   },
   "source": [
    "to see the real value"
   ]
  },
  {
   "cell_type": "code",
   "metadata": {
    "id": "PGJVME5SbXTx",
    "colab": {
     "base_uri": "https://localhost:8080/"
    },
    "outputId": "7912d471-e3d4-449a-91cf-10870ce86e47"
   },
   "source": [
    "[y[5],y[202]]"
   ],
   "execution_count": null,
   "outputs": []
  },
  {
   "cell_type": "markdown",
   "source": [
    "## Work\n",
    "---\n",
    "With the given data set.\n",
    "[Haberman's Survial Data set](https://archive.ics.uci.edu/ml/datasets/Haberman%27s+Survival)\n",
    "Using the machine learning to check that will you servive after the operation or not. (You have to make a text to explain your attribute and show your result."
   ],
   "metadata": {
    "collapsed": false
   }
  },
  {
   "cell_type": "markdown",
   "metadata": {
    "id": "vMTc9l_4b1N-"
   },
   "source": [
    "## Performance Measures\n",
    "---\n",
    "\n",
    "EValuating a regressor, there are many measurement available.\n",
    "\n"
   ]
  },
  {
   "cell_type": "markdown",
   "metadata": {
    "id": "5kisSVWichlI"
   },
   "source": [
    "### Cross-validation\n",
    "---\n",
    "Reassembling the data using the differnt fold\n",
    "\n",
    "The normal code for the k-fold is run like this"
   ]
  },
  {
   "cell_type": "code",
   "source": [
    "X_train"
   ],
   "metadata": {
    "colab": {
     "base_uri": "https://localhost:8080/",
     "height": 488
    },
    "id": "dXpduPJIKpiH",
    "outputId": "228493d8-84f3-4784-8c08-d5fdbda6ad27"
   },
   "execution_count": null,
   "outputs": []
  },
  {
   "cell_type": "code",
   "source": [
    "y_train_5\n"
   ],
   "metadata": {
    "colab": {
     "base_uri": "https://localhost:8080/"
    },
    "id": "TzAbCc6oKu-j",
    "outputId": "d8c6b413-a4ef-40c8-9b50-8bb445bbc79c"
   },
   "execution_count": null,
   "outputs": []
  },
  {
   "cell_type": "code",
   "metadata": {
    "colab": {
     "base_uri": "https://localhost:8080/"
    },
    "id": "7g5T3Alwt9nn",
    "outputId": "f66b1c0a-26b9-461f-ab4b-bcda1fc79440"
   },
   "source": [
    "X_train\n",
    "len(y_train_5)"
   ],
   "execution_count": null,
   "outputs": []
  },
  {
   "cell_type": "code",
   "metadata": {
    "id": "jpPnHQM3dXEZ",
    "colab": {
     "base_uri": "https://localhost:8080/"
    },
    "outputId": "bc0e384c-aa38-4437-b19f-61f125a63ca1"
   },
   "source": [
    "from sklearn.model_selection import StratifiedKFold\n",
    "from sklearn.base import clone\n",
    "\n",
    "skfolds = StratifiedKFold(n_splits=3, shuffle=False)\n",
    "\n",
    "for train_index, test_index in skfolds.split(X_train, y_train_5):\n",
    "    clone_clf = clone(sgd_clf)\n",
    "    X_train_folds = X_train.loc[train_index]\n",
    "    y_train_folds = y_train_5.loc[train_index]\n",
    "    X_test_fold = X_train.loc[test_index]\n",
    "    y_test_fold = y_train_5.loc[test_index]\n",
    "\n",
    "    clone_clf.fit(X_train_folds, y_train_folds)\n",
    "    y_pred = clone_clf.predict(X_test_fold)\n",
    "    n_correct = sum(y_pred == y_test_fold)\n",
    "    print(n_correct / len(y_pred))"
   ],
   "execution_count": null,
   "outputs": []
  },
  {
   "cell_type": "markdown",
   "metadata": {
    "id": "oPm3VsFkeCtU"
   },
   "source": [
    "This code are provided in a simple code as given\n"
   ]
  },
  {
   "cell_type": "code",
   "metadata": {
    "id": "jCV4jFXIeVaj",
    "colab": {
     "base_uri": "https://localhost:8080/"
    },
    "outputId": "84bff048-148e-4e64-9848-220ae31eca63"
   },
   "source": [
    "from sklearn.model_selection import cross_val_score\n",
    "cross_val_score(sgd_clf, X_train, y_train_5, cv=3, scoring=\"accuracy\")"
   ],
   "execution_count": null,
   "outputs": []
  },
  {
   "cell_type": "markdown",
   "metadata": {
    "id": "x_vk8X3iefiv"
   },
   "source": [
    "this about 95% accuracy (ratio of correct prediction)\n"
   ]
  },
  {
   "cell_type": "markdown",
   "metadata": {
    "id": "rukT-RKxfoOF"
   },
   "source": [
    "Now we will provide the dump clasification that every image is in the \"not-5\" class"
   ]
  },
  {
   "cell_type": "code",
   "metadata": {
    "id": "RDWmWKoFfvkY"
   },
   "source": [
    "from sklearn.base import BaseEstimator\n",
    "class Never5Classifier(BaseEstimator):\n",
    "    def fit(self, X, y=None):\n",
    "        pass\n",
    "    def predict(self, X):\n",
    "        return np.zeros((len(X), 1), dtype=bool)"
   ],
   "execution_count": null,
   "outputs": []
  },
  {
   "cell_type": "markdown",
   "metadata": {
    "id": "px-czeBFfzDC"
   },
   "source": [
    "With this class, when we try to predict anything, it will return False (the default return value of the boolean type)\n",
    "\n",
    "now we check for the accuracy"
   ]
  },
  {
   "cell_type": "code",
   "metadata": {
    "id": "2c8gjnvLjgk6",
    "colab": {
     "base_uri": "https://localhost:8080/"
    },
    "outputId": "0f5967fb-0ac2-4e46-97c4-cb8ceda2242a"
   },
   "source": [
    "never_5_clf = Never5Classifier()\n",
    "never_5_clf.predict([[1,2,3],[4,5,]])"
   ],
   "execution_count": null,
   "outputs": []
  },
  {
   "cell_type": "code",
   "metadata": {
    "id": "wJ6CkPKqf_Av",
    "colab": {
     "base_uri": "https://localhost:8080/"
    },
    "outputId": "b8834db9-0866-49a2-c4a3-5306c6812a49"
   },
   "source": [
    "never_5_clf = Never5Classifier()\n",
    "cross_val_score(never_5_clf, X_train, y_train_5, cv=3, scoring=\"accuracy\")"
   ],
   "execution_count": null,
   "outputs": []
  },
  {
   "cell_type": "markdown",
   "metadata": {
    "id": "zAynCUe4gFfK"
   },
   "source": [
    "The accuracy is still 90percent!!!\n",
    "This is becuase only about 10% of the images are 5s"
   ]
  },
  {
   "cell_type": "markdown",
   "metadata": {
    "id": "SQdbG05KgQem"
   },
   "source": [
    "This show that why accuracy is not preferred performance measure for classifers\n",
    "Exspecially we are dealing with *skew data set*\n",
    "\n",
    "\n",
    "> Skewed datasets is when the classes are much more frequent than the other\n",
    "\n"
   ]
  },
  {
   "cell_type": "markdown",
   "metadata": {
    "id": "TcOd9hOsgg8k"
   },
   "source": [
    "### Confusion Matrix\n",
    "---"
   ]
  },
  {
   "cell_type": "markdown",
   "metadata": {
    "id": "lpyvBihcDwOQ"
   },
   "source": [
    "The confusion matrix is calculated from counting the number of times instance of class A are classified as class B\n",
    "The result is shown in the image, and it can be calculated uisng the `cross_val_predict` method"
   ]
  },
  {
   "cell_type": "markdown",
   "metadata": {
    "id": "OJgGBSrzDW5T"
   },
   "source": [
    "![image.png](data:image/png;base64,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)"
   ]
  },
  {
   "cell_type": "code",
   "metadata": {
    "id": "nZ3wSi-iEK7V",
    "colab": {
     "base_uri": "https://localhost:8080/"
    },
    "outputId": "8d05df9c-8053-41a9-f62e-2b43220802ef"
   },
   "source": [
    "from sklearn.model_selection import cross_val_predict\n",
    "\n",
    "y_train_pred = cross_val_predict(sgd_clf, X_train, y_train_5, cv=3)\n",
    "y_train_pred"
   ],
   "execution_count": null,
   "outputs": []
  },
  {
   "cell_type": "markdown",
   "metadata": {
    "id": "k0wbpClHEuag"
   },
   "source": [
    "To get the confusion matrix call"
   ]
  },
  {
   "cell_type": "code",
   "metadata": {
    "id": "LnHWz_GrEzIt",
    "colab": {
     "base_uri": "https://localhost:8080/"
    },
    "outputId": "b71553a2-b2f9-4387-a2da-be35918e79e6"
   },
   "source": [
    "from sklearn.metrics import confusion_matrix\n",
    "\n",
    "confusion_matrix(y_train_5, y_train_pred)"
   ],
   "execution_count": null,
   "outputs": []
  },
  {
   "cell_type": "code",
   "metadata": {
    "id": "8fgBCSkQGYTJ",
    "colab": {
     "base_uri": "https://localhost:8080/"
    },
    "outputId": "f41cb098-a0ec-4f8d-a33d-2f7fa655ae03"
   },
   "source": [
    "y_train_perfect_predictions = y_train_5  # pretend we reached perfection\n",
    "confusion_matrix(y_train_5, y_train_perfect_predictions)"
   ],
   "execution_count": null,
   "outputs": []
  },
  {
   "cell_type": "markdown",
   "metadata": {
    "id": "ei0EcTLIGV9e"
   },
   "source": [
    "The perfect prediction can be found in"
   ]
  },
  {
   "cell_type": "markdown",
   "metadata": {
    "id": "AYi64n5eDd_x"
   },
   "source": [
    "**Precision**  The accuracy of positive prediction. (Predict for the correct value)\n",
    "\n",
    "\n",
    "> $precision = \\frac{TP}{TP + FP}$\n",
    "\n"
   ]
  },
  {
   "cell_type": "code",
   "metadata": {
    "id": "AUhWCwkWFoqn"
   },
   "source": [
    "from sklearn.metrics import precision_score, recall_score\n",
    "\n",
    "precision_score(y_train_5, y_train_pred)"
   ],
   "execution_count": null,
   "outputs": []
  },
  {
   "cell_type": "markdown",
   "metadata": {
    "id": "-meOsgM1FpAe"
   },
   "source": [
    "**Recall** or sensitivity or true positive rate, this is the ratio of positive instances taht are correctly detected by the classifier\n",
    "\n",
    "> $recall = \\frac{TP}{TP + FN}$"
   ]
  },
  {
   "cell_type": "markdown",
   "metadata": {
    "id": "D3Wc67VjGGyH"
   },
   "source": [
    "The score can be calucalted form the given code"
   ]
  },
  {
   "cell_type": "code",
   "metadata": {
    "id": "SklBf1Lqfnv1",
    "colab": {
     "base_uri": "https://localhost:8080/"
    },
    "outputId": "44da56bf-88cd-44b5-e8fc-25c60d39db5b"
   },
   "source": [
    "\n",
    "recall_score(y_train_5, y_train_pred)"
   ],
   "execution_count": null,
   "outputs": []
  },
  {
   "cell_type": "markdown",
   "metadata": {
    "id": "aUqXExUdGmvw"
   },
   "source": [
    "To compare two classifiers, the simple way to compare is provided.\n",
    "**F1** score is the harmonic mean of precision and recall.\n",
    "\n",
    "Instead of regular mean, the harmonic mean give much more weight to low values.\n",
    "\n",
    "The high **F1** is from both high recall and precision.\n",
    "\n",
    ">$F_{1} = \\frac{2}{\\frac{1}{precision} + \\frac{1}{recall}} = 2 \\times{\\frac{precision \\times recall}{precision + recall}} = \\frac{TP}{TP+ \\frac{FN+FP}{2}}  $\n",
    "\n",
    "The F1 score can be found"
   ]
  },
  {
   "cell_type": "code",
   "metadata": {
    "id": "ITfJbeNhIIVU",
    "colab": {
     "base_uri": "https://localhost:8080/"
    },
    "outputId": "88f741f2-fb95-4b3b-c8ea-4eeea7dfd71e"
   },
   "source": [
    "from sklearn.metrics import f1_score\n",
    "f1_score(y_train_5, y_train_pred)"
   ],
   "execution_count": null,
   "outputs": []
  },
  {
   "cell_type": "markdown",
   "metadata": {
    "id": "qGyuBGSaKd6L"
   },
   "source": [
    "### The ROC Curve\n",
    "---\n",
    "\n",
    "**Receiver operating charectristic** (ROC)\n",
    "\n",
    "ploting the *true positive rate* (another name of *recall*) against the false positive rate (FPR).\n",
    "The FPR is the ratio of negative instance that are incorrectly clasified as positive. it is equal to one minus the true negative rate.\n",
    "\n",
    "The True negative rate (TNR)  is also called *specificity*\n",
    "\n",
    "ROC curve plots the sensitivity (recal) versus 1 - specificity\n"
   ]
  },
  {
   "cell_type": "code",
   "metadata": {
    "id": "dbWNxyuSMLDY"
   },
   "source": [
    "y_scores = cross_val_predict(sgd_clf, X_train, y_train_5, cv=3,\n",
    "                             method=\"decision_function\")"
   ],
   "execution_count": null,
   "outputs": []
  },
  {
   "cell_type": "code",
   "metadata": {
    "id": "TwajnI88Lw8m"
   },
   "source": [
    "from sklearn.metrics import roc_curve\n",
    "\n",
    "fpr, tpr, thresholds = roc_curve(y_train_5, y_scores)"
   ],
   "execution_count": null,
   "outputs": []
  },
  {
   "cell_type": "code",
   "metadata": {
    "id": "IixhAM1RMayL"
   },
   "source": [
    "def plot_roc_curve(fpr, tpr, label=None):\n",
    "    plt.plot(fpr, tpr, linewidth=2, label=label)\n",
    "    plt.plot([0, 1], [0, 1], 'k--') # dashed diagonal\n",
    "    plt.axis([0, 1, 0, 1])\n",
    "    plt.xlabel('False Positive Rate (Fall-Out)', fontsize=16)\n",
    "    plt.ylabel('True Positive Rate (Recall)', fontsize=16)\n",
    "    plt.grid(True)"
   ],
   "execution_count": null,
   "outputs": []
  },
  {
   "cell_type": "code",
   "metadata": {
    "id": "kyXCJL3SMd7M",
    "colab": {
     "base_uri": "https://localhost:8080/",
     "height": 458
    },
    "outputId": "aba2ef7d-1ca1-4cff-cda5-dad8d38436b5"
   },
   "source": [
    "plt.figure(figsize=(8, 6))\n",
    "plot_roc_curve(fpr, tpr)\n",
    "# plt.plot([4.837e-3, 4.837e-3], [0., 0.4368], \"r:\")\n",
    "# plt.plot([0.0, 4.837e-3], [0.4368, 0.4368], \"r:\")\n",
    "# plt.plot([4.837e-3], [0.4368], \"ro\")\n",
    "save_fig(\"roc_curve_plot\")\n",
    "plt.show()"
   ],
   "execution_count": null,
   "outputs": []
  },
  {
   "cell_type": "markdown",
   "metadata": {
    "id": "TJjBFwM-M8fi"
   },
   "source": [
    "There are another classification technic as `RandomForest` classifier\n",
    "\n",
    "To compare the reslt, we need to train the model first"
   ]
  },
  {
   "cell_type": "code",
   "metadata": {
    "id": "Dy0T3dtjNQJ1"
   },
   "source": [
    "from sklearn.ensemble import RandomForestClassifier\n",
    "forest_clf = RandomForestClassifier(n_estimators=100, random_state=42)\n",
    "y_probas_forest = cross_val_predict(forest_clf, X_train, y_train_5, cv=3,\n",
    "                                    method=\"predict_proba\")"
   ],
   "execution_count": null,
   "outputs": []
  },
  {
   "cell_type": "code",
   "metadata": {
    "id": "t0Z-Q2qusXuK"
   },
   "source": [
    "# The example call for Random Forest\n",
    "from sklearn.ensemble import RandomForestClassifier\n",
    "forest_clf = RandomForestClassifier(n_estimators=100, random_state=42)\n",
    "y_forest = cross_val_predict(forest_clf, X_train, y_train_5, cv=3)"
   ],
   "execution_count": null,
   "outputs": []
  },
  {
   "cell_type": "markdown",
   "metadata": {
    "id": "OdP1FebyNtwW"
   },
   "source": [
    "Then get the result\n"
   ]
  },
  {
   "cell_type": "code",
   "metadata": {
    "id": "jYhjxKtZNwc1"
   },
   "source": [
    "y_scores_forest = y_probas_forest[:, 1] # score = proba of positive class\n",
    "fpr_forest, tpr_forest, thresholds_forest = roc_curve(y_train_5,y_scores_forest)"
   ],
   "execution_count": null,
   "outputs": []
  },
  {
   "cell_type": "markdown",
   "metadata": {
    "id": "JBD7HYetN3XJ"
   },
   "source": [
    "Then plot the compare curve"
   ]
  },
  {
   "cell_type": "code",
   "metadata": {
    "id": "cfXSekGJN6bY",
    "colab": {
     "base_uri": "https://localhost:8080/",
     "height": 458
    },
    "outputId": "bf03fe51-ebea-47cf-b8f4-032dfb7d1f01"
   },
   "source": [
    "plt.figure(figsize=(8, 6))\n",
    "plt.plot(fpr, tpr, \"b:\", linewidth=2, label=\"SGD\")\n",
    "plot_roc_curve(fpr_forest, tpr_forest, \"Random Forest\")\n",
    "plt.legend(loc=\"lower right\", fontsize=16)\n",
    "save_fig(\"roc_curve_comparison_plot\")\n",
    "plt.show()"
   ],
   "execution_count": null,
   "outputs": []
  },
  {
   "cell_type": "markdown",
   "metadata": {
    "id": "nSqdBguUKKgM"
   },
   "source": [
    "\n",
    "## Work\n",
    "\n"
   ]
  },
  {
   "cell_type": "markdown",
   "metadata": {
    "id": "TgHGhZOLRl8_"
   },
   "source": [
    "### Work 1\n",
    "---\n",
    " Given the Wisconsin Cancer Data set\n",
    "[The data set](https://drive.google.com/file/d/1m6Jlq1cpTNtArJVWffACfPD2yUKp1Zzd/view?usp=sharing)\n",
    "[The name](https://drive.google.com/open?id=1xP_C6VC1gGfAygECp0-Covnr2OQRV7Xk)\n",
    "\n",
    "create the prediction model using the SGD, and Random Forest technique.\n",
    "Show the prediction of some values, and then\n",
    "\n",
    "\n",
    "compare accuracy, F1 and ROC from SGD, and Random Forest technique.\n"
   ]
  },
  {
   "cell_type": "markdown",
   "metadata": {
    "id": "dC5HlssrPvfv"
   },
   "source": [
    "### Work 2\n",
    "---\n",
    "With the given data set.\n",
    "[Haberman's Survial Data set](https://archive.ics.uci.edu/ml/datasets/Haberman%27s+Survival)\n",
    "\n",
    "1. Using the machine learning to check that will you survive after the operation or not. (You have to make a text to explain your attribute and show your result.\n",
    "2. Again compare the accuracy, F1 and ROC from SGD, and Random Forest technique"
   ]
  },
  {
   "cell_type": "markdown",
   "metadata": {
    "id": "Wj2lbhj1OQzW"
   },
   "source": [
    "## Conclusion\n",
    "---\n",
    "There are many other technique for classification.\n",
    "The other examples are model training support vector machine, and decision tree. The nueron network is also used. The different things is neuron netowrk does not use any statistical model to train the model. The different is the output of the models."
   ]
  }
 ]
}
