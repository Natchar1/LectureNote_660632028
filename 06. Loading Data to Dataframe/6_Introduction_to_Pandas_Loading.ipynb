{
 "nbformat": 4,
 "nbformat_minor": 0,
 "metadata": {
  "colab": {
   "provenance": []
  },
  "kernelspec": {
   "name": "python3",
   "language": "python",
   "display_name": "Python 3 (ipykernel)"
  }
 },
 "cells": [
  {
   "cell_type": "markdown",
   "metadata": {
    "id": "pkjJbXCKYIWI"
   },
   "source": [
    "# Descriptive Statistic\n",
    "[Short Description](./assets/Descriptive%20Statistic.pptx)\n",
    "\n",
    "With the given data\n"
   ]
  },
  {
   "cell_type": "markdown",
   "source": [
    "creating the data frame using this dictionary\n",
    "(you may copy the source code and paste it in your code editor)\n",
    "```python\n",
    "data = {\n",
    "    'section 1':[13,8,18.5,8.5,12.5,12,8.5,7.5,6.5,13,14,8.5,8.5,15,11,12.5],\n",
    "    'section 2':[10,7,12,15,11,13.5,13,13,3,7.5,15,8,11.5,5,10,11],\n",
    "    'section 3':[16,14,16,15,15,19,15.5,17,12,15,17,15,16,17,14,13],\n",
    "    'section 4':[12,6.5,12.5,16.5,17,20,10,12,2,5,9,10,18,12.5,7,13]\n",
    "}\n",
    "frame = pd.DataFrame(data)\n",
    "frame\n",
    "```\n"
   ],
   "metadata": {
    "collapsed": false
   }
  },
  {
   "cell_type": "code",
   "metadata": {
    "id": "yQRMRYyVX9pr"
   },
   "source": [
    "import pandas as pd"
   ],
   "execution_count": null,
   "outputs": []
  },
  {
   "cell_type": "code",
   "metadata": {
    "id": "azwJCaDKbD2f",
    "colab": {
     "base_uri": "https://localhost:8080/",
     "height": 551
    },
    "outputId": "1e3f5628-3a22-4882-f4b8-ff130d982aa1"
   },
   "source": [],
   "execution_count": null,
   "outputs": []
  },
  {
   "cell_type": "markdown",
   "metadata": {
    "id": "cRLNPFcIcevj"
   },
   "source": [
    "to get all the description, use the function describe\n",
    "```python\n",
    "frame.describe()\n",
    "```"
   ]
  },
  {
   "cell_type": "code",
   "metadata": {
    "id": "aNUplV3vcksl",
    "colab": {
     "base_uri": "https://localhost:8080/",
     "height": 300
    },
    "outputId": "c96f857b-d6d6-45d3-dfbf-919819bf6e63"
   },
   "source": [],
   "execution_count": null,
   "outputs": []
  },
  {
   "cell_type": "markdown",
   "metadata": {
    "id": "9GjDjznPdN0v"
   },
   "source": [
    "We can get only some described statistic by calling the related methods\n",
    "```python\n",
    "frame.count()\n",
    "```"
   ]
  },
  {
   "cell_type": "code",
   "metadata": {
    "id": "bvID4b6icwtL",
    "colab": {
     "base_uri": "https://localhost:8080/"
    },
    "outputId": "d823c8a1-219a-450f-8f12-d22a9c1b2b3d"
   },
   "source": [],
   "execution_count": null,
   "outputs": []
  },
  {
   "cell_type": "markdown",
   "metadata": {
    "id": "uBk5X_RrdMYG"
   },
   "source": [
    "In addition, we can find the described statistic for only some parameter\n",
    "```python\n",
    "frame['section 1'].min()\n",
    "```"
   ]
  },
  {
   "cell_type": "code",
   "metadata": {
    "id": "bsUfygwBdMIx",
    "colab": {
     "base_uri": "https://localhost:8080/"
    },
    "outputId": "17548722-2c3d-481f-f433-ba2982a7e1c5"
   },
   "source": [],
   "execution_count": null,
   "outputs": []
  },
  {
   "cell_type": "markdown",
   "metadata": {
    "id": "fwe9EOH4eCC1"
   },
   "source": [
    "All descriptive function which can be called is provided\n",
    "\n",
    "\n",
    "![image-20230806163647409](./assets/image-20230806163647409.png)"
   ]
  },
  {
   "cell_type": "markdown",
   "source": [
    "You may try calling the functions\n",
    "```python\n",
    "farme.var()\n",
    "```"
   ],
   "metadata": {
    "collapsed": false
   }
  },
  {
   "cell_type": "code",
   "source": [],
   "metadata": {
    "colab": {
     "base_uri": "https://localhost:8080/"
    },
    "id": "MC7wwWAcj8Ej",
    "outputId": "e92f62b9-cc4d-48e6-8653-2ec290681bc2"
   },
   "execution_count": null,
   "outputs": []
  },
  {
   "cell_type": "markdown",
   "metadata": {
    "id": "n6aixf-IfGr8"
   },
   "source": [
    "In some statisticl data, like correlation, and covariance are compare from pairs of parameter\n",
    "\n",
    "Lest's download the data of the stock prices and volumes obtained from Yahoo! finance and calculate for the covarience"
   ]
  },
  {
   "cell_type": "markdown",
   "source": [
    "The yfinance which is the third party library is used to get the data from Yahoo! finance (the original pandas_datareader is not working with Yahoo! finance anymore) [yfinance](https://pypi.org/project/yfinance/)\n",
    "\n",
    "To install the library, you may use the following command\n",
    "```python\n",
    "!pip install yfinance\n",
    "```"
   ],
   "metadata": {
    "collapsed": false
   }
  },
  {
   "cell_type": "markdown",
   "metadata": {
    "id": "vTiwmJwy7AiC"
   },
   "source": []
  },
  {
   "cell_type": "code",
   "metadata": {
    "colab": {
     "base_uri": "https://localhost:8080/"
    },
    "id": "L2_Vs5ws6_P9",
    "outputId": "b26d62b4-8df4-4651-a060-427302ea3d79"
   },
   "source": [],
   "execution_count": null,
   "outputs": []
  },
  {
   "cell_type": "markdown",
   "source": [
    "**Note** Yahoo has updated their api, so we need the fixed version of pandas_datareader which implemented the new api provided by third party. (The official one is still wait for the pull request for this update)\n",
    "\n",
    "\n"
   ],
   "metadata": {
    "collapsed": false
   }
  },
  {
   "cell_type": "markdown",
   "source": [
    "The following code is used to get the data from Yahoo! finance\n",
    "```python\n",
    "import pandas as pd\n",
    "import yfinance as yf\n",
    "all_data = {ticker: yf.Ticker(ticker).history(period=\"10y\")\n",
    "            for ticker in ['GOOG','IBM']}\n",
    "all_data\n",
    "\n",
    "```"
   ],
   "metadata": {
    "collapsed": false
   }
  },
  {
   "cell_type": "code",
   "metadata": {
    "id": "PhgPE6gWfhcE",
    "colab": {
     "base_uri": "https://localhost:8080/"
    },
    "outputId": "95ce8036-cacd-4419-e3f0-4dab5a938082"
   },
   "source": [
    "\n"
   ],
   "execution_count": null,
   "outputs": []
  },
  {
   "cell_type": "markdown",
   "source": [
    "The data is stored in the dictionary, you can get the data of each stock by calling the key of the dictionary\n",
    "```python\n",
    "all_data['GOOG']\n",
    "```"
   ],
   "metadata": {
    "collapsed": false
   }
  },
  {
   "cell_type": "code",
   "source": [],
   "metadata": {
    "id": "wsBkpuIym3fp"
   },
   "execution_count": null,
   "outputs": []
  },
  {
   "cell_type": "markdown",
   "metadata": {
    "id": "oLgSfUrkiEm0"
   },
   "source": [
    "we can extract create the data frame of price from each stock\n",
    "```python\n",
    "price = pd.DataFrame({ticker: data['Close']\n",
    "                      for ticker, data in all_data.items()})\n",
    "price\n",
    "```"
   ]
  },
  {
   "cell_type": "code",
   "execution_count": null,
   "outputs": [],
   "source": [],
   "metadata": {
    "collapsed": false
   }
  },
  {
   "cell_type": "markdown",
   "metadata": {
    "id": "PpNFm-WXiW63"
   },
   "source": [
    "and create the data frame of Volume\n",
    "```python\n",
    "volume = pd.DataFrame({ticker: data['Volume']\n",
    "                      for ticker, data in all_data.items()})\n",
    "volume\n",
    "```"
   ]
  },
  {
   "cell_type": "code",
   "metadata": {
    "id": "IUknas5FibfY",
    "colab": {
     "base_uri": "https://localhost:8080/",
     "height": 455
    },
    "outputId": "bf937e0e-cc26-47a1-def2-92fba087756d"
   },
   "source": [],
   "execution_count": null,
   "outputs": []
  },
  {
   "cell_type": "markdown",
   "source": [
    "The data frame of price and volume are shown as given\n",
    "```python\n",
    "price['GOOG']\n",
    "price['IBM']\n",
    "```"
   ],
   "metadata": {
    "collapsed": false
   }
  },
  {
   "cell_type": "code",
   "execution_count": null,
   "outputs": [],
   "source": [],
   "metadata": {
    "collapsed": false
   }
  },
  {
   "cell_type": "markdown",
   "metadata": {
    "id": "Wn5ULEnkimdP"
   },
   "source": [
    "The percent changed of each day is calculated as time series (described in later class) is shown as given\n",
    "\n",
    "**Hint** tail() function is used to show the last data, the default is 5 data, you may change the number of showed data by add the number you want to show as the input parameter of the tail methods\n",
    "\n",
    "```python\n",
    "returns = price.pct_change()\n",
    "returns.tail()\n",
    "```"
   ]
  },
  {
   "cell_type": "code",
   "metadata": {
    "id": "ED5ijA3KjCP7",
    "colab": {
     "base_uri": "https://localhost:8080/",
     "height": 238
    },
    "outputId": "8035abc6-8616-486a-95c9-53842339239e"
   },
   "source": [],
   "execution_count": null,
   "outputs": []
  },
  {
   "cell_type": "markdown",
   "metadata": {
    "id": "fq7S826IjLkV"
   },
   "source": [
    "The corr method, and cov methods will calculate the correlation and covarience of the overlapping, non-NA,\n",
    "aligned-by-index values in two Series\n",
    "```python\n",
    "returns['GOOG'].corr(returns['IBM'])\n",
    "returns['GOOG'].cov(returns['IBM'])\n",
    "```"
   ]
  },
  {
   "cell_type": "code",
   "metadata": {
    "id": "hURYjxUkkA87",
    "colab": {
     "base_uri": "https://localhost:8080/"
    },
    "outputId": "20c916b6-acfa-4ab2-c36c-c8acef9eeab2"
   },
   "source": [],
   "execution_count": null,
   "outputs": []
  },
  {
   "cell_type": "markdown",
   "source": [
    "we can call pct_change() method to calculate the percent change of each day\n"
   ],
   "metadata": {
    "collapsed": false
   }
  },
  {
   "cell_type": "code",
   "metadata": {
    "id": "NNQH0tYg6_Lh",
    "colab": {
     "base_uri": "https://localhost:8080/",
     "height": 455
    },
    "outputId": "b999cfb8-918d-4dac-fcff-66f106cf59e5"
   },
   "source": [],
   "execution_count": null,
   "outputs": []
  },
  {
   "cell_type": "markdown",
   "source": [
    "So we can calculate the correlation between the price change and volume change\n",
    "```python\n",
    "changePrice['GOOG'].corr(volumeChange['GOOG'])\n",
    "price['GOOG'].corr(volume['GOOG'])\n",
    "```"
   ],
   "metadata": {
    "collapsed": false
   }
  },
  {
   "cell_type": "code",
   "metadata": {
    "id": "yk1OF1-M7UT4"
   },
   "source": [],
   "execution_count": null,
   "outputs": []
  },
  {
   "cell_type": "markdown",
   "metadata": {
    "id": "ZPO_-HGnkHRv"
   },
   "source": [
    "# Described statistic Hand ons\n"
   ]
  },
  {
   "cell_type": "markdown",
   "metadata": {
    "id": "4P0NSPnnm3A4"
   },
   "source": [
    "You can get the data frame of exchange rate between THB\n",
    "\n",
    "\n",
    "\n",
    "and USD using the given source code.\n",
    "The provider of the data is from [Fred, St.Louis Fed](https://fred.stlouisfed.org/), you can search for many data provided by them using the given code and change the reader index to the value you want to get\n",
    "\n",
    "\n",
    "\n",
    "\n",
    "\n",
    "![image.png](data:image/png;base64,iVBORw0KGgoAAAANSUhEUgAAA90AAAInCAYAAACFsDpNAAAgAElEQVR4AeydC3xU1bX/f4DvR1GQkCGIUsE36EBIvOCjKoKGK/FWS4tFuYB/Eq5WsLe21iIEpGrLvVWsLYlXoVhuqai9JhYUfFUr1kBglIcPRIFISAii+CoqQv6ftc/ZZ/Y5c85kZpJJJslv/OCcx95rr/3deyaz9lp7HTSk5VXfsOKOHzYsWB9P+KaGBQ9vsgtsalgwtqRhRb19Wr+y4Y6xf2jY6FQ35VnHdzxjFd71TEnDD+5Y2bDLLrvx4R82/MCp6y7boORG21F1x5rlGxqkvpbd0GDqJcfRPqm6Wv/1f2ikrw0Nb8wb3DB48OCGeyNOp2IPdL/X/6HhB1p2g6XTgmeEiUd3p9/ufup+6X4oJo68+Cx1HVFO5JjnsQpbV1wsdB90YZON9MvR2eLpjJXf2CidRd9ov7VeUT4JyHHatFg6bWod470rvWSOuHXwreLtu1PInEcW1x+Mjc6zmPF5WM9nc6waGqz5+8MoQ+HpmesOl/V/cMbOHB91bPBwVDQPIvequTp43hvm1Zhj92fFfdvskxxHvwusPvnpqeo4nzGrnDP/AueRHlPdhqeeZ141KGa6rD0W9mcjHhuTofW9EJUhPd/1zB+c7y93Wc8Y2p8r3X93m+Y8qW9Y4cwDN1vnbNeTDTcPHtww+EdPNnzoXIw9CBonU89g/U2d3LwUS+d7paEh5txRxUeGOQfjjK2SaZaN851s9tPsj6MGD0iABEiABEiABEiglQh0Rqu9zsSEiWcm1vru1/HKlsuQN0CK98C5w/rj3ZrdAHbj9VXvov+wc5FlSzrryvHor6Xa9b4/sod1pcdl+P7wd7HwqTd1CQCXYfqfxuMs44pzuGENVvYbinNV9TORNxzYulPatV/PrcEmORwwHhOUbvpG7PvAm6tQVVWFS17ORW5uLqZW7IktpK8MGIIRWjbexOrnLkPeIH1T3q1+j/jeZXa/e0CO31203NJHigy/HbPtfvfIcYgAgSyBrJHfQ19HhrRxMhx2ZvN+x8/dhbHXjsPYqTvxfZNnXDb9MWGezb5HDvr6yK1f8Xu8Muw/MMIeQp8iAILkNDI//IU5V+tXzMLY3wI3zZM5dTJylA67sXLGOCzc4BTzHDyLOcJB/ZuFlcZ0cRUMGh/0wIiJelxdNeyTyzB9tn0/u1fMXJ+uP1MDxtvjb8+VIdZnLWvQUPTfshNBaqlGzp2m5mrVhS+ouZp7czmCZuu7i26x+zoOYxdEP1dnTbwXE7bdhYULFuHRnHujnw97/sXqaXWv/3hdtgdyTjb6H3ceAUH16te9inedz7B8VgswoZ+WmyQbPcevfQw58xZH+wT57IxvZI4m2ua7eGWdjE5j80AaLcS8qipUTQdm58r3yn1Yr5tJ8j1x/Q3BwnLbY84c37RmGyZcGfSd/i4WTrU+F1Nrvocleg6LuEbG1mgRaOQ7+d1Vr6M+qfFwSecJCZAACZAACZAACaSFwCFpkZqgUDFqpi561y7dHxOC6tXtxLsQY+bZaInh0cO+vQIsMqnXrxfMu8oArYnWxfAh/gY3gPqd24Atz2LqtYucCv3HW4dZI2diHmZh6rXj4hvuds319+di4iPAuIeqUHWzIy7gQAz8u/DoigLM7rUGK4cPwQSYSu9GzZb+yMk2qisDbKdxIeAwLkur3dUbxBBejoUnD8GSADExl4ffjiVi8O1+FjOEyfh7HaNv5YxbsHCLXaOfDTBGgM+F5+7CVGVQmyPoU66RS4HzI269N7FsETBh3mXI6gF8f/g4zFkwBEsmii4e9i45cRZxXOXinGxYhLF3R+f6iDhFnVs+c926J3MFWHn3OKx0Cl/mHPkevH4fcm9YDFy/AFVV03yL6Iti7OrFHX3Neu+BET8ajxlqEcYYv0A93bVjz2SxI8V5dHKOsyjnlpskGzXHeyg9xDAeoRfzlNA3sfDau6KMje+nxNs8ExP+dDsWXnsLxi6yFhL82doS68sxteBOrBp6B1ZUVaG7u6FGz3bX6O9eKZqo/qZYWQAFHhAWg17Ho9uG4iZjqM2S1sLYTIyok7m9Bpsmnml87yY+tvG+k8+auBjTF4yzvq/7jcc807B3K8MzEiABEiABEiABEmhRAmkyui1v9MLHnsWoAQFeuw2LMHXRyZj+p5k4S/3geyy448qgvMztQbVLi9d74Zo3MWGA5WHZ9NQivAvbqJB6tldPe8LdPzSDm5Q7Wb1OBvoNDfzxJob3kpHApgXaIPN6efag/OaRuPPVRI3tqD7iscdvl2MhtmHCj8RQNY3uHsjp9y5q6pRDzKqkjOlo/cCjOCylzllDLsOcNW8iT9oVHZJ99bgMs3++E2Mfex31Iy/D7gW3YOHJt2PJ7DMBMSbjDHNMU8Nvx7ycxzB16iLkmN7zmIJBF+x5GDQ/gqo516OMz5p4O0ZcexcW5ozHVsQzLpzKqR3IosXd2zBh3mKM6GEZI+bIBwr1metWWZkrwIjvuT2zfnL2VEzFyNmrEjK2/eq7r+3Gyt++ir7DgTkzno1+hgL1dNf2nm1KcR4pz/4iw8jbsFwtAFkLGYmziepjRZUsvPv3WDlopu3dlnG6C1vH34slI3tALSYGDlpjbYrhvRgTZB5MNduIagC9KJKisW1JkggaYMTP5TsrGf0NPeQ7ctBQ4LevYxNeRd/vzQxY3DDqqEiDW+wFLPs7O4mxbew7WQzvJROtz80DK84NWBAy9OEhCZAACZAACZAACbQAgbSFl0uo8ogtizDVCDm1ftxZIbfKY6G9zBIyaHZWhRpvg4ogl+s9zsX5/Z7Foyt0UOybWGjLzRr5HyqM1QrnHYfVOUZ4ubfe7mfx6HP944RAmkpI2OMQ1YdlOpR497NYaOtQv2KRE1bpCt/2iDh/uhVWPu1cz43GTkV3PIuV0OHtZgXLmFz52LMqlFJxfexZ9B9fYHiPzPLGsZeJLHiYY6RCRu/CnG1+7Rpy4hxuWvMsoLyLu1GzDRhhhzar63Hq+d1SEQXjtynDTcJGk33FnR9xhVnbCVbevcgO2T9ThcJvXfQqzv9RwEJSXHkJ3lSeYJu9CsVOsJ49rnOcsXwTK9Vc9c4VWSTSffLIPm+GFVZ+80DPjeRPxUiu+d5MTJj4H5iARXhAf3YD9YzXRhPmUY/LcJPMHx3yv6aXEV6eBBtTvQHjMd21TcWKPDl/kLh5rZD1aHErTD66LSVem8ZnMWC7hcjd0+s6a5zuL0zau6312rTgLqzsNx6j1LaYePrrGgHvsmXn5EWYs+hke/tPQDnnshUB0f85HZbeyNgaizRKRJzv5Oi89mxNcNrmAQmQAAmQAAmQAAm0DoE0ebqlM1aoJK69C2Of052Tvbe2d0iMcn1v+O2YPvxZzJk6C1D3xeB5F3OmjsNCO2x5xOzbUWOHXep92JbUHhgxezGcEFzxpjoh5XLPrCeeHfEgan0ae7cMrRmyF1GKqpBFq3LWyAJgxjiMVWHTElLs9XJLhe7orl3sjTUVc9/TL899MUan19ihlHJPOLnCXT0VnFMvEysc2rlt75kf0cs0LC3PkfJY6z3D0QrWkex3dcY5ykP2mo+1Q5tH/Px2jJCQ8RnAvNk5XgmB59G+7lT77xMePiXRw9E1P+L3S4WrYpyxreEyTBgPtTe15ueNe44DOxTvhix6PHaLEyI7fXx/zLl7HCDtmdsJYmRIP+8FZsgea7kZHdcoP2ubhHwG/LZydM9KNkAZUHu6o7sv1N7qm/B7zMHtWGLnYJAw81em3oIZsELRg/SM6ZJzwfIu+8+jRkLl1f5eKyLFEidh1NHtAYmycVSxD3Tkw4wc6dOZGDUemCrfV7Id4ufj0f/uuzBWGEgY9ZDL8O7dEjJujclZns9udDzOxIQhizD22rtUK2qfus9kb45xUt8XEn2iXvH0t4vEeZP+9c9JYMFPy1ALIa86ESzB3xGytUMWXBepz6C1lSH4O/msiUOw8NpxmCPtyHe12gqiG+U7CZAACZAACZAACbQegU6SwK31mm+GliUM86kczLaNQRXqbf/YbQbpHVCEGCVrkBcTzi1eOCSe/C5TyDU6P9povzKFb8brIQsry5Ez207Yp/bLIzh5Ysb3J9MUFL6/B36kQ+0zTT/qQwIkQAIkQAIkQAKtTyCNnu4W6px4TXJmYey1dlIg5Y3WHpwW0qEdNVO/4jFsHS8hweZLfljfBXxvsXmxbRzHnR9tuF9tg34GaCnhzL1Ucj/rG8KKtvF9WkEGaNvmVJA98id/D0t8PPJtri9UmARIgARIgARIgATSRKDte7rTBIZiSYAESIAESIAESIAESIAESIAESKCpBNKWSK2pirE+CZAACZAACZAACZAACZAACZAACbR1AjS62/oIUn8SIAESIAESIAESIAESIAESIIGMJUCjO2OHhoqRAAmQAAmQAAmQAAmQAAmQAAm0dQI0utv6CFJ/EiABEiABEiABEiABEiABEiCBjCVAoztjh4aKkQAJkAAJkAAJkAAJkAAJkAAJtHUCNLrb+ghSfxIgARIgARIgARIgARIgARIggYwlQKM7Y4eGipEACZAACZAACZAACZAACZAACbR1AjS62/oIUn8SIAESIAESIAESIAESIAESIIGMJUCjO2OHhoqRAAmQAAmQAAmQAAmQAAmQAAm0dQI0utv6CFJ/EiABEiABEiABEiABEiABEiCBjCVAoztjh4aKkQAJkAAJkAAJkAAJkAAJkAAJtHUCNLrb+ghSfxIgARIgARIgARIgARIgARIggYwlcMhnX2zLWOWoGAmQAAmQAAmQAAmQAAmQAAmQAAm0ZQL0dLfl0aPuJEACJEACJEACJEACJEACJEACGU2ARndGDw+VIwESIAESIAESIAESIAESIAESaMsEaHS35dGj7iRAAiRAAiRAAiRAAiRAAiRAAhlNgEZ3Rg8PlSMBEiABEiABEiABEiABEiABEmjLBGh0t+XRo+4kQAIkQAIkQAIkQAIkQAIkQAIZTYBGd0YPD5UjARIgARIgARIgARIgARIgARJoywRodLfl0aPuJEACJEACJEACJEACJEACJEACGU2ARndGDw+VIwESIAESIAESIAESIAESIAESaMsEaHS35dGj7iRAAiRAAiRAAiRAAiRAAiRAAhlNgEZ3Rg8PlSMBEiABEiABEiABEiABEiABEmjLBGh0t+XRo+4kQAIkQAIkQAIkQAIkQAIkQAIZTYBGd0YPD5UjARIgARIgARIgARIgARIgARJoywQOacvKU3cSIAESIIG2S+DYY/q2XeUzSPPPPt+aQdpQFRIgARIgARIgAS8Berq9RHhOAiRAAiRAAm2IwNtvbWlD2lJVEiABEiABEuh4BGh0d7wxZ49JgARIgATaEYG6ut3Ytm1HO+oRu0ICJEACJEAC7YsAje72NZ7sDQmQAAmQQAcj8Omnn2PPnr3YtevDDtZzdpcESIAESIAE2gaB1jG6d7yNn83djI/bBqMktNyL5T+9BhdfJP8ewaYkarIoCSRPgPMteWasQQLtj8CXX36Ff36xD5999gU++eSz9tdB9ogESIAESIAE2jiBVkik9g1eX/YBXq/ujMfe+DYmn9OyKnz09F24+p51atjGPPA4pgxomRFsrXaDe7cZ8y+6HUulQP4UPPHrS9EtuHDcO7pv+bc9hHuuOC5uWd4kgZYh0Hzzu2X0ZSuawIMP3qcP+e5DYPLkaTFXDxw4gP37v8HXX+/HV199rf4dfvhhMeV4gQRIgARIgARIoHUItKzFK33csRl/2NgZZ3QDnnhqC753zuk4Ptm+b3gEF99UkVStljSwk1KszRfejEfVIsZoXNeowS2e2Rswt1I6PRoPvHQ9zvL0XxvwQfc9xbGp9BrctMR9tWljbRhrbrHGmb/uRoGOfZjA57NpY9Sx8Sbb++hnyr9mJo5Fz55Z/sryKgmQAAmQAAmQAAm0QQItbHSLl7sGb/U8EX/+f8Bv5tTgsTf6tbi3O33jdBwKfv04CtLXQMZJ/ujpxy1v+djzYgzo9CobbBwvvekabO8QXveON9/SO6c6pnT5vKBJUT+NL6alQjY71COVaqxDAiRAAiRAAiRAAhlHoGWN7l1b8MTGzrj6hn44vidw9dkf4GepeLsHXI8XX7reDdPwrjHM2Y0mfWfayz0It159avqa8ZHsGPsSHe8ysC0D4GWfOklfamLYfdLttcMK7rFphx1sY11yebWN78ylf3we32/CFpN0YTjhhKTjoNKlCuWSAAmQAAmQAAmQQMoE0mt079uHzz//Ah9Uf4bt7+3Fe1s/wuqeOfixvY/73FE5OONXNfhN2T6ce9JxOKX3sTipz7dw9DGH4bCWSvG2+3ncds18qIjnGAPO5uopo2nHGhSpeXz8wz8H4dbHb0eBy9kTKz9k7FEH/OpY2rrDsCU8+jzdjdTfN7xme7mv8eiZushEa9Zut/blS58vzDX3kbeG99fH6+5rsMcZv5jysTJdBpMCFSvPHa5v3td790/Eo3ov/9i78GKxXiwx2rN1qXWF7qcppN712fK04RiFnuvSd+eenjHBc1+XiP0MxG5vcJfRNeO3b30P1EdzJEg1F1stR96TGRNdzxgb+1LsXNBlk3gfcB7GoML6DPtUS+x7yatbBW66SLb++IxHzJiNRpVPu95LXbse673EcxIgARIgARIgARJoUwTSYtp+/tpqXP2jZzHyp6/g6tkRTHvkfTy1YS/2fKsbbrumX3QPd+9TcdOV3ZD96V688NIW/Kwsgh/84iVcOfVZjPzxaqz+PM0sd7gNbmmt8p4bMH+D2e5eLJ8bNcrNO1L24tLN5qXkj3c/j1/bid3clddh7jXXeHRxl9juMrjlntTxZk2XH/nefc/yw9hOouYWmcTZXiz/o/3juoW93G4l12HuE00cA7fA5M7EkPBjWTkfV190F5bvDhb3cuk1TlI/V6kAmRIGfNvTe11Fg0/EGNL75+1SSqfExv01l8Et9Stw00+fx0fBDaZ2p8eluOeB0XbdCtzkfJ42Y76dt2HMA27jWAzj2JwOfnM/qlJC/dnwSEx+AEuCfF7ijeVat8EtlZbc7jNWKYxJs8yFKIfAo2+f6E6k2ITvJb82/Mcs0bwcm/Hne6uw9/DDIMnB2uu/zX/+KzYn0D8/vrxGAiRAAiRAAiSQ2QTS4uk+Ju803PT31bin+jBM/s8LcPXJQbb9Ieg3Iox+IzSkb7Bl6Src+PeDuLzwNOQdo6+n533pPfNVaPKLkgDM8MIsXbUZUwZoDyCAi+/Ci782zmF4d5a8hk3FpzZpP/OFDzyOe8ws6vF0cVBUYO494k16XHmZox66Cry84XqcpeVtqLATl2lPp5WlPFreEZjcgZabn4/zXN745MSkWvqsq6cgf4m9GLLkdly8BGgW719SCkUNQ5dnzxm/dZg793mc5xu2W4GlvjobMg1vqR6vynsqsOkKtxHqp7IZfh/1unq8rH4V5VrlfMyt1N5do05lJV7bfWnzRzUMGI1b8+15uuR2zB/2OL6/w84VkD8F39dzWXRzGcZaR7khegYYcQn3J8f5PGk0UW/vOrxctRcFPskCK++Zj0o9VobnvvLFtfjoiuhTAZIfk+aZC7ov7nfhpRdg/LeHJPa9dCqmvPQQToqXINEYs+hn1PoOdevkd/YxXvzvp1CfOxk98Q4W/fgvcK2JqirdcfltkzHczr22YdHdWPSGR1bWRbh1IvDIPS9hF8zye/DcPQ/iGZyFU+s3IXj57jSMvy0bz0j9c76L/xp/mtOA1d5pGP+b72JA/auY6y3jvabPbQkDJvwc4wcAWaEPMffHf7HkONJ5QAIkQAIkQAIk0B4IBFnDTetb5664+D/zMKP/QTx476t4ZsfBBOQdRN2y13CLGNzXDMItF3VNoE4Ti4y9K/qIKxVqact7/wPDo3ccCq4wDW4pk4WT8pvYtq7e41IUmEaFXM/OQSLixzwQDT8/a5j2FgLbd0S9oZtWaUNkEG69NWoAnFV8F8ZoHZJ+115uYMx1UZlJi2lKBZeH1BIknuBmfT668gzr567b76a3V4fXq20J/xE1RgdcjwfG2p1Thqp/R6MGiHHfkek2hKLjK4sqRnnfw7147UUdfj8aDzgh5Meh4NYpCcwtWczRhv1xOO/iQXYr67C9zrfBwIsqGkQ9t15z9PMYu/WScbQe6+ees9KIaz47Osod2Vagdfaqk2B/BsQuKHTr3dsrLPZcwvE14x6DcaH+8FbWoNYpncKYNMtccBRQB9ZnRMYiGgVhfo84pZvwveTIsA+cMXMtoJyKC/VnxFvBOP/w7yvx3If9cPmI7tGrYkD/5uf4L/XvuxiAPXjmngfxXH20CJRhrcv8HP9121D0zBqKWyeIsbwHzzz9jiq8a+UTeKZeDOrRmOySKV/z3nZM+ake78FzC17CLkP2oHXWQkLPEVfj8qx3sGiRpVuqLbAeCZAACZAACZBA5hFIi6dbdbNzVwy7aRBmPLAOs+e+Ctw6FJf3DrLxv0b1X1bjxhf34/If5uHG845uEVJjhnmN6eBmox6v4DKp3zG8iQkLGY0LvcZ6TN3NeFk/Tqs5PdK71+Jl2QTv+hEd03j6L6iEeqONx5BJk9ae0tj99s2vjmNMxOwrB5SRvEQWPGxDNSYawH/8ojKt7QVzfdRWiyoDzH3snkJ6fORyKlnlm3OueFQLPO1xKX56W6U73H6sN1dAivM5qf4YUSyByrpv5F882B2a7b5tnaUwJs0yF/x0Ma7J52RK4PdIKt9LhnB1aIyZWsSa7yoQf0/3J3jnrU+Asy9EoIoQg/ki5V0WQ3q44YF2NaRPBlykDNtn3vgLFm34LvDMHgyYMDmOfF2xud4/RI0sDhhPRBsw/ru28O4YMKg7nnlmEzbgtBbUqbn6RjkkQAIkQAIkQAJBBIKs4KDyyV1Xhnce7jxzP+6dG8HrX/lX/3rtBmVwX/nv57WYwe2vid9V+eGpPW9+95t4TcJRDa9TE6W1SPVNT1hh3QkZG2nXyEqc9uJLbs995T2/j7ufOiG1xIP50uN40fznGyoeX5oZeRC/ZPu7K0adi99L0egMb2+7XXGNEX3h9vR7y6blPGD/dFraaiWhEl0h46EjMQI/J5nwvbT3A7z9EdAj2/By+3HLOg1hMWJr92CX333Xte4YPvEi9JSdCgv/gg3nfFeFdruKpPXkNAw6B0D9S5j7Y693HugZOgHAO1jXaDRLWpWkcBIgARIgARIggWYmkD5Pt1a089Hof9KhwI4j0e1wfdH9flj3I9EH+9C/z5HuGxlw9tHTv4/uidb7Nr0ZiFPW052kzQk3NvaFpiw6XRV3P48/Ku/5aFzns7+1qc06WcnzcxBKSpjsLX0cFzoJwII8zEkJbZbCJ/WO45UObMEn+3Ng2fZxY1Op3mMs/Ym3H172nVuh292arevG/mkz87azP7/ZGkpBUPPPhWhOBD/OafpeisnQD+CYvsE8PtqLPQBigkSCatTXIRphLiHnd+MZVdbcwy1e5qG4/JyX1L5vy8gNEhhw/Y2/4Cc/DriXwOUB43+O8Wrfua2jZ4+4iKiv3QMMaGSxIYG2WIQESIAESIAESCAzCKTX0233sW7nPqDX0ch2+nwQX+8z9nmHjsaZ2IftjbspHAktdeAYgfJDvNmzdNdju/OsMk/CqGbpoLH33LW/NHXhH1VVqser5d82OoXkccfhpG/rtndge0xm773Y/r6+n9p7dO9zavWTqRVty0qyZdaNhgYPwknRiW8W8T2OJ9O3gt/FHifiJH3dlZ8AQF2N83g8XSQj3p1kW6MxRu/1rZyPR10eP3MfcCJ725Po2e4PsF0Xjwlr1zea8J7CmDTLXAhSuceluM7g/GtXVvzm/F4yxixOfoMgNZO6npVtRG2Loa33dEeTrCl59a/iGTvR2q5nXvJJzNZIq2IkO/u/f47x4rlO8iWG93/dZnnc8cZfMHelLC/wRQIkQAIkQAIk0F4JtIDR/Rm27wTO7XMcDsNBfP722/jdHc/jyp8+j2nz38aWTwEcfixOPA54b+cXGczZSCKlM3crbf2MxxS6YRjFOnxbSfEaTUmJNpNgeR7H5PeYq0Zlb8aj6vFmqXu5TUPC+3gzM6rADF1XjxtSybiiSbjUNefxUlpxt7fSMnat7QEXq/rex6npeim+G8n3XGG6jgEp+96TzO7uknlDzGOnJLdA448NMw0dw3CVCAr7MVwp9jhN1aLjJo8HmyKZ6e2Wlt7kHrPo/AG89zaVRudHkxR1PnPRhIEir3J71I+avPwUxqRZ5kKwpmYyRdf8Nask/b0UuxgSHTPJU5DEGHU7Dgn5euvfQaQe6DnoNBU2bqofe2wnMjvnu7j1cpHeconLYrzqktjNNrx31X7oUjUrlFDPXXV4QgIkQAIkQAIkkLkE0h9ejk9RvQs4fv9HWDJnNf6wC+h3+om47xrgmaUf4MZffIBzz+uHYd2B13d9BqBlkqglOiTqB6NKiCU/8q/B0piK1g9JPB68VzWminPB+iEuj47SCcCcW/pAkg/9FHgihb3EIkLtk71nnaW3/WgtJXrsaIxZUuHTH91w7LvzyKNUknNpcSqzd4X9PGQr6Zm+5bznT8FPEwldN/vjVLYO8m8zsol77jXf6amY8sBoLFWGrF/is9js2423fSqmPD4F26+x9s2r7N/3uGvl3+Y+9zuLhg+7523+2NHIX1LRYt5uP/2Vvs5WDSA6r+6yk3qZSdUq8MenRxtPGZDM8EHzR6JR/GgkcM3OOl4pkSc+Cb+UBJlvuAsv6kzlCYg1iyQ/Js0zF0wd3Men4vu3DcJStZBmhpkn+71kL+5VWhnz9feks11mwPV44rYddpI89+ckbiK1407E6d3ewqo68QIHbTaxjWhJqGZmOHd31DmLZisXA/0EXL7uQTzzxkt4rv4055FjTuFUDtT+8pfwzBvRZGi7Xt+o9poPUH6tk/cAACAASURBVIb0O1h0zx5cLtnURf6uOnVPG+SW8X0aBgVnjktFK9YhARIgARIgARJoZQLp93Tv+gwfAHjx+S145chs/GrGpfjdjafjjHNOxy2/vBR/vu4EHBbZgt+9B3y9fS8+bmUgMc1LhuwHoo/jkvsqOdTjUW9cTJ0kLpxVHE1qZFWT/ZuP44nb9GOakhDmW1T2OruTjFnPbT7Pt3TwRe3lbnqYvfT5xQB+KtFTAgsMIsOfkcXvnkSM9uDOJn5HZVD38JXaKglbKgsxson1Utzz0kO4Vbt7DW2ET0J9Exkexiqj+9U5hrQMONzwiG2MmY82k8Wi/3D6L4b7fCPMXM0fz2fS9Zz0lLolCfm8zOU54N7PZ0rCrUqpjElzzIU4KruS11XOhw4zT/Z7qdsVtwd8Hq3G5X7QZz5Yva447YyuwMa33CHgKgnZ3fjJj+WfPGNbHu0ljw4zX9Z+aauMVe65t17FIypbuS7bHcNH2Y8QW/BqAknYTPlBx90x/LbJ1qO/lH53Y65q03oWN2RxYFQd5tr3frLwHfS8fDJuVQsGe7Bh3R7gnLM8fQlqi9dJgARIgARIgATaCoFOn36+tSGtyr73Jn72l69w9fdPR15QorSD+1D92tv4wwuH49+nn4k+aVWIwlMioBNKGR7KlOSwUusS0ONoLx4lZMC3rsbtv/UOPCbH+iRSe/DB+9CzZxayQz1wwgnAuocew4ZcbZi24+mw4S/4yUJgfMwCgrvPjTM7Hl27HovDDz/MXZFnJEACJEACJEACrUYg/Z7uU87Er24NBxvc0vXOR6LP0DBm0OButYkQv+Ho3tZknm0eXybvppWA7N/+6fP4yNVIdO+0eIYvzE0lq7pLIE+SIcAxSYaWXfZ4XPyfVyJr3TvN5IlOQYUWqrJh3Ye4/DbthW+hRtkMCZAACZAACZBAixBogT3dLdIPNpJWAtazsAvS2gaFNzuBoL3JysvdEnvem71HbV8gxySFMTwV429r/17bAeMnM6w8hdnBKiRAAiRAAiTQFgik39PdFihQRxJobwR89g9bXWzhPe/tjWtT+sMxaQo91iUBEiABEiABEiCBNkuAnu42O3RUnAQaIaCScF3aSCHeblECHJMWxc3GSIAESIAESIAESCATCNDTnQmjQB1IgARIgARIgARIgARIgARIgATaJQEa3e1yWNkpEiABEiABEiABEiABEiABEiCBTCDA8PJMGAXqQAIkQAIkoAhMnjyNJEiABEiABEiABEigXRGgp7tdDSc7QwIkQAIkQAIkQAIkQAIkQAIkkEkEaHRn0mhQFxIgARIgARIgARIgARIgARIggXZFgEZ3uxpOdoYESIAESIAESIAESIAESIAESCCTCNDozqTRoC4kQAIkQAIkQAIkQAIkQAIkQALtigATqbWr4WRnSIAESKDtEPjs8614+60tqKvbjU8//RxffvkVDhw40HY6QE1JgARIgARIgARIIAECNLoTgMQiJEACJEAC6SFw+hn9cMSRR2DPnr345xf7sH//N+lpiFJJgARIgARIgARIoJUI0OhuJfBslgRIgARIwCJw8sm9ceSRR+Czz77A11/vJxYSIAESIAESIAESaFcEaHS3q+FkZ0iABEigbRLo2fMEHHHE4fjqq6/bZgeoNQmQAAmQAAmQAAkEEKDRHQCGl0mABEiABFqWQNeux9LoblnkbI0ESIAESIAESKAFCNDobgHIbIIESIAESCAxAocfflhiBVmKBEiABEiABEiABNoIAT4yrI0MFNUkARIgARIgARIgARIgARIgARJoewRodLe9MaPGJEACJEACJEACJEACJEACJEACbYQAje42MlBUkwRIgARIgARIgARIgARIgARIoO0R6NTQ0NDQ9tSmxiRAAiRAAiRAAiRAAiRAAiRAAiSQ+QTo6c78MaKGJEACJEACJEACJEACJEACJEACbZQAje42OnBUmwRIgARIgARIgARIgARIgARIIPMJ0OjO/DGihiRAAiRAAiRAAiRAAiRAAiRAAm2UAI3uNjpwVJsESIAESIAESIAESIAESIAESCDzCdDozvwxooYkQAIkQAIkQAIkQAIkQAIkQAJtlACN7jY6cFSbBEiABEiABEiABEiABEiABEgg8wnQ6M78MaKGJEACJEACJEACJEACJEACJEACbZQAje42OnBUmwRIgARIgARIgARIgARIgARIIPMJ0OjO/DGihiRAAiRAAiRAAiRAAiRAAiRAAm2UAI3uNjpwVLvtEaiu/6TtKU2NSSAFApzrwdDIJpgN75AACZAACZBAeyVAo7u9jiz7RQIkQAIkQAIkQAIkQAIkQAIk0OoE0mp0r78/F7m5+t9UlNfb/a0vx9Rc47wVMSgd71/fihqwaRLwJ+Cem3tQfnMuplbs8S8sV1+/D7m594GzORgR72QigfW4z/k7IX8vMuNvQyaSok4kQAIkQAIkQAJtk8Ah6VJ7T8VUTHxkHBZUTcNAAHI+suA+9LXP09Vuo3LF4C94AZcsn4fCLGDgzVWoarQSC5BAGyBw7jRU6cksBvgNcD5/bUB7qtjBCYx7qArTzu3gENh9EiABEiCBGALV1dX46KOPcODAgZh7vJAYgS5duqBbt27o06dPYhVSLMWxCgaXJqN7Pf44exXGPTRPGdzSfPfRkzBu9kS88Po0DOxlKbT1z1OR+8gq4PoFqLp5IKAM4juxSm4PvQMr7i9Ed4iHbyTufFUuaiPeuvZCv3HAI4vR92fjsPhXW3GHbUiLh/CFC6swDWJ4LLYas+viz5b8VQVTgeXz0PfPuZgIu31lqLjLD7Tb122twjCrHbiNd7sRvpFA+gnYBvW46xdj8SOIfn4cQ/s6bF1gzeOJuZbhjftzMVHKyqdIGTfiXZwI0NBJ/3ixhRQIeL7jH6rCddVTMXK2+utgz2ERa83jxRiGYUNXYVU/+S7PUX8zXhi+AvNGd4f8PfD7jh82w7qvIkRuAGI+T66/PcC4uXdg663RBVtZSJ6NGZi0bWRUfgo9ZRUSIAESIIFgAmLEffPNN+jduzfEcOQrNQKyYPHpp59CeKbL8OZYxR+bNBndfo3moO9Q4IXqPYAyuldh68krULX8FUwteBjlP5iH8197AascY9uSsadiNu7EHVhRVYia+3PxcMV1mDfaurdqS1+sqKpCdwmo/dVEvPDaHhSe9woefmQcJt0sZcTzN835YSYG/7Qf3IFhj0R/OEVDcdfjvhsWQ/8QUz/U7r9E/YATSVZbK/DKzSOtdkYXYl5VoaUI/08CLU5gMXBhFaoulIWlF7D+5oHOAhfQHYUTx6mFKivSZD3ue0Qb21rRgZjmuMX1Nb6TQOsRWHxDLtRSkVqEzVGKON/xsiB7A3DH8ioU7rwPuQvKcd398jdhIharvxnnq+9myyQP6oP1Ha8WnXrJoukfsX60FYkFadnzecL9I52/Pd2VyD0oH3qn/f1fgz/O7otJVd0xEIyWCiLO6yRAAiTQVALi4T7llFNw+OGH45BDWtBsaariGVZfFi6E4XvvvZc2o5tjFX/QW3D21mDrq0DfidbPF2AYLjmvO5DVF32xClt3AoWj52HBtlyMzL3T8d7VbFsFvLrKuiZ9ub4GgPWDbNjw82FJG4jrZgzDyNl/RPmMrVh1/STMk7Iuz7X4yeO86rdiq9ZJWjh5GPDcVuyJaSuODN4igRYjMA6XSCju64k0OBDTlt+BqQW5yNWRGlmJ1GMZEmg5Au7wcit3gfMdv3MrVsl/Bbm4U6k0DvKXQL369UV3dEfffvpCwLv6jgdWaeNevu/rYS9WeT9Pe7B1C+C0r0R2x/nDh+HO517Bnj5bsXXGdcZCV0CbvEwCJEACJNAkAuKhPeKII5TB3alTpybJ6siVDz30UAi/dIboc6ziz7A0JVKzjODFN0STOu2peBiLYf+wMXWyjd2+dsi52mNdtQDjHpmI+163jV/xZFRVoUr+SRi6z6v7eZdgGBbjTglrv1DtIkf5AstzXSXyfOq4LtnGv3jL5aWMffVjzlWKJyTQYgTUws8WWfiRl71o1UcvWiWpRpZEZlRhxQzgzjnltswkZbA4CbQWgV59JYBcebrV34GY3CCWkWypZxrg6/GCva3CWuC1Ij4sGVZeD/8uWTJWiYFtFFDbpF59AbMXbLUWjY17PCQBEiABEkgPAQkrp8HdNLbCryXC8zlWweOUJqNb9nDPw4LrF2OinZV25Oy+MUmdXpiTi9yCO5VnWpKayR45K9u5FTJ43bm2nH53YqTObhuUaTzrfFwyVDqqDXvLK7Fq9kjk5k5UYYuLF5Rjjyq3CncW5CqjPopmIKY9NA5Wedn/Og4LAgx8VSeDMrBH+8Cj9kSg++gZuAN67k/E4usXJJ5o6txLMA7y+ZNM0NHs0LIndtxEyZVgXZOFLb5IIOMJyKLRQ33V97b1N8Ja0B2otgtNRG7ubLxgdEIWrKzv8heA6/UNK+Jj6w0+T9TQRYz3gTevMD5/+u/FQFxyvewdn6QScUpx91MGDAE8JAESIAESIAESIAGbQKeGhoYG0iABEkg/ger6T9Anq2v6G2ILJNDKBFpjrrsSpqWt/1aCt60TU8+03hps0oaDgkmABEggzQTWrl2LcDiMzp3T5idMcw8yR/zBgwcRiUQwePDgtCjFsYqPlTM4Ph/eJQESIAESIAFFQCf2lCgsvkiABNoDgfW47+aW2HLVUu3EGxNZNIxu+4xXkvdIgASanwCN7uZnSokkQAIkQAItTEDlA4m3JagZ9JFtU1XqUZbNIIwiSIAEUicQKUVRUZH6VxoxxNQtR0lREVzXANQuK0HRg2ZBo06cQ1XPbke1N3M5aqW8ar8Ey+vclSMPFqFkmSrhvtHIWbSdWJmqqtHfaD9qsXxmUWy/FINSJNfbCEqln36M7La9TBvpEm+TAAl4CNDo9gDhKQmQAAmQAAmQAAmQQAYTCBejrKwEhdkeHbMLUDQ6hMiTtnGsbkdQXpGN4slhT+EETwdLW2XWv1kFCEm1cDGKB9eivMIwbeuWo7ymEEWjVIkEhVvFQqNKUFZWDF8NxYguBYptHYpRahv2IRRMKURobbnL+I9UlCO7OEBWY1qtrfQY67VY/qTRx8bq8z4JkEAgARrdgWh4gwRIgARIgARIgARIoC0RCI0qRLiuHGW2xznyoFisKRqhcToeHi0Gb6ntVa/F8vmrkTfFNsrj1Ev2lhjRGF3oGOTSLirKLeM4uwCFYvzPj3rgS1GMYl/rvbGWQwhlR1BueurrIliNkLXQYFQXj35MpIGP9z9Vz7/RFA9JoN0QoNHdboaSHelQBFIKH0sToUzSJU1dbHNiPWPSkX74dKS+trl5SYVJoEUIhFFcHEatGKa297kwJSPUVnatHcruDb02veqRcpTnFKLA63lvcn9rUVsDZPcyvOfZIWSjDrV2aHt4crFaZCiPiFe6DoWjU+9s3lWFwOqIFUIvYflrVwN5eXB1K1KKyiG25784HI0qCBejZDScBQAJmS/PKUFJCp7/JmOjABLIQAKHZKBOVIkEOjwB+WNVUhGwL0xC3UaniEiMsZnVKAwIYxODpXStIVvaSjUkzxCT9kNZYTc3nKVJb+Hj/RGhmCGIk+yT03vrQiicVZLQjzL/8Q+jOGDc0s43rQ2YjKINhUYn+GOtkTkdlcgjEiCBDkMgXIjC7BKUzqxT37uGyZoUAhX2PUqqyP5p2Rfu/q5XXvWKUpSUyvdz6sZusFJ1qPbsG48tG0bh6BBKSktQJ9+bLgs5tnTcK6Ew8lCGSF0BQtm1iIjNPSWE6gqjloTWG6fmofAqrilC2YPVAApRMjlV8qZUHrcYAXkccsFWTKqahoEt1mjHaYie7o4z1uxpGyJg7e+yVpJLRocAc09ZU4zg7AKUNGK4ibFj7V8rRtgJnUsdXqOeR49XNtmWVAIaY7+b6C573op0wptkBTZjeQlrlB9BFs9CVOsQwETaMMdc+jRYjNOAJDuJyMvoMrIgYXtOZN/iLAmfTDDxUQJzOqO7TuVIgATSQCCEgqvCQHYewk0xQh3N9P5p755ny+DF4Hwn/Nup0iwH2eiTgP7K+EcIeYObauSGEM6DtVddhZb78bMTuEniNXOx2+6veN6z19Yhrwke96ah24iHx4zBGPXvYWw0ha1/2L4+Bg+vN27sXoHpUv4XK1BvXDYPNz40BtOfDrxrt+lpTwRo2WPi1QdEvujs0kspUI8Vv9D9mY4Vu02tmvN4Pe4ruBOrsBgTc3OR62T1X4/75Nz+N7ViT/M1arCJYZ/CWGmGY8b4jIOjtZ4fPmWC2nTqykGc+vH6A4CebhfIVj5RHptyJ6wH8PeMub2R/mXMnrjLA8guRIlOBuIUtFZxy80VVR9vodcDFy4ui9075O2HjxynWR40jYDB2u0ZNMfTmCOqfLCn262M9cde1qvVy2jLdw4Z97UuMl+U53xtCYoqJPeMd75EUDrTmvOSOTUq1+391PK0KtF3SZADFM5y79cLTy5B4cwSlEcK1PyUz4B4qAtrbH3g8RqbnvJmm692WOAQ/SMojOJZqXtCwpPLUCyRCBURFNgLL+7Po6dPUUixRwH9VfJqCtWiRenaJOTFttC0K2JIzwJKZkqCoLAVHWDMr+g8ARA4p+UzUAZMMaMLZL7VojDm+69p6rI2CZAACaSHQAihHGD1zlogbP8tqatFHbKRn4AxnopOyoAvqoTEaGVfVYaQJ7Va5EEJGy9Gmfw9k78lT7pbUXvoB4dRPrMUoUYW+d01m+es/ulK9P7dUiztAdQ/PR03PbQRS2842zKW5gAzli7F2cpwehgbl06C3EGPkZjzO2D6fQE6rH8Ys1cCp04IuI+zMWnpDGBMpadAPVbc93dc8LulmNNDjOf7sSJ3Dkb28BQDcPYNSzEDYxAj4en78ffzH8DSX2ZZ/SnfiJGqP7EymnZlIKYtvwNbXZ5ueczcRGydsQJVo7sDyhM+G+XnzUNhVtNak9oby3fgB2o8rEWH+58OY84VIngjHk52rGSMMANLl54NiPHsjLtXz6CxitOmS0RQfe9Y34Sn1o/EJCNkIK2ebvmhqxMt+HmdzPvexTL58WfV9ffsRO8XNerRipb1l2U9+sHW1btnxwXafuyEenxEgCz5Aeg8XiKgjEemOpV684EiJ0NmIUKoVV9aZt5Iy4COeoVU9syZwe1I38XYcDJvSnaNunKUeLyA6ku0Tn5kG97VtTpDpqWwyJKQZzGcRJ54YCOlnkdz6B/G2ks3y0o04vsYCpND3XKUmsk7zHsZcBxZZmZCzQCFlAoRlOo5o/ev2arVLisHpuhxsletk1Vb9qihENZeuFosr9DzswSFKEe5OTHhr4sKNRsMaO95bHIXMURlrttzTxlDYiwZHmLl9SxzZWd1uhKpRMTXkyGr9SFE1kSVrK0osfehScZbM1lMBKWlEoIovJrHu2/pZ+tQmtojZJw+GgfhIWGgptZ5ZE2JZOTVGW3FE97I95clKoLSNflGNIM78y0kuqE1DW7d3+ww8rJrUa12WTQ2/3Ql893y2KxeG92mIZ+LurxwTFIgsxaPSYAESEATMP/2S0Kz2rR5tHWLse+uxGnytDJPYrXYGk29Ekb+4Agia8PIj1knthaT1d8i0cX4Gyut6t+cxZMlu3uif5Oaqq+7ftYVkxyjNiunb/Tm+kqsGJFvGdk4G/kjVqDS9HZHS3qOxBjbipEjTvVcT+B0dwR/xwUIKyM7C+Hzgb9XBXnLg+VtronWOTWnGazd4Kbcd+pfwQuvjsMkMbjllVWISdevwp1/TgicW5bP2dk32IseIjrH4JvCWG1cvQIj89QSCjAwHyNXVrqjHHzad11KoU1XfXWyGTucnxynorf2udgF02d0R0oNY8/6ka4zSUrb8sGUDIuWMVgMlLoNRyu81u29cjoXKUXJ6jyU6B+bOdEslU4Z4yCuLDESjdDU6KMYDAHGYVxZYnjMlEc1GMZOouGkyrNjZL1UiTKk4WiyDPHolMt+28HRZB0qe6YY5wHtiL6uJBZqn5OIXY2I49W2vkSNbiLUy7uEKh7FWuWJ1AlJrHAmWejUe1atPwa14qHXYUUqsyagfshH7R+zKWuv1Pxq5Gdwso1wr2qUJGTQeLqW1lMxWO05E+rjMiRCo4oT2jvsp54Yp2rB68k+RkRECAWTjfkZUzFYl5iijV2QkLa6MAr1fNDZWc1HszQmw+e+GP6W0W95DpwiLsNdfmwAdeJVaIaX+r5QCyLC1P0d11Tx8mMn5Mlo6310jH8b4UYendOKHm5/hSFRP/Hnn39F+Y7K1ll+IfsTs6Pzyr8Kr5IACZCAQyA8GCizHSmlNbJHOcYKdcqm7UB+H8rPZK0Hit2/69LQsERW+T/CzArbF4eL/E6oHGIlcVOOHPu3uX5kmkrwJknoWvG3k2mI1ddshWmwipG31TBmgzBufGg2tk64GVfmBJWIc712Bzb3zYE2k2URwDSg49R0bmVdMQdL8ypV6Pn9uNn2BDu303uwcytWDe0Ls+s5Jw9LQ5v1iLwCXJBrkUp1rKKKZaF3/62oSSIUvznaHPnLpchfLVsB7gemxUY0pC+8XLIYOt9NlsenvEasPDH7dUioLiB7YspRYoRNRsHFHqkfm3niHbNeYniWzyxHZFSAkR4rwrlirRiWOHtxmiILKuQnhDxbMa/hqkNcXUawo4n7QDwyykY1DGzJIimmQCjHMIht47y2rhqarluS98wvKYc9PhXWntHCWUWAei6jYfiIYSKicsxHR1jhx5E6a2EgnB1BpUrClY2QqWJOCFhbaxkyOjzKVCtSjtV5hSgxr8liSEWodf7AmXroY1mseFK8rXaoq76ese/u8GwMTlxRJ5RbwsaKiqIh4WZIsjymNHGRyZWsrUZtdh9XttRsmUM1yYmpq0nMcK7dWQfURVBSVO40IOF8zfZSz5MFVJTKzBIgwWRqfu0rXdFHLVSpjLZO6LpsG5GMtom9dNSKVTqkJDo1W8GT47TtOvB8V6U0/2QRpRSVEZmvkl04H2WuNnhCAiTQdgmEUDArzidavnub+odK5YwoiItILa7GLZHoTVnwDFDY/jsSLClO3eBKxp149eWewdmri3HPrb6nntFaSxzK/t4/5zyAOUZ4b9Lt6pDlKyS026gte3dvfBibMRIzdIi6cbvxQ9kXPBsrcCom/S7WODPrqxD5mh9g6dJ8PDzmJoypmWGHy5ul0nTcqy+GvbpV/fyyfd2o2bYKwKRmbFDC7m/Cju8vxSSfsPtEG5JFlBWrN2LSQAkvfwoPv9sXM/QWg4WbgREpckt4rKP9WJr3MMbcOAY7pi91hZenz+j2UJIfwI6x6LMfRRmoqyVsMoXQP/Vjc7V6fEJyCTO8ey71D9dUZEldCYcsV17n8KwC1IknylwcmFwW31Bx/ai0QsjNx09oI8L16Ah4DV8PeM+pnzEvRdQfjV5WBuhyMQxk33dZ1LNp/dj3GPzy7EYxTuqiIaDKee4xmKzFB2HtvywgiyjZQ4JyYXo6YJyKESOrrFCedvlyz0elyhQtx+YCjLm/2Qp11gsflowS9HnS3qM0OayiMHTm8OgeZCtUtWxtLQq0B9bQJbMOjfDsUSGrP0karKo/6vEfJSiR8LFQLUrsEOyCbIuns9e7uTsvXnvPIpKe+zFNhfMRLpXHwkimVfOuHQIniXQaean5mZ1nePXjV/Cbx853W5yqep+5Cpd26RqnkuuWeGprEVLh0SHU+e7zg9uAdtW3T8QbocLSZbFRFmeiiw1+xVvtmlroC1vRCSoiydoCkOz8kzDI0jURRNC0R+m0Ggc2TAIkkEYCAzHt/qZYZYmq1lLtxNOnOwrvnxavQLu5JwZ3Zd5Sl8GtvMyrJUxbe1M3o2+e9kH7d1085Vi5AmNW6vs3YToewJwrRmLO0pH6YvB7qDdO3VqDepytWrW8qVcqHSYtXZqA6Wp5gCdNs8Km9b7xjTecbYfJBzed0p2svuiLF7C1HhgoaLLOxyVD78TDFddhnr2n++FHhuGO5c31mbH2uWOa2+BOZayyrrgZk35xE8aMATBiEiaNsEZaRQpc0TiNwDZlv38iY622EkzCzQrNJCydDozRiwB28+kLLzf6p0LJawqhQ04gnizjfrKH4vVSz1+0KzqGZLKC4PGkJF3fW8FadS3OKVf7ur2PFvKWjjlXq4dGaPrMxverx8iIc8HxbolB7QmREuNTslCGi2W/qxjSVh+8e+3jiE/xlhhHIfTRYQtJSomUViLfyewcPRbPln7VLiuzkn6o7QglyFtdArNfkdKowS0h/GU1hca2h2jovBhnlsGlJWfqu8xrncXUMtRS09Q28iSyQnmf7SymKvw7cYnq86oWXALqqEUzYxuFWrwy9lyrbRXGlgWXGImSgU/ugxJjP7qrQuyJGO51xh71OPkF1D62tcYeaHvLh3shTDdhLX44U1FxS32uq3lshN2LLub3oLXfMLr1RGvhfVcLaNqbrSNYvIVa/Vz22Rvh802Yf5AolZpSlNb4ZeFt9Y5SARIgARIggWYkIJ5h8XCbCayUeNc+342oXDkS+Y3YjpLcbOlS698DE07FqRPE4I5vqLu60iOMC/B3RFSYszuE2lUu8CQLOX03R/eBy77j/r2dcPXAainfGIhLZM92QS5y75d927JQswB9Z4+0spcX3Im+DzVPEjVRceND4uH28fSnMFZiYkt4txqvvB34e044OU4ptWmA7pGDvu/qsQZkwcbcziAl0+7pVoae7L/We0+lVbX/NHU/mdqnjBJl2Cpxal9jtfJ0OYZlQOZvA4+4ptWjGAI1MTzPUY+nW4L7zArphezpnmyFahdVeL2u7hpBZ6FRRShcXYJytffa8uKpENuYMG29cOAO6fbK1Vyc0GGzgLNXvBjFEv4dLkPYTpoWeXI5asMF9h5vr7fa8ibKlgFlNAeEPGSMOgAAIABJREFUuvt7ybUClv4SMCsvFYJrPCdaEloHZXGXO+Fiy6Mtho15rISp/4nhCBRO0R5PO5RevLdh+5qRrVqF8K+thdWuagH5UWFt5MjerjGzCOXyOSguRKhU9lUl9nxvtadbP5NTFmiUZ1/C6+UzV66iIIpHh1AqSfQkG3kjCyahwXkIVUioupFF3UXSCgEuFX3tsSiYVYzqIivjuRqF4rLAPepOlEZ00KxHrCWcKdxK5lYii1zSmMruH9Ap7f1XbK1ORPeKywSWaBHrubAF2fKImT7qe6rU7q98j1jRK3b0hWSA9SyA2UVVHgSzS97oE2hddCGlt57njpSYAyszrYyH5IeQZDelKLXD3v1qW98dkrDNjB6JEdvEC5I0UuZr9CWsnC1KantHavNPvj8kqV51r2jkTrQVHpEACZAACbQnAvU1m7F55U0Ys9DulRNWfDYmTbf2RsudkdMli3m6X1kYOe0CTL9xDB6GZD9/AHOSDKE++4YZ6Cth5ao/Eo4+KTljMskuDry5ClU3m5UGYlpVFZo/RqIeNVuBFSvHYIXdXHRRI4Wxkozlc2xJasyTWBxR7afQpolJMthP76vCymWs0X8SHrjBo0NDGl87/zqzYXLZOp8W1jXMnzyzYVlt9JZ/2dhy0RrG0br5DZNnLGvYaVyKPfSXta5scsPMvxo1a5c1zJw8v8FP66hMf1mxfdjZsGzG5Ib58YVFxbqOrLqTJxv1lW6T3Uz9rrnkNDQovUw5nvsNwm+yR26D9HFyw2SHhX3u4hx7TXhO9oyt37WoCtJP91xQ96RfvnMnWlPkarZBxw0NsfLNcTLriWTzXrQl+0g4NaJTTB3jwvZde40zHpJA2yGwrqyx70R3XzJrrsv3VHL6u3vTvGeZxaZ5+0ZpJEACJNDcBKqqqhoOHDjQ3GI7pDzhKDzT9eJYxSebvvByCdMVD7evF8cOCXWyEduJ1XTGa9fKQWMntVj+ZAThq1LzYjTnoxjU3tC1dsIxUTuZcFLxkJmP8ZLHNckW6Gz9yCY5LkChJMQywltVSKmZLVzkSIZLnS1S7d+sVY9sin1ck81WZ7425EKHneowVMiYhVTYuX5UlA7rN9k72dT12Dpe9KCwV9kXrveENzbWqdy39mKXa31UBuNa6MddeCUqr6zBoXbZcucJleKxT2Tvrlcmz0mgLRMQT3cp8uPno8jgDsr3VJ2R5T2DVaVqJEACJEACJEAC7ZRA2sLLVZhuXa0rI7CEMupQSgkJLVbP8bbIRsMuEyBthH1L6cRCvwPkqkcxWIaqKiE6ppooyxvuaeumk6FJ6HTgPm/Zzw1DD1FGhYu6FxPkMQ7CTYXiKoWDQnblprUgoY7kMVA6ZNhbTz2uDCiZWe4K8fSGojth/fKoCCXDh70jyw5flXLGuNvVXG9iAJfLI5r8Mpu7SqZ2okL1Z8ojm6z6ql9+cbRyW82HahTZoa6qrKpmhannTQkIO05NNdYigYwnoML3M17LYAWt763g+7xDAiRAAiRAAiRAAukm0Ekc4eluhPJJID4B2d9ajtCsdO4Zja9Bo3dloWdNvrNo1Gh5nwLV9Z+gT1ZXnzu8RALtiwDnevB4kk0wG94hARIgAS+BtWvXIhwOo3Pn9AXnettsr+cHDx5EJBLB4MFJPEc2CRgcq/iwOIPj8+HdFiFgJZyqXNaUnPbpVTSys0/AVon0tkvpJEACJEACJEACJEACJEACbZtA2sLL2zYWat/iBLILUDyqxVtNuMHwqIKEy7IgCZAACZAACZAACZAACZAACWgC9HRrEnwnARIgARIgARIgARIgARIgARIggWYmQKO7mYFSHAmQQEsQiKC0qATLJcO/pAxcVhLN2J/G5luqnUS7kGn6JKo3y5EACZAACZAACZBARyJAo7sjjTb72qYISLb7oqJS55FlSvm65SjxXmtCr6w2pJ0ilGTwnvomdDGxqupRe1EjPrFKgPDr0NwSBcVyJEACJEACJEACJNCBCdDo7sCDz663BQIRlKdqDDdmoEdKUVpTiJKyMpSVlaGwpszxHLcFMs2no360Xi1Wr00umZ88wq8k1UcM2h2g4d58I0lJJEACJEACJEACJJCJBJhILRNHhTqRgE0gNDgMVJRh+eAS6Oe9u+FImHXUGx59tnoEpTPLISZkqTyg3OeZ77U764CcfOgnj4cnlyD6+HJ5jFsJylX4tudZ8OIVLo1YariewW7o4rpuhX+XVGiDNoziMv14OKlTjj6zClE90+6Hp64YpaVrrebCxWUojirpRmGfSfnKIWa5Rh5JVxfBahSiePRqlK6OoHZUyGGinnXvcAijcLS7SWmrPKfEMryFy5N9UDKrwKrvOZdQcItBlKdcU31bW4Kiiuhz74P7bI5LrD5u7XhGAiRAAiRAAm2bQJcuXbB//34cfvjhbbsjGaC9cBSe6XpxrOKTzXxPt/xwfdD+gR+/L0nfVT9s0yM6aV1YgQR8CeQUonBwLcor/CaqGGClqBtdojzVZbMKLQNdGcphFM8qRAhi4JahTBuCRiOhwXkIrS1F0czlyjg3bqF2WRnKc4qV3JLRQPl8XSaCUnleufKOFyO8ttzxjtcuK0dEDGa5N6QS2i5HpBQlFdmWHmVlKB4cQanrM12L8pmVyFd6FiJkyJS6YkArmcVhRJ7Uepjauo/DQ8KIrDF4RcpRnpNvLCi4y0cqypF9VQHCwqNuNSL2PnEppThARwPko9pZOHDLaPwsgvIKoHCW9KUIqLD6ERpVguLBgCyWSB/VgoIZgSB9Lo0uqjSfPo1rzBIkQAIkQAIk0NoEunXrhtraWnz99detrUqbbl/4CUfhma4Xxyo+2bR5usWDU4YiI/RSDIQyYEqQxy6+oq1+1/TuiTIeb1zy+pkeq6iHy5ITvRf1XCbQgqljjGfT8EJ67jkeOM91adG5B8swaGoobQK9YBEPgfDkYoSLSlEaKUOxdktLGfHQ1oVRqMObswtQOLgcpRURFExuxB0s9bMLUFIWUp7ykqJyZfhZ41uLyOpahK+yZCjjvKIaYosqI36yR0HzdG0lIggjHC5GsX1dDGCZx1qj8OhChGaKsR62vffi+bU939khZJvyDDnm5bjH4UIUPimh8pb8yJo6FI7WrXtrRlC5Nox81acw8rLLVYh5gWKqOdiea4hnOYRIjVdGoudW+LrILphsDqS7vuKVJwsmAMKyWFCO2jognN3c+rjb5RkJkAAJkAAJZBqBPn36oLq6Gm+++SYOHDiQaeq1GX3ECy1GsfBM14tjFZ9s2ozu+M02811PGGczS7cNT8tTp3+6i5e86MFilMUxbpTBWlPoXyZSjuqrylAmAmXv7cwSLJ+lFyRCKJhVhpCEribcmVosX9MHJWXF6se66FfyYMhu2/KIothqT+nl3APE21bWS0JjPY2Jh3J1HkrKxOgQoz1emLOnLk+bkYBl7JWIx3OW8WVZW43a7D4uIzU7JwQkZRRannDxKBeVlkD9N6oO1XVApLQIRU4v9Mx3L8SIGa41knmk/pNwduVhF0O6FrU1QPYQw8j0GtZOG34H0QUodTdbt+ZXVl8LIZwHlK2tRcHgCMpr8lDksuR1OelLOSKoRUTpbF93QsyFQwh9DNWjNZM9skLqJeO6hJEHL6ZZvGrtcHOrFc24OfVJVn+WJwESIAESIIHWISDGXDqNxdbpVftslWMVPK6tZHSLAVeJ/GKg1I5BNX+ERr2rIRSOjv5ajl6XDtn7IrEcJUpGBOKts/Z8mj/Uzf2jxvXsQhTmGGACDXfxLklYqN6DatWxvI/aW2fI1caGCqlVO2pRVBTdw+m0aHrwssXDttq5ldqB23smIbZYY0uy96wW2XZTaFQhwkW2RzJOY7LnN6Q9bsrLV24ZMtqzGqcubzUvgdCoIhSuLlEhyo7kUB+E6rQH2rpaV6P3TTulEjsIF6NkdAlKasSfnY0+8rG7ytwXbYtxQsXFc23txzYbUAs4o6ys3hJCLotSoRxg9c5aIGxbr3W1ymueiPkcebDECnOfFZZVgNiFIbNx41i885gfgezWzr6qxPIaG/etQ/3ZLjP2y1sRIeWRAnvveC2qBWn0ayhGStAFK8Td7KW9wKEW2YIWsEKKVyjP3iceIzx1fWJE8QIJkAAJkAAJkAAJkECLEGjFPd3G3lBzL2rdcpQ5+z+LgNXRvZnqB73aS1oG2WeqMg1LiKxshJTQaHtPpOx7VF5kKSuGvb1/1NynWjZF6huMw8W++14B8S5lIxTzo1sME+sHsEvurD6olGzTyogJWWHoZdqDbbRnHsqeU+QhHNOGWSiZYysbszK8pZp4RF3VRfc6FbLquuw58RpwoV7ZqFVGmacgT1uAQAgFV4VRu1b8svZLLdYY2c3rlqN8rSxU2asryqMcPM6yiOXsuxZv7+pahHJkEoqnOOTaPx150NpXrJKvDbb3R0dk4Sb6ql1W6uzvVh53+5bMw9oK8ShbL9lDXTu40DB0ozLcR5bXV89j1z5td8HYMwm1z5FQ+2zkR5307nJqr7dXjzDyB8PeE24eWxEpZY3t6bYXQdRedCegXpo19rF7PP3CyvxceXlFuaagj7vHPCMBEiABEiABEiABEmgFAq3k6ZaehlGsQ7OV8VCuPEq1O1cDo4vsn6uWoVGuPbbKsxZNKhTyZBK2+FnGQ6TOCI0dnC+Wp+WxnqINEmv/a2WTocfKLR6VhNBAD3sSMlxFLa+7LDo0luXZVc3nRH78lz6psznbj1XKEZZ8tQoBiY4YHM3kLcZxwaxiVNshy6KTRHpEs5yLkVaK0plFKPfJQSDe8z4zi1BUavdGythRDLLAVVxTpKJHtFy1R1tFSZRCRWMPFn1EfgkgWyNGFSIi8nQiN7V3QilledF1CLfKHRBkCZtkrc9/kR3mHi6WxG2lKJkJlMxqPOZb5m8op9Bl+prSxYgPD9E7z6N3lJFfakeC2PvplerZkuE8hNKg8H3ZS55dYmWLF5ZDKlHklA2jeIhws2BLZE+xvchm7ZmXe3ZEjI46sHmpKCC7rN7fn5A+0S7xiARIgARIgARIgARIoBUJpNXotrw3jf84tvpv753cGURDjMlSmPuSy4KK2saH2+h0/INxavndinqF3Z7opu+vVOHysudbQmeb5WWF+/aZVeb8oFdiJQzZJd/y3uc35lmXH/87S2zDy/KgetJcuaTypHkJyDOgvTNDrrnnvR2yHNB0bHmzoJU7oMC8ZBz71/W2Z+oTLE+HnRvi7UORZ/bScy4RKGaHjROznpLvEi6LRHXIm+Ke+WYRP77qvqtNb38LPPxNid7+h62cDbqIS66+qBPauUchPi8TSDx9jDZ4SAIkQAIkQAIkQAIk0GoE0hZeLqHIUJmM7b5JKKcrTDuCSh1vqrIwWyHcKoRZEhmparZ3VR2bRq48fifIiPaGxtZi+TJpSPZKWtmDLXESimvrFvdNvG3ZKNfPEFZlrQWAiAqRtZI2uR6p5HocUoBw2RsblGQtoEr8y6KTPO/YJ5RdIglQjnKbt/Vop+BHKJntqB//KqS/ENXyyCPu5zbx8DhTCfiGjjeXsvJZK0JRURFKawpRxM9Ec4GlHBIgARIgARIgARJolwQ6NTQ0NKSrZ76Jz5R31UqkhsERRJTh6040pp6fra+PzkZ5Tb5KyBSVJ88g7oPymeXILpYwavkRXIJyeayOOrcTOWkZjiFqJUlStqdKpFaO6iHRZ+MWPdkHJT7PM1Z8VHZnvUoQ+8iwqM7iGdNJ13R77v6JvGhfNP3YMiKzPMedUEm1A7+s6botLc+ro3Hf59FgVpIqT/9VwqdyewEkVj+jJR4mQKC6/hP0yeqaQEkWIYG2TYBzPXj8yCaYDe+QAAmQAAmQQHslkFajOxiaGICVyHeM0+CSvOMlIJ77OhSMMkNyvWV4nokE+GM7E0eFOqWDAOd6MFWyCWbDOyRAAiRAAiTQXgmkLby8vQJr7X7JI5Sqe9Hgbu1xYPskQAIkQAIkQAIkQAIkQAIkkAiBVvJ0J6Iay5BA+yJAD1f7Gk/2JpgA5zrZBBPgHRIgARIgARLoeATo6e54Y84ekwAJkAAJkAAJkAAJkAAJkAAJtBABGt0tBJrNkAAJkAAJkAAJkAAJkAAJkAAJdDwCNLo73pizxyRAAiRAAiRAAiRAAiRAAiRAAi1EgEZ3C4FmMyRAAiRAAiRAAiRAAiRAAiRAAh2PAI3ujjfm7DEJkAAJkAAJkAAJkAAJkAAJkEALEaDR3UKg2QwJkAAJkAAJkAAJkAAJkAAJkEDHI0Cju+ONOXtMAiRAAiRAAiRAAiRAAiRAAiTQQgRodLcQaDZDAiRAAiRAAiRAAiRAAiRAAiTQ8QjQ6O54Y84ekwAJkAAJkAAJkAAJkAAJkAAJtBABGt0tBJrNkAAJkAAJkAAJkAAJkAAJkAAJdDwCNLo73pizxyRAAiRAAiRAAiRAAiRAAiRAAi1EgEZ3C4FmMyRAAiRAAiRAAiRAAiRAAiRAAh2PQKftu/Y2dLxus8ckQAIkQAIkQAIkQAIkQAIkQAIkkH4C9HSnnzFbIAESIAESIAESIAESIAESIAES6KAEaHR30IFnt0mABEiABEiABEiABEiABEiABNJPgEZ3+hmzBRIgARIgARIgARIgARIgARIggQ5KgEZ3Bx14dpsESIAESIAESIAESIAESIAESCD9BGh0p58xWyABEiABEiABEiABEiABEiABEuigBGh0d9CBZ7dJgARIgARIgARIgARIgARIgATST4BGd/oZswUSIAESIAESIAESIAESIAESIIEOSoBGdwcdeHabBEiABEiABEiABEiABEiABEgg/QRodKefMVsgARIgARIgARIgARIgARIgARLooAQO0f1+682N2PvRHjQ06CvJvR922GHo1/9UfPXVV3hvy7sJVe7S5RB0734CTuiZhWOPORZdDnHUcep/+eWXWLem0jlP5eD4bt3Q/9TT8dGeD7Hl3c1xRXTu1AnHdu2KrKxs9S796tw5ubUJkXHIIZ3RqVMndAJspg1QaG3ADfpda2Oe6+MGqdNJ/dPF+E4CJEACJEACJEACJEACJEACJNB2CDhW7pJFC/CPl1/CgQMHUtL+W12Pw+xf/wbvb9mM++fek5iMTp1w5BFHoEfPbJxx9gCMKPhXnHbm2TjqqKOc+p99+ilm3HoLDh486FxL9mDwkPOUbmvXrMbcO2fGr96pEw499DAcd1xXhHJ645xBQ3DhxZcgp89JOOKII+LXBdC5cyec8K0jcWiXzjhw8CAaDjZADGz1Dw1WP9R5J3XtYIPVL6ccdHngmwMHsPPjz3Ho4UfiuGOiTBpVggVIgARIgARIgARIgARIgARIgAQygoBjdLeKNg0N2LdvH6q3bVX//vbsClx4yWX4fzfejBOyslpFJXFL7//6K+yur1f/1kfW4fEljyB/6AW4dvxE9D2ln69HXpTt1Ak4+vBDcdghXZq0SCCyxEj//Muv8djf1+NfzjgJ4dO+3To82CoJkAAJkAAJkAAJkAAJkAAJkEDKBJKLm065mcQqSmj68yuWY+6cEnz6yd7EKrVAqX3/3Ie/PbcS038yTb3v3/91YKtdujQP0n1ff4Nlq99Gp4aD+PYJxwS2xxskQAIkQAIkQAIkQAIkQAIkQAKZS6B5LMRm7J+EkW98I4KnK55sRqnNI6p+Vx1+f99/4+UXnks5DD8RTb7+5gA2bK3Fuzt3Y8SAPjj0kIwbpkS6wTIkQAIkQAIkQAIkQAIkQAIk0OEJxA0v79KlC3qfeBKOOvroRkFJmaPjlDvl1NPQrVt3dOrSRcna/+WX2P1hPfbU16sQc7MBSZ62rOJJ/OtVV5uXXccnntwXZw0ciEO6xO2CqnPiSX3RKcADLcnOevTIwjFdu6rEZzh4EHv3foxPP/kU33yzX4V5mw1//NEe/PHhh1Ritj59mz/k++DBBnz46RdYuW4zvnNGbxx/zOFm8xl1vPX9LTj++O447vjjU9Zr+9b30fW445skw9t43c4adSm7V473Fs9bkcCX+/ahrnYnskO9cMSRR7aiJmyaBEiABEiABEiABEiABFqOQFyLVbKL3z77l+h/+hkJaSRh1xveiPiW/cG48bho+GU45JBDnftS/sVnV6B03r3Y+/FHznXZz7zvn1/go4/24Igj/ROInXHW2fjRf96GIxP88R4UEi5G99h/n4RRV30Xh9jZ0//5+ecQg3L+vN9gyzvv4Ouvv3J0k4OaHdX48+I/4Mc/n+HUcRVI8OSr/d9g0/Y6HHvUEejd/Vsq+dreL77Eoy+tR5/ux+KUnl0hKc9lr7jsExcPeEu+nvq/x1C9fZtvk1ePuRZz7rgNY6+bgOGXj/ItE3Rx2pRJ+N7Y6zDswu/gV3NmQGRdOrIgqHjS15949H9VnRtv+alvXTHKn1j6J/xw/A0uY/939/4a/3LBdzAoN8+pp8uKjl4jXu49s6wCb0TWItSrF07qewpGFox2yXQE2QfShhpQ44afbON20ocm36Qr+1Twmwf/cv5FLk4+1WIu1dbWqDkz/c570Pfb/WLut9YFPca6/aOPPgYXXXpZQjrK90Qm9UX3ge8kQAIkQAIkQAIkQAKZQ6DF4pbFkPa+JEv4ecMuwFkDBnpv4eCBg/j6q+C90zEVmnJBnutlvI465hicNfBczL1/PvKHna+ymRu3ceCbb/D2pk346MMPzctJHQsPCSF/4pUN+J+nX8P/PLMam2v24LnIFuz78itccFovyKPHDjYcwPYPN6lM6Ek10AyFc048Caedfqb6px7b1tDgnActhiTS7NDzL0T3E05IpGhayrz84nPYVbszxjheV7UaH32429Xmvi/3qUfWybv5Eq/tr+bMxK66nRg1+t8wKDcf297f0miGe2lDkvVprvLeFJamTvq4uflKokPhZeosj+FrLy89xhLxIn2UMZUFJTGo4732fvyxKhevDO+RAAmQAAmQAAmQAAmQQFxPtxiGX331Jfb9859xSXXq3BmHHhr1YMct7LkpbUh970uudTnUCkX33pPzmupqrFz2FA479DB5yBasJ2KLYzh6LOVCOTkYOGiwn4hGrx159NGY/KNp2FG9DVvfe89V/uM9e1C97X1kZWe7rid68uGn/8QLb2zBmTnH4/TQ8Yhsq8eClZXKo/1vuafg8EO74MDBb7Dtw434aP9OnH7wokRFN1s50+O75I8LcdoZZ8V4tXd8UI0//M98fPHF5zj9jLMw7MKLVeiwGCSvvPQ8tm/bqvS5dMQVOP3Ms9Xx7vpd+KfPnBIjZ/U/VuHD3fUQb+Plo0Yr77L2RIqM51c+rWSEB+dh6AUWEzGAV738It5+axNOOrkvPv/8MxxzzLGBHF595WVcOuLywPuJ3BCvrST7u/kntzmezkQ9/n4cpc1VL/8Nr69bo/oui1Gal3iaZQFEFgTeeftNaC/z229uxGur/q7UNcubfLU3XsZHv/qcdLKSV/PBdhx55FFKptwrGP1vTl90Wf3eMzsUM/YL/+f3amvGv151jSomCwr/eOUlJ4JA90duis7aUN+0/nUsr/g/VWfoBd9BePAQdZzq+Af18cp/+x5kbjy3YpmahzI3ho8cFRjaPuRfhqn+n3/RJbjxhuvw3uZ31LmfXrJQ8uTjf1Z6/+6+uer9xmm3JtWeqsT/kQAJkAAJkAAJkAAJtHsCcY3uAwe+wR0/uQWHHh7foP5W1+Mx657/StoAlZDvtatfw4bIuhjQhx56CI47vhv2f70/5p5c2LThDfXP96Zx8TvDR+Dsc8PGleQOe/bMVmHD295/37W/WxYjNrzxBnLPGxooUBYUDsqigqfEl19/g/J/bMSRXTrh3D4n4MjDDsF3zuyN8/pl45uGBnzriMNUW1/t/yfWbHsGQ08v9EjwP73hV5ZB6n+38asP/eyKxgt5Svz9b89jZMGVynP91JNPYM+HuzHmh+NRV1ujDOgh5w3Fhx/uxtxfluCXc+cpI1qMMzE8vS9JoCfeYnmu+to1rylP8r2/fwjaE/nuO28rY1kWgR4u/a0ynmRhQI7f3fyOuid7xDe//VZg6LO0/dmnn+CC7wz3Np/UuexlP/ZbXfHYnx7B5BtvifGaJyUMwNL/XQS9GCD9E163/qJEGd7iaX7y8UeR0/tEnD3wXGW8Sj8kVF3Yy8ssr/lqb3y//qcq3n8t/4vKWyAGsBjwWuaFFw/HO29tUl7b/37gf3z7Ikb7tvejC0+yL/tfhl2o2u3Vuw++fUp//HHBg7jkspGqvvRnxfKnHP2kPW10P7fiaWccH/jNryDbAGQcUxn/M88aoOaJXx+Fy10ltys+0keJcHhz43r8dPpsda2x/3U7oYcq4qfXzF/OxReff6bui3dcv5rSnpbBdxIgARIgARIgARIggfZFIK7RLZnEP0ng0V0HDzRg/35/41jjWrzgIfy1/AnLI90J+PKf+yDeUEla9tWXX+pi6v2www7HOeFB6Nr1OHy42x3u6yrYAieHHHooemT1ROcuXVRYuW7ywIGD+LC+Vp/GvIuxveTFCPZ88jnGXzYER8nCRSfr+dur3tyGHbs/xogBJyqDWypLKLkqY0vaf+ArvPpeBY4+/Dj0yzo3Rn6mXBCjT4xseYmxuG2rZZiJl3b2r+511Hzlby/gvS3vxuyLdgoAEM+k/JOXJN6TEF/xYurX9ZOKHGN64/rXIZ7aXr1yIEamNtyk7Iyf3aKrxLy/EanCqaef4WtYxhSOc0GSxxX/6BaU/vZe/OdN/w+DhuSrvenefd9+IsT4E4+1fsnecjFQzT7IvT8tethhKAb+7SV3OV7ahWW3KINWsxdvrDxuT3vHpb72xhcUftfxYEvEghi4zz2zTDX/49tmKBa5+UMVR1ks8UuM985bb+LOO36mVYbsy5a2rrrm+8rYlj3t2aGQGj/5XPv1R3SUl984ik6pjL8Y8hJx4NcvuGTTAAAgAElEQVRHmRc1Oz6AXkjo3ecktUggevjtw5YFlKOPORZbNr+j5ogsJMjLT68v9/1TLWRIGzrCIdn2lHD+jwRIgARIgARIgARIoN0TiGt0N2fvq7dvhfxr7CWJzXpmZ2PilB9Z2cQbq9AC99WCgmdPeufOnXDEUbHPz9be7Sdf2YA1b72PLp064/7/ewnFVw7Dt446Arv2fo5XNr6PIX2z0ONY/wzOso+7/rNq7PzkffzrwMno3Dk4zN7sfiqearN+Ksfdukf3ZsuxGFvyktDnir8shRhr+iXJ8eK9xBAUg1QMJf0y91JrT6nck3Bn8QCffY4VxeC9p+ub7yrk/W8vKOPWvJ7qsRid9/zmAby5aQOefGwJfnHrVMfAiydTdDe9ox9/vEcVN/sgLE0O/U89zTG4pbDck3+at1wTw9V8iTdeXhKyL9sv1lVVxpTRBrZ+31G93WW4a3myUKENfLkWClmZ4S+7/F+x5rVX1ThLJIO8/Pqj5ci72U89jnI9lfHXEQt+fdT782VRJJGXfHY//+xTZcSLJ1szaUwvLTvZ9nQ9vpMACZAACZAACZAACbRvAi1mdCeCUR5RFup9ImbePRdZPePvlT7yqKNwzDHHAJ1i94ObbcnjqMSQ99jMZpG4x/u++AK1O3fEPJf70MMOwyn9LE+YKUA83M+v24xn176Fq/P64bijDsOyyDbc98RL+PeReVjy4jpkf+sInNzjW8q7bdbVx/u+/gz/eP+vOKf3heh2dHwOuk6mvYsHWAxF8YiKgSZ7ZOO9xKMtXljxnE6wDWnxdDfnS7YkyEtCkv1eYlh+8MF2162dO3aocz/PqNyQR1+JsSsypY9Vla86nk+XIOPEu6dbe4CNIgkdSpSB7EPWryOPcC/iiNEoZcQw/8crL+OcQYNxxajEtipomfpd9sj7MZDIBjH+xRO/pvJVJ1JB10v0PdXxT6SPMgfNl14wMK/JsSwqyL3bfnwT/nfRQ/+fvTcBs6o60/0/ap6oopihcEAQJClRjErHgbYd0JtoEPWmtW2Sxgwtdjodo7T3JnbEbjV/A5iYzl9sbyLpYFpiJxIyGCmMJqhwRSJTEQNhEKxihiqKKmqG+7zr1LdrnV37nNpnHupdz3PY0xp/e5/ivPv71rcEc7Sj6Zff9tzt85gESIAESIAESIAESCA7CYQV3Tk5Oc6auibgGdau6kn28eDyciksKtJLUW2x9Ne1N35C7vn7+6RyWMBCF66iK2ZcI1964J+lyCU03GXycnMFYv706eiW23r/j7Xy5+3b3dVKSUmpfGRqcNT17tOn5Q87PpSf/v49+cTF58io8mIj+D91yXny+h/r5Dsv/15KCvLk2gvOkyITKK1T6hp2CNz4qyrPl4K8IunoapON+94wS4VNGfvxPu1mwgkIFcybxvJbEGoIqNVfgus5EiyXEFII0uUnQSRB8P3+t6tNW7Bm7/zzDsEcX3da9euVRoSGWiP6I9VT5fXVq0zUavTbuEn/eqVxNUZdmCO98uWX5C//6noTcRyu2OrOrW71cGHG+H//xmsy67ZPB1mn3f3RY7RljwHtwOJ/1TXXapY+Wwh9uNjP7FmiDH2Fy7M7YZ74zE/cItM/fpW5hDgJ0ST3nG7UU1RUJP/xve+Yfk6a/BF5/j++ZzwP3PcE44Gre7gU7f1HnaHGiCkKSLv/vMNZkg4eGKHuP/LiGtzfMV8eeY/1rFDg9VziXiOBPZ7ZaNozFfAfEiABEiABEiABEiCBrCYQVnRjTe1vPPEtmTj5grAQYEnGJ9Ra2Cg8cvQYY5mG+N1fV99n7eu8/AI5/4ILpKKyMmxbehFiGnO/CwsL9VRct3ipsHP7n+S7C5+UxuMB919tAGMdUzVORo4YpafMtvu0yJbddXLNlCo5d0SFCaB2sq1BEBDtmimjZWR5sZw9rEwqSgqkrbNF1u/5jXx4fLtZtzk/t1AuPecGycvNl33H/yQ3TPlbKchNzNiCOp2AA8xrhig0a1KLGEGJIGDh0scumy7//eIyMz8a+WB19pNskYSgbkhebUEIwyL7N5/9XMhq4SoNl3Xbwo66Pvu5e00ZCMeaV34pw4YNNwILwcvsBJEMEQ53ZOS7vCcatp0n1D6E3o9+8B/yubsDkcDR7uw77gqVXe7+uy/If3zvKYcXMmLNdHtOOcRueXm56Qv6g1ReMcREXA9ZcYgL7jndaAvB1/A9uetv5xqxumP7H+W7i/4/+ebifzfC1R4PngfMuw6Vor3/4caIlxn3/P2XzMuA//rR807TP/jxT519rx30FR/Mqf/q//oX8/yqi7r9XOJe42WJXkO90bTn1QeeIwESIAESIAESIAESyB4Cg/YeajQLaH/joa/KujW/D3Kjhqj99+//UM73KYAgun/985fluwuD3TmB638v+DeZcd1MQ+7phU/Ib3/zmz4i/axzx8uCby6U8RMmOoSPHD4sd33qJmMNdk6KGMvVfV990Cx5ZJ/32sf8a6TfrnpVFv7bI0FZYM2/+54vyF9ee73k5iFYWrecbGqSX634qZkL23zyZFDUchSGZf8fH3yojxsxLN176+qkIu+MNLUdk0373pC9xwJzmkeWny1XTPiUDC6qlIZTh+XNP//MuLxfOXGWlBZWyK4jm6W2/m1p72yRC8ZMl+nj/4cM6nGdLyopkZKK3rnTQQNI0gFcoDFHGBY9Te5zsPhhPi/EDpK6TaMcrLBYZgnl7XKINo4pADhvW0RhLYXIxRZJ99VKCRGNpCJT24aLNdpBe3oN+fS69s0UDvGP9huX3flh/Tx3/AQjMrVO5EO72h7GAcu3WsHtZuyx2+ex7x5/qLHa5bz6qm3UvPILYw3XYGnoL4Q6XoBB0Nv3CnVqOfse4zxY23Prca64uFRaW1uCngntvz4nNh8/91HLo36/9x8eAbD4e41x7hfuQ1XOvce+9s1c6PlH20Wbylz7bvcb2e1+aV69B/qsaNlQ7dltc58ESIAESIAESIAESCD7CYS1dMdz+BCQubk5Aus5rEF7d+027puwlGna/+E++d7ib8m/fespKcF87TBp7Zu/k83vvesI0zBZZeKkyTL/G496ZoFr94s/fF5+8qOlxlp/+vQZwVJpOO+VIMz/4qoZgvWF3Qne93k5TbL6jyvlQNNuGV1+jnxi6heM9Xrdzl/ILzf/h5w/aprsPLxJxlVOko+dc72UFJabIFfVY6+QiSMulmMtB2TE4HG+xuVuP5HHKijsNtznINZswRZ03RLr9vlzxp/nVAkRY18LtY8CKnC1sLttsdpDnj7XtaDH1m7XfdkW0qHqxDjsfHYd4ep2j1/Luceq57H1qk/PtfQErmtsOG5eQhw4sF8OHjggV/3ldZ48tJxdP/bDtW/ndfffi4+7Dbtud3k7r71v9yncGLVvXv3Qa9i628U5dxm7fXsfed3H7rJ2W9wnARIgARIgARIgARIYeASSJrpttMNHjJB75v2DPPmv35Cjhw87l7q7u40QX7b0+/KFf/iywAodKmF5Knz8pOEjR8np7tBzuru6wi93pm2gP39xxdXymc99UZqbAxbwUuvlQPfpLvnj/rckLydXPjX1XqkoHu5EHr/+I3Nkz9Gtxpp9yTnXyXnDp5o53Fo3XkoUF5TJuIK+wdk0D7ckEAkBBE37zx886yz1BVfo62beJFfO6PvCKJJ60ynvQBhjOvFmX0iABEiABEiABEiABCInkBLRjW5OnXaJ3PTJT8lLP14WNL8bQvq13/zKzIeddullkY8oQSUQ6O3GW2bJrNs/LR98sEe6urqkoKBAJk2+QIYNH2FazcvJk7+Y+CnpauuQHFdU9fzcAjl/1CUyYcRUGTQot8/1UN028+XP9AawC5WP50nATQBW5If+5d/cp7PqeCCMMatuGAdDAiRAAiRAAiRAAgOQQGhTcoJh5OcXyKfu+GuZdtnlxq3bbq6hoUGe/tYTfQKY2XmStV86eLCxDD6++LvyxS99RfLy86WlpUXe31ZrhPcHe3Y7XYFALi0ZElJQY63k3Jz8kNediqwdeN/n9xOh3crOXRIgARIgARIgARIgARIgARIggTQi4Fi6q8adLZM/Ui1nrLnMeXm5UljkP4I2ROfQYcNlimsdZMzbHlwxxMxdtsc+bPhw+dt7Pm/aRPAyOxUUFsqvVq6QT35qtulX1Atti8i5551nlg2rGDLEzLVFP0MlzNkuLi2VsVXjpHrqRfKRCy8yY9Io6ZVDh8nIUaNk6NCh0t19WiZNtqNsDzICubS8Uro6WkUE64P3zlk364DZDZ9xn7HzBiLCFxSVSF5RiV2K+yRAAiRAAiRAAiRAAiRAAiRAAhlCwIle3tHebkSk3W9o0/yCAiNY7fOh9iEwT3d1SUdnV58s+QX5ph634MU8brhqn8Z6W0HpjAzKyTEu3O1tbUbABl2O4CAnN0fy8/PNvO5Oj771VhVoMz83V3Ly8vpY4DUforR3tHdIbl6eWatYzwdvoahtER181dfRIIh2rCgW+iWBr3qYiQRIgARIgARIgARIgARIgARIICUEHNGdktbZKAmQAAmQAAmQAAmQAAmQAAmQAAlkMYGUzenOYqYcGgmQAAmQAAmQAAmQAAmQAAmQAAkYAhTdfBBIgARIgARIgARIgARIgARIgARIIEEEKLoTBJbVkgAJkAAJkAAJkAAJkAAJkAAJkABFN58BEiABEiABEiABEiABEiABEiABEkgQAYruBIFltSRAAiRAAiRAAiRAAiRAAiRAAiRA0c1ngARIgARIgARIgARIgARIgARIgAQSRICiO0FgWS0JkAAJkAAJkAAJkAAJkAAJkAAJUHTzGSABEiABEiABEiABEiABEiABEiCBBBGg6E4QWFZLAiRAAiRAAiRAAiRAAiRAAiRAAhTdfAZIgARIgARIgARIgARIgARIgARIIEEEKLoTBJbVkgAJkAAJkAAJkAAJkAAJkAAJkABFN58BEiABEiABEiABEiABEiABEiABEkgQAYruBIFltSRAAiRAAiRAAiRAAiRAAiRAAiSQl+4I6vbtlUVPPConTzaZrt7/0MNSPfViWfb8c/K739YEdf+a62bKnHu+GHSOByRAAiRAAiRAAiRAAiRAAiRAAiSQKgKD9h5qPJOqxvtrt729XVa/+iu54aabpbCwUCDAX/nFCvnsF+aZY7v8f7+4TD5+5QwZd/Y59mnukwAJkAAJkAAJkAAJkAAJkAAJkEDKCKS1pRtC++ZZtztwGhsbpLikpI/gbjrRKG2trTJi1GgnL3dIgARIgARIgARIgARIgARIgARIINUE0lp0Aw6s3Uu+u1i2bnpPLrz4Epn35Qf6MFu/7m2ZdunlfcR4n4z9nMjvPtVPDl4mARIgARIgARIgARIgARIgARIgAf8E0tq93D0MuJf/6Pnn5Ev3z5fyiiHmMqzcK3/2knz67s/GLLrPHlnhbpLHJEACJEACJEACJEACJEACJEACJBA1gYyKXg738eHDR0jTiRPOgGHlHjO2KmbB7VTIHRIgARIgARIgARIgARIgARIgARKIE4GMEt1HDh2Uo0ePSHlFwCINK3ft1s1y+cevjBMOVkMCJEACJEACJEACJEACJEACJEAC8SOQ1nO6IaqffOwRObi/3ox48OByefBrjziu5bByDxs23DmOHxbWRAIkQAIkQAIkQAIkQAIkQAIkQAKxE8ioOd2xDzd8DZzTHZ4Pr5IACZAACZAACZAACZAACZAACURGIKPcyyMbGnOTAAmQAAmQAAmQAAmQAAmQAAmQQGoJUHSnlj9bJwESIAESIAESIAESIAESIAESyGICFN1ZfHM5NBIgARIgARIgARIgARIgARIggdQSoOhOLX+2TgIkQAIkQAIkQAIkQAIkQAIkkMUEKLqz+OZyaCRAAiRAAiRAAiRAAiRAAiRAAqklQNGdWv5snQRIgARIgARIgARIgARIgARIIIsJUHRn8c3l0EiABEiABEiABEiABEiABEiABFJLgKI7tfzZOgmQAAmQAAmQAAmQAAmQAAmQQBYToOjO4pvLoZEACZAACZAACZAACZAACZAACaSWAEV3avmzdRIgARIgARIgARIgARIgARIggSwmQNGdxTeXQyMBEiABEiABEiABEiABEiABEkgtAYru1PJn6yRAAiRAAiRAAiRAAiRAAiRAAllMgKI7i28uh0YCJEACJEACJEACJEACJEACJJBaAhTdqeXP1kkgIwmsra2TXfUNGdl3dpoESIAESIAESIAESIAEkkmAojuZtNkWCWQJgV31jbLoJ+ulubUjS0bEYZAACZAACZAACZAACZBAYghQdCeGK2slgawmsGt/g7F0P7tyY1aPk4MjARIgARIgARIgARIggVgJUHTHSpDlSWCAETh0vEWaWzvNqGve3UNr9wC7/xwuCZAACZAACZAACZBAZAQouiPjxdwkMOAJvLxmu+ze3+hw2LLrsLPPHRIgARIgARIgARIgARIggWACFN3BPHhEAiTQD4Fd+xuDrNubd1J094OMl0mABEiABEiABEiABAYwAYruAXzzOXQSiIbAoYaWoGJbdh8JOuYBCZAACZAACZAACZAACZBALwGK7l4W3CMBEvBBAHO6kc4bO8RssXRYtkYxx9hWvLnDjHNZTa3gg3nsTCRAAiRAAiRAAiRAAiTgl0Ce34zMRwIkQAKbe+Zvlxbly5XV4wwQzO+Gy/lFE0ZmHSCMFxHaIbR1XfKpE0bKzMvGZ91YOSASIAESIAESIAESIIHEEKClOzFcWSsJZCWBlp51uSdUVcrsGZMcob0lS+d1t/REaQ8luGc+sFyWrarNynvNQZEACZAACZAACZAACcSHAC3d8eHIWkggqwks+fl7JmJ5c1tgqTBYtcuKC+SiiSON+/XabfUy58bqrGIA67a6lsOVHhb9ebOmCV44IK2trTNbrFnORAIkQAIkQAIkQAIkQAKhCFB0hyLD8yRAAg6B1Rs+CJq3fUV1lbl2RfU4gas5LMH4qCB1CmbwTmA98g4zgnm3XmK29vhKiwvMOV2zPIOHyq6TAAmQAAmQAAmQAAkkkABFdwLhsmoSyAYCCJJmB0obVVkaJK4hRLFWt1rBs2HMGINtwfaarz6hJ5Ac1ynPljvOcZAACZAACZAACZBAYghwTndiuLJWEsgaAgiSZicEEsuUFGq+NV4ivLxme9hhqAUblnyvBPd6TfZLCT3HLQmQAAmQAAmQAAmQAAmAAEU3nwMSIIGwBHSJMM105YUB13I9VitwOgZTQ/RxzEdHwjgwRxtzsSHG19bW6xA8t2rBtl3K3Rn1BYT7xYQ7H49JgARIgARIgARIgAQGLgG6lw/ce8+Rk4AvAm7RjXncmZIQ/AziGQHfdtU3mnW2YaHuzzJtj/m2GZMyZbjsJwmQAAmQAAmQAAmQQBoSoOhOw5vCLpFAKghAiNou09oHndu8YO5VgvncmZRUXC9avl4+/tGAhV7PYRyhgr/peuSwZId7yVBWHHA916XUMokN+0oCJEACJEACJEACJJAcAmnvXl63b6985d575HN332E+tVs2OWSaTjTK1+f/kzmPLY6ZSIAEIifw7MqNMn/JG54FnbnNxQVBAdQ8M6fRSV1bG12C0F69YU+f3qm4xoX5z7zuLAM287LxJip7nwKuExPGBpYPgxWdiQRIgARIgARIgARIgAS8CKS1pbu9vV02bdwgTz69RAoLCwUC/JVfrJDzJ08xY3n+uWfkrjlzpXrqxV5j4zkSIAEfBDDHWYOKrX53j4waWipYl1qt3jq3Wedu+6gyLbJoNHVdY9vuFJY8w5zuF2q2CQQ2EgQ45mY/eKcY6/ZtMybbRbhPAiRAAiRAAiRAAiRAAlERSGtLN4T2zbNuN4Ibo2tsbJDikhJz/Oft78uwYcMpuKO67SxEAr0EsN60uo0vXP6OPPjM62YedG+OzNxTSzdeFuj4MJLZV0+SBXOvFriOwwJe8+4e84IBeXCslv3ZMyaZFxCZOXr2mgRSRwAxEey4CKnrCVsmARIgARIggfQgkNaiG4hg7f7OwieMC/lrq16RT9/9WUPu4P56qRw2zHE9Rx7kZSIBEoiMAEQp5mtDhKo4TTd3aQhjey62nxG2tHaabLDYT6ga4hS54sJAILg5N1bLg3dOF7Vo4xjjV8s3yum+U9i1M3ViYPk0203dlYWHJDBgCOB7gKkq855aZV5mYeA4t6ymdsAw4EBJgARIgARIwItAWruXo8Owdn9l/tdM3+Fevvib/ypfun++Od65Y7vjev7aq7+WN994Ta6/6ZNe4/R17sCBA77yMRMJZBuBkhyRB2ZPkVV/qJP/emOX7Kk/Kvg+nGrvMkMtKcwzx17jrqrMNafffb9Orp86zCtLROeOnmiT4RVFThn04ZkVfzCfL9/6UZlyVq+AdjK5dlDmdxsDc7iHlpyR7hFFsrYnT1luuxnLyBKRkSVFzrguHFckc2dOdI5dVXoeHjsWmMvdePJUROU8K+NJEshwAms37ZUVaz8wo/j9pg/M34OVv98ub207KJNGFcrZI8syfITsPgmQAAmQAAlERyDtRbc9rBGjRsvw4SOk6cQJc/r6Gz/huJ6PHlslGzest7NHvD9mzJiIy7AACWQTgWlTco3obmo7Lfg+qAV34rih5thrrIdPBUR3QUFByDxe5UKdO3zqsOw51mHmVaP9F1a974j/+oZuufby/r+nmKf+4ZEW08S4saPk0o+Wysp1+0wguAnnnhWq6Yj7P3jIMCld+UfZd7hZcgrL6Y4ekiwvDAQCuw697wzzWFO74PuBvyVIRWUVMmZMwDPEycQdEiABEiABEhggBNLevdy+D0cOHZSjR49IeUWFXPCRalm75neOSzkE95ixgSWB7DLcJwES6EsA8y01QJp9dXTPkmCHGgKC1b6WrH3MxX57a72JJI6I4ir80b69H64/KK/JzOkeWiorHr9dFt13rZ6OyxYu6Lqk2I9W0YU2LlBZScYTwLQNfN/M1I6xAc+ULTsPZ/y4OAASIAESIAESiJZAWlu6sQTYk489Ipi/jTR4cLk8+LVHpLxiiPmcN/F8ue+eu821a66bGZNrebQAWY4EMpEABCKW0MKPY3veMiKXI0GURzqHOl4c0Db6pmtgI9I4+rhg6VtOE8ijfXVOWjvrtvWKbut0QnY/c2O16S/6PO/WaU7U94Q0xkpJII0J6Mu6CT1CG12F8GYiARIgARIggYFOIK1FN8T14wufDnmPMH87ljncISvmBRLIcgL649hLuCKgGqzgWD6rpbUj6STQLtKKN3eYLQQ3IqzbCUuczbv1EvuUsw9Lub4wwFgSncDwhkvHG+GNgG8amC3R7bJ+Ekg3AngZhjShKrB+PfZNsMGagJfKHBHB9xN/f9RDJN3GwP6QAAmQAAmQQCIIZJR7eSIAsE4SGAgE9MewjlVdy22LlF7Tc3AH1SjmftbobmnrdMSu1hXNdneP6Mb62kgTxvb+gNf6Vm/4wLiaw/o984HlQe1C+CJBCOtYtFyitldeGJjagrW/mUiABHoJ2FNWILgR2XzJyo29GbhHAiRAAiRAAgOAQFpbugcAfw6RBJJCAEK0ZsMe46Z9xUcDArG0KN/T9VOtVLv2N3gK3lAdxg/qFWt2CJbeijYF1skOWNeffeAmpxq1yONlAYKkIR/aEzlj8kDsqpv82h7X8ttmTAqyuDmVJWBHLer6MsNuAn2li61NhPvZRgDP+Pwlb5hh6csyHaN+d+0pIdjn90IJcUsCJEACJDAQCNDSPRDuMsc44AlAQOOH7rJVtcbSBCAqrt1w9Edyc6s/yzWs4O4f2u46/R6ra7mKWK9yasnGeNRFFUIcybiuYr53ZWnI8XnVGes5iGplgDWJISiQsF3y88itelo+1n6lS/lsG0+6cE2Hfqj1Glu8yJt/5/Q+3cL3Gd9JfGf1u63f9T6ZeYIESIAESIAEspAARXcW3lQOiQTcBCCg3SmU67We13ndKGfmZborsI6vrB5nHUW/ix/lSPiBHiqpCzd+tCPIGhLOQdipINcf9qHqSMR5dcHHiw0VFIuWrzfzVyNpDwx0HJGUS9e8EGNeHgDp2l/2KzIC+O7hmcVLp2UP3+L5sgurBug1DZCo3/XIWmNuEiABEiABEshMAhTdmXnf2GsS8E3AXmbLFqOhXJ5xHhYrJA24pvMyQzU6oSow/xoW9ViS/hAf3RNFPVxdEHLoqwpvuLdirjeSzrEOVz7e1y6a2Bu0DQHoEOxNLfCRtIX7peOIpFw65bUt23iBYC/hlk79ZF/6J2Dfy3C58eIt1N8Uu5zGaMDLGCYSIAESIAESGCgEKLoHyp3mOAckAfxgXrT8HcfSqPOeASOc9Vpdz1UEq8t5KIgaXdzLoh6qjNd5fUGgIt7Oo+7b9jn0T13M8SMe48ULAz1n5030vv1CAwHo1CKvgeFCtf/gM6+bYHAICIcgUxiHfkKVSffzCHAHN3ukLbuPiHsJN4wPLyWY0p+A1/QI3D9N+qKtv78Rml+3eLHkV9BrGW5JgARIgARIIFMJMJBapt459psEfBBAYDMVzsgOF2gz7/Ku6WbfRxXOXGU/eWPNo5Z1L/dyWNIgYNF/vBSApfugWXqoShbed63TdFmPld45kaQdWPnunTVNnl25UQ4eb3G8BCIRFrbYhoV4nrX0UpKGEZdmcJ9wf/DiQQUatrhv4LHgh2/J1PN6PQPi0igriTsB/O3A+vPw4rBf2L28ZodzTl+0+RXd+kINzwEE/fy7+s4Bj/tAWCEJkAAJkAAJpJgALd0pvgFsngQSRQA/anWta20DP4wRFTwSS7AfV2+tP9KtCjItpy8I1NKu57GdPWOSY8VWUY7yELt4maAfr7J2PYnc17bx8kDH0l97Ot/ZfnGAMpnsYq4vGuz7q5Z/vEwAm90HAuux98eH15NHAJ4mOkcbrb7dE6BQvUBqFO4AACAASURBVBZwX/HZsvuw48kQae/UKwblIOj9fk8ibYf5SYAESIAESCCdCFB0p9PdYF9III4EYOVW8YNq1f3Zj0VKRS3K6RzMWLoGYYmP9gc/7uFOrcsMoW51LfdyI8d1iOvbZkwWLAWmLwJaPALExdLPWMvq3Pf+XMq92sFLA71HuA5W0cwJ96o7medUaOMZmn31JKdpCLeFL75j7iFOaj4nA3dSTmDLzsOyYOmbTiA/ffEDYYwAgZ95/FfGOo1jfKIJ+IfvCJ4L/Z5j+gsTCZAACZAACWQ7AYrubL/DHN+AImCsULsOG0HjtnJr1GA/QFTUIq8fkd5fnZi3jI9G9db86C/csSHIVr+7x5y229Z8uoW1G9ZkzEdHALV49E3rjscW/YFw1pcLWqe+UNBjbHEOc7iR9CXHgrlXGWu+BrKLRtTYbaRiv7ktECkfLObdekmw639xIECfjpfCOxV3yF+bENX2/cF3FM81rNOacE5fMOmqB3ot1FafC0Q0x3OO74HdTqhyPE8CJEACJEACmUyAc7oz+e6x7yTgIgDrNn4IwyrsFn7RWqz9CFv9wa0/wF3dcg4hrGHRtZM7oFa4fmJcSOpKbteTLvtzbqyW+c+83m93MPdcxYYyxvgW3HO1rN1aZ6YG6JxodVvvt9I0yOCMqWfZN/t+6zixhQu+CvQ06HbadwHf50eXvmX66Z6KEK/OIxYBEtqa8/gvw1YLwQxhrkm/m3rc3xb58VzDAwYv43Csz0d/ZXmdBEiABEiABDKNAC3dmXbH2F8SCENAIwmr4FaLKYqEi1Yepso+Itkrr/7gRrv4IQ7h72XdheVW+4Z6YPGcM7PaqRLH0fbTqSTFO243cXQHS4hpAht8IDjU4qvXsEV5WIjVNRt5Mympy7/tsYCxwANABbi+pIE7M5M/AhCm+E55fa/81dB/Lg1kqN9nlNDv5w2Xjjf7uI84h2c01qTPgwk+2NAr4GOtl+VJgARIgARIIN0I0NKdbneE/SGBGAhoJGH8QJ55+XipWb/HcQdVoeOneiN8a8S4f/rJb+eBsIZQxA9z/Ki2RTby2YGaEBEZlmEVlrYws+vMtH23tXvR8vWycF6pEdqYG4sEPg/eNd1YxVV82ONEHZgioAHI7GvpvK+iUKNUo69ugWaLunQey0DoG+4XPFBUXGPM+P7X3HinEfj4u4FjfUbnWFAQcyCW57O0Z7qB+2+E1QR3SYAESIAESCArCNDSnRW3kYMggQABde/+zI0BwWtbGyMROnB9hgC2lwmKlrF7HrdXcDC0hWT3N9r20qEcBIqOCf2BqMAyWW5xgXy22LH7jvulwaZUyNrX02kfLuXqatzSM6fbjlKdTn3Nhr64n6NYxoT7hhdlcCfXvx+67B6eTzyHKrjd7SyYe7UgDgHiK0ST7GkT9HqIhiDLkAAJkAAJZAoBiu5MuVPsJwn4IKA/xt1zI1W8+ajCZMGPYQQ6clsow5WHyMRH21ZXdy2jrtRbdh3RU87WWLxnVkf9492pKI12YKmGe/+Dd0434hnixitSM/KFEi0qdnSedBoNL6grmJutY9O+at+DMvIgagK2KHW/yIq60h7PEy2vfz9sMazXQm2x/CDEdzRJxX00ZVmGBEiABEiABDKJAN3LM+lusa8kEIaAih0Vt3bWSKzcdrlI9iHSkdQqq67uTr+GlgrcSWFNc0dWj4dFPZK+JiMvROeyh28xlkK46CJS+aGGU55NhxI5et90nrRn4TQ4iTnruO8abd2OJRCueyrywuXhtcQQQADDF2q2Od4X986aZlYSSExr3rWGeu69c/MsCZAACZAACWQugYgt3U0nGmXZ889Je3t75o6aPSeBLCSgQZDU0owhwopas/hOY7VO1ZB1rV8sWabWz4EitlQ0q7jQFxB+74XOi9YXGbr1Wz5Z+XbVN5qmEBALSccbqn0NlhdPi22otnjemwCeTft7iO8mYkEkO4Xy8kh2P9geCZAACZAACSSSQMSiO5GdYd0kQALRE1Dho8I2+ppiK6kuo5jbix/1KjSxFJjboq3iK7YWM6O0bf318kbwGoU9LxqCW124vfKmwzkVcX7Hlw59zpQ+KFv0146GH23/3X8n8KIEsSAinYoSbftaDu7pSLpcmZ7nlgRIgARIgASyiUDEoru8YohMu/RyefON17KJA8dCAhlPQOdQ25buVAxKrZwQ21iD1064FipwmJ0vG/eVC8bm9x6pMAJHWJExL1xfYqQTI332tE/ZEhBPx5MOW8RX0O+OvmCLpV94BvFyBNZtFdo4d9uMybFUG3FZ/S6s21YvGmQR69wv6FmTPOIKoyyw5OfvRVmSxUiABEiABEigfwIRz+l+7dVfy4vLlpqadYuD0WOr5KGHHxWIciYSIIHkE9D5wvojNvk96NviZo91mOHy/nZtnRMpuW+p7DwD9/poEoQRpg6o2MYSTbaAd9cJYX6wocW48kO4wCqKYG6JfC50/j6s+fBwULd4d9/8HMOiq275fvIzT/QE4NqN7yOeGU1ubxQ9n+htwCum0QRjTMU0Co0zEUnwyEQzYf0kQAIkQALZQyBi0X39TZ8UfJhIgATSi4CKMrWOpkPvtuwORCqH6LPTsw/cZB8OiH2410ezpjHEss7XBygIEnutZDc8XMfLDrj5q+UQIlxFN67H+xnRZcJgJcWa67ZbvLt/OB5dWWpO2+PSfLDqo7xXHyHM1tXWm4BtC3sC92m5gbDVlxluz4Joxw7BjRccZVUF0VYR13KYbqLz/O0l9+LaiEdl+rcTwlvF97Kv3+J8ZzyK8BQJkAAJkAAJREQgYtEdUe3MTAIkkBQCaqlKl7m0butsqqxnSYHvsxEzf73GZ2YrG8QnhCjcgFdv2NPHZd/KanYhuOGqe7ih13qpc4DxnKxYs91T0LrrieRYRQtEHAQhorWHS/oCAP1BWdtyD9dpjPcil6h2R9sOV3+2XtPvtwrTWMeZjh4F+qzGOrZIyntZ1nFu5tDkB5aLpN/MSwIkQAIkkDkEIp7TjaHBxfxzd98R9Pn6/H8SRDZnIgESSD4BWDKRVMwkvwfBLdr9SKbFKrgX6XWk1t1IewWWcNued+s0p6gdVMs52bOzZfdhE8DOFhI6BxjnvNZJd9cRy/G8WZf4cg+fffUk04xGPLfbNILngeWy8MV3nNPwErDHbY/PyZTlO/pyAi8rdHm2TB+y7dGAfX1W7fNzHv+lzHxgecLGjJc8SPDIwdJpSF5TY8wF/kMCJEACJEACURCIWHRDWNdu3Szffub7ctecuXL/Qw/Lo99cLJ+4ZTbnc0dxA1iEBOJBYEvP3Gn7h2o86o1HHenYp3iMK9I6VDyjXCTzu1Fu/l3TjZDVFxihLJ0QY/ho0vx6DHfzwNzZBj0V81bFrx2My0+lsIrjZQLKw4qtSevDse1+ri7s2o5a17XcQNlqMDW8rMgWBhiTjgvPhTvpM7363T3uS3E51pgE+K7p3yt4iyCgGxMJkAAJkAAJxINAxKIbjQ4bNlwKi4qd9keMGi27d+6gpdshwh0SSC4BXW4HPxrTLQ2kZcH6Y6+WSszv9psgAnRZJXUvVhHirsMWrBAx6tavc4B1Trmdz11HtMeRuiojvwat0rXc3W3DAomxYqsC0xlTz9rgKIM8thU83ZdWc48zkmOIUkw1wHiX9KyLHkn5dMyLMdliu2bxneYYY0SMAE3uFzR6Pp5bfEfxPUPbifiexLOvrIsESIAESCBzCEQsulVst7e1mojlB/fXZ85o2VMSyEICsP7ApRgpXUS3bcntb35vFt6SkENS0RwyQz8XLpo40uTQYE/u7CrGYQ2GiNHnAZY825qs7rTu8n6P7brU+qgWQr91IF+vgG5wRPPu/cHTlBb88C150LI46osL2wqO/sx7apUjkuB6nc1LQOlUAzerSNhnQl48p8tWBUS3rnP/Qs0251mJ1xj0+6DPsD6X8aqf9ZAACZAACZBA5KK7sFDOmzhJmk6ckCFDKuVXP/+Z3HfP3XLs2NEg6zfRkgAJJIaALbhgjVm4/B3HpVh/NCamZf+12pbcSC2g/lvJvJyfubFaEHU72h/1Wk6tvqEIXFk9LugSxJk9d9o9Pzoos48DlIewhUVZ5xaXRrkkmrrAw9qNceGZRtLz9lghvHRuvC04ESUfLxzgDqxWbnxPNHq7jyFlVBb9TimrjOp8BJ2Fh4eKbUTGxxJnGPOKNTsiqCXyrPo9i7wkS5AACZAACZCAN4GoopdfOeMap7bvPPu8s88dEiCB+BOA6MB8Vlgv8WMbFrxRlSXG5die24sfpOmWdP5tuvUrVf2B5Vmtz7H2AeJDxVeouvQljIozBImCVQ+iGZ9oxQXqgKUZQheiCILILfRD9cl9Hp4QqM+2TMMjYNF91zrCXssY19+eKRQ6JmxtYa4vAVAGQbnUNV/rGOhbvJgARw0Ylu488Bw0t3Waly279g8xz+3btXVGgKvXQ7zHYL6nlYGl+vCMx+s7G+9+sj4SIAESIIHMIRCxpTtzhsaekkB2EMC8TbjXQkyo+/Ci5eudfR1lOoqL/kSh9p1b/wQcC7DLDbu/GvACBOJYvRBsodpfWfu6znPVZ1Hn40YrTNRl3m5D68JLAfca78inL3M0ujnmryMaeqYISXus8d7X++NVL+4Zrr+9tc7rclqeg7DGyyM8E7r+O7wc7BeOsXRcn2O1qGtd+gzqyhB6nlsSIAESIAESiIaAL0t33b69suiJR+XkyaaQbYweWyUPPfwoI5iHJMQLJBAbgZbWTtEfgLDu/WhVrYy2AqepVTO2VuJTGsHT5ki1TKgKv15zfFobuLXAhXpnXYOJbg4KXgH1YDWGVVrFtq4X7ke0QKC90DOn9pG5VxnLukbKR3sq5GO5A9ov1AHRDIu5WrFxDsIbMQIgsHVOPNz0Fyx9y8QywIsdOwgXrNtYzxxJeZiDLPsH7CE+YbnGfcLLCbCCe/2yr9/iOVr9+6GC0jNTGp+040NgSa9Qnhp4fvy+8FMmibKapzFOdo0ESIAESCCJBHyJ7nFnnyOpciN3C34sUVY99WITKf3Jxx4RDeRG0Z/Ep4ZNpYyALXhUWKAz+AGeTj+k8QIgnV4CpOyGJaBhDVKnS0bZ4kKDi9nPAvZxXl/QqHCBS3d/4mTt1jonOBlEOu6pbUmdf+f0mEeI/mGeOxL6hvGMkuAo/PDiWPbwSMe6qV4daqW0O4Hl1ZDw/VAe9vVs2df7rvcDL2DAD0zgFRNKkGby+HXMGMPuA8EB93AOY8dLB/w91Mj4mTxe9p0ESIAESCB7CPgS3akabnt7u2zauEGefHqJFBYWCgT4K79YIedPnmK6dMGUj8o3HvuWuZaqPrJdEkg0AYgjTbYFUM9hC8sf08AgAMsw5mOrezieCeyHstRBfEEsqwiDcFErKaYpID4ABBvcsyFUjGjbsEfgWWEv5dXSE+BMKcOlO1Sbmsfv1s8LGvTbzgd3YMQ6QH/tlwxoc+bl4x1rt/YBQhT5UEcoUQoBa7ehZTNhi2cA40LCMlt6vzOh75H0UZ9dff5RFvdtXU9wP3wfYL3uT3QjKnrNhj2ORVxfZkXSF+YlARIgARIgAb8EfIlut7XZq/JEWJohtG+edbvTXGNjgxSXlBiRfeTQQSkqLqbgduhwJ9sJYK1lLP2EBMtgpoqDbL9PyRyfChCIjlAC2Et8PTr3arl38atB0b3V3RyCRZdpsseiQcnUeuxVr50/0fsYL15Iob9u0V1WlG+ahyhHgkCDZ8DfzvyosQZjH1ZhNzO4amPeO/LZVtVEjyVe9ePlCRJeROAeanBFHae+OMlkgWnfF31JUrN+T9BLFowfkevVI8KLLwQ38h2SFnN59ozJXtl4jgRIgARIgATiQsCX6E6lezms3Uu+u1i2bnpPLrz4Epn35Qecgb/9+zfk1V+tNMfXXDdT5tzzRecad0gg2whAcKvVW12Es22MHE//BHRpLszhhWjAvF5YpSNJEKlww8a8aE36bOkUBgg2CBEVrOplgTaR3EJX60nWNuCK3ruEmN2uiky1hi76yXrjSo++Y7kpjCXUiwqs+Y3o2Av+7qo+otxuI9X7GL/eM335YvcJ1u612+rNPHiNraD31p5Hb5fJhH297/D2QLyBFcUFzssjxATAdwFjf3trvSO6sZb8ydYO80IFY8RzgWcBMQIQDwD7fImZCXeffSQBEiCBzCXgS3Sncniwdn9l/tdMF2BxX/zNf5Uv3T9f3C8Clj3/nNRu2WTme6eyv2ybBOJJQIUO6rR/YNvWnni2x7rSnwAEpQbNcluk1bKrlt5wo/GyAs57apUTrAzCzBYiagkPV2cyr/XnPqx9gcBS8a3reeMaXOdh1dYEEa4JIgyrBmC5qngl1I81xuP1ssL+G2Dvo78qwnXs2bReud4ziG77nmHcuIZ7B9GNOf2YdgNPiIXL3zGeC/DOACsth5UAQnlsqDeAegfE6zlgPSRAAiRAAgOTQFSiG+L2208+FkRMA5wFnYzzwYhRo2X48BHSdOJEnyjp0y693ARVQ5C1aNOBAweiLcpyJJAQAu9/2DdY0F9MHiZ8VhOCOyMqLcvtkpHjiswzMLTkjOnztt0H5MCBYY64LMlp8/WMXHDWEPnTh41yycRhsu9wiymvArW5udnUkdPZZtrYf7RJ3tn8Z7N/1ohSX/WnEqiObcXvap1u6NhwwgjSDz6UksLAf4PHjgV/1xpPnorrGFf/351y9sgyubp6tNOfWHZwfzR1dHSIjhfn/uGTk+VffvQHOdXepVkE9+zDIwEvBb23zsUM3Pmbv5ogre3dpucr1n5gxqd/F6/66Gh5a9tBOXz4sIysKHLG/spb2wz/9dv2mXLnDC8IeY9HlQemKGzeXifjh+VmICF2mQRIgARIIJ0IRCy64e69ccN6+fYz33eEb9OJRln5s5dMgDNYphOVMI/76NEjUl5REdQE+vTaqlfk+hs/EXQ+0oMxY8ZEWoT5SSChBA6fCv6xB8vM3918WULbZOWZQ2CceT62SdeZXLH/ftn74UbzT/+zSJrbOo0FFm7rtz38spN9wtmjTJ2BP4vvyNETbVJUFvjbW1leGtSeUyiNdqace8C8UKh5r75Pr3QZtc37ThnrKAT4f78VEGI3XBoIwrbvcHNcx7j5gw1yJqdA2rccM3Ot1QW+T+d8nrhocrdAbCJNObc3sjsCzF14wXj5578JLLMG7wec+/L/nG6WF0P+srKyuI7NZ5fjmu3vbu79/7q5Y5BZVk6f+7+/tVya2t4xHNDoX19XbaKa/7GuWT59wxipP77B9OVjHzlXxoyp9OxXWdkxcz4bWHkOkCdJgARIgASSSiBy0d3WajpYWFTsdFT329ta4xrYDGLeXhZs8OByefBrjxix/9qrv5YXly11+nDXnLl0LXdocCfTCcA9EtGh4SqpCT+cF8y9Sg+5JYEgAmrF1bWsgy6GOAgn/Gw3aLzswfQGLCGGpK63IapNi9PusamYxlhumzHJzGeHizJckvHiQfnp0moYBKZ3uF23oxkcvsf4rGutN3WiDnf/QtWLcva90HylxQW6a/qoc7y1XkwfuG1GY2Du+tghZqoA5uljzGatdqd05u/AjVxdxjEa8LKnBig/xMXAPdW/q8oq8wlwBCRAAiRAAulOIGLR7SWwIbaR9Fq8Bl1eMUQeX/i0Z3XX3/RJwYeJBLKNAH4UYq6u+bFd2bte8YJ7ro6LAMg2XhyPmPWoF/wwEBRNI1ZHw0XFtbusCnldQiwTAnGBg67/jfFoAK4rLhwnOuddI7Gr4NZxKwddm1zPR7tFYDYkjdGAAGcI4NVfQr8wzx79sUUkyukYsA8R3RskbYhTLdqY4xyJiQUwb/Eq60x27EJUzxw6PuRgcO+R8OJIYxOAKRMJkAAJkAAJJItA5KK7sFAwf/r++z4f1EfM6U6ka3lQYzwggSwmoD8KseauWmJg9baDWmXx8Dm0KAio5Q7iOFRgqCiqdYrAkojAVCoa1XLoZEjDHVio3d8Zd/A15abR32ENnz1jkmM1jUcQLTB7oWZbECGIafNSbWjvS7WgDD0Har3Vlx52Hv3bgHMI0HYRBHY/Qh5M4C0Dy/5ASra3gr6ccD8bA4kHx0oCJEACJJB8AhGLbnQRwcp+8OOfJr+3bJEEBgAB2+qm+9nmDjoAbmNShqgWPDQGwYhlwGJJtriz64bIxosfTHtAygTR3R8HjfCtwhb54VquYt1YResbnWWn+qvP6zoE9/wlb5iXFZgegvnVYAwLO9oNZ51FWay7bfoz0dsqW7P4Tl/i3e6bLdbt89m+r94L+gzrMmqhxq1L8x20pviEysvzJEACJEACJNAfgZz+MvA6CZBAcgnsqg9EUbbdH2HJYiIBNwHbgmfPRXbn83usdUAg2nWjPKyoEKpItiD3W3e65VMXebzYUgu+Cq149RVrgqN+cMP0EHyn1Rrd3zJe8HiBNRz3Ipz3Qja8AIkX73D1uKdd6P0PVUZfTugUhFD5eJ4ESIAESIAE/BCIyNLtDmymDSRjuTBti1sSyHYC+iNPf5xjvPxhne13PfbxxcsbAsJw/p3eFnO4Zy94/s0+gjz23ie/Blg6V2/A0mGNxvKMHqjQUiso5mJj32tNcz89Vis63PPhztwyY5IR3iiLgGbhkrpBu8ViuDK8FpoAAubhHmDNbkwn6O9vqr5YgscDEwmQAAmQAAnESsC36FbB7Y4SHup8rB1jeRIYqAT0Rx7nHA7UJyB148Z8Zvtlj7sneCZjdWF315mqY/1+Ya6626qvkcF372+Ut7fWRy269busXisq3tW1/dmVG+XeWdM8Eahbc3/i0LMwT3oSwEuVZx+4SfrzMkBhPBM6FcDP/HvPBqM8Cc8LPHvY6jMTZVUsRgIkQAIkkCYEfLuX79v7gfzVdTP7LMuFCOPz/vGrsnbN7wTrZTORAAlET8Bxcy3Kj74SlhxQBCDa4hVozy0+vUBmiwiAAAM3JP3e6XjVyonjLbujs3RqPAYINzdXWL6RXl6zvU/b2gf1eFHru57nNnYCfp9hfeGxa39D7I1GUANe1jz4zOuyaPn6kM9HBNUxKwmQAAmQQBoQ8C26D+6vl9Fjqzy7PGLUaCkuKRFdOswzE0+SAAn0S0Ajl/OHdr+omKGHANxmw1mnCSo0AXBb8tUbjcs3onqr9VutnCgJK6cK6NA19b2iEcJVuNk5IPrU+q3WcPs69vW8/QLAnYfHiSWgz8OPVtU6Ee0T22Kgdo3rgZdBjy4NLAWYjHbZBgmQAAmQQOII+BbdiesCayYBElACukRRWTEt3cqEWxJIJAG84MIa2G7rp4pitI3l+9zJbR13X+/vu6yCTgWWlsc8cLtut5Vc83GbeAI6tx+u3jrHPpGt4uUOvB/spHEB7HPcJwESIAESyDwCFN2Zd8/Y4ywmoD/A+4usm8UIODQSSAsCF1nLdK3dVi8zH1huPhBGi5a/Y5YCc3cUVnFN/X2XVdDZogp1v7CqVtTjxRb+Wi+3ySNgL6Fn36dE9QAvdzDPv2ZD8EueZLSdqDGxXhIgARIggQAB34HUkP3bTz4Wkhtcz2eFvMoLJEACJEACJJA5BGCJVtFli+l5T61yBrFsVa0gajzyQjBt3nnYd6A5DdaGuduIZI4o5S+v2WHcmEvX7DBt0OPFQZ2SHXuaj7r7h+oIvBNgEddl9fxESHfXtXrDB+aUPm8acA9WdvWMcJfhMQmQAAmQQGYQ8C26r7/pk4IPEwmQAAmQAAlkOwHMxZ536zQTvRwRzu2EtbNb2jplWU2tlL1ZID/6+s0mIjbEM4KkoSys40ihlnJTEQWBtWDpm6YMhBoSomujDQ30Zk7yn5QQUOGLxmFx1vvm7syCpW+Zefg3XDpedh9olCs+WhU21gJE+rraejkjYtZhR932tALUj7Yg5GH5ZtwGN3EekwAJkEBmEaB7eWbdL/aWBEiABEggSQQwz/vKC/sGELVdzyGU5i95w1l3G+tA49zBY81GOPsJhAaBDfFtiy6siW5bWpM0ZDbjIoBAhermv6LHA8GVxRxCHCPhBQ2mCfTnEg7PCDwrcCfHy5vVPXED4PEA4Y6EZ8AsWxZlMD9TCf8hARIgARJICwK+Ld1p0Vt2ggSynADX5s3yG8zhZRwBCG+IYgQ0gys4BNjsGZOlubXTiTAOkaXpthmTTN4Vj99uxFe4QGiInI4o5xDmWCJKLd2was68LCC8tF5uU0MA9wEW53sXv2o8ELys3XhZYr8wQU/7c0fXe41ymKagCfE8cP9b2jrMKYjwFW/uMFMP5t813Uxj4LOhtLglARIggcwhQEt35twr9nQAENC1eb2WGRoAw+cQSSAtCUDsQAhBcEOA4aPCB4JcE5Yds6Og92epxnXUBWGOCOpLHrhRUIfWrfVym1oC+HsMizfSCld0cZzTwHfYh5Va53WHs3brC1bk19gBKF/as3LFg3dOx6HT7rpt9cYbwiuSvsnIf0iABEiABNKaAC3daX172DkSIAESIIFUE1AhbYthWCAX3netlBXlG9dyCCzNF01/1SJeVlUQTXGWSTAB3Hu4gW/ZdaRPS+rpgGcCL2gWvviOmYuN83ip4pX0BevMy8cbDwo91hc1+jxA8Ou88geXvG6Et1d9PEcCJEACJJDeBOJi6V72/HPy9fn/JE0nAnOa0nvI7B0JkAAJkAAJxEYAogiCCiIJVvB5s6bFViFLpzUBiF94NcAdXKOLa4fVVVyXehw9tNRc0vOaz94iEJ8me97/6MpAWb2G7ZXV48yhu107D/dJgARIgATSm0BcRPece74ojy98WsorhqT3aNk7EiABEiABEkgAAbVQJqBqVpkmBDSAHrwa1LqNrqkbuUaq91qD3T0ELa/TC3Ad0xe8phZpve46eEwCJEACJJA5BOIiujNnuOwpCaQvAVgx1MXQy9qRvj1nz0iABEgg+wmorKqcjgAAIABJREFUJRtLui344VtO8DS1WmOqAZLO0dbzOGcHWlPBrfngKVGz+E4zr9+LIoQ5BLnGD1CR75WX50iABEiABNKTgC/R3d7eLs997ztSt2+vMwrsf+Xee+Rzd99hPrVbNjnXuEMCJBA5AQTIUfdBL2tH5DWyBAmQAAmQQLwIqMUZ67Hjb/Wi5etN1Sqi1dtBt3oemRYtf8exjuvLVbWI++kfAu1pvciP+eX4MJEACZAACWQGAV+B1NrbWqW4pERGjBrtjOqN11bJ5+/7slRPvdjM5V75s5fk/MlTpLCw0MnDHRIgAf8E1HqhkW/9l2ROEiABEiCBRBNwB0WDxfvlnmjmarV29wEWbsz/RwC2RT9Zb+b+17z7gcmmlnN3mVDHZT2RzddurTPLiCEf5oPHEsAvVFs8TwIkQAIkEF8Cvizd7iZh5W49dcqIbFwrLCo2WSDOmUiABKIjoNaPR+deHV0FLEUCJEACJJBQAu6Xoroet9s7SfOtWLPDzPmG+IblG+uxQ6wj2dHw/XRaRbq+oEWZXfUMYOuHHfOQAAmQQKoJ+LJ026Ialuw//bFWzpt4Pq3aqb57bD9rCNgRcd0/3rJmkBwICZAACWQ4AVi7d+/vFbpwNUdyW8F1ya8Vb+4QXZMb1nD9+478uh8pErv9SMsyPwmQAAmQQGoI+BPdhYUy7dLL5f77Pm96OXpslTz08KNOj48cOmgs3yrOnQvcIQES8EVgV8+POATLYSIBEiABEkhPAphXjfW4YaVesPQt00n83XZbrdXdHC9UV2/YY/I9eNf0PuI8klGW9riX22Vg9Z5jn+A+CZAACZBAWhLwJbrRc8zd/sGPf+o5iHFnnyNf/NJXPK/xJAmQQP8Etuw8bDLZ67X2X4o5SIAESIAEkkkA4hofiGlEE0fk8dtmTO7TBV2r274Q66oUaBeiH/9fvF1bF2Rxt9vhPgmQAAmQQPoR8C2606/r7BEJZA+BXfsbzGDs6LTZMzqOhARIgASyiwDcx5994KawLuLqTh5q3nekRNAm3NLxQST1+c+8HmkVzE8CJEACJJAiAlEFUnP3ddnzz8nX5/+TiWLuvsZjEiCB/gmoezkt3f2zYg4SIAESSAcC4eZkQxTDCo4PEqcOpcMdYx9IgARIIHUE4mLpnnPPF1M3ArZMAhlOwA6iRkt3ht9Mdp8ESIAERASu5BpcDYJb53jHC466quuqF/Gql/WQAAmQAAkkhkBcLN2J6RprJYGBQWDZqlozUFpCBsb95ihJgASyn4BtBYe122uOdywUtP5Dx1tiqYZlSYAESIAEkkTAt6X7tVd/LS8uW+rZrbvmzJXrb/qk5zWeJAESCE0AP5iwpAySO/pt6FK8QgIkQAIkkCkEYPFOxtQhrAPe0tYpWCNclyyLJyPUT2+seBJlXSRAAgOJgG/RDVEdSlhjTjdEeajrAwkox0oCkRCoeTewlMwNlwYi4kZSlnlJgARIgAQyg0AiRLB75It+sl4gjO+dNc0zoro7fyTHi5a/I1iebNnXb4mkGPOSAAmQAAn0EIiLe/ms2z8tB/bXS3t7O8GSAAlEQOBgj2vghKohEZRiVhIgARIgARIIEEBcECQIbqR1tfVmG49/UDcEN14QwzNLXxTHo27WQQIkQAIDiUBcRHdhUbFh1t7WGnd2dfv2ylfuvUc+d/cd5lO7ZVOfNmBl/87CJyj6+5DhiXQnoEFw6LKX7neK/SMBEiCB9CKgcUCw+sWcx37pdM5YpFfVGpGsQtwO2Olk9LGzaPn6IKFN0e0DGrOQAAmQgAcB3+7lHmWdUyq2VXw7F2LcgeV808YN8uTTS6SwsFAgwF/5xQo5f/IUc4zqIcIbGo7LsGHDY2yNxUkg+QRUdJcV5Se/cbZIAiRAAiSQsQQwTxxrgG/ZeVjgLYX/T0qL8s287mU1teYaBDhe6kJ8X1FdJQvmXm3GC6t1aXF+2LnfKLu2ts7UiWBwz67caOrOWGDsOAmQAAmkkEBcRPfKn70kY8ZWOUI4XuOB0L551u1OdY2NDVJcUuK003SiUTZuWC8fv2qGvF7zqpOPOySQrgRgJdCAabblgZbudL1j7BcJkAAJpCcB/L8Ba7dOT1pbW28ENgK3QXRDNCP1Wrs7zXFXV5e8v+egrKutky/fcamcOXPGGeDhhlNSWpQnpcUF8sa7O6S7s00+cfV5MvOSKvn/f7pOdnxwQJqbm5383CGBTCAwaNAgwSc3N1fy8vLMNhP6zT5mFwHfojtV0cth7V7y3cWyddN7cuHFl8i8Lz/g3IE1v/utYD5504kTzjnukEA6E4ClANYGBNXRpcIQaZaJBEiABEiABCIhgBe4+hIX4nvqxJECr6nmtk6RmkBN+P/lthmTzbxsWMK7u7vl33/2rry7/ZAcO9Emg3L+IJt2HTeCBCXwMrggP1cK8nJNBUOHVMhrG/fL65sPSG5+kTn32SdrnOuBVvgvCaQvgdycQVJemi/jR5XJZ2+YLPn5+TJ48GAjvtO31+xZNhLwLbrDRS9PJBhYu78y/2umCbiXL/7mv8qX7p8v+/Z+IOeOnyDlFUPiJroPHDiQyKGwbhIwP2iWvfKeXPXRUc5SYXOvnyB89vhwkAAJkAAJxEJgZAlKd4vkdjnVTBxdKheOC4hluJT/7t335U/7jkllaaF89faLTL7ZV02U/NxB0tV9WppOdRjhLoNEhg4ulJxBg5y66o62mDxFBXkyujIQy8e5yB0SSFMCeNH09Ipa2VHXIO+9956MGTNGKioqHK/ZNO02u5WFBHyL7nQY+4hRo2X48BGyv77OrBl+cH9whM69e/fIQw8/aoR4NP3FF5GJBBJFQF39Vm/cL5JbYJrBUmHTLzo/UU2yXhIgARIggQFIQOd2X3HReCMyFMFLv/9A9je0yiNzLhWRQTIoJ0ea23pF+qCcXGnpOG2y5+WdljHDyrSoFBZ0Snd7p3SeFikupuh2wHAn7Ql8fc5fyN8/9VspKyuToUOHyrBhw6SkxLylSvu+s4PZQyCjRPeRQwfl6NEjMrZqnDy+8GnnLmiAtc9+YR7fXDlUuJOuBOC+t+LNHaZ7n7mxOl27yX6RAAmQAAlkKIEVj/fGw8EQ4H6OoGu79jdITl4gcGdBfp7k5uVJe0eX5OQMktOne+d243jU0LKgua8Q6IMG5QimgGNuLBMJZBKB7tNn5PTp0+ZjxzHIpDGwr5lNIK1FNwKlPfnYI6IW7cGDy+XBrz0StSU7s28Ve58qAghCE49AZ3DtsxOs3KOGltqnuE8CJEACJEACCSNw5ky3FBUUGxfy4uIiKSsplPy8XMG8172Hmozw7ujqllGVZVJYELyqRnFhvpxqD1jFc3LisuJswsbJiknAJgCxjXTy5EkT14Ci26bD/WQRSGvRjfnatkU7FJRxZ58jX/zSV0Jd5nkSiIkAosDOmVkds/BW0Q2LA6LLagCcmDrHwiRAAiRAAiTQDwH8nwNLNxKCpI0ZHggkBYu1CuiJVZWC6OUtbR0yrKKv+3huTo4R57AY4gOhzkQCmUQA7uVMJJAqAlG9qsTa2J+7+w7zwT7cu5/73ncEkcaZSCDbCGAZlvlL3nCWXYl1fPjxgzVPaeWOlSTLkwAJkAAJ+CFg/3+Tnxf6px/W7rbncdt1Q4gjiBpSW0fvPHA7D/dJgARIgAS8CYT+y+ud3whrrI397We+L3fNmWtyIcAZ1s9ub2sNUYqnSSCzCWAeNoQ3tv0lrMWtCfmxTBiSBlLDsi5MJEACJEACJJAsArboDtcmArCpsHbno2XbTYTHJEACJOCfQOSiu0dYFxb1dT3y3yxzkkBmEFChjN5CQC9a/k7YjkNwwx0d88CRHl36lry8Zrvg/LxZ0+TeWdNkdCXncYeFyIskQAIkQAJxJQAPq4X3XSsrn7gjpnoHDRpklhGjY3lMGFmYBEhgABKIeE43xHbrqVOCSOKasI9zFOJKhNtMJAChPO+pVabr+HGCHymazhs7RHbvb5Qtu47oKc8tBDfmbqOeK6rHGes2LAcTxg4xc8LjEZDNs2GeJAESIAESIIEwBPB/WnNzc5gc/V+CFfxUW6e0tHVJSVFwoLX+SzMHCZAACQxcApGL7sJC+cSnZsuiJx6VkyebDDmNKl5YWDhwSXLkGU/AtmpDgOMHypadgcAzV1aPM2Ia1m6Iai9XPVizNVgaYKytrTNMMH+bYjvjHw8OgARIgAQGPAEEU2MiARIgARKInEDEohtNIFr4d559PvLWWIIEUkQAAvhQwymZffWkkD2wBXNLa6dxJbeFOIQzor/i3Myh4427+W0Pv2zqW/b1W4IENyzjqONQQwujlIckzgskQAIkQAKZRKCoMCC6m061y4ghnGaYSfeOfSUBEkgtgahEd2q7zNZJIHICb2+tl9Ub9sjmnYdlwdyrPCuYd+slxiKNedu79jcIopZrmlA1xOxCdCMwGqzgyKPpYEOLEygN50xdY4eYOsqKCzQbtyRAAiRAAiSQsQQGFxdKTk6ztHd0SWdXt1njO2MHw46TAAmQQBIJRCW6X3v11/LisqVB3Rw9tkoeevhRwdraTCSQbgS27A64iavLd6j+qdu4LbiRt9QSznAxx5xtbDXBDR1zvpEg6nU+ONfiVkLckgAJkAAJZAOBwSWFcqK5TRqbO2jtzoYbyjGQAAkkhUDEorvpRKPUbt1slgyjwE7KPWIjMRLA/GzbdTxcdWUhAsMgEFqLJbJVcCNIWktbp4lYjnrhVo4AakwkQAIkQAIkkI0Eykvze0R3W1Si+8yZM4Io6EwkQAIkMJAIRBURY9iw4YxUPpCekgwfqz0vG0MJJ8A14BnEs+2GDhdx29qNpb9qFt8pt82Y7NC54dLxsui+a51j7pAACZAACZBANhA4ffq0dHV1mU9xfq6cPt0tbe0d8uHhk32Gp/n6XBARCO7Ozk6z9boe7TnUi3bRTzvhuLu72z4V076209HRYdrDsTtpHndf3PlwrFy96tNr4OU1Br2ufdB2lb+99WrbPoe86AM+aM9OONZr/Y0J/XTnRb/0nFf9dtvu+sNds/vIfRLIBAIRW7ph3S4qLjZLhiGgGhMJpDsBzMO2E+Zfw40cYhzXRlWWBgU7g+CGeEYgtDkzq6W0OLAsim0FRzRzJJ3rjTrm3zXdbob7JEACJEACJJA1BCCI8vICPxsryoqNtfvkqXY51VYUtHxYTooinKN/+BQUBMdRUVEa641APRCgubm5hgPawnF+fn6Q5R7CE9f644A8EJVaH/aRwFgFNOrAdVwza6T3sEUbKsRxXZO7Tc2j17222le9tzhGOdSLLc6rZwLGi309tuvTtrz4oy67n1rO3TbGqWMId03Lc0sCmUQgYtGN+dyv/mql+dgD5Zxumwb304UA1s3WtbUhjBFNXBPmYeP61Akjg0T3sw/cZLLAuo3lvjTBCg4RjqRzv9X6befT/NySAAmQAAmQQDYRUEFUXlogJ091GHF54NhJOW9spRFoXmIMAlIFmfs6hBU+SLgGYabnVATimte5UFwh3Oyydj70BXVhq+1p/9C29s/rHK7ZAhvH2ndtQ/up9eh5ry1Y2vWhzyq8UQ/q0HGgb7gGQat9s/OjfuS320U+fLQOHbdb/Oo99eqjV17UabeDcu623HW58+t19MluA/lwDn0Kd03Lc0sCmUQgYtF9/U2fFHyYSCATCCxbVWu6CcENoQzRrXOzDx7vFeB+x+IW17B+uy3lfutiPhIgARIgARLIRAIlhQEPMPT9ZEubYwFW0aRjghiDdRQiCtdUfOt1CCskXIeoRH6IMJxX8YXrKBdKuGld2KoQDSUMtS9oD3UiH8pga4s87HvVEa4PyK+CH+X9JLs+lNfkbtvuL8qo+Nb8XlvtA8oi4RgfW+SGKqdl3NfRL69r2l+MX9u1XyjgvCa0b/fBZmDvI799bO9rXdySQCYRiGpOdyYNkH0lARC4orrKiSi+qz4QZdy2ekdLyVi/LWt4tPWwHAmQAAmQAAmkOwGIJ3wGyRnJzekNhtbZLUZIuQWZimUIWwgttbrqOHGMD8phC8EGcYVjFW8QdPjYQk3Lu7cohw/EtTtp3e72cB5l7BcC2Me5cAkckEfFoJbpr5xXnRgfyqNvSDiOph67brs+nEfdEMJeCQx03jXa9WpbOel43fWgPdwjvBBAWzhGQl04px+MDXUhedWF6/1dMxn4DwlkGIGILN1eS4VhvHfNmUvrd4bd+IHW3YsmjhQV2zUb9sjsGZNM1HFw0KW+omXCZcGiJcdyJEACJEACmUTAFmOVg4ulubVdmpoD841DjcMWVvY+8kOYqTizy6MdiNr+BJpdRvch/CDqVBTredRlt2/voz30Q8Ugythj1Tp0a148WO7fWhbCMtKEfuElAfqtbaJvKj4jrQ/5dRz2GHHefax1o13tu7LTFwBaH/oT7sUH8mv9qA/1uJmjLlzTselW+4Gt1hHump2f+ySQKQR8i24I7gP76+UHP/5pn7Ete/45wXW6nfdBwxMpJIClwpB0GS+4gb9dW2dE9pKfbxS9juW/8MEcbiYSIAESIAESIAFvAioKcXVkZYl0dXdLk4i0tAXch1vau6SsMEfy83qDe3nXFBCGEKsq1iCyIGaRtB0IN+QJJ/bc9UO0oU6ty33d6xhlVChq+yr+3Pm1XluUoo9IsBZrQt9Rp51Pr+kWY1bB7R6jLTp1P1SftD7doo+oz29+LYetzQHHGAc+4caBfNpHrQtt+2kf5TSfva91hrqm7WT7dm1tHZeizZKbHN53pmeQ7e3tRnDPuv3TnsPGeQhy5GMigXQh0NwWcC9TMQ1X8EfnXm26t3rDnqBuLlr+TtAxD0iABEiABEiABMITyNVo2qdPy4HjLXKkoUUON7Y6hVTAqSCDeNOEfQgq5MFWhateh2jUc8iDhDIqejWf1xb5tW29rsfuvqio0+toA/teCW3jOvqGevQDt237g/LIo/lQTtvVenFszzHXurDVvmiZcH3S+nSLvEjuMeC8XtO82Gobes7Oo2W8BDeu2fcHx1qXva/16hZl3Mz1Gsr5uab5s32LJW4XLH0r24c5YMbny9Ld3hb4A1pYVOwJRs8jX2FhoWceniSBdCCAYGpYT9stuieMrUyH7rEPJEACJEACJJAxBEqLAj8jjzf1Cu3Ort51sSH88NE51iqoMEAIUpxX6zDyqWjDdRxDoGGr5cKJOTc01I/8mlBPW0e3oH+n2julrLhQCgt6l/vCdU32vp5DXVqfjgfXkNdLlKLP+Gg59MdOKlj1ul5DXahT+ej5UPOx9bpu3cz0vLajbuR6Hszt8aDP2paW0XuEMuiXeyw4j35rPXYd6I+OVfMpX2zxQkLrRx0oixTumsmQpf/A8/JRl9DGErcXTRjpa8QojyVvdZUdX4WYKSkEfInu/kR1f6I8KSNhIyTgk8BnbqzuK7qrhvgszWwkQAIkQAIkMLAI2CLKHjmWzRw7YogcPXHKOY2gajKoV8BCSKmYRj3YV2Gl4g6F9ZpTUc+OCjQcoqx9rHm9+qfn2jq6pKOrU7DFqiXFhXlyqq1TWjtEzh4VbCiy+6N161br0+NwW1uUap9R3k6hxKvmwXUdq7ss8mh/3NfA2yuFag9tuIW4lg9VF65r3zQv+uFVT6h2tVy4NsJd0/LZtt21v1Egsu30wqpaeUFEHpl7VZ+pkDXv7jECW0X5ijU7ZELVEIpuG2Ca7Pf+VQzTIVivx4ytkpU/e8kzF87jOq3cnnh4MkUE4JbjldTajWtYd7tm8Z2cL+MFiudIgARIgARIoEfgucUdwOAc5naXFPVGxYbIbDgZPN0Q+bS8brW8+xrK46PWUVvcIa99bN8cu149j3N7DpyQDw6eMIIb51vbA4HfKsr6xnGx+6J16FaveW01j241jx5DeLqT5vHaal69psfuLa67U6gyoc67y/M4+QReXrPdiTPk1TpEOD5ra+v7XF79bu90ScQqWlZT6wQO7pOZJ1JKwJfoRg8RJA3C+nN339Hng/MMopbS+8jGPQjgDw/ShLF9rdiwdiNNnejPXcdk5j8kQAIkQAIkQAJ9CJw1slxyrCXEjjW1Svfp3nWn+xQIceLDwydlz4FGOdp40rhluy2dOPYSmiGqC3kagd7gXp6MBMEdjz4no69sIzUE4A6+6CfrTeNbdvZauREI2E4qsOFCjqRiXAMDax1uS7ldB/dTR8DbByVEfyCsKa5DwOHptCIAdxu1dGsgNbuDau0eXVlqn+Y+CZAACZAACZBAhASwZjdecNcfbTau25gLfLypTUYM8Y4FFKr6k6cCFnLMtfZyVQ5VLtR5uJHbacSQUjnWdErOGjk4aJ1xOw/3SSDZBCCiIZxh8VaDUWlRvgn+O+fxXzrdCVi764wlG0vfrliz3VyDaF+2ChbuwKo9WAp3yc/fk3m3XuKU5U7qCUQkulPfXfaABPwR0D9a4XLD2s1AE+EI8RoJkAAJkAAJ+CMA6/G5oyuM6IY7N6zdg0vyHbdu1DKsokgG91iYIYjbOrtk6OCAMLcFsh2MzV/r3rm6z9iB1AbJ0PIiGVJW4GtJM+8aeZYE4k8A87iRnl250al8Ts9vVCx3e6ihRSDCW9o6ZcnKjYJziE+g7uYQ4xDamiDi126rp+hWIGmypehOkxvBbsSPAP74qJU7XK0U3OHo8BoJkAAJkAAJRE4A87vxgYi2hQBqwrkhZZ0ydniZHGtqE1i2W1q7jOXZFsi2AI+8B70l2tp7RfeQsiJj3c7N6Tu/ureE996Jljbp6Aq4yxfkDZKK0iLvjDxLAhESgEXa/T1BFVjmFgm/VSG6b5sxWdSL0/0bd0tP4DW4oyMflsF154mwW8yeAAK+53QnoG1WSQIJIVCzPhBUAm8FmUiABEiABEiABJJLYOSQkiBr8tDyYhlcEphD3djcJsdPthrBjV5BeJ9sbZfDDb3LjuE8oo3Hmuw6hpVHL5SPnmgza5BjHfL6I81m2bFY+8byJAACqzd8IDpHW3+3PnjndNHpj7B4I+gvYhDNvGx8WGijh5b2mydsBSm6CNf4+c+8bl4qpKgLSWmWlu6kYGYjySKAN3u6BvezD9xE9/FkgWc7JEACJEACJNBDAJbuc0eXS92Rk+bMiCEl0tLWIbAYI+0/2my2mAuOgGt7DzaZY/xTVJBnBPeBY80yfkxwICknk8+d1vZOOX3mjAwrLw56CWAX14Bv6EuohHqQ1MX36IlWGTOsLFR2nicB3wRUcKMA5mBDgNriGkuB6XJgbuv11AkjRa3cKD9hbMA6rs8p6vaKa+S7c0nIiD6ueHOHefGA8WRzoqU7m+/uABzb27V1ZtQ3XDqegnsA3n8OmQRIgARIID0IYI43RDM+ELSlRYElurBfkJcrY4aWBYlqiG3kPWdUucmP+asHjzVLU09wtWhG1dGFRcNFRoYImnq44ZS8v/eoY3XXNiD4EUVdPzgPITOsIjD/HPPVj50ItsxrWW5JIBQBuJKrcIbYtAU3ykBsw7IdKrmnRYbKq67p85e8EaqqtDmPlwbKYdf+QCC4tOlcnDsSlaW7dssm+faTjwV15f6HHpbqqRcHneMBCSSbgP4xm1AV29vxZPeb7ZEACZAACZBANhOA2B43YrCxZENga4KYhbVZxTnOV40YLPsONcnRplaRplZjqfZrWUZdaEtdy9EWjr1SQX7A9tTU0iGY840EsQ9R7U6BenptVQeON0tpcb4Zjzsvj0nAiwBcybfsPmICoUFgwo0cCd8BtW7r1qu8upzjGoKpwQKOOiDm8dy6l8FFNHN8VIR71Znqc29v7V17vLk1eLWBVPct3u33/tXzWXN7e7ts3LBevv3M96W8IiBsmk40ysqfvSTnT54ihYXJWffQZ3eZbYAR0AiQ6fwHZoDdEg6XBEiABEiABAwBFbY2DohpW4TjWnlJoYwcUiqHG1tMVnUBh5CGyzqs4bCkI8ESjvya4MaOlJsTEMihBDfyQOwgQbBoqu9xiUefUC/6gL6MrCzps/Y4XgycPaq8T/+1Lm5JQAmsra0zFt3SU/nSfKrDBEdbuzXgnYnfrH6W94KlW6OZq9UbIh3L9TW3dZqttqdbBGFL59/E67b1im7tc7ZuIxfdbYG3f4VFvWsv6n57WytFd7Y+KRwXCZAACZAACZAACcSZgFtwa/UQuXDnxprfKrDh9g3hDbfw/PxcaWvvMqIbVnLUAwt1R2fApRwu7Ejq1q712lvUC1Heffq0CY4G8a0u6agPfagcXOi07xbwyLuzviEiS7zdPveznwDmaNvL2GJ9bSQsD4a5zEgQzX7TFdVVAgOTbRF3i+pF911r5oaj3V31jXJF9Ti/1Sc1H6zwcC3XFwn2/PSkdiRJjUUsur0ENsQ2kl6LZ9/r9u2VRU88KidPBoJsqBs7LO5LvrtYtm56zzR3zXUzZc49X4xn06wrAwno2+oyRi7PwLvHLpMACZAACSSawP+4/KxENxG3+iFy7SW+IKDx/3xDcyAgmzaE+dUQ4xDBauHOz+t1Bdd8XlvUCWu5qfdkb73FPS7wKvi1LMQ42lIBDis8xP7witDB2rQst6kjEHjuA4H9ktkLrKdtpyurx5mYQxCYus72RRP9BxDzYxFHezrNEsvozrE7kEb7WAINCS8S9AVEGnUv7l2JXHQXFsq0Sy+X++/7fFBnIIbj7VoOYb1p4wZ58uklpm4I8Fd+scK4sW94Z53c8dd3y1fmf02Q7z//zxLB9XFnnxPULx4MLAJ4a4bkfus3sChwtCRAAiRAAiTQl8Cf9jVIzYY6mX3V+X0vZsCZosLeNbbh8g2RjSXI7GBrsFojdXecNsIYlupwqbw0ILobTrZJW0fASg63cszX9koQ13Bxh/iGJb6lZx6qinMIcrWge5XnudQQwHP/4C1nJ71xuHdrwjra6haOudjzFq8ylt5EWKJhPUay29d+pMsW89uR8NJZcz3EAAAgAElEQVRBRTcs3xpx/cFnXhdEY7h31rSs+F0fsegGHARM+8GPf5rwewYRf/Os2512GhsbpLikxAjwK2dc45yHpf1U6ykpr6hwzmXKDh4uvO1KxBcuUxiwnyRAAiRAAiRAAoknMChnkAwuyZNvLf+D/K+/ucw0CPftTEnG+nzmjAwuKZDhFYHAZ00tbXL69BnBWuDHrQBohQV5cvbIwUZ4hxujmdd95oy0tAbmgsNCPmZYachy5SUFkp87SArzcwVedepZhzZg9d57sNGI7nNHV0hOz7zycHzD9S1cOV7zT+CJF96R8tJ8aWpqksrKShk0yDuwnv8a/ee0Ra/tEg5huWDuVUGu5/5r7T+nGp8QYNgWsv2XTF4ONZRBA+nyZ3Cd1yXS0BNY6jFfPVRCHQhQh5cZGOcVH61KW4Eeseh+7dVfy+ixVUGRymFpfunH/ymzbv+0E1wtFJxIz9tu5BdefInM+/IDThXoy4vLlsrgweXy4NceiXvbTkMJ2MGXAHMt4FqCN18U3bFD1sjl+nYv9hpZAwmQAAmQAAlkD4EpZw+Vc0aUyN4jp+Tvn/qtzLx0nPxm/YcZNUBYpGGF1jnbdudh+W4+1WkEMyzYfsVVZ9dpae/skvbOblMvRH24hHxnzpzpE0AN506f6ZZZV0w0kdrxIzuc8H5vx0F59d0PZPu+7F4qKRzLRF/DNAAI7qrKfHMvcD/8Phex9g2/S/W3Kay1cC23E4SxRjC3z8drP5SQjVf9iaoH4hlJ53i757zrSwRsYQ3XqaWm0Jn09XaNWHR7AYal+dixo16XYj4HazdcyJHgPr74m/8qX7p/vhHY19/0ScFHhfn1N34i6GVAzI0nsIJ5TwVcStDE7v2NTkvzn3ldEGQhG0U4ljTwOxfFARLBzsEeFx513YmgKLOSAAmQAAmQQNYTyM3NlXtu+oi8vWmntLe1y9jSZnlo1jly4sSJjBn78t++L3deNyVkf1vbO6W40Ns1PGShngsNTW1yvLnVV2Ar5K0sD1jb7Xr//Zfvy3/WdMqoyhK58sJxJhCcl/CG4H76ZxvlzqvHyrUTxIh4ux7ux07gwIluaWk5JSWlhXLW0AIpKiqS/PyA+I699v5reHnNdpPphkvHy20zJnsWUFdqz4sxnlQjFKzBtvU4xmr7LY5xr6utD+sWDgs2EgyPSGU90zngcaJz3c0Fcy34JRjmgoMbPAcQNA6aSpN7Dr2eT4etb9GNZcGefOwRObjfO7T7XXPmJtzSPGLUaBk+fIQ0nTgR1BaEefWFF5m+xbJW+IEDB5J2T/QtDhrEPto+1d5l3CjwIP7NX02QGz8W/EbMq3P7DjcLPhecNcRxtfLKl+pzb9YelPc/OGzGmai+HDsWeHnR0RHgmah2WC8JkAAJkAAJZCKB7u5uaW5ulvNGlUpLixhB2NbWFveYPIlk89fXXyiFBb1zu91txRJfaPSIQhk9wt9UReT1ShedN0JWbz4g312xSfJzRS6eONJYVm3hvfHPh+TfV2yWm6eVS3fjh3Jm2LCMugde407Hc+eOFOnoyHMs3Hg2GhsbpbOzU/LyfEugqIf2h+37TdmPTShP6O/fUB0cMTgQTHD3h/j9XR4qW9zP/+69PfKnDxvlT7vrpCSnNzih3ZD+ZsdXGRpoVHngRdnm7XXyh529htySwjxzHVrnv97YJWeNKJWjTW3ypw9PSEVBl5w9skw+f9Nk+f6rgRccHx5qSAlre2yh9n0/cViT+/GFT0vtlk2mrljEbajO9Hf+yKGDcvTokT5zt2Hprt26WWDpjiWNGTMmluK+y+ocBryBguCGW0ROYbnsqgu89UFF7+w4Ln93c2C+VaiKYTnWwAML77tWxozxH/0wVJ3xPI+xwa0G7jNvvLjFLFuQSMbr/hyIcD/l3JGSyHbiyYh1kQAJkAAJkEAyCXR1dQk+mEsMd2h8mOJH4FD7YPnt1mMyvLhDnv3VH+UfZ+fLtPNHOcIbFu5nflErd19zlgzJPSUjRlwgw4cPl5KSkvh1gjUFEYA7OT7w9IDYxjaRCZZYuEZDKCJde3loz4xE9mPalFwjVA+e6Ezq7+LLphwzovv4qUEh2/3n5zeYoQ+tKDV5ysqOmeNDTZ0ON5yYOG6ouX741GF5/8NGOd7S6bjs/+a9g7Jg7tXy6TFj5GMfOddYvCH201UD+Bbd+lAkU2y7rev23O1lzz8nv/ttjXZLYGlPZt+chqPY0YAAcIMeJaXmiwnX6M07e0U3hDlEK9wnIKwRGAD5VWhDZGuQBHRhy87DSXUd8TNsBEOAu7yddEz2uXjtawTRRLrqxKuvrIcESIAESIAEUkEAoiMZVr5UjC0d2jx77DDJLSiU05JnXMdh0f7H2RcZ4W27lAcE9wgjuMvKyozrs20NT4exsA/REVi0/B2nIOZVD7TU33Jl9lz3CWMrDR6dGup2LVd2Oq9b58jjvJ3X1kShprMmUoNoP8NtIxbd4SqL9zW1rnvVizW5U7ku99rauqjnXa/uWZcOlm47quGW3QHRjUiasH7jYUJeuJvjrdmSr97ooMB5BF/AA/Tsyo1iz2HA27V0+JLjRYA7uaMSuq/HcgwWTCRAAiRAAiRAAiSQKgLTzh8tObkF8uGxNvl4dWAZWwjvWz4+Xn65bo8R4hTcqbo7iW8X+gAJc5Xn3zk9yECW+NbTo4XS4uA52O5evd3DyD6vots+h32dix7KoAYjpQpu6CK88Fi7rd7EkIJAxz7uxQuralMeMyutRbcbfLocQwAb67MrCqFX/9xvVVRAI+/ooaXmA5Fcs36PcZeA4EawBUQ21zdlOIeoh0j6YKEPc2ZWO8erN+wxQn3X/gZTD/KHCtrg1c94n0P/ajYEFr1HP9EvvEQwb6gmxLu1QH0Q9EhTJw68t4qJIcpaSYAESIAESIAEIiUwemiZHDzeLIebuhzh/X93HJLbpg/vcSmnhTtSppmS/+2tgdhXiFSuv9lT1Xe1DtsBm1PVF7tdjUoOfXBFdZW5pOIaB2p8tMtgX6OxYx8C216CDedwvGxVrdEaEOMvr9kh0EeaUr1aVGCGvfbGxxbLdOm8bs2OOdVw94Y7eLYn3ERYltX9O9R4Ibbxmb/kDWOlhtiEiMbDgISHDOJQ3+ys2xb4kmKBeH0AkQ8PyLKHb3He9Gh+PHjY1y8U8uLtmrpdvFCzzbSTqn/AR/uCcar7iJ5LVb/YLgmQAAmQAAmQAAkkkgB+n2EOceeZHIHrOCzec2ZUyaiSbhkxgoI7kexTXbd6rdq/5VPVJ7UO9+cJiusaaT0efR1dWWqqsb157XrVSAZG9osJaB6kOTdWO9nVVd05ISLwFHYLbr2u3GH8u/LCgKDXa1t2HzEarj8emj/e24hFt1cHErlkmFd7qTwHa63erNseftlYvFWIq6CElfozj//KCG5cgxheuPwdI7717c7sGZONkFbRrHVCTOMBxJxt7CMUvn5pMG59E6QPG65hKQK4nmOLNz8aoE3748UL/Upk0i8U+oQx6pdGlwhIZNusmwRIgARIgARIgARSRUB/2z310rvyjaXrjMUbwdLGjRsXtznc6sacqjGy3b4E1OCE3+G2mOybM/lnoD9C6QKsdQ2DIvSLfiL9va5aCGJXDYSh2tPzbkbwAFaPXyVku6rr90qFteaxt6qP4FaO5ZdR34K5V5ks6CNeLkCjpeL749u93B3UzB4g9pOxZJi7zVQcw03aTj96dauzKDtuJB40fZia6wNzjCHUIYZVcKO8imc8cLYbBdxR9PpF911rN+XsQ4zbD9z8u6aba7rFA4+3SwjOpg++U7hnB32CMNaH0309XsczLx9vXho4lu6etbTjVb9dj75R0zds9jXukwAJkAAJkAAJkEAyCKixBL8H8ak/dq6cNzawQk48gqZBEC1Y+pbULL4zGcNhGz4JqMFJDU0+iyUlG4Q13LnViozYUDdcNt60DbELF3T1xsVJ6AzVKn46iN/g0EEoF05bqJhXq7ZdN7SC6gUYExF4WoU28s279RLzscu496GrTMys4y3GK3nF47ebLNBOqsNg6MT3x+bhricRx75FtwY1U9fyTIkUHm9oza2dTpV4YGCJnvPYLx3hrYIbmSCmcfNxk/F2xTwEDS3mvFOJiKnDjmhuX/PaxxdG/6B7XccDijYRNGDC3KtC5sVbLeR1v2nyqjPScwgEh1RWFFh3T8U/+OBhD9f/SNvS/Mpe29Lz3JIACZAACZAACZBAsgjMnjHJTCFcu7XOeERu2X3UEThFRUVm3eho+4LfUI8ufSva4iyXQAL4rY+kwjGBTUVVtXrVwjiHKa8IaIYltyCSYYyDrkHfMQ/a1jt+GttVH5hi3N/Y9bc6hL47YTqqGs5i0SYQ2BgD5nSrQVK1EdrEOPGSAfG58F1NhCZxjw3HEbuXQ2wPXMHd4bwlgYBW12/Mw8axHV1cryNyIazceDujb5fcDxKO8TbJ7xul/vLpw4O3SfrWzX3zEe0cX75FP1nvvhSXY+cPT1VgKQBUii8BUqg+xaVhVkICJEACJEACJEACKSSA32H4rXbFhQHvxd0HGo3QjkVw6+8qDEvXVlcRlcKhsmmLAFyakWxvVOtySnahRzTp729dolh/l8MNG/mgWebdGgjcrFZhLRvpFoZHpJkPLHem5eLY3bZdL74z8TCcfebGajMe6DNNtvbCSwYIb3x/Yh2n1u9nG7Ho9lNptubBWyBNmB+g4hYPKwQ1bujsqycZdwUIchzj4VE3C2yN9bsnUIDWFe8t2rG/ZF71qys2/ojbf8jtvOoCYp/jPgmQAAmQAAmQAAmQQP8E1EiC31mw8EW7DrdZd/ipVeb3Gn57qoBQEdV/T5gj0QT0HquXa6Lb81u/l4jV4M06pRV1qW7B86WCOZKXOrp0sbanzyjqtvUTXkAh2dfNiTj+gz4gCLXqL1St/dK2dexqoY9j8yGr8u1ebteACOYvLltqn5LRY6vkoYcfFbihZ2uCG4Im+2HBGy0V4LBoh0vJWMYLDxY+Kqx1jvfMS8cHPXTaT4hrezw4j3Mr1mz3bX3XurDVL6l+afUa/vPBGyWs363/Eem1WLeh2oy1XpYnARIgARIgARIggWgJ4DcirHvh4uxAsLl/h9nt6e9PnYpoX+N+6gngN6h6jsIQl+5JfzPbQtTex7OI3+t4qeP397pqDrse5YDnXwWwGvr81qt1xLpFe31iINSIWcdbPZFjbaO/8hGLbgRUq926Wb79zPezWmC7weENpT4objGpgttdxusYcweS8WZSLd3oN0Q3vjxwI/H6MuCa+2UA5oNH208tF+4/EC82sZxLRZux9JdlSYAESIAESIAEsp8Aphj+v/beBTqu6srz3vV+6G3JtmwZ2/gJxDaGj5AEGk9CCDAk3TSkuyeZjNMTZjpfYPVkQoMX3zCsReiPpBcLCElmPjuTZEgndIZ0egJNHjSYV4YECMaAsQ3Gb2RbtmTJekv1rvrW/5R3+apUVaqSSlJd1f+sJdWte889j98599bZZ++zj44TIezosbXm8LHz765bl1PA0bEnzGFVUKkNpE13R0Jph73WtHg88wSwPTDaCW2k5tkzX4qJczSC9Nl15yon5LpLr6FfWpfO5oqb7xyEbPRXeENXzbpa0ILTbAes8YY8h3ZDufTZms5yTcq8vLm5RXz+wHSWq+LStu5fNxVhEi/bmWhYdVCgDguygeLB07D7cLfRTqPTWf/w46Ave41bzKfmqT8Keo8K/GqCouf5SQIkQAIkQAIkQAJzkYAK2VCAYKui7HGVjruefPlA2hrw8OmMxSB4qHZb08E5dVY1k6axc7FtylUnbVP19VSudKcjHe1POibPlYd6X0e90G+LCXBMhqCO0CB0Q4Osa6exRZdymgk5aKIy43lS7fv2HcXVcaI0J7pestAN83F/ICDdXZ0TpT2nrqtzBOw7bbegnRtm3dkBs1kQrvFDAE+GW7a+OMYrJn4MSg0qdOuPgt6vD7iaoOj5XJ/6YOa6lutcqfFzpcFzJEACJEACJEACJDAdBCB0YLylWlHNA5aFCLiObZ3wp97JMQbD1k4M9iBgnRiplBJjIsBqVq1j9ELlsyoXoakuJqBvI+hYX+9RwfaVPR1mUgnnrelrvNn4hJUv5CCdZJjuMhRlXn7iWLs89M37ZGhoMFOeZ379VOYYB3N5TTdehOikaBi4nrdqvcdAqPAv5sFxiHH0pkVVt/p4WPSB0U/EGTm7RRqE2se2v5vZYF7vz/7Ej8P2nekfiOwHT2e/MBuGPKwvJ5iwwAmd3gOnC1gfc+e/ubzgw4l0HvrZjswm9/pwZ5eL30mABEiABEiABEhgtghga6av/+h3xqkUxje5lAXQCmK8qdpvaOCw9RGC1Xqw5qx5uXW8Nlv1qvZ8tR0rwWS6UFtAaYi+hPE2gpqQ57pHlXW4hv4Ibfdkx9cqYKuJOdKEaXclBMgccLg2U6EooXvJ0mXy7e89OlNlqrh8MDuDoB0ue/1zxRXYzCKlO/Thk31ideqAje/ViyAeuCvXt5mHUNepwxQEwrDOhKlzgW1PvW1mqCC442HE3ndwDqJMwABp64wY0rY+tLiOzg0hH6btKAOu4xw07Hig8eJ68LarDU784OA7ZoR/8l8/M0ZAt/LGvUgL5UdZreWxxuMxCZAACZAACZAACcwmgZs2rTVjFhXUtCwYT2FfZGgl4akcjtNgnThWUDm3BSs8L0N4mow1oubJz/IQUHNtqyKpPCmXNxVso5XefzutkdZlqPlygZCOLbcwztax/VTG2DpBhPG6CuL58p7N83g2Yd28+dp1ZS9GUUJ3dq7V5r1895G0iTVeinYJNQGvKSpe4tkzSvqyVyEYETGRgIcJ53IFXIOwbATrsxEg0Od6APGg6mb02WlpOvixgAAOJyD6o6Ezu1ZhHQ+pzsphLTh+kKwB9UNAftbJBWscHpMACZAACZAACZDAbBOwjm+w9ayOWzDWUctCFUggeKugkl1ujNWgpLCmlx2H30nASgB9RrXd1vP5jnUcj3H/RNrujFxh2RNc082WQSba5Unvm41PtURB3rC+LfdESslCt9V7+Y7XXjFm5Y2NTdL+wdE56c0cHQ1/lT4zk9050cnxQq49O6OkGma85L/+o9+b6HhZo0PBJKaQwI3IuA4OKiDjAdPv+tJXB2nWzeizy6UTF/ghgdk+AtjiHmisdTuxkXBamMb1Qk4cNF4hM5nsMvA7CZAACZAACZAACcwGAYzHMG5SgRtlwFhMB/g6psoncGuZNZ5+5ycJTERAtd0Yd29YtWCi6OY6vLFDbtDxtt6EpbZq+ava/lyKO+3Xel+2EK7nK+ETvqjUGhi7IpX7GSvZkRqgZHsvn7+wVY4cOiAQyOdawL6KCDrzaJf6oZOjs2i5YXqNhwwvecx0IaiWGg9hrgclu65IA5pm/Gm61u0q1EFaobRQLs0f6aNM37vj+syPjwruOmuGHyfEwR+Cntey6Xctj57nJwmQAAmQAAmQAAlUGgGMpfCXL2AMZV0f/JUbLzGmrjpmy3cfz5PARATQt7CFHdYxFytQ6uQQxts6EYRPtUKdKE9c1zE8jit5vI5tnfXZy+V8upi6FopTstCtW4VFwiGj5e48mV7vXCgTO19T6JU8M1MMXzxcatKBddwQZlU41geqmHQ0jj6sk9muAvlrMJ4D59VkyoL1JqpNR5wtn/uIPPmNzxpNOL7rftx6Pz9JgARIgARIgARIwC4EdPxUqLwYG0FQgcUijiGk65it0H28RgITEcDkTbb2eaJ79DocFyPotsPW8brGyfWpgrZV+M4Vb7bPgYtq71UJWM4ylS50+3yyYtUaGRwYEJiV//qffyG33fIFOXOmZ87t3Y1ZHe1Yc+Flp7OkELJv3rSmnP3IpKWsJvpBQf4Q+rFeArNKCLhHTc91vzyYjCt3nRhQZw64R83TdVbKJMR/JEACJEACJEACJGBjAhgPFauNxFI/jL/wyUAC00FAhWWMu+FYTR1Mq2JS+16+pZ4qf6jwPR1lLFeaqmQ9cqr81tslr+lGpa7c9PFM3eaSV3PM2KjAmO5YO4wpBTobPEXOpaBC7GTrlL1dRanbqGFtefZMGx5KrKXQ7TFU4EYZcU2dOeAT11QAn8gD42TryPtIgARIgARIgARIYKYJZI+PCuWPsSsEoUJObAvdz2skMBEBCMuqWLP6WULf23x2WzGkkW88jjH8O4dOiy5DnSi/2byuEwO6fLWcZSlZ013OzCstLdWwQuCG0wCsWcBs49dvuSqjca20Ms9WeTKd8mR6JkgdDxTrYj/XDwocGGjAREe2Nh7OHBDgyh9rSXRmDVpzBhIgARIgARIgARKoNgKqoLCDQDMX20aFs3xa3rlYZ62TCuLYzQhB+6Jet35iDJ89rrder6RjtaAt1ny+2LIXremORCKy7bsPy55db8n6jZfKF/7yP8i3H/ym6Jru2++6R9Zt2FhsvhUZT7cGe2z7u6Z8nDWcuJngzRAPnT54hZyDTJSaPqwQuK3O2vQ+Fcr1Bafn1TpBv/OTBEiABEiABEiABEiABKabgG71lk/LO935z0T6MLnWcT4cscG6FfXGRA/G5F19o6YYOo7PVSYo26ZqZZsr3ek4B3njyMl+U7dyyhhFC90H9+8zXsv/50//t5w41i5P/vxxufU//Y0sWbrMfH/6l0/K6rUXis/nm476z0ia0JyiI6EDQfDTPepmJHObZYKtyBDA6s6tL5rjcmicsc4bZiiqSbdiyfUwwxIhV1zrfTwmARIgARIgARIggblIoPXs3sjUdM/F1q2MOsERM4RmaH4xRscf9rRGn1PBGyUtp4A6mzVf2dYoz+2EjFPedd1FC93QaF9y2eWGAbYICwSDUt/QMOY7PJrbWehGZdQFvnqvm81Gr+S8IehiXfYTLx8wxawNeOTWGy+dcpHVw3q+hCDYY7YNZuxYV4IZNwYSIAESIAESIAESqEYCqpDQJXfVyIB1nn4CsGS9KRTNZKR7Wqt1sJpkZyLY+ECVeZBtyhmKFrrLmakd0lKv2nYo62yVEWYiM20qgjUzELzNw79pzThnbLPFgvmSAAmQAAmQAAmQAAmQwFwlYPXHBG0wgi75nCtabtQJddn+8OfK3ox0pJYDKQQ7a8fKEYWnZokA1szcemPaoRrbaJYagdmSAAmQAAmQAAlUDAF14gVtN/5gEajCUMUUkgWZUwSgdIO1qS4tvXjV3HRqrGvZy9F4JWm6H3ng/jF5/vaF7ZnvrYvb5MbMN3sewHEatqvS2Rt71mJul3oqjtrmNhnWjgRIgARIgARIoBoJYNyKtbVYcwth+8nfHTDCEJzSMpDAdBHQ9d3od7q/9XTlNRvpfuXhZ4xDtW1/c11Z/EcVLXRfc/2nBX9zOXzxunVpoduyddVcri/rRgIkQAIkQAIkQAIkYG8C0Dpi69bHtu81XqXtXRuW3m4E5pJpuZW9ejE3kwpt57Y1tsYp5bhoobuURO0aF84ooO2mptuuLchykwAJkAAJkAAJkEB1EcBOLth1x+pMrZxmsXOZJnYtghNlCI4bVi2Qay87v+B+09ksOntHzKmaMjvdys6H32eeAOTBcnox55rurDaEtlv3g866xK8kQAIkQAIkQAIkQAIkUFEE4OPm67dcZRRHD9KkvKS20W2hoM187Nm90tmXFqKLTUS3alOP18Xex3iVT0DbVNt4qiWmpjuLoG69kHWaX0mABEiABEiABEiABEigIglAUztXzXynE/iRU+m9mGEpMBKOGa33FR9qM7vkFJOvWhTMxTXNxdSfcYonQE138awYkwRIgARIgARIgARIgAQqmoB6lIb2liE3ATic27L1xYyX95s3rTURs72+w2R/+xtHcyby6t4T5jz2qOaOOjkR2fpkrT+9T/eMarojkYhs++7Dsm79xQbe44/9aBxEeC+/6577pL4hvW/buAiTPHHiWLs89M37ZGho0KRw+133yLoNG0XLtGfXW+b85zd/ac47epskQt5GAiRAAiRAAiRAAiRAAiRwlsBwOGa8veMr1sRbAyYrNoukhfKT/bJh5XyBp+7s8MqeDnMq17XsuPxuPwIZ8/Kz6/anWoOizMt9Pp98bcvdmbxmyos5BOtdb++UB76zTVAGCOBP//JJWb32Qjm4f59cc90NplyDA/3y3x95UC64aJ0sWbosU04ekAAJkAAJkAAJkAAJkEA1EbDu2y0rq6nmheu67Z/fMltAfeXGSzIabtwBy4CRUGzczUOhqAyHosYzPDTeWIKK71/8xq/NPWpaTrP+ceh4IgeBijYvh6D9mRs/awRulL2/v08CwaD5Dm03/hCgXV+99oIc1eMpEiABEiABEiABEiABEqgeAq3zakxlrd7Mq6f2+WuK/cuhxT58sn+MkH3luiVjdi5Sc2KrY2U1MYegnRbET5hPCOyqEc2fM6/YnQCWEmA5ArzdTzYUpenOTvz5Z34j2Sbm02VebjUjX7/xUrn1q3dkF0eg6Q6HQjJ/Yeu4azxBAiRAAiRAAiRAAiRAAtVCQJ0C63ZW1VLvYutpnYyAVQB4Wb2W63WdvEC62AMdwjocriHAJB33XrF+SbHZMp4NCWBSBRMt255622zJh2UJuv6/1OqULHRDwN275x15ZOsPZcdrrwiE7cbGJmn/4GjZ13OjMlbTdpiXP/x3fyt/ffuWTF4Qyp/6xc/lxs/+RUYjXioEjX/q1Ck95CcJkAAJkAAJkAAJkAAJ2I6AOxU2ZT7e1Scc26abb9/xtJdyfHtj3wm58Ly0D6qLz280jM6cOXcdcfa8f1Tamlzm5msvbZPfv9sl6jgNJzd9qOVsGgkyNpTm5j+3I2EqphMxcLQ32WeqZKEbOTc3t4jPH8jQhYb5peeflfUXb8wIw5mLZTxAPi0t82VwYMDkA4H7xz/YJjf8yU1lyXfRokVlLC2TIgESIBoVnjUAACAASURBVAESIAESIAESIIGZJeD01YvIO3K8e0TqGpuNhhamsdv+5rqqNYU+PZoWoNESfSMxqa2tNY2ysKVJMP7H39WXXyh3bn3RaDaTnhq5fH2brPhdu9z5havkpo4+ufVbz2Ya8vL1K+mxPENj7h7c8++b5aGfvW7W9Wst0Zcms46/5DXdKmxHwiGj5e48mfbcpwWZzs/urk7p6emW+oYG471cBW46T5tO6kybBEiABEiABEiABEjALgRgLn3n5z4i37vjeiMYqpbuiZcP2KUKZS/n7kPntk8DD91ObWXb2F2X1AkdNJrYBuyL160zZcG6bd2KDSe4RVjZm6giE0Q7f/1LV8mnLjvnvd7al0opdMmabph7r1i1xmibYVb+w63fNeu7sd5aBfJSClAoLkzZH7j/XlHBvq6uXu68+16j1X7s0e/L66/93vxpGtw2TEnwkwRIgARIgARIgARIoFoJWLexUq3ca+/OnKKs0rjD+Zk16H7cNQGv9bToOm71Zn7FunNrtlcubjRacKvwPeZmfpmzBLZ8/iOmbs/tPGr2bd98djKmlAo72rv6U6XcMJfjLl3QMJerx7qRAAmQAAmQAAmQAAlUIYHN9/9K4JW7Wk3M1Ww8u+kfvO3qMabC0ILXBDw5NdlY0w1rAQjft/7ppdlJ8fscJ4CJm5vvecJYkZg+8K1njfXDQ7ddXVTNS9Z0F5UqI5EACZAACZAACZAACZAACVQEAZhRQ+jGtlkwP7/2svPNZ0UUbgYKoduAbb52nfFEni9L9fye6zq03lbNd644PDd3CcDUHHu8w4pElyeUUttJCd0zuWVYKZVhXBIgARIgARIgARIgARIggbEEYBL96t4OYxqLK9DUFRIwH3t2rzGlvmnTGtsLmtBQ6rp2mAXjOyYfGEigVAK6XVjt2a3jRsKxopMoWei2bhlW3zDW+UDRuTIiCZAACZAACZAACZAACZDAjBC4ct0SwTplaOiw7/Dhjv6CwrTGg6m13bW72984ahhjb20EmIYPh2KC9bm63n1GGoGZzBkCcKyHoL4BiqlYyd7LkWj2lmHFZMQ4JEACJEACJEACJEACJEACM08AWm1oeW/etMZkXqx57O7D3UYzPPMlLl+Oz+38wCRmdS4Hx1gqhJcvJ6ZUzQSsXvFzcShZ6IZ22x8ICLbvYiABEiABEiABEiABEiABErAHgZWL0xq6Iyf7CxZYr8MUG2bpdg3QROKvxj9eY49t1RhIYKoEMIGF52TzN34lW7a+mDe5oszLTxxrl4e+eZ8MDQ1mEnrm109ljnHQurhN7rrnPrOd15gL/EICJEACJEACJEACJEACJDDrBHQdN4SEQsF6/bk3jhrnUYXiV+I1CECdfSOmaLlM5LnXdiW2mn3KhD3d4aBv+46jAsuJFYsbBZNVEMJzLVsoSuhesnSZfPt7j9qHAktKAiRAAiRAAiRAAiRAAiQwZQIQImA6qwL7lBOcgQSg3baa0KtZ/QxkzSyqhACeB/WKjypD0IbQ/eqeEzmF7qLNy+GxfO/uXVWCkdUkARIgARIgARIgARIggblHAKbWCFZtdr5afuqy880ldUaWL16lnT9sMZ+HRlIdX1VaOVke+xJAv0K4eNUC86k+A9SHQHbNiha6s2/kdxIgARIgARIgARIgARIgAXsRUAHUKphaa6AaYpjLXrk+7fFbz1njVfKxbhGGrdLgQI6BBMpNACbl2x/+XGbphT5X+SazKHSXuwWYHgmQAAmQAAmQAAmQAAnYnADWPNcEvLaphQraKLBOEkDgVg2kbSrCgtqWgGq/c20lVtSabq35Iw/cr4fjPulIbRwSniABEiABEiABEiABEiABWxHYfej0uPKOhGPjzlXaiZ88u9fsvQ2TeF1rW3vWlL7SysryzE0Cus57OMfzUpLQfftd98i6DRvnJiXWigRIgARIgARIgARIgATmOAHVxhnN8MrxlX3ydwfMSWiJ1QtzLs3d+Dtn98zuI+nJgiOn+o3jN5RGTX5nt2TMnQREaF7OXkACJEACJEACJEACJEACVUKgdV7aAZTVHFurjnNYkwpnaypw67VK/kSZtT46QYA16QwkMJME9JnJZS1CoXsmW4J5kQAJkAAJkAAJkAAJkECFEtC10OqROV8xIdiqkIs4T7y8X66942dy59YX890ybedR5pvveWJM+pg0eOi2q8ec4xcSmCkC23celce27x2zQ0DRQvc113+apuUz1VLMhwRIgARIgARIgARIgARmmMBzbxw1OcLrtwbVGKtAjvPbnnpb7tz2ohEqcH734W4TXddS670z8ZmtVVSBG47gGEhgJgnUBNLb8WFC6rFn98qrezsy2RctdGfu4AEJkAAJkAAJkAAJkAAJkIAtCaxsS5tdQ1iGWfZDP3vd1APf8Qeh1erxO5fwWhvwGE33ky8fEAi9r+49YdKwar9nCs7hk32ZrFTg5lruDBIezCCBmzetlSfuv1k2X5vepk79I6AIFLpnsCGYFQmQAAmQAAmQAAmQAAnMJgHrNmAQmre/cdSYh//Ds3tNsSA4WAVtCNgIVoH6pk1rzTkI6dkB6SHk2684O/5Uv1v3G8dkAQXuqRLl/VMhgGdH94ZX/wJIryTv5VMpAO8lARIgARIgARIgARIgARKoDALYBkw1cd976m1TKGiKb9q0ZkwBVy5uMmayVqF75VknZbvPastxA+5FmkgL1yEM43M6hWCrA7XtD39uTLn5hQQqiQA13ZXUGiwLCZAACZAACZAACZAACUwjAd27Glq4bG00BGSrlhvFwN7DCFYzbsTRdd9HTvab61+/5SrBHtlIc8u2lwTrw3Npwk3kMv1TLbeWpUzJMhkSmDIB7ZP6DFDonjJSJkACJEACJEACJEACJEAC9iCQrXmGhlqDbnmk3/GpQvdwKGY9PWbdNy5AmN/y+Y+YOBC8IWxAEz6dQZ2oqeZ9OvNi2iQwFQIUuqdCj/eSAAmQAAmQAAmQAAmQgE0JQBuHNdyFggq0qtHWuFg/bRXYVZhXDR/iqVdzvafcn6p9n2iLs3Lny/RIYCICC5vOWoh0pB39UeieiBivkwAJkAAJkAAJkAAJkMAcJACHT7rNEaq3YdW5rcK0umpuDu11tjm61cu5xrd+Ij72K7Y6lLJen+qxmpdj3TkDCVQSgdazyzJGzlqIUOiupNZhWUiABEiABEiABEiABEhgmglg721opGFODsFZtXL5slXttQq5Gg9acqzj1i2ScD7bRB37Fd/6rWfHCeyaBj4hlD/x8n7rKXMMgV3XxGZfhECvzt3UBD47Dr+TwGwR0D65fedRufmeJ7hl2Gw1BPMlARIgARIgARIgARIggdkgAO21bmuE469/6Y9MMbIFZi2bbhuma6j1PAQLrOPWtPQ8PiHYf+XGSzICfbbADoEafwhdfSPyD9vfHaMRhxAOgX3L1heN0J4tfGt6OiFgzZvHJDDbBFToxsQQJoio6Z7tFmH+JEACJEACJEACJEACJDCDBCBcWwVsrMeGgJwvqPl2LvPz7HsggGP7rvu+dJVZL65CsWqlER+abQjU+MP5wx39RjB56B93mOQgpEAIR8C6ccR/6PHXM5ptTQOfE2npTSL8RwIzTKD17JpuZHvFujYK3TPMn9mRAAmQAAmQAAmQAAmQwKwSyN6LG4Up5FBtZVujMSG3CuoTVUA1fbq21Sp0D4fPeULv7BvJmJBDuMY+39hyDII3BHZsRYYAbfhPnk1rxvEdgjoCysZAApVGQPs/ynXTprXirrQCsjwkQAIkQAIkQAIkQAIkQALTR0CdoxWbA4TfK9YtKTb6mHgqFGNtqzjSl7a/cTQTB4K21TO6ru2GhvvWGy8R9YqOG57beVRWLWkyGnII5QhXTrJcmQLwgASmiQAsPtBP8bxR6J4myEyWBEiABEiABEiABEiABOYCgVKFdGud1fwbmm6Yk2eH1/Z2GMEEQvZIOGbWgkPrjq3KVOBGGtB0I2z757cySWAywKpRzFzgAQlUCAF9dih0V0iDsBgkQAIkQAIkQAIkQAIkMNcIqOCMekFIhok6til7dW+H7D58OmNajr22YYaby4Qd90HLjQDhHOvGC5nDzzWGrI/9CVDotn8bsgYkQAIkQAIkQAIkQAIkULEEIDRDwMb2ZLq3N4RmmJJjDTeCCuS5KgET9ed2pp2mPXTb1dRu54LEcxVNoOKF7hPH2uWhb94nQ0ODBuTtd90j6zZsNMeRSES2ffdhaW5ukc23fLmiQbNwJEACJEACJEACJEACJFCNBCAo5woQvGF++9DPXs+p4dZ7sG57JBQzwjbNyZUKP+1EoKKFbgjVu97eKQ98Z5v4fD6BAP70L5+U1WsvlO6uTtn2374lN/zxTXKy47idmLOsJEACJEACJEACJEACJEACIkbzDWdTVjP0bDAQtHPtBZ4dj99JoFIJVPQ+3RC0P3PjZ43ADYD9/X0SCAbN9yVLl8k3HvyOLFt+fqWyZblIgARIgARIgARIgARIgAQmIMD12RMA4mXbE6hoTTfoqgn5nl1vyfqNl8qtX73D9tBZARIgARIgARIgARIgARIgARIggeogUPFCN7TdX9tyt2kNmJc//Hd/K399+xapb2isjhZiLUmABEiABEiABEiABEiABEiABGxLoOKFbivZ+QtbpaVlvgwODEyL0H3q1ClrdjwmARIgARIgARIgARIgARIgARIggSkRsJXQDedpPT3dUt/QMKVK57t50aJF+S7xPAmQAAmQAAmQAAmQAAmQAAmQAAmUTKCihe7BgX554P57pfNkh6lYXV293Hn3vdOi5S6ZHG8gARIgARIgARIgARIgARIgARIggQkIONq7+lMTxKmay0sXTI8GvWoAsqIkQAIkQAIkQAIkQAIkQAIkQAJjCFT0lmFjSsovJEACJEACJEACJEACJEACJEACJGAzAhS6bdZgLC4JkAAJkAAJkAAJkAAJkAAJkIB9CFDotk9bsaQkQAIkQAIkQAIkQAIkQAIkQAI2I0Ch22YNxuKSAAmQAAmQAAmQAAmQAAmQAAnYhwCFbvu0FUtKAiRAAiRAAiRAAiRAAiRAAiRgMwIUum3WYCwuCZAACZAACZAACZAACZAACZCAfQhQ6LZPW7GkJEACJEACJEACJEACJEACJEACNiNAodtmDcbikgAJkAAJkAAJkAAJkAAJkAAJ2IcAhW77tBVLSgIkQAIkQAIkQAIkQAIkQAIkYDMCFLpt1mAsLgmQAAmQAAmQAAmQAAmQAAmQgH0IUOi2T1uxpCRAAiRAAiRAAiRAAiRAAiRAAjYjQKHbZg3G4pIACZAACZAACZAACZAACZAACdiHAIVu+7QVS0oCJEACJEACJEACJEACJEACJGAzAhS6bdZgLC4JkAAJkAAJkAAJkAAJkAAJkIB9CFDotk9bsaQkQAIkQAIkQAIkQAIkQAIkQAI2I0Ch22YNxuKSAAmQAAmQAAmQAAmQAAmQAAnYhwCFbvu0FUtKAiRAAiRAAiRAAiRAAiRAAiRgMwIUum3WYCwuCZAACZAACZAACZAACZAACZCAfQhQ6LZPW7GkJEACJEACJEACJEACJEACJEACNiNAodtmDcbikgAJkAAJkAAJkAAJkAAJkAAJ2IcAhW77tBVLSgIkQAIkQAIkQAIkQAIkQAIkYDMCFLpt1mAsLgmQAAmQAAmQAAmQAAmQAAmQgH0IUOi2T1uxpCRAAiRAAiRAAiRAAiRAAiRAAjYjQKHbZg3G4pIACZAACZAACZAACZAACZAACdiHAIVu+7QVS0oCJEACJEACJEACJEACJEACJGAzAhS6bdZgLC4JkAAJkAAJkAAJkAAJkAAJkIB9CFDotk9bsaQkQAIkQAIkQAIkQAIkQAIkQAI2I0Ch22YNxuKSAAmQAAmQAAmQAAmQAAmQAAnYhwCFbvu0FUtKAiRAAiRAAiRAAiRAAiRAAiRgMwIUum3WYCwuCZAACZAACZAACZAACZAACZCAfQhQ6LZPW7GkJEACJEACJEACJEACJEACJEACNiPgrvTynjjWLg998z4ZGho0Rb39rntk3YaN5vj5Z34jjz/2I3P8+c1fkmuu/3SlV4flIwESIAESIAESIAESIAESIAESqCICFS10RyIR2fX2TnngO9vE5/MJBPCnf/mkrF57oXR3dcqRQwdl66M/Nc314x9sM9eXLF1WRc3HqpIACZAACZAACZAACZAACZAACVQygYo2L4eg/ZkbP2sEbkDs7++TQDBovr//3l65YtPHzTHirVi1WnCOgQRIgARIgARIgARIgARIgARIgAQqhUBFa7oBCdrubd99WPbsekvWb7xUbv3qHYbdqZMd0rq4LcMRx2/v3JH5zgMSIAESIAESIAESIAESIAESIAESmG0CFS90Q4v9tS13G04wL3/47/5W/vr2LdPC7c19PdOSLhMlARIgARIgARIgARIgARIgARKoTgIVL3Rbm2X+wlZpaZkvgwMDsmhxm3Se7Mg4VcMxzk0lzG/2TOX2Gb23+0xM7FTeGYVTQZmxnSqoMYooCturCEgVEoVtVSENUUIx2GYlwJrFqGynWYQ/iazZXpOANgu3sJ1mAfoUspyO9qroNd3ZrOA8raenW+obGuSCi9YZR2owP8cfnKrhHAMJkAAJkAAJkAAJkAAJkAAJkAAJVAqBitZ0Dw70ywP332s02gBWV1cvd959r9Q3NJo/OE+77ZYvGJbYMoyeyyulW7EcJEACJEACJEACJEACJEACJEACIFDRQjeE6288+J28LYV9ubk3d148vEACJEACJEACJEACJEACJEACJDDLBGxlXj7LrJg9CZAACZAACZAACZAACZAACZAACZREgEJ3SbgYmQRIgARIgARIgARIgARIgARIgASKJ0Chu3hWjEkCJEACJEACJEACJEACJEACJEACJRGg0F0SLkYmARIgARIgARIgARIgARIgARIggeIJUOgunhVjkgAJkAAJkAAJkAAJkAAJkAAJkEBJBBztXf2pku5gZBIgARIgARIgARIgARIgARIgARIggaIIUNNdFCZGIgESIAESIAESIAESIAESIAESIIHSCVT0Pt2lV6ey79i7e5c88sD9ppCti9vkrnvuE+xFHolEZNt3H5Y9u96Surp6ufPue2XJ0mWZyjz26PflzJkeufWrd4jP5zPnn3/mN/L4Yz/KxPn85i/l3LPcmufHP3mtbL7ly5l7cO2HW787Lr9MhCo9sLYHEFjZlsrTGh9pZbeBIh4c6JcH7r9XOk92iLVvoO1/+8J2jWY+86UxJlIVfSlnewFbvrawIrXmmf3M6rXm5pYxz5v1/mo9VjZ41yFM5dnC/dbnK99zYc3T2lZ8tibuhVZ22e1V6Dk5caxdHvrmffIfb/uqrNuw0WRULG9rntb2QiJ6jc/W+LazPgvW3xBllmt8odesPLPHFshp/cZLx4w/NHdrnvr8adsPDQ1qtJzjmszFKj2wsrO2F3BY28D6jsS1XONBa1rZz4wVrzWetpdexzWOB5XGuU99Rsrxm5X9bNx+1z2Z9+O5HM+957Kf2WLfoda0qu14su2lbWP9zQI7K/PsZ1HZWvPMfv70mr5jaV6u1Kb5E+Cfe+bX8qnrP2MEZ7xUT53sMINyHCNcc/2nBQ3/9C+flL/8q1slEg4ZQeyGP75Jjhw6IH/xhb8cI3TjRa0DmlzFx6Do0e9vlVu+fJsR7tF5LrnscnMPjhH8gYB87MpNY4T8XGlV0zn8+CCALRj+90celC/e8mWpb2gomSfSgiCNti0UrG2De97euSOnwPZPjz/G9soCWc720hfkNdfdUPDZyvfMdnd1yrb/9i3BM3uy47j8+ec3Z5W2ur+Ws63wrvzJo9+Xv759i3m/5SObr610AlPv47OlJM595msvTArne2eB994978iqNWtl+fkr8z5H+Xjnay8+W+faJftoMuOLYnmiPXKNNQqNL6zlw3P62isv811ogVKovaxjQNzy4x9skxv+5CYz/sDEfPZ4EGlpHDyX1vut77hC7cXxoKVxsg7zvQMnMx60vjOz28Oabb53oLU9ET/fO9SaVrUdT6a98v1mIS0di2c/Z1au+dor1zuW5uVWctN4jIflMzd+NiM0X3DROiPwoiEhfF/+sStN7vMXtppPNBa04N948Duy/uK0psBavL6+XmlsbLKeGnd8rP0DWbf+4syAFAI3OhACNN5Wrfe4m6v4BIRtncxAG6xee4GhMRmeqrkuhBMvX4TVay80n0uXLTeWDXpe78X3cCgk2kf0fLV/lrO9Du7fJ5iR1PbPxbbQM4tBD57ZZcvPz3Vr1Z8rZ1u99Pyz8ic3/3nm/ZYLbqG2ssbns2Wlce44X3vpuynXOwsTjF/bcrf4ff5zCWUd5eNdqL34bGVBtHydzPiiGJ7aHvhNyg6Ffg+tcd9/b69c+KH11lNVf5yvvQAGvK7Y9HEzVkS8FatWm3P5xoOIEwgGpb+/z3DF/bgH562hUHtxPGglNfY43ztwMjwXLW4zShjkgPsx1kC7WoM+c7lkAmu8fO9Qa5xqPJ5Me+X7zYK8BLkJAc8Tnks8X9ZQqL1yvWMpdFvpzeCx/hBBmw3TcQ3ZL1A9n/0J4eve/3KH/Icv/Jl87Su3mNnN7DgQ+KwBQnpodNSY6FnP8zg/AeuLbbI8saQA7YQ/nYWz5jg4MGDaRc/5/AEJBoKC89aw47VXzAsg+8fUGqfaj6faXmjjpuZm80yhvb794DfHPS+TfWarvW2y6z+VtsIPHcK+d/dkni2dbbbmU2xb8dmyUst9bG2vYt9ZuVMSyce72PbKly7PpwlMdXyhHDEJCUEhWzDA9WJ+D9FnoFTQyRlNl59jCWh74Sx4WQOsDLLPWa/jGEIzBAT8ZiHksqwrpr2y0+X3sQSs78DJ8NR2QTupBnVsDmIsXIuRCfK9Q7PTq+bvU20v6yQJOKrS0sq01N8sCt1WejN0rIIXZmQmG/CS/Z8//d/mD2vAYZKuA9HJpsn7xhIAz6d+8XO58bN/MW7WeGzM/N/wktV2emTrD+X5Z582Juv578h9hYOX3FysZ8vRXkjv0IH98sB3tpl2g6XI71563poNj8tAoBxthYFJU9M8005bH/2pHDl0MOfk40TF5bM1EaH0GsOpvgs1F/JWEtPzWY7xBUqGZxSDTNW4Taa0FAwmplaO9lKzZYw1ENRcfOLcGaNYAuX4zdKJYbQTNKi5JvWLKQ/foRNTKkd7XfWJa8xSKUyS6ITWxDkXjkGhuzCfsl/FCxY/ZDrjla3VREeBNnoi03FrwWBuDPOintNd8l+3/GfTOfDSzZ4hhfkR4lFTaqWX+xjtgHVSn7jmusws/1R5QlvQtuQ8o8FG++AhRns5HA4ZDY2aGU6UBjNn+I41QxoweMGsG9tOiYz9LGd7YT23ctY2x48l2gtWJWe6u8dYIkzmmR1b+ur6Vq62gmmeCgRoLzWxLLWt+GwV7n+52gvvponeWflSzeZdanvlS5fn044FyzW+gJYbQbXcGOiXMr5AfKztz2WazrZKE8geD+JstnYNGlWcyxewhhtjRrUmgKCA0HH8WEntlS99nk9PQE11PKjPg/5mQemG8SCWklrHg9FoZMLxRfY7lG00lkCu3ywdy2nMYuQhjCuwVEoVZ7gX6UzlN4vey7UFZuBTX7DWtdRoVF2zA/t/PIAIpazbxY8jtD4tCxaa9aRaFTzkqlnFDyd+jHV9gsbh53gC+sDCeQnaRAMGD1PhiR/Hg/vfl+tu+ONxa+ohQJg1Qhs2jlvroy9rOMRjGE+gnO0FXwuwGsEABs8mnhkMeDBJphNlKMFUn9nxtaiOM+VqK7QN2gWDD7QLnpHjx9rNJBkGM8W2FZ+twv0uX3vh96TQOytfqrl489nKR6u08+UcX6DdX335t8aBl5YCbQ5/FRrQloV+D/FsWn3K6H38TBPI1V64or9BaAMEWPBgLJIvWCfA8F7EGBLvwrr6+pLaK1/61X4+3zuw1PGgVcGGZwnPD8aDcGScvaa+0Pgi1zu02tvIWv9ytZc1TRzjeYWchbFhKWOM7HQodGcTmabvELiwHQO20dAtoDBjgm3DMDOJLcOwBZi6m8fLM1/AQ6fbSyGOppN9Dx5saO1uv+0/mqSwRcRUTNrzlWeunf/5T38sr7/2e/OnddOtAkrhiYdft4JDOtq2aJfsABN2bVNtT42DwUsuhxt6vdo/y9Ve4IhJFvzg3XbLFwxWPDNWAU5Zl/rM6n3V/lnOtrK2Abhi+xXrJJmytsbTZ1DflXy2lFLuz0LtVeidlTu19Fruid5lhdorX7rVfr6c4wuwxEQ+LBkKTf4XGl9gjLLjD6+aXT+qvW1y1b9Qe2X/BmHskeu9pulmt4O+47LHGdnxOB5UgoU/C70DSxkP4jcHkyfYSlG30+NvVmH2k7larvZC3lZZS8flOnawlq2U3yxuGWYlx2MSIAESIAESIAESIAESIAESIAESKCMBrukuI0wmRQIkQAIkQAIkQAIkQAIkQAIkQAJWAhS6rTR4TAIkQAIkQAIkQAIkQAIkQAIkQAJlJEChu4wwmRQJkAAJkAAJkAAJkAAJkAAJkAAJWAlQ6LbS4DEJkAAJkAAJkAAJkAAJkAAJkAAJlJEAhe4ywmRSJEACJEACJEACJEACJEACJEACJGAlQKHbSoPHJEACJEACJEACJEACJEACJEACJFBGAhS6ywiTSZEACZAACZAACZAACZAACZAACZCAlQCFbisNHpMACZAACZAACZAACZAACZAACZBAGQlQ6C4jTCZFAiRAAiRAAiRAAiRAAiRAAiRAAlYCFLqtNHhMAiRAAiRAAiRAAiRAAiRAAiRAAmUkQKG7jDCZFAmQAAmQAAmQAAmQAAmQAAmQAAlYCVDottLgMQmQAAmQAAmQAAmQAAmQAAmQAAmUkQCF7jLCZFIkQAIkQAIk7WVFBAAAIABJREFUQAIkQAIkQAIkQAIkYCXgtn6p9uPu44eqHQHrTwIkQAIkQAIkQAIkQAIkQAIkUEYCjvau/lQZ02NSJDDjBDyJUYm5gjOeLzO0FwH2E3u112yVlv2kvOTfPtAl4VhcLrugVTwuV3kTn8XU2E9mEb7NsmZfsVmDzVJx2U9mCfwMZktN9wzCZlYkQAIkQAIkUC0Ejpzql58+/55IKiWjoZh88rLl1VJ11pMESIAESIAExhDgmu4xOPiFBEiABEiABEigHAQOHOuVplqfXLK6VV5772Q5kmQaJEACJEACJGBLAhS6bdlsLDQJkAAJkAAJVDaBPUe6ZXFLndQFvVIf9MrpvtHKLjBLRwIkQAIkQALTRIBC9zSBZbIkQAIkQAIkUM0EOk4PSdCbXsV2pj8kj7+wr5pxsO4kQAIkQAJVTIBruqu48Vl1EiABEiABEpgOAr/bdVzqanwS8HtM8muWNsvRU/3SOxyWebX+6ciyatM80jkg7xw6Lf0DIRkKx2RevU9qA15JpRwyGolJKByTSDQpixfUyvpl82XVeY0ZVu2nByWZSMny1npxOByZ8zwgARIgARIoLwEK3eXlydRIgARIgARIoOoJdPaNSEvDuV0lYGLuEIf8+pVD8sXr1lU9n3wA+ofCcqijX9462CnRaFJWtDXJkgW1RpB2OV3idTqluTFgbn/vaI+8ebBLPjjVL26XS2qDXkklUnLq9Ig4XaMSisbF43ZLwOM0AvX7R3vkQHuvjISj4nY5zR/ij0bjUuP3itfjEJ/XI45UykyWJBJJCcXiUhfwSH2NT5rr/OJFegGPjISi4vE45aMXteWrypjz0WhCnn+zXUKRmNTUeKUx6JW6oF88Lgj6DlmztGlMfH4hARIggblGgEL3XGtR1ocESIAESIAEZpHA8dND8ureDvn4xqVjSrF2WbO89u4JeWPZKfnwBYvGXMOXo50D0nF6WEYjUbn2w+eb68dOD8rQSEQ+dP78cfHn0okXdx6Tgx290tU3YoRlp0OMID04GpG3D4jE4kmBItrlxHm3QCAejkRkXl1ALlw+X7y4UGQYGIlIKpkUj8stNcG0JUIylZSB4aj0DYclkUhIMiISiybE63FLKJKQ3sFB2d/eK06nQ1wul0SiMcF+sy+9eUyCfo9EYgm5YGmzXLVxiTTV+qV/KCKv7DkuhzsGJJ5KGu/1IimJxpJSE/BIMpmSRDJlPpGO2+mQRAplcko8kRKPG9vLpYyG3u1ymImBRfNqZcnCWmmdVysNNT7xuJ2SSIgMjIQFkxXLWhtkZVujmUwoEsWkow2HoqacqENd0GPydJbZUuBwR7/EEglprPVL67yaSZeVN5IACVQGAe7TXRntwFJMgQD3NpwCvCq6lf2kihp7ClVlP5kCvLO3/r8/flUagl5ZvuicGbOmemYgJDv2nZR/d906+diHFonTeU5Y/C/f+634fR6BAOhwOsWZShkhr3coLMlUSj5/zYfkwxe0SrmFGy2b9ROC4PBoVAI+d04hbir95HT/qBw60Scd3UPyQeeAhCJxiSWS0lQTkGWt9UaYtJYl+xgm+rF4wmiJ59WdsybIjjcT3yPRhPQNhaR/NGKE5OFQXDBhkIinpK7GY4TnWr9HFjTVFDRfhxk87kmlUuL1ubHLnIQiEfG6PeJ1O02anX2jMhSKmHiYjPB53aYvhKNxI7zje8DrlotWzJPz5jfIpWsWGgTxeFJiyaQxs59Xn7YSKIbN7kOn5WjnoIQjUUkkHUZLH47EJRxPytBoxHz3e9E/HMYqAVYB9QGPXHT+fLn8glZZ2tpgsimlr3zQhcmNHvmgc1BOdA2Zenu8TmNhEDdMveICYIeYiQz0T0xg9AyGTD9ta6mRC5e3yMc+VJwFQjEcGGdmCJTST2amRMyl3AQodJebKNObcQJ8Uc04cltmyH5iy2ab8UKzn0wN+d//yx5p7xySS1YvyJtQ98CoHDnZL6vPmyc9/aNGa9ndPyKJpMjFK9P3hWNxY47u80DjKQJBtfPMiNTXuOWqi5fKJavTAlXeTKZw4Z9e2i+/3dUuC5uC4nA4pbU5KG3NdcZ8e2FzrSxpqZFGT1xirokF3t1HTptyQ4BPisiZgVGBU7lkyiHBgFuSKZHWhqDU1/qmUOLKuRUCMLTZHrdDAr60Fn0mSwctPrzkQ/sdCseN53ynyynJRFJSZzXni1ugKYc5vUuGwzFjQRD0ekwfc7rErHEfCsWMMJtMJiXg9YjXm9a8u51pM/55deP9EqDuA8MR6R8JSzSeEL8XGnCHrFgYlHmN9TKvISALG2skkURZHPLByX45dWZYDp7sE6/TJQOjYYnGEuJ1uaSlMSBt8+sz6DDxFIslzKQEJqVgfYCCw8ABlgd+n0tc4pDBEeQfFcxlQUMe9Dkl6MfuAT5ZPL9ONq4a/1zGz1od+NznJsAyGfNgxgjwt2fGUM9aRhS6Zw09My4XAb6oykVybqfDfjK327dctWM/KZ3kW/u7ZNehLtl7tNus/b10dWtRiUTjSenuGzXOvqC5hXkyzJcLBQjrvUMhY0a8+dp1OeNDUDrdH5Kjnf1yvGtQhkMx6R0MG63oisWNsmxhnSxZUG8EH2iZvS6HvNveY4S1gyf6jOn20oUNsqAxKEOjURkYDguEMJhUO11uicZi0lTjltqaoEBzmjJCUFzaOwfF63ZJjd9jNNeRGJyYxcXhcogjJWa9NBycLWgKik4mFKorr02NAKwH0L5Yk65O4sKRmPQNRwTm4TANh6CMHtdUGzBCLNrS73MLNNgwYZ9KOHVmSLr6RsXtSInH6zH9EBp9aKyxlr0m6DWWFDU+jzTU+E0ZYao+1RCKxqR/OGL6MSayYrG46b8Q0KEVh/k+JhHwqHlcLnMNFgaYiMDafSfM+cNxmd8QlAXzggLtPq5DiF++qEGWzK+bahF5fw4C/O3JAWWOnaLQPccatBqrwxdVNbZ66XVmPymdWTXewX5SWqv/+Jk98vaB09JSH5CF82rMX2kplB4bgjCE7/7hsBGQfG63uN0OI/BCswhtp8vlNObHo6GYyQBroOE8DAKW2+00whBM1rGlGb7DnDyVTBlhvBihord/UI73hIypMYQ6rEGGnrAm4DbOyzCh4HE6jAd3Ctilt/FcusOViknCMXVhuhxMegZGZSSckFQyIS63w6zr1/XiWM+PSYohTEqEo+LzuM1zFInFM1lDaG+o9QvM2OuCPjlvQa001gZkyYK5L4hHInE51j0ogyOx9BIYcUhbS60saqnN8JnKAX97pkLPHvdS6LZHO7GUBQjkelH1nO6Ut1//vVy44VJZsmxF5u6dr/4fwTWEZStWm+s4PtF+RPa+/YY5D1OtSz7yR9KyoHXMeVzEucuu+FcmHv/Zi0CufhKLRWXH718Sn88/pl21/8ChkNfnl49u+qQEa2pldGRY/vDyCxKNhI1Jn/YTkNi3+y1pP3LQQLH2LXtRYmlz9RNQwTsCbWxt80L9Ide7Rvvb0EC/AW1919iN/JsHuuT37xw3GrWNqxYaE92ZrgM0lRCwsU4cQjW8adfX+qWlLq01nM7y5BKknLFBcQ0cFofAfNgpiYaVkvSkTYRdw8fFFT5tipTwL5BE7Xnm2BnuEfdwuzlG3HjDanPsSETEPfC+OJJxSTndEm+4QFKuqWleTcL8N+MEsvuKI5UQ98ABccRHTVmm0h+s/QSJzURf6RkISd8QrD8iZrIJHukxYXXxmoXyf61plZWLx/tymHHoBTLsHQxJZ29IegdHjZPG4XDcLAeAR35MSsBKBlYAS1rqzcTEyCgsXOC0LykOs0gBicMaIGYm7Or8HsGyE1gJzGvwCZYg+GBJIA7jFBEO+iPxhCxtqZPF82vF48ntwzrXb4/1d8Q6/rT+9ljHKCiZ/s5kj2us41xrWgVQ8VKZCeRu+TJnwuRIYCYJYGDce6ZbFi0Z6zkXLxyE6//035iX0lt/+L0RwBua5knHsQ+M0IUXEQSuw/vfE5xHoABlMMy5f2jn3W++LuctXykjw4OZ+uEHC+2vwhX6zXvvvGn6Bz7XXLTeTORY+8lAX68MDvTLJz99k0lH+xb6E4P9CWDggzC/dfGYyuTrD10nT5h4ud41GAhd8qlPm0mcMYnZ6MsLOz+QV989aUxkp3Nt9URI4FAKa2tzra+d6N7puO4I90q86SIjHEOYdo10SKqhRhzxEXEmRiXWvNFk6x48JKnYoKScPnGFuyXWtM7c4x44KLgv6W8R1/AxSQTbzLFJa/hYRiCfjrIzzZkj4Ij0ScI/37StEZoHD0oq1jDp/pByBSXetEJSjrT/g+muSUtDQPBnDRDCDx3vkwPtZ6S5ISh1Aa+sWTpPAh63ROJxMzGGOAMjUfnYujbZsHL8bgTwe4Bt78oV9h/rlTcPdMrp3lGzxj0UistgJGKWfDTVBczyAnjAh2MFl8thvPBjHf2yhWkP+PArEQknJNDoEZfTKfPPbtWXXb7u/lEjrGN5STQeN34asJuAy+00y0qwJR8sBGBpA6eAOE45RBprfOYc8k4kUuKC1wdnennKaCQurtigtNaJ+M/7qCxfEJQT7++U997bJ/6mRXLsvTfE37xMfIEWGTlzUnb84TW5/MpPyOhgT85xDYR0KAU2nf3twW8axjZWpVR2vfh9YgLxZFLePdIj3f0hOdE9aNoWy5KwdGRBY8D0G4/HZZwfhqMJodA9MVPGsBkBaLcRIHxbQ2fHcWltS2sXPB6vtC1dLt2dJ432GhqncCg964xz9Q2NgjjQSNU1VPasrbWOPC6eAATiq//1jWaSxSp0Q4BG0EmXhYuXCPrOmZ7TEomEZV5L2hEN7sePFuKjz6A/oc8goP9o3zIn+M/WBNS6Zdcbr2bqgUFMvv6Q710DawkEj7d8A8tMgWbg4IU32+W9D3qkbzBkTEqxvpPhHIFE3fLMl5SnTlKRPvPdERmQhK85IxQlXUHBOXEHJOmuzWiwk74mcUb6BPcipHzpvavx3RHuFgho1HZnENv2AJMqGtCeKXfaIZ8jNlRyf3BgbzenK9O3NN2Z/myq8wv+EPYf75UT3UPmXYF19RCk3U6n2YEADuZ+8dJ+ae8akE9/bKV09gzLv+w4auIGfemt12oDHrOmvg4CuENk+YIG2bB6gTRanA3CB8Sb+7vMEhM4w4vHkkZbDbN4aKxP9Y5Ind9rtqBrqg9KbcAt9XU+WeltMg70iuEDz/BShOX4/Mag4K/YgPJh+QnWtKAeUKunEgmzLWA0mZSRCIT0pDgdfuk7k5TQqQ55PhKT5YGI7O1sl9FUtywPjsrB44MSjg2JV2JyYeOg3PuD5yWe8sjqJedJojchwUQ0U6TentMyr3l+ZrIXY2H8TkHoPnlm2DgLhMUCnAxONmAyYV97r0TjsABwS3fviGBpAhwDxhIpOdY1YBwLLmttlAvObzaTHXAkCT8XfcOjcqwT3vqdMjgSNg4OsX1iMgk/BEnjIwPbCsLPQE2Nz5j1z6tHnwtILB4XlyPtBBA+Exrr/GZCYyL/INn1xG8bHHbCgqoHzhjhz2MoLOFYQnxul1lCAQE6FI6Z9hseichoLC7JhBi/Hig7+mtPfxiPpPQN4t64WaYBywmzE0Z2pvxOAnOVQE1tnRGitX544eAcAgbVmPmDiXm2Zhvn1PR83SUf5sygApyjnxCM4vGYxKJRI0RDqIaA5XF7xO32mGM1NR/s7xNZJjIyPDRmcgYTNehfDHOXAATnfP2h0LsGFhEv/OZJAwb95PI/+kRmsqaSab2864T85rXDsnRBnaxfsdBohiq5vLNdNghQKZffCEOORFhS7nOaQRxDuB4XXF5jmu5IhMxn5rrTLeJwCgQsCt0ZKnPiABMpGLWn3DXixESMNRTRHxAdEzjeyJvmTusSBWtSM3m89ry0lWChPN/cd0qefvWI0ZjDFPviFQulsc4n8URCQmHsCw8zbzihc8qp7hH57TvHjCNEeKDHFnAw98ae7ljIEfBgvTy2F3QaAQfb6LW1NAiE90oMNQGv5Np1PXsZgrXsWJLgGhw1y1LwHnCNDsmGhQvT7xcsVxgMyb9at0AGY37pHhyV99sHpMUzLC//w2vG6mCxt9doXV/v2CtwJhh0hqQ23i9PP/p/pGcwaq5h0gT+LSAEw8M+hEto6xuCPuMEcCgUNQIw1vTDsR7+MDEC7/fwrI9lPghwWuj3ewWeMkbCcfG5HVIT8JkdBOKplGnXV/YcTzunjCWMKb9DHNJUH5AaP3TBDvG73SJJh/mOfMyuCPGEdA+EpKNnWA4d65VQLCYjoZjxMQBfHigDhHhMZGD7QDhChMPAebUB43wznkjKqiVNZtnAskUN4naIvPpuh5zsGZZTPcNG0A94XeIwHgfh+DK9XWQQErND5PSZEbNMYDSWkHq/x5R3aW3aWsHaVoWOqekuRIfXbEUAs3XHOgcEZjkw1XEMjUiL+GRBLGFm2+YtWiX7dr0i7f/8j6ZeVtNfCNyY+YPwDQ05vuMYWnPVnEPwenvHK0bTqRorWwFiYYsigLbFxMvLz/3GxMd3nz8gbo9HVq69yPgK0LXeOmlTVMKMNKcIwKohX39YdeE64yvgmax3DfoSrCs04F1zaN/ezDtGz1fiJwa9SxfWy4oce29XYnlns0xY242/eN05fyKzWR7mXZkEjCCFZQS1SyetqYaQnWy5JFNB6xKFzMkKPLh07SIZGolKMADT7XM7FrhdLqmrwd9Ya6CewVGzL3kklpT6Jp801nmNgF2BVZuWIrmG2yUZXGgm3Yx1Q55cYFWAP2fMKc5wTBYEagTbzYVSceN3oyc6aiYvfL6kEbA3rFwgTte5yYlINC6Do1GBqT+0uh6nWxIJMZMjWKsPgRpr+rFPPZYKJJNRY8XQ3BSQFYvmGTP+PEWb0dOxZEIGh6KCiYJjpwcFWvyRMHaxCMlOR6fA5B9CeH3AayZ72ubXmTX5011ICt3TTZjpl53AEy8fkPbOfnHATQWW48TiMhhOmLUxyAwmLlgjs9Q/LIe6QvLEzl7xu9yCGbahUb8Mh1yysCkg65J90hUKy3N7X5TFvkF5s6tWYjvfFEcqKW2eIfnghd3i86fXJo1GExKPx8U5KvLsK/tE/A1SG/RJ3+CoMXupgRmT2yUNtV6zryteXJh5w9YxWMeE7Ufq67wScHsk5UiZdT54MWLrEJifRBMJ8budEoomzT6uZpuTGp/AQUdzU1DqAz5xOpPiSDlM3Xzecy/JXIBP941INAHzJIfAZAszlyiPnYMxw8J8tkOMuZLWBe2NLWCw1Qv6xLx6n/lhgEkSfmXAoFAAf7yQO3pGxO/F7LlD5i9aJlcvXmbM0HTtNjSbLTWt8qk//jOTnE7CQJDK1mxiWQIF8kLU58Y1TNzl6g8QyK/8xHWZSmISL9cyFawRV18TmcgzeIBtsPDcQDsArRG21cKEUu9QVC5dc24/35ffOW62uKLAPXHjGGdqo6ckXr8qExkab0c8rQXCSRwbLXi2xjsRNQ7YUq4AXKmLJOPYhDn9mUqaNb+ZRHlgawLGmdrgIUkEF2WsF8ZZQEyiP2CJgrWvVTKkbMG6UFlb6oMi57YtLxR1zl3DRAraVZ0ywhdEse8HNX13hpPGuqZ2YdoKAX4inBG3xC0CN8BBuzsffwXM5bHlIf4qOXicLmluCJi/Sionhe5Kag2WZUICz+44Km+83ymLm2vE63EbpxSOlEvaWgPiz/II6RoOS6M7IIst66c0A0eoWxyhlDj9zRIKjYrbCZOlqHh8fgmkIuJMRuXw8T4ZSQwYIR7Cc70nIuf5RuTEcJ2MxnsllRKzvyzMcLA2p67Gb7aMwUQANO046fa4JBpNpD37plJGqMaelz6fW+BoI5FKGrMeeP5MpFLmGAIgZhOdThG/x2W2sonFkhKE2Y3DafaKxd6bmIXEfTC7MWUQh9k2B2XFeA2zeCiD3+cxXjejsYRJH9uEID2sj2mqh5kQ4ibE7/WY7ULcHocxR0K5MRuIbYDgtbPLOCNxmPUzHrc7vT7FBaEWa3DgQXhU/H6PJBOoZ9zMXtf6veL1OE0ZYOqFmW3UK+D3mK170vukJgTOTOBkwud2GksFxInFk+nfFUlJMp6S4VBEHMZ8zCmxeEpOnRk23orhtAJmZcakyOMy62+wlgeiNuoM1igTEgsGfGZdEa62NAWMl9EGd0iaXEPyL/vfNlsOORwpAToII6lkXC5u7JWuaK28+sQ7Zk0a9vzFBMZF9Wck5fbL328/IHWusMxz9sp7Z9Jr2jyDHdIVa5AXDr4pzY1BUxbYJxnhvntYfD7MIDvNHsOj4agReuAJFWZaMInCPAHqjwkFTNhg71/MLMOUC1sh4TrWhKEPjYSjZuuWSCzNESzdDofZymhgJCT9QxFxOV3i9bmMSRSuB7weM3mDCQf0VZxD+2OLIzDGHrZYi4etjuBnBjPayDTgdRsG6G+RaNLkjWcK5n4o04LGGuO1FSZ/6Jvzm4KSiKcEWgr0BXDvGQpJfU16kgr5RRMp06cxcRWOxgSaDMTDDLXf6zLPeDiCvhiTOjP5JKafwhQOfRR7yiKe0+Uy/aS+1mv6PrZuQt3wHMB5DdZloUzwHAsTNlzDs6N9B6yxhZRb4pJyeY3ZGthiELJ0Qb3UB30SCUWl/dSghKTGzJiDudfjEmwlM3B8tzg9AXnrcL+Eoj3mmYQQ6xjtlgbHgBwNNYvzg/1mjRqeJ+RVGzoq4vbLrqf3mP4bCHiMR1yYyWFSD5NlMLPEc4JyYkIQa+N0z2lM4DXXBcXhdBiG0BJBawTNBtJvOOuUCDP8WE+GVxUc/eBZA2Ostwv4vaafJZJ4B7hN2yOvX71yULCn9VUblsgf3jtp9rLW9yc/cxOwCtxWp1YpX4O4Rk9JMpUwN8KpmhG2nL4xa7Vhco7BtVnn63BL2kTdl/50uDPCWe7cedYuBKwCtwpSKHv22v1S+4PRnIe7jZM2u7BgOQsTyAjclnHsZN4P+fpW4dx5tdwEuGVYmYhCcDlxekBSkh7wYLBvDRhIY9CDQV7/cMR6yXhMxDoCaEoHR2PidUOg8piBXEqSZkCLGRto7PpHImbdgjUBs27B4zID4NHwuf0UNQ5mrCBz9A6kHYVhYAUvimYfUY9TaiCUQduRFOPV0ed3SzgcE2hrERcD/ZFIzJj2aJr4hDdHODKAcID9Us06Dq/bCBihaMw42sFaDAyiIcC4nW5xOFMmLazLUY+zWLfjgUlRwGvWVESiCWmu9wsUsxhgwlw8mogLxit//8we+eiFiwVrYjTkWweDLVowc6xOS6xba2Rvq4FZP922Rbd6wRor67Yeet76I6llmI1PCO9wSoI+hb5jhC2n0wiEbvd4L6YYYGPwDocTmBiIx9JCNQRkpAUhFUI2tOkBv9sI+0gT214gDwzcIZhA4ILjOb8HwpvbCLXo/xjsY6BvbhQ4jfAITHxiiYQk4mLyGIlEjZAOIRIZQqDzuNxGw4wTyfTSGXGkUmfXa6XTwbocOLLQgD4HYQt9Fmmg7+ULELpQb0lEJZJyid/tMuXE+aDfI+74kPEYbDUFtW7vE/W2yKivzTwP7tgZaU6mt5wbTgbkUKhVQuGIqfLKukFZ6B02xeiJ18sHI42CpUGYHEL/N0IrzLXcHgn4TKGN4IOiY4oG/R0WGqgLouMceGNCBM8BAmqZhOAVx57DrrRgLikzKQKBEm0AoRzXMCkDbX8qma4nBES0JSw+0E44j2cT6YEPhFDkgjxUGIX1hdeLvVrTfDGxhfJiOicSSZiJINxjhPR4wvQNr9tthGJMfHjdDkkkHRKPY92WU3yodwqTIXhPOcx6MQjs6CMQXvFOSWAyweM0fQwmIW4HfLom02U3PNLbtoBNyoH0Eccp4XhCPA6HeQ4iiYRhZ54NNIIDE0t4O0N4dZk6oByoMc7GY+lnCOy96GZOsE2YeoA73oGo92J3lxwf8stoKmCesxbvqCwPpB3v9Ua8sneg2UyQ1HrjckFNt7gdCYklnXIosliiCbe0+IalzdNj2hL/hhIBORFfZMqG+oMy3nWwgAE/5IuJETgJwrpHlA+80H6YOMPziXOYKEHAhFF6+Rkm7SBWpyTpcIjrLBf0PbQe1st5vU7DO1OYrAM87x09Q+a5RRuvWTLP/IZlRavar9m/O9bfF4Vi/c2wvlOmskWUps1P+xDI7ivGBDx2bscM1ET7hHUsgrHGRFvIWfuVNR370GFJlUB2P8luW8TTPmF932SPZxHPLHEJ94xZ4pKvb2n+/Jx+AhS6p8j4jfdPyeGOAdnX3mOEYTN4hTbF7TDaJQzrojEMUc2Y2zgewPgZGkwIPkabhcEghA2HwwysMGjGEAoDSmhQMHDUgMGWClhm8IqB7tn7MTDCoFsHbxhkQnDG4EsDBm4QuvBpxvFnTZ0h0EOzhZjQcmCQjHxjSZTNYcoN80NojBAQFwN2k3YKA710vk5HyggZRsmKAa5DjCOFGh8EfeQJITxuBGkMBBEgGGDrBKcb2sqk8TyJUTI0VhhYQwjHYLwBDgucIivbxjrpyH5RmUT5jwSyCLCfZAHh15wE2E9yYuHJLALsJ1lA+DUvAfaVvGh4wUKA/cQCY44e0rzc0rDfe2qXMSmEhmNeQ8AImFhbCyEWAZ78hkZjxsEDzA7h9h9aHZhgwoFAU9057aslWR6SAAmQAAmQAAmQAAmQAAmQAAlUKQEK3ZaGh5klLBHjDpGB4UjajBIb1sMhVgCu592ywO/JOKdqa647a3Z4TpNsSY6HJEACJEACJEACJEACJEACJEACVU6AQrelAyxpqVLXiBYGPCQBEiABEiABEiABEiABEiABEigfAa7pLh9LpkQCJEACJEACJEACJEACJEACJEACYwikvWKNOcUvJEACJEACJEACJEACJEACJEACJEAC5SBAobscFJkGCZAACZAACZC7x2lHAAAGBklEQVQACZAACZAACZAACeQgQKE7BxSeIgESIAESIAESIAESIAESIAESIIFyEKDQXQ6KTIMESIAESIAESIAESIAESIAESIAEchCg0J0DCk+RAAmQAAmQAAmQAAmQAAmQAAmQQDkIUOguB0WmQQIkQAIkQAIkQAIkQAIkQAIkQAI5CFDozgGFp0iABEiABEiABEiABEiABEiABEigHAQodJeDItMgARIgARIgARIgARIgARIgARIggRwEKHTngMJTJEACJEACJEACJEACJEACJEACJFAOAhS6y0GRaZAACZAACZAACZAACZAACZAACZBADgIUunNA4SkSIAESIAESIAESIAESIAESIAESKAcBCt3loMg0SIAESIAESIAESIAESIAESIAESCAHAQrdOaDwFAmQAAmQAAmQAAmQAAmQAAmQAAmUgwCF7nJQZBokQAIkQAIkQAIkQAIkQAIkQAIkkIMAhe4cUHiKBEiABEiABEiABEiABEiABEiABMpBgEJ3OSgyDRIgARIgARIgARIgARIgARIgARLIQYBCdw4oPEUCJEACJEACJEACJEACJEACJEAC5SBAobscFJkGCZAACZAACZAACZAACZAACZAACeQg4M5xrqynhkYj8g+/eUfe2ndKorG41Aa98pU/v1xWLZkn/98/vi5/cd16WdraMKU8Dx4/I0++sE+++m8/Kn5v8VWa7H1TKmwJN0djCUkkkhLwe0q4Kx31Fy+8Ky6nU/70ExdKKBwTl8spXo+r5HQme8PgcFi+/b9ek7+6+TJZ1FKXSea3bxwVcMd5a0gmU/LcHw7Jr17eL6FoXOKxhNxw1Vr5s09eZMpujVuJx6mUyEg4KkGfR5xORyUWkWUigVklMDjQLw/cf690nuww5airq5c7775XlixdNqvlKpT588/8Rh5/7Edjotx+1z2ybsPGMefK/SUSiciPf7BNbviTm0rmo2VuXdwmd91zn9Q3NI4p3t7du+SRB+4fc+7zm78k11z/6THnquWLtV9OxOGxR78vl1x2+ZTavxz8Txxrl6d/+aT85V/dKj6fryxNBQ6Pfn+r3PLl28b1Ge1TmlG+vqXXK+0zu/wf/+S1svmWL1daMU158Oxv++7Dcs11N8jSZctztgnqg4BnVuPv2fVWpj54R+E9e+pkR8XWM1NYHpBABRHAO/63L2yX9RsvlVu/esek36/5fsOLl1AnASUSS8j/+Kc35CPrl8hX/uxycThEIIwFA1452T0kuD6vITCJlMfecvjYGVk8v7YkgRspTPa+sblP37dHf/mWrFjcJNd+bFVJmUBYP3qiT264ao2Eown5zuN/kBv+aI1sWL2wpHSmErmrd1h8Xo801Y9tXwjcH1q5YFzSz752SI529MrDd/xr8XlcEo7EJZlK2ULgRmXaT/XL3//qLfmbzVdKfbA8g6BxkHiCBGxKAD9AGNBDqJlugbXciKyCGISdnzz6fTMYzhZmy53vZNKD4LR3zzvyyNYfjhOckB4G6y+9sD3v9cnkafd7drz2inzik9fO6KRDJQt9+drT+hxg4gDP81QGpfnyKfd5lBXPxNZHfzrpAXS5y1QovYP790lzc4t5T+J5nij8/Kc/lnXrL5avbbl7TNTVay80E3d4Z1XyxOaYQvMLCcwiATwrodHRaX1XTKt5eUfXoIxGYnLJhYuNwA2W9bV+cbuccqp7SFqba6U24J0SYmgY97efkQvOHy/IFUp4svcVSrPc177y2Q+XLHCjDEMjERkOR2VxS534vS75f7501aQF7ncPn5afb3+35KodPt4rbVkTIcOhqJzuHZElC8daNoSjcdm1/5R8/LLzjcCNzPw+twQnoeEvuaBlumH54kb5+v99NQXuMvFkMnOLQCQcktGREWlsbLJ1xeYvbJWWlvkyODBQkfVAuYKBoPj8Yyc7UVgVyHNpvyuyMjNUKGgDobnNFX791C8Mt1zXqvkcNLAIeK4rPUDjCyG2HBYBM9Ef3t65w1hTFMMVk5lnzvTk7L+o7xWbPi4vPf9sMUkxDglUPYH+/j4JBINleVfkg/n/A0IyrNY1aQi7AAAAAElFTkSuQmCC)\n",
    "\n"
   ]
  },
  {
   "cell_type": "markdown",
   "source": [
    "The pandas data reader is used to get the data from the given source\n",
    "We need to upgrade the pandas_datareader to read the new format of the web site using the given code\n",
    "\n",
    "```\n",
    "!pip install pandas_datareader --upgrade\n",
    "```\n"
   ],
   "metadata": {
    "collapsed": false
   }
  },
  {
   "cell_type": "markdown",
   "source": [
    "To get the exchange rate from the FRED (Federal Reserve Economic Data) from the given code\n",
    "```python\n",
    "import pandas_datareader.data as web\n",
    "thusd = web.get_data_fred('DEXTHUS')\n",
    "thusd\n",
    "```"
   ],
   "metadata": {
    "collapsed": false
   }
  },
  {
   "cell_type": "code",
   "metadata": {
    "id": "Q-PRpPpShz64",
    "colab": {
     "base_uri": "https://localhost:8080/",
     "height": 455
    },
    "outputId": "f5f61c5a-9aaa-4fa8-d172-2de48b89922d"
   },
   "source": [
    "\n",
    "\n"
   ],
   "execution_count": null,
   "outputs": []
  },
  {
   "cell_type": "markdown",
   "metadata": {
    "id": "t94xsNYrnuWV"
   },
   "source": [
    "**Task** Write the code to show the minimum exchnage rate, maximum exchange rate\n",
    "the standard deriviation, the exchange rate which at percentile 90"
   ]
  },
  {
   "cell_type": "code",
   "metadata": {
    "id": "PdJWs3WRq3o8",
    "colab": {
     "base_uri": "https://localhost:8080/"
    },
    "outputId": "35f9c526-a909-48b0-f4cd-f5726ff588a8"
   },
   "source": [],
   "execution_count": null,
   "outputs": []
  },
  {
   "cell_type": "markdown",
   "metadata": {
    "id": "9mT7cwIkonco"
   },
   "source": [
    "get the date which the mininum exchange rate, maximum exchnage rate, and the exchange rate which is at percentilie 90 are"
   ]
  },
  {
   "cell_type": "code",
   "execution_count": null,
   "outputs": [],
   "source": [],
   "metadata": {
    "collapsed": false
   }
  },
  {
   "cell_type": "markdown",
   "metadata": {
    "id": "kDSrYbvGo34P"
   },
   "source": [
    "**Hint**: to get the index name of the data you need, you can use the code example"
   ]
  },
  {
   "cell_type": "code",
   "metadata": {
    "id": "MwuDxY4wo95h",
    "colab": {
     "base_uri": "https://localhost:8080/"
    },
    "outputId": "7ca9a568-b0d7-4162-c5f5-dbe26a4cec24"
   },
   "source": [
    "import numpy as np\n",
    "a = pd.DataFrame(np.arange(10).reshape(5,2),columns=['c1','c2'])\n",
    "# get the list of index name which the value in series c1 is equal to 8\n",
    "a.c1[a.c1 == 8].index.tolist()"
   ],
   "execution_count": null,
   "outputs": []
  },
  {
   "cell_type": "markdown",
   "source": [
    "#### Task"
   ],
   "metadata": {
    "id": "MBcQRMkKFQGq"
   }
  },
  {
   "cell_type": "markdown",
   "metadata": {
    "id": "LlvlXVftpYTW"
   },
   "source": [
    "Loading the Crude Oild Prices from fred (using this data \"Crude Oil Prices: Brent - Europe\"),\n",
    "Show the covarience, and correlation of the value the oil price  and the exchange rate. and the covarience, and corelation of the percent change for both of them."
   ]
  },
  {
   "cell_type": "code",
   "metadata": {
    "id": "ctmRCapathU-",
    "colab": {
     "base_uri": "https://localhost:8080/"
    },
    "outputId": "bdbe0399-ae58-4ba1-e225-d6532c668855"
   },
   "source": [],
   "execution_count": null,
   "outputs": []
  },
  {
   "cell_type": "markdown",
   "metadata": {
    "id": "MO6wKpy5trG5"
   },
   "source": [
    "# Data Loading\n",
    "\n"
   ]
  },
  {
   "cell_type": "markdown",
   "metadata": {
    "id": "oKrDUv0ft0Yj"
   },
   "source": [
    "Pandas support many data loading scheme and Data sources\n",
    "\n",
    "There are many format that the pandas support\n",
    "\n",
    "Start by the very simple one, the csv file\n",
    "\n",
    "csv is standed for comma seperate value, the value is seperated by the comma you can see the example [here](./examples/example.csv)\n",
    "\n",
    "The ex1.csv is provided n the examples folder\n",
    "\n",
    "you can check the content using notepads or in IDEs"
   ]
  },
  {
   "cell_type": "markdown",
   "metadata": {
    "id": "BUjZxsfQwzGc"
   },
   "source": [
    "Then we create the dataframe from the given csv file\n",
    "```python\n",
    "df = pd.read_csv('examples/ex1.csv')\n",
    "df\n",
    "```\n"
   ]
  },
  {
   "cell_type": "code",
   "metadata": {
    "id": "B5XYZOMIw_oR",
    "colab": {
     "base_uri": "https://localhost:8080/",
     "height": 143
    },
    "outputId": "f7a8aa47-f64a-4301-eb22-ce01a9e24087"
   },
   "source": [],
   "execution_count": null,
   "outputs": []
  },
  {
   "cell_type": "markdown",
   "metadata": {
    "id": "DW6CKoAOxHmU"
   },
   "source": [
    "Some file may not contain a header row, for example this [file ex2.csv](./examples/ex2.csv)\n",
    "\n",
    "We can assign default column names\n",
    "```python\n",
    "pd.read_csv('examples/ex2.csv', header=None)\n",
    "```"
   ]
  },
  {
   "cell_type": "code",
   "metadata": {
    "id": "wH2ZlWDgxgcv",
    "colab": {
     "base_uri": "https://localhost:8080/",
     "height": 143
    },
    "outputId": "d141a1b6-b660-49a8-f1c5-1d8f65224b32"
   },
   "source": [],
   "execution_count": null,
   "outputs": []
  },
  {
   "cell_type": "markdown",
   "metadata": {
    "id": "59r1sdLAxg0F"
   },
   "source": [
    "or we can set the name ourselves\n",
    "```python\n",
    "pd.read_csv('examples/ex2.csv', names=['a','b','c','d','message'])\n",
    "```\n"
   ]
  },
  {
   "cell_type": "code",
   "metadata": {
    "id": "a_pxyHV0xs0j",
    "colab": {
     "base_uri": "https://localhost:8080/",
     "height": 143
    },
    "outputId": "eae1ac0f-09a1-41d4-a1b6-2b7a53f855f1"
   },
   "source": [],
   "execution_count": null,
   "outputs": []
  },
  {
   "cell_type": "markdown",
   "metadata": {
    "id": "MvoRdtYNx9tZ"
   },
   "source": [
    "What if we missed the column name, what will be return?\n",
    "```python\n",
    "pd.read_csv('examples/ex2.csv', names=['c','d','message'])\n",
    "```"
   ]
  },
  {
   "cell_type": "code",
   "metadata": {
    "id": "Ct6lc_yy10b8",
    "colab": {
     "base_uri": "https://localhost:8080/",
     "height": 172
    },
    "outputId": "600d165d-6aef-4adb-c71e-b242be391555"
   },
   "source": [],
   "execution_count": null,
   "outputs": []
  },
  {
   "cell_type": "markdown",
   "metadata": {
    "id": "E8KqeGK-100B"
   },
   "source": [
    "If we want to form the hierachical index from multiple column, you can use the [file csv_mindex.csv](./examples/csv_mindex.csv), and the code as given\n",
    "```python\n",
    "parsed = pd.read_csv('examples/csv_mindex.csv')\n",
    "parsed\n",
    "```"
   ]
  },
  {
   "cell_type": "code",
   "metadata": {
    "id": "ZevrXajOMKik",
    "colab": {
     "base_uri": "https://localhost:8080/",
     "height": 300
    },
    "outputId": "84291732-af04-4967-8b6d-876412e86b72"
   },
   "source": [],
   "execution_count": null,
   "outputs": []
  },
  {
   "cell_type": "markdown",
   "source": [
    "the index column can be set\n",
    "```python\n",
    "parsed = pd.read_csv('examples/csv_mindex.csv',\n",
    "                     index_col=['key1','key2'])\n",
    "parsed\n",
    "```"
   ],
   "metadata": {
    "collapsed": false
   }
  },
  {
   "cell_type": "code",
   "metadata": {
    "id": "8nccPu7u2IDK",
    "colab": {
     "base_uri": "https://localhost:8080/",
     "height": 279
    },
    "outputId": "fc44505a-7cdb-41e7-a642-230b4f3b7869"
   },
   "source": [],
   "execution_count": null,
   "outputs": []
  },
  {
   "cell_type": "markdown",
   "metadata": {
    "id": "3cLFlmh_51gO"
   },
   "source": [
    "To write the csv from pandas, symply use to_csv method.\n"
   ]
  },
  {
   "cell_type": "markdown",
   "metadata": {
    "id": "tpO9EtIx6P23"
   },
   "source": [
    "read the data from the example file\n",
    "```python\n",
    "data = pd.read_csv('examples/ex3.csv')\n",
    "data\n",
    "```"
   ]
  },
  {
   "cell_type": "code",
   "metadata": {
    "id": "PYWUWwTP6Jsy",
    "colab": {
     "base_uri": "https://localhost:8080/",
     "height": 143
    },
    "outputId": "d01cd1a7-014c-4daf-a93b-8e32d8da9aed"
   },
   "source": [],
   "execution_count": null,
   "outputs": []
  },
  {
   "cell_type": "markdown",
   "metadata": {
    "id": "iYTfl75q6sfb"
   },
   "source": [
    "Write out the file\n",
    "\n",
    "then refresh the Files pane to see the output\n",
    "```python\n",
    "data.to_csv('examples/out.csv')\n",
    "```"
   ]
  },
  {
   "cell_type": "code",
   "metadata": {
    "id": "FFX4XIQ165DB"
   },
   "source": [],
   "execution_count": null,
   "outputs": []
  },
  {
   "cell_type": "markdown",
   "source": [
    "Check the content of the file in out.csv, and ex3.csv"
   ],
   "metadata": {
    "collapsed": false
   }
  },
  {
   "cell_type": "markdown",
   "metadata": {
    "id": "QE-EP9Gs7C01"
   },
   "source": [
    "We can redirect the output to the console to see the output before writing the file, using the `sys.stdout` instead of the file name\n",
    "In addition\n",
    "\n",
    "We can change the seperator using the given snippet\n",
    "\n",
    "and handle with the NaN data using the `na_rep` parameter\n",
    "```python\n",
    "import  sys\n",
    "data.to_csv(sys.stdout)\n",
    "data.to_csv(sys.stdout,sep='|')\n",
    "\n",
    "data.to_csv(sys.stdout, na_rep = 'NULL')\n",
    "```"
   ]
  },
  {
   "cell_type": "code",
   "metadata": {
    "id": "iNexkL__7XeN",
    "colab": {
     "base_uri": "https://localhost:8080/"
    },
    "outputId": "a1cf612f-8572-4744-f1f3-20233796b593"
   },
   "source": [],
   "execution_count": null,
   "outputs": []
  },
  {
   "cell_type": "markdown",
   "metadata": {
    "id": "AanCoAaY7u3i"
   },
   "source": [
    "# Handons loading csv\n"
   ]
  },
  {
   "cell_type": "markdown",
   "metadata": {
    "id": "xqkrWU4W7ydZ"
   },
   "source": [
    "With the given [file sample.csv](./examples/samples.csv), create the DataFrame which is similar to the data frame in\n",
    "\n",
    "![image-20230806173037975](./assets/image-20230806173037975.png)\n"
   ]
  },
  {
   "cell_type": "code",
   "metadata": {
    "id": "ihfcN9i983xJ",
    "colab": {
     "base_uri": "https://localhost:8080/",
     "height": 551
    },
    "outputId": "034e10c6-8196-471e-941f-04e6281a9f72"
   },
   "source": [],
   "execution_count": null,
   "outputs": []
  },
  {
   "cell_type": "markdown",
   "metadata": {
    "id": "c1IUPr8D9zgX"
   },
   "source": [
    "and then select only the index which total score (the summation score in section 1,2,3,4 is more than 50 and write out to the file name out1.csv)"
   ]
  },
  {
   "cell_type": "code",
   "execution_count": null,
   "outputs": [],
   "source": [],
   "metadata": {
    "collapsed": false
   }
  },
  {
   "cell_type": "markdown",
   "metadata": {
    "id": "W2ETpRfs-Xne"
   },
   "source": [
    "# Reading the Excel file\n",
    "\n"
   ]
  },
  {
   "cell_type": "markdown",
   "metadata": {
    "id": "lzdZE6RY-sD1"
   },
   "source": [
    "One of the popular data source is the excel file\n",
    "We can get the pandas retrive the data to the data frame for further implementation.\n",
    "\n",
    "With the [example file](examples/ex1.xlsx), load the file as given\n"
   ]
  },
  {
   "cell_type": "markdown",
   "source": [
    "Then we have to import the excel file using the given code\n",
    "```python\n",
    "xlsx = pd.ExcelFile('examples/ex1.xlsx')\n",
    "xlsx\n",
    "```\n",
    "**note** if there are some errors occur, please find the way to fix it :P"
   ],
   "metadata": {
    "collapsed": false
   }
  },
  {
   "cell_type": "code",
   "metadata": {
    "id": "pwtSBo6d-6h5",
    "colab": {
     "base_uri": "https://localhost:8080/"
    },
    "outputId": "bad1f7c2-f009-4665-dde4-e9c2fc438056"
   },
   "source": [],
   "execution_count": null,
   "outputs": []
  },
  {
   "cell_type": "markdown",
   "metadata": {
    "id": "4WCifZHy_E7O"
   },
   "source": [
    "Then we have to select which sheet we want to retrieve data\n",
    "```python\n",
    "df = pd.read_excel(xlsx,'Sheet1')\n",
    "df\n",
    "```"
   ]
  },
  {
   "cell_type": "code",
   "metadata": {
    "id": "qii-t-qp_MQa",
    "colab": {
     "base_uri": "https://localhost:8080/",
     "height": 143
    },
    "outputId": "f0c7ba80-2dab-4b4f-a10c-9fc3e6a75b67"
   },
   "source": [],
   "execution_count": null,
   "outputs": []
  },
  {
   "cell_type": "markdown",
   "metadata": {
    "id": "2RdgTLyK_4We"
   },
   "source": [
    "`The unnamed`: column is shown as there is some special data is stored in the excel file, so we can filter it using the given code\n",
    "```python\n",
    "df = df[df.filter(regex='^(?!Unnamed)').columns]\n",
    "df\n",
    "```"
   ]
  },
  {
   "cell_type": "code",
   "metadata": {
    "id": "QfgI1Lyy_sP6",
    "colab": {
     "base_uri": "https://localhost:8080/",
     "height": 143
    },
    "outputId": "9f720fda-935e-4659-961a-7cd944933eae"
   },
   "source": [],
   "execution_count": null,
   "outputs": []
  },
  {
   "cell_type": "markdown",
   "metadata": {
    "id": "76OtVDvpASUP"
   },
   "source": [
    "Or we can make the read_excel shorter than call 2 times as given\n",
    "```python\n",
    "frame = pd.read_excel('examples/ex1.xlsx', 'Sheet1')\n",
    "frame\n",
    "```\n"
   ]
  },
  {
   "cell_type": "code",
   "metadata": {
    "id": "mrc0JMtPAYQ0",
    "colab": {
     "base_uri": "https://localhost:8080/",
     "height": 143
    },
    "outputId": "6455fa32-9e65-4477-86bd-bdc06049cf42"
   },
   "source": [],
   "execution_count": null,
   "outputs": []
  },
  {
   "cell_type": "markdown",
   "metadata": {
    "id": "5JhlY4LtCedE"
   },
   "source": [
    "If the data frame is in the first row, and first column, we can specified the start row, and column.\n",
    "For example, the given [file](https://drive.google.com/open?id=1FAwZewZknR-eQKTVJELoVrpKdpxjEQ1U)\n",
    "\n",
    "```python\n",
    "frame = pd.read_excel('examples/samples.xlsx',sheet_name='Sheet1',\n",
    "                      index_col= 0,usecols=\"B:K\",\n",
    "\n",
    "                      skiprows=4,nrows=33)\n",
    "frame\n",
    "```"
   ]
  },
  {
   "cell_type": "code",
   "metadata": {
    "id": "GDMh0_R8CeNU",
    "colab": {
     "base_uri": "https://localhost:8080/",
     "height": 1000
    },
    "outputId": "17b6a0b1-8d3b-4e8f-854b-26dfbcec9c7c"
   },
   "source": [
    "\n"
   ],
   "execution_count": null,
   "outputs": []
  },
  {
   "cell_type": "markdown",
   "metadata": {
    "id": "rCb9kkT6Ep2_"
   },
   "source": [
    "**Hint,** to show all row you may set it by\n",
    "\n",
    "\n",
    "The default value is 10\n",
    "```python\n",
    "pd.set_option('display.max_rows', None)\n",
    "```"
   ]
  },
  {
   "cell_type": "code",
   "metadata": {
    "id": "el7nMopcEuiq",
    "colab": {
     "base_uri": "https://localhost:8080/",
     "height": 1000
    },
    "outputId": "cd94ee54-5cc5-4243-c7c9-5cab71c4c4ce"
   },
   "source": [],
   "execution_count": null,
   "outputs": []
  },
  {
   "cell_type": "markdown",
   "metadata": {
    "id": "qFM_AF1hN8X4"
   },
   "source": [
    "### Task\n",
    "Frame the sample.xlsx data frame.\n",
    "\n",
    "Try to show the students whose grade is C, C+\n",
    "\n",
    "\n",
    "then show the lowest score to get C, the highest score to get C+"
   ]
  },
  {
   "cell_type": "code",
   "metadata": {
    "id": "hBa0FdBwN4TO",
    "colab": {
     "base_uri": "https://localhost:8080/",
     "height": 536
    },
    "outputId": "46fdaeeb-6e87-4c6f-8f4e-be81d6d84a2a"
   },
   "source": [],
   "execution_count": null,
   "outputs": []
  },
  {
   "cell_type": "markdown",
   "metadata": {
    "id": "GtIoTFHeFHiy"
   },
   "source": [
    "# Getting data from Web APIs\n"
   ]
  },
  {
   "cell_type": "markdown",
   "metadata": {
    "id": "DLcNzreXFKTb"
   },
   "source": [
    "Some web site provide the WebAPIs which we can receive data using json object\n",
    "Try to click on this [link](https://api.github.com/repos/pandas-dev/pandas/issues)\n",
    "\n",
    "you will see the list of last 30 GitHub issue for pandas on Github,\n",
    "we can add read the data using the Python as given\n",
    "```python\n",
    "import requests\n",
    "url = 'https://api.github.com/repos/pandas-dev/pandas/issues'\n",
    "resp = requests.get(url)\n",
    "resp\n",
    "```\n"
   ]
  },
  {
   "cell_type": "code",
   "metadata": {
    "id": "BzKae9RkFniZ",
    "colab": {
     "base_uri": "https://localhost:8080/"
    },
    "outputId": "2ca81835-0235-4a60-bb3e-c9bc0b816022"
   },
   "source": [],
   "execution_count": null,
   "outputs": []
  },
  {
   "cell_type": "markdown",
   "metadata": {
    "id": "ifk8K5cnFtyi"
   },
   "source": [
    "The response object show the response code (200 means it is successfully downloaded)\n",
    "\n",
    "To read the data which come with it. Use the json method\n",
    "```python\n",
    "data = resp.json()\n",
    "data\n",
    "```"
   ]
  },
  {
   "cell_type": "code",
   "metadata": {
    "id": "k97b4jSYF30e",
    "colab": {
     "base_uri": "https://localhost:8080/"
    },
    "outputId": "e45ec90e-2ec3-4302-ffdb-618346eabc6e"
   },
   "source": [],
   "execution_count": null,
   "outputs": []
  },
  {
   "cell_type": "markdown",
   "metadata": {
    "id": "Kwa2LByaF7Ui"
   },
   "source": [
    "To filter the data, The json is similar to the list of map data structure, we use the index, and key to get the data\n",
    "```python\n",
    "data[0]['title']\n",
    "```"
   ]
  },
  {
   "cell_type": "code",
   "metadata": {
    "id": "62GXBjWZGDj7",
    "colab": {
     "base_uri": "https://localhost:8080/",
     "height": 53
    },
    "outputId": "c99cd6c7-fe87-4721-bf0f-835fd3c3fa33"
   },
   "source": [],
   "execution_count": null,
   "outputs": []
  },
  {
   "cell_type": "markdown",
   "metadata": {
    "id": "GT4gzgrhGJN2"
   },
   "source": [
    "So we can create the the dataframe from the given json object\n",
    "```python\n",
    "issues = pd.DataFrame(data, columns=['number','title',\n",
    "                                     'labels','state'])\n",
    "issues\n",
    "```"
   ]
  },
  {
   "cell_type": "code",
   "metadata": {
    "id": "MteveUWiGWEM",
    "colab": {
     "base_uri": "https://localhost:8080/",
     "height": 624
    },
    "outputId": "ecab2139-6b67-422f-abaa-6818785d000b"
   },
   "source": [],
   "execution_count": null,
   "outputs": []
  },
  {
   "cell_type": "markdown",
   "metadata": {
    "id": "125N7T4EHRaE"
   },
   "source": [
    "Getting data from other source\n",
    "---\n",
    "Pandas provide the tools to get historic data from many remote data source [link text](https://pydata.github.io/pandas-datareader/remote_data.html)\n",
    "Some of them required the key, some are not. You can see the usage in the given link.\n",
    "\n",
    "\n",
    "![image.png](data:image/png;base64,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)\n",
    "\n",
    "What you have to do is just add the code to the correct provider\n",
    "\n",
    "The list of datasource is also [shown](https://github.com/wilsonfreitas/awesome-quant#data-sources)"
   ]
  },
  {
   "cell_type": "code",
   "metadata": {
    "id": "1D_zH3EOMTxY"
   },
   "source": [
    "web.get"
   ],
   "execution_count": null,
   "outputs": []
  }
 ]
}
