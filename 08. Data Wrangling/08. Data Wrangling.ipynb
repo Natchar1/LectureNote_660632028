{
 "nbformat": 4,
 "nbformat_minor": 0,
 "metadata": {
  "colab": {
   "provenance": [],
   "collapsed_sections": [
    "zdrqfmNQmG6H",
    "9lTI4Xn7iUhM",
    "8lywjRMgwH6Z"
   ]
  },
  "kernelspec": {
   "name": "python3",
   "language": "python",
   "display_name": "Python 3 (ipykernel)"
  }
 },
 "cells": [
  {
   "cell_type": "markdown",
   "source": [
    "# Combine and Merging Datasets\n",
    "\n",
    "data contained can be combined together in a number of ways\n",
    "\n"
   ],
   "metadata": {
    "collapsed": false
   }
  },
  {
   "cell_type": "markdown",
   "metadata": {
    "id": "gXNPn9trfJnD"
   },
   "source": [
    "## Database-Style Dataframe joins\n",
    "\n",
    "\n",
    "The same key data are bound.\n",
    "Look at the example\n"
   ]
  },
  {
   "cell_type": "code",
   "metadata": {
    "id": "qDX-1I9rHPJJ"
   },
   "source": [
    "import numpy as np\n",
    "import pandas as pd\n",
    "pd.options.display.max_rows = 20\n",
    "np.random.seed(12345)\n",
    "import matplotlib.pyplot as plt\n",
    "plt.rc('figure', figsize=(10, 6))\n",
    "np.set_printoptions(precision=4, suppress=True)"
   ],
   "execution_count": null,
   "outputs": []
  },
  {
   "cell_type": "markdown",
   "source": [
    "```python\n",
    "df1 = pd.DataFrame({'key': ['b', 'b', 'a', 'c', 'a', 'a', 'b'],\n",
    "                    'data1': range(7)})\n",
    "df1\n",
    "```"
   ],
   "metadata": {
    "collapsed": false
   }
  },
  {
   "cell_type": "code",
   "metadata": {
    "id": "u4REj_9efaln",
    "colab": {
     "base_uri": "https://localhost:8080/",
     "height": 269
    },
    "outputId": "393aaaae-343f-4c1b-abe9-e4dfe4341feb"
   },
   "source": [],
   "execution_count": null,
   "outputs": []
  },
  {
   "cell_type": "markdown",
   "source": [
    "```python\n",
    "df2 = pd.DataFrame({'key': ['a', 'b', 'd'],\n",
    "                    'data2': range(3)})\n",
    "df2\n",
    "```"
   ],
   "metadata": {
    "collapsed": false
   }
  },
  {
   "cell_type": "code",
   "metadata": {
    "id": "YS6R-YrUff3X",
    "colab": {
     "base_uri": "https://localhost:8080/",
     "height": 143
    },
    "outputId": "dd0ab86e-6d80-4c41-d847-8ee8dff52e87"
   },
   "source": [],
   "execution_count": null,
   "outputs": []
  },
  {
   "cell_type": "markdown",
   "source": [
    "To merge two Dataframe with the same index \n",
    "```python\n",
    "pd.merge(df1,df2)\n",
    "```"
   ],
   "metadata": {
    "collapsed": false
   }
  },
  {
   "cell_type": "code",
   "metadata": {
    "id": "zLaU7-wsfosd",
    "colab": {
     "base_uri": "https://localhost:8080/",
     "height": 332
    },
    "outputId": "552d626e-ffe5-4e3c-aef7-ced7ebddb190"
   },
   "source": [],
   "execution_count": null,
   "outputs": []
  },
  {
   "cell_type": "markdown",
   "metadata": {
    "id": "2BjHP4E9gUaD"
   },
   "source": [
    "Without setting anything. The key will used from the columns which is the same name in both data frame. The values which are the same in both data are provided, and the Cartesian products of the other values are provided as the data.\n",
    "\n",
    "It should be better if we specified the key name\n",
    "\n",
    "```python\n",
    "pd.merge(df1,df2,on='key')\n",
    "```"
   ]
  },
  {
   "cell_type": "code",
   "metadata": {
    "id": "ApusRAlvhJiz",
    "colab": {
     "base_uri": "https://localhost:8080/",
     "height": 332
    },
    "outputId": "b618fd16-62aa-489b-afcf-231f8178d967"
   },
   "source": [],
   "execution_count": null,
   "outputs": []
  },
  {
   "cell_type": "markdown",
   "metadata": {
    "id": "k-tJ526BhRDR"
   },
   "source": [
    "we can merge on the different column name\n",
    "\n",
    "```python\n",
    "df3 = pd.DataFrame({'lkey': ['b', 'b', 'a', 'c', 'a', 'a', 'b'],\n",
    "                    'data1': range(7)})\n",
    "df4 = pd.DataFrame({'rkey': ['a', 'b', 'd'],\n",
    "                    'data2': range(3)})\n",
    "```"
   ]
  },
  {
   "cell_type": "code",
   "execution_count": null,
   "outputs": [],
   "source": [],
   "metadata": {
    "collapsed": false
   }
  },
  {
   "cell_type": "markdown",
   "source": [
    "### Work\n",
    "Form the given /file/studentlist.xlsx\n",
    "It is the Excel which provide the score of the students.\n",
    "Create the data frame which consist of the total score of Attendance(Midterm) score,and midterm score\n",
    "-> to get the new dataframe from the old dataframe column you may use this code\n",
    "` new = old[['A', 'C', 'D']].copy() `\n",
    "to change the specific column name you may use\n",
    "` rankings_pd.rename(columns = {'test':'TEST'}, inplace = True)`\n",
    "note: you do not have to set the student id column to be the index in this work"
   ],
   "metadata": {
    "collapsed": false
   }
  },
  {
   "cell_type": "code",
   "metadata": {
    "id": "we8HFEXPhXBf"
   },
   "source": [
    "\n"
   ],
   "execution_count": null,
   "outputs": []
  },
  {
   "cell_type": "markdown",
   "source": [
    "Check df3 and df4\n",
    "```python\n",
    "df3\n",
    "```"
   ],
   "metadata": {
    "collapsed": false
   }
  },
  {
   "cell_type": "code",
   "metadata": {
    "colab": {
     "base_uri": "https://localhost:8080/",
     "height": 269
    },
    "id": "60o9HTLoEki_",
    "outputId": "56ca3746-1f76-4cd7-b059-e6be03ba47e3"
   },
   "source": [],
   "execution_count": null,
   "outputs": []
  },
  {
   "cell_type": "markdown",
   "source": [
    "```python\n",
    "df4\n",
    "```"
   ],
   "metadata": {
    "collapsed": false
   }
  },
  {
   "cell_type": "code",
   "metadata": {
    "colab": {
     "base_uri": "https://localhost:8080/",
     "height": 143
    },
    "id": "nkn_dSJwEm-M",
    "outputId": "afe94a0f-358c-4728-8b00-7d488c090708"
   },
   "source": [],
   "execution_count": null,
   "outputs": []
  },
  {
   "cell_type": "markdown",
   "source": [
    "then try to merge df3 and df4\n",
    "```python\n",
    "pd.merge(df3,df4)\n",
    "```"
   ],
   "metadata": {
    "collapsed": false
   }
  },
  {
   "cell_type": "code",
   "metadata": {
    "colab": {
     "base_uri": "https://localhost:8080/",
     "height": 336
    },
    "id": "1pmWBZNKEua8",
    "outputId": "ce4d7f90-0097-425e-bbb8-b5532b698a5f"
   },
   "source": [],
   "execution_count": null,
   "outputs": []
  },
  {
   "cell_type": "markdown",
   "source": [
    "You may see that it's could not merge as there is no column which are the same key name.\n",
    "We can specify the column name which can be merge using the different name with the `left-on` and `right_on` argument\n",
    "```python\n",
    "pd.merge(df3, df4, left_on='lkey', right_on='rkey')\n",
    "```"
   ],
   "metadata": {
    "collapsed": false
   }
  },
  {
   "cell_type": "code",
   "metadata": {
    "id": "yDDheXdWhaai",
    "colab": {
     "base_uri": "https://localhost:8080/",
     "height": 238
    },
    "outputId": "f80296b2-58fc-4006-975d-b56ad683e82a"
   },
   "source": [],
   "execution_count": null,
   "outputs": []
  },
  {
   "cell_type": "markdown",
   "source": [
    "or \n",
    "```python\n",
    "pd.merge(df4, df3,  right_on='lkey',left_on='rkey')\n",
    "```"
   ],
   "metadata": {
    "collapsed": false
   }
  },
  {
   "cell_type": "code",
   "source": [],
   "metadata": {
    "colab": {
     "base_uri": "https://localhost:8080/",
     "height": 238
    },
    "id": "ge-3djK98URI",
    "outputId": "917facba-027c-4514-f2ad-a7cca7b0d646"
   },
   "execution_count": null,
   "outputs": []
  },
  {
   "cell_type": "markdown",
   "metadata": {
    "id": "IPazI1RLhhBb"
   },
   "source": [
    "You may see that c, and d is removed as it's not in the left data frame\n",
    "\n",
    "To use all data we use the outer argument\n",
    "```python\n",
    "pd.merge(df1,df2,how='outer')\n",
    "```"
   ]
  },
  {
   "cell_type": "code",
   "metadata": {
    "id": "HrnU1ep1hpX7",
    "colab": {
     "base_uri": "https://localhost:8080/",
     "height": 300
    },
    "outputId": "fe9ee87b-4b93-44ad-d057-1f87c8020116"
   },
   "source": [],
   "execution_count": null,
   "outputs": []
  },
  {
   "cell_type": "markdown",
   "metadata": {
    "id": "sNtccP7Ehx2i"
   },
   "source": [
    "You may try other argument to see the different\n",
    "![image-20230915053652812](./assets/image-20230915053652812.png)\n"
   ]
  },
  {
   "cell_type": "markdown",
   "source": [
    "inner join is the intersection of the data\n",
    "```python\n",
    "pd.merge(df1,df2,how='inner')\n",
    "```"
   ],
   "metadata": {
    "collapsed": false
   }
  },
  {
   "cell_type": "code",
   "metadata": {
    "id": "Dq-j6n-sh6IO",
    "colab": {
     "base_uri": "https://localhost:8080/",
     "height": 238
    },
    "outputId": "3b1d4a63-e4f8-49c2-dd3a-47556f76790c"
   },
   "source": [],
   "execution_count": null,
   "outputs": []
  },
  {
   "cell_type": "markdown",
   "source": [
    "left join is the left data frame\n",
    "```python\n",
    "pd.merge(df1,df2,how='left')\n",
    "```"
   ],
   "metadata": {
    "collapsed": false
   }
  },
  {
   "cell_type": "code",
   "metadata": {
    "id": "uSJmf9OIF34Y",
    "colab": {
     "base_uri": "https://localhost:8080/",
     "height": 269
    },
    "outputId": "89212eb3-b34a-4285-baae-25063876a3eb"
   },
   "source": [],
   "execution_count": null,
   "outputs": []
  },
  {
   "cell_type": "markdown",
   "metadata": {
    "id": "Ju7uB27hkGOO"
   },
   "source": [
    "we can merge with multiple keys by passing a list of columns\n",
    "try to create this given data frame\n",
    "```python\n",
    "left = pd.DataFrame({'key1': ['foo', 'foo', 'bar'],\n",
    "                     'key2': ['one', 'two', 'one'],\n",
    "                     'lval': [1, 2, 3]})\n",
    "right = pd.DataFrame({'key1': ['foo', 'foo', 'bar', 'bar'],\n",
    "                      'key2': ['one', 'one', 'one', 'two'],\n",
    "                      'rval': [4, 5, 6, 7]})\n",
    "```"
   ]
  },
  {
   "cell_type": "code",
   "metadata": {
    "id": "J7YdqpX9kk4H"
   },
   "source": [],
   "execution_count": null,
   "outputs": []
  },
  {
   "cell_type": "markdown",
   "source": [
    "then try to merge with the multiple keys\n",
    "```python\n",
    "pd.merge(left,right,on=['key1','key2'],how='outer')\n",
    "```"
   ],
   "metadata": {
    "collapsed": false
   }
  },
  {
   "cell_type": "code",
   "metadata": {
    "id": "aVjzio7wkqvF",
    "colab": {
     "base_uri": "https://localhost:8080/",
     "height": 206
    },
    "outputId": "ea4a29cc-52aa-4d95-8742-d05f22bbc3d3"
   },
   "source": [],
   "execution_count": null,
   "outputs": []
  },
  {
   "cell_type": "markdown",
   "metadata": {
    "id": "aFIKDtBqk12K"
   },
   "source": [
    "Some time if the name of the column may be collapse. (Same column name, but not the key)\n",
    "You may change the name of the column before merging directly, or you can set the suffix column\n",
    "the example of the problem is shown\n",
    "```python\n",
    "pd.merge(left, right, on='key1')\n",
    "```"
   ]
  },
  {
   "cell_type": "code",
   "metadata": {
    "id": "2aBjHvFzlwCd",
    "colab": {
     "base_uri": "https://localhost:8080/",
     "height": 238
    },
    "outputId": "7653b22c-5e39-4816-e785-af233bef94e1"
   },
   "source": [],
   "execution_count": null,
   "outputs": []
  },
  {
   "cell_type": "markdown",
   "source": [
    "the suffixes can be set by the `suffixes` argument\n",
    "```python\n",
    "pd.merge(left, right, on='key1', suffixes=('_left', '_right'))\n",
    "```"
   ],
   "metadata": {
    "collapsed": false
   }
  },
  {
   "cell_type": "code",
   "metadata": {
    "id": "pKVd-A2gl2E9",
    "colab": {
     "base_uri": "https://localhost:8080/",
     "height": 238
    },
    "outputId": "37827898-faf6-42e1-82e9-ba0b19229194"
   },
   "source": [],
   "execution_count": null,
   "outputs": []
  },
  {
   "cell_type": "markdown",
   "source": [
    "### Work\n",
    "The students have been withdrawn so they do not have the score, in addition the staff change some of the index name.\n",
    "So please try to add the attendance midterm score to the previous pandas\n"
   ],
   "metadata": {
    "collapsed": false
   }
  },
  {
   "cell_type": "code",
   "execution_count": null,
   "outputs": [],
   "source": [],
   "metadata": {
    "collapsed": false
   }
  },
  {
   "cell_type": "markdown",
   "metadata": {
    "id": "zdrqfmNQmG6H"
   },
   "source": [
    "## Merging by index\n",
    "\n",
    "Some time you may found that the part you want to merge is the index.\n",
    "You can set the `left_index=True` or `right_index=True` to indicate that you need to use the index as the merge key\n",
    "\n",
    "try this source code\n",
    "```python\n",
    "left1 = pd.DataFrame({'key': ['a', 'b', 'a', 'a', 'b', 'c'],\n",
    "                      'value': range(6)})\n",
    "right1 = pd.DataFrame({'group_val': [3.5, 7]}, index=['a', 'b'])\n",
    "```"
   ]
  },
  {
   "cell_type": "code",
   "metadata": {
    "id": "p7S05BGOmYcO"
   },
   "source": [],
   "execution_count": null,
   "outputs": []
  },
  {
   "cell_type": "markdown",
   "source": [
    "then try to merge with the index\n",
    "```python\n",
    "pd.merge(left1, right1, left_on='key', right_index=True)\n",
    "```"
   ],
   "metadata": {
    "collapsed": false
   }
  },
  {
   "cell_type": "code",
   "metadata": {
    "id": "MZxkRjdimiyq",
    "colab": {
     "base_uri": "https://localhost:8080/",
     "height": 206
    },
    "outputId": "653bdfd9-3d2d-4fae-adf6-5826fadc9308"
   },
   "source": [],
   "execution_count": null,
   "outputs": []
  },
  {
   "cell_type": "markdown",
   "source": [
    "the how can be applied as the same as the normal merge\n",
    "```python\n",
    "pd.merge(left1, right1, left_on='key', right_index=True,how ='outer')\n",
    "```"
   ],
   "metadata": {
    "collapsed": false
   }
  },
  {
   "cell_type": "code",
   "metadata": {
    "id": "k9SfYKKrgt0g",
    "colab": {
     "base_uri": "https://localhost:8080/",
     "height": 238
    },
    "outputId": "cb9d1ecc-2fec-4876-c1ac-11d94d9f2229"
   },
   "source": [],
   "execution_count": null,
   "outputs": []
  },
  {
   "cell_type": "markdown",
   "metadata": {
    "id": "KzRXXAePm6NV"
   },
   "source": [
    "With hierarchically index, joining on index can be used as multiple-key merge\n",
    "```python\n",
    "lefth = pd.DataFrame({'key1': ['Ohio', 'Ohio', 'Ohio',\n",
    "                               'Nevada', 'Nevada'],\n",
    "                      'key2': [2000, 2001, 2002, 2001, 2002],\n",
    "                      'data': np.arange(5.)})\n",
    "righth = pd.DataFrame(np.arange(12).reshape((6, 2)),\n",
    "                        index=[['Nevada', 'Nevada', 'Ohio', 'Ohio',\n",
    "                                'Ohio', 'Ohio'],\n",
    "                                 [2001, 2000, 2000, 2000, 2001, 2002]],\n",
    "                        columns=['event1', 'event2'])\n",
    " ```"
   ]
  },
  {
   "cell_type": "code",
   "metadata": {
    "id": "5CmbYHGsnAsn"
   },
   "source": [],
   "execution_count": null,
   "outputs": []
  },
  {
   "cell_type": "markdown",
   "source": [
    "The merge with multiple column can be set with the column, and the key index\n",
    "```python\n",
    "pd.merge(lefth, righth, left_on=['key1', 'key2'], right_index=True)\n",
    "```"
   ],
   "metadata": {
    "collapsed": false
   }
  },
  {
   "cell_type": "code",
   "metadata": {
    "id": "-Kc3gBaonJ8Q",
    "colab": {
     "base_uri": "https://localhost:8080/"
    },
    "outputId": "cf44172d-eac5-4a9f-fefa-c35a400719fd"
   },
   "source": [],
   "execution_count": null,
   "outputs": []
  },
  {
   "cell_type": "markdown",
   "source": [
    "with the `outer` join all data will be merged\n",
    "```python\n",
    "pd.merge(lefth, righth, left_on=['key1', 'key2'],\n",
    "         right_index=True, how='outer')\n",
    "```"
   ],
   "metadata": {
    "collapsed": false
   }
  },
  {
   "cell_type": "code",
   "metadata": {
    "id": "G8ISj787nNDl",
    "colab": {
     "base_uri": "https://localhost:8080/"
    },
    "outputId": "1997e351-b7f7-451a-c7cc-fa26a376956a",
    "is_executing": true
   },
   "source": [],
   "execution_count": null,
   "outputs": []
  },
  {
   "cell_type": "markdown",
   "source": [
    "### Work\n",
    "now setting the index to the Dataframe which we have done so far.\n",
    "then add the rest of the score so that we can handle the overall score with in Dataframe"
   ],
   "metadata": {
    "collapsed": false
   }
  },
  {
   "cell_type": "code",
   "execution_count": null,
   "outputs": [],
   "source": [],
   "metadata": {
    "collapsed": false
   }
  },
  {
   "cell_type": "markdown",
   "source": [
    "Now find the name of the students whose name is in the top 10 of the total score."
   ],
   "metadata": {
    "collapsed": false
   }
  },
  {
   "cell_type": "markdown",
   "metadata": {
    "id": "9lTI4Xn7iUhM"
   },
   "source": [
    "## Concatenating Along an Axis"
   ]
  },
  {
   "cell_type": "markdown",
   "metadata": {
    "id": "vyJkDr4qiUZM"
   },
   "source": [
    "Concatenating data is to concat data to the same data.\n",
    "\n",
    "An Axis mean concat the column data\n",
    "\n",
    "In NumPy concatenate data concate it in each columns as shown in example"
   ]
  },
  {
   "cell_type": "markdown",
   "source": [
    "```python\n",
    "arr = np.arange(12).reshape((3, 4))\n",
    "arr\n",
    "```"
   ],
   "metadata": {
    "collapsed": false
   }
  },
  {
   "cell_type": "code",
   "metadata": {
    "id": "mqZRaRDZnmrr",
    "colab": {
     "base_uri": "https://localhost:8080/"
    },
    "outputId": "06090c17-80d5-4a8d-db0c-310884c9e933",
    "is_executing": true
   },
   "source": [],
   "execution_count": null,
   "outputs": []
  },
  {
   "cell_type": "markdown",
   "source": [
    "We can concat the arrays by using the `np.concatenate` function\n",
    "```python\n",
    "np.concatenate([arr, arr])\n",
    "```"
   ],
   "metadata": {
    "collapsed": false
   }
  },
  {
   "cell_type": "code",
   "source": [],
   "metadata": {
    "colab": {
     "base_uri": "https://localhost:8080/"
    },
    "id": "mc3du1F4CWqX",
    "outputId": "123651f4-8c4c-4fe9-d155-166c83944c10",
    "is_executing": true
   },
   "execution_count": null,
   "outputs": []
  },
  {
   "cell_type": "markdown",
   "source": [
    "we can concatenate the array in the different axis by passing the axis argument\n",
    "```python\n",
    "np.concatenate([arr, arr], axis=1)\n",
    "```"
   ],
   "metadata": {
    "collapsed": false
   }
  },
  {
   "cell_type": "code",
   "metadata": {
    "id": "i2zh_dyinp8b",
    "colab": {
     "base_uri": "https://localhost:8080/"
    },
    "outputId": "f8adcdbe-7c9f-4340-b211-58a28ad8b13f",
    "is_executing": true
   },
   "source": [],
   "execution_count": null,
   "outputs": []
  },
  {
   "cell_type": "markdown",
   "metadata": {
    "id": "PjPdmt5JnvtK"
   },
   "source": [
    "In Pandas, there are many concerns before concatination\n",
    "\n",
    "* If the objects are indexed differently on the other axes, should we combine the distinct elements in these axes or use only the shared values (the intersection)?\n",
    "* Do the concatenated chunks of data need to be identifiable in the resulting object?\n",
    "* Does the “concatenation axis” contain data that needs to be preserved? In many cases, the default integer labels in a DataFrame are best discarded during concatenation.\n",
    "\n",
    "try creating a series\n",
    "\n",
    "```python\n",
    "s1 = pd.Series([0, 1], index=['a', 'b'])\n",
    "s2 = pd.Series([2, 3, 4], index=['c', 'd', 'e'])\n",
    "s3 = pd.Series([5, 6], index=['f', 'g'])\n",
    "```"
   ]
  },
  {
   "cell_type": "code",
   "metadata": {
    "id": "QyBbDF95pFH8",
    "is_executing": true
   },
   "source": [],
   "execution_count": null,
   "outputs": []
  },
  {
   "cell_type": "markdown",
   "metadata": {
    "id": "kw3hSYDJpVgc"
   },
   "source": [
    "Then try the simple concat\n",
    "```python\n",
    "pd.concat([s1, s2, s3])\n",
    "```"
   ]
  },
  {
   "cell_type": "code",
   "metadata": {
    "id": "egf7lxhNpasP",
    "colab": {
     "base_uri": "https://localhost:8080/"
    },
    "outputId": "3bcaba1e-2613-4e13-f669-524a5ebaa217",
    "is_executing": true
   },
   "source": [],
   "execution_count": null,
   "outputs": []
  },
  {
   "cell_type": "markdown",
   "metadata": {
    "id": "eTxpoDjppfTU"
   },
   "source": [
    "and then concat on Axis\n",
    "```python\n",
    "pd.concat([s1, s2, s3], axis=1)\n",
    "```"
   ]
  },
  {
   "cell_type": "code",
   "metadata": {
    "id": "wpBF8InEphR4",
    "colab": {
     "base_uri": "https://localhost:8080/",
     "height": 269
    },
    "outputId": "b3aed102-600e-4f68-c687-72cc089b8095"
   },
   "source": [],
   "execution_count": null,
   "outputs": []
  },
  {
   "cell_type": "markdown",
   "metadata": {
    "id": "Fj4otSESt80z"
   },
   "source": [
    "You may name each of the columns by the key column\n",
    "```python\n",
    "pd.concat([s1, s2, s3], axis=1, keys=['one', 'two', 'three'])\n",
    "```"
   ]
  },
  {
   "cell_type": "code",
   "metadata": {
    "id": "Y08laeWMspmB",
    "colab": {
     "base_uri": "https://localhost:8080/"
    },
    "outputId": "ffc246b7-69e9-4b70-dedc-4084aa5fa799",
    "is_executing": true
   },
   "source": [],
   "execution_count": null,
   "outputs": []
  },
  {
   "cell_type": "markdown",
   "metadata": {
    "id": "BKtVPKUWpvYu"
   },
   "source": [
    "You may notice that each series are concat as a new column.\n",
    "\n",
    "This we can say as the union case as the data that combined all data (and NaN has been added to complete the data series)\n",
    "\n",
    "To intersect them, you may passing `join='inner'`\n",
    "\n",
    "see the following example\n",
    "```python\n",
    "s4 = pd.concat([s1, s3])\n",
    "s4\n",
    "```"
   ]
  },
  {
   "cell_type": "code",
   "metadata": {
    "id": "agAdR2t6qP-7",
    "colab": {
     "base_uri": "https://localhost:8080/"
    },
    "outputId": "e4bd657f-faa0-4c69-8231-e802e6631afc"
   },
   "source": [],
   "execution_count": null,
   "outputs": []
  },
  {
   "cell_type": "markdown",
   "source": [
    "if we concat in the different axis\n",
    "```python\n",
    "pd.concat([s1, s4], axis=1)\n",
    "```"
   ],
   "metadata": {
    "collapsed": false
   }
  },
  {
   "cell_type": "code",
   "metadata": {
    "id": "chIzPhGxqTmr",
    "colab": {
     "base_uri": "https://localhost:8080/"
    },
    "outputId": "4df5372e-25c6-4e5e-d42f-390cb2dd1a97",
    "is_executing": true
   },
   "source": [],
   "execution_count": null,
   "outputs": []
  },
  {
   "cell_type": "code",
   "metadata": {
    "id": "tAOxJmNSqdJI",
    "colab": {
     "base_uri": "https://localhost:8080/"
    },
    "outputId": "bfe2e74e-24b3-4991-8785-d6ad1ee685a1",
    "is_executing": true
   },
   "source": [],
   "execution_count": null,
   "outputs": []
  },
  {
   "cell_type": "markdown",
   "source": [
    "then try the inner join\n",
    "```python\n",
    "pd.concat([s1, s4], axis=1, join='inner')\n",
    "```"
   ],
   "metadata": {
    "collapsed": false
   }
  },
  {
   "cell_type": "code",
   "metadata": {
    "id": "tUnc5X8AqYYk",
    "colab": {
     "base_uri": "https://localhost:8080/"
    },
    "outputId": "ea324f38-3caf-45dc-e69b-5411befcf5de",
    "is_executing": true
   },
   "source": [],
   "execution_count": null,
   "outputs": []
  },
  {
   "cell_type": "markdown",
   "metadata": {
    "id": "yHvs8dUoq0RA"
   },
   "source": [
    "we can provide the hierarchical index of the search as given\n",
    "```python\n",
    "result = pd.concat([s1, s1, s3], keys=['one', 'two', 'three'])\n",
    "result\n",
    "```\n",
    "\n",
    "\n"
   ]
  },
  {
   "cell_type": "code",
   "metadata": {
    "id": "MNwjZAORsdY7",
    "colab": {
     "base_uri": "https://localhost:8080/"
    },
    "outputId": "02f12e68-d98c-4667-c160-971cb6bafaba",
    "is_executing": true
   },
   "source": [],
   "execution_count": null,
   "outputs": []
  },
  {
   "cell_type": "markdown",
   "metadata": {
    "id": "c6jNgkTY_nSa"
   },
   "source": [
    "we also use the unstack() to show all data\n",
    "```python\n",
    "result.unstack()\n",
    "```"
   ]
  },
  {
   "cell_type": "code",
   "metadata": {
    "id": "w7gnPxMGuNux",
    "colab": {
     "base_uri": "https://localhost:8080/"
    },
    "outputId": "c5f04b83-6f16-48d4-fe6c-85f3bfd6cbf8",
    "is_executing": true
   },
   "source": [],
   "execution_count": null,
   "outputs": []
  },
  {
   "cell_type": "markdown",
   "source": [
    "### Work\n",
    "It's happen that there are other sections score in the class. The files/studentlist2.xlsx provide the score for the second section. merge the data from two file to only one dataframe to find out the descriptive statistic of all the students."
   ],
   "metadata": {
    "collapsed": false
   }
  },
  {
   "cell_type": "code",
   "execution_count": null,
   "outputs": [],
   "source": [],
   "metadata": {
    "collapsed": false
   }
  },
  {
   "cell_type": "markdown",
   "source": [
    "The teacher is very funny, they will random the score for all the students, create a new dataframe which provide the random score from 1 to the maximum score we can get from all students.\n",
    "then merge the score to the student, and calculate the new score of all the student. then set the grade of the student by who get the grade less than 80 will get `F` otherwise will get `A`"
   ],
   "metadata": {
    "collapsed": false
   }
  },
  {
   "cell_type": "markdown",
   "metadata": {
    "id": "8lywjRMgwH6Z"
   },
   "source": [
    "## Combine Data with Overlap\n",
    "\n",
    "\n",
    "\n",
    "The data con be merse if there are overlap in full or part"
   ]
  },
  {
   "cell_type": "code",
   "metadata": {
    "id": "sqnLvuGzyXYU"
   },
   "source": [
    "a = pd.Series([np.nan, 2.5, np.nan, 3.5, 4.5, np.nan],\n",
    "              index=['f', 'e', 'd', 'c', 'b', 'a'])\n",
    "b = pd.Series(np.arange(len(a), dtype=np.float64),\n",
    "              index=['f', 'e', 'd', 'c', 'b', 'a'])"
   ],
   "execution_count": null,
   "outputs": []
  },
  {
   "cell_type": "markdown",
   "metadata": {
    "id": "HgkhYZ56GYgl"
   },
   "source": [
    "Combine the series using the if else expression.\n",
    "Let's try\n",
    "```python\n",
    "np.where(pd.isnull(a),b,a)\n",
    "```"
   ]
  },
  {
   "cell_type": "code",
   "metadata": {
    "id": "_i_t16PSHGq_",
    "colab": {
     "base_uri": "https://localhost:8080/"
    },
    "outputId": "57632d71-966b-4748-a1a6-6d87e4ecfb1d"
   },
   "source": [],
   "execution_count": null,
   "outputs": []
  },
  {
   "cell_type": "markdown",
   "source": [
    "try vice versa\n",
    "```python\n",
    "np.where(pd.isnull(a),a,b)\n",
    "```"
   ],
   "metadata": {
    "collapsed": false
   }
  },
  {
   "cell_type": "code",
   "metadata": {
    "id": "E4W5VWAKHgJd",
    "colab": {
     "base_uri": "https://localhost:8080/"
    },
    "outputId": "f16c3999-9d02-4261-e736-d27041f6cde1"
   },
   "source": [],
   "execution_count": null,
   "outputs": []
  },
  {
   "cell_type": "markdown",
   "metadata": {
    "id": "9TZigSfuIJqR"
   },
   "source": [
    "`combine_first` combine the data the series\n",
    "```python\n",
    "b[:-2].combine_first(a[2:])\n",
    "```"
   ]
  },
  {
   "cell_type": "code",
   "metadata": {
    "id": "-8gW1Iu9IU3J",
    "colab": {
     "base_uri": "https://localhost:8080/"
    },
    "outputId": "1acc74ef-952c-4921-d812-d1657d4fe8e4"
   },
   "source": [],
   "execution_count": null,
   "outputs": []
  },
  {
   "cell_type": "markdown",
   "metadata": {
    "id": "F9DXX3VpIdF-"
   },
   "source": [
    "`combine_first` for the Dataframe will do the same thing but with all column by column.\n",
    "\n",
    "It is similar to *patching* the data (replace the data in `NaN` position."
   ]
  },
  {
   "cell_type": "code",
   "metadata": {
    "id": "A6YBy8z2Jacj",
    "colab": {
     "base_uri": "https://localhost:8080/"
    },
    "outputId": "f6ffdc0d-89e4-4d58-d392-a0136661df8a"
   },
   "source": [
    "df1 = pd.DataFrame({'a': [1., np.nan, 5., np.nan],\n",
    " 'b': [np.nan, 2., np.nan, 6.],\n",
    " 'c': range(2, 18, 4)})\n",
    "df2 = pd.DataFrame({'a': [5., 4., np.nan, 3., 7.],\n",
    " 'b': [np.nan, 3., 4., 6., 8.]})\n",
    "df1"
   ],
   "execution_count": null,
   "outputs": []
  },
  {
   "cell_type": "code",
   "metadata": {
    "id": "pafDUJKiJh_Y",
    "colab": {
     "base_uri": "https://localhost:8080/"
    },
    "outputId": "2ee84bdd-9f8b-40d2-bab1-cac065d2d06c"
   },
   "source": [],
   "execution_count": null,
   "outputs": []
  },
  {
   "cell_type": "markdown",
   "source": [
    "try\n",
    "```python\n",
    "df1.combine_first(df2)\n",
    "```\n"
   ],
   "metadata": {
    "collapsed": false
   }
  },
  {
   "cell_type": "code",
   "metadata": {
    "id": "AGi6GYdQJl7W",
    "colab": {
     "base_uri": "https://localhost:8080/"
    },
    "outputId": "640de041-1781-465f-ec77-25e9d4d4bc53"
   },
   "source": [],
   "execution_count": null,
   "outputs": []
  },
  {
   "cell_type": "markdown",
   "source": [
    "```python\n",
    "df2.combine_first(df1)\n",
    "```"
   ],
   "metadata": {
    "collapsed": false
   }
  },
  {
   "cell_type": "code",
   "metadata": {
    "id": "4trKBYl9J02n",
    "colab": {
     "base_uri": "https://localhost:8080/"
    },
    "outputId": "909c09f5-276e-4ddd-f819-fa9ea00d3cfe"
   },
   "source": [],
   "execution_count": null,
   "outputs": []
  },
  {
   "cell_type": "markdown",
   "metadata": {
    "id": "AhwCZo8DNQiF"
   },
   "source": [
    "# Reshaping and Pivoting\n",
    "\n"
   ]
  },
  {
   "cell_type": "markdown",
   "metadata": {
    "id": "bAsdbNjDNWYb"
   },
   "source": [
    "## Reshaping with Hierachical Indexing\n",
    "\n",
    "Using the Hierarchical Indexing can reshape data in different way\n",
    "\n",
    "The operations we can use are\n",
    "\n",
    "\n",
    "\n",
    "*   `stack` rotate or pivots from the columns in the data to the rows\n",
    "*   `unstack` privots from the rows into the columns\n",
    "\n"
   ]
  },
  {
   "cell_type": "code",
   "metadata": {
    "id": "A1fijSOxN3fq",
    "colab": {
     "base_uri": "https://localhost:8080/",
     "height": 143
    },
    "outputId": "b787c55d-58e1-42dc-f046-515d848d3869"
   },
   "source": [
    "data = pd.DataFrame(np.arange(6).reshape((2, 3)),\n",
    "    index=pd.Index(['Ohio', 'Colorado'], name='state'),\n",
    "    columns=pd.Index(['one', 'two', 'three'],\n",
    "    name='number'))\n",
    "data"
   ],
   "execution_count": null,
   "outputs": []
  },
  {
   "cell_type": "markdown",
   "metadata": {
    "id": "TaOuD_e1OACV"
   },
   "source": [
    "Using the `stack` to pivot the columns into the rows, produce a serie from the data frame\n",
    "\n"
   ]
  },
  {
   "cell_type": "markdown",
   "source": [
    "```python\n",
    "result = data.stack()\n",
    "result\n",
    "```"
   ],
   "metadata": {
    "collapsed": false
   }
  },
  {
   "cell_type": "code",
   "metadata": {
    "id": "exf5HcUtOLD3",
    "colab": {
     "base_uri": "https://localhost:8080/"
    },
    "outputId": "aa8ab1cf-c5e6-4e18-dd3f-b4519ccea7fa"
   },
   "source": [],
   "execution_count": null,
   "outputs": []
  },
  {
   "cell_type": "markdown",
   "metadata": {
    "id": "gcSLkJVTORMN"
   },
   "source": [
    "from hierachically indexed Series, we can rearrange into a DataFrame with `unstack`\n",
    "```python\n",
    "result.unstack()\n",
    "```"
   ]
  },
  {
   "cell_type": "code",
   "metadata": {
    "id": "29AqDZVLOgdu",
    "colab": {
     "base_uri": "https://localhost:8080/",
     "height": 143
    },
    "outputId": "4398b8bc-d12d-42f2-bd96-f44b3d7b5efb"
   },
   "source": [],
   "execution_count": null,
   "outputs": []
  },
  {
   "cell_type": "markdown",
   "metadata": {
    "id": "uDFKjCWFPVL7"
   },
   "source": [
    "By the default the innermost level is unstacked, we can unstadck the different level by pasing the level name.\n",
    "```python\n",
    "result.unstack('state')\n",
    "```"
   ]
  },
  {
   "cell_type": "code",
   "metadata": {
    "id": "Lu7z15-GPesW",
    "colab": {
     "base_uri": "https://localhost:8080/",
     "height": 175
    },
    "outputId": "400d40c0-a544-4c9b-874f-107e843875d5"
   },
   "source": [],
   "execution_count": null,
   "outputs": []
  },
  {
   "cell_type": "markdown",
   "metadata": {
    "id": "jGWbH1bBPm4g"
   },
   "source": [
    "unstack may introduce the missing data if all of the value in the level is ont found in each group"
   ]
  },
  {
   "cell_type": "code",
   "metadata": {
    "id": "6W0dnS_zOxZw",
    "colab": {
     "base_uri": "https://localhost:8080/"
    },
    "outputId": "9a1c3d9b-7210-41e0-8a7d-f83d2dc39698"
   },
   "source": [
    "s1 = pd.Series([0, 1, 2, 3], index=['a', 'b', 'c', 'd'])\n",
    "s2 = pd.Series([4, 5, 6], index=['c', 'd', 'e'])\n",
    "data2 = pd.concat([s1, s2], keys=['one', 'two'])\n",
    "data2"
   ],
   "execution_count": null,
   "outputs": []
  },
  {
   "cell_type": "markdown",
   "source": [
    "try to do unstack\n",
    "```python\n",
    "data2.unstack()\n",
    "```"
   ],
   "metadata": {
    "collapsed": false
   }
  },
  {
   "cell_type": "code",
   "metadata": {
    "id": "7rj_VypRQMDT",
    "colab": {
     "base_uri": "https://localhost:8080/",
     "height": 112
    },
    "outputId": "2203903b-39bb-49ec-c4c3-40a0748d1675"
   },
   "source": [],
   "execution_count": null,
   "outputs": []
  },
  {
   "cell_type": "markdown",
   "metadata": {
    "id": "fBDksi3_QRi7"
   },
   "source": [
    "Stacking filter out the missing data by default, to preseved the na when unstack `dropna=False ` is required\n",
    "```python\n",
    "data2.unstack().stack()\n",
    "```"
   ]
  },
  {
   "cell_type": "code",
   "metadata": {
    "id": "6Q10ie4jQfxq",
    "colab": {
     "base_uri": "https://localhost:8080/",
     "height": 112
    },
    "outputId": "4b504497-7144-456d-ca14-1c42aacdbffa"
   },
   "source": [],
   "execution_count": null,
   "outputs": []
  },
  {
   "cell_type": "code",
   "metadata": {
    "id": "AeD4K9GWQimR",
    "colab": {
     "base_uri": "https://localhost:8080/"
    },
    "outputId": "58d99516-6faf-4ccf-852c-c0bf01a33811"
   },
   "source": [],
   "execution_count": null,
   "outputs": []
  },
  {
   "cell_type": "markdown",
   "source": [
    "when using the dropna\n",
    "```python\n",
    "data2.unstack().stack(dropna=False)\n",
    "```"
   ],
   "metadata": {
    "collapsed": false
   }
  },
  {
   "cell_type": "code",
   "metadata": {
    "id": "CQxDR3QUQlMG",
    "colab": {
     "base_uri": "https://localhost:8080/"
    },
    "outputId": "47995825-2db4-4981-c687-a31698c2c710"
   },
   "source": [],
   "execution_count": null,
   "outputs": []
  },
  {
   "cell_type": "markdown",
   "metadata": {
    "id": "fHxkoJjHQoXj"
   },
   "source": [
    "When you unstack in a DataFrame, the **level unstacked** becomes the lowest level in the result\n",
    "```python\n",
    "df = pd.DataFrame({'left': result, 'right': result + 5},\n",
    "                  columns=pd.Index(['left', 'right'], name='side'))\n",
    "df\n",
    "```"
   ]
  },
  {
   "cell_type": "code",
   "metadata": {
    "id": "bh4JfPpFQve5",
    "colab": {
     "base_uri": "https://localhost:8080/",
     "height": 269
    },
    "outputId": "fa527e70-8b98-46c5-9bf3-66241d635296"
   },
   "source": [],
   "execution_count": null,
   "outputs": []
  },
  {
   "cell_type": "markdown",
   "source": [
    "try\n",
    "```python\n",
    "df.unstack('state')\n",
    "```"
   ],
   "metadata": {
    "collapsed": false
   }
  },
  {
   "cell_type": "code",
   "metadata": {
    "id": "Db_GAqH6Q-KL",
    "colab": {
     "base_uri": "https://localhost:8080/",
     "height": 206
    },
    "outputId": "111754cf-8e33-43cb-c539-89d75843b4e4"
   },
   "source": [],
   "execution_count": null,
   "outputs": []
  },
  {
   "cell_type": "markdown",
   "source": [
    "we may use the state to stack the side\n",
    "```python\n",
    "df.unstack('state').stack('side')\n",
    "```"
   ],
   "metadata": {
    "collapsed": false
   }
  },
  {
   "cell_type": "code",
   "metadata": {
    "id": "dsqAx7zfRFa1",
    "colab": {
     "base_uri": "https://localhost:8080/",
     "height": 269
    },
    "outputId": "14b80c18-c57b-43cd-cab7-6965393b0867"
   },
   "source": [],
   "execution_count": null,
   "outputs": []
  },
  {
   "cell_type": "markdown",
   "metadata": {
    "id": "hqmMGZXxU8md"
   },
   "source": [
    "# Work\n",
    "\n",
    "From the three files provided [here](https://github.com/jakevdp/data-USstates/)\n",
    "\n",
    "1. Bind all data to get the data frame which have the state/ abbreviation, and area(sq.mi)\n",
    "2. Bind the data to get the State, age, and population\n",
    "3. Create the multiple hierachy dataframe, which contains the age as sub hierachy. The column should be the year and population, and the year must be order.\n"
   ]
  },
  {
   "cell_type": "markdown",
   "metadata": {
    "id": "d-iItFmtjomT"
   },
   "source": [
    "1. Bind all data to get the data frame which have the state/ abbreviation, and area(sq.mi)"
   ]
  },
  {
   "cell_type": "markdown",
   "metadata": {
    "id": "PB8quLLokoXs"
   },
   "source": [
    "2. Bind the data to get the State, age, and population"
   ]
  },
  {
   "cell_type": "markdown",
   "metadata": {
    "id": "s5EfgdhamiiM"
   },
   "source": [
    "3. Create the multiple hierachy dataframe, which contains the age as sub hierachy. The column should be the year and population, and the year must be order."
   ]
  }
 ]
}
