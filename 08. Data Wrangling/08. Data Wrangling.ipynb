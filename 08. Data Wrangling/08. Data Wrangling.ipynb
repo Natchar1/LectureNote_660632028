{
 "nbformat": 4,
 "nbformat_minor": 0,
 "metadata": {
  "colab": {
   "provenance": [],
   "collapsed_sections": [
    "zdrqfmNQmG6H",
    "9lTI4Xn7iUhM",
    "8lywjRMgwH6Z"
   ]
  },
  "kernelspec": {
   "name": "python3",
   "language": "python",
   "display_name": "Python 3 (ipykernel)"
  }
 },
 "cells": [
  {
   "cell_type": "markdown",
   "source": [
    "# Combine and Merging Datasets\n",
    "\n",
    "data contained can be combined together in a number of ways\n",
    "\n"
   ],
   "metadata": {
    "collapsed": false
   }
  },
  {
   "cell_type": "markdown",
   "metadata": {
    "id": "gXNPn9trfJnD"
   },
   "source": [
    "## Database-Style Dataframe joins\n",
    "\n",
    "\n",
    "The same key data are bound.\n",
    "Look at the example\n"
   ]
  },
  {
   "cell_type": "code",
   "metadata": {
    "id": "qDX-1I9rHPJJ",
    "ExecuteTime": {
     "end_time": "2023-10-29T12:32:49.000599300Z",
     "start_time": "2023-10-29T12:32:48.985110500Z"
    }
   },
   "source": [
    "import numpy as np\n",
    "import pandas as pd\n",
    "pd.options.display.max_rows = 20\n",
    "np.random.seed(12345)\n",
    "import matplotlib.pyplot as plt\n",
    "plt.rc('figure', figsize=(10, 6))\n",
    "np.set_printoptions(precision=4, suppress=True)"
   ],
   "execution_count": 1,
   "outputs": []
  },
  {
   "cell_type": "markdown",
   "source": [
    "```python\n",
    "df1 = pd.DataFrame({'key': ['b', 'b', 'a', 'c', 'a', 'a', 'b'],\n",
    "                    'data1': range(7)})\n",
    "df1\n",
    "```"
   ],
   "metadata": {
    "collapsed": false
   }
  },
  {
   "cell_type": "code",
   "metadata": {
    "id": "u4REj_9efaln",
    "colab": {
     "base_uri": "https://localhost:8080/",
     "height": 269
    },
    "outputId": "393aaaae-343f-4c1b-abe9-e4dfe4341feb",
    "ExecuteTime": {
     "end_time": "2023-10-29T12:32:54.836249Z",
     "start_time": "2023-10-29T12:32:54.757637Z"
    }
   },
   "source": [
    "df1 = pd.DataFrame({'key': ['b', 'b', 'a', 'c', 'a', 'a', 'b'],\n",
    "                    'data1': range(7)})\n",
    "df1"
   ],
   "execution_count": 2,
   "outputs": [
    {
     "data": {
      "text/plain": "  key  data1\n0   b      0\n1   b      1\n2   a      2\n3   c      3\n4   a      4\n5   a      5\n6   b      6",
      "text/html": "<div>\n<style scoped>\n    .dataframe tbody tr th:only-of-type {\n        vertical-align: middle;\n    }\n\n    .dataframe tbody tr th {\n        vertical-align: top;\n    }\n\n    .dataframe thead th {\n        text-align: right;\n    }\n</style>\n<table border=\"1\" class=\"dataframe\">\n  <thead>\n    <tr style=\"text-align: right;\">\n      <th></th>\n      <th>key</th>\n      <th>data1</th>\n    </tr>\n  </thead>\n  <tbody>\n    <tr>\n      <th>0</th>\n      <td>b</td>\n      <td>0</td>\n    </tr>\n    <tr>\n      <th>1</th>\n      <td>b</td>\n      <td>1</td>\n    </tr>\n    <tr>\n      <th>2</th>\n      <td>a</td>\n      <td>2</td>\n    </tr>\n    <tr>\n      <th>3</th>\n      <td>c</td>\n      <td>3</td>\n    </tr>\n    <tr>\n      <th>4</th>\n      <td>a</td>\n      <td>4</td>\n    </tr>\n    <tr>\n      <th>5</th>\n      <td>a</td>\n      <td>5</td>\n    </tr>\n    <tr>\n      <th>6</th>\n      <td>b</td>\n      <td>6</td>\n    </tr>\n  </tbody>\n</table>\n</div>"
     },
     "execution_count": 2,
     "metadata": {},
     "output_type": "execute_result"
    }
   ]
  },
  {
   "cell_type": "markdown",
   "source": [
    "```python\n",
    "df2 = pd.DataFrame({'key': ['a', 'b', 'd'],\n",
    "                    'data2': range(3)})\n",
    "df2\n",
    "```"
   ],
   "metadata": {
    "collapsed": false
   }
  },
  {
   "cell_type": "code",
   "metadata": {
    "id": "YS6R-YrUff3X",
    "colab": {
     "base_uri": "https://localhost:8080/",
     "height": 143
    },
    "outputId": "dd0ab86e-6d80-4c41-d847-8ee8dff52e87",
    "ExecuteTime": {
     "end_time": "2023-10-29T12:33:01.104260400Z",
     "start_time": "2023-10-29T12:33:01.026660700Z"
    }
   },
   "source": [
    "df2 = pd.DataFrame({'key': ['a', 'b', 'd'],\n",
    "                    'data2': range(3)})\n",
    "df2"
   ],
   "execution_count": 3,
   "outputs": [
    {
     "data": {
      "text/plain": "  key  data2\n0   a      0\n1   b      1\n2   d      2",
      "text/html": "<div>\n<style scoped>\n    .dataframe tbody tr th:only-of-type {\n        vertical-align: middle;\n    }\n\n    .dataframe tbody tr th {\n        vertical-align: top;\n    }\n\n    .dataframe thead th {\n        text-align: right;\n    }\n</style>\n<table border=\"1\" class=\"dataframe\">\n  <thead>\n    <tr style=\"text-align: right;\">\n      <th></th>\n      <th>key</th>\n      <th>data2</th>\n    </tr>\n  </thead>\n  <tbody>\n    <tr>\n      <th>0</th>\n      <td>a</td>\n      <td>0</td>\n    </tr>\n    <tr>\n      <th>1</th>\n      <td>b</td>\n      <td>1</td>\n    </tr>\n    <tr>\n      <th>2</th>\n      <td>d</td>\n      <td>2</td>\n    </tr>\n  </tbody>\n</table>\n</div>"
     },
     "execution_count": 3,
     "metadata": {},
     "output_type": "execute_result"
    }
   ]
  },
  {
   "cell_type": "markdown",
   "source": [
    "To merge two Dataframe with the same index \n",
    "```python\n",
    "pd.merge(df1,df2)\n",
    "```"
   ],
   "metadata": {
    "collapsed": false
   }
  },
  {
   "cell_type": "code",
   "metadata": {
    "id": "zLaU7-wsfosd",
    "colab": {
     "base_uri": "https://localhost:8080/",
     "height": 332
    },
    "outputId": "552d626e-ffe5-4e3c-aef7-ced7ebddb190",
    "ExecuteTime": {
     "end_time": "2023-10-29T12:33:06.468443300Z",
     "start_time": "2023-10-29T12:33:06.398334600Z"
    }
   },
   "source": [
    "pd.merge(df1,df2)"
   ],
   "execution_count": 4,
   "outputs": [
    {
     "data": {
      "text/plain": "  key  data1  data2\n0   b      0      1\n1   b      1      1\n2   b      6      1\n3   a      2      0\n4   a      4      0\n5   a      5      0",
      "text/html": "<div>\n<style scoped>\n    .dataframe tbody tr th:only-of-type {\n        vertical-align: middle;\n    }\n\n    .dataframe tbody tr th {\n        vertical-align: top;\n    }\n\n    .dataframe thead th {\n        text-align: right;\n    }\n</style>\n<table border=\"1\" class=\"dataframe\">\n  <thead>\n    <tr style=\"text-align: right;\">\n      <th></th>\n      <th>key</th>\n      <th>data1</th>\n      <th>data2</th>\n    </tr>\n  </thead>\n  <tbody>\n    <tr>\n      <th>0</th>\n      <td>b</td>\n      <td>0</td>\n      <td>1</td>\n    </tr>\n    <tr>\n      <th>1</th>\n      <td>b</td>\n      <td>1</td>\n      <td>1</td>\n    </tr>\n    <tr>\n      <th>2</th>\n      <td>b</td>\n      <td>6</td>\n      <td>1</td>\n    </tr>\n    <tr>\n      <th>3</th>\n      <td>a</td>\n      <td>2</td>\n      <td>0</td>\n    </tr>\n    <tr>\n      <th>4</th>\n      <td>a</td>\n      <td>4</td>\n      <td>0</td>\n    </tr>\n    <tr>\n      <th>5</th>\n      <td>a</td>\n      <td>5</td>\n      <td>0</td>\n    </tr>\n  </tbody>\n</table>\n</div>"
     },
     "execution_count": 4,
     "metadata": {},
     "output_type": "execute_result"
    }
   ]
  },
  {
   "cell_type": "markdown",
   "metadata": {
    "id": "2BjHP4E9gUaD"
   },
   "source": [
    "Without setting anything. The key will used from the columns which is the same name in both data frame. The values which are the same in both data are provided, and the Cartesian products of the other values are provided as the data.\n",
    "\n",
    "It should be better if we specified the key name\n",
    "\n",
    "```python\n",
    "pd.merge(df1,df2,on='key')\n",
    "```"
   ]
  },
  {
   "cell_type": "code",
   "metadata": {
    "id": "ApusRAlvhJiz",
    "colab": {
     "base_uri": "https://localhost:8080/",
     "height": 332
    },
    "outputId": "b618fd16-62aa-489b-afcf-231f8178d967",
    "ExecuteTime": {
     "end_time": "2023-10-29T12:33:15.061605900Z",
     "start_time": "2023-10-29T12:33:14.998601500Z"
    }
   },
   "source": [
    "pd.merge(df1,df2,on='key')"
   ],
   "execution_count": 5,
   "outputs": [
    {
     "data": {
      "text/plain": "  key  data1  data2\n0   b      0      1\n1   b      1      1\n2   b      6      1\n3   a      2      0\n4   a      4      0\n5   a      5      0",
      "text/html": "<div>\n<style scoped>\n    .dataframe tbody tr th:only-of-type {\n        vertical-align: middle;\n    }\n\n    .dataframe tbody tr th {\n        vertical-align: top;\n    }\n\n    .dataframe thead th {\n        text-align: right;\n    }\n</style>\n<table border=\"1\" class=\"dataframe\">\n  <thead>\n    <tr style=\"text-align: right;\">\n      <th></th>\n      <th>key</th>\n      <th>data1</th>\n      <th>data2</th>\n    </tr>\n  </thead>\n  <tbody>\n    <tr>\n      <th>0</th>\n      <td>b</td>\n      <td>0</td>\n      <td>1</td>\n    </tr>\n    <tr>\n      <th>1</th>\n      <td>b</td>\n      <td>1</td>\n      <td>1</td>\n    </tr>\n    <tr>\n      <th>2</th>\n      <td>b</td>\n      <td>6</td>\n      <td>1</td>\n    </tr>\n    <tr>\n      <th>3</th>\n      <td>a</td>\n      <td>2</td>\n      <td>0</td>\n    </tr>\n    <tr>\n      <th>4</th>\n      <td>a</td>\n      <td>4</td>\n      <td>0</td>\n    </tr>\n    <tr>\n      <th>5</th>\n      <td>a</td>\n      <td>5</td>\n      <td>0</td>\n    </tr>\n  </tbody>\n</table>\n</div>"
     },
     "execution_count": 5,
     "metadata": {},
     "output_type": "execute_result"
    }
   ]
  },
  {
   "cell_type": "markdown",
   "metadata": {
    "id": "k-tJ526BhRDR"
   },
   "source": [
    "we can merge on the different column name\n",
    "\n",
    "```python\n",
    "df3 = pd.DataFrame({'lkey': ['b', 'b', 'a', 'c', 'a', 'a', 'b'],\n",
    "                    'data1': range(7)})\n",
    "df4 = pd.DataFrame({'rkey': ['a', 'b', 'd'],\n",
    "                    'data2': range(3)})\n",
    "```"
   ]
  },
  {
   "cell_type": "code",
   "execution_count": 6,
   "outputs": [],
   "source": [
    "df3 = pd.DataFrame({'lkey': ['b', 'b', 'a', 'c', 'a', 'a', 'b'],\n",
    "                    'data1': range(7)})\n",
    "df4 = pd.DataFrame({'rkey': ['a', 'b', 'd'],\n",
    "                    'data2': range(3)})"
   ],
   "metadata": {
    "collapsed": false,
    "ExecuteTime": {
     "end_time": "2023-10-29T12:33:24.265684200Z",
     "start_time": "2023-10-29T12:33:24.218300400Z"
    }
   }
  },
  {
   "cell_type": "markdown",
   "source": [
    "### Work\n",
    "Form the given /file/studentlist.xlsx\n",
    "It is the Excel which provide the score of the students.\n",
    "Create the data frame which consist of the total score of Attendance(Midterm) score,and midterm score\n",
    "-> to get the new dataframe from the old dataframe column you may use this code\n",
    "` new = old[['A', 'C', 'D']].copy() `\n",
    "to change the specific column name you may use\n",
    "` rankings_pd.rename(columns = {'test':'TEST'}, inplace = True)`\n",
    "note: you do not have to set the student id column to be the index in this work"
   ],
   "metadata": {
    "collapsed": false
   }
  },
  {
   "cell_type": "code",
   "metadata": {
    "id": "we8HFEXPhXBf",
    "ExecuteTime": {
     "end_time": "2023-10-29T12:36:44.133262400Z",
     "start_time": "2023-10-29T12:36:43.681599700Z"
    }
   },
   "source": [
    "import pandas as pd\n",
    "\n",
    "file_path = 'C:/Users/Dell/Desktop/LectureNote/LectureNote_660632028/08. Data Wrangling/files/studentlist.xlsx'\n",
    "student_df = pd.read_excel(file_path)\n",
    "\n",
    "student_df.head()"
   ],
   "execution_count": 7,
   "outputs": [
    {
     "data": {
      "text/plain": "  รายชื่อนักศึกษาที่ลงทะเบียนเรียน ภาคเรียนที่ 1 ปีการศึกษา 2562 Unnamed: 1  \\\n0                                        COURSE NO :                    NaN   \n1                                            TITLE :                    NaN   \n2                                SECTION (lec/lab) :                    NaN   \n3                                          LECTURE :                    NaN   \n4                                             DATE :                    NaN   \n\n   Unnamed: 2  Unnamed: 3  Unnamed: 4  Unnamed: 5  Unnamed: 6  Unnamed: 7  \\\n0         NaN         NaN         NaN         NaN         NaN         NaN   \n1         NaN         NaN         NaN         NaN         NaN         NaN   \n2         NaN         NaN         NaN         NaN         NaN         NaN   \n3         NaN         NaN         NaN         NaN         NaN         NaN   \n4         NaN         NaN         NaN         NaN         NaN         NaN   \n\n  Unnamed: 8  \n0        NaN  \n1        NaN  \n2        NaN  \n3        NaN  \n4        NaN  ",
      "text/html": "<div>\n<style scoped>\n    .dataframe tbody tr th:only-of-type {\n        vertical-align: middle;\n    }\n\n    .dataframe tbody tr th {\n        vertical-align: top;\n    }\n\n    .dataframe thead th {\n        text-align: right;\n    }\n</style>\n<table border=\"1\" class=\"dataframe\">\n  <thead>\n    <tr style=\"text-align: right;\">\n      <th></th>\n      <th>รายชื่อนักศึกษาที่ลงทะเบียนเรียน ภาคเรียนที่ 1 ปีการศึกษา 2562</th>\n      <th>Unnamed: 1</th>\n      <th>Unnamed: 2</th>\n      <th>Unnamed: 3</th>\n      <th>Unnamed: 4</th>\n      <th>Unnamed: 5</th>\n      <th>Unnamed: 6</th>\n      <th>Unnamed: 7</th>\n      <th>Unnamed: 8</th>\n    </tr>\n  </thead>\n  <tbody>\n    <tr>\n      <th>0</th>\n      <td>COURSE NO :</td>\n      <td>NaN</td>\n      <td>NaN</td>\n      <td>NaN</td>\n      <td>NaN</td>\n      <td>NaN</td>\n      <td>NaN</td>\n      <td>NaN</td>\n      <td>NaN</td>\n    </tr>\n    <tr>\n      <th>1</th>\n      <td>TITLE :</td>\n      <td>NaN</td>\n      <td>NaN</td>\n      <td>NaN</td>\n      <td>NaN</td>\n      <td>NaN</td>\n      <td>NaN</td>\n      <td>NaN</td>\n      <td>NaN</td>\n    </tr>\n    <tr>\n      <th>2</th>\n      <td>SECTION (lec/lab) :</td>\n      <td>NaN</td>\n      <td>NaN</td>\n      <td>NaN</td>\n      <td>NaN</td>\n      <td>NaN</td>\n      <td>NaN</td>\n      <td>NaN</td>\n      <td>NaN</td>\n    </tr>\n    <tr>\n      <th>3</th>\n      <td>LECTURE :</td>\n      <td>NaN</td>\n      <td>NaN</td>\n      <td>NaN</td>\n      <td>NaN</td>\n      <td>NaN</td>\n      <td>NaN</td>\n      <td>NaN</td>\n      <td>NaN</td>\n    </tr>\n    <tr>\n      <th>4</th>\n      <td>DATE :</td>\n      <td>NaN</td>\n      <td>NaN</td>\n      <td>NaN</td>\n      <td>NaN</td>\n      <td>NaN</td>\n      <td>NaN</td>\n      <td>NaN</td>\n      <td>NaN</td>\n    </tr>\n  </tbody>\n</table>\n</div>"
     },
     "execution_count": 7,
     "metadata": {},
     "output_type": "execute_result"
    }
   ]
  },
  {
   "cell_type": "code",
   "execution_count": 8,
   "outputs": [
    {
     "data": {
      "text/plain": "   รายชื่อนักศึกษาที่ลงทะเบียนเรียน ภาคเรียนที่ 1 ปีการศึกษา 2562  \\\n5                                                 ที่               \n6                                                   1               \n7                                                   2               \n8                                                   3               \n9                                                   4               \n..                                                ...               \n25                                                 20               \n26                                                 21               \n27                                                 22               \n28                                                 23               \n29                                                 24               \n\n      Unnamed: 1  Unnamed: 2  Unnamed: 3  Unnamed: 4  Unnamed: 5  Unnamed: 6  \\\n5   รหัสนักศึกษา         2.0         3.0         4.0         5.0         6.0   \n6      582115509         5.0         5.0         5.0         5.0         5.0   \n7      592115508         5.0         5.0         5.0         5.0         5.0   \n8      592115521         5.0         5.0         5.0         5.0         5.0   \n9      602115001         0.0         0.0         0.0         0.0         0.0   \n..           ...         ...         ...         ...         ...         ...   \n25     602115503         9.0         5.0         8.0         6.0         7.0   \n26     602115504         0.0         0.0         0.0         0.0         8.0   \n27     602115505         0.0         5.0         5.0         7.0         6.0   \n28     602115507         0.0         7.0         8.0         7.0         7.0   \n29     602115508         7.0         6.0         6.0         6.0         0.0   \n\n    Unnamed: 7 Unnamed: 8  \n5          7.0  Total (5)  \n6          5.0        2.5  \n7          5.0        2.5  \n8          5.0        2.5  \n9          0.0          0  \n..         ...        ...  \n25         6.0   3.416667  \n26         8.0   1.333333  \n27         7.0        2.5  \n28         0.0   2.416667  \n29         7.0   2.666667  \n\n[25 rows x 9 columns]",
      "text/html": "<div>\n<style scoped>\n    .dataframe tbody tr th:only-of-type {\n        vertical-align: middle;\n    }\n\n    .dataframe tbody tr th {\n        vertical-align: top;\n    }\n\n    .dataframe thead th {\n        text-align: right;\n    }\n</style>\n<table border=\"1\" class=\"dataframe\">\n  <thead>\n    <tr style=\"text-align: right;\">\n      <th></th>\n      <th>รายชื่อนักศึกษาที่ลงทะเบียนเรียน ภาคเรียนที่ 1 ปีการศึกษา 2562</th>\n      <th>Unnamed: 1</th>\n      <th>Unnamed: 2</th>\n      <th>Unnamed: 3</th>\n      <th>Unnamed: 4</th>\n      <th>Unnamed: 5</th>\n      <th>Unnamed: 6</th>\n      <th>Unnamed: 7</th>\n      <th>Unnamed: 8</th>\n    </tr>\n  </thead>\n  <tbody>\n    <tr>\n      <th>5</th>\n      <td>ที่</td>\n      <td>รหัสนักศึกษา</td>\n      <td>2.0</td>\n      <td>3.0</td>\n      <td>4.0</td>\n      <td>5.0</td>\n      <td>6.0</td>\n      <td>7.0</td>\n      <td>Total (5)</td>\n    </tr>\n    <tr>\n      <th>6</th>\n      <td>1</td>\n      <td>582115509</td>\n      <td>5.0</td>\n      <td>5.0</td>\n      <td>5.0</td>\n      <td>5.0</td>\n      <td>5.0</td>\n      <td>5.0</td>\n      <td>2.5</td>\n    </tr>\n    <tr>\n      <th>7</th>\n      <td>2</td>\n      <td>592115508</td>\n      <td>5.0</td>\n      <td>5.0</td>\n      <td>5.0</td>\n      <td>5.0</td>\n      <td>5.0</td>\n      <td>5.0</td>\n      <td>2.5</td>\n    </tr>\n    <tr>\n      <th>8</th>\n      <td>3</td>\n      <td>592115521</td>\n      <td>5.0</td>\n      <td>5.0</td>\n      <td>5.0</td>\n      <td>5.0</td>\n      <td>5.0</td>\n      <td>5.0</td>\n      <td>2.5</td>\n    </tr>\n    <tr>\n      <th>9</th>\n      <td>4</td>\n      <td>602115001</td>\n      <td>0.0</td>\n      <td>0.0</td>\n      <td>0.0</td>\n      <td>0.0</td>\n      <td>0.0</td>\n      <td>0.0</td>\n      <td>0</td>\n    </tr>\n    <tr>\n      <th>...</th>\n      <td>...</td>\n      <td>...</td>\n      <td>...</td>\n      <td>...</td>\n      <td>...</td>\n      <td>...</td>\n      <td>...</td>\n      <td>...</td>\n      <td>...</td>\n    </tr>\n    <tr>\n      <th>25</th>\n      <td>20</td>\n      <td>602115503</td>\n      <td>9.0</td>\n      <td>5.0</td>\n      <td>8.0</td>\n      <td>6.0</td>\n      <td>7.0</td>\n      <td>6.0</td>\n      <td>3.416667</td>\n    </tr>\n    <tr>\n      <th>26</th>\n      <td>21</td>\n      <td>602115504</td>\n      <td>0.0</td>\n      <td>0.0</td>\n      <td>0.0</td>\n      <td>0.0</td>\n      <td>8.0</td>\n      <td>8.0</td>\n      <td>1.333333</td>\n    </tr>\n    <tr>\n      <th>27</th>\n      <td>22</td>\n      <td>602115505</td>\n      <td>0.0</td>\n      <td>5.0</td>\n      <td>5.0</td>\n      <td>7.0</td>\n      <td>6.0</td>\n      <td>7.0</td>\n      <td>2.5</td>\n    </tr>\n    <tr>\n      <th>28</th>\n      <td>23</td>\n      <td>602115507</td>\n      <td>0.0</td>\n      <td>7.0</td>\n      <td>8.0</td>\n      <td>7.0</td>\n      <td>7.0</td>\n      <td>0.0</td>\n      <td>2.416667</td>\n    </tr>\n    <tr>\n      <th>29</th>\n      <td>24</td>\n      <td>602115508</td>\n      <td>7.0</td>\n      <td>6.0</td>\n      <td>6.0</td>\n      <td>6.0</td>\n      <td>0.0</td>\n      <td>7.0</td>\n      <td>2.666667</td>\n    </tr>\n  </tbody>\n</table>\n<p>25 rows × 9 columns</p>\n</div>"
     },
     "execution_count": 8,
     "metadata": {},
     "output_type": "execute_result"
    }
   ],
   "source": [
    "student_df.iloc[5:30]"
   ],
   "metadata": {
    "collapsed": false,
    "ExecuteTime": {
     "end_time": "2023-10-29T12:37:32.729199800Z",
     "start_time": "2023-10-29T12:37:32.666234100Z"
    }
   }
  },
  {
   "cell_type": "code",
   "execution_count": 9,
   "outputs": [
    {
     "data": {
      "text/plain": "  DATE :    Unnamed: 1  Unnamed: 2  Unnamed: 3  Unnamed: 4  Unnamed: 5  \\\n0    ที่  รหัสนักศึกษา           2           3           4           5   \n1      1     582115509           5           5           5           5   \n2      2     592115508           5           5           5           5   \n3      3     592115521           5           5           5           5   \n4      4     602115001           0           0           0           0   \n\n   Unnamed: 6  Unnamed: 7 Unnamed: 8  \n0           6           7  Total (5)  \n1           5           5        2.5  \n2           5           5        2.5  \n3           5           5        2.5  \n4           0           0          0  ",
      "text/html": "<div>\n<style scoped>\n    .dataframe tbody tr th:only-of-type {\n        vertical-align: middle;\n    }\n\n    .dataframe tbody tr th {\n        vertical-align: top;\n    }\n\n    .dataframe thead th {\n        text-align: right;\n    }\n</style>\n<table border=\"1\" class=\"dataframe\">\n  <thead>\n    <tr style=\"text-align: right;\">\n      <th></th>\n      <th>DATE :</th>\n      <th>Unnamed: 1</th>\n      <th>Unnamed: 2</th>\n      <th>Unnamed: 3</th>\n      <th>Unnamed: 4</th>\n      <th>Unnamed: 5</th>\n      <th>Unnamed: 6</th>\n      <th>Unnamed: 7</th>\n      <th>Unnamed: 8</th>\n    </tr>\n  </thead>\n  <tbody>\n    <tr>\n      <th>0</th>\n      <td>ที่</td>\n      <td>รหัสนักศึกษา</td>\n      <td>2</td>\n      <td>3</td>\n      <td>4</td>\n      <td>5</td>\n      <td>6</td>\n      <td>7</td>\n      <td>Total (5)</td>\n    </tr>\n    <tr>\n      <th>1</th>\n      <td>1</td>\n      <td>582115509</td>\n      <td>5</td>\n      <td>5</td>\n      <td>5</td>\n      <td>5</td>\n      <td>5</td>\n      <td>5</td>\n      <td>2.5</td>\n    </tr>\n    <tr>\n      <th>2</th>\n      <td>2</td>\n      <td>592115508</td>\n      <td>5</td>\n      <td>5</td>\n      <td>5</td>\n      <td>5</td>\n      <td>5</td>\n      <td>5</td>\n      <td>2.5</td>\n    </tr>\n    <tr>\n      <th>3</th>\n      <td>3</td>\n      <td>592115521</td>\n      <td>5</td>\n      <td>5</td>\n      <td>5</td>\n      <td>5</td>\n      <td>5</td>\n      <td>5</td>\n      <td>2.5</td>\n    </tr>\n    <tr>\n      <th>4</th>\n      <td>4</td>\n      <td>602115001</td>\n      <td>0</td>\n      <td>0</td>\n      <td>0</td>\n      <td>0</td>\n      <td>0</td>\n      <td>0</td>\n      <td>0</td>\n    </tr>\n  </tbody>\n</table>\n</div>"
     },
     "execution_count": 9,
     "metadata": {},
     "output_type": "execute_result"
    }
   ],
   "source": [
    "student_data = pd.read_excel(file_path, skiprows=5)\n",
    "student_data.head()"
   ],
   "metadata": {
    "collapsed": false,
    "ExecuteTime": {
     "end_time": "2023-10-29T12:38:17.859720500Z",
     "start_time": "2023-10-29T12:38:17.798967300Z"
    }
   }
  },
  {
   "cell_type": "code",
   "execution_count": 10,
   "outputs": [
    {
     "data": {
      "text/plain": "  No Student ID  Activity 1  Activity 2  Activity 3  Activity 4  Activity 5  \\\n0  1  582115509           5           5           5           5           5   \n1  2  592115508           5           5           5           5           5   \n2  3  592115521           5           5           5           5           5   \n3  4  602115001           0           0           0           0           0   \n4  5  602115002           9           8           7           9           7   \n\n   Activity 6 Midterm Score  \n0           5           2.5  \n1           5           2.5  \n2           5           2.5  \n3           0             0  \n4           8             4  ",
      "text/html": "<div>\n<style scoped>\n    .dataframe tbody tr th:only-of-type {\n        vertical-align: middle;\n    }\n\n    .dataframe tbody tr th {\n        vertical-align: top;\n    }\n\n    .dataframe thead th {\n        text-align: right;\n    }\n</style>\n<table border=\"1\" class=\"dataframe\">\n  <thead>\n    <tr style=\"text-align: right;\">\n      <th></th>\n      <th>No</th>\n      <th>Student ID</th>\n      <th>Activity 1</th>\n      <th>Activity 2</th>\n      <th>Activity 3</th>\n      <th>Activity 4</th>\n      <th>Activity 5</th>\n      <th>Activity 6</th>\n      <th>Midterm Score</th>\n    </tr>\n  </thead>\n  <tbody>\n    <tr>\n      <th>0</th>\n      <td>1</td>\n      <td>582115509</td>\n      <td>5</td>\n      <td>5</td>\n      <td>5</td>\n      <td>5</td>\n      <td>5</td>\n      <td>5</td>\n      <td>2.5</td>\n    </tr>\n    <tr>\n      <th>1</th>\n      <td>2</td>\n      <td>592115508</td>\n      <td>5</td>\n      <td>5</td>\n      <td>5</td>\n      <td>5</td>\n      <td>5</td>\n      <td>5</td>\n      <td>2.5</td>\n    </tr>\n    <tr>\n      <th>2</th>\n      <td>3</td>\n      <td>592115521</td>\n      <td>5</td>\n      <td>5</td>\n      <td>5</td>\n      <td>5</td>\n      <td>5</td>\n      <td>5</td>\n      <td>2.5</td>\n    </tr>\n    <tr>\n      <th>3</th>\n      <td>4</td>\n      <td>602115001</td>\n      <td>0</td>\n      <td>0</td>\n      <td>0</td>\n      <td>0</td>\n      <td>0</td>\n      <td>0</td>\n      <td>0</td>\n    </tr>\n    <tr>\n      <th>4</th>\n      <td>5</td>\n      <td>602115002</td>\n      <td>9</td>\n      <td>8</td>\n      <td>7</td>\n      <td>9</td>\n      <td>7</td>\n      <td>8</td>\n      <td>4</td>\n    </tr>\n  </tbody>\n</table>\n</div>"
     },
     "execution_count": 10,
     "metadata": {},
     "output_type": "execute_result"
    }
   ],
   "source": [
    "student_data.columns = [\n",
    "    'No', 'Student ID',\n",
    "    'Activity 1', 'Activity 2', 'Activity 3', 'Activity 4', 'Activity 5', 'Activity 6',\n",
    "    'Midterm Score'\n",
    "]\n",
    "\n",
    "student_data_cleaned = student_data.drop(0).reset_index(drop=True)\n",
    "\n",
    "student_data_cleaned.head()"
   ],
   "metadata": {
    "collapsed": false,
    "ExecuteTime": {
     "end_time": "2023-10-29T12:38:52.698955300Z",
     "start_time": "2023-10-29T12:38:52.620672400Z"
    }
   }
  },
  {
   "cell_type": "code",
   "execution_count": 73,
   "outputs": [],
   "source": [
    "new_df = student_data_cleaned[['Student ID', 'Activity 1', 'Midterm Score']]"
   ],
   "metadata": {
    "collapsed": false,
    "ExecuteTime": {
     "end_time": "2023-10-29T13:02:56.117174Z",
     "start_time": "2023-10-29T13:02:56.085832500Z"
    }
   }
  },
  {
   "cell_type": "code",
   "execution_count": 75,
   "outputs": [
    {
     "data": {
      "text/plain": "  Student ID  Activity 1 Midterm Score\n0  582115509           5           2.5\n1  592115508           5           2.5\n2  592115521           5           2.5\n3  602115001           0             0\n4  602115002           9             4",
      "text/html": "<div>\n<style scoped>\n    .dataframe tbody tr th:only-of-type {\n        vertical-align: middle;\n    }\n\n    .dataframe tbody tr th {\n        vertical-align: top;\n    }\n\n    .dataframe thead th {\n        text-align: right;\n    }\n</style>\n<table border=\"1\" class=\"dataframe\">\n  <thead>\n    <tr style=\"text-align: right;\">\n      <th></th>\n      <th>Student ID</th>\n      <th>Activity 1</th>\n      <th>Midterm Score</th>\n    </tr>\n  </thead>\n  <tbody>\n    <tr>\n      <th>0</th>\n      <td>582115509</td>\n      <td>5</td>\n      <td>2.5</td>\n    </tr>\n    <tr>\n      <th>1</th>\n      <td>592115508</td>\n      <td>5</td>\n      <td>2.5</td>\n    </tr>\n    <tr>\n      <th>2</th>\n      <td>592115521</td>\n      <td>5</td>\n      <td>2.5</td>\n    </tr>\n    <tr>\n      <th>3</th>\n      <td>602115001</td>\n      <td>0</td>\n      <td>0</td>\n    </tr>\n    <tr>\n      <th>4</th>\n      <td>602115002</td>\n      <td>9</td>\n      <td>4</td>\n    </tr>\n  </tbody>\n</table>\n</div>"
     },
     "execution_count": 75,
     "metadata": {},
     "output_type": "execute_result"
    }
   ],
   "source": [
    "new_df.head()"
   ],
   "metadata": {
    "collapsed": false,
    "ExecuteTime": {
     "end_time": "2023-10-29T13:03:08.591759300Z",
     "start_time": "2023-10-29T13:03:08.531606Z"
    }
   }
  },
  {
   "cell_type": "markdown",
   "source": [
    "Check df3 and df4\n",
    "```python\n",
    "df3\n",
    "```"
   ],
   "metadata": {
    "collapsed": false
   }
  },
  {
   "cell_type": "code",
   "execution_count": 16,
   "outputs": [
    {
     "data": {
      "text/plain": "  lkey  data1\n0    b      0\n1    b      1\n2    a      2\n3    c      3\n4    a      4\n5    a      5\n6    b      6",
      "text/html": "<div>\n<style scoped>\n    .dataframe tbody tr th:only-of-type {\n        vertical-align: middle;\n    }\n\n    .dataframe tbody tr th {\n        vertical-align: top;\n    }\n\n    .dataframe thead th {\n        text-align: right;\n    }\n</style>\n<table border=\"1\" class=\"dataframe\">\n  <thead>\n    <tr style=\"text-align: right;\">\n      <th></th>\n      <th>lkey</th>\n      <th>data1</th>\n    </tr>\n  </thead>\n  <tbody>\n    <tr>\n      <th>0</th>\n      <td>b</td>\n      <td>0</td>\n    </tr>\n    <tr>\n      <th>1</th>\n      <td>b</td>\n      <td>1</td>\n    </tr>\n    <tr>\n      <th>2</th>\n      <td>a</td>\n      <td>2</td>\n    </tr>\n    <tr>\n      <th>3</th>\n      <td>c</td>\n      <td>3</td>\n    </tr>\n    <tr>\n      <th>4</th>\n      <td>a</td>\n      <td>4</td>\n    </tr>\n    <tr>\n      <th>5</th>\n      <td>a</td>\n      <td>5</td>\n    </tr>\n    <tr>\n      <th>6</th>\n      <td>b</td>\n      <td>6</td>\n    </tr>\n  </tbody>\n</table>\n</div>"
     },
     "execution_count": 16,
     "metadata": {},
     "output_type": "execute_result"
    }
   ],
   "source": [
    "df3"
   ],
   "metadata": {
    "collapsed": false,
    "ExecuteTime": {
     "end_time": "2023-10-29T12:41:12.304608500Z",
     "start_time": "2023-10-29T12:41:12.257534200Z"
    }
   }
  },
  {
   "cell_type": "markdown",
   "source": [
    "```python\n",
    "df4\n",
    "```"
   ],
   "metadata": {
    "collapsed": false
   }
  },
  {
   "cell_type": "code",
   "metadata": {
    "colab": {
     "base_uri": "https://localhost:8080/",
     "height": 143
    },
    "id": "nkn_dSJwEm-M",
    "outputId": "afe94a0f-358c-4728-8b00-7d488c090708",
    "ExecuteTime": {
     "end_time": "2023-10-29T12:41:21.217424900Z",
     "start_time": "2023-10-29T12:41:21.139127500Z"
    }
   },
   "source": [
    "df4"
   ],
   "execution_count": 17,
   "outputs": [
    {
     "data": {
      "text/plain": "  rkey  data2\n0    a      0\n1    b      1\n2    d      2",
      "text/html": "<div>\n<style scoped>\n    .dataframe tbody tr th:only-of-type {\n        vertical-align: middle;\n    }\n\n    .dataframe tbody tr th {\n        vertical-align: top;\n    }\n\n    .dataframe thead th {\n        text-align: right;\n    }\n</style>\n<table border=\"1\" class=\"dataframe\">\n  <thead>\n    <tr style=\"text-align: right;\">\n      <th></th>\n      <th>rkey</th>\n      <th>data2</th>\n    </tr>\n  </thead>\n  <tbody>\n    <tr>\n      <th>0</th>\n      <td>a</td>\n      <td>0</td>\n    </tr>\n    <tr>\n      <th>1</th>\n      <td>b</td>\n      <td>1</td>\n    </tr>\n    <tr>\n      <th>2</th>\n      <td>d</td>\n      <td>2</td>\n    </tr>\n  </tbody>\n</table>\n</div>"
     },
     "execution_count": 17,
     "metadata": {},
     "output_type": "execute_result"
    }
   ]
  },
  {
   "cell_type": "markdown",
   "source": [
    "then try to merge df3 and df4\n",
    "```python\n",
    "pd.merge(df3,df4)\n",
    "```"
   ],
   "metadata": {
    "collapsed": false
   }
  },
  {
   "cell_type": "code",
   "metadata": {
    "colab": {
     "base_uri": "https://localhost:8080/",
     "height": 336
    },
    "id": "1pmWBZNKEua8",
    "outputId": "ce4d7f90-0097-425e-bbb8-b5532b698a5f",
    "ExecuteTime": {
     "end_time": "2023-10-29T12:41:39.314720900Z",
     "start_time": "2023-10-29T12:41:39.009913800Z"
    }
   },
   "source": [
    "pd.merge(df3,df4)"
   ],
   "execution_count": 18,
   "outputs": [
    {
     "ename": "MergeError",
     "evalue": "No common columns to perform merge on. Merge options: left_on=None, right_on=None, left_index=False, right_index=False",
     "output_type": "error",
     "traceback": [
      "\u001B[1;31m---------------------------------------------------------------------------\u001B[0m",
      "\u001B[1;31mMergeError\u001B[0m                                Traceback (most recent call last)",
      "Cell \u001B[1;32mIn[18], line 1\u001B[0m\n\u001B[1;32m----> 1\u001B[0m \u001B[43mpd\u001B[49m\u001B[38;5;241;43m.\u001B[39;49m\u001B[43mmerge\u001B[49m\u001B[43m(\u001B[49m\u001B[43mdf3\u001B[49m\u001B[43m,\u001B[49m\u001B[43mdf4\u001B[49m\u001B[43m)\u001B[49m\n",
      "File \u001B[1;32m~\\anaconda3\\lib\\site-packages\\pandas\\core\\reshape\\merge.py:110\u001B[0m, in \u001B[0;36mmerge\u001B[1;34m(left, right, how, on, left_on, right_on, left_index, right_index, sort, suffixes, copy, indicator, validate)\u001B[0m\n\u001B[0;32m     93\u001B[0m \u001B[38;5;129m@Substitution\u001B[39m(\u001B[38;5;124m\"\u001B[39m\u001B[38;5;130;01m\\n\u001B[39;00m\u001B[38;5;124mleft : DataFrame or named Series\u001B[39m\u001B[38;5;124m\"\u001B[39m)\n\u001B[0;32m     94\u001B[0m \u001B[38;5;129m@Appender\u001B[39m(_merge_doc, indents\u001B[38;5;241m=\u001B[39m\u001B[38;5;241m0\u001B[39m)\n\u001B[0;32m     95\u001B[0m \u001B[38;5;28;01mdef\u001B[39;00m \u001B[38;5;21mmerge\u001B[39m(\n\u001B[1;32m   (...)\u001B[0m\n\u001B[0;32m    108\u001B[0m     validate: \u001B[38;5;28mstr\u001B[39m \u001B[38;5;241m|\u001B[39m \u001B[38;5;28;01mNone\u001B[39;00m \u001B[38;5;241m=\u001B[39m \u001B[38;5;28;01mNone\u001B[39;00m,\n\u001B[0;32m    109\u001B[0m ) \u001B[38;5;241m-\u001B[39m\u001B[38;5;241m>\u001B[39m DataFrame:\n\u001B[1;32m--> 110\u001B[0m     op \u001B[38;5;241m=\u001B[39m \u001B[43m_MergeOperation\u001B[49m\u001B[43m(\u001B[49m\n\u001B[0;32m    111\u001B[0m \u001B[43m        \u001B[49m\u001B[43mleft\u001B[49m\u001B[43m,\u001B[49m\n\u001B[0;32m    112\u001B[0m \u001B[43m        \u001B[49m\u001B[43mright\u001B[49m\u001B[43m,\u001B[49m\n\u001B[0;32m    113\u001B[0m \u001B[43m        \u001B[49m\u001B[43mhow\u001B[49m\u001B[38;5;241;43m=\u001B[39;49m\u001B[43mhow\u001B[49m\u001B[43m,\u001B[49m\n\u001B[0;32m    114\u001B[0m \u001B[43m        \u001B[49m\u001B[43mon\u001B[49m\u001B[38;5;241;43m=\u001B[39;49m\u001B[43mon\u001B[49m\u001B[43m,\u001B[49m\n\u001B[0;32m    115\u001B[0m \u001B[43m        \u001B[49m\u001B[43mleft_on\u001B[49m\u001B[38;5;241;43m=\u001B[39;49m\u001B[43mleft_on\u001B[49m\u001B[43m,\u001B[49m\n\u001B[0;32m    116\u001B[0m \u001B[43m        \u001B[49m\u001B[43mright_on\u001B[49m\u001B[38;5;241;43m=\u001B[39;49m\u001B[43mright_on\u001B[49m\u001B[43m,\u001B[49m\n\u001B[0;32m    117\u001B[0m \u001B[43m        \u001B[49m\u001B[43mleft_index\u001B[49m\u001B[38;5;241;43m=\u001B[39;49m\u001B[43mleft_index\u001B[49m\u001B[43m,\u001B[49m\n\u001B[0;32m    118\u001B[0m \u001B[43m        \u001B[49m\u001B[43mright_index\u001B[49m\u001B[38;5;241;43m=\u001B[39;49m\u001B[43mright_index\u001B[49m\u001B[43m,\u001B[49m\n\u001B[0;32m    119\u001B[0m \u001B[43m        \u001B[49m\u001B[43msort\u001B[49m\u001B[38;5;241;43m=\u001B[39;49m\u001B[43msort\u001B[49m\u001B[43m,\u001B[49m\n\u001B[0;32m    120\u001B[0m \u001B[43m        \u001B[49m\u001B[43msuffixes\u001B[49m\u001B[38;5;241;43m=\u001B[39;49m\u001B[43msuffixes\u001B[49m\u001B[43m,\u001B[49m\n\u001B[0;32m    121\u001B[0m \u001B[43m        \u001B[49m\u001B[43mindicator\u001B[49m\u001B[38;5;241;43m=\u001B[39;49m\u001B[43mindicator\u001B[49m\u001B[43m,\u001B[49m\n\u001B[0;32m    122\u001B[0m \u001B[43m        \u001B[49m\u001B[43mvalidate\u001B[49m\u001B[38;5;241;43m=\u001B[39;49m\u001B[43mvalidate\u001B[49m\u001B[43m,\u001B[49m\n\u001B[0;32m    123\u001B[0m \u001B[43m    \u001B[49m\u001B[43m)\u001B[49m\n\u001B[0;32m    124\u001B[0m     \u001B[38;5;28;01mreturn\u001B[39;00m op\u001B[38;5;241m.\u001B[39mget_result(copy\u001B[38;5;241m=\u001B[39mcopy)\n",
      "File \u001B[1;32m~\\anaconda3\\lib\\site-packages\\pandas\\core\\reshape\\merge.py:685\u001B[0m, in \u001B[0;36m_MergeOperation.__init__\u001B[1;34m(self, left, right, how, on, left_on, right_on, axis, left_index, right_index, sort, suffixes, indicator, validate)\u001B[0m\n\u001B[0;32m    681\u001B[0m     \u001B[38;5;66;03m# stacklevel chosen to be correct when this is reached via pd.merge\u001B[39;00m\n\u001B[0;32m    682\u001B[0m     \u001B[38;5;66;03m# (and not DataFrame.join)\u001B[39;00m\n\u001B[0;32m    683\u001B[0m     warnings\u001B[38;5;241m.\u001B[39mwarn(msg, \u001B[38;5;167;01mFutureWarning\u001B[39;00m, stacklevel\u001B[38;5;241m=\u001B[39mfind_stack_level())\n\u001B[1;32m--> 685\u001B[0m \u001B[38;5;28mself\u001B[39m\u001B[38;5;241m.\u001B[39mleft_on, \u001B[38;5;28mself\u001B[39m\u001B[38;5;241m.\u001B[39mright_on \u001B[38;5;241m=\u001B[39m \u001B[38;5;28;43mself\u001B[39;49m\u001B[38;5;241;43m.\u001B[39;49m\u001B[43m_validate_left_right_on\u001B[49m\u001B[43m(\u001B[49m\u001B[43mleft_on\u001B[49m\u001B[43m,\u001B[49m\u001B[43m \u001B[49m\u001B[43mright_on\u001B[49m\u001B[43m)\u001B[49m\n\u001B[0;32m    687\u001B[0m cross_col \u001B[38;5;241m=\u001B[39m \u001B[38;5;28;01mNone\u001B[39;00m\n\u001B[0;32m    688\u001B[0m \u001B[38;5;28;01mif\u001B[39;00m \u001B[38;5;28mself\u001B[39m\u001B[38;5;241m.\u001B[39mhow \u001B[38;5;241m==\u001B[39m \u001B[38;5;124m\"\u001B[39m\u001B[38;5;124mcross\u001B[39m\u001B[38;5;124m\"\u001B[39m:\n",
      "File \u001B[1;32m~\\anaconda3\\lib\\site-packages\\pandas\\core\\reshape\\merge.py:1434\u001B[0m, in \u001B[0;36m_MergeOperation._validate_left_right_on\u001B[1;34m(self, left_on, right_on)\u001B[0m\n\u001B[0;32m   1432\u001B[0m common_cols \u001B[38;5;241m=\u001B[39m left_cols\u001B[38;5;241m.\u001B[39mintersection(right_cols)\n\u001B[0;32m   1433\u001B[0m \u001B[38;5;28;01mif\u001B[39;00m \u001B[38;5;28mlen\u001B[39m(common_cols) \u001B[38;5;241m==\u001B[39m \u001B[38;5;241m0\u001B[39m:\n\u001B[1;32m-> 1434\u001B[0m     \u001B[38;5;28;01mraise\u001B[39;00m MergeError(\n\u001B[0;32m   1435\u001B[0m         \u001B[38;5;124m\"\u001B[39m\u001B[38;5;124mNo common columns to perform merge on. \u001B[39m\u001B[38;5;124m\"\u001B[39m\n\u001B[0;32m   1436\u001B[0m         \u001B[38;5;124mf\u001B[39m\u001B[38;5;124m\"\u001B[39m\u001B[38;5;124mMerge options: left_on=\u001B[39m\u001B[38;5;132;01m{\u001B[39;00mleft_on\u001B[38;5;132;01m}\u001B[39;00m\u001B[38;5;124m, \u001B[39m\u001B[38;5;124m\"\u001B[39m\n\u001B[0;32m   1437\u001B[0m         \u001B[38;5;124mf\u001B[39m\u001B[38;5;124m\"\u001B[39m\u001B[38;5;124mright_on=\u001B[39m\u001B[38;5;132;01m{\u001B[39;00mright_on\u001B[38;5;132;01m}\u001B[39;00m\u001B[38;5;124m, \u001B[39m\u001B[38;5;124m\"\u001B[39m\n\u001B[0;32m   1438\u001B[0m         \u001B[38;5;124mf\u001B[39m\u001B[38;5;124m\"\u001B[39m\u001B[38;5;124mleft_index=\u001B[39m\u001B[38;5;132;01m{\u001B[39;00m\u001B[38;5;28mself\u001B[39m\u001B[38;5;241m.\u001B[39mleft_index\u001B[38;5;132;01m}\u001B[39;00m\u001B[38;5;124m, \u001B[39m\u001B[38;5;124m\"\u001B[39m\n\u001B[0;32m   1439\u001B[0m         \u001B[38;5;124mf\u001B[39m\u001B[38;5;124m\"\u001B[39m\u001B[38;5;124mright_index=\u001B[39m\u001B[38;5;132;01m{\u001B[39;00m\u001B[38;5;28mself\u001B[39m\u001B[38;5;241m.\u001B[39mright_index\u001B[38;5;132;01m}\u001B[39;00m\u001B[38;5;124m\"\u001B[39m\n\u001B[0;32m   1440\u001B[0m     )\n\u001B[0;32m   1441\u001B[0m \u001B[38;5;28;01mif\u001B[39;00m (\n\u001B[0;32m   1442\u001B[0m     \u001B[38;5;129;01mnot\u001B[39;00m left_cols\u001B[38;5;241m.\u001B[39mjoin(common_cols, how\u001B[38;5;241m=\u001B[39m\u001B[38;5;124m\"\u001B[39m\u001B[38;5;124minner\u001B[39m\u001B[38;5;124m\"\u001B[39m)\u001B[38;5;241m.\u001B[39mis_unique\n\u001B[0;32m   1443\u001B[0m     \u001B[38;5;129;01mor\u001B[39;00m \u001B[38;5;129;01mnot\u001B[39;00m right_cols\u001B[38;5;241m.\u001B[39mjoin(common_cols, how\u001B[38;5;241m=\u001B[39m\u001B[38;5;124m\"\u001B[39m\u001B[38;5;124minner\u001B[39m\u001B[38;5;124m\"\u001B[39m)\u001B[38;5;241m.\u001B[39mis_unique\n\u001B[0;32m   1444\u001B[0m ):\n\u001B[0;32m   1445\u001B[0m     \u001B[38;5;28;01mraise\u001B[39;00m MergeError(\u001B[38;5;124mf\u001B[39m\u001B[38;5;124m\"\u001B[39m\u001B[38;5;124mData columns not unique: \u001B[39m\u001B[38;5;132;01m{\u001B[39;00m\u001B[38;5;28mrepr\u001B[39m(common_cols)\u001B[38;5;132;01m}\u001B[39;00m\u001B[38;5;124m\"\u001B[39m)\n",
      "\u001B[1;31mMergeError\u001B[0m: No common columns to perform merge on. Merge options: left_on=None, right_on=None, left_index=False, right_index=False"
     ]
    }
   ]
  },
  {
   "cell_type": "markdown",
   "source": [
    "You may see that it's could not merge as there is no column which are the same key name.\n",
    "We can specify the column name which can be merge using the different name with the `left-on` and `right_on` argument\n",
    "```python\n",
    "pd.merge(df3, df4, left_on='lkey', right_on='rkey')\n",
    "```"
   ],
   "metadata": {
    "collapsed": false
   }
  },
  {
   "cell_type": "code",
   "metadata": {
    "id": "yDDheXdWhaai",
    "colab": {
     "base_uri": "https://localhost:8080/",
     "height": 238
    },
    "outputId": "f80296b2-58fc-4006-975d-b56ad683e82a",
    "ExecuteTime": {
     "end_time": "2023-10-29T12:42:11.168006900Z",
     "start_time": "2023-10-29T12:42:11.057874900Z"
    }
   },
   "source": [
    "pd.merge(df3, df4, left_on='lkey', right_on='rkey')"
   ],
   "execution_count": 19,
   "outputs": [
    {
     "data": {
      "text/plain": "  lkey  data1 rkey  data2\n0    b      0    b      1\n1    b      1    b      1\n2    b      6    b      1\n3    a      2    a      0\n4    a      4    a      0\n5    a      5    a      0",
      "text/html": "<div>\n<style scoped>\n    .dataframe tbody tr th:only-of-type {\n        vertical-align: middle;\n    }\n\n    .dataframe tbody tr th {\n        vertical-align: top;\n    }\n\n    .dataframe thead th {\n        text-align: right;\n    }\n</style>\n<table border=\"1\" class=\"dataframe\">\n  <thead>\n    <tr style=\"text-align: right;\">\n      <th></th>\n      <th>lkey</th>\n      <th>data1</th>\n      <th>rkey</th>\n      <th>data2</th>\n    </tr>\n  </thead>\n  <tbody>\n    <tr>\n      <th>0</th>\n      <td>b</td>\n      <td>0</td>\n      <td>b</td>\n      <td>1</td>\n    </tr>\n    <tr>\n      <th>1</th>\n      <td>b</td>\n      <td>1</td>\n      <td>b</td>\n      <td>1</td>\n    </tr>\n    <tr>\n      <th>2</th>\n      <td>b</td>\n      <td>6</td>\n      <td>b</td>\n      <td>1</td>\n    </tr>\n    <tr>\n      <th>3</th>\n      <td>a</td>\n      <td>2</td>\n      <td>a</td>\n      <td>0</td>\n    </tr>\n    <tr>\n      <th>4</th>\n      <td>a</td>\n      <td>4</td>\n      <td>a</td>\n      <td>0</td>\n    </tr>\n    <tr>\n      <th>5</th>\n      <td>a</td>\n      <td>5</td>\n      <td>a</td>\n      <td>0</td>\n    </tr>\n  </tbody>\n</table>\n</div>"
     },
     "execution_count": 19,
     "metadata": {},
     "output_type": "execute_result"
    }
   ]
  },
  {
   "cell_type": "markdown",
   "source": [
    "or \n",
    "```python\n",
    "pd.merge(df4, df3,  right_on='lkey',left_on='rkey')\n",
    "```"
   ],
   "metadata": {
    "collapsed": false
   }
  },
  {
   "cell_type": "code",
   "source": [
    "pd.merge(df4, df3,  right_on='lkey',left_on='rkey')"
   ],
   "metadata": {
    "colab": {
     "base_uri": "https://localhost:8080/",
     "height": 238
    },
    "id": "ge-3djK98URI",
    "outputId": "917facba-027c-4514-f2ad-a7cca7b0d646",
    "ExecuteTime": {
     "end_time": "2023-10-29T12:42:22.691346800Z",
     "start_time": "2023-10-29T12:42:22.642744900Z"
    }
   },
   "execution_count": 20,
   "outputs": [
    {
     "data": {
      "text/plain": "  rkey  data2 lkey  data1\n0    a      0    a      2\n1    a      0    a      4\n2    a      0    a      5\n3    b      1    b      0\n4    b      1    b      1\n5    b      1    b      6",
      "text/html": "<div>\n<style scoped>\n    .dataframe tbody tr th:only-of-type {\n        vertical-align: middle;\n    }\n\n    .dataframe tbody tr th {\n        vertical-align: top;\n    }\n\n    .dataframe thead th {\n        text-align: right;\n    }\n</style>\n<table border=\"1\" class=\"dataframe\">\n  <thead>\n    <tr style=\"text-align: right;\">\n      <th></th>\n      <th>rkey</th>\n      <th>data2</th>\n      <th>lkey</th>\n      <th>data1</th>\n    </tr>\n  </thead>\n  <tbody>\n    <tr>\n      <th>0</th>\n      <td>a</td>\n      <td>0</td>\n      <td>a</td>\n      <td>2</td>\n    </tr>\n    <tr>\n      <th>1</th>\n      <td>a</td>\n      <td>0</td>\n      <td>a</td>\n      <td>4</td>\n    </tr>\n    <tr>\n      <th>2</th>\n      <td>a</td>\n      <td>0</td>\n      <td>a</td>\n      <td>5</td>\n    </tr>\n    <tr>\n      <th>3</th>\n      <td>b</td>\n      <td>1</td>\n      <td>b</td>\n      <td>0</td>\n    </tr>\n    <tr>\n      <th>4</th>\n      <td>b</td>\n      <td>1</td>\n      <td>b</td>\n      <td>1</td>\n    </tr>\n    <tr>\n      <th>5</th>\n      <td>b</td>\n      <td>1</td>\n      <td>b</td>\n      <td>6</td>\n    </tr>\n  </tbody>\n</table>\n</div>"
     },
     "execution_count": 20,
     "metadata": {},
     "output_type": "execute_result"
    }
   ]
  },
  {
   "cell_type": "markdown",
   "metadata": {
    "id": "IPazI1RLhhBb"
   },
   "source": [
    "You may see that c, and d is removed as it's not in the left data frame\n",
    "\n",
    "To use all data we use the outer argument\n",
    "```python\n",
    "pd.merge(df1,df2,how='outer')\n",
    "```"
   ]
  },
  {
   "cell_type": "code",
   "metadata": {
    "id": "HrnU1ep1hpX7",
    "colab": {
     "base_uri": "https://localhost:8080/",
     "height": 300
    },
    "outputId": "fe9ee87b-4b93-44ad-d057-1f87c8020116",
    "ExecuteTime": {
     "end_time": "2023-10-29T12:42:52.117391400Z",
     "start_time": "2023-10-29T12:42:51.834822700Z"
    }
   },
   "source": [
    "pd.merge(df1,df2,how='outer')"
   ],
   "execution_count": 21,
   "outputs": [
    {
     "data": {
      "text/plain": "  key  data1  data2\n0   b    0.0    1.0\n1   b    1.0    1.0\n2   b    6.0    1.0\n3   a    2.0    0.0\n4   a    4.0    0.0\n5   a    5.0    0.0\n6   c    3.0    NaN\n7   d    NaN    2.0",
      "text/html": "<div>\n<style scoped>\n    .dataframe tbody tr th:only-of-type {\n        vertical-align: middle;\n    }\n\n    .dataframe tbody tr th {\n        vertical-align: top;\n    }\n\n    .dataframe thead th {\n        text-align: right;\n    }\n</style>\n<table border=\"1\" class=\"dataframe\">\n  <thead>\n    <tr style=\"text-align: right;\">\n      <th></th>\n      <th>key</th>\n      <th>data1</th>\n      <th>data2</th>\n    </tr>\n  </thead>\n  <tbody>\n    <tr>\n      <th>0</th>\n      <td>b</td>\n      <td>0.0</td>\n      <td>1.0</td>\n    </tr>\n    <tr>\n      <th>1</th>\n      <td>b</td>\n      <td>1.0</td>\n      <td>1.0</td>\n    </tr>\n    <tr>\n      <th>2</th>\n      <td>b</td>\n      <td>6.0</td>\n      <td>1.0</td>\n    </tr>\n    <tr>\n      <th>3</th>\n      <td>a</td>\n      <td>2.0</td>\n      <td>0.0</td>\n    </tr>\n    <tr>\n      <th>4</th>\n      <td>a</td>\n      <td>4.0</td>\n      <td>0.0</td>\n    </tr>\n    <tr>\n      <th>5</th>\n      <td>a</td>\n      <td>5.0</td>\n      <td>0.0</td>\n    </tr>\n    <tr>\n      <th>6</th>\n      <td>c</td>\n      <td>3.0</td>\n      <td>NaN</td>\n    </tr>\n    <tr>\n      <th>7</th>\n      <td>d</td>\n      <td>NaN</td>\n      <td>2.0</td>\n    </tr>\n  </tbody>\n</table>\n</div>"
     },
     "execution_count": 21,
     "metadata": {},
     "output_type": "execute_result"
    }
   ]
  },
  {
   "cell_type": "markdown",
   "metadata": {
    "id": "sNtccP7Ehx2i"
   },
   "source": [
    "You may try other argument to see the different\n",
    "![image-20230915053652812](./assets/image-20230915053652812.png)\n"
   ]
  },
  {
   "cell_type": "markdown",
   "source": [
    "inner join is the intersection of the data\n",
    "```python\n",
    "pd.merge(df1,df2,how='inner')\n",
    "```"
   ],
   "metadata": {
    "collapsed": false
   }
  },
  {
   "cell_type": "code",
   "metadata": {
    "id": "Dq-j6n-sh6IO",
    "colab": {
     "base_uri": "https://localhost:8080/",
     "height": 238
    },
    "outputId": "3b1d4a63-e4f8-49c2-dd3a-47556f76790c",
    "ExecuteTime": {
     "end_time": "2023-10-29T12:43:04.924261800Z",
     "start_time": "2023-10-29T12:43:04.877972800Z"
    }
   },
   "source": [
    "pd.merge(df1,df2,how='inner')"
   ],
   "execution_count": 22,
   "outputs": [
    {
     "data": {
      "text/plain": "  key  data1  data2\n0   b      0      1\n1   b      1      1\n2   b      6      1\n3   a      2      0\n4   a      4      0\n5   a      5      0",
      "text/html": "<div>\n<style scoped>\n    .dataframe tbody tr th:only-of-type {\n        vertical-align: middle;\n    }\n\n    .dataframe tbody tr th {\n        vertical-align: top;\n    }\n\n    .dataframe thead th {\n        text-align: right;\n    }\n</style>\n<table border=\"1\" class=\"dataframe\">\n  <thead>\n    <tr style=\"text-align: right;\">\n      <th></th>\n      <th>key</th>\n      <th>data1</th>\n      <th>data2</th>\n    </tr>\n  </thead>\n  <tbody>\n    <tr>\n      <th>0</th>\n      <td>b</td>\n      <td>0</td>\n      <td>1</td>\n    </tr>\n    <tr>\n      <th>1</th>\n      <td>b</td>\n      <td>1</td>\n      <td>1</td>\n    </tr>\n    <tr>\n      <th>2</th>\n      <td>b</td>\n      <td>6</td>\n      <td>1</td>\n    </tr>\n    <tr>\n      <th>3</th>\n      <td>a</td>\n      <td>2</td>\n      <td>0</td>\n    </tr>\n    <tr>\n      <th>4</th>\n      <td>a</td>\n      <td>4</td>\n      <td>0</td>\n    </tr>\n    <tr>\n      <th>5</th>\n      <td>a</td>\n      <td>5</td>\n      <td>0</td>\n    </tr>\n  </tbody>\n</table>\n</div>"
     },
     "execution_count": 22,
     "metadata": {},
     "output_type": "execute_result"
    }
   ]
  },
  {
   "cell_type": "markdown",
   "source": [
    "left join is the left data frame\n",
    "```python\n",
    "pd.merge(df1,df2,how='left')\n",
    "```"
   ],
   "metadata": {
    "collapsed": false
   }
  },
  {
   "cell_type": "code",
   "metadata": {
    "id": "uSJmf9OIF34Y",
    "colab": {
     "base_uri": "https://localhost:8080/",
     "height": 269
    },
    "outputId": "89212eb3-b34a-4285-baae-25063876a3eb",
    "ExecuteTime": {
     "end_time": "2023-10-29T12:43:10.338980200Z",
     "start_time": "2023-10-29T12:43:10.213580500Z"
    }
   },
   "source": [
    "pd.merge(df1,df2,how='left')"
   ],
   "execution_count": 23,
   "outputs": [
    {
     "data": {
      "text/plain": "  key  data1  data2\n0   b      0    1.0\n1   b      1    1.0\n2   a      2    0.0\n3   c      3    NaN\n4   a      4    0.0\n5   a      5    0.0\n6   b      6    1.0",
      "text/html": "<div>\n<style scoped>\n    .dataframe tbody tr th:only-of-type {\n        vertical-align: middle;\n    }\n\n    .dataframe tbody tr th {\n        vertical-align: top;\n    }\n\n    .dataframe thead th {\n        text-align: right;\n    }\n</style>\n<table border=\"1\" class=\"dataframe\">\n  <thead>\n    <tr style=\"text-align: right;\">\n      <th></th>\n      <th>key</th>\n      <th>data1</th>\n      <th>data2</th>\n    </tr>\n  </thead>\n  <tbody>\n    <tr>\n      <th>0</th>\n      <td>b</td>\n      <td>0</td>\n      <td>1.0</td>\n    </tr>\n    <tr>\n      <th>1</th>\n      <td>b</td>\n      <td>1</td>\n      <td>1.0</td>\n    </tr>\n    <tr>\n      <th>2</th>\n      <td>a</td>\n      <td>2</td>\n      <td>0.0</td>\n    </tr>\n    <tr>\n      <th>3</th>\n      <td>c</td>\n      <td>3</td>\n      <td>NaN</td>\n    </tr>\n    <tr>\n      <th>4</th>\n      <td>a</td>\n      <td>4</td>\n      <td>0.0</td>\n    </tr>\n    <tr>\n      <th>5</th>\n      <td>a</td>\n      <td>5</td>\n      <td>0.0</td>\n    </tr>\n    <tr>\n      <th>6</th>\n      <td>b</td>\n      <td>6</td>\n      <td>1.0</td>\n    </tr>\n  </tbody>\n</table>\n</div>"
     },
     "execution_count": 23,
     "metadata": {},
     "output_type": "execute_result"
    }
   ]
  },
  {
   "cell_type": "markdown",
   "metadata": {
    "id": "Ju7uB27hkGOO"
   },
   "source": [
    "we can merge with multiple keys by passing a list of columns\n",
    "try to create this given data frame\n",
    "```python\n",
    "left = pd.DataFrame({'key1': ['foo', 'foo', 'bar'],\n",
    "                     'key2': ['one', 'two', 'one'],\n",
    "                     'lval': [1, 2, 3]})\n",
    "right = pd.DataFrame({'key1': ['foo', 'foo', 'bar', 'bar'],\n",
    "                      'key2': ['one', 'one', 'one', 'two'],\n",
    "                      'rval': [4, 5, 6, 7]})\n",
    "```"
   ]
  },
  {
   "cell_type": "code",
   "metadata": {
    "id": "J7YdqpX9kk4H",
    "ExecuteTime": {
     "end_time": "2023-10-29T12:43:15.874943800Z",
     "start_time": "2023-10-29T12:43:15.843632200Z"
    }
   },
   "source": [
    "left = pd.DataFrame({'key1': ['foo', 'foo', 'bar'],\n",
    "                     'key2': ['one', 'two', 'one'],\n",
    "                     'lval': [1, 2, 3]})\n",
    "right = pd.DataFrame({'key1': ['foo', 'foo', 'bar', 'bar'],\n",
    "                      'key2': ['one', 'one', 'one', 'two'],\n",
    "                      'rval': [4, 5, 6, 7]})"
   ],
   "execution_count": 24,
   "outputs": []
  },
  {
   "cell_type": "markdown",
   "source": [
    "then try to merge with the multiple keys\n",
    "```python\n",
    "pd.merge(left,right,on=['key1','key2'],how='outer')\n",
    "```"
   ],
   "metadata": {
    "collapsed": false
   }
  },
  {
   "cell_type": "code",
   "metadata": {
    "id": "aVjzio7wkqvF",
    "colab": {
     "base_uri": "https://localhost:8080/",
     "height": 206
    },
    "outputId": "ea4a29cc-52aa-4d95-8742-d05f22bbc3d3",
    "ExecuteTime": {
     "end_time": "2023-10-29T12:43:20.834705800Z",
     "start_time": "2023-10-29T12:43:20.803103400Z"
    }
   },
   "source": [
    "pd.merge(left,right,on=['key1','key2'],how='outer')"
   ],
   "execution_count": 25,
   "outputs": [
    {
     "data": {
      "text/plain": "  key1 key2  lval  rval\n0  foo  one   1.0   4.0\n1  foo  one   1.0   5.0\n2  foo  two   2.0   NaN\n3  bar  one   3.0   6.0\n4  bar  two   NaN   7.0",
      "text/html": "<div>\n<style scoped>\n    .dataframe tbody tr th:only-of-type {\n        vertical-align: middle;\n    }\n\n    .dataframe tbody tr th {\n        vertical-align: top;\n    }\n\n    .dataframe thead th {\n        text-align: right;\n    }\n</style>\n<table border=\"1\" class=\"dataframe\">\n  <thead>\n    <tr style=\"text-align: right;\">\n      <th></th>\n      <th>key1</th>\n      <th>key2</th>\n      <th>lval</th>\n      <th>rval</th>\n    </tr>\n  </thead>\n  <tbody>\n    <tr>\n      <th>0</th>\n      <td>foo</td>\n      <td>one</td>\n      <td>1.0</td>\n      <td>4.0</td>\n    </tr>\n    <tr>\n      <th>1</th>\n      <td>foo</td>\n      <td>one</td>\n      <td>1.0</td>\n      <td>5.0</td>\n    </tr>\n    <tr>\n      <th>2</th>\n      <td>foo</td>\n      <td>two</td>\n      <td>2.0</td>\n      <td>NaN</td>\n    </tr>\n    <tr>\n      <th>3</th>\n      <td>bar</td>\n      <td>one</td>\n      <td>3.0</td>\n      <td>6.0</td>\n    </tr>\n    <tr>\n      <th>4</th>\n      <td>bar</td>\n      <td>two</td>\n      <td>NaN</td>\n      <td>7.0</td>\n    </tr>\n  </tbody>\n</table>\n</div>"
     },
     "execution_count": 25,
     "metadata": {},
     "output_type": "execute_result"
    }
   ]
  },
  {
   "cell_type": "markdown",
   "metadata": {
    "id": "aFIKDtBqk12K"
   },
   "source": [
    "Some time if the name of the column may be collapse. (Same column name, but not the key)\n",
    "You may change the name of the column before merging directly, or you can set the suffix column\n",
    "the example of the problem is shown\n",
    "```python\n",
    "pd.merge(left, right, on='key1')\n",
    "```"
   ]
  },
  {
   "cell_type": "code",
   "metadata": {
    "id": "2aBjHvFzlwCd",
    "colab": {
     "base_uri": "https://localhost:8080/",
     "height": 238
    },
    "outputId": "7653b22c-5e39-4816-e785-af233bef94e1",
    "ExecuteTime": {
     "end_time": "2023-10-29T12:43:26.924188500Z",
     "start_time": "2023-10-29T12:43:26.843827100Z"
    }
   },
   "source": [
    "pd.merge(left, right, on='key1')"
   ],
   "execution_count": 26,
   "outputs": [
    {
     "data": {
      "text/plain": "  key1 key2_x  lval key2_y  rval\n0  foo    one     1    one     4\n1  foo    one     1    one     5\n2  foo    two     2    one     4\n3  foo    two     2    one     5\n4  bar    one     3    one     6\n5  bar    one     3    two     7",
      "text/html": "<div>\n<style scoped>\n    .dataframe tbody tr th:only-of-type {\n        vertical-align: middle;\n    }\n\n    .dataframe tbody tr th {\n        vertical-align: top;\n    }\n\n    .dataframe thead th {\n        text-align: right;\n    }\n</style>\n<table border=\"1\" class=\"dataframe\">\n  <thead>\n    <tr style=\"text-align: right;\">\n      <th></th>\n      <th>key1</th>\n      <th>key2_x</th>\n      <th>lval</th>\n      <th>key2_y</th>\n      <th>rval</th>\n    </tr>\n  </thead>\n  <tbody>\n    <tr>\n      <th>0</th>\n      <td>foo</td>\n      <td>one</td>\n      <td>1</td>\n      <td>one</td>\n      <td>4</td>\n    </tr>\n    <tr>\n      <th>1</th>\n      <td>foo</td>\n      <td>one</td>\n      <td>1</td>\n      <td>one</td>\n      <td>5</td>\n    </tr>\n    <tr>\n      <th>2</th>\n      <td>foo</td>\n      <td>two</td>\n      <td>2</td>\n      <td>one</td>\n      <td>4</td>\n    </tr>\n    <tr>\n      <th>3</th>\n      <td>foo</td>\n      <td>two</td>\n      <td>2</td>\n      <td>one</td>\n      <td>5</td>\n    </tr>\n    <tr>\n      <th>4</th>\n      <td>bar</td>\n      <td>one</td>\n      <td>3</td>\n      <td>one</td>\n      <td>6</td>\n    </tr>\n    <tr>\n      <th>5</th>\n      <td>bar</td>\n      <td>one</td>\n      <td>3</td>\n      <td>two</td>\n      <td>7</td>\n    </tr>\n  </tbody>\n</table>\n</div>"
     },
     "execution_count": 26,
     "metadata": {},
     "output_type": "execute_result"
    }
   ]
  },
  {
   "cell_type": "markdown",
   "source": [
    "the suffixes can be set by the `suffixes` argument\n",
    "```python\n",
    "pd.merge(left, right, on='key1', suffixes=('_left', '_right'))\n",
    "```"
   ],
   "metadata": {
    "collapsed": false
   }
  },
  {
   "cell_type": "code",
   "metadata": {
    "id": "pKVd-A2gl2E9",
    "colab": {
     "base_uri": "https://localhost:8080/",
     "height": 238
    },
    "outputId": "37827898-faf6-42e1-82e9-ba0b19229194",
    "ExecuteTime": {
     "end_time": "2023-10-29T12:43:32.479785400Z",
     "start_time": "2023-10-29T12:43:32.387180100Z"
    }
   },
   "source": [
    "pd.merge(left, right, on='key1', suffixes=('_left', '_right'))"
   ],
   "execution_count": 27,
   "outputs": [
    {
     "data": {
      "text/plain": "  key1 key2_left  lval key2_right  rval\n0  foo       one     1        one     4\n1  foo       one     1        one     5\n2  foo       two     2        one     4\n3  foo       two     2        one     5\n4  bar       one     3        one     6\n5  bar       one     3        two     7",
      "text/html": "<div>\n<style scoped>\n    .dataframe tbody tr th:only-of-type {\n        vertical-align: middle;\n    }\n\n    .dataframe tbody tr th {\n        vertical-align: top;\n    }\n\n    .dataframe thead th {\n        text-align: right;\n    }\n</style>\n<table border=\"1\" class=\"dataframe\">\n  <thead>\n    <tr style=\"text-align: right;\">\n      <th></th>\n      <th>key1</th>\n      <th>key2_left</th>\n      <th>lval</th>\n      <th>key2_right</th>\n      <th>rval</th>\n    </tr>\n  </thead>\n  <tbody>\n    <tr>\n      <th>0</th>\n      <td>foo</td>\n      <td>one</td>\n      <td>1</td>\n      <td>one</td>\n      <td>4</td>\n    </tr>\n    <tr>\n      <th>1</th>\n      <td>foo</td>\n      <td>one</td>\n      <td>1</td>\n      <td>one</td>\n      <td>5</td>\n    </tr>\n    <tr>\n      <th>2</th>\n      <td>foo</td>\n      <td>two</td>\n      <td>2</td>\n      <td>one</td>\n      <td>4</td>\n    </tr>\n    <tr>\n      <th>3</th>\n      <td>foo</td>\n      <td>two</td>\n      <td>2</td>\n      <td>one</td>\n      <td>5</td>\n    </tr>\n    <tr>\n      <th>4</th>\n      <td>bar</td>\n      <td>one</td>\n      <td>3</td>\n      <td>one</td>\n      <td>6</td>\n    </tr>\n    <tr>\n      <th>5</th>\n      <td>bar</td>\n      <td>one</td>\n      <td>3</td>\n      <td>two</td>\n      <td>7</td>\n    </tr>\n  </tbody>\n</table>\n</div>"
     },
     "execution_count": 27,
     "metadata": {},
     "output_type": "execute_result"
    }
   ]
  },
  {
   "cell_type": "markdown",
   "source": [
    "### Work\n",
    "The students have been withdrawn so they do not have the score, in addition the staff change some of the index name.\n",
    "So please try to add the attendance midterm score to the previous pandas\n"
   ],
   "metadata": {
    "collapsed": false
   }
  },
  {
   "cell_type": "code",
   "execution_count": 76,
   "outputs": [
    {
     "name": "stderr",
     "output_type": "stream",
     "text": [
      "C:\\Users\\Dell\\AppData\\Local\\Temp\\ipykernel_13376\\3665669708.py:1: SettingWithCopyWarning: \n",
      "A value is trying to be set on a copy of a slice from a DataFrame.\n",
      "Try using .loc[row_indexer,col_indexer] = value instead\n",
      "\n",
      "See the caveats in the documentation: https://pandas.pydata.org/pandas-docs/stable/user_guide/indexing.html#returning-a-view-versus-a-copy\n",
      "  new_df['Midterm Score'] = pd.to_numeric(new_df['Midterm Score'], errors='coerce')\n",
      "C:\\Users\\Dell\\AppData\\Local\\Temp\\ipykernel_13376\\3665669708.py:2: SettingWithCopyWarning: \n",
      "A value is trying to be set on a copy of a slice from a DataFrame.\n",
      "Try using .loc[row_indexer,col_indexer] = value instead\n",
      "\n",
      "See the caveats in the documentation: https://pandas.pydata.org/pandas-docs/stable/user_guide/indexing.html#returning-a-view-versus-a-copy\n",
      "  new_df['Total Score'] = new_df['Activity 1'] + new_df['Midterm Score']\n"
     ]
    },
    {
     "data": {
      "text/plain": "  Student ID  Activity 1  Midterm Score  Total Score\n0  582115509           5            2.5          7.5\n1  592115508           5            2.5          7.5\n2  592115521           5            2.5          7.5\n3  602115001           0            0.0          0.0\n4  602115002           9            4.0         13.0",
      "text/html": "<div>\n<style scoped>\n    .dataframe tbody tr th:only-of-type {\n        vertical-align: middle;\n    }\n\n    .dataframe tbody tr th {\n        vertical-align: top;\n    }\n\n    .dataframe thead th {\n        text-align: right;\n    }\n</style>\n<table border=\"1\" class=\"dataframe\">\n  <thead>\n    <tr style=\"text-align: right;\">\n      <th></th>\n      <th>Student ID</th>\n      <th>Activity 1</th>\n      <th>Midterm Score</th>\n      <th>Total Score</th>\n    </tr>\n  </thead>\n  <tbody>\n    <tr>\n      <th>0</th>\n      <td>582115509</td>\n      <td>5</td>\n      <td>2.5</td>\n      <td>7.5</td>\n    </tr>\n    <tr>\n      <th>1</th>\n      <td>592115508</td>\n      <td>5</td>\n      <td>2.5</td>\n      <td>7.5</td>\n    </tr>\n    <tr>\n      <th>2</th>\n      <td>592115521</td>\n      <td>5</td>\n      <td>2.5</td>\n      <td>7.5</td>\n    </tr>\n    <tr>\n      <th>3</th>\n      <td>602115001</td>\n      <td>0</td>\n      <td>0.0</td>\n      <td>0.0</td>\n    </tr>\n    <tr>\n      <th>4</th>\n      <td>602115002</td>\n      <td>9</td>\n      <td>4.0</td>\n      <td>13.0</td>\n    </tr>\n  </tbody>\n</table>\n</div>"
     },
     "execution_count": 76,
     "metadata": {},
     "output_type": "execute_result"
    }
   ],
   "source": [
    "new_df['Midterm Score'] = pd.to_numeric(new_df['Midterm Score'], errors='coerce')\n",
    "new_df['Total Score'] = new_df['Activity 1'] + new_df['Midterm Score']\n",
    "\n",
    "new_df.head()"
   ],
   "metadata": {
    "collapsed": false,
    "ExecuteTime": {
     "end_time": "2023-10-29T13:05:00.086955900Z",
     "start_time": "2023-10-29T13:04:59.960943200Z"
    }
   }
  },
  {
   "cell_type": "markdown",
   "metadata": {
    "id": "zdrqfmNQmG6H"
   },
   "source": [
    "## Merging by index\n",
    "\n",
    "Some time you may found that the part you want to merge is the index.\n",
    "You can set the `left_index=True` or `right_index=True` to indicate that you need to use the index as the merge key\n",
    "\n",
    "try this source code\n",
    "```python\n",
    "left1 = pd.DataFrame({'key': ['a', 'b', 'a', 'a', 'b', 'c'],\n",
    "                      'value': range(6)})\n",
    "right1 = pd.DataFrame({'group_val': [3.5, 7]}, index=['a', 'b'])\n",
    "```"
   ]
  },
  {
   "cell_type": "code",
   "metadata": {
    "id": "p7S05BGOmYcO",
    "ExecuteTime": {
     "end_time": "2023-10-29T12:46:51.442067200Z",
     "start_time": "2023-10-29T12:46:51.410814Z"
    }
   },
   "source": [
    "left1 = pd.DataFrame({'key': ['a', 'b', 'a', 'a', 'b', 'c'],\n",
    "                      'value': range(6)})\n",
    "right1 = pd.DataFrame({'group_val': [3.5, 7]}, index=['a', 'b'])"
   ],
   "execution_count": 31,
   "outputs": []
  },
  {
   "cell_type": "markdown",
   "source": [
    "then try to merge with the index\n",
    "```python\n",
    "pd.merge(left1, right1, left_on='key', right_index=True)\n",
    "```"
   ],
   "metadata": {
    "collapsed": false
   }
  },
  {
   "cell_type": "code",
   "metadata": {
    "id": "MZxkRjdimiyq",
    "colab": {
     "base_uri": "https://localhost:8080/",
     "height": 206
    },
    "outputId": "653bdfd9-3d2d-4fae-adf6-5826fadc9308",
    "ExecuteTime": {
     "end_time": "2023-10-29T12:46:57.812431Z",
     "start_time": "2023-10-29T12:46:57.593366700Z"
    }
   },
   "source": [
    "pd.merge(left1, right1, left_on='key', right_index=True)"
   ],
   "execution_count": 32,
   "outputs": [
    {
     "data": {
      "text/plain": "  key  value  group_val\n0   a      0        3.5\n2   a      2        3.5\n3   a      3        3.5\n1   b      1        7.0\n4   b      4        7.0",
      "text/html": "<div>\n<style scoped>\n    .dataframe tbody tr th:only-of-type {\n        vertical-align: middle;\n    }\n\n    .dataframe tbody tr th {\n        vertical-align: top;\n    }\n\n    .dataframe thead th {\n        text-align: right;\n    }\n</style>\n<table border=\"1\" class=\"dataframe\">\n  <thead>\n    <tr style=\"text-align: right;\">\n      <th></th>\n      <th>key</th>\n      <th>value</th>\n      <th>group_val</th>\n    </tr>\n  </thead>\n  <tbody>\n    <tr>\n      <th>0</th>\n      <td>a</td>\n      <td>0</td>\n      <td>3.5</td>\n    </tr>\n    <tr>\n      <th>2</th>\n      <td>a</td>\n      <td>2</td>\n      <td>3.5</td>\n    </tr>\n    <tr>\n      <th>3</th>\n      <td>a</td>\n      <td>3</td>\n      <td>3.5</td>\n    </tr>\n    <tr>\n      <th>1</th>\n      <td>b</td>\n      <td>1</td>\n      <td>7.0</td>\n    </tr>\n    <tr>\n      <th>4</th>\n      <td>b</td>\n      <td>4</td>\n      <td>7.0</td>\n    </tr>\n  </tbody>\n</table>\n</div>"
     },
     "execution_count": 32,
     "metadata": {},
     "output_type": "execute_result"
    }
   ]
  },
  {
   "cell_type": "markdown",
   "source": [
    "the how can be applied as the same as the normal merge\n",
    "```python\n",
    "pd.merge(left1, right1, left_on='key', right_index=True,how ='outer')\n",
    "```"
   ],
   "metadata": {
    "collapsed": false
   }
  },
  {
   "cell_type": "code",
   "metadata": {
    "id": "k9SfYKKrgt0g",
    "colab": {
     "base_uri": "https://localhost:8080/",
     "height": 238
    },
    "outputId": "cb9d1ecc-2fec-4876-c1ac-11d94d9f2229",
    "ExecuteTime": {
     "end_time": "2023-10-29T12:47:03.886963Z",
     "start_time": "2023-10-29T12:47:03.792735400Z"
    }
   },
   "source": [
    "pd.merge(left1, right1, left_on='key', right_index=True,how ='outer')"
   ],
   "execution_count": 33,
   "outputs": [
    {
     "data": {
      "text/plain": "  key  value  group_val\n0   a      0        3.5\n2   a      2        3.5\n3   a      3        3.5\n1   b      1        7.0\n4   b      4        7.0\n5   c      5        NaN",
      "text/html": "<div>\n<style scoped>\n    .dataframe tbody tr th:only-of-type {\n        vertical-align: middle;\n    }\n\n    .dataframe tbody tr th {\n        vertical-align: top;\n    }\n\n    .dataframe thead th {\n        text-align: right;\n    }\n</style>\n<table border=\"1\" class=\"dataframe\">\n  <thead>\n    <tr style=\"text-align: right;\">\n      <th></th>\n      <th>key</th>\n      <th>value</th>\n      <th>group_val</th>\n    </tr>\n  </thead>\n  <tbody>\n    <tr>\n      <th>0</th>\n      <td>a</td>\n      <td>0</td>\n      <td>3.5</td>\n    </tr>\n    <tr>\n      <th>2</th>\n      <td>a</td>\n      <td>2</td>\n      <td>3.5</td>\n    </tr>\n    <tr>\n      <th>3</th>\n      <td>a</td>\n      <td>3</td>\n      <td>3.5</td>\n    </tr>\n    <tr>\n      <th>1</th>\n      <td>b</td>\n      <td>1</td>\n      <td>7.0</td>\n    </tr>\n    <tr>\n      <th>4</th>\n      <td>b</td>\n      <td>4</td>\n      <td>7.0</td>\n    </tr>\n    <tr>\n      <th>5</th>\n      <td>c</td>\n      <td>5</td>\n      <td>NaN</td>\n    </tr>\n  </tbody>\n</table>\n</div>"
     },
     "execution_count": 33,
     "metadata": {},
     "output_type": "execute_result"
    }
   ]
  },
  {
   "cell_type": "markdown",
   "metadata": {
    "id": "KzRXXAePm6NV"
   },
   "source": [
    "With hierarchically index, joining on index can be used as multiple-key merge\n",
    "```python\n",
    "lefth = pd.DataFrame({'key1': ['Ohio', 'Ohio', 'Ohio',\n",
    "                               'Nevada', 'Nevada'],\n",
    "                      'key2': [2000, 2001, 2002, 2001, 2002],\n",
    "                      'data': np.arange(5.)})\n",
    "righth = pd.DataFrame(np.arange(12).reshape((6, 2)),\n",
    "                        index=[['Nevada', 'Nevada', 'Ohio', 'Ohio',\n",
    "                                'Ohio', 'Ohio'],\n",
    "                                 [2001, 2000, 2000, 2000, 2001, 2002]],\n",
    "                        columns=['event1', 'event2'])\n",
    " ```"
   ]
  },
  {
   "cell_type": "code",
   "metadata": {
    "id": "5CmbYHGsnAsn",
    "ExecuteTime": {
     "end_time": "2023-10-29T12:47:09.460701300Z",
     "start_time": "2023-10-29T12:47:09.304014700Z"
    }
   },
   "source": [
    "lefth = pd.DataFrame({'key1': ['Ohio', 'Ohio', 'Ohio',\n",
    "                               'Nevada', 'Nevada'],\n",
    "                      'key2': [2000, 2001, 2002, 2001, 2002],\n",
    "                      'data': np.arange(5.)})\n",
    "righth = pd.DataFrame(np.arange(12).reshape((6, 2)),\n",
    "                        index=[['Nevada', 'Nevada', 'Ohio', 'Ohio',\n",
    "                                'Ohio', 'Ohio'],\n",
    "                                 [2001, 2000, 2000, 2000, 2001, 2002]],\n",
    "                        columns=['event1', 'event2'])"
   ],
   "execution_count": 34,
   "outputs": []
  },
  {
   "cell_type": "markdown",
   "source": [
    "The merge with multiple column can be set with the column, and the key index\n",
    "```python\n",
    "pd.merge(lefth, righth, left_on=['key1', 'key2'], right_index=True)\n",
    "```"
   ],
   "metadata": {
    "collapsed": false
   }
  },
  {
   "cell_type": "code",
   "metadata": {
    "id": "-Kc3gBaonJ8Q",
    "colab": {
     "base_uri": "https://localhost:8080/"
    },
    "outputId": "cf44172d-eac5-4a9f-fefa-c35a400719fd",
    "ExecuteTime": {
     "end_time": "2023-10-29T12:47:14.067654600Z",
     "start_time": "2023-10-29T12:47:13.988724Z"
    }
   },
   "source": [
    "pd.merge(lefth, righth, left_on=['key1', 'key2'], right_index=True)"
   ],
   "execution_count": 35,
   "outputs": [
    {
     "data": {
      "text/plain": "     key1  key2  data  event1  event2\n0    Ohio  2000   0.0       4       5\n0    Ohio  2000   0.0       6       7\n1    Ohio  2001   1.0       8       9\n2    Ohio  2002   2.0      10      11\n3  Nevada  2001   3.0       0       1",
      "text/html": "<div>\n<style scoped>\n    .dataframe tbody tr th:only-of-type {\n        vertical-align: middle;\n    }\n\n    .dataframe tbody tr th {\n        vertical-align: top;\n    }\n\n    .dataframe thead th {\n        text-align: right;\n    }\n</style>\n<table border=\"1\" class=\"dataframe\">\n  <thead>\n    <tr style=\"text-align: right;\">\n      <th></th>\n      <th>key1</th>\n      <th>key2</th>\n      <th>data</th>\n      <th>event1</th>\n      <th>event2</th>\n    </tr>\n  </thead>\n  <tbody>\n    <tr>\n      <th>0</th>\n      <td>Ohio</td>\n      <td>2000</td>\n      <td>0.0</td>\n      <td>4</td>\n      <td>5</td>\n    </tr>\n    <tr>\n      <th>0</th>\n      <td>Ohio</td>\n      <td>2000</td>\n      <td>0.0</td>\n      <td>6</td>\n      <td>7</td>\n    </tr>\n    <tr>\n      <th>1</th>\n      <td>Ohio</td>\n      <td>2001</td>\n      <td>1.0</td>\n      <td>8</td>\n      <td>9</td>\n    </tr>\n    <tr>\n      <th>2</th>\n      <td>Ohio</td>\n      <td>2002</td>\n      <td>2.0</td>\n      <td>10</td>\n      <td>11</td>\n    </tr>\n    <tr>\n      <th>3</th>\n      <td>Nevada</td>\n      <td>2001</td>\n      <td>3.0</td>\n      <td>0</td>\n      <td>1</td>\n    </tr>\n  </tbody>\n</table>\n</div>"
     },
     "execution_count": 35,
     "metadata": {},
     "output_type": "execute_result"
    }
   ]
  },
  {
   "cell_type": "markdown",
   "source": [
    "with the `outer` join all data will be merged\n",
    "```python\n",
    "pd.merge(lefth, righth, left_on=['key1', 'key2'],\n",
    "         right_index=True, how='outer')\n",
    "```"
   ],
   "metadata": {
    "collapsed": false
   }
  },
  {
   "cell_type": "code",
   "metadata": {
    "id": "G8ISj787nNDl",
    "colab": {
     "base_uri": "https://localhost:8080/"
    },
    "outputId": "1997e351-b7f7-451a-c7cc-fa26a376956a",
    "ExecuteTime": {
     "end_time": "2023-10-29T12:47:20.019115500Z",
     "start_time": "2023-10-29T12:47:19.766915100Z"
    }
   },
   "source": [
    "pd.merge(lefth, righth, left_on=['key1', 'key2'],\n",
    "         right_index=True, how='outer')"
   ],
   "execution_count": 36,
   "outputs": [
    {
     "data": {
      "text/plain": "     key1  key2  data  event1  event2\n0    Ohio  2000   0.0     4.0     5.0\n0    Ohio  2000   0.0     6.0     7.0\n1    Ohio  2001   1.0     8.0     9.0\n2    Ohio  2002   2.0    10.0    11.0\n3  Nevada  2001   3.0     0.0     1.0\n4  Nevada  2002   4.0     NaN     NaN\n4  Nevada  2000   NaN     2.0     3.0",
      "text/html": "<div>\n<style scoped>\n    .dataframe tbody tr th:only-of-type {\n        vertical-align: middle;\n    }\n\n    .dataframe tbody tr th {\n        vertical-align: top;\n    }\n\n    .dataframe thead th {\n        text-align: right;\n    }\n</style>\n<table border=\"1\" class=\"dataframe\">\n  <thead>\n    <tr style=\"text-align: right;\">\n      <th></th>\n      <th>key1</th>\n      <th>key2</th>\n      <th>data</th>\n      <th>event1</th>\n      <th>event2</th>\n    </tr>\n  </thead>\n  <tbody>\n    <tr>\n      <th>0</th>\n      <td>Ohio</td>\n      <td>2000</td>\n      <td>0.0</td>\n      <td>4.0</td>\n      <td>5.0</td>\n    </tr>\n    <tr>\n      <th>0</th>\n      <td>Ohio</td>\n      <td>2000</td>\n      <td>0.0</td>\n      <td>6.0</td>\n      <td>7.0</td>\n    </tr>\n    <tr>\n      <th>1</th>\n      <td>Ohio</td>\n      <td>2001</td>\n      <td>1.0</td>\n      <td>8.0</td>\n      <td>9.0</td>\n    </tr>\n    <tr>\n      <th>2</th>\n      <td>Ohio</td>\n      <td>2002</td>\n      <td>2.0</td>\n      <td>10.0</td>\n      <td>11.0</td>\n    </tr>\n    <tr>\n      <th>3</th>\n      <td>Nevada</td>\n      <td>2001</td>\n      <td>3.0</td>\n      <td>0.0</td>\n      <td>1.0</td>\n    </tr>\n    <tr>\n      <th>4</th>\n      <td>Nevada</td>\n      <td>2002</td>\n      <td>4.0</td>\n      <td>NaN</td>\n      <td>NaN</td>\n    </tr>\n    <tr>\n      <th>4</th>\n      <td>Nevada</td>\n      <td>2000</td>\n      <td>NaN</td>\n      <td>2.0</td>\n      <td>3.0</td>\n    </tr>\n  </tbody>\n</table>\n</div>"
     },
     "execution_count": 36,
     "metadata": {},
     "output_type": "execute_result"
    }
   ]
  },
  {
   "cell_type": "markdown",
   "source": [
    "### Work\n",
    "now setting the index to the Dataframe which we have done so far.\n",
    "then add the rest of the score so that we can handle the overall score with in Dataframe"
   ],
   "metadata": {
    "collapsed": false
   }
  },
  {
   "cell_type": "code",
   "execution_count": 78,
   "outputs": [
    {
     "data": {
      "text/plain": "            Activity 1  Midterm Score  Total Score\nStudent ID                                        \n582115509            5            2.5          7.5\n592115508            5            2.5          7.5\n592115521            5            2.5          7.5\n602115001            0            0.0          0.0\n602115002            9            4.0         13.0",
      "text/html": "<div>\n<style scoped>\n    .dataframe tbody tr th:only-of-type {\n        vertical-align: middle;\n    }\n\n    .dataframe tbody tr th {\n        vertical-align: top;\n    }\n\n    .dataframe thead th {\n        text-align: right;\n    }\n</style>\n<table border=\"1\" class=\"dataframe\">\n  <thead>\n    <tr style=\"text-align: right;\">\n      <th></th>\n      <th>Activity 1</th>\n      <th>Midterm Score</th>\n      <th>Total Score</th>\n    </tr>\n    <tr>\n      <th>Student ID</th>\n      <th></th>\n      <th></th>\n      <th></th>\n    </tr>\n  </thead>\n  <tbody>\n    <tr>\n      <th>582115509</th>\n      <td>5</td>\n      <td>2.5</td>\n      <td>7.5</td>\n    </tr>\n    <tr>\n      <th>592115508</th>\n      <td>5</td>\n      <td>2.5</td>\n      <td>7.5</td>\n    </tr>\n    <tr>\n      <th>592115521</th>\n      <td>5</td>\n      <td>2.5</td>\n      <td>7.5</td>\n    </tr>\n    <tr>\n      <th>602115001</th>\n      <td>0</td>\n      <td>0.0</td>\n      <td>0.0</td>\n    </tr>\n    <tr>\n      <th>602115002</th>\n      <td>9</td>\n      <td>4.0</td>\n      <td>13.0</td>\n    </tr>\n  </tbody>\n</table>\n</div>"
     },
     "execution_count": 78,
     "metadata": {},
     "output_type": "execute_result"
    }
   ],
   "source": [
    "new_df.head()"
   ],
   "metadata": {
    "collapsed": false,
    "ExecuteTime": {
     "end_time": "2023-10-29T13:10:23.940490300Z",
     "start_time": "2023-10-29T13:10:23.893700Z"
    }
   }
  },
  {
   "cell_type": "code",
   "execution_count": 79,
   "outputs": [
    {
     "data": {
      "text/plain": "           No  Activity 1  Activity 2  Activity 3  Activity 4  Activity 5  \\\nStudent ID                                                                  \n582115509   1           5           5           5           5           5   \n592115508   2           5           5           5           5           5   \n592115521   3           5           5           5           5           5   \n602115001   4           0           0           0           0           0   \n602115002   5           9           8           7           9           7   \n\n            Activity 6  Midterm Score  Total Score  \nStudent ID                                          \n582115509            5            2.5         32.5  \n592115508            5            2.5         32.5  \n592115521            5            2.5         32.5  \n602115001            0            0.0          0.0  \n602115002            8            4.0         52.0  ",
      "text/html": "<div>\n<style scoped>\n    .dataframe tbody tr th:only-of-type {\n        vertical-align: middle;\n    }\n\n    .dataframe tbody tr th {\n        vertical-align: top;\n    }\n\n    .dataframe thead th {\n        text-align: right;\n    }\n</style>\n<table border=\"1\" class=\"dataframe\">\n  <thead>\n    <tr style=\"text-align: right;\">\n      <th></th>\n      <th>No</th>\n      <th>Activity 1</th>\n      <th>Activity 2</th>\n      <th>Activity 3</th>\n      <th>Activity 4</th>\n      <th>Activity 5</th>\n      <th>Activity 6</th>\n      <th>Midterm Score</th>\n      <th>Total Score</th>\n    </tr>\n    <tr>\n      <th>Student ID</th>\n      <th></th>\n      <th></th>\n      <th></th>\n      <th></th>\n      <th></th>\n      <th></th>\n      <th></th>\n      <th></th>\n      <th></th>\n    </tr>\n  </thead>\n  <tbody>\n    <tr>\n      <th>582115509</th>\n      <td>1</td>\n      <td>5</td>\n      <td>5</td>\n      <td>5</td>\n      <td>5</td>\n      <td>5</td>\n      <td>5</td>\n      <td>2.5</td>\n      <td>32.5</td>\n    </tr>\n    <tr>\n      <th>592115508</th>\n      <td>2</td>\n      <td>5</td>\n      <td>5</td>\n      <td>5</td>\n      <td>5</td>\n      <td>5</td>\n      <td>5</td>\n      <td>2.5</td>\n      <td>32.5</td>\n    </tr>\n    <tr>\n      <th>592115521</th>\n      <td>3</td>\n      <td>5</td>\n      <td>5</td>\n      <td>5</td>\n      <td>5</td>\n      <td>5</td>\n      <td>5</td>\n      <td>2.5</td>\n      <td>32.5</td>\n    </tr>\n    <tr>\n      <th>602115001</th>\n      <td>4</td>\n      <td>0</td>\n      <td>0</td>\n      <td>0</td>\n      <td>0</td>\n      <td>0</td>\n      <td>0</td>\n      <td>0.0</td>\n      <td>0.0</td>\n    </tr>\n    <tr>\n      <th>602115002</th>\n      <td>5</td>\n      <td>9</td>\n      <td>8</td>\n      <td>7</td>\n      <td>9</td>\n      <td>7</td>\n      <td>8</td>\n      <td>4.0</td>\n      <td>52.0</td>\n    </tr>\n  </tbody>\n</table>\n</div>"
     },
     "execution_count": 79,
     "metadata": {},
     "output_type": "execute_result"
    }
   ],
   "source": [
    "student_data_cleaned.set_index('Student ID', inplace=True)\n",
    "\n",
    "activity_columns = ['Activity 1', 'Activity 2', 'Activity 3', 'Activity 4', 'Activity 5', 'Activity 6', 'Midterm Score']\n",
    "student_data_cleaned[activity_columns] = student_data_cleaned[activity_columns].apply(pd.to_numeric, errors='coerce')\n",
    "\n",
    "\n",
    "student_data_cleaned['Total Score'] = student_data_cleaned[activity_columns].sum(axis=1)\n",
    "\n",
    "\n",
    "student_data_cleaned.head()\n"
   ],
   "metadata": {
    "collapsed": false,
    "ExecuteTime": {
     "end_time": "2023-10-29T13:13:05.364666Z",
     "start_time": "2023-10-29T13:13:05.286056200Z"
    }
   }
  },
  {
   "cell_type": "markdown",
   "source": [
    "Now find the name of the students whose name is in the top 10 of the total score."
   ],
   "metadata": {
    "collapsed": false
   }
  },
  {
   "cell_type": "markdown",
   "metadata": {
    "id": "9lTI4Xn7iUhM"
   },
   "source": [
    "## Concatenating Along an Axis"
   ]
  },
  {
   "cell_type": "markdown",
   "metadata": {
    "id": "vyJkDr4qiUZM"
   },
   "source": [
    "Concatenating data is to concat data to the same data.\n",
    "\n",
    "An Axis mean concat the column data\n",
    "\n",
    "In NumPy concatenate data concate it in each columns as shown in example"
   ]
  },
  {
   "cell_type": "markdown",
   "source": [
    "```python\n",
    "arr = np.arange(12).reshape((3, 4))\n",
    "arr\n",
    "```"
   ],
   "metadata": {
    "collapsed": false
   }
  },
  {
   "cell_type": "code",
   "metadata": {
    "id": "mqZRaRDZnmrr",
    "colab": {
     "base_uri": "https://localhost:8080/"
    },
    "outputId": "06090c17-80d5-4a8d-db0c-310884c9e933",
    "ExecuteTime": {
     "end_time": "2023-10-29T12:48:37.524708100Z",
     "start_time": "2023-10-29T12:48:37.486899100Z"
    }
   },
   "source": [
    "arr = np.arange(12).reshape((3, 4))\n",
    "arr"
   ],
   "execution_count": 37,
   "outputs": [
    {
     "data": {
      "text/plain": "array([[ 0,  1,  2,  3],\n       [ 4,  5,  6,  7],\n       [ 8,  9, 10, 11]])"
     },
     "execution_count": 37,
     "metadata": {},
     "output_type": "execute_result"
    }
   ]
  },
  {
   "cell_type": "markdown",
   "source": [
    "We can concat the arrays by using the `np.concatenate` function\n",
    "```python\n",
    "np.concatenate([arr, arr])\n",
    "```"
   ],
   "metadata": {
    "collapsed": false
   }
  },
  {
   "cell_type": "code",
   "source": [
    "np.concatenate([arr, arr])"
   ],
   "metadata": {
    "colab": {
     "base_uri": "https://localhost:8080/"
    },
    "id": "mc3du1F4CWqX",
    "outputId": "123651f4-8c4c-4fe9-d155-166c83944c10",
    "ExecuteTime": {
     "end_time": "2023-10-29T12:48:43.163885Z",
     "start_time": "2023-10-29T12:48:43.092145800Z"
    }
   },
   "execution_count": 38,
   "outputs": [
    {
     "data": {
      "text/plain": "array([[ 0,  1,  2,  3],\n       [ 4,  5,  6,  7],\n       [ 8,  9, 10, 11],\n       [ 0,  1,  2,  3],\n       [ 4,  5,  6,  7],\n       [ 8,  9, 10, 11]])"
     },
     "execution_count": 38,
     "metadata": {},
     "output_type": "execute_result"
    }
   ]
  },
  {
   "cell_type": "markdown",
   "source": [
    "we can concatenate the array in the different axis by passing the axis argument\n",
    "```python\n",
    "np.concatenate([arr, arr], axis=1)\n",
    "```"
   ],
   "metadata": {
    "collapsed": false
   }
  },
  {
   "cell_type": "code",
   "metadata": {
    "id": "i2zh_dyinp8b",
    "colab": {
     "base_uri": "https://localhost:8080/"
    },
    "outputId": "f8adcdbe-7c9f-4340-b211-58a28ad8b13f",
    "ExecuteTime": {
     "end_time": "2023-10-29T12:48:48.537722900Z",
     "start_time": "2023-10-29T12:48:48.522092900Z"
    }
   },
   "source": [
    "np.concatenate([arr, arr], axis=1)"
   ],
   "execution_count": 39,
   "outputs": [
    {
     "data": {
      "text/plain": "array([[ 0,  1,  2,  3,  0,  1,  2,  3],\n       [ 4,  5,  6,  7,  4,  5,  6,  7],\n       [ 8,  9, 10, 11,  8,  9, 10, 11]])"
     },
     "execution_count": 39,
     "metadata": {},
     "output_type": "execute_result"
    }
   ]
  },
  {
   "cell_type": "markdown",
   "metadata": {
    "id": "PjPdmt5JnvtK"
   },
   "source": [
    "In Pandas, there are many concerns before concatination\n",
    "\n",
    "* If the objects are indexed differently on the other axes, should we combine the distinct elements in these axes or use only the shared values (the intersection)?\n",
    "* Do the concatenated chunks of data need to be identifiable in the resulting object?\n",
    "* Does the “concatenation axis” contain data that needs to be preserved? In many cases, the default integer labels in a DataFrame are best discarded during concatenation.\n",
    "\n",
    "try creating a series\n",
    "\n",
    "```python\n",
    "s1 = pd.Series([0, 1], index=['a', 'b'])\n",
    "s2 = pd.Series([2, 3, 4], index=['c', 'd', 'e'])\n",
    "s3 = pd.Series([5, 6], index=['f', 'g'])\n",
    "```"
   ]
  },
  {
   "cell_type": "code",
   "metadata": {
    "id": "QyBbDF95pFH8",
    "ExecuteTime": {
     "end_time": "2023-10-29T12:49:00.245684Z",
     "start_time": "2023-10-29T12:49:00.151526100Z"
    }
   },
   "source": [
    "s1 = pd.Series([0, 1], index=['a', 'b'])\n",
    "s2 = pd.Series([2, 3, 4], index=['c', 'd', 'e'])\n",
    "s3 = pd.Series([5, 6], index=['f', 'g'])"
   ],
   "execution_count": 40,
   "outputs": []
  },
  {
   "cell_type": "markdown",
   "metadata": {
    "id": "kw3hSYDJpVgc"
   },
   "source": [
    "Then try the simple concat\n",
    "```python\n",
    "pd.concat([s1, s2, s3])\n",
    "```"
   ]
  },
  {
   "cell_type": "code",
   "metadata": {
    "id": "egf7lxhNpasP",
    "colab": {
     "base_uri": "https://localhost:8080/"
    },
    "outputId": "3bcaba1e-2613-4e13-f669-524a5ebaa217",
    "ExecuteTime": {
     "end_time": "2023-10-29T12:49:05.695896300Z",
     "start_time": "2023-10-29T12:49:05.640120800Z"
    }
   },
   "source": [
    "pd.concat([s1, s2, s3])"
   ],
   "execution_count": 41,
   "outputs": [
    {
     "data": {
      "text/plain": "a    0\nb    1\nc    2\nd    3\ne    4\nf    5\ng    6\ndtype: int64"
     },
     "execution_count": 41,
     "metadata": {},
     "output_type": "execute_result"
    }
   ]
  },
  {
   "cell_type": "markdown",
   "metadata": {
    "id": "eTxpoDjppfTU"
   },
   "source": [
    "and then concat on Axis\n",
    "```python\n",
    "pd.concat([s1, s2, s3], axis=1)\n",
    "```"
   ]
  },
  {
   "cell_type": "code",
   "metadata": {
    "id": "wpBF8InEphR4",
    "colab": {
     "base_uri": "https://localhost:8080/",
     "height": 269
    },
    "outputId": "b3aed102-600e-4f68-c687-72cc089b8095",
    "ExecuteTime": {
     "end_time": "2023-10-29T12:49:10.801168900Z",
     "start_time": "2023-10-29T12:49:10.644477100Z"
    }
   },
   "source": [
    "pd.concat([s1, s2, s3], axis=1)"
   ],
   "execution_count": 42,
   "outputs": [
    {
     "data": {
      "text/plain": "     0    1    2\na  0.0  NaN  NaN\nb  1.0  NaN  NaN\nc  NaN  2.0  NaN\nd  NaN  3.0  NaN\ne  NaN  4.0  NaN\nf  NaN  NaN  5.0\ng  NaN  NaN  6.0",
      "text/html": "<div>\n<style scoped>\n    .dataframe tbody tr th:only-of-type {\n        vertical-align: middle;\n    }\n\n    .dataframe tbody tr th {\n        vertical-align: top;\n    }\n\n    .dataframe thead th {\n        text-align: right;\n    }\n</style>\n<table border=\"1\" class=\"dataframe\">\n  <thead>\n    <tr style=\"text-align: right;\">\n      <th></th>\n      <th>0</th>\n      <th>1</th>\n      <th>2</th>\n    </tr>\n  </thead>\n  <tbody>\n    <tr>\n      <th>a</th>\n      <td>0.0</td>\n      <td>NaN</td>\n      <td>NaN</td>\n    </tr>\n    <tr>\n      <th>b</th>\n      <td>1.0</td>\n      <td>NaN</td>\n      <td>NaN</td>\n    </tr>\n    <tr>\n      <th>c</th>\n      <td>NaN</td>\n      <td>2.0</td>\n      <td>NaN</td>\n    </tr>\n    <tr>\n      <th>d</th>\n      <td>NaN</td>\n      <td>3.0</td>\n      <td>NaN</td>\n    </tr>\n    <tr>\n      <th>e</th>\n      <td>NaN</td>\n      <td>4.0</td>\n      <td>NaN</td>\n    </tr>\n    <tr>\n      <th>f</th>\n      <td>NaN</td>\n      <td>NaN</td>\n      <td>5.0</td>\n    </tr>\n    <tr>\n      <th>g</th>\n      <td>NaN</td>\n      <td>NaN</td>\n      <td>6.0</td>\n    </tr>\n  </tbody>\n</table>\n</div>"
     },
     "execution_count": 42,
     "metadata": {},
     "output_type": "execute_result"
    }
   ]
  },
  {
   "cell_type": "markdown",
   "metadata": {
    "id": "Fj4otSESt80z"
   },
   "source": [
    "You may name each of the columns by the key column\n",
    "```python\n",
    "pd.concat([s1, s2, s3], axis=1, keys=['one', 'two', 'three'])\n",
    "```"
   ]
  },
  {
   "cell_type": "code",
   "metadata": {
    "id": "Y08laeWMspmB",
    "colab": {
     "base_uri": "https://localhost:8080/"
    },
    "outputId": "ffc246b7-69e9-4b70-dedc-4084aa5fa799",
    "ExecuteTime": {
     "end_time": "2023-10-29T12:49:18.072824100Z",
     "start_time": "2023-10-29T12:49:17.962919300Z"
    }
   },
   "source": [
    "pd.concat([s1, s2, s3], axis=1, keys=['one', 'two', 'three'])"
   ],
   "execution_count": 43,
   "outputs": [
    {
     "data": {
      "text/plain": "   one  two  three\na  0.0  NaN    NaN\nb  1.0  NaN    NaN\nc  NaN  2.0    NaN\nd  NaN  3.0    NaN\ne  NaN  4.0    NaN\nf  NaN  NaN    5.0\ng  NaN  NaN    6.0",
      "text/html": "<div>\n<style scoped>\n    .dataframe tbody tr th:only-of-type {\n        vertical-align: middle;\n    }\n\n    .dataframe tbody tr th {\n        vertical-align: top;\n    }\n\n    .dataframe thead th {\n        text-align: right;\n    }\n</style>\n<table border=\"1\" class=\"dataframe\">\n  <thead>\n    <tr style=\"text-align: right;\">\n      <th></th>\n      <th>one</th>\n      <th>two</th>\n      <th>three</th>\n    </tr>\n  </thead>\n  <tbody>\n    <tr>\n      <th>a</th>\n      <td>0.0</td>\n      <td>NaN</td>\n      <td>NaN</td>\n    </tr>\n    <tr>\n      <th>b</th>\n      <td>1.0</td>\n      <td>NaN</td>\n      <td>NaN</td>\n    </tr>\n    <tr>\n      <th>c</th>\n      <td>NaN</td>\n      <td>2.0</td>\n      <td>NaN</td>\n    </tr>\n    <tr>\n      <th>d</th>\n      <td>NaN</td>\n      <td>3.0</td>\n      <td>NaN</td>\n    </tr>\n    <tr>\n      <th>e</th>\n      <td>NaN</td>\n      <td>4.0</td>\n      <td>NaN</td>\n    </tr>\n    <tr>\n      <th>f</th>\n      <td>NaN</td>\n      <td>NaN</td>\n      <td>5.0</td>\n    </tr>\n    <tr>\n      <th>g</th>\n      <td>NaN</td>\n      <td>NaN</td>\n      <td>6.0</td>\n    </tr>\n  </tbody>\n</table>\n</div>"
     },
     "execution_count": 43,
     "metadata": {},
     "output_type": "execute_result"
    }
   ]
  },
  {
   "cell_type": "markdown",
   "metadata": {
    "id": "BKtVPKUWpvYu"
   },
   "source": [
    "You may notice that each series are concat as a new column.\n",
    "\n",
    "This we can say as the union case as the data that combined all data (and NaN has been added to complete the data series)\n",
    "\n",
    "To intersect them, you may passing `join='inner'`\n",
    "\n",
    "see the following example\n",
    "```python\n",
    "s4 = pd.concat([s1, s3])\n",
    "s4\n",
    "```"
   ]
  },
  {
   "cell_type": "code",
   "metadata": {
    "id": "agAdR2t6qP-7",
    "colab": {
     "base_uri": "https://localhost:8080/"
    },
    "outputId": "e4bd657f-faa0-4c69-8231-e802e6631afc",
    "ExecuteTime": {
     "end_time": "2023-10-29T12:49:23.590645500Z",
     "start_time": "2023-10-29T12:49:23.559373500Z"
    }
   },
   "source": [
    "s4 = pd.concat([s1, s3])\n",
    "s4"
   ],
   "execution_count": 44,
   "outputs": [
    {
     "data": {
      "text/plain": "a    0\nb    1\nf    5\ng    6\ndtype: int64"
     },
     "execution_count": 44,
     "metadata": {},
     "output_type": "execute_result"
    }
   ]
  },
  {
   "cell_type": "markdown",
   "source": [
    "if we concat in the different axis\n",
    "```python\n",
    "pd.concat([s1, s4], axis=1)\n",
    "```"
   ],
   "metadata": {
    "collapsed": false
   }
  },
  {
   "cell_type": "code",
   "metadata": {
    "id": "chIzPhGxqTmr",
    "colab": {
     "base_uri": "https://localhost:8080/"
    },
    "outputId": "4df5372e-25c6-4e5e-d42f-390cb2dd1a97",
    "ExecuteTime": {
     "end_time": "2023-10-29T12:49:29.667004400Z",
     "start_time": "2023-10-29T12:49:29.643739400Z"
    }
   },
   "source": [
    "pd.concat([s1, s4], axis=1)"
   ],
   "execution_count": 45,
   "outputs": [
    {
     "data": {
      "text/plain": "     0  1\na  0.0  0\nb  1.0  1\nf  NaN  5\ng  NaN  6",
      "text/html": "<div>\n<style scoped>\n    .dataframe tbody tr th:only-of-type {\n        vertical-align: middle;\n    }\n\n    .dataframe tbody tr th {\n        vertical-align: top;\n    }\n\n    .dataframe thead th {\n        text-align: right;\n    }\n</style>\n<table border=\"1\" class=\"dataframe\">\n  <thead>\n    <tr style=\"text-align: right;\">\n      <th></th>\n      <th>0</th>\n      <th>1</th>\n    </tr>\n  </thead>\n  <tbody>\n    <tr>\n      <th>a</th>\n      <td>0.0</td>\n      <td>0</td>\n    </tr>\n    <tr>\n      <th>b</th>\n      <td>1.0</td>\n      <td>1</td>\n    </tr>\n    <tr>\n      <th>f</th>\n      <td>NaN</td>\n      <td>5</td>\n    </tr>\n    <tr>\n      <th>g</th>\n      <td>NaN</td>\n      <td>6</td>\n    </tr>\n  </tbody>\n</table>\n</div>"
     },
     "execution_count": 45,
     "metadata": {},
     "output_type": "execute_result"
    }
   ]
  },
  {
   "cell_type": "markdown",
   "source": [
    "then try the inner join\n",
    "```python\n",
    "pd.concat([s1, s4], axis=1, join='inner')\n",
    "```"
   ],
   "metadata": {
    "collapsed": false
   }
  },
  {
   "cell_type": "code",
   "metadata": {
    "id": "tUnc5X8AqYYk",
    "colab": {
     "base_uri": "https://localhost:8080/"
    },
    "outputId": "ea324f38-3caf-45dc-e69b-5411befcf5de",
    "ExecuteTime": {
     "end_time": "2023-10-29T12:49:35.140422400Z",
     "start_time": "2023-10-29T12:49:35.077477Z"
    }
   },
   "source": [
    "pd.concat([s1, s4], axis=1, join='inner')"
   ],
   "execution_count": 46,
   "outputs": [
    {
     "data": {
      "text/plain": "   0  1\na  0  0\nb  1  1",
      "text/html": "<div>\n<style scoped>\n    .dataframe tbody tr th:only-of-type {\n        vertical-align: middle;\n    }\n\n    .dataframe tbody tr th {\n        vertical-align: top;\n    }\n\n    .dataframe thead th {\n        text-align: right;\n    }\n</style>\n<table border=\"1\" class=\"dataframe\">\n  <thead>\n    <tr style=\"text-align: right;\">\n      <th></th>\n      <th>0</th>\n      <th>1</th>\n    </tr>\n  </thead>\n  <tbody>\n    <tr>\n      <th>a</th>\n      <td>0</td>\n      <td>0</td>\n    </tr>\n    <tr>\n      <th>b</th>\n      <td>1</td>\n      <td>1</td>\n    </tr>\n  </tbody>\n</table>\n</div>"
     },
     "execution_count": 46,
     "metadata": {},
     "output_type": "execute_result"
    }
   ]
  },
  {
   "cell_type": "markdown",
   "metadata": {
    "id": "yHvs8dUoq0RA"
   },
   "source": [
    "we can provide the hierarchical index of the search as given\n",
    "```python\n",
    "result = pd.concat([s1, s1, s3], keys=['one', 'two', 'three'])\n",
    "result\n",
    "```\n",
    "\n",
    "\n"
   ]
  },
  {
   "cell_type": "code",
   "metadata": {
    "id": "MNwjZAORsdY7",
    "colab": {
     "base_uri": "https://localhost:8080/"
    },
    "outputId": "02f12e68-d98c-4667-c160-971cb6bafaba",
    "ExecuteTime": {
     "end_time": "2023-10-29T12:49:41.114325400Z",
     "start_time": "2023-10-29T12:49:41.098564300Z"
    }
   },
   "source": [
    "result = pd.concat([s1, s1, s3], keys=['one', 'two', 'three'])\n",
    "result"
   ],
   "execution_count": 47,
   "outputs": [
    {
     "data": {
      "text/plain": "one    a    0\n       b    1\ntwo    a    0\n       b    1\nthree  f    5\n       g    6\ndtype: int64"
     },
     "execution_count": 47,
     "metadata": {},
     "output_type": "execute_result"
    }
   ]
  },
  {
   "cell_type": "markdown",
   "metadata": {
    "id": "c6jNgkTY_nSa"
   },
   "source": [
    "we also use the unstack() to show all data\n",
    "```python\n",
    "result.unstack()\n",
    "```"
   ]
  },
  {
   "cell_type": "code",
   "metadata": {
    "id": "w7gnPxMGuNux",
    "colab": {
     "base_uri": "https://localhost:8080/"
    },
    "outputId": "c5f04b83-6f16-48d4-fe6c-85f3bfd6cbf8",
    "ExecuteTime": {
     "end_time": "2023-10-29T12:49:46.403094600Z",
     "start_time": "2023-10-29T12:49:46.340313300Z"
    }
   },
   "source": [
    "result.unstack()"
   ],
   "execution_count": 48,
   "outputs": [
    {
     "data": {
      "text/plain": "         a    b    f    g\none    0.0  1.0  NaN  NaN\ntwo    0.0  1.0  NaN  NaN\nthree  NaN  NaN  5.0  6.0",
      "text/html": "<div>\n<style scoped>\n    .dataframe tbody tr th:only-of-type {\n        vertical-align: middle;\n    }\n\n    .dataframe tbody tr th {\n        vertical-align: top;\n    }\n\n    .dataframe thead th {\n        text-align: right;\n    }\n</style>\n<table border=\"1\" class=\"dataframe\">\n  <thead>\n    <tr style=\"text-align: right;\">\n      <th></th>\n      <th>a</th>\n      <th>b</th>\n      <th>f</th>\n      <th>g</th>\n    </tr>\n  </thead>\n  <tbody>\n    <tr>\n      <th>one</th>\n      <td>0.0</td>\n      <td>1.0</td>\n      <td>NaN</td>\n      <td>NaN</td>\n    </tr>\n    <tr>\n      <th>two</th>\n      <td>0.0</td>\n      <td>1.0</td>\n      <td>NaN</td>\n      <td>NaN</td>\n    </tr>\n    <tr>\n      <th>three</th>\n      <td>NaN</td>\n      <td>NaN</td>\n      <td>5.0</td>\n      <td>6.0</td>\n    </tr>\n  </tbody>\n</table>\n</div>"
     },
     "execution_count": 48,
     "metadata": {},
     "output_type": "execute_result"
    }
   ]
  },
  {
   "cell_type": "markdown",
   "source": [
    "### Work\n",
    "It's happen that there are other sections score in the class. The files/studentlist2.xlsx provide the score for the second section. merge the data from two file to only one dataframe to find out the descriptive statistic of all the students."
   ],
   "metadata": {
    "collapsed": false
   }
  },
  {
   "cell_type": "code",
   "execution_count": 80,
   "outputs": [
    {
     "data": {
      "text/plain": "  DATE :    Unnamed: 1  Unnamed: 2  Unnamed: 3  Unnamed: 4  Unnamed: 5  \\\n0    ที่  รหัสนักศึกษา           2           3           4           5   \n1      1     612115509           5           5           5           5   \n2      2     612115508           5           5           5           5   \n\n   Unnamed: 6  Unnamed: 7 Unnamed: 8  \n0           6           7  Total (5)  \n1           5           5          2  \n2           5           5          2  ",
      "text/html": "<div>\n<style scoped>\n    .dataframe tbody tr th:only-of-type {\n        vertical-align: middle;\n    }\n\n    .dataframe tbody tr th {\n        vertical-align: top;\n    }\n\n    .dataframe thead th {\n        text-align: right;\n    }\n</style>\n<table border=\"1\" class=\"dataframe\">\n  <thead>\n    <tr style=\"text-align: right;\">\n      <th></th>\n      <th>DATE :</th>\n      <th>Unnamed: 1</th>\n      <th>Unnamed: 2</th>\n      <th>Unnamed: 3</th>\n      <th>Unnamed: 4</th>\n      <th>Unnamed: 5</th>\n      <th>Unnamed: 6</th>\n      <th>Unnamed: 7</th>\n      <th>Unnamed: 8</th>\n    </tr>\n  </thead>\n  <tbody>\n    <tr>\n      <th>0</th>\n      <td>ที่</td>\n      <td>รหัสนักศึกษา</td>\n      <td>2</td>\n      <td>3</td>\n      <td>4</td>\n      <td>5</td>\n      <td>6</td>\n      <td>7</td>\n      <td>Total (5)</td>\n    </tr>\n    <tr>\n      <th>1</th>\n      <td>1</td>\n      <td>612115509</td>\n      <td>5</td>\n      <td>5</td>\n      <td>5</td>\n      <td>5</td>\n      <td>5</td>\n      <td>5</td>\n      <td>2</td>\n    </tr>\n    <tr>\n      <th>2</th>\n      <td>2</td>\n      <td>612115508</td>\n      <td>5</td>\n      <td>5</td>\n      <td>5</td>\n      <td>5</td>\n      <td>5</td>\n      <td>5</td>\n      <td>2</td>\n    </tr>\n  </tbody>\n</table>\n</div>"
     },
     "execution_count": 80,
     "metadata": {},
     "output_type": "execute_result"
    }
   ],
   "source": [
    "file_path_2 = 'C:/Users/Dell/Desktop/LectureNote/LectureNote_660632028/08. Data Wrangling/files/studentlist2.xlsx'\n",
    "student_data_2 = pd.read_excel(file_path_2, skiprows=5)\n",
    "\n",
    "student_data_2.head()"
   ],
   "metadata": {
    "collapsed": false,
    "ExecuteTime": {
     "end_time": "2023-10-29T13:16:59.077528900Z",
     "start_time": "2023-10-29T13:16:58.837788900Z"
    }
   }
  },
  {
   "cell_type": "code",
   "execution_count": 81,
   "outputs": [
    {
     "data": {
      "text/plain": "           No  Activity 1  Activity 2  Activity 3  Activity 4  Activity 5  \\\nStudent ID                                                                  \n612115509   1           5           5           5           5           5   \n612115508   2           5           5           5           5           5   \n\n            Activity 6  Midterm Score  Total Score  \nStudent ID                                          \n612115509            5              2           32  \n612115508            5              2           32  ",
      "text/html": "<div>\n<style scoped>\n    .dataframe tbody tr th:only-of-type {\n        vertical-align: middle;\n    }\n\n    .dataframe tbody tr th {\n        vertical-align: top;\n    }\n\n    .dataframe thead th {\n        text-align: right;\n    }\n</style>\n<table border=\"1\" class=\"dataframe\">\n  <thead>\n    <tr style=\"text-align: right;\">\n      <th></th>\n      <th>No</th>\n      <th>Activity 1</th>\n      <th>Activity 2</th>\n      <th>Activity 3</th>\n      <th>Activity 4</th>\n      <th>Activity 5</th>\n      <th>Activity 6</th>\n      <th>Midterm Score</th>\n      <th>Total Score</th>\n    </tr>\n    <tr>\n      <th>Student ID</th>\n      <th></th>\n      <th></th>\n      <th></th>\n      <th></th>\n      <th></th>\n      <th></th>\n      <th></th>\n      <th></th>\n      <th></th>\n    </tr>\n  </thead>\n  <tbody>\n    <tr>\n      <th>612115509</th>\n      <td>1</td>\n      <td>5</td>\n      <td>5</td>\n      <td>5</td>\n      <td>5</td>\n      <td>5</td>\n      <td>5</td>\n      <td>2</td>\n      <td>32</td>\n    </tr>\n    <tr>\n      <th>612115508</th>\n      <td>2</td>\n      <td>5</td>\n      <td>5</td>\n      <td>5</td>\n      <td>5</td>\n      <td>5</td>\n      <td>5</td>\n      <td>2</td>\n      <td>32</td>\n    </tr>\n  </tbody>\n</table>\n</div>"
     },
     "execution_count": 81,
     "metadata": {},
     "output_type": "execute_result"
    }
   ],
   "source": [
    "student_data_2.columns = [\n",
    "    'No', 'Student ID',\n",
    "    'Activity 1', 'Activity 2', 'Activity 3', 'Activity 4', 'Activity 5', 'Activity 6',\n",
    "    'Midterm Score'\n",
    "]\n",
    "\n",
    "student_data_2_cleaned = student_data_2.drop(0).reset_index(drop=True)\n",
    "\n",
    "student_data_2_cleaned.set_index('Student ID', inplace=True)\n",
    "\n",
    "activity_columns_2 = ['Activity 1', 'Activity 2', 'Activity 3', 'Activity 4', 'Activity 5', 'Activity 6', 'Midterm Score']\n",
    "student_data_2_cleaned[activity_columns_2] = student_data_2_cleaned[activity_columns_2].apply(pd.to_numeric, errors='coerce')\n",
    "\n",
    "student_data_2_cleaned['Total Score'] = student_data_2_cleaned[activity_columns_2].sum(axis=1)\n",
    "\n",
    "student_data_2_cleaned.head()"
   ],
   "metadata": {
    "collapsed": false,
    "ExecuteTime": {
     "end_time": "2023-10-29T13:17:37.785881900Z",
     "start_time": "2023-10-29T13:17:37.696609100Z"
    }
   }
  },
  {
   "cell_type": "code",
   "execution_count": 82,
   "outputs": [
    {
     "data": {
      "text/plain": "           No  Activity 1  Activity 2  Activity 3  Activity 4  Activity 5  \\\nStudent ID                                                                  \n582115509   1           5           5           5           5           5   \n592115508   2           5           5           5           5           5   \n592115521   3           5           5           5           5           5   \n602115001   4           0           0           0           0           0   \n602115002   5           9           8           7           9           7   \n\n            Activity 6  Midterm Score  Total Score  \nStudent ID                                          \n582115509            5            2.5         32.5  \n592115508            5            2.5         32.5  \n592115521            5            2.5         32.5  \n602115001            0            0.0          0.0  \n602115002            8            4.0         52.0  ",
      "text/html": "<div>\n<style scoped>\n    .dataframe tbody tr th:only-of-type {\n        vertical-align: middle;\n    }\n\n    .dataframe tbody tr th {\n        vertical-align: top;\n    }\n\n    .dataframe thead th {\n        text-align: right;\n    }\n</style>\n<table border=\"1\" class=\"dataframe\">\n  <thead>\n    <tr style=\"text-align: right;\">\n      <th></th>\n      <th>No</th>\n      <th>Activity 1</th>\n      <th>Activity 2</th>\n      <th>Activity 3</th>\n      <th>Activity 4</th>\n      <th>Activity 5</th>\n      <th>Activity 6</th>\n      <th>Midterm Score</th>\n      <th>Total Score</th>\n    </tr>\n    <tr>\n      <th>Student ID</th>\n      <th></th>\n      <th></th>\n      <th></th>\n      <th></th>\n      <th></th>\n      <th></th>\n      <th></th>\n      <th></th>\n      <th></th>\n    </tr>\n  </thead>\n  <tbody>\n    <tr>\n      <th>582115509</th>\n      <td>1</td>\n      <td>5</td>\n      <td>5</td>\n      <td>5</td>\n      <td>5</td>\n      <td>5</td>\n      <td>5</td>\n      <td>2.5</td>\n      <td>32.5</td>\n    </tr>\n    <tr>\n      <th>592115508</th>\n      <td>2</td>\n      <td>5</td>\n      <td>5</td>\n      <td>5</td>\n      <td>5</td>\n      <td>5</td>\n      <td>5</td>\n      <td>2.5</td>\n      <td>32.5</td>\n    </tr>\n    <tr>\n      <th>592115521</th>\n      <td>3</td>\n      <td>5</td>\n      <td>5</td>\n      <td>5</td>\n      <td>5</td>\n      <td>5</td>\n      <td>5</td>\n      <td>2.5</td>\n      <td>32.5</td>\n    </tr>\n    <tr>\n      <th>602115001</th>\n      <td>4</td>\n      <td>0</td>\n      <td>0</td>\n      <td>0</td>\n      <td>0</td>\n      <td>0</td>\n      <td>0</td>\n      <td>0.0</td>\n      <td>0.0</td>\n    </tr>\n    <tr>\n      <th>602115002</th>\n      <td>5</td>\n      <td>9</td>\n      <td>8</td>\n      <td>7</td>\n      <td>9</td>\n      <td>7</td>\n      <td>8</td>\n      <td>4.0</td>\n      <td>52.0</td>\n    </tr>\n  </tbody>\n</table>\n</div>"
     },
     "execution_count": 82,
     "metadata": {},
     "output_type": "execute_result"
    }
   ],
   "source": [
    "merged_df = pd.concat([student_data_cleaned, student_data_2_cleaned], axis=0)\n",
    "\n",
    "merged_df.head()"
   ],
   "metadata": {
    "collapsed": false,
    "ExecuteTime": {
     "end_time": "2023-10-29T13:18:07.129240600Z",
     "start_time": "2023-10-29T13:18:07.002627600Z"
    }
   }
  },
  {
   "cell_type": "code",
   "execution_count": 83,
   "outputs": [
    {
     "data": {
      "text/plain": "count    37.000000\nmean     29.867117\nstd      13.371941\nmin       0.000000\n25%      20.583333\n50%      32.000000\n75%      34.666667\nmax      54.166667\nName: Total Score, dtype: float64"
     },
     "execution_count": 83,
     "metadata": {},
     "output_type": "execute_result"
    }
   ],
   "source": [
    "descriptive_statistics = merged_df['Total Score'].describe()\n",
    "descriptive_statistics"
   ],
   "metadata": {
    "collapsed": false,
    "ExecuteTime": {
     "end_time": "2023-10-29T13:18:35.158112600Z",
     "start_time": "2023-10-29T13:18:35.082324600Z"
    }
   }
  },
  {
   "cell_type": "markdown",
   "source": [
    "The teacher is very funny, they will random the score for all the students, create a new dataframe which provide the random score from 1 to the maximum score we can get from all students.\n",
    "then merge the score to the student, and calculate the new score of all the student. then set the grade of the student by who get the grade less than 80 will get `F` otherwise will get `A`"
   ],
   "metadata": {
    "collapsed": false
   }
  },
  {
   "cell_type": "code",
   "execution_count": 84,
   "outputs": [
    {
     "data": {
      "text/plain": "            Random Score\nStudent ID              \n582115509             35\n592115508             38\n592115521             30\n602115001              2\n602115002             37",
      "text/html": "<div>\n<style scoped>\n    .dataframe tbody tr th:only-of-type {\n        vertical-align: middle;\n    }\n\n    .dataframe tbody tr th {\n        vertical-align: top;\n    }\n\n    .dataframe thead th {\n        text-align: right;\n    }\n</style>\n<table border=\"1\" class=\"dataframe\">\n  <thead>\n    <tr style=\"text-align: right;\">\n      <th></th>\n      <th>Random Score</th>\n    </tr>\n    <tr>\n      <th>Student ID</th>\n      <th></th>\n    </tr>\n  </thead>\n  <tbody>\n    <tr>\n      <th>582115509</th>\n      <td>35</td>\n    </tr>\n    <tr>\n      <th>592115508</th>\n      <td>38</td>\n    </tr>\n    <tr>\n      <th>592115521</th>\n      <td>30</td>\n    </tr>\n    <tr>\n      <th>602115001</th>\n      <td>2</td>\n    </tr>\n    <tr>\n      <th>602115002</th>\n      <td>37</td>\n    </tr>\n  </tbody>\n</table>\n</div>"
     },
     "execution_count": 84,
     "metadata": {},
     "output_type": "execute_result"
    }
   ],
   "source": [
    "import numpy as np\n",
    "\n",
    "# 1. Create a new DataFrame with random scores for each student\n",
    "max_score = merged_df['Total Score'].max()\n",
    "random_scores_df = pd.DataFrame(index=merged_df.index)\n",
    "random_scores_df['Random Score'] = np.random.randint(1, max_score + 1, len(random_scores_df))\n",
    "\n",
    "# Display the new DataFrame with random scores\n",
    "random_scores_df.head()"
   ],
   "metadata": {
    "collapsed": false,
    "ExecuteTime": {
     "end_time": "2023-10-29T13:20:14.689480700Z",
     "start_time": "2023-10-29T13:20:14.611863600Z"
    }
   }
  },
  {
   "cell_type": "code",
   "execution_count": 85,
   "outputs": [
    {
     "data": {
      "text/plain": "           No  Activity 1  Activity 2  Activity 3  Activity 4  Activity 5  \\\nStudent ID                                                                  \n582115509   1           5           5           5           5           5   \n592115508   2           5           5           5           5           5   \n592115521   3           5           5           5           5           5   \n602115001   4           0           0           0           0           0   \n602115002   5           9           8           7           9           7   \n\n            Activity 6  Midterm Score  Total Score  Random Score  \\\nStudent ID                                                         \n582115509            5            2.5         32.5            35   \n592115508            5            2.5         32.5            38   \n592115521            5            2.5         32.5            30   \n602115001            0            0.0          0.0             2   \n602115002            8            4.0         52.0            37   \n\n            New Total Score Grade  \nStudent ID                         \n582115509              67.5     F  \n592115508              70.5     F  \n592115521              62.5     F  \n602115001               2.0     F  \n602115002              89.0     A  ",
      "text/html": "<div>\n<style scoped>\n    .dataframe tbody tr th:only-of-type {\n        vertical-align: middle;\n    }\n\n    .dataframe tbody tr th {\n        vertical-align: top;\n    }\n\n    .dataframe thead th {\n        text-align: right;\n    }\n</style>\n<table border=\"1\" class=\"dataframe\">\n  <thead>\n    <tr style=\"text-align: right;\">\n      <th></th>\n      <th>No</th>\n      <th>Activity 1</th>\n      <th>Activity 2</th>\n      <th>Activity 3</th>\n      <th>Activity 4</th>\n      <th>Activity 5</th>\n      <th>Activity 6</th>\n      <th>Midterm Score</th>\n      <th>Total Score</th>\n      <th>Random Score</th>\n      <th>New Total Score</th>\n      <th>Grade</th>\n    </tr>\n    <tr>\n      <th>Student ID</th>\n      <th></th>\n      <th></th>\n      <th></th>\n      <th></th>\n      <th></th>\n      <th></th>\n      <th></th>\n      <th></th>\n      <th></th>\n      <th></th>\n      <th></th>\n      <th></th>\n    </tr>\n  </thead>\n  <tbody>\n    <tr>\n      <th>582115509</th>\n      <td>1</td>\n      <td>5</td>\n      <td>5</td>\n      <td>5</td>\n      <td>5</td>\n      <td>5</td>\n      <td>5</td>\n      <td>2.5</td>\n      <td>32.5</td>\n      <td>35</td>\n      <td>67.5</td>\n      <td>F</td>\n    </tr>\n    <tr>\n      <th>592115508</th>\n      <td>2</td>\n      <td>5</td>\n      <td>5</td>\n      <td>5</td>\n      <td>5</td>\n      <td>5</td>\n      <td>5</td>\n      <td>2.5</td>\n      <td>32.5</td>\n      <td>38</td>\n      <td>70.5</td>\n      <td>F</td>\n    </tr>\n    <tr>\n      <th>592115521</th>\n      <td>3</td>\n      <td>5</td>\n      <td>5</td>\n      <td>5</td>\n      <td>5</td>\n      <td>5</td>\n      <td>5</td>\n      <td>2.5</td>\n      <td>32.5</td>\n      <td>30</td>\n      <td>62.5</td>\n      <td>F</td>\n    </tr>\n    <tr>\n      <th>602115001</th>\n      <td>4</td>\n      <td>0</td>\n      <td>0</td>\n      <td>0</td>\n      <td>0</td>\n      <td>0</td>\n      <td>0</td>\n      <td>0.0</td>\n      <td>0.0</td>\n      <td>2</td>\n      <td>2.0</td>\n      <td>F</td>\n    </tr>\n    <tr>\n      <th>602115002</th>\n      <td>5</td>\n      <td>9</td>\n      <td>8</td>\n      <td>7</td>\n      <td>9</td>\n      <td>7</td>\n      <td>8</td>\n      <td>4.0</td>\n      <td>52.0</td>\n      <td>37</td>\n      <td>89.0</td>\n      <td>A</td>\n    </tr>\n  </tbody>\n</table>\n</div>"
     },
     "execution_count": 85,
     "metadata": {},
     "output_type": "execute_result"
    }
   ],
   "source": [
    "merged_df_with_random = pd.merge(merged_df, random_scores_df, left_index=True, right_index=True)\n",
    "\n",
    "merged_df_with_random['New Total Score'] = merged_df_with_random['Total Score'] + merged_df_with_random['Random Score']\n",
    "\n",
    "merged_df_with_random['Grade'] = np.where(merged_df_with_random['New Total Score'] < 80, 'F', 'A')\n",
    "\n",
    "merged_df_with_random.head()"
   ],
   "metadata": {
    "collapsed": false,
    "ExecuteTime": {
     "end_time": "2023-10-29T13:20:45.665108900Z",
     "start_time": "2023-10-29T13:20:45.624301400Z"
    }
   }
  },
  {
   "cell_type": "markdown",
   "metadata": {
    "id": "8lywjRMgwH6Z"
   },
   "source": [
    "## Combine Data with Overlap\n",
    "\n",
    "\n",
    "\n",
    "The data con be merse if there are overlap in full or part"
   ]
  },
  {
   "cell_type": "code",
   "metadata": {
    "id": "sqnLvuGzyXYU",
    "ExecuteTime": {
     "end_time": "2023-10-29T12:49:54.778535600Z",
     "start_time": "2023-10-29T12:49:54.762916400Z"
    }
   },
   "source": [
    "a = pd.Series([np.nan, 2.5, np.nan, 3.5, 4.5, np.nan],\n",
    "              index=['f', 'e', 'd', 'c', 'b', 'a'])\n",
    "b = pd.Series(np.arange(len(a), dtype=np.float64),\n",
    "              index=['f', 'e', 'd', 'c', 'b', 'a'])"
   ],
   "execution_count": 49,
   "outputs": []
  },
  {
   "cell_type": "markdown",
   "metadata": {
    "id": "HgkhYZ56GYgl"
   },
   "source": [
    "Combine the series using the if else expression.\n",
    "Let's try\n",
    "```python\n",
    "np.where(pd.isnull(a),b,a)\n",
    "```"
   ]
  },
  {
   "cell_type": "code",
   "metadata": {
    "id": "_i_t16PSHGq_",
    "colab": {
     "base_uri": "https://localhost:8080/"
    },
    "outputId": "57632d71-966b-4748-a1a6-6d87e4ecfb1d",
    "ExecuteTime": {
     "end_time": "2023-10-29T12:50:00.032365700Z",
     "start_time": "2023-10-29T12:50:00.016334600Z"
    }
   },
   "source": [
    "np.where(pd.isnull(a),b,a)"
   ],
   "execution_count": 50,
   "outputs": [
    {
     "data": {
      "text/plain": "array([0. , 2.5, 2. , 3.5, 4.5, 5. ])"
     },
     "execution_count": 50,
     "metadata": {},
     "output_type": "execute_result"
    }
   ]
  },
  {
   "cell_type": "markdown",
   "source": [
    "try vice versa\n",
    "```python\n",
    "np.where(pd.isnull(a),a,b)\n",
    "```"
   ],
   "metadata": {
    "collapsed": false
   }
  },
  {
   "cell_type": "code",
   "metadata": {
    "id": "E4W5VWAKHgJd",
    "colab": {
     "base_uri": "https://localhost:8080/"
    },
    "outputId": "f16c3999-9d02-4261-e736-d27041f6cde1",
    "ExecuteTime": {
     "end_time": "2023-10-29T12:50:04.511063100Z",
     "start_time": "2023-10-29T12:50:04.494860500Z"
    }
   },
   "source": [
    "np.where(pd.isnull(a),a,b)"
   ],
   "execution_count": 51,
   "outputs": [
    {
     "data": {
      "text/plain": "array([nan,  1., nan,  3.,  4., nan])"
     },
     "execution_count": 51,
     "metadata": {},
     "output_type": "execute_result"
    }
   ]
  },
  {
   "cell_type": "markdown",
   "metadata": {
    "id": "9TZigSfuIJqR"
   },
   "source": [
    "`combine_first` combine the data the series\n",
    "```python\n",
    "b[:-2].combine_first(a[2:])\n",
    "```"
   ]
  },
  {
   "cell_type": "code",
   "metadata": {
    "id": "-8gW1Iu9IU3J",
    "colab": {
     "base_uri": "https://localhost:8080/"
    },
    "outputId": "1acc74ef-952c-4921-d812-d1657d4fe8e4",
    "ExecuteTime": {
     "end_time": "2023-10-29T12:50:10.119548900Z",
     "start_time": "2023-10-29T12:50:10.103923100Z"
    }
   },
   "source": [
    "b[:-2].combine_first(a[2:])"
   ],
   "execution_count": 52,
   "outputs": [
    {
     "data": {
      "text/plain": "a    NaN\nb    4.5\nc    3.0\nd    2.0\ne    1.0\nf    0.0\ndtype: float64"
     },
     "execution_count": 52,
     "metadata": {},
     "output_type": "execute_result"
    }
   ]
  },
  {
   "cell_type": "markdown",
   "metadata": {
    "id": "F9DXX3VpIdF-"
   },
   "source": [
    "`combine_first` for the Dataframe will do the same thing but with all column by column.\n",
    "\n",
    "It is similar to *patching* the data (replace the data in `NaN` position."
   ]
  },
  {
   "cell_type": "code",
   "metadata": {
    "id": "A6YBy8z2Jacj",
    "colab": {
     "base_uri": "https://localhost:8080/"
    },
    "outputId": "f6ffdc0d-89e4-4d58-d392-a0136661df8a"
   },
   "source": [
    "df1 = pd.DataFrame({'a': [1., np.nan, 5., np.nan],\n",
    " 'b': [np.nan, 2., np.nan, 6.],\n",
    " 'c': range(2, 18, 4)})\n",
    "df2 = pd.DataFrame({'a': [5., 4., np.nan, 3., 7.],\n",
    " 'b': [np.nan, 3., 4., 6., 8.]})\n",
    "df1"
   ],
   "execution_count": null,
   "outputs": []
  },
  {
   "cell_type": "code",
   "metadata": {
    "id": "pafDUJKiJh_Y",
    "colab": {
     "base_uri": "https://localhost:8080/"
    },
    "outputId": "2ee84bdd-9f8b-40d2-bab1-cac065d2d06c",
    "ExecuteTime": {
     "end_time": "2023-10-29T12:50:15.948195400Z",
     "start_time": "2023-10-29T12:50:15.869553100Z"
    }
   },
   "source": [
    "df1 = pd.DataFrame({'a': [1., np.nan, 5., np.nan],\n",
    " 'b': [np.nan, 2., np.nan, 6.],\n",
    " 'c': range(2, 18, 4)})\n",
    "df2 = pd.DataFrame({'a': [5., 4., np.nan, 3., 7.],\n",
    " 'b': [np.nan, 3., 4., 6., 8.]})\n",
    "df1"
   ],
   "execution_count": 53,
   "outputs": [
    {
     "data": {
      "text/plain": "     a    b   c\n0  1.0  NaN   2\n1  NaN  2.0   6\n2  5.0  NaN  10\n3  NaN  6.0  14",
      "text/html": "<div>\n<style scoped>\n    .dataframe tbody tr th:only-of-type {\n        vertical-align: middle;\n    }\n\n    .dataframe tbody tr th {\n        vertical-align: top;\n    }\n\n    .dataframe thead th {\n        text-align: right;\n    }\n</style>\n<table border=\"1\" class=\"dataframe\">\n  <thead>\n    <tr style=\"text-align: right;\">\n      <th></th>\n      <th>a</th>\n      <th>b</th>\n      <th>c</th>\n    </tr>\n  </thead>\n  <tbody>\n    <tr>\n      <th>0</th>\n      <td>1.0</td>\n      <td>NaN</td>\n      <td>2</td>\n    </tr>\n    <tr>\n      <th>1</th>\n      <td>NaN</td>\n      <td>2.0</td>\n      <td>6</td>\n    </tr>\n    <tr>\n      <th>2</th>\n      <td>5.0</td>\n      <td>NaN</td>\n      <td>10</td>\n    </tr>\n    <tr>\n      <th>3</th>\n      <td>NaN</td>\n      <td>6.0</td>\n      <td>14</td>\n    </tr>\n  </tbody>\n</table>\n</div>"
     },
     "execution_count": 53,
     "metadata": {},
     "output_type": "execute_result"
    }
   ]
  },
  {
   "cell_type": "markdown",
   "source": [
    "try\n",
    "```python\n",
    "df1.combine_first(df2)\n",
    "```\n"
   ],
   "metadata": {
    "collapsed": false
   }
  },
  {
   "cell_type": "code",
   "metadata": {
    "id": "AGi6GYdQJl7W",
    "colab": {
     "base_uri": "https://localhost:8080/"
    },
    "outputId": "640de041-1781-465f-ec77-25e9d4d4bc53",
    "ExecuteTime": {
     "end_time": "2023-10-29T12:50:23.091532400Z",
     "start_time": "2023-10-29T12:50:23.044194400Z"
    }
   },
   "source": [
    "df1.combine_first(df2)"
   ],
   "execution_count": 54,
   "outputs": [
    {
     "data": {
      "text/plain": "     a    b     c\n0  1.0  NaN   2.0\n1  4.0  2.0   6.0\n2  5.0  4.0  10.0\n3  3.0  6.0  14.0\n4  7.0  8.0   NaN",
      "text/html": "<div>\n<style scoped>\n    .dataframe tbody tr th:only-of-type {\n        vertical-align: middle;\n    }\n\n    .dataframe tbody tr th {\n        vertical-align: top;\n    }\n\n    .dataframe thead th {\n        text-align: right;\n    }\n</style>\n<table border=\"1\" class=\"dataframe\">\n  <thead>\n    <tr style=\"text-align: right;\">\n      <th></th>\n      <th>a</th>\n      <th>b</th>\n      <th>c</th>\n    </tr>\n  </thead>\n  <tbody>\n    <tr>\n      <th>0</th>\n      <td>1.0</td>\n      <td>NaN</td>\n      <td>2.0</td>\n    </tr>\n    <tr>\n      <th>1</th>\n      <td>4.0</td>\n      <td>2.0</td>\n      <td>6.0</td>\n    </tr>\n    <tr>\n      <th>2</th>\n      <td>5.0</td>\n      <td>4.0</td>\n      <td>10.0</td>\n    </tr>\n    <tr>\n      <th>3</th>\n      <td>3.0</td>\n      <td>6.0</td>\n      <td>14.0</td>\n    </tr>\n    <tr>\n      <th>4</th>\n      <td>7.0</td>\n      <td>8.0</td>\n      <td>NaN</td>\n    </tr>\n  </tbody>\n</table>\n</div>"
     },
     "execution_count": 54,
     "metadata": {},
     "output_type": "execute_result"
    }
   ]
  },
  {
   "cell_type": "markdown",
   "source": [
    "```python\n",
    "df2.combine_first(df1)\n",
    "```"
   ],
   "metadata": {
    "collapsed": false
   }
  },
  {
   "cell_type": "code",
   "metadata": {
    "id": "4trKBYl9J02n",
    "colab": {
     "base_uri": "https://localhost:8080/"
    },
    "outputId": "909c09f5-276e-4ddd-f819-fa9ea00d3cfe",
    "ExecuteTime": {
     "end_time": "2023-10-29T12:50:28.095145Z",
     "start_time": "2023-10-29T12:50:28.000885800Z"
    }
   },
   "source": [
    "df2.combine_first(df1)"
   ],
   "execution_count": 55,
   "outputs": [
    {
     "data": {
      "text/plain": "     a    b     c\n0  5.0  NaN   2.0\n1  4.0  3.0   6.0\n2  5.0  4.0  10.0\n3  3.0  6.0  14.0\n4  7.0  8.0   NaN",
      "text/html": "<div>\n<style scoped>\n    .dataframe tbody tr th:only-of-type {\n        vertical-align: middle;\n    }\n\n    .dataframe tbody tr th {\n        vertical-align: top;\n    }\n\n    .dataframe thead th {\n        text-align: right;\n    }\n</style>\n<table border=\"1\" class=\"dataframe\">\n  <thead>\n    <tr style=\"text-align: right;\">\n      <th></th>\n      <th>a</th>\n      <th>b</th>\n      <th>c</th>\n    </tr>\n  </thead>\n  <tbody>\n    <tr>\n      <th>0</th>\n      <td>5.0</td>\n      <td>NaN</td>\n      <td>2.0</td>\n    </tr>\n    <tr>\n      <th>1</th>\n      <td>4.0</td>\n      <td>3.0</td>\n      <td>6.0</td>\n    </tr>\n    <tr>\n      <th>2</th>\n      <td>5.0</td>\n      <td>4.0</td>\n      <td>10.0</td>\n    </tr>\n    <tr>\n      <th>3</th>\n      <td>3.0</td>\n      <td>6.0</td>\n      <td>14.0</td>\n    </tr>\n    <tr>\n      <th>4</th>\n      <td>7.0</td>\n      <td>8.0</td>\n      <td>NaN</td>\n    </tr>\n  </tbody>\n</table>\n</div>"
     },
     "execution_count": 55,
     "metadata": {},
     "output_type": "execute_result"
    }
   ]
  },
  {
   "cell_type": "markdown",
   "metadata": {
    "id": "AhwCZo8DNQiF"
   },
   "source": [
    "# Reshaping and Pivoting\n",
    "\n"
   ]
  },
  {
   "cell_type": "markdown",
   "metadata": {
    "id": "bAsdbNjDNWYb"
   },
   "source": [
    "## Reshaping with Hierachical Indexing\n",
    "\n",
    "Using the Hierarchical Indexing can reshape data in different way\n",
    "\n",
    "The operations we can use are\n",
    "\n",
    "\n",
    "\n",
    "*   `stack` rotate or pivots from the columns in the data to the rows\n",
    "*   `unstack` privots from the rows into the columns\n",
    "\n"
   ]
  },
  {
   "cell_type": "code",
   "metadata": {
    "id": "A1fijSOxN3fq",
    "colab": {
     "base_uri": "https://localhost:8080/",
     "height": 143
    },
    "outputId": "b787c55d-58e1-42dc-f046-515d848d3869",
    "ExecuteTime": {
     "end_time": "2023-10-29T12:50:33.298636400Z",
     "start_time": "2023-10-29T12:50:33.251564Z"
    }
   },
   "source": [
    "data = pd.DataFrame(np.arange(6).reshape((2, 3)),\n",
    "    index=pd.Index(['Ohio', 'Colorado'], name='state'),\n",
    "    columns=pd.Index(['one', 'two', 'three'],\n",
    "    name='number'))\n",
    "data"
   ],
   "execution_count": 56,
   "outputs": [
    {
     "data": {
      "text/plain": "number    one  two  three\nstate                    \nOhio        0    1      2\nColorado    3    4      5",
      "text/html": "<div>\n<style scoped>\n    .dataframe tbody tr th:only-of-type {\n        vertical-align: middle;\n    }\n\n    .dataframe tbody tr th {\n        vertical-align: top;\n    }\n\n    .dataframe thead th {\n        text-align: right;\n    }\n</style>\n<table border=\"1\" class=\"dataframe\">\n  <thead>\n    <tr style=\"text-align: right;\">\n      <th>number</th>\n      <th>one</th>\n      <th>two</th>\n      <th>three</th>\n    </tr>\n    <tr>\n      <th>state</th>\n      <th></th>\n      <th></th>\n      <th></th>\n    </tr>\n  </thead>\n  <tbody>\n    <tr>\n      <th>Ohio</th>\n      <td>0</td>\n      <td>1</td>\n      <td>2</td>\n    </tr>\n    <tr>\n      <th>Colorado</th>\n      <td>3</td>\n      <td>4</td>\n      <td>5</td>\n    </tr>\n  </tbody>\n</table>\n</div>"
     },
     "execution_count": 56,
     "metadata": {},
     "output_type": "execute_result"
    }
   ]
  },
  {
   "cell_type": "markdown",
   "metadata": {
    "id": "TaOuD_e1OACV"
   },
   "source": [
    "Using the `stack` to pivot the columns into the rows, produce a serie from the data frame\n",
    "\n"
   ]
  },
  {
   "cell_type": "markdown",
   "source": [
    "```python\n",
    "result = data.stack()\n",
    "result\n",
    "```"
   ],
   "metadata": {
    "collapsed": false
   }
  },
  {
   "cell_type": "code",
   "metadata": {
    "id": "exf5HcUtOLD3",
    "colab": {
     "base_uri": "https://localhost:8080/"
    },
    "outputId": "aa8ab1cf-c5e6-4e18-dd3f-b4519ccea7fa",
    "ExecuteTime": {
     "end_time": "2023-10-29T12:50:40.782372400Z",
     "start_time": "2023-10-29T12:50:40.766724300Z"
    }
   },
   "source": [
    "result = data.stack()\n",
    "result"
   ],
   "execution_count": 57,
   "outputs": [
    {
     "data": {
      "text/plain": "state     number\nOhio      one       0\n          two       1\n          three     2\nColorado  one       3\n          two       4\n          three     5\ndtype: int32"
     },
     "execution_count": 57,
     "metadata": {},
     "output_type": "execute_result"
    }
   ]
  },
  {
   "cell_type": "markdown",
   "metadata": {
    "id": "gcSLkJVTORMN"
   },
   "source": [
    "from hierachically indexed Series, we can rearrange into a DataFrame with `unstack`\n",
    "```python\n",
    "result.unstack()\n",
    "```"
   ]
  },
  {
   "cell_type": "code",
   "metadata": {
    "id": "29AqDZVLOgdu",
    "colab": {
     "base_uri": "https://localhost:8080/",
     "height": 143
    },
    "outputId": "4398b8bc-d12d-42f2-bd96-f44b3d7b5efb",
    "ExecuteTime": {
     "end_time": "2023-10-29T12:50:46.621696500Z",
     "start_time": "2023-10-29T12:50:46.574808200Z"
    }
   },
   "source": [
    "result.unstack()"
   ],
   "execution_count": 58,
   "outputs": [
    {
     "data": {
      "text/plain": "number    one  two  three\nstate                    \nOhio        0    1      2\nColorado    3    4      5",
      "text/html": "<div>\n<style scoped>\n    .dataframe tbody tr th:only-of-type {\n        vertical-align: middle;\n    }\n\n    .dataframe tbody tr th {\n        vertical-align: top;\n    }\n\n    .dataframe thead th {\n        text-align: right;\n    }\n</style>\n<table border=\"1\" class=\"dataframe\">\n  <thead>\n    <tr style=\"text-align: right;\">\n      <th>number</th>\n      <th>one</th>\n      <th>two</th>\n      <th>three</th>\n    </tr>\n    <tr>\n      <th>state</th>\n      <th></th>\n      <th></th>\n      <th></th>\n    </tr>\n  </thead>\n  <tbody>\n    <tr>\n      <th>Ohio</th>\n      <td>0</td>\n      <td>1</td>\n      <td>2</td>\n    </tr>\n    <tr>\n      <th>Colorado</th>\n      <td>3</td>\n      <td>4</td>\n      <td>5</td>\n    </tr>\n  </tbody>\n</table>\n</div>"
     },
     "execution_count": 58,
     "metadata": {},
     "output_type": "execute_result"
    }
   ]
  },
  {
   "cell_type": "markdown",
   "metadata": {
    "id": "uDFKjCWFPVL7"
   },
   "source": [
    "By the default the innermost level is unstacked, we can unstadck the different level by pasing the level name.\n",
    "```python\n",
    "result.unstack('state')\n",
    "```"
   ]
  },
  {
   "cell_type": "code",
   "metadata": {
    "id": "Lu7z15-GPesW",
    "colab": {
     "base_uri": "https://localhost:8080/",
     "height": 175
    },
    "outputId": "400d40c0-a544-4c9b-874f-107e843875d5",
    "ExecuteTime": {
     "end_time": "2023-10-29T12:50:51.254003800Z",
     "start_time": "2023-10-29T12:50:51.206721Z"
    }
   },
   "source": [
    "result.unstack('state')"
   ],
   "execution_count": 59,
   "outputs": [
    {
     "data": {
      "text/plain": "state   Ohio  Colorado\nnumber                \none        0         3\ntwo        1         4\nthree      2         5",
      "text/html": "<div>\n<style scoped>\n    .dataframe tbody tr th:only-of-type {\n        vertical-align: middle;\n    }\n\n    .dataframe tbody tr th {\n        vertical-align: top;\n    }\n\n    .dataframe thead th {\n        text-align: right;\n    }\n</style>\n<table border=\"1\" class=\"dataframe\">\n  <thead>\n    <tr style=\"text-align: right;\">\n      <th>state</th>\n      <th>Ohio</th>\n      <th>Colorado</th>\n    </tr>\n    <tr>\n      <th>number</th>\n      <th></th>\n      <th></th>\n    </tr>\n  </thead>\n  <tbody>\n    <tr>\n      <th>one</th>\n      <td>0</td>\n      <td>3</td>\n    </tr>\n    <tr>\n      <th>two</th>\n      <td>1</td>\n      <td>4</td>\n    </tr>\n    <tr>\n      <th>three</th>\n      <td>2</td>\n      <td>5</td>\n    </tr>\n  </tbody>\n</table>\n</div>"
     },
     "execution_count": 59,
     "metadata": {},
     "output_type": "execute_result"
    }
   ]
  },
  {
   "cell_type": "markdown",
   "metadata": {
    "id": "jGWbH1bBPm4g"
   },
   "source": [
    "unstack may introduce the missing data if all of the value in the level is ont found in each group"
   ]
  },
  {
   "cell_type": "code",
   "metadata": {
    "id": "6W0dnS_zOxZw",
    "colab": {
     "base_uri": "https://localhost:8080/"
    },
    "outputId": "9a1c3d9b-7210-41e0-8a7d-f83d2dc39698",
    "ExecuteTime": {
     "end_time": "2023-10-29T12:50:56.394683900Z",
     "start_time": "2023-10-29T12:50:56.363175600Z"
    }
   },
   "source": [
    "s1 = pd.Series([0, 1, 2, 3], index=['a', 'b', 'c', 'd'])\n",
    "s2 = pd.Series([4, 5, 6], index=['c', 'd', 'e'])\n",
    "data2 = pd.concat([s1, s2], keys=['one', 'two'])\n",
    "data2"
   ],
   "execution_count": 60,
   "outputs": [
    {
     "data": {
      "text/plain": "one  a    0\n     b    1\n     c    2\n     d    3\ntwo  c    4\n     d    5\n     e    6\ndtype: int64"
     },
     "execution_count": 60,
     "metadata": {},
     "output_type": "execute_result"
    }
   ]
  },
  {
   "cell_type": "markdown",
   "source": [
    "try to do unstack\n",
    "```python\n",
    "data2.unstack()\n",
    "```"
   ],
   "metadata": {
    "collapsed": false
   }
  },
  {
   "cell_type": "code",
   "metadata": {
    "id": "7rj_VypRQMDT",
    "colab": {
     "base_uri": "https://localhost:8080/",
     "height": 112
    },
    "outputId": "2203903b-39bb-49ec-c4c3-40a0748d1675",
    "ExecuteTime": {
     "end_time": "2023-10-29T12:51:01.184345200Z",
     "start_time": "2023-10-29T12:51:01.074552200Z"
    }
   },
   "source": [
    "data2.unstack()"
   ],
   "execution_count": 61,
   "outputs": [
    {
     "data": {
      "text/plain": "       a    b    c    d    e\none  0.0  1.0  2.0  3.0  NaN\ntwo  NaN  NaN  4.0  5.0  6.0",
      "text/html": "<div>\n<style scoped>\n    .dataframe tbody tr th:only-of-type {\n        vertical-align: middle;\n    }\n\n    .dataframe tbody tr th {\n        vertical-align: top;\n    }\n\n    .dataframe thead th {\n        text-align: right;\n    }\n</style>\n<table border=\"1\" class=\"dataframe\">\n  <thead>\n    <tr style=\"text-align: right;\">\n      <th></th>\n      <th>a</th>\n      <th>b</th>\n      <th>c</th>\n      <th>d</th>\n      <th>e</th>\n    </tr>\n  </thead>\n  <tbody>\n    <tr>\n      <th>one</th>\n      <td>0.0</td>\n      <td>1.0</td>\n      <td>2.0</td>\n      <td>3.0</td>\n      <td>NaN</td>\n    </tr>\n    <tr>\n      <th>two</th>\n      <td>NaN</td>\n      <td>NaN</td>\n      <td>4.0</td>\n      <td>5.0</td>\n      <td>6.0</td>\n    </tr>\n  </tbody>\n</table>\n</div>"
     },
     "execution_count": 61,
     "metadata": {},
     "output_type": "execute_result"
    }
   ]
  },
  {
   "cell_type": "markdown",
   "metadata": {
    "id": "fBDksi3_QRi7"
   },
   "source": [
    "Stacking filter out the missing data by default, to preseved the na when unstack `dropna=False ` is required\n",
    "```python\n",
    "data2.unstack().stack()\n",
    "```"
   ]
  },
  {
   "cell_type": "code",
   "metadata": {
    "id": "6Q10ie4jQfxq",
    "colab": {
     "base_uri": "https://localhost:8080/",
     "height": 112
    },
    "outputId": "4b504497-7144-456d-ca14-1c42aacdbffa",
    "ExecuteTime": {
     "end_time": "2023-10-29T12:51:06.450061200Z",
     "start_time": "2023-10-29T12:51:06.418806900Z"
    }
   },
   "source": [
    "data2.unstack().stack()"
   ],
   "execution_count": 62,
   "outputs": [
    {
     "data": {
      "text/plain": "one  a    0.0\n     b    1.0\n     c    2.0\n     d    3.0\ntwo  c    4.0\n     d    5.0\n     e    6.0\ndtype: float64"
     },
     "execution_count": 62,
     "metadata": {},
     "output_type": "execute_result"
    }
   ]
  },
  {
   "cell_type": "code",
   "metadata": {
    "id": "AeD4K9GWQimR",
    "colab": {
     "base_uri": "https://localhost:8080/"
    },
    "outputId": "58d99516-6faf-4ccf-852c-c0bf01a33811"
   },
   "source": [],
   "execution_count": null,
   "outputs": []
  },
  {
   "cell_type": "markdown",
   "source": [
    "when using the dropna\n",
    "```python\n",
    "data2.unstack().stack(dropna=False)\n",
    "```"
   ],
   "metadata": {
    "collapsed": false
   }
  },
  {
   "cell_type": "code",
   "metadata": {
    "id": "CQxDR3QUQlMG",
    "colab": {
     "base_uri": "https://localhost:8080/"
    },
    "outputId": "47995825-2db4-4981-c687-a31698c2c710",
    "ExecuteTime": {
     "end_time": "2023-10-29T12:51:12.089239500Z",
     "start_time": "2023-10-29T12:51:12.014812100Z"
    }
   },
   "source": [
    "data2.unstack().stack(dropna=False)"
   ],
   "execution_count": 63,
   "outputs": [
    {
     "data": {
      "text/plain": "one  a    0.0\n     b    1.0\n     c    2.0\n     d    3.0\n     e    NaN\ntwo  a    NaN\n     b    NaN\n     c    4.0\n     d    5.0\n     e    6.0\ndtype: float64"
     },
     "execution_count": 63,
     "metadata": {},
     "output_type": "execute_result"
    }
   ]
  },
  {
   "cell_type": "markdown",
   "metadata": {
    "id": "fHxkoJjHQoXj"
   },
   "source": [
    "When you unstack in a DataFrame, the **level unstacked** becomes the lowest level in the result\n",
    "```python\n",
    "df = pd.DataFrame({'left': result, 'right': result + 5},\n",
    "                  columns=pd.Index(['left', 'right'], name='side'))\n",
    "df\n",
    "```"
   ]
  },
  {
   "cell_type": "code",
   "metadata": {
    "id": "bh4JfPpFQve5",
    "colab": {
     "base_uri": "https://localhost:8080/",
     "height": 269
    },
    "outputId": "fa527e70-8b98-46c5-9bf3-66241d635296",
    "ExecuteTime": {
     "end_time": "2023-10-29T12:51:19.505404400Z",
     "start_time": "2023-10-29T12:51:19.426841400Z"
    }
   },
   "source": [
    "df = pd.DataFrame({'left': result, 'right': result + 5},\n",
    "                  columns=pd.Index(['left', 'right'], name='side'))\n",
    "df"
   ],
   "execution_count": 64,
   "outputs": [
    {
     "data": {
      "text/plain": "side             left  right\nstate    number             \nOhio     one        0      5\n         two        1      6\n         three      2      7\nColorado one        3      8\n         two        4      9\n         three      5     10",
      "text/html": "<div>\n<style scoped>\n    .dataframe tbody tr th:only-of-type {\n        vertical-align: middle;\n    }\n\n    .dataframe tbody tr th {\n        vertical-align: top;\n    }\n\n    .dataframe thead th {\n        text-align: right;\n    }\n</style>\n<table border=\"1\" class=\"dataframe\">\n  <thead>\n    <tr style=\"text-align: right;\">\n      <th></th>\n      <th>side</th>\n      <th>left</th>\n      <th>right</th>\n    </tr>\n    <tr>\n      <th>state</th>\n      <th>number</th>\n      <th></th>\n      <th></th>\n    </tr>\n  </thead>\n  <tbody>\n    <tr>\n      <th rowspan=\"3\" valign=\"top\">Ohio</th>\n      <th>one</th>\n      <td>0</td>\n      <td>5</td>\n    </tr>\n    <tr>\n      <th>two</th>\n      <td>1</td>\n      <td>6</td>\n    </tr>\n    <tr>\n      <th>three</th>\n      <td>2</td>\n      <td>7</td>\n    </tr>\n    <tr>\n      <th rowspan=\"3\" valign=\"top\">Colorado</th>\n      <th>one</th>\n      <td>3</td>\n      <td>8</td>\n    </tr>\n    <tr>\n      <th>two</th>\n      <td>4</td>\n      <td>9</td>\n    </tr>\n    <tr>\n      <th>three</th>\n      <td>5</td>\n      <td>10</td>\n    </tr>\n  </tbody>\n</table>\n</div>"
     },
     "execution_count": 64,
     "metadata": {},
     "output_type": "execute_result"
    }
   ]
  },
  {
   "cell_type": "markdown",
   "source": [
    "try\n",
    "```python\n",
    "df.unstack('state')\n",
    "```"
   ],
   "metadata": {
    "collapsed": false
   }
  },
  {
   "cell_type": "code",
   "metadata": {
    "id": "Db_GAqH6Q-KL",
    "colab": {
     "base_uri": "https://localhost:8080/",
     "height": 206
    },
    "outputId": "111754cf-8e33-43cb-c539-89d75843b4e4",
    "ExecuteTime": {
     "end_time": "2023-10-29T12:51:24.193120900Z",
     "start_time": "2023-10-29T12:51:24.106975Z"
    }
   },
   "source": [
    "df.unstack('state')"
   ],
   "execution_count": 65,
   "outputs": [
    {
     "data": {
      "text/plain": "side   left          right         \nstate  Ohio Colorado  Ohio Colorado\nnumber                             \none       0        3     5        8\ntwo       1        4     6        9\nthree     2        5     7       10",
      "text/html": "<div>\n<style scoped>\n    .dataframe tbody tr th:only-of-type {\n        vertical-align: middle;\n    }\n\n    .dataframe tbody tr th {\n        vertical-align: top;\n    }\n\n    .dataframe thead tr th {\n        text-align: left;\n    }\n\n    .dataframe thead tr:last-of-type th {\n        text-align: right;\n    }\n</style>\n<table border=\"1\" class=\"dataframe\">\n  <thead>\n    <tr>\n      <th>side</th>\n      <th colspan=\"2\" halign=\"left\">left</th>\n      <th colspan=\"2\" halign=\"left\">right</th>\n    </tr>\n    <tr>\n      <th>state</th>\n      <th>Ohio</th>\n      <th>Colorado</th>\n      <th>Ohio</th>\n      <th>Colorado</th>\n    </tr>\n    <tr>\n      <th>number</th>\n      <th></th>\n      <th></th>\n      <th></th>\n      <th></th>\n    </tr>\n  </thead>\n  <tbody>\n    <tr>\n      <th>one</th>\n      <td>0</td>\n      <td>3</td>\n      <td>5</td>\n      <td>8</td>\n    </tr>\n    <tr>\n      <th>two</th>\n      <td>1</td>\n      <td>4</td>\n      <td>6</td>\n      <td>9</td>\n    </tr>\n    <tr>\n      <th>three</th>\n      <td>2</td>\n      <td>5</td>\n      <td>7</td>\n      <td>10</td>\n    </tr>\n  </tbody>\n</table>\n</div>"
     },
     "execution_count": 65,
     "metadata": {},
     "output_type": "execute_result"
    }
   ]
  },
  {
   "cell_type": "markdown",
   "source": [
    "we may use the state to stack the side\n",
    "```python\n",
    "df.unstack('state').stack('side')\n",
    "```"
   ],
   "metadata": {
    "collapsed": false
   }
  },
  {
   "cell_type": "code",
   "metadata": {
    "id": "dsqAx7zfRFa1",
    "colab": {
     "base_uri": "https://localhost:8080/",
     "height": 269
    },
    "outputId": "14b80c18-c57b-43cd-cab7-6965393b0867",
    "ExecuteTime": {
     "end_time": "2023-10-29T12:51:35.219569Z",
     "start_time": "2023-10-29T12:51:35.165161400Z"
    }
   },
   "source": [
    "df.unstack('state').stack('side')"
   ],
   "execution_count": 66,
   "outputs": [
    {
     "data": {
      "text/plain": "state         Colorado  Ohio\nnumber side                 \none    left          3     0\n       right         8     5\ntwo    left          4     1\n       right         9     6\nthree  left          5     2\n       right        10     7",
      "text/html": "<div>\n<style scoped>\n    .dataframe tbody tr th:only-of-type {\n        vertical-align: middle;\n    }\n\n    .dataframe tbody tr th {\n        vertical-align: top;\n    }\n\n    .dataframe thead th {\n        text-align: right;\n    }\n</style>\n<table border=\"1\" class=\"dataframe\">\n  <thead>\n    <tr style=\"text-align: right;\">\n      <th></th>\n      <th>state</th>\n      <th>Colorado</th>\n      <th>Ohio</th>\n    </tr>\n    <tr>\n      <th>number</th>\n      <th>side</th>\n      <th></th>\n      <th></th>\n    </tr>\n  </thead>\n  <tbody>\n    <tr>\n      <th rowspan=\"2\" valign=\"top\">one</th>\n      <th>left</th>\n      <td>3</td>\n      <td>0</td>\n    </tr>\n    <tr>\n      <th>right</th>\n      <td>8</td>\n      <td>5</td>\n    </tr>\n    <tr>\n      <th rowspan=\"2\" valign=\"top\">two</th>\n      <th>left</th>\n      <td>4</td>\n      <td>1</td>\n    </tr>\n    <tr>\n      <th>right</th>\n      <td>9</td>\n      <td>6</td>\n    </tr>\n    <tr>\n      <th rowspan=\"2\" valign=\"top\">three</th>\n      <th>left</th>\n      <td>5</td>\n      <td>2</td>\n    </tr>\n    <tr>\n      <th>right</th>\n      <td>10</td>\n      <td>7</td>\n    </tr>\n  </tbody>\n</table>\n</div>"
     },
     "execution_count": 66,
     "metadata": {},
     "output_type": "execute_result"
    }
   ]
  },
  {
   "cell_type": "markdown",
   "metadata": {
    "id": "hqmMGZXxU8md"
   },
   "source": [
    "# Work\n",
    "\n",
    "From the three files provided [here](https://github.com/jakevdp/data-USstates/)\n",
    "\n",
    "1. Bind all data to get the data frame which have the state/ abbreviation, and area(sq.mi)\n",
    "2. Bind the data to get the State, age, and population\n",
    "3. Create the multiple hierachy dataframe, which contains the age as sub hierachy. The column should be the year and population, and the year must be order.\n"
   ]
  },
  {
   "cell_type": "markdown",
   "metadata": {
    "id": "d-iItFmtjomT"
   },
   "source": [
    "1. Bind all data to get the data frame which have the state/ abbreviation, and area(sq.mi)"
   ]
  },
  {
   "cell_type": "code",
   "execution_count": 67,
   "outputs": [
    {
     "data": {
      "text/plain": "(        state abbreviation\n 0     Alabama           AL\n 1      Alaska           AK\n 2     Arizona           AZ\n 3    Arkansas           AR\n 4  California           CA,\n         state  area (sq. mi)\n 0     Alabama          52423\n 1      Alaska         656425\n 2     Arizona         114006\n 3    Arkansas          53182\n 4  California         163707,\n   state/region     ages  year  population\n 0           AL  under18  2012   1117489.0\n 1           AL    total  2012   4817528.0\n 2           AL  under18  2010   1130966.0\n 3           AL    total  2010   4785570.0\n 4           AL  under18  2011   1125763.0)"
     },
     "execution_count": 67,
     "metadata": {},
     "output_type": "execute_result"
    }
   ],
   "source": [
    "import pandas as pd\n",
    "\n",
    "abbrevs_file = 'C:/Users/Dell/Desktop/LectureNote/LectureNote_660632028/08. Data Wrangling/files/state-abbrevs.csv'\n",
    "areas_file = 'C:/Users/Dell/Desktop/LectureNote/LectureNote_660632028/08. Data Wrangling/files/state-areas.csv'\n",
    "population_file = 'C:/Users/Dell/Desktop/LectureNote/LectureNote_660632028/08. Data Wrangling/files/state-population.csv'\n",
    "\n",
    "state_abbrevs = pd.read_csv(abbrevs_file)\n",
    "state_areas = pd.read_csv(areas_file)\n",
    "state_population = pd.read_csv(population_file)\n",
    "\n",
    "state_abbrevs.head(), state_areas.head(), state_population.head()\n"
   ],
   "metadata": {
    "collapsed": false,
    "ExecuteTime": {
     "end_time": "2023-10-29T12:56:18.871552600Z",
     "start_time": "2023-10-29T12:56:18.729916800Z"
    }
   }
  },
  {
   "cell_type": "code",
   "execution_count": 68,
   "outputs": [
    {
     "data": {
      "text/plain": "        state abbreviation  area (sq. mi)\n0     Alabama           AL          52423\n1      Alaska           AK         656425\n2     Arizona           AZ         114006\n3    Arkansas           AR          53182\n4  California           CA         163707",
      "text/html": "<div>\n<style scoped>\n    .dataframe tbody tr th:only-of-type {\n        vertical-align: middle;\n    }\n\n    .dataframe tbody tr th {\n        vertical-align: top;\n    }\n\n    .dataframe thead th {\n        text-align: right;\n    }\n</style>\n<table border=\"1\" class=\"dataframe\">\n  <thead>\n    <tr style=\"text-align: right;\">\n      <th></th>\n      <th>state</th>\n      <th>abbreviation</th>\n      <th>area (sq. mi)</th>\n    </tr>\n  </thead>\n  <tbody>\n    <tr>\n      <th>0</th>\n      <td>Alabama</td>\n      <td>AL</td>\n      <td>52423</td>\n    </tr>\n    <tr>\n      <th>1</th>\n      <td>Alaska</td>\n      <td>AK</td>\n      <td>656425</td>\n    </tr>\n    <tr>\n      <th>2</th>\n      <td>Arizona</td>\n      <td>AZ</td>\n      <td>114006</td>\n    </tr>\n    <tr>\n      <th>3</th>\n      <td>Arkansas</td>\n      <td>AR</td>\n      <td>53182</td>\n    </tr>\n    <tr>\n      <th>4</th>\n      <td>California</td>\n      <td>CA</td>\n      <td>163707</td>\n    </tr>\n  </tbody>\n</table>\n</div>"
     },
     "execution_count": 68,
     "metadata": {},
     "output_type": "execute_result"
    }
   ],
   "source": [
    "combined_df = pd.merge(state_abbrevs, state_areas, on=\"state\")\n",
    "\n",
    "combined_df.head()"
   ],
   "metadata": {
    "collapsed": false,
    "ExecuteTime": {
     "end_time": "2023-10-29T12:56:58.127791Z",
     "start_time": "2023-10-29T12:56:58.077859300Z"
    }
   }
  },
  {
   "cell_type": "markdown",
   "metadata": {
    "id": "PB8quLLokoXs"
   },
   "source": [
    "2. Bind the data to get the State, age, and population"
   ]
  },
  {
   "cell_type": "code",
   "execution_count": 69,
   "outputs": [
    {
     "data": {
      "text/plain": "     state     ages  population\n0  Alabama  under18   1117489.0\n1  Alabama    total   4817528.0\n2  Alabama  under18   1130966.0\n3  Alabama    total   4785570.0\n4  Alabama  under18   1125763.0",
      "text/html": "<div>\n<style scoped>\n    .dataframe tbody tr th:only-of-type {\n        vertical-align: middle;\n    }\n\n    .dataframe tbody tr th {\n        vertical-align: top;\n    }\n\n    .dataframe thead th {\n        text-align: right;\n    }\n</style>\n<table border=\"1\" class=\"dataframe\">\n  <thead>\n    <tr style=\"text-align: right;\">\n      <th></th>\n      <th>state</th>\n      <th>ages</th>\n      <th>population</th>\n    </tr>\n  </thead>\n  <tbody>\n    <tr>\n      <th>0</th>\n      <td>Alabama</td>\n      <td>under18</td>\n      <td>1117489.0</td>\n    </tr>\n    <tr>\n      <th>1</th>\n      <td>Alabama</td>\n      <td>total</td>\n      <td>4817528.0</td>\n    </tr>\n    <tr>\n      <th>2</th>\n      <td>Alabama</td>\n      <td>under18</td>\n      <td>1130966.0</td>\n    </tr>\n    <tr>\n      <th>3</th>\n      <td>Alabama</td>\n      <td>total</td>\n      <td>4785570.0</td>\n    </tr>\n    <tr>\n      <th>4</th>\n      <td>Alabama</td>\n      <td>under18</td>\n      <td>1125763.0</td>\n    </tr>\n  </tbody>\n</table>\n</div>"
     },
     "execution_count": 69,
     "metadata": {},
     "output_type": "execute_result"
    }
   ],
   "source": [
    "population_with_state = pd.merge(state_population, state_abbrevs, left_on=\"state/region\", right_on=\"abbreviation\")\n",
    "\n",
    "population_data = population_with_state[[\"state\", \"ages\", \"population\"]]\n",
    "\n",
    "population_data.head()"
   ],
   "metadata": {
    "collapsed": false,
    "ExecuteTime": {
     "end_time": "2023-10-29T12:57:56.491890600Z",
     "start_time": "2023-10-29T12:57:56.428735600Z"
    }
   }
  },
  {
   "cell_type": "markdown",
   "metadata": {
    "id": "s5EfgdhamiiM"
   },
   "source": [
    "3. Create the multiple hierachy dataframe, which contains the age as sub hierachy. The column should be the year and population, and the year must be order."
   ]
  },
  {
   "cell_type": "code",
   "execution_count": 70,
   "outputs": [
    {
     "data": {
      "text/plain": "                population                                              \\\nyear                  1990       1991       1992       1993       1994   \nstate   ages                                                             \nAlabama total    4050055.0  4099156.0  4154014.0  4214202.0  4260229.0   \n        under18  1050041.0  1060794.0  1072873.0  1085606.0  1097180.0   \nAlaska  total     553290.0   570193.0   588736.0   599434.0   603308.0   \n        under18   177502.0   182180.0   184878.0   187190.0   187439.0   \nArizona total    3684097.0  3788576.0  3915740.0  4065440.0  4245089.0   \n\n                                                                        ...  \\\nyear                  1995       1996       1997       1998       1999  ...   \nstate   ages                                                            ...   \nAlabama total    4296800.0  4331103.0  4367935.0  4404701.0  4430141.0  ...   \n        under18  1110553.0  1112092.0  1122893.0  1118252.0  1121287.0  ...   \nAlaska  total     604412.0   608569.0   612968.0   619933.0   624779.0  ...   \n        under18   184990.0   185360.0   188280.0   192636.0   191422.0  ...   \nArizona total    4432499.0  4586940.0  4736990.0  4883342.0  5023823.0  ...   \n\n                                                                        \\\nyear                  2004       2005       2006       2007       2008   \nstate   ages                                                             \nAlabama total    4530729.0  4569805.0  4628981.0  4672840.0  4718206.0   \n        under18  1113662.0  1117229.0  1126798.0  1132296.0  1134927.0   \nAlaska  total     659286.0   666946.0   675302.0   680300.0   687455.0   \n        under18   186335.0   185304.0   185580.0   184344.0   183124.0   \nArizona total    5652404.0  5839077.0  6029141.0  6167681.0  6280362.0   \n\n                                                                        \nyear                  2009       2010       2011       2012       2013  \nstate   ages                                                            \nAlabama total    4757938.0  4785570.0  4801627.0  4817528.0  4833722.0  \n        under18  1134192.0  1130966.0  1125763.0  1117489.0  1111481.0  \nAlaska  total     698895.0   713868.0   723375.0   730307.0   735132.0  \n        under18   186351.0   187902.0   188329.0   188162.0   188132.0  \nArizona total    6343154.0  6408790.0  6468796.0  6551149.0  6626624.0  \n\n[5 rows x 24 columns]",
      "text/html": "<div>\n<style scoped>\n    .dataframe tbody tr th:only-of-type {\n        vertical-align: middle;\n    }\n\n    .dataframe tbody tr th {\n        vertical-align: top;\n    }\n\n    .dataframe thead tr th {\n        text-align: left;\n    }\n\n    .dataframe thead tr:last-of-type th {\n        text-align: right;\n    }\n</style>\n<table border=\"1\" class=\"dataframe\">\n  <thead>\n    <tr>\n      <th></th>\n      <th></th>\n      <th colspan=\"21\" halign=\"left\">population</th>\n    </tr>\n    <tr>\n      <th></th>\n      <th>year</th>\n      <th>1990</th>\n      <th>1991</th>\n      <th>1992</th>\n      <th>1993</th>\n      <th>1994</th>\n      <th>1995</th>\n      <th>1996</th>\n      <th>1997</th>\n      <th>1998</th>\n      <th>1999</th>\n      <th>...</th>\n      <th>2004</th>\n      <th>2005</th>\n      <th>2006</th>\n      <th>2007</th>\n      <th>2008</th>\n      <th>2009</th>\n      <th>2010</th>\n      <th>2011</th>\n      <th>2012</th>\n      <th>2013</th>\n    </tr>\n    <tr>\n      <th>state</th>\n      <th>ages</th>\n      <th></th>\n      <th></th>\n      <th></th>\n      <th></th>\n      <th></th>\n      <th></th>\n      <th></th>\n      <th></th>\n      <th></th>\n      <th></th>\n      <th></th>\n      <th></th>\n      <th></th>\n      <th></th>\n      <th></th>\n      <th></th>\n      <th></th>\n      <th></th>\n      <th></th>\n      <th></th>\n      <th></th>\n    </tr>\n  </thead>\n  <tbody>\n    <tr>\n      <th rowspan=\"2\" valign=\"top\">Alabama</th>\n      <th>total</th>\n      <td>4050055.0</td>\n      <td>4099156.0</td>\n      <td>4154014.0</td>\n      <td>4214202.0</td>\n      <td>4260229.0</td>\n      <td>4296800.0</td>\n      <td>4331103.0</td>\n      <td>4367935.0</td>\n      <td>4404701.0</td>\n      <td>4430141.0</td>\n      <td>...</td>\n      <td>4530729.0</td>\n      <td>4569805.0</td>\n      <td>4628981.0</td>\n      <td>4672840.0</td>\n      <td>4718206.0</td>\n      <td>4757938.0</td>\n      <td>4785570.0</td>\n      <td>4801627.0</td>\n      <td>4817528.0</td>\n      <td>4833722.0</td>\n    </tr>\n    <tr>\n      <th>under18</th>\n      <td>1050041.0</td>\n      <td>1060794.0</td>\n      <td>1072873.0</td>\n      <td>1085606.0</td>\n      <td>1097180.0</td>\n      <td>1110553.0</td>\n      <td>1112092.0</td>\n      <td>1122893.0</td>\n      <td>1118252.0</td>\n      <td>1121287.0</td>\n      <td>...</td>\n      <td>1113662.0</td>\n      <td>1117229.0</td>\n      <td>1126798.0</td>\n      <td>1132296.0</td>\n      <td>1134927.0</td>\n      <td>1134192.0</td>\n      <td>1130966.0</td>\n      <td>1125763.0</td>\n      <td>1117489.0</td>\n      <td>1111481.0</td>\n    </tr>\n    <tr>\n      <th rowspan=\"2\" valign=\"top\">Alaska</th>\n      <th>total</th>\n      <td>553290.0</td>\n      <td>570193.0</td>\n      <td>588736.0</td>\n      <td>599434.0</td>\n      <td>603308.0</td>\n      <td>604412.0</td>\n      <td>608569.0</td>\n      <td>612968.0</td>\n      <td>619933.0</td>\n      <td>624779.0</td>\n      <td>...</td>\n      <td>659286.0</td>\n      <td>666946.0</td>\n      <td>675302.0</td>\n      <td>680300.0</td>\n      <td>687455.0</td>\n      <td>698895.0</td>\n      <td>713868.0</td>\n      <td>723375.0</td>\n      <td>730307.0</td>\n      <td>735132.0</td>\n    </tr>\n    <tr>\n      <th>under18</th>\n      <td>177502.0</td>\n      <td>182180.0</td>\n      <td>184878.0</td>\n      <td>187190.0</td>\n      <td>187439.0</td>\n      <td>184990.0</td>\n      <td>185360.0</td>\n      <td>188280.0</td>\n      <td>192636.0</td>\n      <td>191422.0</td>\n      <td>...</td>\n      <td>186335.0</td>\n      <td>185304.0</td>\n      <td>185580.0</td>\n      <td>184344.0</td>\n      <td>183124.0</td>\n      <td>186351.0</td>\n      <td>187902.0</td>\n      <td>188329.0</td>\n      <td>188162.0</td>\n      <td>188132.0</td>\n    </tr>\n    <tr>\n      <th>Arizona</th>\n      <th>total</th>\n      <td>3684097.0</td>\n      <td>3788576.0</td>\n      <td>3915740.0</td>\n      <td>4065440.0</td>\n      <td>4245089.0</td>\n      <td>4432499.0</td>\n      <td>4586940.0</td>\n      <td>4736990.0</td>\n      <td>4883342.0</td>\n      <td>5023823.0</td>\n      <td>...</td>\n      <td>5652404.0</td>\n      <td>5839077.0</td>\n      <td>6029141.0</td>\n      <td>6167681.0</td>\n      <td>6280362.0</td>\n      <td>6343154.0</td>\n      <td>6408790.0</td>\n      <td>6468796.0</td>\n      <td>6551149.0</td>\n      <td>6626624.0</td>\n    </tr>\n  </tbody>\n</table>\n<p>5 rows × 24 columns</p>\n</div>"
     },
     "execution_count": 70,
     "metadata": {},
     "output_type": "execute_result"
    }
   ],
   "source": [
    "population_with_state = pd.merge(state_population, state_abbrevs, left_on=\"state/region\", right_on=\"abbreviation\")\n",
    "\n",
    "population_with_state = population_with_state.drop(columns=[\"state/region\", \"abbreviation\"])\n",
    "\n",
    "hierarchy_df = population_with_state.set_index([\"state\", \"ages\", \"year\"]).unstack(\"year\").sort_index(axis=1)\n",
    "\n",
    "hierarchy_df.head()"
   ],
   "metadata": {
    "collapsed": false,
    "ExecuteTime": {
     "end_time": "2023-10-29T12:59:07.714549Z",
     "start_time": "2023-10-29T12:59:07.635993Z"
    }
   }
  },
  {
   "cell_type": "code",
   "execution_count": null,
   "outputs": [],
   "source": [],
   "metadata": {
    "collapsed": false
   }
  }
 ]
}
